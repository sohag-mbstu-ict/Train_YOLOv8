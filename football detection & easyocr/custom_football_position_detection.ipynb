{
  "nbformat": 4,
  "nbformat_minor": 0,
  "metadata": {
    "colab": {
      "provenance": [],
      "gpuType": "T4"
    },
    "kernelspec": {
      "name": "python3",
      "display_name": "Python 3"
    },
    "language_info": {
      "name": "python"
    },
    "accelerator": "GPU"
  },
  "cells": [
    {
      "cell_type": "code",
      "execution_count": null,
      "metadata": {
        "id": "FtHdYmQp4xW0"
      },
      "outputs": [],
      "source": [
        "\n",
        "import cv2\n",
        "import numpy as np\n",
        "import pandas as pd\n",
        "from google.colab.patches import cv2_imshow\n"
      ]
    },
    {
      "cell_type": "code",
      "source": [
        "\n",
        "from google.colab import drive\n",
        "drive.mount(\"/Pandas\")\n"
      ],
      "metadata": {
        "colab": {
          "base_uri": "https://localhost:8080/"
        },
        "id": "WvdkhSBT4x2d",
        "outputId": "6bd2c84b-e8af-4328-95eb-7fd6035047fe"
      },
      "execution_count": null,
      "outputs": [
        {
          "output_type": "stream",
          "name": "stdout",
          "text": [
            "Mounted at /Pandas\n"
          ]
        }
      ]
    },
    {
      "cell_type": "code",
      "source": [
        "\n",
        "!pip install ultralytics\n"
      ],
      "metadata": {
        "colab": {
          "base_uri": "https://localhost:8080/"
        },
        "id": "-rodE-wF4x5l",
        "outputId": "d0694b62-ef17-436a-e5dc-24987416bc78"
      },
      "execution_count": null,
      "outputs": [
        {
          "output_type": "stream",
          "name": "stdout",
          "text": [
            "Collecting ultralytics\n",
            "  Downloading ultralytics-8.0.225-py3-none-any.whl (660 kB)\n",
            "\u001b[2K     \u001b[90m━━━━━━━━━━━━━━━━━━━━━━━━━━━━━━━━━━━━━━━━\u001b[0m \u001b[32m660.1/660.1 kB\u001b[0m \u001b[31m6.8 MB/s\u001b[0m eta \u001b[36m0:00:00\u001b[0m\n",
            "\u001b[?25hRequirement already satisfied: matplotlib>=3.3.0 in /usr/local/lib/python3.10/dist-packages (from ultralytics) (3.7.1)\n",
            "Requirement already satisfied: numpy>=1.22.2 in /usr/local/lib/python3.10/dist-packages (from ultralytics) (1.23.5)\n",
            "Requirement already satisfied: opencv-python>=4.6.0 in /usr/local/lib/python3.10/dist-packages (from ultralytics) (4.8.0.76)\n",
            "Requirement already satisfied: pillow>=7.1.2 in /usr/local/lib/python3.10/dist-packages (from ultralytics) (9.4.0)\n",
            "Requirement already satisfied: pyyaml>=5.3.1 in /usr/local/lib/python3.10/dist-packages (from ultralytics) (6.0.1)\n",
            "Requirement already satisfied: requests>=2.23.0 in /usr/local/lib/python3.10/dist-packages (from ultralytics) (2.31.0)\n",
            "Requirement already satisfied: scipy>=1.4.1 in /usr/local/lib/python3.10/dist-packages (from ultralytics) (1.11.4)\n",
            "Requirement already satisfied: torch>=1.8.0 in /usr/local/lib/python3.10/dist-packages (from ultralytics) (2.1.0+cu118)\n",
            "Requirement already satisfied: torchvision>=0.9.0 in /usr/local/lib/python3.10/dist-packages (from ultralytics) (0.16.0+cu118)\n",
            "Requirement already satisfied: tqdm>=4.64.0 in /usr/local/lib/python3.10/dist-packages (from ultralytics) (4.66.1)\n",
            "Requirement already satisfied: pandas>=1.1.4 in /usr/local/lib/python3.10/dist-packages (from ultralytics) (1.5.3)\n",
            "Requirement already satisfied: seaborn>=0.11.0 in /usr/local/lib/python3.10/dist-packages (from ultralytics) (0.12.2)\n",
            "Requirement already satisfied: psutil in /usr/local/lib/python3.10/dist-packages (from ultralytics) (5.9.5)\n",
            "Requirement already satisfied: py-cpuinfo in /usr/local/lib/python3.10/dist-packages (from ultralytics) (9.0.0)\n",
            "Collecting thop>=0.1.1 (from ultralytics)\n",
            "  Downloading thop-0.1.1.post2209072238-py3-none-any.whl (15 kB)\n",
            "Requirement already satisfied: contourpy>=1.0.1 in /usr/local/lib/python3.10/dist-packages (from matplotlib>=3.3.0->ultralytics) (1.2.0)\n",
            "Requirement already satisfied: cycler>=0.10 in /usr/local/lib/python3.10/dist-packages (from matplotlib>=3.3.0->ultralytics) (0.12.1)\n",
            "Requirement already satisfied: fonttools>=4.22.0 in /usr/local/lib/python3.10/dist-packages (from matplotlib>=3.3.0->ultralytics) (4.45.1)\n",
            "Requirement already satisfied: kiwisolver>=1.0.1 in /usr/local/lib/python3.10/dist-packages (from matplotlib>=3.3.0->ultralytics) (1.4.5)\n",
            "Requirement already satisfied: packaging>=20.0 in /usr/local/lib/python3.10/dist-packages (from matplotlib>=3.3.0->ultralytics) (23.2)\n",
            "Requirement already satisfied: pyparsing>=2.3.1 in /usr/local/lib/python3.10/dist-packages (from matplotlib>=3.3.0->ultralytics) (3.1.1)\n",
            "Requirement already satisfied: python-dateutil>=2.7 in /usr/local/lib/python3.10/dist-packages (from matplotlib>=3.3.0->ultralytics) (2.8.2)\n",
            "Requirement already satisfied: pytz>=2020.1 in /usr/local/lib/python3.10/dist-packages (from pandas>=1.1.4->ultralytics) (2023.3.post1)\n",
            "Requirement already satisfied: charset-normalizer<4,>=2 in /usr/local/lib/python3.10/dist-packages (from requests>=2.23.0->ultralytics) (3.3.2)\n",
            "Requirement already satisfied: idna<4,>=2.5 in /usr/local/lib/python3.10/dist-packages (from requests>=2.23.0->ultralytics) (3.6)\n",
            "Requirement already satisfied: urllib3<3,>=1.21.1 in /usr/local/lib/python3.10/dist-packages (from requests>=2.23.0->ultralytics) (2.0.7)\n",
            "Requirement already satisfied: certifi>=2017.4.17 in /usr/local/lib/python3.10/dist-packages (from requests>=2.23.0->ultralytics) (2023.11.17)\n",
            "Requirement already satisfied: filelock in /usr/local/lib/python3.10/dist-packages (from torch>=1.8.0->ultralytics) (3.13.1)\n",
            "Requirement already satisfied: typing-extensions in /usr/local/lib/python3.10/dist-packages (from torch>=1.8.0->ultralytics) (4.5.0)\n",
            "Requirement already satisfied: sympy in /usr/local/lib/python3.10/dist-packages (from torch>=1.8.0->ultralytics) (1.12)\n",
            "Requirement already satisfied: networkx in /usr/local/lib/python3.10/dist-packages (from torch>=1.8.0->ultralytics) (3.2.1)\n",
            "Requirement already satisfied: jinja2 in /usr/local/lib/python3.10/dist-packages (from torch>=1.8.0->ultralytics) (3.1.2)\n",
            "Requirement already satisfied: fsspec in /usr/local/lib/python3.10/dist-packages (from torch>=1.8.0->ultralytics) (2023.6.0)\n",
            "Requirement already satisfied: triton==2.1.0 in /usr/local/lib/python3.10/dist-packages (from torch>=1.8.0->ultralytics) (2.1.0)\n",
            "Requirement already satisfied: six>=1.5 in /usr/local/lib/python3.10/dist-packages (from python-dateutil>=2.7->matplotlib>=3.3.0->ultralytics) (1.16.0)\n",
            "Requirement already satisfied: MarkupSafe>=2.0 in /usr/local/lib/python3.10/dist-packages (from jinja2->torch>=1.8.0->ultralytics) (2.1.3)\n",
            "Requirement already satisfied: mpmath>=0.19 in /usr/local/lib/python3.10/dist-packages (from sympy->torch>=1.8.0->ultralytics) (1.3.0)\n",
            "Installing collected packages: thop, ultralytics\n",
            "Successfully installed thop-0.1.1.post2209072238 ultralytics-8.0.225\n"
          ]
        }
      ]
    },
    {
      "cell_type": "code",
      "source": [
        "\n",
        "\n",
        "from ultralytics import YOLO\n",
        "# model =YOLO('/Pandas/MyDrive/football_detection/best.pt')\n",
        "# model =YOLO('https://github.com/ultralytics/assets/releases/download/v0.0.0/yolov8x-pose-p6.pt')\n",
        "model =YOLO('https://github.com/ultralytics/assets/releases/download/v0.0.0/yolov8x.pt')\n",
        "\n"
      ],
      "metadata": {
        "colab": {
          "base_uri": "https://localhost:8080/"
        },
        "id": "HZ2-akWW4x8U",
        "outputId": "395502be-6e95-4dfc-9f5f-4a99a809462a"
      },
      "execution_count": null,
      "outputs": [
        {
          "output_type": "stream",
          "name": "stdout",
          "text": [
            "Downloading https://github.com/ultralytics/assets/releases/download/v0.0.0/yolov8x.pt to 'yolov8x.pt'...\n"
          ]
        },
        {
          "output_type": "stream",
          "name": "stderr",
          "text": [
            "100%|██████████| 131M/131M [00:01<00:00, 96.1MB/s]\n"
          ]
        }
      ]
    },
    {
      "cell_type": "code",
      "source": [
        "\n",
        "# !unzip /Pandas/MyDrive/football_position_detection/football_d.zip -d /Pandas/MyDrive/football_position_detection/"
      ],
      "metadata": {
        "id": "oqoa8DinqYhZ"
      },
      "execution_count": null,
      "outputs": []
    },
    {
      "cell_type": "code",
      "source": [
        "model.train(data='/Pandas/MyDrive/football_position_detection/data.yaml',\n",
        "            epochs=300,\n",
        "            # augment= True,\n",
        "            # hsv_h= 0.015,\n",
        "            # hsv_s= 0.7,\n",
        "            # hsv_v= 0.4,\n",
        "            # degrees= 45.0,\n",
        "            # translate= 0.1,\n",
        "            # scale= 0.5,\n",
        "            # shear= 0.0,\n",
        "            # flipud= 0.0,\n",
        "            # fliplr= 0.5,\n",
        "            pretrained= True,\n",
        "            # verbose = False\n",
        "\n",
        "            )\n"
      ],
      "metadata": {
        "colab": {
          "base_uri": "https://localhost:8080/"
        },
        "id": "sWGrP1jCld7Z",
        "outputId": "e3ac6f54-7053-416c-b5b4-d8edd3b9c3d9"
      },
      "execution_count": null,
      "outputs": [
        {
          "metadata": {
            "tags": null
          },
          "name": "stdout",
          "output_type": "stream",
          "text": [
            "Ultralytics YOLOv8.0.225 🚀 Python-3.10.12 torch-2.1.0+cu118 CUDA:0 (Tesla T4, 15102MiB)\n",
            "\u001b[34m\u001b[1mengine/trainer: \u001b[0mtask=detect, mode=train, model=https://github.com/ultralytics/assets/releases/download/v0.0.0/yolov8x.pt, data=/Pandas/MyDrive/football_position_detection/data.yaml, epochs=300, patience=50, batch=16, imgsz=640, save=True, save_period=-1, cache=False, device=None, workers=8, project=None, name=train, exist_ok=False, pretrained=True, optimizer=auto, verbose=True, seed=0, deterministic=True, single_cls=False, rect=False, cos_lr=False, close_mosaic=10, resume=False, amp=True, fraction=1.0, profile=False, freeze=None, overlap_mask=True, mask_ratio=4, dropout=0.0, val=True, split=val, save_json=False, save_hybrid=False, conf=None, iou=0.7, max_det=300, half=False, dnn=False, plots=True, source=None, vid_stride=1, stream_buffer=False, visualize=False, augment=False, agnostic_nms=False, classes=None, retina_masks=False, show=False, save_frames=False, save_txt=False, save_conf=False, save_crop=False, show_labels=True, show_conf=True, show_boxes=True, line_width=None, format=torchscript, keras=False, optimize=False, int8=False, dynamic=False, simplify=False, opset=None, workspace=4, nms=False, lr0=0.01, lrf=0.01, momentum=0.937, weight_decay=0.0005, warmup_epochs=3.0, warmup_momentum=0.8, warmup_bias_lr=0.1, box=7.5, cls=0.5, dfl=1.5, pose=12.0, kobj=1.0, label_smoothing=0.0, nbs=64, hsv_h=0.015, hsv_s=0.7, hsv_v=0.4, degrees=0.0, translate=0.1, scale=0.5, shear=0.0, perspective=0.0, flipud=0.0, fliplr=0.5, mosaic=1.0, mixup=0.0, copy_paste=0.0, cfg=None, tracker=botsort.yaml, save_dir=runs/detect/train\n",
            "Downloading https://ultralytics.com/assets/Arial.ttf to '/root/.config/Ultralytics/Arial.ttf'...\n"
          ]
        },
        {
          "metadata": {
            "tags": null
          },
          "name": "stderr",
          "output_type": "stream",
          "text": [
            "100%|██████████| 755k/755k [00:00<00:00, 4.07MB/s]\n"
          ]
        },
        {
          "metadata": {
            "tags": null
          },
          "name": "stdout",
          "output_type": "stream",
          "text": [
            "Overriding model.yaml nc=80 with nc=1\n",
            "\n",
            "                   from  n    params  module                                       arguments                     \n",
            "  0                  -1  1      2320  ultralytics.nn.modules.conv.Conv             [3, 80, 3, 2]                 \n",
            "  1                  -1  1    115520  ultralytics.nn.modules.conv.Conv             [80, 160, 3, 2]               \n",
            "  2                  -1  3    436800  ultralytics.nn.modules.block.C2f             [160, 160, 3, True]           \n",
            "  3                  -1  1    461440  ultralytics.nn.modules.conv.Conv             [160, 320, 3, 2]              \n",
            "  4                  -1  6   3281920  ultralytics.nn.modules.block.C2f             [320, 320, 6, True]           \n",
            "  5                  -1  1   1844480  ultralytics.nn.modules.conv.Conv             [320, 640, 3, 2]              \n",
            "  6                  -1  6  13117440  ultralytics.nn.modules.block.C2f             [640, 640, 6, True]           \n",
            "  7                  -1  1   3687680  ultralytics.nn.modules.conv.Conv             [640, 640, 3, 2]              \n",
            "  8                  -1  3   6969600  ultralytics.nn.modules.block.C2f             [640, 640, 3, True]           \n",
            "  9                  -1  1   1025920  ultralytics.nn.modules.block.SPPF            [640, 640, 5]                 \n",
            " 10                  -1  1         0  torch.nn.modules.upsampling.Upsample         [None, 2, 'nearest']          \n",
            " 11             [-1, 6]  1         0  ultralytics.nn.modules.conv.Concat           [1]                           \n",
            " 12                  -1  3   7379200  ultralytics.nn.modules.block.C2f             [1280, 640, 3]                \n",
            " 13                  -1  1         0  torch.nn.modules.upsampling.Upsample         [None, 2, 'nearest']          \n",
            " 14             [-1, 4]  1         0  ultralytics.nn.modules.conv.Concat           [1]                           \n",
            " 15                  -1  3   1948800  ultralytics.nn.modules.block.C2f             [960, 320, 3]                 \n",
            " 16                  -1  1    922240  ultralytics.nn.modules.conv.Conv             [320, 320, 3, 2]              \n",
            " 17            [-1, 12]  1         0  ultralytics.nn.modules.conv.Concat           [1]                           \n",
            " 18                  -1  3   7174400  ultralytics.nn.modules.block.C2f             [960, 640, 3]                 \n",
            " 19                  -1  1   3687680  ultralytics.nn.modules.conv.Conv             [640, 640, 3, 2]              \n",
            " 20             [-1, 9]  1         0  ultralytics.nn.modules.conv.Concat           [1]                           \n",
            " 21                  -1  3   7379200  ultralytics.nn.modules.block.C2f             [1280, 640, 3]                \n",
            " 22        [15, 18, 21]  1   8718931  ultralytics.nn.modules.head.Detect           [1, [320, 640, 640]]          \n",
            "Model summary: 365 layers, 68153571 parameters, 68153555 gradients, 258.1 GFLOPs\n",
            "\n",
            "Transferred 589/595 items from pretrained weights\n",
            "\u001b[34m\u001b[1mTensorBoard: \u001b[0mStart with 'tensorboard --logdir runs/detect/train', view at http://localhost:6006/\n",
            "Freezing layer 'model.22.dfl.conv.weight'\n",
            "\u001b[34m\u001b[1mAMP: \u001b[0mrunning Automatic Mixed Precision (AMP) checks with YOLOv8n...\n",
            "Downloading https://github.com/ultralytics/assets/releases/download/v0.0.0/yolov8n.pt to 'yolov8n.pt'...\n"
          ]
        },
        {
          "metadata": {
            "tags": null
          },
          "name": "stderr",
          "output_type": "stream",
          "text": [
            "100%|██████████| 6.23M/6.23M [00:00<00:00, 21.0MB/s]\n"
          ]
        },
        {
          "metadata": {
            "tags": null
          },
          "name": "stdout",
          "output_type": "stream",
          "text": [
            "\u001b[34m\u001b[1mAMP: \u001b[0mchecks passed ✅\n"
          ]
        },
        {
          "metadata": {
            "tags": null
          },
          "name": "stderr",
          "output_type": "stream",
          "text": [
            "\u001b[34m\u001b[1mtrain: \u001b[0mScanning /Pandas/MyDrive/football_position_detection/football_d/labels/train.cache... 262 images, 0 backgrounds, 0 corrupt: 100%|██████████| 262/262 [00:00<?, ?it/s]\n"
          ]
        },
        {
          "metadata": {
            "tags": null
          },
          "name": "stdout",
          "output_type": "stream",
          "text": [
            "\u001b[34m\u001b[1malbumentations: \u001b[0mBlur(p=0.01, blur_limit=(3, 7)), MedianBlur(p=0.01, blur_limit=(3, 7)), ToGray(p=0.01), CLAHE(p=0.01, clip_limit=(1, 4.0), tile_grid_size=(8, 8))\n"
          ]
        },
        {
          "metadata": {
            "tags": null
          },
          "name": "stderr",
          "output_type": "stream",
          "text": [
            "\u001b[34m\u001b[1mval: \u001b[0mScanning /Pandas/MyDrive/football_position_detection/football_d/labels/val.cache... 75 images, 0 backgrounds, 0 corrupt: 100%|██████████| 75/75 [00:00<?, ?it/s]\n"
          ]
        },
        {
          "metadata": {
            "tags": null
          },
          "name": "stdout",
          "output_type": "stream",
          "text": [
            "Plotting labels to runs/detect/train/labels.jpg... \n",
            "\u001b[34m\u001b[1moptimizer:\u001b[0m 'optimizer=auto' found, ignoring 'lr0=0.01' and 'momentum=0.937' and determining best 'optimizer', 'lr0' and 'momentum' automatically... \n",
            "\u001b[34m\u001b[1moptimizer:\u001b[0m AdamW(lr=0.002, momentum=0.9) with parameter groups 97 weight(decay=0.0), 104 weight(decay=0.0005), 103 bias(decay=0.0)\n",
            "Image sizes 640 train, 640 val\n",
            "Using 2 dataloader workers\n",
            "Logging results to \u001b[1mruns/detect/train\u001b[0m\n",
            "Starting training for 300 epochs...\n",
            "\n",
            "      Epoch    GPU_mem   box_loss   cls_loss   dfl_loss  Instances       Size\n"
          ]
        },
        {
          "metadata": {
            "tags": null
          },
          "name": "stderr",
          "output_type": "stream",
          "text": [
            "      1/300      13.4G      3.374      12.39      2.281         11        640: 100%|██████████| 17/17 [00:21<00:00,  1.25s/it]\n",
            "                 Class     Images  Instances      Box(P          R      mAP50  mAP50-95): 100%|██████████| 3/3 [00:03<00:00,  1.33s/it]"
          ]
        },
        {
          "metadata": {
            "tags": null
          },
          "name": "stdout",
          "output_type": "stream",
          "text": [
            "                   all         75         75   0.000105     0.0267    4.7e-05   7.11e-06\n"
          ]
        },
        {
          "metadata": {
            "tags": null
          },
          "name": "stderr",
          "output_type": "stream",
          "text": [
            "\n"
          ]
        },
        {
          "metadata": {
            "tags": null
          },
          "name": "stdout",
          "output_type": "stream",
          "text": [
            "\n",
            "      Epoch    GPU_mem   box_loss   cls_loss   dfl_loss  Instances       Size\n"
          ]
        },
        {
          "metadata": {
            "tags": null
          },
          "name": "stderr",
          "output_type": "stream",
          "text": [
            "      2/300      13.9G      2.166      4.786      1.714          6        640: 100%|██████████| 17/17 [00:19<00:00,  1.17s/it]\n",
            "                 Class     Images  Instances      Box(P          R      mAP50  mAP50-95): 100%|██████████| 3/3 [00:02<00:00,  1.27it/s]"
          ]
        },
        {
          "metadata": {
            "tags": null
          },
          "name": "stdout",
          "output_type": "stream",
          "text": [
            "                   all         75         75   0.000105     0.0267    4.7e-05   7.11e-06\n"
          ]
        },
        {
          "metadata": {
            "tags": null
          },
          "name": "stderr",
          "output_type": "stream",
          "text": [
            "\n"
          ]
        },
        {
          "metadata": {
            "tags": null
          },
          "name": "stdout",
          "output_type": "stream",
          "text": [
            "\n",
            "      Epoch    GPU_mem   box_loss   cls_loss   dfl_loss  Instances       Size\n"
          ]
        },
        {
          "metadata": {
            "tags": null
          },
          "name": "stderr",
          "output_type": "stream",
          "text": [
            "      3/300      13.9G      2.029      2.797      1.579          9        640: 100%|██████████| 17/17 [00:20<00:00,  1.20s/it]\n",
            "                 Class     Images  Instances      Box(P          R      mAP50  mAP50-95): 100%|██████████| 3/3 [00:02<00:00,  1.22it/s]"
          ]
        },
        {
          "metadata": {
            "tags": null
          },
          "name": "stdout",
          "output_type": "stream",
          "text": [
            "                   all         75         75   0.000105     0.0267    4.7e-05   7.11e-06\n"
          ]
        },
        {
          "metadata": {
            "tags": null
          },
          "name": "stderr",
          "output_type": "stream",
          "text": [
            "\n"
          ]
        },
        {
          "metadata": {
            "tags": null
          },
          "name": "stdout",
          "output_type": "stream",
          "text": [
            "\n",
            "      Epoch    GPU_mem   box_loss   cls_loss   dfl_loss  Instances       Size\n"
          ]
        },
        {
          "metadata": {
            "tags": null
          },
          "name": "stderr",
          "output_type": "stream",
          "text": [
            "      4/300      13.9G      2.122      2.279      1.632          9        640: 100%|██████████| 17/17 [00:21<00:00,  1.24s/it]\n",
            "                 Class     Images  Instances      Box(P          R      mAP50  mAP50-95): 100%|██████████| 3/3 [00:02<00:00,  1.28it/s]"
          ]
        },
        {
          "metadata": {
            "tags": null
          },
          "name": "stdout",
          "output_type": "stream",
          "text": [
            "                   all         75         75   0.000105     0.0267    4.7e-05   7.11e-06\n"
          ]
        },
        {
          "metadata": {
            "tags": null
          },
          "name": "stderr",
          "output_type": "stream",
          "text": [
            "\n"
          ]
        },
        {
          "metadata": {
            "tags": null
          },
          "name": "stdout",
          "output_type": "stream",
          "text": [
            "\n",
            "      Epoch    GPU_mem   box_loss   cls_loss   dfl_loss  Instances       Size\n"
          ]
        },
        {
          "metadata": {
            "tags": null
          },
          "name": "stderr",
          "output_type": "stream",
          "text": [
            "      5/300        14G       2.05      2.057      1.595         13        640: 100%|██████████| 17/17 [00:20<00:00,  1.24s/it]\n",
            "                 Class     Images  Instances      Box(P          R      mAP50  mAP50-95): 100%|██████████| 3/3 [00:02<00:00,  1.14it/s]"
          ]
        },
        {
          "metadata": {
            "tags": null
          },
          "name": "stdout",
          "output_type": "stream",
          "text": [
            "                   all         75         75   0.000715       0.08   0.000291   9.76e-05\n"
          ]
        },
        {
          "metadata": {
            "tags": null
          },
          "name": "stderr",
          "output_type": "stream",
          "text": [
            "\n"
          ]
        },
        {
          "metadata": {
            "tags": null
          },
          "name": "stdout",
          "output_type": "stream",
          "text": [
            "\n",
            "      Epoch    GPU_mem   box_loss   cls_loss   dfl_loss  Instances       Size\n"
          ]
        },
        {
          "metadata": {
            "tags": null
          },
          "name": "stderr",
          "output_type": "stream",
          "text": [
            "      6/300        14G       2.04      2.127      1.553          7        640: 100%|██████████| 17/17 [00:20<00:00,  1.22s/it]\n",
            "                 Class     Images  Instances      Box(P          R      mAP50  mAP50-95): 100%|██████████| 3/3 [00:02<00:00,  1.05it/s]"
          ]
        },
        {
          "metadata": {
            "tags": null
          },
          "name": "stdout",
          "output_type": "stream",
          "text": [
            "                   all         75         75      0.179      0.133     0.0537     0.0334\n"
          ]
        },
        {
          "metadata": {
            "tags": null
          },
          "name": "stderr",
          "output_type": "stream",
          "text": [
            "\n"
          ]
        },
        {
          "metadata": {
            "tags": null
          },
          "name": "stdout",
          "output_type": "stream",
          "text": [
            "\n",
            "      Epoch    GPU_mem   box_loss   cls_loss   dfl_loss  Instances       Size\n"
          ]
        },
        {
          "metadata": {
            "tags": null
          },
          "name": "stderr",
          "output_type": "stream",
          "text": [
            "      7/300      14.1G      1.988      1.978      1.565          3        640: 100%|██████████| 17/17 [00:21<00:00,  1.26s/it]\n",
            "                 Class     Images  Instances      Box(P          R      mAP50  mAP50-95): 100%|██████████| 3/3 [00:03<00:00,  1.04s/it]"
          ]
        },
        {
          "metadata": {
            "tags": null
          },
          "name": "stdout",
          "output_type": "stream",
          "text": [
            "                   all         75         75      0.189       0.48      0.148     0.0592\n"
          ]
        },
        {
          "metadata": {
            "tags": null
          },
          "name": "stderr",
          "output_type": "stream",
          "text": [
            "\n"
          ]
        },
        {
          "metadata": {
            "tags": null
          },
          "name": "stdout",
          "output_type": "stream",
          "text": [
            "\n",
            "      Epoch    GPU_mem   box_loss   cls_loss   dfl_loss  Instances       Size\n"
          ]
        },
        {
          "metadata": {
            "tags": null
          },
          "name": "stderr",
          "output_type": "stream",
          "text": [
            "      8/300        14G      2.062      2.144      1.578          6        640: 100%|██████████| 17/17 [00:20<00:00,  1.21s/it]\n",
            "                 Class     Images  Instances      Box(P          R      mAP50  mAP50-95): 100%|██████████| 3/3 [00:02<00:00,  1.02it/s]"
          ]
        },
        {
          "metadata": {
            "tags": null
          },
          "name": "stdout",
          "output_type": "stream",
          "text": [
            "                   all         75         75      0.354       0.28      0.189     0.0789\n"
          ]
        },
        {
          "metadata": {
            "tags": null
          },
          "name": "stderr",
          "output_type": "stream",
          "text": [
            "\n"
          ]
        },
        {
          "metadata": {
            "tags": null
          },
          "name": "stdout",
          "output_type": "stream",
          "text": [
            "\n",
            "      Epoch    GPU_mem   box_loss   cls_loss   dfl_loss  Instances       Size\n"
          ]
        },
        {
          "metadata": {
            "tags": null
          },
          "name": "stderr",
          "output_type": "stream",
          "text": [
            "      9/300      13.9G      2.114      2.189      1.617          7        640: 100%|██████████| 17/17 [00:20<00:00,  1.23s/it]\n",
            "                 Class     Images  Instances      Box(P          R      mAP50  mAP50-95): 100%|██████████| 3/3 [00:03<00:00,  1.00s/it]"
          ]
        },
        {
          "metadata": {
            "tags": null
          },
          "name": "stdout",
          "output_type": "stream",
          "text": [
            "                   all         75         75     0.0258      0.147    0.00819    0.00254\n"
          ]
        },
        {
          "metadata": {
            "tags": null
          },
          "name": "stderr",
          "output_type": "stream",
          "text": [
            "\n"
          ]
        },
        {
          "metadata": {
            "tags": null
          },
          "name": "stdout",
          "output_type": "stream",
          "text": [
            "\n",
            "      Epoch    GPU_mem   box_loss   cls_loss   dfl_loss  Instances       Size\n"
          ]
        },
        {
          "metadata": {
            "tags": null
          },
          "name": "stderr",
          "output_type": "stream",
          "text": [
            "     10/300      13.9G      2.022       1.96      1.607          7        640: 100%|██████████| 17/17 [00:21<00:00,  1.24s/it]\n",
            "                 Class     Images  Instances      Box(P          R      mAP50  mAP50-95): 100%|██████████| 3/3 [00:03<00:00,  1.00s/it]"
          ]
        },
        {
          "metadata": {
            "tags": null
          },
          "name": "stdout",
          "output_type": "stream",
          "text": [
            "                   all         75         75       0.44      0.187      0.229      0.105\n"
          ]
        },
        {
          "metadata": {
            "tags": null
          },
          "name": "stderr",
          "output_type": "stream",
          "text": [
            "\n"
          ]
        },
        {
          "metadata": {
            "tags": null
          },
          "name": "stdout",
          "output_type": "stream",
          "text": [
            "\n",
            "      Epoch    GPU_mem   box_loss   cls_loss   dfl_loss  Instances       Size\n"
          ]
        },
        {
          "metadata": {
            "tags": null
          },
          "name": "stderr",
          "output_type": "stream",
          "text": [
            "     11/300        14G      2.054       2.05      1.514          6        640: 100%|██████████| 17/17 [00:20<00:00,  1.21s/it]\n",
            "                 Class     Images  Instances      Box(P          R      mAP50  mAP50-95): 100%|██████████| 3/3 [00:03<00:00,  1.01s/it]"
          ]
        },
        {
          "metadata": {
            "tags": null
          },
          "name": "stdout",
          "output_type": "stream",
          "text": [
            "                   all         75         75      0.597      0.333      0.334      0.126\n"
          ]
        },
        {
          "metadata": {
            "tags": null
          },
          "name": "stderr",
          "output_type": "stream",
          "text": [
            "\n"
          ]
        },
        {
          "metadata": {
            "tags": null
          },
          "name": "stdout",
          "output_type": "stream",
          "text": [
            "\n",
            "      Epoch    GPU_mem   box_loss   cls_loss   dfl_loss  Instances       Size\n"
          ]
        },
        {
          "metadata": {
            "tags": null
          },
          "name": "stderr",
          "output_type": "stream",
          "text": [
            "     12/300        14G      2.021       1.81      1.506         10        640: 100%|██████████| 17/17 [00:20<00:00,  1.23s/it]\n",
            "                 Class     Images  Instances      Box(P          R      mAP50  mAP50-95): 100%|██████████| 3/3 [00:03<00:00,  1.04s/it]"
          ]
        },
        {
          "metadata": {
            "tags": null
          },
          "name": "stdout",
          "output_type": "stream",
          "text": [
            "                   all         75         75      0.627      0.373      0.417      0.194\n"
          ]
        },
        {
          "metadata": {
            "tags": null
          },
          "name": "stderr",
          "output_type": "stream",
          "text": [
            "\n"
          ]
        },
        {
          "metadata": {
            "tags": null
          },
          "name": "stdout",
          "output_type": "stream",
          "text": [
            "\n",
            "      Epoch    GPU_mem   box_loss   cls_loss   dfl_loss  Instances       Size\n"
          ]
        },
        {
          "metadata": {
            "tags": null
          },
          "name": "stderr",
          "output_type": "stream",
          "text": [
            "     13/300      13.9G      1.959      1.755      1.596         10        640: 100%|██████████| 17/17 [00:20<00:00,  1.21s/it]\n",
            "                 Class     Images  Instances      Box(P          R      mAP50  mAP50-95): 100%|██████████| 3/3 [00:02<00:00,  1.07it/s]"
          ]
        },
        {
          "metadata": {
            "tags": null
          },
          "name": "stdout",
          "output_type": "stream",
          "text": [
            "                   all         75         75      0.465      0.333      0.278      0.123\n"
          ]
        },
        {
          "metadata": {
            "tags": null
          },
          "name": "stderr",
          "output_type": "stream",
          "text": [
            "\n"
          ]
        },
        {
          "metadata": {
            "tags": null
          },
          "name": "stdout",
          "output_type": "stream",
          "text": [
            "\n",
            "      Epoch    GPU_mem   box_loss   cls_loss   dfl_loss  Instances       Size\n"
          ]
        },
        {
          "metadata": {
            "tags": null
          },
          "name": "stderr",
          "output_type": "stream",
          "text": [
            "     14/300      13.9G      1.964       1.66      1.464         12        640: 100%|██████████| 17/17 [00:20<00:00,  1.21s/it]\n",
            "                 Class     Images  Instances      Box(P          R      mAP50  mAP50-95): 100%|██████████| 3/3 [00:02<00:00,  1.07it/s]"
          ]
        },
        {
          "metadata": {
            "tags": null
          },
          "name": "stdout",
          "output_type": "stream",
          "text": [
            "                   all         75         75     0.0108        0.6    0.00926    0.00385\n"
          ]
        },
        {
          "metadata": {
            "tags": null
          },
          "name": "stderr",
          "output_type": "stream",
          "text": [
            "\n"
          ]
        },
        {
          "metadata": {
            "tags": null
          },
          "name": "stdout",
          "output_type": "stream",
          "text": [
            "\n",
            "      Epoch    GPU_mem   box_loss   cls_loss   dfl_loss  Instances       Size\n"
          ]
        },
        {
          "metadata": {
            "tags": null
          },
          "name": "stderr",
          "output_type": "stream",
          "text": [
            "     15/300        14G      1.901      1.612      1.445          8        640: 100%|██████████| 17/17 [00:20<00:00,  1.20s/it]\n",
            "                 Class     Images  Instances      Box(P          R      mAP50  mAP50-95): 100%|██████████| 3/3 [00:02<00:00,  1.07it/s]"
          ]
        },
        {
          "metadata": {
            "tags": null
          },
          "name": "stdout",
          "output_type": "stream",
          "text": [
            "                   all         75         75      0.681      0.573      0.591      0.263\n"
          ]
        },
        {
          "metadata": {
            "tags": null
          },
          "name": "stderr",
          "output_type": "stream",
          "text": [
            "\n"
          ]
        },
        {
          "metadata": {
            "tags": null
          },
          "name": "stdout",
          "output_type": "stream",
          "text": [
            "\n",
            "      Epoch    GPU_mem   box_loss   cls_loss   dfl_loss  Instances       Size\n"
          ]
        },
        {
          "metadata": {
            "tags": null
          },
          "name": "stderr",
          "output_type": "stream",
          "text": [
            "     16/300        14G      1.954      1.597      1.487         10        640: 100%|██████████| 17/17 [00:20<00:00,  1.23s/it]\n",
            "                 Class     Images  Instances      Box(P          R      mAP50  mAP50-95): 100%|██████████| 3/3 [00:03<00:00,  1.02s/it]"
          ]
        },
        {
          "metadata": {
            "tags": null
          },
          "name": "stdout",
          "output_type": "stream",
          "text": [
            "                   all         75         75      0.712      0.625      0.664      0.304\n"
          ]
        },
        {
          "metadata": {
            "tags": null
          },
          "name": "stderr",
          "output_type": "stream",
          "text": [
            "\n"
          ]
        },
        {
          "metadata": {
            "tags": null
          },
          "name": "stdout",
          "output_type": "stream",
          "text": [
            "\n",
            "      Epoch    GPU_mem   box_loss   cls_loss   dfl_loss  Instances       Size\n"
          ]
        },
        {
          "metadata": {
            "tags": null
          },
          "name": "stderr",
          "output_type": "stream",
          "text": [
            "     17/300      13.9G      1.875      1.549      1.399         12        640: 100%|██████████| 17/17 [00:21<00:00,  1.24s/it]\n",
            "                 Class     Images  Instances      Box(P          R      mAP50  mAP50-95): 100%|██████████| 3/3 [00:02<00:00,  1.00it/s]"
          ]
        },
        {
          "metadata": {
            "tags": null
          },
          "name": "stdout",
          "output_type": "stream",
          "text": [
            "                   all         75         75      0.642      0.525      0.554      0.276\n"
          ]
        },
        {
          "metadata": {
            "tags": null
          },
          "name": "stderr",
          "output_type": "stream",
          "text": [
            "\n"
          ]
        },
        {
          "metadata": {
            "tags": null
          },
          "name": "stdout",
          "output_type": "stream",
          "text": [
            "\n",
            "      Epoch    GPU_mem   box_loss   cls_loss   dfl_loss  Instances       Size\n"
          ]
        },
        {
          "metadata": {
            "tags": null
          },
          "name": "stderr",
          "output_type": "stream",
          "text": [
            "     18/300      13.9G      1.882      1.506      1.416         14        640: 100%|██████████| 17/17 [00:20<00:00,  1.20s/it]\n",
            "                 Class     Images  Instances      Box(P          R      mAP50  mAP50-95): 100%|██████████| 3/3 [00:02<00:00,  1.14it/s]"
          ]
        },
        {
          "metadata": {
            "tags": null
          },
          "name": "stdout",
          "output_type": "stream",
          "text": [
            "                   all         75         75      0.525       0.52      0.483      0.197\n"
          ]
        },
        {
          "metadata": {
            "tags": null
          },
          "name": "stderr",
          "output_type": "stream",
          "text": [
            "\n"
          ]
        },
        {
          "metadata": {
            "tags": null
          },
          "name": "stdout",
          "output_type": "stream",
          "text": [
            "\n",
            "      Epoch    GPU_mem   box_loss   cls_loss   dfl_loss  Instances       Size\n"
          ]
        },
        {
          "metadata": {
            "tags": null
          },
          "name": "stderr",
          "output_type": "stream",
          "text": [
            "     19/300        14G      1.891      1.477      1.426          9        640: 100%|██████████| 17/17 [00:20<00:00,  1.20s/it]\n",
            "                 Class     Images  Instances      Box(P          R      mAP50  mAP50-95): 100%|██████████| 3/3 [00:02<00:00,  1.10it/s]"
          ]
        },
        {
          "metadata": {
            "tags": null
          },
          "name": "stdout",
          "output_type": "stream",
          "text": [
            "                   all         75         75      0.641      0.587      0.647      0.269\n"
          ]
        },
        {
          "metadata": {
            "tags": null
          },
          "name": "stderr",
          "output_type": "stream",
          "text": [
            "\n"
          ]
        },
        {
          "metadata": {
            "tags": null
          },
          "name": "stdout",
          "output_type": "stream",
          "text": [
            "\n",
            "      Epoch    GPU_mem   box_loss   cls_loss   dfl_loss  Instances       Size\n"
          ]
        },
        {
          "metadata": {
            "tags": null
          },
          "name": "stderr",
          "output_type": "stream",
          "text": [
            "     20/300        14G       1.88      1.498      1.426         10        640: 100%|██████████| 17/17 [00:20<00:00,  1.24s/it]\n",
            "                 Class     Images  Instances      Box(P          R      mAP50  mAP50-95): 100%|██████████| 3/3 [00:03<00:00,  1.05s/it]"
          ]
        },
        {
          "metadata": {
            "tags": null
          },
          "name": "stdout",
          "output_type": "stream",
          "text": [
            "                   all         75         75    0.00089      0.267   0.000574     0.0003\n"
          ]
        },
        {
          "metadata": {
            "tags": null
          },
          "name": "stderr",
          "output_type": "stream",
          "text": [
            "\n"
          ]
        },
        {
          "metadata": {
            "tags": null
          },
          "name": "stdout",
          "output_type": "stream",
          "text": [
            "\n",
            "      Epoch    GPU_mem   box_loss   cls_loss   dfl_loss  Instances       Size\n"
          ]
        },
        {
          "metadata": {
            "tags": null
          },
          "name": "stderr",
          "output_type": "stream",
          "text": [
            "     21/300      13.9G      1.855      1.481      1.413         13        640: 100%|██████████| 17/17 [00:20<00:00,  1.20s/it]\n",
            "                 Class     Images  Instances      Box(P          R      mAP50  mAP50-95): 100%|██████████| 3/3 [00:02<00:00,  1.05it/s]"
          ]
        },
        {
          "metadata": {
            "tags": null
          },
          "name": "stdout",
          "output_type": "stream",
          "text": [
            "                   all         75         75    0.00636        0.6    0.00518    0.00227\n"
          ]
        },
        {
          "metadata": {
            "tags": null
          },
          "name": "stderr",
          "output_type": "stream",
          "text": [
            "\n"
          ]
        },
        {
          "metadata": {
            "tags": null
          },
          "name": "stdout",
          "output_type": "stream",
          "text": [
            "\n",
            "      Epoch    GPU_mem   box_loss   cls_loss   dfl_loss  Instances       Size\n"
          ]
        },
        {
          "metadata": {
            "tags": null
          },
          "name": "stderr",
          "output_type": "stream",
          "text": [
            "     22/300      13.9G      1.858      1.433      1.438          7        640: 100%|██████████| 17/17 [00:20<00:00,  1.20s/it]\n",
            "                 Class     Images  Instances      Box(P          R      mAP50  mAP50-95): 100%|██████████| 3/3 [00:02<00:00,  1.09it/s]"
          ]
        },
        {
          "metadata": {
            "tags": null
          },
          "name": "stdout",
          "output_type": "stream",
          "text": [
            "                   all         75         75      0.625      0.213      0.218      0.106\n"
          ]
        },
        {
          "metadata": {
            "tags": null
          },
          "name": "stderr",
          "output_type": "stream",
          "text": [
            "\n"
          ]
        },
        {
          "metadata": {
            "tags": null
          },
          "name": "stdout",
          "output_type": "stream",
          "text": [
            "\n",
            "      Epoch    GPU_mem   box_loss   cls_loss   dfl_loss  Instances       Size\n"
          ]
        },
        {
          "metadata": {
            "tags": null
          },
          "name": "stderr",
          "output_type": "stream",
          "text": [
            "     23/300        14G      1.907      1.519      1.439          8        640: 100%|██████████| 17/17 [00:20<00:00,  1.22s/it]\n",
            "                 Class     Images  Instances      Box(P          R      mAP50  mAP50-95): 100%|██████████| 3/3 [00:02<00:00,  1.07it/s]"
          ]
        },
        {
          "metadata": {
            "tags": null
          },
          "name": "stdout",
          "output_type": "stream",
          "text": [
            "                   all         75         75      0.475      0.427      0.403      0.171\n"
          ]
        },
        {
          "metadata": {
            "tags": null
          },
          "name": "stderr",
          "output_type": "stream",
          "text": [
            "\n"
          ]
        },
        {
          "metadata": {
            "tags": null
          },
          "name": "stdout",
          "output_type": "stream",
          "text": [
            "\n",
            "      Epoch    GPU_mem   box_loss   cls_loss   dfl_loss  Instances       Size\n"
          ]
        },
        {
          "metadata": {
            "tags": null
          },
          "name": "stderr",
          "output_type": "stream",
          "text": [
            "     24/300      14.1G      1.818      1.401      1.399         15        640: 100%|██████████| 17/17 [00:20<00:00,  1.19s/it]\n",
            "                 Class     Images  Instances      Box(P          R      mAP50  mAP50-95): 100%|██████████| 3/3 [00:02<00:00,  1.13it/s]"
          ]
        },
        {
          "metadata": {
            "tags": null
          },
          "name": "stdout",
          "output_type": "stream",
          "text": [
            "                   all         75         75      0.834        0.6      0.735      0.323\n"
          ]
        },
        {
          "metadata": {
            "tags": null
          },
          "name": "stderr",
          "output_type": "stream",
          "text": [
            "\n"
          ]
        },
        {
          "metadata": {
            "tags": null
          },
          "name": "stdout",
          "output_type": "stream",
          "text": [
            "\n",
            "      Epoch    GPU_mem   box_loss   cls_loss   dfl_loss  Instances       Size\n"
          ]
        },
        {
          "metadata": {
            "tags": null
          },
          "name": "stderr",
          "output_type": "stream",
          "text": [
            "     25/300      13.9G      1.755      1.362      1.381          8        640: 100%|██████████| 17/17 [00:20<00:00,  1.21s/it]\n",
            "                 Class     Images  Instances      Box(P          R      mAP50  mAP50-95): 100%|██████████| 3/3 [00:02<00:00,  1.10it/s]"
          ]
        },
        {
          "metadata": {
            "tags": null
          },
          "name": "stdout",
          "output_type": "stream",
          "text": [
            "                   all         75         75      0.667      0.547      0.627      0.239\n"
          ]
        },
        {
          "metadata": {
            "tags": null
          },
          "name": "stderr",
          "output_type": "stream",
          "text": [
            "\n"
          ]
        },
        {
          "metadata": {
            "tags": null
          },
          "name": "stdout",
          "output_type": "stream",
          "text": [
            "\n",
            "      Epoch    GPU_mem   box_loss   cls_loss   dfl_loss  Instances       Size\n"
          ]
        },
        {
          "metadata": {
            "tags": null
          },
          "name": "stderr",
          "output_type": "stream",
          "text": [
            "     26/300      13.9G       1.85      1.421      1.404          7        640: 100%|██████████| 17/17 [00:20<00:00,  1.23s/it]\n",
            "                 Class     Images  Instances      Box(P          R      mAP50  mAP50-95): 100%|██████████| 3/3 [00:02<00:00,  1.03it/s]"
          ]
        },
        {
          "metadata": {
            "tags": null
          },
          "name": "stdout",
          "output_type": "stream",
          "text": [
            "                   all         75         75      0.777       0.56      0.662      0.294\n"
          ]
        },
        {
          "metadata": {
            "tags": null
          },
          "name": "stderr",
          "output_type": "stream",
          "text": [
            "\n"
          ]
        },
        {
          "metadata": {
            "tags": null
          },
          "name": "stdout",
          "output_type": "stream",
          "text": [
            "\n",
            "      Epoch    GPU_mem   box_loss   cls_loss   dfl_loss  Instances       Size\n"
          ]
        },
        {
          "metadata": {
            "tags": null
          },
          "name": "stderr",
          "output_type": "stream",
          "text": [
            "     27/300        14G      1.928      1.431      1.421         11        640: 100%|██████████| 17/17 [00:20<00:00,  1.18s/it]\n",
            "                 Class     Images  Instances      Box(P          R      mAP50  mAP50-95): 100%|██████████| 3/3 [00:02<00:00,  1.16it/s]"
          ]
        },
        {
          "metadata": {
            "tags": null
          },
          "name": "stdout",
          "output_type": "stream",
          "text": [
            "                   all         75         75      0.566      0.627       0.55      0.232\n"
          ]
        },
        {
          "metadata": {
            "tags": null
          },
          "name": "stderr",
          "output_type": "stream",
          "text": [
            "\n"
          ]
        },
        {
          "metadata": {
            "tags": null
          },
          "name": "stdout",
          "output_type": "stream",
          "text": [
            "\n",
            "      Epoch    GPU_mem   box_loss   cls_loss   dfl_loss  Instances       Size\n"
          ]
        },
        {
          "metadata": {
            "tags": null
          },
          "name": "stderr",
          "output_type": "stream",
          "text": [
            "     28/300      14.1G      1.795      1.341      1.381         10        640: 100%|██████████| 17/17 [00:20<00:00,  1.20s/it]\n",
            "                 Class     Images  Instances      Box(P          R      mAP50  mAP50-95): 100%|██████████| 3/3 [00:03<00:00,  1.03s/it]"
          ]
        },
        {
          "metadata": {
            "tags": null
          },
          "name": "stdout",
          "output_type": "stream",
          "text": [
            "                   all         75         75      0.737      0.674      0.747      0.336\n"
          ]
        },
        {
          "metadata": {
            "tags": null
          },
          "name": "stderr",
          "output_type": "stream",
          "text": [
            "\n"
          ]
        },
        {
          "metadata": {
            "tags": null
          },
          "name": "stdout",
          "output_type": "stream",
          "text": [
            "\n",
            "      Epoch    GPU_mem   box_loss   cls_loss   dfl_loss  Instances       Size\n"
          ]
        },
        {
          "metadata": {
            "tags": null
          },
          "name": "stderr",
          "output_type": "stream",
          "text": [
            "     29/300      13.9G      1.799      1.379      1.382          8        640: 100%|██████████| 17/17 [00:20<00:00,  1.20s/it]\n",
            "                 Class     Images  Instances      Box(P          R      mAP50  mAP50-95): 100%|██████████| 3/3 [00:03<00:00,  1.03s/it]"
          ]
        },
        {
          "metadata": {
            "tags": null
          },
          "name": "stdout",
          "output_type": "stream",
          "text": [
            "                   all         75         75      0.764       0.68      0.729      0.337\n"
          ]
        },
        {
          "metadata": {
            "tags": null
          },
          "name": "stderr",
          "output_type": "stream",
          "text": [
            "\n"
          ]
        },
        {
          "metadata": {
            "tags": null
          },
          "name": "stdout",
          "output_type": "stream",
          "text": [
            "\n",
            "      Epoch    GPU_mem   box_loss   cls_loss   dfl_loss  Instances       Size\n"
          ]
        },
        {
          "metadata": {
            "tags": null
          },
          "name": "stderr",
          "output_type": "stream",
          "text": [
            "     30/300      13.9G       1.76      1.289      1.367          9        640: 100%|██████████| 17/17 [00:20<00:00,  1.20s/it]\n",
            "                 Class     Images  Instances      Box(P          R      mAP50  mAP50-95): 100%|██████████| 3/3 [00:02<00:00,  1.11it/s]"
          ]
        },
        {
          "metadata": {
            "tags": null
          },
          "name": "stdout",
          "output_type": "stream",
          "text": [
            "                   all         75         75      0.707      0.547      0.591      0.262\n"
          ]
        },
        {
          "metadata": {
            "tags": null
          },
          "name": "stderr",
          "output_type": "stream",
          "text": [
            "\n"
          ]
        },
        {
          "metadata": {
            "tags": null
          },
          "name": "stdout",
          "output_type": "stream",
          "text": [
            "\n",
            "      Epoch    GPU_mem   box_loss   cls_loss   dfl_loss  Instances       Size\n"
          ]
        },
        {
          "metadata": {
            "tags": null
          },
          "name": "stderr",
          "output_type": "stream",
          "text": [
            "     31/300        14G      1.745      1.268      1.357         10        640: 100%|██████████| 17/17 [00:20<00:00,  1.20s/it]\n",
            "                 Class     Images  Instances      Box(P          R      mAP50  mAP50-95): 100%|██████████| 3/3 [00:03<00:00,  1.01s/it]"
          ]
        },
        {
          "metadata": {
            "tags": null
          },
          "name": "stdout",
          "output_type": "stream",
          "text": [
            "                   all         75         75      0.721       0.76      0.739      0.374\n"
          ]
        },
        {
          "metadata": {
            "tags": null
          },
          "name": "stderr",
          "output_type": "stream",
          "text": [
            "\n"
          ]
        },
        {
          "metadata": {
            "tags": null
          },
          "name": "stdout",
          "output_type": "stream",
          "text": [
            "\n",
            "      Epoch    GPU_mem   box_loss   cls_loss   dfl_loss  Instances       Size\n"
          ]
        },
        {
          "metadata": {
            "tags": null
          },
          "name": "stderr",
          "output_type": "stream",
          "text": [
            "     32/300        14G      1.853       1.31       1.38          9        640: 100%|██████████| 17/17 [00:20<00:00,  1.21s/it]\n",
            "                 Class     Images  Instances      Box(P          R      mAP50  mAP50-95): 100%|██████████| 3/3 [00:02<00:00,  1.01it/s]"
          ]
        },
        {
          "metadata": {
            "tags": null
          },
          "name": "stdout",
          "output_type": "stream",
          "text": [
            "                   all         75         75      0.897       0.72      0.835      0.408\n"
          ]
        },
        {
          "metadata": {
            "tags": null
          },
          "name": "stderr",
          "output_type": "stream",
          "text": [
            "\n"
          ]
        },
        {
          "metadata": {
            "tags": null
          },
          "name": "stdout",
          "output_type": "stream",
          "text": [
            "\n",
            "      Epoch    GPU_mem   box_loss   cls_loss   dfl_loss  Instances       Size\n"
          ]
        },
        {
          "metadata": {
            "tags": null
          },
          "name": "stderr",
          "output_type": "stream",
          "text": [
            "     33/300      13.9G       1.76      1.267       1.35         10        640: 100%|██████████| 17/17 [00:20<00:00,  1.20s/it]\n",
            "                 Class     Images  Instances      Box(P          R      mAP50  mAP50-95): 100%|██████████| 3/3 [00:02<00:00,  1.11it/s]"
          ]
        },
        {
          "metadata": {
            "tags": null
          },
          "name": "stdout",
          "output_type": "stream",
          "text": [
            "                   all         75         75      0.736      0.507      0.545      0.249\n"
          ]
        },
        {
          "metadata": {
            "tags": null
          },
          "name": "stderr",
          "output_type": "stream",
          "text": [
            "\n"
          ]
        },
        {
          "metadata": {
            "tags": null
          },
          "name": "stdout",
          "output_type": "stream",
          "text": [
            "\n",
            "      Epoch    GPU_mem   box_loss   cls_loss   dfl_loss  Instances       Size\n"
          ]
        },
        {
          "metadata": {
            "tags": null
          },
          "name": "stderr",
          "output_type": "stream",
          "text": [
            "     34/300      13.9G      1.704      1.291      1.355          8        640: 100%|██████████| 17/17 [00:20<00:00,  1.21s/it]\n",
            "                 Class     Images  Instances      Box(P          R      mAP50  mAP50-95): 100%|██████████| 3/3 [00:02<00:00,  1.04it/s]"
          ]
        },
        {
          "metadata": {
            "tags": null
          },
          "name": "stdout",
          "output_type": "stream",
          "text": [
            "                   all         75         75       0.75      0.627      0.647       0.27\n"
          ]
        },
        {
          "metadata": {
            "tags": null
          },
          "name": "stderr",
          "output_type": "stream",
          "text": [
            "\n"
          ]
        },
        {
          "metadata": {
            "tags": null
          },
          "name": "stdout",
          "output_type": "stream",
          "text": [
            "\n",
            "      Epoch    GPU_mem   box_loss   cls_loss   dfl_loss  Instances       Size\n"
          ]
        },
        {
          "metadata": {
            "tags": null
          },
          "name": "stderr",
          "output_type": "stream",
          "text": [
            "     35/300        14G      1.808      1.384      1.348          8        640: 100%|██████████| 17/17 [00:20<00:00,  1.19s/it]\n",
            "                 Class     Images  Instances      Box(P          R      mAP50  mAP50-95): 100%|██████████| 3/3 [00:02<00:00,  1.13it/s]"
          ]
        },
        {
          "metadata": {
            "tags": null
          },
          "name": "stdout",
          "output_type": "stream",
          "text": [
            "                   all         75         75      0.536      0.416      0.367      0.149\n"
          ]
        },
        {
          "metadata": {
            "tags": null
          },
          "name": "stderr",
          "output_type": "stream",
          "text": [
            "\n"
          ]
        },
        {
          "metadata": {
            "tags": null
          },
          "name": "stdout",
          "output_type": "stream",
          "text": [
            "\n",
            "      Epoch    GPU_mem   box_loss   cls_loss   dfl_loss  Instances       Size\n"
          ]
        },
        {
          "metadata": {
            "tags": null
          },
          "name": "stderr",
          "output_type": "stream",
          "text": [
            "     36/300      14.1G      1.807      1.364      1.411          6        640: 100%|██████████| 17/17 [00:20<00:00,  1.21s/it]\n",
            "                 Class     Images  Instances      Box(P          R      mAP50  mAP50-95): 100%|██████████| 3/3 [00:02<00:00,  1.04it/s]"
          ]
        },
        {
          "metadata": {
            "tags": null
          },
          "name": "stdout",
          "output_type": "stream",
          "text": [
            "                   all         75         75       0.76      0.653      0.711      0.363\n"
          ]
        },
        {
          "metadata": {
            "tags": null
          },
          "name": "stderr",
          "output_type": "stream",
          "text": [
            "\n"
          ]
        },
        {
          "metadata": {
            "tags": null
          },
          "name": "stdout",
          "output_type": "stream",
          "text": [
            "\n",
            "      Epoch    GPU_mem   box_loss   cls_loss   dfl_loss  Instances       Size\n"
          ]
        },
        {
          "metadata": {
            "tags": null
          },
          "name": "stderr",
          "output_type": "stream",
          "text": [
            "     37/300      13.9G      1.767      1.188      1.389         11        640: 100%|██████████| 17/17 [00:20<00:00,  1.20s/it]\n",
            "                 Class     Images  Instances      Box(P          R      mAP50  mAP50-95): 100%|██████████| 3/3 [00:02<00:00,  1.13it/s]"
          ]
        },
        {
          "metadata": {
            "tags": null
          },
          "name": "stdout",
          "output_type": "stream",
          "text": [
            "                   all         75         75      0.666       0.64      0.642      0.283\n"
          ]
        },
        {
          "metadata": {
            "tags": null
          },
          "name": "stderr",
          "output_type": "stream",
          "text": [
            "\n"
          ]
        },
        {
          "metadata": {
            "tags": null
          },
          "name": "stdout",
          "output_type": "stream",
          "text": [
            "\n",
            "      Epoch    GPU_mem   box_loss   cls_loss   dfl_loss  Instances       Size\n"
          ]
        },
        {
          "metadata": {
            "tags": null
          },
          "name": "stderr",
          "output_type": "stream",
          "text": [
            "     38/300      13.9G      1.733      1.225      1.344         14        640: 100%|██████████| 17/17 [00:20<00:00,  1.20s/it]\n",
            "                 Class     Images  Instances      Box(P          R      mAP50  mAP50-95): 100%|██████████| 3/3 [00:02<00:00,  1.13it/s]"
          ]
        },
        {
          "metadata": {
            "tags": null
          },
          "name": "stdout",
          "output_type": "stream",
          "text": [
            "                   all         75         75      0.747      0.613      0.666      0.275\n"
          ]
        },
        {
          "metadata": {
            "tags": null
          },
          "name": "stderr",
          "output_type": "stream",
          "text": [
            "\n"
          ]
        },
        {
          "metadata": {
            "tags": null
          },
          "name": "stdout",
          "output_type": "stream",
          "text": [
            "\n",
            "      Epoch    GPU_mem   box_loss   cls_loss   dfl_loss  Instances       Size\n"
          ]
        },
        {
          "metadata": {
            "tags": null
          },
          "name": "stderr",
          "output_type": "stream",
          "text": [
            "     39/300        14G      1.791      1.171      1.356         11        640: 100%|██████████| 17/17 [00:20<00:00,  1.20s/it]\n",
            "                 Class     Images  Instances      Box(P          R      mAP50  mAP50-95): 100%|██████████| 3/3 [00:02<00:00,  1.07it/s]"
          ]
        },
        {
          "metadata": {
            "tags": null
          },
          "name": "stdout",
          "output_type": "stream",
          "text": [
            "                   all         75         75      0.798      0.707      0.753      0.385\n"
          ]
        },
        {
          "metadata": {
            "tags": null
          },
          "name": "stderr",
          "output_type": "stream",
          "text": [
            "\n"
          ]
        },
        {
          "metadata": {
            "tags": null
          },
          "name": "stdout",
          "output_type": "stream",
          "text": [
            "\n",
            "      Epoch    GPU_mem   box_loss   cls_loss   dfl_loss  Instances       Size\n"
          ]
        },
        {
          "metadata": {
            "tags": null
          },
          "name": "stderr",
          "output_type": "stream",
          "text": [
            "     40/300        14G      1.777      1.302      1.356          3        640: 100%|██████████| 17/17 [00:20<00:00,  1.21s/it]\n",
            "                 Class     Images  Instances      Box(P          R      mAP50  mAP50-95): 100%|██████████| 3/3 [00:02<00:00,  1.12it/s]"
          ]
        },
        {
          "metadata": {
            "tags": null
          },
          "name": "stdout",
          "output_type": "stream",
          "text": [
            "                   all         75         75      0.901       0.64      0.754      0.358\n"
          ]
        },
        {
          "metadata": {
            "tags": null
          },
          "name": "stderr",
          "output_type": "stream",
          "text": [
            "\n"
          ]
        },
        {
          "metadata": {
            "tags": null
          },
          "name": "stdout",
          "output_type": "stream",
          "text": [
            "\n",
            "      Epoch    GPU_mem   box_loss   cls_loss   dfl_loss  Instances       Size\n"
          ]
        },
        {
          "metadata": {
            "tags": null
          },
          "name": "stderr",
          "output_type": "stream",
          "text": [
            "     41/300      13.9G      1.724      1.123      1.341         10        640: 100%|██████████| 17/17 [00:20<00:00,  1.20s/it]\n",
            "                 Class     Images  Instances      Box(P          R      mAP50  mAP50-95): 100%|██████████| 3/3 [00:03<00:00,  1.00s/it]"
          ]
        },
        {
          "metadata": {
            "tags": null
          },
          "name": "stdout",
          "output_type": "stream",
          "text": [
            "                   all         75         75      0.811      0.733        0.8      0.396\n"
          ]
        },
        {
          "metadata": {
            "tags": null
          },
          "name": "stderr",
          "output_type": "stream",
          "text": [
            "\n"
          ]
        },
        {
          "metadata": {
            "tags": null
          },
          "name": "stdout",
          "output_type": "stream",
          "text": [
            "\n",
            "      Epoch    GPU_mem   box_loss   cls_loss   dfl_loss  Instances       Size\n"
          ]
        },
        {
          "metadata": {
            "tags": null
          },
          "name": "stderr",
          "output_type": "stream",
          "text": [
            "     42/300      13.9G      1.767      1.092      1.357          5        640: 100%|██████████| 17/17 [00:20<00:00,  1.19s/it]\n",
            "                 Class     Images  Instances      Box(P          R      mAP50  mAP50-95): 100%|██████████| 3/3 [00:02<00:00,  1.12it/s]"
          ]
        },
        {
          "metadata": {
            "tags": null
          },
          "name": "stdout",
          "output_type": "stream",
          "text": [
            "                   all         75         75      0.852      0.587      0.725      0.344\n"
          ]
        },
        {
          "metadata": {
            "tags": null
          },
          "name": "stderr",
          "output_type": "stream",
          "text": [
            "\n"
          ]
        },
        {
          "metadata": {
            "tags": null
          },
          "name": "stdout",
          "output_type": "stream",
          "text": [
            "\n",
            "      Epoch    GPU_mem   box_loss   cls_loss   dfl_loss  Instances       Size\n"
          ]
        },
        {
          "metadata": {
            "tags": null
          },
          "name": "stderr",
          "output_type": "stream",
          "text": [
            "     43/300        14G      1.736      1.105      1.385          5        640: 100%|██████████| 17/17 [00:20<00:00,  1.21s/it]\n",
            "                 Class     Images  Instances      Box(P          R      mAP50  mAP50-95): 100%|██████████| 3/3 [00:02<00:00,  1.00it/s]"
          ]
        },
        {
          "metadata": {
            "tags": null
          },
          "name": "stdout",
          "output_type": "stream",
          "text": [
            "                   all         75         75      0.941      0.707      0.821      0.427\n"
          ]
        },
        {
          "metadata": {
            "tags": null
          },
          "name": "stderr",
          "output_type": "stream",
          "text": [
            "\n"
          ]
        },
        {
          "metadata": {
            "tags": null
          },
          "name": "stdout",
          "output_type": "stream",
          "text": [
            "\n",
            "      Epoch    GPU_mem   box_loss   cls_loss   dfl_loss  Instances       Size\n"
          ]
        },
        {
          "metadata": {
            "tags": null
          },
          "name": "stderr",
          "output_type": "stream",
          "text": [
            "     44/300      14.1G      1.728      1.152       1.31          9        640: 100%|██████████| 17/17 [00:20<00:00,  1.21s/it]\n",
            "                 Class     Images  Instances      Box(P          R      mAP50  mAP50-95): 100%|██████████| 3/3 [00:03<00:00,  1.05s/it]"
          ]
        },
        {
          "metadata": {
            "tags": null
          },
          "name": "stdout",
          "output_type": "stream",
          "text": [
            "                   all         75         75      0.874      0.645      0.755      0.345\n"
          ]
        },
        {
          "metadata": {
            "tags": null
          },
          "name": "stderr",
          "output_type": "stream",
          "text": [
            "\n"
          ]
        },
        {
          "metadata": {
            "tags": null
          },
          "name": "stdout",
          "output_type": "stream",
          "text": [
            "\n",
            "      Epoch    GPU_mem   box_loss   cls_loss   dfl_loss  Instances       Size\n"
          ]
        },
        {
          "metadata": {
            "tags": null
          },
          "name": "stderr",
          "output_type": "stream",
          "text": [
            "     45/300      13.9G      1.699      1.111      1.347          9        640: 100%|██████████| 17/17 [00:20<00:00,  1.21s/it]\n",
            "                 Class     Images  Instances      Box(P          R      mAP50  mAP50-95): 100%|██████████| 3/3 [00:02<00:00,  1.02it/s]"
          ]
        },
        {
          "metadata": {
            "tags": null
          },
          "name": "stdout",
          "output_type": "stream",
          "text": [
            "                   all         75         75      0.771       0.72      0.784      0.408\n"
          ]
        },
        {
          "metadata": {
            "tags": null
          },
          "name": "stderr",
          "output_type": "stream",
          "text": [
            "\n"
          ]
        },
        {
          "metadata": {
            "tags": null
          },
          "name": "stdout",
          "output_type": "stream",
          "text": [
            "\n",
            "      Epoch    GPU_mem   box_loss   cls_loss   dfl_loss  Instances       Size\n"
          ]
        },
        {
          "metadata": {
            "tags": null
          },
          "name": "stderr",
          "output_type": "stream",
          "text": [
            "     46/300      13.9G      1.693      1.076      1.341          7        640: 100%|██████████| 17/17 [00:20<00:00,  1.19s/it]\n",
            "                 Class     Images  Instances      Box(P          R      mAP50  mAP50-95): 100%|██████████| 3/3 [00:02<00:00,  1.12it/s]"
          ]
        },
        {
          "metadata": {
            "tags": null
          },
          "name": "stdout",
          "output_type": "stream",
          "text": [
            "                   all         75         75      0.799      0.529      0.659      0.274\n"
          ]
        },
        {
          "metadata": {
            "tags": null
          },
          "name": "stderr",
          "output_type": "stream",
          "text": [
            "\n"
          ]
        },
        {
          "metadata": {
            "tags": null
          },
          "name": "stdout",
          "output_type": "stream",
          "text": [
            "\n",
            "      Epoch    GPU_mem   box_loss   cls_loss   dfl_loss  Instances       Size\n"
          ]
        },
        {
          "metadata": {
            "tags": null
          },
          "name": "stderr",
          "output_type": "stream",
          "text": [
            "     47/300        14G      1.654      1.201      1.317          8        640: 100%|██████████| 17/17 [00:20<00:00,  1.21s/it]\n",
            "                 Class     Images  Instances      Box(P          R      mAP50  mAP50-95): 100%|██████████| 3/3 [00:02<00:00,  1.05it/s]"
          ]
        },
        {
          "metadata": {
            "tags": null
          },
          "name": "stdout",
          "output_type": "stream",
          "text": [
            "                   all         75         75      0.775       0.72      0.766      0.356\n"
          ]
        },
        {
          "metadata": {
            "tags": null
          },
          "name": "stderr",
          "output_type": "stream",
          "text": [
            "\n"
          ]
        },
        {
          "metadata": {
            "tags": null
          },
          "name": "stdout",
          "output_type": "stream",
          "text": [
            "\n",
            "      Epoch    GPU_mem   box_loss   cls_loss   dfl_loss  Instances       Size\n"
          ]
        },
        {
          "metadata": {
            "tags": null
          },
          "name": "stderr",
          "output_type": "stream",
          "text": [
            "     48/300      14.1G       1.62      1.122      1.314          9        640: 100%|██████████| 17/17 [00:20<00:00,  1.20s/it]\n",
            "                 Class     Images  Instances      Box(P          R      mAP50  mAP50-95): 100%|██████████| 3/3 [00:02<00:00,  1.10it/s]"
          ]
        },
        {
          "metadata": {
            "tags": null
          },
          "name": "stdout",
          "output_type": "stream",
          "text": [
            "                   all         75         75      0.731       0.69      0.779      0.382\n"
          ]
        },
        {
          "metadata": {
            "tags": null
          },
          "name": "stderr",
          "output_type": "stream",
          "text": [
            "\n"
          ]
        },
        {
          "metadata": {
            "tags": null
          },
          "name": "stdout",
          "output_type": "stream",
          "text": [
            "\n",
            "      Epoch    GPU_mem   box_loss   cls_loss   dfl_loss  Instances       Size\n"
          ]
        },
        {
          "metadata": {
            "tags": null
          },
          "name": "stderr",
          "output_type": "stream",
          "text": [
            "     49/300      13.9G      1.709      1.149      1.323         13        640: 100%|██████████| 17/17 [00:20<00:00,  1.21s/it]\n",
            "                 Class     Images  Instances      Box(P          R      mAP50  mAP50-95): 100%|██████████| 3/3 [00:02<00:00,  1.06it/s]"
          ]
        },
        {
          "metadata": {
            "tags": null
          },
          "name": "stdout",
          "output_type": "stream",
          "text": [
            "                   all         75         75      0.833      0.707       0.83      0.394\n"
          ]
        },
        {
          "metadata": {
            "tags": null
          },
          "name": "stderr",
          "output_type": "stream",
          "text": [
            "\n"
          ]
        },
        {
          "metadata": {
            "tags": null
          },
          "name": "stdout",
          "output_type": "stream",
          "text": [
            "\n",
            "      Epoch    GPU_mem   box_loss   cls_loss   dfl_loss  Instances       Size\n"
          ]
        },
        {
          "metadata": {
            "tags": null
          },
          "name": "stderr",
          "output_type": "stream",
          "text": [
            "     50/300      13.9G      1.629      1.031       1.26          8        640: 100%|██████████| 17/17 [00:20<00:00,  1.20s/it]\n",
            "                 Class     Images  Instances      Box(P          R      mAP50  mAP50-95): 100%|██████████| 3/3 [00:02<00:00,  1.12it/s]"
          ]
        },
        {
          "metadata": {
            "tags": null
          },
          "name": "stdout",
          "output_type": "stream",
          "text": [
            "                   all         75         75      0.835      0.807      0.825      0.417\n"
          ]
        },
        {
          "metadata": {
            "tags": null
          },
          "name": "stderr",
          "output_type": "stream",
          "text": [
            "\n"
          ]
        },
        {
          "metadata": {
            "tags": null
          },
          "name": "stdout",
          "output_type": "stream",
          "text": [
            "\n",
            "      Epoch    GPU_mem   box_loss   cls_loss   dfl_loss  Instances       Size\n"
          ]
        },
        {
          "metadata": {
            "tags": null
          },
          "name": "stderr",
          "output_type": "stream",
          "text": [
            "     51/300        14G      1.564          1      1.302          6        640: 100%|██████████| 17/17 [00:20<00:00,  1.21s/it]\n",
            "                 Class     Images  Instances      Box(P          R      mAP50  mAP50-95): 100%|██████████| 3/3 [00:02<00:00,  1.08it/s]"
          ]
        },
        {
          "metadata": {
            "tags": null
          },
          "name": "stdout",
          "output_type": "stream",
          "text": [
            "                   all         75         75      0.851      0.787      0.844      0.398\n"
          ]
        },
        {
          "metadata": {
            "tags": null
          },
          "name": "stderr",
          "output_type": "stream",
          "text": [
            "\n"
          ]
        },
        {
          "metadata": {
            "tags": null
          },
          "name": "stdout",
          "output_type": "stream",
          "text": [
            "\n",
            "      Epoch    GPU_mem   box_loss   cls_loss   dfl_loss  Instances       Size\n"
          ]
        },
        {
          "metadata": {
            "tags": null
          },
          "name": "stderr",
          "output_type": "stream",
          "text": [
            "     52/300      14.1G        1.7      1.089      1.302         16        640: 100%|██████████| 17/17 [00:20<00:00,  1.20s/it]\n",
            "                 Class     Images  Instances      Box(P          R      mAP50  mAP50-95): 100%|██████████| 3/3 [00:02<00:00,  1.01it/s]"
          ]
        },
        {
          "metadata": {
            "tags": null
          },
          "name": "stdout",
          "output_type": "stream",
          "text": [
            "                   all         75         75      0.709      0.693      0.774      0.363\n"
          ]
        },
        {
          "metadata": {
            "tags": null
          },
          "name": "stderr",
          "output_type": "stream",
          "text": [
            "\n"
          ]
        },
        {
          "metadata": {
            "tags": null
          },
          "name": "stdout",
          "output_type": "stream",
          "text": [
            "\n",
            "      Epoch    GPU_mem   box_loss   cls_loss   dfl_loss  Instances       Size\n"
          ]
        },
        {
          "metadata": {
            "tags": null
          },
          "name": "stderr",
          "output_type": "stream",
          "text": [
            "     53/300      13.9G      1.629      1.056      1.317         12        640: 100%|██████████| 17/17 [00:20<00:00,  1.20s/it]\n",
            "                 Class     Images  Instances      Box(P          R      mAP50  mAP50-95): 100%|██████████| 3/3 [00:02<00:00,  1.14it/s]"
          ]
        },
        {
          "metadata": {
            "tags": null
          },
          "name": "stdout",
          "output_type": "stream",
          "text": [
            "                   all         75         75      0.841       0.64      0.761      0.347\n"
          ]
        },
        {
          "metadata": {
            "tags": null
          },
          "name": "stderr",
          "output_type": "stream",
          "text": [
            "\n"
          ]
        },
        {
          "metadata": {
            "tags": null
          },
          "name": "stdout",
          "output_type": "stream",
          "text": [
            "\n",
            "      Epoch    GPU_mem   box_loss   cls_loss   dfl_loss  Instances       Size\n"
          ]
        },
        {
          "metadata": {
            "tags": null
          },
          "name": "stderr",
          "output_type": "stream",
          "text": [
            "     54/300      13.9G      1.695      1.082      1.336          9        640: 100%|██████████| 17/17 [00:20<00:00,  1.20s/it]\n",
            "                 Class     Images  Instances      Box(P          R      mAP50  mAP50-95): 100%|██████████| 3/3 [00:02<00:00,  1.14it/s]"
          ]
        },
        {
          "metadata": {
            "tags": null
          },
          "name": "stdout",
          "output_type": "stream",
          "text": [
            "                   all         75         75      0.895       0.68       0.75      0.365\n"
          ]
        },
        {
          "metadata": {
            "tags": null
          },
          "name": "stderr",
          "output_type": "stream",
          "text": [
            "\n"
          ]
        },
        {
          "metadata": {
            "tags": null
          },
          "name": "stdout",
          "output_type": "stream",
          "text": [
            "\n",
            "      Epoch    GPU_mem   box_loss   cls_loss   dfl_loss  Instances       Size\n"
          ]
        },
        {
          "metadata": {
            "tags": null
          },
          "name": "stderr",
          "output_type": "stream",
          "text": [
            "     55/300        14G      1.598     0.9671      1.272         10        640: 100%|██████████| 17/17 [00:20<00:00,  1.20s/it]\n",
            "                 Class     Images  Instances      Box(P          R      mAP50  mAP50-95): 100%|██████████| 3/3 [00:02<00:00,  1.03it/s]"
          ]
        },
        {
          "metadata": {
            "tags": null
          },
          "name": "stdout",
          "output_type": "stream",
          "text": [
            "                   all         75         75      0.857      0.717      0.774      0.364\n"
          ]
        },
        {
          "metadata": {
            "tags": null
          },
          "name": "stderr",
          "output_type": "stream",
          "text": [
            "\n"
          ]
        },
        {
          "metadata": {
            "tags": null
          },
          "name": "stdout",
          "output_type": "stream",
          "text": [
            "\n",
            "      Epoch    GPU_mem   box_loss   cls_loss   dfl_loss  Instances       Size\n"
          ]
        },
        {
          "metadata": {
            "tags": null
          },
          "name": "stderr",
          "output_type": "stream",
          "text": [
            "     56/300        14G      1.612      1.005      1.297          9        640: 100%|██████████| 17/17 [00:20<00:00,  1.19s/it]\n",
            "                 Class     Images  Instances      Box(P          R      mAP50  mAP50-95): 100%|██████████| 3/3 [00:02<00:00,  1.12it/s]"
          ]
        },
        {
          "metadata": {
            "tags": null
          },
          "name": "stdout",
          "output_type": "stream",
          "text": [
            "                   all         75         75      0.872       0.76      0.827      0.396\n"
          ]
        },
        {
          "metadata": {
            "tags": null
          },
          "name": "stderr",
          "output_type": "stream",
          "text": [
            "\n"
          ]
        },
        {
          "metadata": {
            "tags": null
          },
          "name": "stdout",
          "output_type": "stream",
          "text": [
            "\n",
            "      Epoch    GPU_mem   box_loss   cls_loss   dfl_loss  Instances       Size\n"
          ]
        },
        {
          "metadata": {
            "tags": null
          },
          "name": "stderr",
          "output_type": "stream",
          "text": [
            "     57/300      13.9G       1.53     0.9843       1.27         14        640: 100%|██████████| 17/17 [00:20<00:00,  1.20s/it]\n",
            "                 Class     Images  Instances      Box(P          R      mAP50  mAP50-95): 100%|██████████| 3/3 [00:02<00:00,  1.13it/s]"
          ]
        },
        {
          "metadata": {
            "tags": null
          },
          "name": "stdout",
          "output_type": "stream",
          "text": [
            "                   all         75         75      0.872      0.724      0.803      0.398\n"
          ]
        },
        {
          "metadata": {
            "tags": null
          },
          "name": "stderr",
          "output_type": "stream",
          "text": [
            "\n"
          ]
        },
        {
          "metadata": {
            "tags": null
          },
          "name": "stdout",
          "output_type": "stream",
          "text": [
            "\n",
            "      Epoch    GPU_mem   box_loss   cls_loss   dfl_loss  Instances       Size\n"
          ]
        },
        {
          "metadata": {
            "tags": null
          },
          "name": "stderr",
          "output_type": "stream",
          "text": [
            "     58/300      13.9G      1.553     0.9049       1.27          7        640: 100%|██████████| 17/17 [00:20<00:00,  1.19s/it]\n",
            "                 Class     Images  Instances      Box(P          R      mAP50  mAP50-95): 100%|██████████| 3/3 [00:02<00:00,  1.06it/s]"
          ]
        },
        {
          "metadata": {
            "tags": null
          },
          "name": "stdout",
          "output_type": "stream",
          "text": [
            "                   all         75         75      0.813      0.754      0.804      0.411\n"
          ]
        },
        {
          "metadata": {
            "tags": null
          },
          "name": "stderr",
          "output_type": "stream",
          "text": [
            "\n"
          ]
        },
        {
          "metadata": {
            "tags": null
          },
          "name": "stdout",
          "output_type": "stream",
          "text": [
            "\n",
            "      Epoch    GPU_mem   box_loss   cls_loss   dfl_loss  Instances       Size\n"
          ]
        },
        {
          "metadata": {
            "tags": null
          },
          "name": "stderr",
          "output_type": "stream",
          "text": [
            "     59/300        14G      1.632      1.009      1.272          8        640: 100%|██████████| 17/17 [00:20<00:00,  1.19s/it]\n",
            "                 Class     Images  Instances      Box(P          R      mAP50  mAP50-95): 100%|██████████| 3/3 [00:02<00:00,  1.12it/s]"
          ]
        },
        {
          "metadata": {
            "tags": null
          },
          "name": "stdout",
          "output_type": "stream",
          "text": [
            "                   all         75         75      0.882      0.695      0.804      0.382\n"
          ]
        },
        {
          "metadata": {
            "tags": null
          },
          "name": "stderr",
          "output_type": "stream",
          "text": [
            "\n"
          ]
        },
        {
          "metadata": {
            "tags": null
          },
          "name": "stdout",
          "output_type": "stream",
          "text": [
            "\n",
            "      Epoch    GPU_mem   box_loss   cls_loss   dfl_loss  Instances       Size\n"
          ]
        },
        {
          "metadata": {
            "tags": null
          },
          "name": "stderr",
          "output_type": "stream",
          "text": [
            "     60/300        14G      1.611     0.9811      1.303          9        640: 100%|██████████| 17/17 [00:20<00:00,  1.19s/it]\n",
            "                 Class     Images  Instances      Box(P          R      mAP50  mAP50-95): 100%|██████████| 3/3 [00:02<00:00,  1.08it/s]"
          ]
        },
        {
          "metadata": {
            "tags": null
          },
          "name": "stdout",
          "output_type": "stream",
          "text": [
            "                   all         75         75       0.86        0.8      0.848      0.375\n"
          ]
        },
        {
          "metadata": {
            "tags": null
          },
          "name": "stderr",
          "output_type": "stream",
          "text": [
            "\n"
          ]
        },
        {
          "metadata": {
            "tags": null
          },
          "name": "stdout",
          "output_type": "stream",
          "text": [
            "\n",
            "      Epoch    GPU_mem   box_loss   cls_loss   dfl_loss  Instances       Size\n"
          ]
        },
        {
          "metadata": {
            "tags": null
          },
          "name": "stderr",
          "output_type": "stream",
          "text": [
            "     61/300      13.9G      1.585      1.002      1.357          6        640: 100%|██████████| 17/17 [00:20<00:00,  1.20s/it]\n",
            "                 Class     Images  Instances      Box(P          R      mAP50  mAP50-95): 100%|██████████| 3/3 [00:02<00:00,  1.13it/s]"
          ]
        },
        {
          "metadata": {
            "tags": null
          },
          "name": "stdout",
          "output_type": "stream",
          "text": [
            "                   all         75         75      0.923       0.72      0.823      0.402\n"
          ]
        },
        {
          "metadata": {
            "tags": null
          },
          "name": "stderr",
          "output_type": "stream",
          "text": [
            "\n"
          ]
        },
        {
          "metadata": {
            "tags": null
          },
          "name": "stdout",
          "output_type": "stream",
          "text": [
            "\n",
            "      Epoch    GPU_mem   box_loss   cls_loss   dfl_loss  Instances       Size\n"
          ]
        },
        {
          "metadata": {
            "tags": null
          },
          "name": "stderr",
          "output_type": "stream",
          "text": [
            "     62/300      13.9G      1.621     0.9669      1.298          8        640: 100%|██████████| 17/17 [00:20<00:00,  1.19s/it]\n",
            "                 Class     Images  Instances      Box(P          R      mAP50  mAP50-95): 100%|██████████| 3/3 [00:02<00:00,  1.15it/s]"
          ]
        },
        {
          "metadata": {
            "tags": null
          },
          "name": "stdout",
          "output_type": "stream",
          "text": [
            "                   all         75         75      0.875      0.733      0.803      0.336\n"
          ]
        },
        {
          "metadata": {
            "tags": null
          },
          "name": "stderr",
          "output_type": "stream",
          "text": [
            "\n"
          ]
        },
        {
          "metadata": {
            "tags": null
          },
          "name": "stdout",
          "output_type": "stream",
          "text": [
            "\n",
            "      Epoch    GPU_mem   box_loss   cls_loss   dfl_loss  Instances       Size\n"
          ]
        },
        {
          "metadata": {
            "tags": null
          },
          "name": "stderr",
          "output_type": "stream",
          "text": [
            "     63/300        14G      1.648     0.9623      1.297          7        640: 100%|██████████| 17/17 [00:20<00:00,  1.19s/it]\n",
            "                 Class     Images  Instances      Box(P          R      mAP50  mAP50-95): 100%|██████████| 3/3 [00:02<00:00,  1.01it/s]"
          ]
        },
        {
          "metadata": {
            "tags": null
          },
          "name": "stdout",
          "output_type": "stream",
          "text": [
            "                   all         75         75      0.824      0.813       0.83      0.412\n"
          ]
        },
        {
          "metadata": {
            "tags": null
          },
          "name": "stderr",
          "output_type": "stream",
          "text": [
            "\n"
          ]
        },
        {
          "metadata": {
            "tags": null
          },
          "name": "stdout",
          "output_type": "stream",
          "text": [
            "\n",
            "      Epoch    GPU_mem   box_loss   cls_loss   dfl_loss  Instances       Size\n"
          ]
        },
        {
          "metadata": {
            "tags": null
          },
          "name": "stderr",
          "output_type": "stream",
          "text": [
            "     64/300      14.1G       1.59     0.9567      1.299          6        640: 100%|██████████| 17/17 [00:20<00:00,  1.21s/it]\n",
            "                 Class     Images  Instances      Box(P          R      mAP50  mAP50-95): 100%|██████████| 3/3 [00:03<00:00,  1.01s/it]"
          ]
        },
        {
          "metadata": {
            "tags": null
          },
          "name": "stdout",
          "output_type": "stream",
          "text": [
            "                   all         75         75      0.895        0.8      0.866      0.425\n"
          ]
        },
        {
          "metadata": {
            "tags": null
          },
          "name": "stderr",
          "output_type": "stream",
          "text": [
            "\n"
          ]
        },
        {
          "metadata": {
            "tags": null
          },
          "name": "stdout",
          "output_type": "stream",
          "text": [
            "\n",
            "      Epoch    GPU_mem   box_loss   cls_loss   dfl_loss  Instances       Size\n"
          ]
        },
        {
          "metadata": {
            "tags": null
          },
          "name": "stderr",
          "output_type": "stream",
          "text": [
            "     65/300      13.9G      1.606     0.9571      1.325          5        640: 100%|██████████| 17/17 [00:20<00:00,  1.21s/it]\n",
            "                 Class     Images  Instances      Box(P          R      mAP50  mAP50-95): 100%|██████████| 3/3 [00:02<00:00,  1.02it/s]"
          ]
        },
        {
          "metadata": {
            "tags": null
          },
          "name": "stdout",
          "output_type": "stream",
          "text": [
            "                   all         75         75      0.794      0.787      0.841      0.408\n"
          ]
        },
        {
          "metadata": {
            "tags": null
          },
          "name": "stderr",
          "output_type": "stream",
          "text": [
            "\n"
          ]
        },
        {
          "metadata": {
            "tags": null
          },
          "name": "stdout",
          "output_type": "stream",
          "text": [
            "\n",
            "      Epoch    GPU_mem   box_loss   cls_loss   dfl_loss  Instances       Size\n"
          ]
        },
        {
          "metadata": {
            "tags": null
          },
          "name": "stderr",
          "output_type": "stream",
          "text": [
            "     66/300      13.9G      1.603      0.895      1.314          5        640: 100%|██████████| 17/17 [00:20<00:00,  1.20s/it]\n",
            "                 Class     Images  Instances      Box(P          R      mAP50  mAP50-95): 100%|██████████| 3/3 [00:02<00:00,  1.05it/s]"
          ]
        },
        {
          "metadata": {
            "tags": null
          },
          "name": "stdout",
          "output_type": "stream",
          "text": [
            "                   all         75         75      0.846      0.807      0.839      0.412\n"
          ]
        },
        {
          "metadata": {
            "tags": null
          },
          "name": "stderr",
          "output_type": "stream",
          "text": [
            "\n"
          ]
        },
        {
          "metadata": {
            "tags": null
          },
          "name": "stdout",
          "output_type": "stream",
          "text": [
            "\n",
            "      Epoch    GPU_mem   box_loss   cls_loss   dfl_loss  Instances       Size\n"
          ]
        },
        {
          "metadata": {
            "tags": null
          },
          "name": "stderr",
          "output_type": "stream",
          "text": [
            "     67/300        14G      1.597     0.9699       1.28         10        640: 100%|██████████| 17/17 [00:20<00:00,  1.18s/it]\n",
            "                 Class     Images  Instances      Box(P          R      mAP50  mAP50-95): 100%|██████████| 3/3 [00:02<00:00,  1.13it/s]"
          ]
        },
        {
          "metadata": {
            "tags": null
          },
          "name": "stdout",
          "output_type": "stream",
          "text": [
            "                   all         75         75      0.876      0.753      0.798       0.34\n"
          ]
        },
        {
          "metadata": {
            "tags": null
          },
          "name": "stderr",
          "output_type": "stream",
          "text": [
            "\n"
          ]
        },
        {
          "metadata": {
            "tags": null
          },
          "name": "stdout",
          "output_type": "stream",
          "text": [
            "\n",
            "      Epoch    GPU_mem   box_loss   cls_loss   dfl_loss  Instances       Size\n"
          ]
        },
        {
          "metadata": {
            "tags": null
          },
          "name": "stderr",
          "output_type": "stream",
          "text": [
            "     68/300      14.1G       1.52     0.9197        1.3          7        640: 100%|██████████| 17/17 [00:20<00:00,  1.21s/it]\n",
            "                 Class     Images  Instances      Box(P          R      mAP50  mAP50-95): 100%|██████████| 3/3 [00:02<00:00,  1.13it/s]"
          ]
        },
        {
          "metadata": {
            "tags": null
          },
          "name": "stdout",
          "output_type": "stream",
          "text": [
            "                   all         75         75      0.626      0.787      0.663      0.301\n"
          ]
        },
        {
          "metadata": {
            "tags": null
          },
          "name": "stderr",
          "output_type": "stream",
          "text": [
            "\n"
          ]
        },
        {
          "metadata": {
            "tags": null
          },
          "name": "stdout",
          "output_type": "stream",
          "text": [
            "\n",
            "      Epoch    GPU_mem   box_loss   cls_loss   dfl_loss  Instances       Size\n"
          ]
        },
        {
          "metadata": {
            "tags": null
          },
          "name": "stderr",
          "output_type": "stream",
          "text": [
            "     69/300      13.9G       1.51     0.9335      1.197          7        640: 100%|██████████| 17/17 [00:20<00:00,  1.19s/it]\n",
            "                 Class     Images  Instances      Box(P          R      mAP50  mAP50-95): 100%|██████████| 3/3 [00:02<00:00,  1.02it/s]"
          ]
        },
        {
          "metadata": {
            "tags": null
          },
          "name": "stdout",
          "output_type": "stream",
          "text": [
            "                   all         75         75      0.909      0.798      0.835       0.41\n"
          ]
        },
        {
          "metadata": {
            "tags": null
          },
          "name": "stderr",
          "output_type": "stream",
          "text": [
            "\n"
          ]
        },
        {
          "metadata": {
            "tags": null
          },
          "name": "stdout",
          "output_type": "stream",
          "text": [
            "\n",
            "      Epoch    GPU_mem   box_loss   cls_loss   dfl_loss  Instances       Size\n"
          ]
        },
        {
          "metadata": {
            "tags": null
          },
          "name": "stderr",
          "output_type": "stream",
          "text": [
            "     70/300      13.9G      1.616     0.9494       1.27          6        640: 100%|██████████| 17/17 [00:20<00:00,  1.19s/it]\n",
            "                 Class     Images  Instances      Box(P          R      mAP50  mAP50-95): 100%|██████████| 3/3 [00:02<00:00,  1.08it/s]"
          ]
        },
        {
          "metadata": {
            "tags": null
          },
          "name": "stdout",
          "output_type": "stream",
          "text": [
            "                   all         75         75      0.878      0.613      0.764        0.4\n"
          ]
        },
        {
          "metadata": {
            "tags": null
          },
          "name": "stderr",
          "output_type": "stream",
          "text": [
            "\n"
          ]
        },
        {
          "metadata": {
            "tags": null
          },
          "name": "stdout",
          "output_type": "stream",
          "text": [
            "\n",
            "      Epoch    GPU_mem   box_loss   cls_loss   dfl_loss  Instances       Size\n"
          ]
        },
        {
          "metadata": {
            "tags": null
          },
          "name": "stderr",
          "output_type": "stream",
          "text": [
            "     71/300        14G      1.635     0.9837      1.228          8        640: 100%|██████████| 17/17 [00:20<00:00,  1.20s/it]\n",
            "                 Class     Images  Instances      Box(P          R      mAP50  mAP50-95): 100%|██████████| 3/3 [00:02<00:00,  1.11it/s]"
          ]
        },
        {
          "metadata": {
            "tags": null
          },
          "name": "stdout",
          "output_type": "stream",
          "text": [
            "                   all         75         75      0.927      0.693      0.809      0.397\n"
          ]
        },
        {
          "metadata": {
            "tags": null
          },
          "name": "stderr",
          "output_type": "stream",
          "text": [
            "\n"
          ]
        },
        {
          "metadata": {
            "tags": null
          },
          "name": "stdout",
          "output_type": "stream",
          "text": [
            "\n",
            "      Epoch    GPU_mem   box_loss   cls_loss   dfl_loss  Instances       Size\n"
          ]
        },
        {
          "metadata": {
            "tags": null
          },
          "name": "stderr",
          "output_type": "stream",
          "text": [
            "     72/300        14G       1.65     0.9814       1.29          8        640: 100%|██████████| 17/17 [00:20<00:00,  1.20s/it]\n",
            "                 Class     Images  Instances      Box(P          R      mAP50  mAP50-95): 100%|██████████| 3/3 [00:02<00:00,  1.10it/s]"
          ]
        },
        {
          "metadata": {
            "tags": null
          },
          "name": "stdout",
          "output_type": "stream",
          "text": [
            "                   all         75         75      0.756       0.72      0.735      0.342\n"
          ]
        },
        {
          "metadata": {
            "tags": null
          },
          "name": "stderr",
          "output_type": "stream",
          "text": [
            "\n"
          ]
        },
        {
          "metadata": {
            "tags": null
          },
          "name": "stdout",
          "output_type": "stream",
          "text": [
            "\n",
            "      Epoch    GPU_mem   box_loss   cls_loss   dfl_loss  Instances       Size\n"
          ]
        },
        {
          "metadata": {
            "tags": null
          },
          "name": "stderr",
          "output_type": "stream",
          "text": [
            "     73/300      13.9G      1.574     0.9529      1.307          5        640: 100%|██████████| 17/17 [00:20<00:00,  1.20s/it]\n",
            "                 Class     Images  Instances      Box(P          R      mAP50  mAP50-95): 100%|██████████| 3/3 [00:02<00:00,  1.08it/s]"
          ]
        },
        {
          "metadata": {
            "tags": null
          },
          "name": "stdout",
          "output_type": "stream",
          "text": [
            "                   all         75         75      0.867      0.813      0.865      0.432\n"
          ]
        },
        {
          "metadata": {
            "tags": null
          },
          "name": "stderr",
          "output_type": "stream",
          "text": [
            "\n"
          ]
        },
        {
          "metadata": {
            "tags": null
          },
          "name": "stdout",
          "output_type": "stream",
          "text": [
            "\n",
            "      Epoch    GPU_mem   box_loss   cls_loss   dfl_loss  Instances       Size\n"
          ]
        },
        {
          "metadata": {
            "tags": null
          },
          "name": "stderr",
          "output_type": "stream",
          "text": [
            "     74/300      13.9G      1.589     0.9164      1.274          7        640: 100%|██████████| 17/17 [00:20<00:00,  1.20s/it]\n",
            "                 Class     Images  Instances      Box(P          R      mAP50  mAP50-95): 100%|██████████| 3/3 [00:02<00:00,  1.10it/s]"
          ]
        },
        {
          "metadata": {
            "tags": null
          },
          "name": "stdout",
          "output_type": "stream",
          "text": [
            "                   all         75         75      0.826      0.733      0.752      0.348\n"
          ]
        },
        {
          "metadata": {
            "tags": null
          },
          "name": "stderr",
          "output_type": "stream",
          "text": [
            "\n"
          ]
        },
        {
          "metadata": {
            "tags": null
          },
          "name": "stdout",
          "output_type": "stream",
          "text": [
            "\n",
            "      Epoch    GPU_mem   box_loss   cls_loss   dfl_loss  Instances       Size\n"
          ]
        },
        {
          "metadata": {
            "tags": null
          },
          "name": "stderr",
          "output_type": "stream",
          "text": [
            "     75/300        14G      1.599     0.9148      1.277          7        640: 100%|██████████| 17/17 [00:20<00:00,  1.20s/it]\n",
            "                 Class     Images  Instances      Box(P          R      mAP50  mAP50-95): 100%|██████████| 3/3 [00:02<00:00,  1.07it/s]"
          ]
        },
        {
          "metadata": {
            "tags": null
          },
          "name": "stdout",
          "output_type": "stream",
          "text": [
            "                   all         75         75      0.899      0.709       0.81       0.41\n"
          ]
        },
        {
          "metadata": {
            "tags": null
          },
          "name": "stderr",
          "output_type": "stream",
          "text": [
            "\n"
          ]
        },
        {
          "metadata": {
            "tags": null
          },
          "name": "stdout",
          "output_type": "stream",
          "text": [
            "\n",
            "      Epoch    GPU_mem   box_loss   cls_loss   dfl_loss  Instances       Size\n"
          ]
        },
        {
          "metadata": {
            "tags": null
          },
          "name": "stderr",
          "output_type": "stream",
          "text": [
            "     76/300        14G      1.587     0.9298      1.265          6        640: 100%|██████████| 17/17 [00:20<00:00,  1.20s/it]\n",
            "                 Class     Images  Instances      Box(P          R      mAP50  mAP50-95): 100%|██████████| 3/3 [00:02<00:00,  1.00it/s]"
          ]
        },
        {
          "metadata": {
            "tags": null
          },
          "name": "stdout",
          "output_type": "stream",
          "text": [
            "                   all         75         75       0.88      0.779      0.836      0.422\n"
          ]
        },
        {
          "metadata": {
            "tags": null
          },
          "name": "stderr",
          "output_type": "stream",
          "text": [
            "\n"
          ]
        },
        {
          "metadata": {
            "tags": null
          },
          "name": "stdout",
          "output_type": "stream",
          "text": [
            "\n",
            "      Epoch    GPU_mem   box_loss   cls_loss   dfl_loss  Instances       Size\n"
          ]
        },
        {
          "metadata": {
            "tags": null
          },
          "name": "stderr",
          "output_type": "stream",
          "text": [
            "     77/300      13.9G      1.534     0.8311      1.213          9        640: 100%|██████████| 17/17 [00:20<00:00,  1.21s/it]\n",
            "                 Class     Images  Instances      Box(P          R      mAP50  mAP50-95): 100%|██████████| 3/3 [00:02<00:00,  1.08it/s]"
          ]
        },
        {
          "metadata": {
            "tags": null
          },
          "name": "stdout",
          "output_type": "stream",
          "text": [
            "                   all         75         75      0.966      0.756      0.841       0.42\n"
          ]
        },
        {
          "metadata": {
            "tags": null
          },
          "name": "stderr",
          "output_type": "stream",
          "text": [
            "\n"
          ]
        },
        {
          "metadata": {
            "tags": null
          },
          "name": "stdout",
          "output_type": "stream",
          "text": [
            "\n",
            "      Epoch    GPU_mem   box_loss   cls_loss   dfl_loss  Instances       Size\n"
          ]
        },
        {
          "metadata": {
            "tags": null
          },
          "name": "stderr",
          "output_type": "stream",
          "text": [
            "     78/300      13.9G      1.446     0.8138      1.271          7        640: 100%|██████████| 17/17 [00:20<00:00,  1.19s/it]\n",
            "                 Class     Images  Instances      Box(P          R      mAP50  mAP50-95): 100%|██████████| 3/3 [00:02<00:00,  1.09it/s]"
          ]
        },
        {
          "metadata": {
            "tags": null
          },
          "name": "stdout",
          "output_type": "stream",
          "text": [
            "                   all         75         75       0.87      0.787      0.855      0.416\n"
          ]
        },
        {
          "metadata": {
            "tags": null
          },
          "name": "stderr",
          "output_type": "stream",
          "text": [
            "\n"
          ]
        },
        {
          "metadata": {
            "tags": null
          },
          "name": "stdout",
          "output_type": "stream",
          "text": [
            "\n",
            "      Epoch    GPU_mem   box_loss   cls_loss   dfl_loss  Instances       Size\n"
          ]
        },
        {
          "metadata": {
            "tags": null
          },
          "name": "stderr",
          "output_type": "stream",
          "text": [
            "     79/300        14G      1.517     0.9026      1.224         11        640: 100%|██████████| 17/17 [00:20<00:00,  1.21s/it]\n",
            "                 Class     Images  Instances      Box(P          R      mAP50  mAP50-95): 100%|██████████| 3/3 [00:02<00:00,  1.12it/s]"
          ]
        },
        {
          "metadata": {
            "tags": null
          },
          "name": "stdout",
          "output_type": "stream",
          "text": [
            "                   all         75         75      0.895      0.693      0.791      0.391\n"
          ]
        },
        {
          "metadata": {
            "tags": null
          },
          "name": "stderr",
          "output_type": "stream",
          "text": [
            "\n"
          ]
        },
        {
          "metadata": {
            "tags": null
          },
          "name": "stdout",
          "output_type": "stream",
          "text": [
            "\n",
            "      Epoch    GPU_mem   box_loss   cls_loss   dfl_loss  Instances       Size\n"
          ]
        },
        {
          "metadata": {
            "tags": null
          },
          "name": "stderr",
          "output_type": "stream",
          "text": [
            "     80/300      14.1G      1.449     0.8374      1.229         10        640: 100%|██████████| 17/17 [00:20<00:00,  1.21s/it]\n",
            "                 Class     Images  Instances      Box(P          R      mAP50  mAP50-95): 100%|██████████| 3/3 [00:02<00:00,  1.05it/s]"
          ]
        },
        {
          "metadata": {
            "tags": null
          },
          "name": "stdout",
          "output_type": "stream",
          "text": [
            "                   all         75         75      0.805      0.667      0.714      0.342\n"
          ]
        },
        {
          "metadata": {
            "tags": null
          },
          "name": "stderr",
          "output_type": "stream",
          "text": [
            "\n"
          ]
        },
        {
          "metadata": {
            "tags": null
          },
          "name": "stdout",
          "output_type": "stream",
          "text": [
            "\n",
            "      Epoch    GPU_mem   box_loss   cls_loss   dfl_loss  Instances       Size\n"
          ]
        },
        {
          "metadata": {
            "tags": null
          },
          "name": "stderr",
          "output_type": "stream",
          "text": [
            "     81/300      13.9G      1.517      0.864      1.235         10        640: 100%|██████████| 17/17 [00:20<00:00,  1.20s/it]\n",
            "                 Class     Images  Instances      Box(P          R      mAP50  mAP50-95): 100%|██████████| 3/3 [00:02<00:00,  1.07it/s]"
          ]
        },
        {
          "metadata": {
            "tags": null
          },
          "name": "stdout",
          "output_type": "stream",
          "text": [
            "                   all         75         75      0.898      0.747       0.85       0.43\n"
          ]
        },
        {
          "metadata": {
            "tags": null
          },
          "name": "stderr",
          "output_type": "stream",
          "text": [
            "\n"
          ]
        },
        {
          "metadata": {
            "tags": null
          },
          "name": "stdout",
          "output_type": "stream",
          "text": [
            "\n",
            "      Epoch    GPU_mem   box_loss   cls_loss   dfl_loss  Instances       Size\n"
          ]
        },
        {
          "metadata": {
            "tags": null
          },
          "name": "stderr",
          "output_type": "stream",
          "text": [
            "     82/300      13.9G      1.452     0.8023      1.185         14        640: 100%|██████████| 17/17 [00:20<00:00,  1.20s/it]\n",
            "                 Class     Images  Instances      Box(P          R      mAP50  mAP50-95): 100%|██████████| 3/3 [00:02<00:00,  1.11it/s]"
          ]
        },
        {
          "metadata": {
            "tags": null
          },
          "name": "stdout",
          "output_type": "stream",
          "text": [
            "                   all         75         75      0.894      0.786      0.851      0.426\n"
          ]
        },
        {
          "metadata": {
            "tags": null
          },
          "name": "stderr",
          "output_type": "stream",
          "text": [
            "\n"
          ]
        },
        {
          "metadata": {
            "tags": null
          },
          "name": "stdout",
          "output_type": "stream",
          "text": [
            "\n",
            "      Epoch    GPU_mem   box_loss   cls_loss   dfl_loss  Instances       Size\n"
          ]
        },
        {
          "metadata": {
            "tags": null
          },
          "name": "stderr",
          "output_type": "stream",
          "text": [
            "     83/300        14G      1.458     0.7746      1.181          9        640: 100%|██████████| 17/17 [00:20<00:00,  1.21s/it]\n",
            "                 Class     Images  Instances      Box(P          R      mAP50  mAP50-95): 100%|██████████| 3/3 [00:02<00:00,  1.08it/s]"
          ]
        },
        {
          "metadata": {
            "tags": null
          },
          "name": "stdout",
          "output_type": "stream",
          "text": [
            "                   all         75         75      0.933      0.744      0.838      0.416\n"
          ]
        },
        {
          "metadata": {
            "tags": null
          },
          "name": "stderr",
          "output_type": "stream",
          "text": [
            "\n"
          ]
        },
        {
          "metadata": {
            "tags": null
          },
          "name": "stdout",
          "output_type": "stream",
          "text": [
            "\n",
            "      Epoch    GPU_mem   box_loss   cls_loss   dfl_loss  Instances       Size\n"
          ]
        },
        {
          "metadata": {
            "tags": null
          },
          "name": "stderr",
          "output_type": "stream",
          "text": [
            "     84/300      14.1G      1.507     0.8035       1.22         11        640: 100%|██████████| 17/17 [00:20<00:00,  1.20s/it]\n",
            "                 Class     Images  Instances      Box(P          R      mAP50  mAP50-95): 100%|██████████| 3/3 [00:02<00:00,  1.05it/s]"
          ]
        },
        {
          "metadata": {
            "tags": null
          },
          "name": "stdout",
          "output_type": "stream",
          "text": [
            "                   all         75         75      0.923      0.799      0.836      0.399\n"
          ]
        },
        {
          "metadata": {
            "tags": null
          },
          "name": "stderr",
          "output_type": "stream",
          "text": [
            "\n"
          ]
        },
        {
          "metadata": {
            "tags": null
          },
          "name": "stdout",
          "output_type": "stream",
          "text": [
            "\n",
            "      Epoch    GPU_mem   box_loss   cls_loss   dfl_loss  Instances       Size\n"
          ]
        },
        {
          "metadata": {
            "tags": null
          },
          "name": "stderr",
          "output_type": "stream",
          "text": [
            "     85/300      13.9G      1.411     0.7611      1.197          4        640: 100%|██████████| 17/17 [00:20<00:00,  1.20s/it]\n",
            "                 Class     Images  Instances      Box(P          R      mAP50  mAP50-95): 100%|██████████| 3/3 [00:02<00:00,  1.07it/s]"
          ]
        },
        {
          "metadata": {
            "tags": null
          },
          "name": "stdout",
          "output_type": "stream",
          "text": [
            "                   all         75         75      0.868      0.693       0.75      0.367\n"
          ]
        },
        {
          "metadata": {
            "tags": null
          },
          "name": "stderr",
          "output_type": "stream",
          "text": [
            "\n"
          ]
        },
        {
          "metadata": {
            "tags": null
          },
          "name": "stdout",
          "output_type": "stream",
          "text": [
            "\n",
            "      Epoch    GPU_mem   box_loss   cls_loss   dfl_loss  Instances       Size\n"
          ]
        },
        {
          "metadata": {
            "tags": null
          },
          "name": "stderr",
          "output_type": "stream",
          "text": [
            "     86/300      13.9G      1.489     0.8002      1.188          7        640: 100%|██████████| 17/17 [00:20<00:00,  1.20s/it]\n",
            "                 Class     Images  Instances      Box(P          R      mAP50  mAP50-95): 100%|██████████| 3/3 [00:02<00:00,  1.12it/s]"
          ]
        },
        {
          "metadata": {
            "tags": null
          },
          "name": "stdout",
          "output_type": "stream",
          "text": [
            "                   all         75         75      0.892       0.76      0.798      0.368\n"
          ]
        },
        {
          "metadata": {
            "tags": null
          },
          "name": "stderr",
          "output_type": "stream",
          "text": [
            "\n"
          ]
        },
        {
          "metadata": {
            "tags": null
          },
          "name": "stdout",
          "output_type": "stream",
          "text": [
            "\n",
            "      Epoch    GPU_mem   box_loss   cls_loss   dfl_loss  Instances       Size\n"
          ]
        },
        {
          "metadata": {
            "tags": null
          },
          "name": "stderr",
          "output_type": "stream",
          "text": [
            "     87/300        14G      1.468     0.7865       1.25          6        640: 100%|██████████| 17/17 [00:20<00:00,  1.20s/it]\n",
            "                 Class     Images  Instances      Box(P          R      mAP50  mAP50-95): 100%|██████████| 3/3 [00:02<00:00,  1.10it/s]"
          ]
        },
        {
          "metadata": {
            "tags": null
          },
          "name": "stdout",
          "output_type": "stream",
          "text": [
            "                   all         75         75       0.95      0.767      0.845      0.407\n"
          ]
        },
        {
          "metadata": {
            "tags": null
          },
          "name": "stderr",
          "output_type": "stream",
          "text": [
            "\n"
          ]
        },
        {
          "metadata": {
            "tags": null
          },
          "name": "stdout",
          "output_type": "stream",
          "text": [
            "\n",
            "      Epoch    GPU_mem   box_loss   cls_loss   dfl_loss  Instances       Size\n"
          ]
        },
        {
          "metadata": {
            "tags": null
          },
          "name": "stderr",
          "output_type": "stream",
          "text": [
            "     88/300        14G      1.457     0.8133      1.204         10        640: 100%|██████████| 17/17 [00:20<00:00,  1.20s/it]\n",
            "                 Class     Images  Instances      Box(P          R      mAP50  mAP50-95): 100%|██████████| 3/3 [00:02<00:00,  1.04it/s]"
          ]
        },
        {
          "metadata": {
            "tags": null
          },
          "name": "stdout",
          "output_type": "stream",
          "text": [
            "                   all         75         75      0.776        0.8      0.796      0.391\n"
          ]
        },
        {
          "metadata": {
            "tags": null
          },
          "name": "stderr",
          "output_type": "stream",
          "text": [
            "\n"
          ]
        },
        {
          "metadata": {
            "tags": null
          },
          "name": "stdout",
          "output_type": "stream",
          "text": [
            "\n",
            "      Epoch    GPU_mem   box_loss   cls_loss   dfl_loss  Instances       Size\n"
          ]
        },
        {
          "metadata": {
            "tags": null
          },
          "name": "stderr",
          "output_type": "stream",
          "text": [
            "     89/300      13.9G      1.552     0.9163      1.234         10        640: 100%|██████████| 17/17 [00:20<00:00,  1.20s/it]\n",
            "                 Class     Images  Instances      Box(P          R      mAP50  mAP50-95): 100%|██████████| 3/3 [00:02<00:00,  1.03it/s]"
          ]
        },
        {
          "metadata": {
            "tags": null
          },
          "name": "stdout",
          "output_type": "stream",
          "text": [
            "                   all         75         75      0.797      0.628      0.689      0.324\n"
          ]
        },
        {
          "metadata": {
            "tags": null
          },
          "name": "stderr",
          "output_type": "stream",
          "text": [
            "\n"
          ]
        },
        {
          "metadata": {
            "tags": null
          },
          "name": "stdout",
          "output_type": "stream",
          "text": [
            "\n",
            "      Epoch    GPU_mem   box_loss   cls_loss   dfl_loss  Instances       Size\n"
          ]
        },
        {
          "metadata": {
            "tags": null
          },
          "name": "stderr",
          "output_type": "stream",
          "text": [
            "     90/300      13.9G      1.407     0.9029      1.206         13        640: 100%|██████████| 17/17 [00:20<00:00,  1.20s/it]\n",
            "                 Class     Images  Instances      Box(P          R      mAP50  mAP50-95): 100%|██████████| 3/3 [00:02<00:00,  1.12it/s]"
          ]
        },
        {
          "metadata": {
            "tags": null
          },
          "name": "stdout",
          "output_type": "stream",
          "text": [
            "                   all         75         75      0.877      0.787       0.86      0.418\n"
          ]
        },
        {
          "metadata": {
            "tags": null
          },
          "name": "stderr",
          "output_type": "stream",
          "text": [
            "\n"
          ]
        },
        {
          "metadata": {
            "tags": null
          },
          "name": "stdout",
          "output_type": "stream",
          "text": [
            "\n",
            "      Epoch    GPU_mem   box_loss   cls_loss   dfl_loss  Instances       Size\n"
          ]
        },
        {
          "metadata": {
            "tags": null
          },
          "name": "stderr",
          "output_type": "stream",
          "text": [
            "     91/300        14G      1.444     0.8008      1.178          4        640: 100%|██████████| 17/17 [00:20<00:00,  1.19s/it]\n",
            "                 Class     Images  Instances      Box(P          R      mAP50  mAP50-95): 100%|██████████| 3/3 [00:02<00:00,  1.06it/s]"
          ]
        },
        {
          "metadata": {
            "tags": null
          },
          "name": "stdout",
          "output_type": "stream",
          "text": [
            "                   all         75         75       0.95      0.767      0.863      0.421\n"
          ]
        },
        {
          "metadata": {
            "tags": null
          },
          "name": "stderr",
          "output_type": "stream",
          "text": [
            "\n"
          ]
        },
        {
          "metadata": {
            "tags": null
          },
          "name": "stdout",
          "output_type": "stream",
          "text": [
            "\n",
            "      Epoch    GPU_mem   box_loss   cls_loss   dfl_loss  Instances       Size\n"
          ]
        },
        {
          "metadata": {
            "tags": null
          },
          "name": "stderr",
          "output_type": "stream",
          "text": [
            "     92/300        14G       1.48     0.8408      1.189          6        640: 100%|██████████| 17/17 [00:20<00:00,  1.20s/it]\n",
            "                 Class     Images  Instances      Box(P          R      mAP50  mAP50-95): 100%|██████████| 3/3 [00:02<00:00,  1.02it/s]"
          ]
        },
        {
          "metadata": {
            "tags": null
          },
          "name": "stdout",
          "output_type": "stream",
          "text": [
            "                   all         75         75      0.912      0.773      0.866      0.453\n"
          ]
        },
        {
          "metadata": {
            "tags": null
          },
          "name": "stderr",
          "output_type": "stream",
          "text": [
            "\n"
          ]
        },
        {
          "metadata": {
            "tags": null
          },
          "name": "stdout",
          "output_type": "stream",
          "text": [
            "\n",
            "      Epoch    GPU_mem   box_loss   cls_loss   dfl_loss  Instances       Size\n"
          ]
        },
        {
          "metadata": {
            "tags": null
          },
          "name": "stderr",
          "output_type": "stream",
          "text": [
            "     93/300      13.9G      1.414     0.7987      1.195         10        640: 100%|██████████| 17/17 [00:20<00:00,  1.20s/it]\n",
            "                 Class     Images  Instances      Box(P          R      mAP50  mAP50-95): 100%|██████████| 3/3 [00:02<00:00,  1.07it/s]"
          ]
        },
        {
          "metadata": {
            "tags": null
          },
          "name": "stdout",
          "output_type": "stream",
          "text": [
            "                   all         75         75      0.954      0.822      0.882      0.442\n"
          ]
        },
        {
          "metadata": {
            "tags": null
          },
          "name": "stderr",
          "output_type": "stream",
          "text": [
            "\n"
          ]
        },
        {
          "metadata": {
            "tags": null
          },
          "name": "stdout",
          "output_type": "stream",
          "text": [
            "\n",
            "      Epoch    GPU_mem   box_loss   cls_loss   dfl_loss  Instances       Size\n"
          ]
        },
        {
          "metadata": {
            "tags": null
          },
          "name": "stderr",
          "output_type": "stream",
          "text": [
            "     94/300      13.9G      1.407      0.777      1.156         11        640: 100%|██████████| 17/17 [00:20<00:00,  1.21s/it]\n",
            "                 Class     Images  Instances      Box(P          R      mAP50  mAP50-95): 100%|██████████| 3/3 [00:02<00:00,  1.06it/s]"
          ]
        },
        {
          "metadata": {
            "tags": null
          },
          "name": "stdout",
          "output_type": "stream",
          "text": [
            "                   all         75         75      0.953      0.808      0.847      0.411\n"
          ]
        },
        {
          "metadata": {
            "tags": null
          },
          "name": "stderr",
          "output_type": "stream",
          "text": [
            "\n"
          ]
        },
        {
          "metadata": {
            "tags": null
          },
          "name": "stdout",
          "output_type": "stream",
          "text": [
            "\n",
            "      Epoch    GPU_mem   box_loss   cls_loss   dfl_loss  Instances       Size\n"
          ]
        },
        {
          "metadata": {
            "tags": null
          },
          "name": "stderr",
          "output_type": "stream",
          "text": [
            "     95/300        14G      1.331     0.7252      1.167          8        640: 100%|██████████| 17/17 [00:20<00:00,  1.20s/it]\n",
            "                 Class     Images  Instances      Box(P          R      mAP50  mAP50-95): 100%|██████████| 3/3 [00:02<00:00,  1.05it/s]"
          ]
        },
        {
          "metadata": {
            "tags": null
          },
          "name": "stdout",
          "output_type": "stream",
          "text": [
            "                   all         75         75      0.905      0.773        0.8      0.404\n"
          ]
        },
        {
          "metadata": {
            "tags": null
          },
          "name": "stderr",
          "output_type": "stream",
          "text": [
            "\n"
          ]
        },
        {
          "metadata": {
            "tags": null
          },
          "name": "stdout",
          "output_type": "stream",
          "text": [
            "\n",
            "      Epoch    GPU_mem   box_loss   cls_loss   dfl_loss  Instances       Size\n"
          ]
        },
        {
          "metadata": {
            "tags": null
          },
          "name": "stderr",
          "output_type": "stream",
          "text": [
            "     96/300        14G      1.406     0.7742      1.224          4        640: 100%|██████████| 17/17 [00:20<00:00,  1.20s/it]\n",
            "                 Class     Images  Instances      Box(P          R      mAP50  mAP50-95): 100%|██████████| 3/3 [00:02<00:00,  1.02it/s]"
          ]
        },
        {
          "metadata": {
            "tags": null
          },
          "name": "stdout",
          "output_type": "stream",
          "text": [
            "                   all         75         75      0.763       0.76      0.767      0.365\n"
          ]
        },
        {
          "metadata": {
            "tags": null
          },
          "name": "stderr",
          "output_type": "stream",
          "text": [
            "\n"
          ]
        },
        {
          "metadata": {
            "tags": null
          },
          "name": "stdout",
          "output_type": "stream",
          "text": [
            "\n",
            "      Epoch    GPU_mem   box_loss   cls_loss   dfl_loss  Instances       Size\n"
          ]
        },
        {
          "metadata": {
            "tags": null
          },
          "name": "stderr",
          "output_type": "stream",
          "text": [
            "     97/300      13.9G      1.383     0.7629      1.217         11        640: 100%|██████████| 17/17 [00:20<00:00,  1.20s/it]\n",
            "                 Class     Images  Instances      Box(P          R      mAP50  mAP50-95): 100%|██████████| 3/3 [00:02<00:00,  1.13it/s]"
          ]
        },
        {
          "metadata": {
            "tags": null
          },
          "name": "stdout",
          "output_type": "stream",
          "text": [
            "                   all         75         75      0.893       0.76      0.834      0.408\n"
          ]
        },
        {
          "metadata": {
            "tags": null
          },
          "name": "stderr",
          "output_type": "stream",
          "text": [
            "\n"
          ]
        },
        {
          "metadata": {
            "tags": null
          },
          "name": "stdout",
          "output_type": "stream",
          "text": [
            "\n",
            "      Epoch    GPU_mem   box_loss   cls_loss   dfl_loss  Instances       Size\n"
          ]
        },
        {
          "metadata": {
            "tags": null
          },
          "name": "stderr",
          "output_type": "stream",
          "text": [
            "     98/300      13.9G      1.366     0.7067      1.155          6        640: 100%|██████████| 17/17 [00:20<00:00,  1.20s/it]\n",
            "                 Class     Images  Instances      Box(P          R      mAP50  mAP50-95): 100%|██████████| 3/3 [00:02<00:00,  1.10it/s]"
          ]
        },
        {
          "metadata": {
            "tags": null
          },
          "name": "stdout",
          "output_type": "stream",
          "text": [
            "                   all         75         75       0.98        0.8      0.879      0.437\n"
          ]
        },
        {
          "metadata": {
            "tags": null
          },
          "name": "stderr",
          "output_type": "stream",
          "text": [
            "\n"
          ]
        },
        {
          "metadata": {
            "tags": null
          },
          "name": "stdout",
          "output_type": "stream",
          "text": [
            "\n",
            "      Epoch    GPU_mem   box_loss   cls_loss   dfl_loss  Instances       Size\n"
          ]
        },
        {
          "metadata": {
            "tags": null
          },
          "name": "stderr",
          "output_type": "stream",
          "text": [
            "     99/300        14G       1.42     0.7475      1.224          7        640: 100%|██████████| 17/17 [00:20<00:00,  1.20s/it]\n",
            "                 Class     Images  Instances      Box(P          R      mAP50  mAP50-95): 100%|██████████| 3/3 [00:02<00:00,  1.08it/s]"
          ]
        },
        {
          "metadata": {
            "tags": null
          },
          "name": "stdout",
          "output_type": "stream",
          "text": [
            "                   all         75         75      0.909       0.76      0.868      0.432\n"
          ]
        },
        {
          "metadata": {
            "tags": null
          },
          "name": "stderr",
          "output_type": "stream",
          "text": [
            "\n"
          ]
        },
        {
          "metadata": {
            "tags": null
          },
          "name": "stdout",
          "output_type": "stream",
          "text": [
            "\n",
            "      Epoch    GPU_mem   box_loss   cls_loss   dfl_loss  Instances       Size\n"
          ]
        },
        {
          "metadata": {
            "tags": null
          },
          "name": "stderr",
          "output_type": "stream",
          "text": [
            "    100/300      14.1G      1.446     0.7883      1.184          8        640: 100%|██████████| 17/17 [00:20<00:00,  1.20s/it]\n",
            "                 Class     Images  Instances      Box(P          R      mAP50  mAP50-95): 100%|██████████| 3/3 [00:02<00:00,  1.12it/s]"
          ]
        },
        {
          "metadata": {
            "tags": null
          },
          "name": "stdout",
          "output_type": "stream",
          "text": [
            "                   all         75         75      0.951      0.784      0.873      0.421\n"
          ]
        },
        {
          "metadata": {
            "tags": null
          },
          "name": "stderr",
          "output_type": "stream",
          "text": [
            "\n"
          ]
        },
        {
          "metadata": {
            "tags": null
          },
          "name": "stdout",
          "output_type": "stream",
          "text": [
            "\n",
            "      Epoch    GPU_mem   box_loss   cls_loss   dfl_loss  Instances       Size\n"
          ]
        },
        {
          "metadata": {
            "tags": null
          },
          "name": "stderr",
          "output_type": "stream",
          "text": [
            "    101/300      13.9G      1.423     0.8138      1.217          6        640: 100%|██████████| 17/17 [00:20<00:00,  1.21s/it]\n",
            "                 Class     Images  Instances      Box(P          R      mAP50  mAP50-95): 100%|██████████| 3/3 [00:02<00:00,  1.07it/s]"
          ]
        },
        {
          "metadata": {
            "tags": null
          },
          "name": "stdout",
          "output_type": "stream",
          "text": [
            "                   all         75         75       0.83       0.65      0.753      0.356\n"
          ]
        },
        {
          "metadata": {
            "tags": null
          },
          "name": "stderr",
          "output_type": "stream",
          "text": [
            "\n"
          ]
        },
        {
          "metadata": {
            "tags": null
          },
          "name": "stdout",
          "output_type": "stream",
          "text": [
            "\n",
            "      Epoch    GPU_mem   box_loss   cls_loss   dfl_loss  Instances       Size\n"
          ]
        },
        {
          "metadata": {
            "tags": null
          },
          "name": "stderr",
          "output_type": "stream",
          "text": [
            "    102/300      13.9G      1.428     0.7337      1.199          7        640: 100%|██████████| 17/17 [00:20<00:00,  1.19s/it]\n",
            "                 Class     Images  Instances      Box(P          R      mAP50  mAP50-95): 100%|██████████| 3/3 [00:02<00:00,  1.07it/s]"
          ]
        },
        {
          "metadata": {
            "tags": null
          },
          "name": "stdout",
          "output_type": "stream",
          "text": [
            "                   all         75         75      0.945       0.69      0.827      0.415\n"
          ]
        },
        {
          "metadata": {
            "tags": null
          },
          "name": "stderr",
          "output_type": "stream",
          "text": [
            "\n"
          ]
        },
        {
          "metadata": {
            "tags": null
          },
          "name": "stdout",
          "output_type": "stream",
          "text": [
            "\n",
            "      Epoch    GPU_mem   box_loss   cls_loss   dfl_loss  Instances       Size\n"
          ]
        },
        {
          "metadata": {
            "tags": null
          },
          "name": "stderr",
          "output_type": "stream",
          "text": [
            "    103/300        14G      1.434     0.7854      1.205          5        640: 100%|██████████| 17/17 [00:20<00:00,  1.20s/it]\n",
            "                 Class     Images  Instances      Box(P          R      mAP50  mAP50-95): 100%|██████████| 3/3 [00:02<00:00,  1.13it/s]"
          ]
        },
        {
          "metadata": {
            "tags": null
          },
          "name": "stdout",
          "output_type": "stream",
          "text": [
            "                   all         75         75      0.931      0.747      0.844      0.425\n"
          ]
        },
        {
          "metadata": {
            "tags": null
          },
          "name": "stderr",
          "output_type": "stream",
          "text": [
            "\n"
          ]
        },
        {
          "metadata": {
            "tags": null
          },
          "name": "stdout",
          "output_type": "stream",
          "text": [
            "\n",
            "      Epoch    GPU_mem   box_loss   cls_loss   dfl_loss  Instances       Size\n"
          ]
        },
        {
          "output_type": "stream",
          "name": "stderr",
          "text": [
            "    104/300        14G      1.351      0.752      1.191          8        640: 100%|██████████| 17/17 [00:20<00:00,  1.20s/it]\n",
            "                 Class     Images  Instances      Box(P          R      mAP50  mAP50-95): 100%|██████████| 3/3 [00:02<00:00,  1.10it/s]"
          ]
        },
        {
          "output_type": "stream",
          "name": "stdout",
          "text": [
            "                   all         75         75      0.928      0.747      0.832      0.388\n"
          ]
        },
        {
          "output_type": "stream",
          "name": "stderr",
          "text": [
            "\n"
          ]
        },
        {
          "output_type": "stream",
          "name": "stdout",
          "text": [
            "\n",
            "      Epoch    GPU_mem   box_loss   cls_loss   dfl_loss  Instances       Size\n"
          ]
        },
        {
          "output_type": "stream",
          "name": "stderr",
          "text": [
            "    105/300      13.9G      1.366     0.7078      1.148         10        640: 100%|██████████| 17/17 [00:20<00:00,  1.22s/it]\n",
            "                 Class     Images  Instances      Box(P          R      mAP50  mAP50-95): 100%|██████████| 3/3 [00:02<00:00,  1.10it/s]"
          ]
        },
        {
          "output_type": "stream",
          "name": "stdout",
          "text": [
            "                   all         75         75      0.942      0.813      0.867      0.444\n"
          ]
        },
        {
          "output_type": "stream",
          "name": "stderr",
          "text": [
            "\n"
          ]
        },
        {
          "output_type": "stream",
          "name": "stdout",
          "text": [
            "\n",
            "      Epoch    GPU_mem   box_loss   cls_loss   dfl_loss  Instances       Size\n"
          ]
        },
        {
          "output_type": "stream",
          "name": "stderr",
          "text": [
            "    106/300      13.9G      1.356     0.7487      1.172          7        640: 100%|██████████| 17/17 [00:20<00:00,  1.19s/it]\n",
            "                 Class     Images  Instances      Box(P          R      mAP50  mAP50-95): 100%|██████████| 3/3 [00:02<00:00,  1.02it/s]"
          ]
        },
        {
          "output_type": "stream",
          "name": "stdout",
          "text": [
            "                   all         75         75      0.967      0.771      0.842      0.411\n"
          ]
        },
        {
          "output_type": "stream",
          "name": "stderr",
          "text": [
            "\n"
          ]
        },
        {
          "output_type": "stream",
          "name": "stdout",
          "text": [
            "\n",
            "      Epoch    GPU_mem   box_loss   cls_loss   dfl_loss  Instances       Size\n"
          ]
        },
        {
          "output_type": "stream",
          "name": "stderr",
          "text": [
            "    107/300        14G      1.331     0.7285      1.154         10        640: 100%|██████████| 17/17 [00:20<00:00,  1.20s/it]\n",
            "                 Class     Images  Instances      Box(P          R      mAP50  mAP50-95): 100%|██████████| 3/3 [00:02<00:00,  1.12it/s]"
          ]
        },
        {
          "output_type": "stream",
          "name": "stdout",
          "text": [
            "                   all         75         75      0.881      0.793      0.835      0.387\n"
          ]
        },
        {
          "output_type": "stream",
          "name": "stderr",
          "text": [
            "\n"
          ]
        },
        {
          "output_type": "stream",
          "name": "stdout",
          "text": [
            "\n",
            "      Epoch    GPU_mem   box_loss   cls_loss   dfl_loss  Instances       Size\n"
          ]
        },
        {
          "output_type": "stream",
          "name": "stderr",
          "text": [
            "    108/300        14G      1.355     0.7406      1.175         12        640: 100%|██████████| 17/17 [00:20<00:00,  1.21s/it]\n",
            "                 Class     Images  Instances      Box(P          R      mAP50  mAP50-95): 100%|██████████| 3/3 [00:02<00:00,  1.12it/s]"
          ]
        },
        {
          "output_type": "stream",
          "name": "stdout",
          "text": [
            "                   all         75         75       0.82      0.788      0.822      0.413\n"
          ]
        },
        {
          "output_type": "stream",
          "name": "stderr",
          "text": [
            "\n"
          ]
        },
        {
          "output_type": "stream",
          "name": "stdout",
          "text": [
            "\n",
            "      Epoch    GPU_mem   box_loss   cls_loss   dfl_loss  Instances       Size\n"
          ]
        },
        {
          "output_type": "stream",
          "name": "stderr",
          "text": [
            "    109/300      13.9G      1.307     0.7099      1.146          5        640: 100%|██████████| 17/17 [00:20<00:00,  1.20s/it]\n",
            "                 Class     Images  Instances      Box(P          R      mAP50  mAP50-95): 100%|██████████| 3/3 [00:02<00:00,  1.05it/s]"
          ]
        },
        {
          "output_type": "stream",
          "name": "stdout",
          "text": [
            "                   all         75         75      0.826      0.627      0.709        0.3\n"
          ]
        },
        {
          "output_type": "stream",
          "name": "stderr",
          "text": [
            "\n"
          ]
        },
        {
          "output_type": "stream",
          "name": "stdout",
          "text": [
            "\n",
            "      Epoch    GPU_mem   box_loss   cls_loss   dfl_loss  Instances       Size\n"
          ]
        },
        {
          "output_type": "stream",
          "name": "stderr",
          "text": [
            "    110/300      13.9G      1.399     0.7823      1.207         11        640: 100%|██████████| 17/17 [00:20<00:00,  1.20s/it]\n",
            "                 Class     Images  Instances      Box(P          R      mAP50  mAP50-95): 100%|██████████| 3/3 [00:02<00:00,  1.14it/s]"
          ]
        },
        {
          "output_type": "stream",
          "name": "stdout",
          "text": [
            "                   all         75         75      0.922       0.76      0.842      0.384\n"
          ]
        },
        {
          "output_type": "stream",
          "name": "stderr",
          "text": [
            "\n"
          ]
        },
        {
          "output_type": "stream",
          "name": "stdout",
          "text": [
            "\n",
            "      Epoch    GPU_mem   box_loss   cls_loss   dfl_loss  Instances       Size\n"
          ]
        },
        {
          "output_type": "stream",
          "name": "stderr",
          "text": [
            "    111/300        14G      1.368     0.6811      1.154          9        640: 100%|██████████| 17/17 [00:20<00:00,  1.20s/it]\n",
            "                 Class     Images  Instances      Box(P          R      mAP50  mAP50-95): 100%|██████████| 3/3 [00:02<00:00,  1.15it/s]"
          ]
        },
        {
          "output_type": "stream",
          "name": "stdout",
          "text": [
            "                   all         75         75      0.966      0.765      0.832       0.41\n"
          ]
        },
        {
          "output_type": "stream",
          "name": "stderr",
          "text": [
            "\n"
          ]
        },
        {
          "output_type": "stream",
          "name": "stdout",
          "text": [
            "\n",
            "      Epoch    GPU_mem   box_loss   cls_loss   dfl_loss  Instances       Size\n"
          ]
        },
        {
          "output_type": "stream",
          "name": "stderr",
          "text": [
            "    112/300      14.1G      1.428     0.7554      1.192         16        640: 100%|██████████| 17/17 [00:20<00:00,  1.21s/it]\n",
            "                 Class     Images  Instances      Box(P          R      mAP50  mAP50-95): 100%|██████████| 3/3 [00:02<00:00,  1.08it/s]"
          ]
        },
        {
          "output_type": "stream",
          "name": "stdout",
          "text": [
            "                   all         75         75       0.94      0.834      0.861      0.419\n"
          ]
        },
        {
          "output_type": "stream",
          "name": "stderr",
          "text": [
            "\n"
          ]
        },
        {
          "output_type": "stream",
          "name": "stdout",
          "text": [
            "\n",
            "      Epoch    GPU_mem   box_loss   cls_loss   dfl_loss  Instances       Size\n"
          ]
        },
        {
          "output_type": "stream",
          "name": "stderr",
          "text": [
            "    113/300      13.9G      1.329     0.7274      1.146          5        640: 100%|██████████| 17/17 [00:20<00:00,  1.20s/it]\n",
            "                 Class     Images  Instances      Box(P          R      mAP50  mAP50-95): 100%|██████████| 3/3 [00:02<00:00,  1.04it/s]"
          ]
        },
        {
          "output_type": "stream",
          "name": "stdout",
          "text": [
            "                   all         75         75      0.936      0.783      0.852       0.39\n"
          ]
        },
        {
          "output_type": "stream",
          "name": "stderr",
          "text": [
            "\n"
          ]
        },
        {
          "output_type": "stream",
          "name": "stdout",
          "text": [
            "\n",
            "      Epoch    GPU_mem   box_loss   cls_loss   dfl_loss  Instances       Size\n"
          ]
        },
        {
          "output_type": "stream",
          "name": "stderr",
          "text": [
            "    114/300      13.9G       1.32     0.7151       1.14         11        640: 100%|██████████| 17/17 [00:20<00:00,  1.20s/it]\n",
            "                 Class     Images  Instances      Box(P          R      mAP50  mAP50-95): 100%|██████████| 3/3 [00:03<00:00,  1.01s/it]"
          ]
        },
        {
          "output_type": "stream",
          "name": "stdout",
          "text": [
            "                   all         75         75      0.963      0.813      0.886      0.398\n"
          ]
        },
        {
          "output_type": "stream",
          "name": "stderr",
          "text": [
            "\n"
          ]
        },
        {
          "output_type": "stream",
          "name": "stdout",
          "text": [
            "\n",
            "      Epoch    GPU_mem   box_loss   cls_loss   dfl_loss  Instances       Size\n"
          ]
        },
        {
          "output_type": "stream",
          "name": "stderr",
          "text": [
            "    115/300        14G      1.262     0.6831      1.085         10        640: 100%|██████████| 17/17 [00:20<00:00,  1.21s/it]\n",
            "                 Class     Images  Instances      Box(P          R      mAP50  mAP50-95): 100%|██████████| 3/3 [00:03<00:00,  1.01s/it]"
          ]
        },
        {
          "output_type": "stream",
          "name": "stdout",
          "text": [
            "                   all         75         75      0.935      0.813      0.891      0.438\n"
          ]
        },
        {
          "output_type": "stream",
          "name": "stderr",
          "text": [
            "\n"
          ]
        },
        {
          "output_type": "stream",
          "name": "stdout",
          "text": [
            "\n",
            "      Epoch    GPU_mem   box_loss   cls_loss   dfl_loss  Instances       Size\n"
          ]
        },
        {
          "output_type": "stream",
          "name": "stderr",
          "text": [
            "    116/300      14.1G      1.294     0.7086      1.138          4        640: 100%|██████████| 17/17 [00:20<00:00,  1.20s/it]\n",
            "                 Class     Images  Instances      Box(P          R      mAP50  mAP50-95): 100%|██████████| 3/3 [00:02<00:00,  1.11it/s]"
          ]
        },
        {
          "output_type": "stream",
          "name": "stdout",
          "text": [
            "                   all         75         75       0.88      0.813      0.857      0.413\n"
          ]
        },
        {
          "output_type": "stream",
          "name": "stderr",
          "text": [
            "\n"
          ]
        },
        {
          "output_type": "stream",
          "name": "stdout",
          "text": [
            "\n",
            "      Epoch    GPU_mem   box_loss   cls_loss   dfl_loss  Instances       Size\n"
          ]
        },
        {
          "output_type": "stream",
          "name": "stderr",
          "text": [
            "    117/300      13.9G      1.255     0.6853      1.123          8        640: 100%|██████████| 17/17 [00:20<00:00,  1.20s/it]\n",
            "                 Class     Images  Instances      Box(P          R      mAP50  mAP50-95): 100%|██████████| 3/3 [00:02<00:00,  1.14it/s]"
          ]
        },
        {
          "output_type": "stream",
          "name": "stdout",
          "text": [
            "                   all         75         75      0.894        0.8      0.858      0.416\n"
          ]
        },
        {
          "output_type": "stream",
          "name": "stderr",
          "text": [
            "\n"
          ]
        },
        {
          "output_type": "stream",
          "name": "stdout",
          "text": [
            "\n",
            "      Epoch    GPU_mem   box_loss   cls_loss   dfl_loss  Instances       Size\n"
          ]
        },
        {
          "output_type": "stream",
          "name": "stderr",
          "text": [
            "    118/300      13.9G      1.285      0.678      1.116          8        640: 100%|██████████| 17/17 [00:20<00:00,  1.21s/it]\n",
            "                 Class     Images  Instances      Box(P          R      mAP50  mAP50-95): 100%|██████████| 3/3 [00:02<00:00,  1.02it/s]"
          ]
        },
        {
          "output_type": "stream",
          "name": "stdout",
          "text": [
            "                   all         75         75      0.942      0.787      0.867      0.432\n"
          ]
        },
        {
          "output_type": "stream",
          "name": "stderr",
          "text": [
            "\n"
          ]
        },
        {
          "output_type": "stream",
          "name": "stdout",
          "text": [
            "\n",
            "      Epoch    GPU_mem   box_loss   cls_loss   dfl_loss  Instances       Size\n"
          ]
        },
        {
          "output_type": "stream",
          "name": "stderr",
          "text": [
            "    119/300        14G      1.275     0.6757      1.107          9        640: 100%|██████████| 17/17 [00:20<00:00,  1.20s/it]\n",
            "                 Class     Images  Instances      Box(P          R      mAP50  mAP50-95): 100%|██████████| 3/3 [00:02<00:00,  1.12it/s]"
          ]
        },
        {
          "output_type": "stream",
          "name": "stdout",
          "text": [
            "                   all         75         75      0.913      0.813      0.886      0.426\n"
          ]
        },
        {
          "output_type": "stream",
          "name": "stderr",
          "text": [
            "\n"
          ]
        },
        {
          "output_type": "stream",
          "name": "stdout",
          "text": [
            "\n",
            "      Epoch    GPU_mem   box_loss   cls_loss   dfl_loss  Instances       Size\n"
          ]
        },
        {
          "output_type": "stream",
          "name": "stderr",
          "text": [
            "    120/300        14G      1.333     0.7103      1.145          6        640: 100%|██████████| 17/17 [00:20<00:00,  1.20s/it]\n",
            "                 Class     Images  Instances      Box(P          R      mAP50  mAP50-95): 100%|██████████| 3/3 [00:02<00:00,  1.12it/s]"
          ]
        },
        {
          "output_type": "stream",
          "name": "stdout",
          "text": [
            "                   all         75         75       0.86      0.817      0.877      0.444\n"
          ]
        },
        {
          "output_type": "stream",
          "name": "stderr",
          "text": [
            "\n"
          ]
        },
        {
          "output_type": "stream",
          "name": "stdout",
          "text": [
            "\n",
            "      Epoch    GPU_mem   box_loss   cls_loss   dfl_loss  Instances       Size\n"
          ]
        },
        {
          "output_type": "stream",
          "name": "stderr",
          "text": [
            "    121/300      13.9G      1.265     0.6639      1.121         11        640: 100%|██████████| 17/17 [00:20<00:00,  1.21s/it]\n",
            "                 Class     Images  Instances      Box(P          R      mAP50  mAP50-95): 100%|██████████| 3/3 [00:02<00:00,  1.05it/s]"
          ]
        },
        {
          "output_type": "stream",
          "name": "stdout",
          "text": [
            "                   all         75         75      0.895      0.794      0.849      0.413\n"
          ]
        },
        {
          "output_type": "stream",
          "name": "stderr",
          "text": [
            "\n"
          ]
        },
        {
          "output_type": "stream",
          "name": "stdout",
          "text": [
            "\n",
            "      Epoch    GPU_mem   box_loss   cls_loss   dfl_loss  Instances       Size\n"
          ]
        },
        {
          "output_type": "stream",
          "name": "stderr",
          "text": [
            "    122/300      13.9G      1.252     0.6347      1.102          6        640: 100%|██████████| 17/17 [00:20<00:00,  1.19s/it]\n",
            "                 Class     Images  Instances      Box(P          R      mAP50  mAP50-95): 100%|██████████| 3/3 [00:02<00:00,  1.09it/s]"
          ]
        },
        {
          "output_type": "stream",
          "name": "stdout",
          "text": [
            "                   all         75         75      0.952      0.785      0.854      0.398\n"
          ]
        },
        {
          "output_type": "stream",
          "name": "stderr",
          "text": [
            "\n"
          ]
        },
        {
          "output_type": "stream",
          "name": "stdout",
          "text": [
            "\n",
            "      Epoch    GPU_mem   box_loss   cls_loss   dfl_loss  Instances       Size\n"
          ]
        },
        {
          "output_type": "stream",
          "name": "stderr",
          "text": [
            "    123/300        14G      1.296      0.698      1.117         12        640: 100%|██████████| 17/17 [00:20<00:00,  1.21s/it]\n",
            "                 Class     Images  Instances      Box(P          R      mAP50  mAP50-95): 100%|██████████| 3/3 [00:02<00:00,  1.02it/s]"
          ]
        },
        {
          "output_type": "stream",
          "name": "stdout",
          "text": [
            "                   all         75         75       0.92      0.766       0.84      0.379\n"
          ]
        },
        {
          "output_type": "stream",
          "name": "stderr",
          "text": [
            "\n"
          ]
        },
        {
          "output_type": "stream",
          "name": "stdout",
          "text": [
            "\n",
            "      Epoch    GPU_mem   box_loss   cls_loss   dfl_loss  Instances       Size\n"
          ]
        },
        {
          "output_type": "stream",
          "name": "stderr",
          "text": [
            "    124/300      14.1G      1.223     0.6856      1.098         16        640: 100%|██████████| 17/17 [00:20<00:00,  1.22s/it]\n",
            "                 Class     Images  Instances      Box(P          R      mAP50  mAP50-95): 100%|██████████| 3/3 [00:02<00:00,  1.08it/s]"
          ]
        },
        {
          "output_type": "stream",
          "name": "stdout",
          "text": [
            "                   all         75         75       0.92      0.764      0.822       0.38\n"
          ]
        },
        {
          "output_type": "stream",
          "name": "stderr",
          "text": [
            "\n"
          ]
        },
        {
          "output_type": "stream",
          "name": "stdout",
          "text": [
            "\n",
            "      Epoch    GPU_mem   box_loss   cls_loss   dfl_loss  Instances       Size\n"
          ]
        },
        {
          "output_type": "stream",
          "name": "stderr",
          "text": [
            "    125/300      13.9G       1.27     0.7114      1.149          5        640: 100%|██████████| 17/17 [00:20<00:00,  1.19s/it]\n",
            "                 Class     Images  Instances      Box(P          R      mAP50  mAP50-95): 100%|██████████| 3/3 [00:02<00:00,  1.15it/s]"
          ]
        },
        {
          "output_type": "stream",
          "name": "stdout",
          "text": [
            "                   all         75         75        0.9      0.838      0.857      0.398\n"
          ]
        },
        {
          "output_type": "stream",
          "name": "stderr",
          "text": [
            "\n"
          ]
        },
        {
          "output_type": "stream",
          "name": "stdout",
          "text": [
            "\n",
            "      Epoch    GPU_mem   box_loss   cls_loss   dfl_loss  Instances       Size\n"
          ]
        },
        {
          "output_type": "stream",
          "name": "stderr",
          "text": [
            "    126/300      13.9G      1.194     0.6286      1.087          9        640: 100%|██████████| 17/17 [00:20<00:00,  1.20s/it]\n",
            "                 Class     Images  Instances      Box(P          R      mAP50  mAP50-95): 100%|██████████| 3/3 [00:02<00:00,  1.05it/s]"
          ]
        },
        {
          "output_type": "stream",
          "name": "stdout",
          "text": [
            "                   all         75         75      0.912      0.825      0.831      0.403\n"
          ]
        },
        {
          "output_type": "stream",
          "name": "stderr",
          "text": [
            "\n"
          ]
        },
        {
          "output_type": "stream",
          "name": "stdout",
          "text": [
            "\n",
            "      Epoch    GPU_mem   box_loss   cls_loss   dfl_loss  Instances       Size\n"
          ]
        },
        {
          "output_type": "stream",
          "name": "stderr",
          "text": [
            "    127/300        14G      1.225     0.6957      1.092          5        640: 100%|██████████| 17/17 [00:20<00:00,  1.20s/it]\n",
            "                 Class     Images  Instances      Box(P          R      mAP50  mAP50-95): 100%|██████████| 3/3 [00:02<00:00,  1.08it/s]"
          ]
        },
        {
          "output_type": "stream",
          "name": "stdout",
          "text": [
            "                   all         75         75      0.964      0.787      0.884      0.429\n"
          ]
        },
        {
          "output_type": "stream",
          "name": "stderr",
          "text": [
            "\n"
          ]
        },
        {
          "output_type": "stream",
          "name": "stdout",
          "text": [
            "\n",
            "      Epoch    GPU_mem   box_loss   cls_loss   dfl_loss  Instances       Size\n"
          ]
        },
        {
          "output_type": "stream",
          "name": "stderr",
          "text": [
            "    128/300        14G      1.261     0.7212      1.119          6        640: 100%|██████████| 17/17 [00:20<00:00,  1.20s/it]\n",
            "                 Class     Images  Instances      Box(P          R      mAP50  mAP50-95): 100%|██████████| 3/3 [00:02<00:00,  1.12it/s]"
          ]
        },
        {
          "output_type": "stream",
          "name": "stdout",
          "text": [
            "                   all         75         75      0.971      0.747      0.881      0.444\n"
          ]
        },
        {
          "output_type": "stream",
          "name": "stderr",
          "text": [
            "\n"
          ]
        },
        {
          "output_type": "stream",
          "name": "stdout",
          "text": [
            "\n",
            "      Epoch    GPU_mem   box_loss   cls_loss   dfl_loss  Instances       Size\n"
          ]
        },
        {
          "output_type": "stream",
          "name": "stderr",
          "text": [
            "    129/300      13.9G      1.247     0.6944      1.111          8        640: 100%|██████████| 17/17 [00:20<00:00,  1.20s/it]\n",
            "                 Class     Images  Instances      Box(P          R      mAP50  mAP50-95): 100%|██████████| 3/3 [00:02<00:00,  1.05it/s]"
          ]
        },
        {
          "output_type": "stream",
          "name": "stdout",
          "text": [
            "                   all         75         75      0.947      0.813      0.897      0.433\n"
          ]
        },
        {
          "output_type": "stream",
          "name": "stderr",
          "text": [
            "\n"
          ]
        },
        {
          "output_type": "stream",
          "name": "stdout",
          "text": [
            "\n",
            "      Epoch    GPU_mem   box_loss   cls_loss   dfl_loss  Instances       Size\n"
          ]
        },
        {
          "output_type": "stream",
          "name": "stderr",
          "text": [
            "    130/300      13.9G      1.216     0.6324      1.089         10        640: 100%|██████████| 17/17 [00:20<00:00,  1.20s/it]\n",
            "                 Class     Images  Instances      Box(P          R      mAP50  mAP50-95): 100%|██████████| 3/3 [00:02<00:00,  1.08it/s]"
          ]
        },
        {
          "output_type": "stream",
          "name": "stdout",
          "text": [
            "                   all         75         75      0.936      0.827      0.912      0.445\n"
          ]
        },
        {
          "output_type": "stream",
          "name": "stderr",
          "text": [
            "\n"
          ]
        },
        {
          "output_type": "stream",
          "name": "stdout",
          "text": [
            "\n",
            "      Epoch    GPU_mem   box_loss   cls_loss   dfl_loss  Instances       Size\n"
          ]
        },
        {
          "output_type": "stream",
          "name": "stderr",
          "text": [
            "    131/300        14G      1.208     0.6666      1.055         12        640: 100%|██████████| 17/17 [00:20<00:00,  1.20s/it]\n",
            "                 Class     Images  Instances      Box(P          R      mAP50  mAP50-95): 100%|██████████| 3/3 [00:02<00:00,  1.14it/s]"
          ]
        },
        {
          "output_type": "stream",
          "name": "stdout",
          "text": [
            "                   all         75         75      0.915      0.853      0.905      0.449\n"
          ]
        },
        {
          "output_type": "stream",
          "name": "stderr",
          "text": [
            "\n"
          ]
        },
        {
          "output_type": "stream",
          "name": "stdout",
          "text": [
            "\n",
            "      Epoch    GPU_mem   box_loss   cls_loss   dfl_loss  Instances       Size\n"
          ]
        },
        {
          "output_type": "stream",
          "name": "stderr",
          "text": [
            "    132/300        14G      1.231      0.673       1.11         15        640: 100%|██████████| 17/17 [00:20<00:00,  1.21s/it]\n",
            "                 Class     Images  Instances      Box(P          R      mAP50  mAP50-95): 100%|██████████| 3/3 [00:02<00:00,  1.09it/s]"
          ]
        },
        {
          "output_type": "stream",
          "name": "stdout",
          "text": [
            "                   all         75         75      0.928      0.733       0.83      0.394\n"
          ]
        },
        {
          "output_type": "stream",
          "name": "stderr",
          "text": [
            "\n"
          ]
        },
        {
          "output_type": "stream",
          "name": "stdout",
          "text": [
            "\n",
            "      Epoch    GPU_mem   box_loss   cls_loss   dfl_loss  Instances       Size\n"
          ]
        },
        {
          "output_type": "stream",
          "name": "stderr",
          "text": [
            "    133/300      13.9G       1.27     0.6938      1.099         16        640: 100%|██████████| 17/17 [00:20<00:00,  1.21s/it]\n",
            "                 Class     Images  Instances      Box(P          R      mAP50  mAP50-95): 100%|██████████| 3/3 [00:02<00:00,  1.03it/s]"
          ]
        },
        {
          "output_type": "stream",
          "name": "stdout",
          "text": [
            "                   all         75         75      0.952      0.787      0.831      0.366\n"
          ]
        },
        {
          "output_type": "stream",
          "name": "stderr",
          "text": [
            "\n"
          ]
        },
        {
          "output_type": "stream",
          "name": "stdout",
          "text": [
            "\n",
            "      Epoch    GPU_mem   box_loss   cls_loss   dfl_loss  Instances       Size\n"
          ]
        },
        {
          "output_type": "stream",
          "name": "stderr",
          "text": [
            "    134/300      13.9G      1.177     0.6014      1.101          8        640: 100%|██████████| 17/17 [00:20<00:00,  1.19s/it]\n",
            "                 Class     Images  Instances      Box(P          R      mAP50  mAP50-95): 100%|██████████| 3/3 [00:02<00:00,  1.05it/s]"
          ]
        },
        {
          "output_type": "stream",
          "name": "stdout",
          "text": [
            "                   all         75         75      0.923      0.827      0.878      0.389\n"
          ]
        },
        {
          "output_type": "stream",
          "name": "stderr",
          "text": [
            "\n"
          ]
        },
        {
          "output_type": "stream",
          "name": "stdout",
          "text": [
            "\n",
            "      Epoch    GPU_mem   box_loss   cls_loss   dfl_loss  Instances       Size\n"
          ]
        },
        {
          "output_type": "stream",
          "name": "stderr",
          "text": [
            "    135/300        14G      1.263      0.687      1.088          9        640: 100%|██████████| 17/17 [00:20<00:00,  1.20s/it]\n",
            "                 Class     Images  Instances      Box(P          R      mAP50  mAP50-95): 100%|██████████| 3/3 [00:02<00:00,  1.01it/s]"
          ]
        },
        {
          "output_type": "stream",
          "name": "stdout",
          "text": [
            "                   all         75         75      0.894      0.773      0.838      0.367\n"
          ]
        },
        {
          "output_type": "stream",
          "name": "stderr",
          "text": [
            "\n"
          ]
        },
        {
          "output_type": "stream",
          "name": "stdout",
          "text": [
            "\n",
            "      Epoch    GPU_mem   box_loss   cls_loss   dfl_loss  Instances       Size\n"
          ]
        },
        {
          "output_type": "stream",
          "name": "stderr",
          "text": [
            "    136/300      14.1G      1.252     0.6832      1.122          8        640: 100%|██████████| 17/17 [00:20<00:00,  1.20s/it]\n",
            "                 Class     Images  Instances      Box(P          R      mAP50  mAP50-95): 100%|██████████| 3/3 [00:02<00:00,  1.13it/s]"
          ]
        },
        {
          "output_type": "stream",
          "name": "stdout",
          "text": [
            "                   all         75         75      0.924      0.812      0.864      0.406\n"
          ]
        },
        {
          "output_type": "stream",
          "name": "stderr",
          "text": [
            "\n"
          ]
        },
        {
          "output_type": "stream",
          "name": "stdout",
          "text": [
            "\n",
            "      Epoch    GPU_mem   box_loss   cls_loss   dfl_loss  Instances       Size\n"
          ]
        },
        {
          "output_type": "stream",
          "name": "stderr",
          "text": [
            "    137/300      13.9G      1.281     0.6595      1.088          9        640: 100%|██████████| 17/17 [00:20<00:00,  1.20s/it]\n",
            "                 Class     Images  Instances      Box(P          R      mAP50  mAP50-95): 100%|██████████| 3/3 [00:02<00:00,  1.12it/s]"
          ]
        },
        {
          "output_type": "stream",
          "name": "stdout",
          "text": [
            "                   all         75         75      0.844      0.787      0.827      0.393\n"
          ]
        },
        {
          "output_type": "stream",
          "name": "stderr",
          "text": [
            "\n"
          ]
        },
        {
          "output_type": "stream",
          "name": "stdout",
          "text": [
            "\n",
            "      Epoch    GPU_mem   box_loss   cls_loss   dfl_loss  Instances       Size\n"
          ]
        },
        {
          "output_type": "stream",
          "name": "stderr",
          "text": [
            "    138/300      13.9G      1.266     0.6803      1.108         11        640: 100%|██████████| 17/17 [00:20<00:00,  1.20s/it]\n",
            "                 Class     Images  Instances      Box(P          R      mAP50  mAP50-95): 100%|██████████| 3/3 [00:02<00:00,  1.03it/s]"
          ]
        },
        {
          "output_type": "stream",
          "name": "stdout",
          "text": [
            "                   all         75         75      0.936        0.8      0.863      0.407\n"
          ]
        },
        {
          "output_type": "stream",
          "name": "stderr",
          "text": [
            "\n"
          ]
        },
        {
          "output_type": "stream",
          "name": "stdout",
          "text": [
            "\n",
            "      Epoch    GPU_mem   box_loss   cls_loss   dfl_loss  Instances       Size\n"
          ]
        },
        {
          "output_type": "stream",
          "name": "stderr",
          "text": [
            "    139/300        14G      1.134     0.6004      1.089         12        640: 100%|██████████| 17/17 [00:20<00:00,  1.20s/it]\n",
            "                 Class     Images  Instances      Box(P          R      mAP50  mAP50-95): 100%|██████████| 3/3 [00:02<00:00,  1.13it/s]"
          ]
        },
        {
          "output_type": "stream",
          "name": "stdout",
          "text": [
            "                   all         75         75       0.94      0.837      0.884       0.42\n"
          ]
        },
        {
          "output_type": "stream",
          "name": "stderr",
          "text": [
            "\n"
          ]
        },
        {
          "output_type": "stream",
          "name": "stdout",
          "text": [
            "\n",
            "      Epoch    GPU_mem   box_loss   cls_loss   dfl_loss  Instances       Size\n"
          ]
        },
        {
          "output_type": "stream",
          "name": "stderr",
          "text": [
            "    140/300      14.1G      1.187     0.6586      1.073          8        640: 100%|██████████| 17/17 [00:20<00:00,  1.21s/it]\n",
            "                 Class     Images  Instances      Box(P          R      mAP50  mAP50-95): 100%|██████████| 3/3 [00:02<00:00,  1.08it/s]"
          ]
        },
        {
          "output_type": "stream",
          "name": "stdout",
          "text": [
            "                   all         75         75      0.934        0.8      0.866      0.434\n"
          ]
        },
        {
          "output_type": "stream",
          "name": "stderr",
          "text": [
            "\n"
          ]
        },
        {
          "output_type": "stream",
          "name": "stdout",
          "text": [
            "\n",
            "      Epoch    GPU_mem   box_loss   cls_loss   dfl_loss  Instances       Size\n"
          ]
        },
        {
          "output_type": "stream",
          "name": "stderr",
          "text": [
            "    141/300      13.9G      1.162     0.6297      1.043          8        640: 100%|██████████| 17/17 [00:20<00:00,  1.21s/it]\n",
            "                 Class     Images  Instances      Box(P          R      mAP50  mAP50-95): 100%|██████████| 3/3 [00:02<00:00,  1.07it/s]"
          ]
        },
        {
          "output_type": "stream",
          "name": "stdout",
          "text": [
            "                   all         75         75      0.968      0.811      0.889      0.436\n"
          ]
        },
        {
          "output_type": "stream",
          "name": "stderr",
          "text": [
            "\n"
          ]
        },
        {
          "output_type": "stream",
          "name": "stdout",
          "text": [
            "\n",
            "      Epoch    GPU_mem   box_loss   cls_loss   dfl_loss  Instances       Size\n"
          ]
        },
        {
          "output_type": "stream",
          "name": "stderr",
          "text": [
            "    142/300      13.9G      1.058     0.5935      1.011          9        640: 100%|██████████| 17/17 [00:20<00:00,  1.21s/it]\n",
            "                 Class     Images  Instances      Box(P          R      mAP50  mAP50-95): 100%|██████████| 3/3 [00:02<00:00,  1.06it/s]"
          ]
        },
        {
          "output_type": "stream",
          "name": "stdout",
          "text": [
            "                   all         75         75      0.972        0.8      0.872      0.414\n"
          ]
        },
        {
          "output_type": "stream",
          "name": "stderr",
          "text": [
            "\n"
          ]
        },
        {
          "output_type": "stream",
          "name": "stdout",
          "text": [
            "\n",
            "      Epoch    GPU_mem   box_loss   cls_loss   dfl_loss  Instances       Size\n"
          ]
        },
        {
          "output_type": "stream",
          "name": "stderr",
          "text": [
            "    143/300        14G      1.225     0.6747      1.076         10        640: 100%|██████████| 17/17 [00:20<00:00,  1.19s/it]\n",
            "                 Class     Images  Instances      Box(P          R      mAP50  mAP50-95): 100%|██████████| 3/3 [00:02<00:00,  1.13it/s]"
          ]
        },
        {
          "output_type": "stream",
          "name": "stdout",
          "text": [
            "                   all         75         75      0.954      0.787      0.872      0.423\n"
          ]
        },
        {
          "output_type": "stream",
          "name": "stderr",
          "text": [
            "\n"
          ]
        },
        {
          "output_type": "stream",
          "name": "stdout",
          "text": [
            "\n",
            "      Epoch    GPU_mem   box_loss   cls_loss   dfl_loss  Instances       Size\n"
          ]
        },
        {
          "output_type": "stream",
          "name": "stderr",
          "text": [
            "    144/300        14G      1.102     0.6597      1.055          6        640: 100%|██████████| 17/17 [00:20<00:00,  1.22s/it]\n",
            "                 Class     Images  Instances      Box(P          R      mAP50  mAP50-95): 100%|██████████| 3/3 [00:02<00:00,  1.08it/s]"
          ]
        },
        {
          "output_type": "stream",
          "name": "stdout",
          "text": [
            "                   all         75         75      0.966      0.813      0.885      0.447\n"
          ]
        },
        {
          "output_type": "stream",
          "name": "stderr",
          "text": [
            "\n"
          ]
        },
        {
          "output_type": "stream",
          "name": "stdout",
          "text": [
            "\n",
            "      Epoch    GPU_mem   box_loss   cls_loss   dfl_loss  Instances       Size\n"
          ]
        },
        {
          "output_type": "stream",
          "name": "stderr",
          "text": [
            "    145/300      13.9G      1.127     0.6476      1.068          8        640: 100%|██████████| 17/17 [00:20<00:00,  1.20s/it]\n",
            "                 Class     Images  Instances      Box(P          R      mAP50  mAP50-95): 100%|██████████| 3/3 [00:02<00:00,  1.02it/s]"
          ]
        },
        {
          "output_type": "stream",
          "name": "stdout",
          "text": [
            "                   all         75         75      0.983      0.759      0.849      0.401\n"
          ]
        },
        {
          "output_type": "stream",
          "name": "stderr",
          "text": [
            "\n"
          ]
        },
        {
          "output_type": "stream",
          "name": "stdout",
          "text": [
            "\n",
            "      Epoch    GPU_mem   box_loss   cls_loss   dfl_loss  Instances       Size\n"
          ]
        },
        {
          "output_type": "stream",
          "name": "stderr",
          "text": [
            "    146/300      13.9G      1.173     0.6194      1.085         11        640: 100%|██████████| 17/17 [00:20<00:00,  1.19s/it]\n",
            "                 Class     Images  Instances      Box(P          R      mAP50  mAP50-95): 100%|██████████| 3/3 [00:02<00:00,  1.13it/s]"
          ]
        },
        {
          "output_type": "stream",
          "name": "stdout",
          "text": [
            "                   all         75         75      0.951      0.787      0.873      0.427\n"
          ]
        },
        {
          "output_type": "stream",
          "name": "stderr",
          "text": [
            "\n"
          ]
        },
        {
          "output_type": "stream",
          "name": "stdout",
          "text": [
            "\n",
            "      Epoch    GPU_mem   box_loss   cls_loss   dfl_loss  Instances       Size\n"
          ]
        },
        {
          "output_type": "stream",
          "name": "stderr",
          "text": [
            "    147/300        14G      1.057     0.5799      1.056          8        640: 100%|██████████| 17/17 [00:20<00:00,  1.21s/it]\n",
            "                 Class     Images  Instances      Box(P          R      mAP50  mAP50-95): 100%|██████████| 3/3 [00:02<00:00,  1.13it/s]"
          ]
        },
        {
          "output_type": "stream",
          "name": "stdout",
          "text": [
            "                   all         75         75      0.921       0.84      0.918      0.466\n"
          ]
        },
        {
          "output_type": "stream",
          "name": "stderr",
          "text": [
            "\n"
          ]
        },
        {
          "output_type": "stream",
          "name": "stdout",
          "text": [
            "\n",
            "      Epoch    GPU_mem   box_loss   cls_loss   dfl_loss  Instances       Size\n"
          ]
        },
        {
          "output_type": "stream",
          "name": "stderr",
          "text": [
            "    148/300      14.1G      1.143     0.5957      1.069          4        640: 100%|██████████| 17/17 [00:20<00:00,  1.20s/it]\n",
            "                 Class     Images  Instances      Box(P          R      mAP50  mAP50-95): 100%|██████████| 3/3 [00:02<00:00,  1.04it/s]"
          ]
        },
        {
          "output_type": "stream",
          "name": "stdout",
          "text": [
            "                   all         75         75      0.911      0.787      0.886       0.41\n"
          ]
        },
        {
          "output_type": "stream",
          "name": "stderr",
          "text": [
            "\n"
          ]
        },
        {
          "output_type": "stream",
          "name": "stdout",
          "text": [
            "\n",
            "      Epoch    GPU_mem   box_loss   cls_loss   dfl_loss  Instances       Size\n"
          ]
        },
        {
          "output_type": "stream",
          "name": "stderr",
          "text": [
            "    149/300      13.9G      1.188     0.5984      1.075          6        640: 100%|██████████| 17/17 [00:20<00:00,  1.23s/it]\n",
            "                 Class     Images  Instances      Box(P          R      mAP50  mAP50-95): 100%|██████████| 3/3 [00:02<00:00,  1.12it/s]"
          ]
        },
        {
          "output_type": "stream",
          "name": "stdout",
          "text": [
            "                   all         75         75      0.898      0.773      0.858      0.396\n"
          ]
        },
        {
          "output_type": "stream",
          "name": "stderr",
          "text": [
            "\n"
          ]
        },
        {
          "output_type": "stream",
          "name": "stdout",
          "text": [
            "\n",
            "      Epoch    GPU_mem   box_loss   cls_loss   dfl_loss  Instances       Size\n"
          ]
        },
        {
          "output_type": "stream",
          "name": "stderr",
          "text": [
            "    150/300      13.9G       1.14     0.6331      1.079          7        640: 100%|██████████| 17/17 [00:20<00:00,  1.19s/it]\n",
            "                 Class     Images  Instances      Box(P          R      mAP50  mAP50-95): 100%|██████████| 3/3 [00:02<00:00,  1.16it/s]"
          ]
        },
        {
          "output_type": "stream",
          "name": "stdout",
          "text": [
            "                   all         75         75      0.914       0.76      0.844      0.367\n"
          ]
        },
        {
          "output_type": "stream",
          "name": "stderr",
          "text": [
            "\n"
          ]
        },
        {
          "output_type": "stream",
          "name": "stdout",
          "text": [
            "\n",
            "      Epoch    GPU_mem   box_loss   cls_loss   dfl_loss  Instances       Size\n"
          ]
        },
        {
          "output_type": "stream",
          "name": "stderr",
          "text": [
            "    151/300        14G      1.174     0.6276       1.06         11        640: 100%|██████████| 17/17 [00:20<00:00,  1.20s/it]\n",
            "                 Class     Images  Instances      Box(P          R      mAP50  mAP50-95): 100%|██████████| 3/3 [00:02<00:00,  1.07it/s]"
          ]
        },
        {
          "output_type": "stream",
          "name": "stdout",
          "text": [
            "                   all         75         75      0.896       0.76      0.851      0.402\n"
          ]
        },
        {
          "output_type": "stream",
          "name": "stderr",
          "text": [
            "\n"
          ]
        },
        {
          "output_type": "stream",
          "name": "stdout",
          "text": [
            "\n",
            "      Epoch    GPU_mem   box_loss   cls_loss   dfl_loss  Instances       Size\n"
          ]
        },
        {
          "output_type": "stream",
          "name": "stderr",
          "text": [
            "    152/300      14.1G      1.091     0.5678      1.085         10        640: 100%|██████████| 17/17 [00:20<00:00,  1.23s/it]\n",
            "                 Class     Images  Instances      Box(P          R      mAP50  mAP50-95): 100%|██████████| 3/3 [00:02<00:00,  1.03it/s]"
          ]
        },
        {
          "output_type": "stream",
          "name": "stdout",
          "text": [
            "                   all         75         75      0.831      0.721      0.768      0.357\n"
          ]
        },
        {
          "output_type": "stream",
          "name": "stderr",
          "text": [
            "\n"
          ]
        },
        {
          "output_type": "stream",
          "name": "stdout",
          "text": [
            "\n",
            "      Epoch    GPU_mem   box_loss   cls_loss   dfl_loss  Instances       Size\n"
          ]
        },
        {
          "output_type": "stream",
          "name": "stderr",
          "text": [
            "    153/300      13.9G      1.096      0.622      1.034          7        640: 100%|██████████| 17/17 [00:20<00:00,  1.19s/it]\n",
            "                 Class     Images  Instances      Box(P          R      mAP50  mAP50-95): 100%|██████████| 3/3 [00:02<00:00,  1.14it/s]"
          ]
        },
        {
          "output_type": "stream",
          "name": "stdout",
          "text": [
            "                   all         75         75      0.965      0.773      0.852      0.406\n"
          ]
        },
        {
          "output_type": "stream",
          "name": "stderr",
          "text": [
            "\n"
          ]
        },
        {
          "output_type": "stream",
          "name": "stdout",
          "text": [
            "\n",
            "      Epoch    GPU_mem   box_loss   cls_loss   dfl_loss  Instances       Size\n"
          ]
        },
        {
          "output_type": "stream",
          "name": "stderr",
          "text": [
            "    154/300        14G      1.118     0.5794      1.064         12        640: 100%|██████████| 17/17 [00:20<00:00,  1.21s/it]\n",
            "                 Class     Images  Instances      Box(P          R      mAP50  mAP50-95): 100%|██████████| 3/3 [00:02<00:00,  1.09it/s]"
          ]
        },
        {
          "output_type": "stream",
          "name": "stdout",
          "text": [
            "                   all         75         75      0.938      0.808      0.863      0.406\n"
          ]
        },
        {
          "output_type": "stream",
          "name": "stderr",
          "text": [
            "\n"
          ]
        },
        {
          "output_type": "stream",
          "name": "stdout",
          "text": [
            "\n",
            "      Epoch    GPU_mem   box_loss   cls_loss   dfl_loss  Instances       Size\n"
          ]
        },
        {
          "output_type": "stream",
          "name": "stderr",
          "text": [
            "    155/300        14G      1.117     0.6225      1.037          6        640: 100%|██████████| 17/17 [00:20<00:00,  1.20s/it]\n",
            "                 Class     Images  Instances      Box(P          R      mAP50  mAP50-95): 100%|██████████| 3/3 [00:02<00:00,  1.06it/s]"
          ]
        },
        {
          "output_type": "stream",
          "name": "stdout",
          "text": [
            "                   all         75         75      0.932      0.773      0.875      0.411\n"
          ]
        },
        {
          "output_type": "stream",
          "name": "stderr",
          "text": [
            "\n"
          ]
        },
        {
          "output_type": "stream",
          "name": "stdout",
          "text": [
            "\n",
            "      Epoch    GPU_mem   box_loss   cls_loss   dfl_loss  Instances       Size\n"
          ]
        },
        {
          "output_type": "stream",
          "name": "stderr",
          "text": [
            "    156/300        14G      1.097     0.5793      1.049          5        640: 100%|██████████| 17/17 [00:20<00:00,  1.19s/it]\n",
            "                 Class     Images  Instances      Box(P          R      mAP50  mAP50-95): 100%|██████████| 3/3 [00:02<00:00,  1.13it/s]"
          ]
        },
        {
          "output_type": "stream",
          "name": "stdout",
          "text": [
            "                   all         75         75      0.892      0.773      0.877      0.393\n"
          ]
        },
        {
          "output_type": "stream",
          "name": "stderr",
          "text": [
            "\n"
          ]
        },
        {
          "output_type": "stream",
          "name": "stdout",
          "text": [
            "\n",
            "      Epoch    GPU_mem   box_loss   cls_loss   dfl_loss  Instances       Size\n"
          ]
        },
        {
          "output_type": "stream",
          "name": "stderr",
          "text": [
            "    157/300      13.9G      1.157      0.624      1.051          6        640: 100%|██████████| 17/17 [00:20<00:00,  1.21s/it]\n",
            "                 Class     Images  Instances      Box(P          R      mAP50  mAP50-95): 100%|██████████| 3/3 [00:02<00:00,  1.08it/s]"
          ]
        },
        {
          "output_type": "stream",
          "name": "stdout",
          "text": [
            "                   all         75         75      0.953      0.809      0.906      0.434\n"
          ]
        },
        {
          "output_type": "stream",
          "name": "stderr",
          "text": [
            "\n"
          ]
        },
        {
          "output_type": "stream",
          "name": "stdout",
          "text": [
            "\n",
            "      Epoch    GPU_mem   box_loss   cls_loss   dfl_loss  Instances       Size\n"
          ]
        },
        {
          "output_type": "stream",
          "name": "stderr",
          "text": [
            "    158/300      13.9G       1.11     0.5787       1.03          4        640: 100%|██████████| 17/17 [00:20<00:00,  1.20s/it]\n",
            "                 Class     Images  Instances      Box(P          R      mAP50  mAP50-95): 100%|██████████| 3/3 [00:02<00:00,  1.06it/s]"
          ]
        },
        {
          "output_type": "stream",
          "name": "stdout",
          "text": [
            "                   all         75         75      0.938      0.787      0.883      0.411\n"
          ]
        },
        {
          "output_type": "stream",
          "name": "stderr",
          "text": [
            "\n"
          ]
        },
        {
          "output_type": "stream",
          "name": "stdout",
          "text": [
            "\n",
            "      Epoch    GPU_mem   box_loss   cls_loss   dfl_loss  Instances       Size\n"
          ]
        },
        {
          "output_type": "stream",
          "name": "stderr",
          "text": [
            "    159/300        14G       1.11     0.5835      1.059          5        640: 100%|██████████| 17/17 [00:20<00:00,  1.20s/it]\n",
            "                 Class     Images  Instances      Box(P          R      mAP50  mAP50-95): 100%|██████████| 3/3 [00:02<00:00,  1.13it/s]"
          ]
        },
        {
          "output_type": "stream",
          "name": "stdout",
          "text": [
            "                   all         75         75      0.961      0.773      0.861      0.447\n"
          ]
        },
        {
          "output_type": "stream",
          "name": "stderr",
          "text": [
            "\n"
          ]
        },
        {
          "output_type": "stream",
          "name": "stdout",
          "text": [
            "\n",
            "      Epoch    GPU_mem   box_loss   cls_loss   dfl_loss  Instances       Size\n"
          ]
        },
        {
          "output_type": "stream",
          "name": "stderr",
          "text": [
            "    160/300      14.1G      1.056     0.5527      1.028          8        640: 100%|██████████| 17/17 [00:20<00:00,  1.21s/it]\n",
            "                 Class     Images  Instances      Box(P          R      mAP50  mAP50-95): 100%|██████████| 3/3 [00:02<00:00,  1.10it/s]"
          ]
        },
        {
          "output_type": "stream",
          "name": "stdout",
          "text": [
            "                   all         75         75      0.915      0.773      0.852      0.417\n"
          ]
        },
        {
          "output_type": "stream",
          "name": "stderr",
          "text": [
            "\n"
          ]
        },
        {
          "output_type": "stream",
          "name": "stdout",
          "text": [
            "\n",
            "      Epoch    GPU_mem   box_loss   cls_loss   dfl_loss  Instances       Size\n"
          ]
        },
        {
          "output_type": "stream",
          "name": "stderr",
          "text": [
            "    161/300      13.9G      1.078     0.5738      1.047          8        640: 100%|██████████| 17/17 [00:20<00:00,  1.20s/it]\n",
            "                 Class     Images  Instances      Box(P          R      mAP50  mAP50-95): 100%|██████████| 3/3 [00:02<00:00,  1.06it/s]"
          ]
        },
        {
          "output_type": "stream",
          "name": "stdout",
          "text": [
            "                   all         75         75      0.937      0.797      0.869      0.411\n"
          ]
        },
        {
          "output_type": "stream",
          "name": "stderr",
          "text": [
            "\n"
          ]
        },
        {
          "output_type": "stream",
          "name": "stdout",
          "text": [
            "\n",
            "      Epoch    GPU_mem   box_loss   cls_loss   dfl_loss  Instances       Size\n"
          ]
        },
        {
          "output_type": "stream",
          "name": "stderr",
          "text": [
            "    162/300      13.9G      1.005      0.523      1.002         11        640: 100%|██████████| 17/17 [00:20<00:00,  1.21s/it]\n",
            "                 Class     Images  Instances      Box(P          R      mAP50  mAP50-95): 100%|██████████| 3/3 [00:02<00:00,  1.12it/s]"
          ]
        },
        {
          "output_type": "stream",
          "name": "stdout",
          "text": [
            "                   all         75         75      0.869      0.795      0.847      0.399\n"
          ]
        },
        {
          "output_type": "stream",
          "name": "stderr",
          "text": [
            "\n"
          ]
        },
        {
          "output_type": "stream",
          "name": "stdout",
          "text": [
            "\n",
            "      Epoch    GPU_mem   box_loss   cls_loss   dfl_loss  Instances       Size\n"
          ]
        },
        {
          "output_type": "stream",
          "name": "stderr",
          "text": [
            "    163/300        14G      1.008     0.5623     0.9558          5        640: 100%|██████████| 17/17 [00:20<00:00,  1.20s/it]\n",
            "                 Class     Images  Instances      Box(P          R      mAP50  mAP50-95): 100%|██████████| 3/3 [00:02<00:00,  1.10it/s]"
          ]
        },
        {
          "output_type": "stream",
          "name": "stdout",
          "text": [
            "                   all         75         75      0.854      0.782      0.848      0.397\n"
          ]
        },
        {
          "output_type": "stream",
          "name": "stderr",
          "text": [
            "\n"
          ]
        },
        {
          "output_type": "stream",
          "name": "stdout",
          "text": [
            "\n",
            "      Epoch    GPU_mem   box_loss   cls_loss   dfl_loss  Instances       Size\n"
          ]
        },
        {
          "output_type": "stream",
          "name": "stderr",
          "text": [
            "    164/300        14G      1.039      0.576      1.045         10        640: 100%|██████████| 17/17 [00:20<00:00,  1.20s/it]\n",
            "                 Class     Images  Instances      Box(P          R      mAP50  mAP50-95): 100%|██████████| 3/3 [00:03<00:00,  1.00s/it]"
          ]
        },
        {
          "output_type": "stream",
          "name": "stdout",
          "text": [
            "                   all         75         75      0.948      0.773      0.877      0.425\n"
          ]
        },
        {
          "output_type": "stream",
          "name": "stderr",
          "text": [
            "\n"
          ]
        },
        {
          "output_type": "stream",
          "name": "stdout",
          "text": [
            "\n",
            "      Epoch    GPU_mem   box_loss   cls_loss   dfl_loss  Instances       Size\n"
          ]
        },
        {
          "output_type": "stream",
          "name": "stderr",
          "text": [
            "    165/300      13.9G      1.107     0.5706      1.065          8        640: 100%|██████████| 17/17 [00:20<00:00,  1.21s/it]\n",
            "                 Class     Images  Instances      Box(P          R      mAP50  mAP50-95): 100%|██████████| 3/3 [00:02<00:00,  1.02it/s]"
          ]
        },
        {
          "output_type": "stream",
          "name": "stdout",
          "text": [
            "                   all         75         75      0.956      0.773      0.875      0.412\n"
          ]
        },
        {
          "output_type": "stream",
          "name": "stderr",
          "text": [
            "\n"
          ]
        },
        {
          "output_type": "stream",
          "name": "stdout",
          "text": [
            "\n",
            "      Epoch    GPU_mem   box_loss   cls_loss   dfl_loss  Instances       Size\n"
          ]
        },
        {
          "output_type": "stream",
          "name": "stderr",
          "text": [
            "    166/300      13.9G      1.053     0.5572       1.02         10        640: 100%|██████████| 17/17 [00:20<00:00,  1.19s/it]\n",
            "                 Class     Images  Instances      Box(P          R      mAP50  mAP50-95): 100%|██████████| 3/3 [00:02<00:00,  1.14it/s]"
          ]
        },
        {
          "output_type": "stream",
          "name": "stdout",
          "text": [
            "                   all         75         75      0.978      0.773      0.882      0.417\n"
          ]
        },
        {
          "output_type": "stream",
          "name": "stderr",
          "text": [
            "\n"
          ]
        },
        {
          "output_type": "stream",
          "name": "stdout",
          "text": [
            "\n",
            "      Epoch    GPU_mem   box_loss   cls_loss   dfl_loss  Instances       Size\n"
          ]
        },
        {
          "output_type": "stream",
          "name": "stderr",
          "text": [
            "    167/300        14G     0.9603     0.5372      0.975          8        640: 100%|██████████| 17/17 [00:20<00:00,  1.19s/it]\n",
            "                 Class     Images  Instances      Box(P          R      mAP50  mAP50-95): 100%|██████████| 3/3 [00:02<00:00,  1.10it/s]"
          ]
        },
        {
          "output_type": "stream",
          "name": "stdout",
          "text": [
            "                   all         75         75      0.898      0.813      0.884      0.407\n"
          ]
        },
        {
          "output_type": "stream",
          "name": "stderr",
          "text": [
            "\n"
          ]
        },
        {
          "output_type": "stream",
          "name": "stdout",
          "text": [
            "\n",
            "      Epoch    GPU_mem   box_loss   cls_loss   dfl_loss  Instances       Size\n"
          ]
        },
        {
          "output_type": "stream",
          "name": "stderr",
          "text": [
            "    168/300        14G      1.057     0.5632      1.033          7        640: 100%|██████████| 17/17 [00:20<00:00,  1.21s/it]\n",
            "                 Class     Images  Instances      Box(P          R      mAP50  mAP50-95): 100%|██████████| 3/3 [00:02<00:00,  1.11it/s]"
          ]
        },
        {
          "output_type": "stream",
          "name": "stdout",
          "text": [
            "                   all         75         75       0.94      0.835       0.87      0.404\n"
          ]
        },
        {
          "output_type": "stream",
          "name": "stderr",
          "text": [
            "\n"
          ]
        },
        {
          "output_type": "stream",
          "name": "stdout",
          "text": [
            "\n",
            "      Epoch    GPU_mem   box_loss   cls_loss   dfl_loss  Instances       Size\n"
          ]
        },
        {
          "output_type": "stream",
          "name": "stderr",
          "text": [
            "    169/300      13.9G      1.039     0.5522      1.026          8        640: 100%|██████████| 17/17 [00:20<00:00,  1.19s/it]\n",
            "                 Class     Images  Instances      Box(P          R      mAP50  mAP50-95): 100%|██████████| 3/3 [00:02<00:00,  1.12it/s]"
          ]
        },
        {
          "output_type": "stream",
          "name": "stdout",
          "text": [
            "                   all         75         75      0.949      0.787      0.876      0.408\n"
          ]
        },
        {
          "output_type": "stream",
          "name": "stderr",
          "text": [
            "\n"
          ]
        },
        {
          "output_type": "stream",
          "name": "stdout",
          "text": [
            "\n",
            "      Epoch    GPU_mem   box_loss   cls_loss   dfl_loss  Instances       Size\n"
          ]
        },
        {
          "output_type": "stream",
          "name": "stderr",
          "text": [
            "    170/300      13.9G      1.061      0.599      1.015         10        640: 100%|██████████| 17/17 [00:20<00:00,  1.21s/it]\n",
            "                 Class     Images  Instances      Box(P          R      mAP50  mAP50-95): 100%|██████████| 3/3 [00:02<00:00,  1.07it/s]"
          ]
        },
        {
          "output_type": "stream",
          "name": "stdout",
          "text": [
            "                   all         75         75      0.892        0.8      0.836      0.385\n"
          ]
        },
        {
          "output_type": "stream",
          "name": "stderr",
          "text": [
            "\n"
          ]
        },
        {
          "output_type": "stream",
          "name": "stdout",
          "text": [
            "\n",
            "      Epoch    GPU_mem   box_loss   cls_loss   dfl_loss  Instances       Size\n"
          ]
        },
        {
          "output_type": "stream",
          "name": "stderr",
          "text": [
            "    171/300        14G       1.08     0.5848      1.006         10        640: 100%|██████████| 17/17 [00:20<00:00,  1.20s/it]\n",
            "                 Class     Images  Instances      Box(P          R      mAP50  mAP50-95): 100%|██████████| 3/3 [00:02<00:00,  1.07it/s]"
          ]
        },
        {
          "output_type": "stream",
          "name": "stdout",
          "text": [
            "                   all         75         75      0.904      0.773      0.859      0.387\n"
          ]
        },
        {
          "output_type": "stream",
          "name": "stderr",
          "text": [
            "\n"
          ]
        },
        {
          "output_type": "stream",
          "name": "stdout",
          "text": [
            "\n",
            "      Epoch    GPU_mem   box_loss   cls_loss   dfl_loss  Instances       Size\n"
          ]
        },
        {
          "output_type": "stream",
          "name": "stderr",
          "text": [
            "    172/300        14G      1.042     0.5685     0.9892          7        640: 100%|██████████| 17/17 [00:20<00:00,  1.20s/it]\n",
            "                 Class     Images  Instances      Box(P          R      mAP50  mAP50-95): 100%|██████████| 3/3 [00:02<00:00,  1.04it/s]"
          ]
        },
        {
          "output_type": "stream",
          "name": "stdout",
          "text": [
            "                   all         75         75      0.936      0.786      0.863      0.411\n"
          ]
        },
        {
          "output_type": "stream",
          "name": "stderr",
          "text": [
            "\n"
          ]
        },
        {
          "output_type": "stream",
          "name": "stdout",
          "text": [
            "\n",
            "      Epoch    GPU_mem   box_loss   cls_loss   dfl_loss  Instances       Size\n"
          ]
        },
        {
          "output_type": "stream",
          "name": "stderr",
          "text": [
            "    173/300      13.9G     0.9903     0.5318     0.9996          8        640: 100%|██████████| 17/17 [00:20<00:00,  1.20s/it]\n",
            "                 Class     Images  Instances      Box(P          R      mAP50  mAP50-95): 100%|██████████| 3/3 [00:02<00:00,  1.14it/s]"
          ]
        },
        {
          "output_type": "stream",
          "name": "stdout",
          "text": [
            "                   all         75         75       0.93      0.813      0.886      0.448\n"
          ]
        },
        {
          "output_type": "stream",
          "name": "stderr",
          "text": [
            "\n"
          ]
        },
        {
          "output_type": "stream",
          "name": "stdout",
          "text": [
            "\n",
            "      Epoch    GPU_mem   box_loss   cls_loss   dfl_loss  Instances       Size\n"
          ]
        },
        {
          "output_type": "stream",
          "name": "stderr",
          "text": [
            "    174/300        14G       1.04     0.5759      1.054          7        640: 100%|██████████| 17/17 [00:20<00:00,  1.19s/it]\n",
            "                 Class     Images  Instances      Box(P          R      mAP50  mAP50-95): 100%|██████████| 3/3 [00:02<00:00,  1.12it/s]"
          ]
        },
        {
          "output_type": "stream",
          "name": "stdout",
          "text": [
            "                   all         75         75      0.926      0.838      0.902      0.433\n"
          ]
        },
        {
          "output_type": "stream",
          "name": "stderr",
          "text": [
            "\n"
          ]
        },
        {
          "output_type": "stream",
          "name": "stdout",
          "text": [
            "\n",
            "      Epoch    GPU_mem   box_loss   cls_loss   dfl_loss  Instances       Size\n"
          ]
        },
        {
          "output_type": "stream",
          "name": "stderr",
          "text": [
            "    175/300        14G      1.018     0.5681      1.003         11        640: 100%|██████████| 17/17 [00:20<00:00,  1.21s/it]\n",
            "                 Class     Images  Instances      Box(P          R      mAP50  mAP50-95): 100%|██████████| 3/3 [00:02<00:00,  1.11it/s]"
          ]
        },
        {
          "output_type": "stream",
          "name": "stdout",
          "text": [
            "                   all         75         75      0.922      0.827      0.886      0.433\n"
          ]
        },
        {
          "output_type": "stream",
          "name": "stderr",
          "text": [
            "\n"
          ]
        },
        {
          "output_type": "stream",
          "name": "stdout",
          "text": [
            "\n",
            "      Epoch    GPU_mem   box_loss   cls_loss   dfl_loss  Instances       Size\n"
          ]
        },
        {
          "output_type": "stream",
          "name": "stderr",
          "text": [
            "    176/300        14G     0.9686     0.5454      1.021          8        640: 100%|██████████| 17/17 [00:20<00:00,  1.20s/it]\n",
            "                 Class     Images  Instances      Box(P          R      mAP50  mAP50-95): 100%|██████████| 3/3 [00:02<00:00,  1.03it/s]"
          ]
        },
        {
          "output_type": "stream",
          "name": "stdout",
          "text": [
            "                   all         75         75      0.947      0.787      0.881      0.402\n"
          ]
        },
        {
          "output_type": "stream",
          "name": "stderr",
          "text": [
            "\n"
          ]
        },
        {
          "output_type": "stream",
          "name": "stdout",
          "text": [
            "\n",
            "      Epoch    GPU_mem   box_loss   cls_loss   dfl_loss  Instances       Size\n"
          ]
        },
        {
          "output_type": "stream",
          "name": "stderr",
          "text": [
            "    177/300      13.9G     0.9813     0.5336      1.021          8        640: 100%|██████████| 17/17 [00:20<00:00,  1.19s/it]\n",
            "                 Class     Images  Instances      Box(P          R      mAP50  mAP50-95): 100%|██████████| 3/3 [00:02<00:00,  1.01it/s]"
          ]
        },
        {
          "output_type": "stream",
          "name": "stdout",
          "text": [
            "                   all         75         75      0.956        0.8      0.911       0.45\n"
          ]
        },
        {
          "output_type": "stream",
          "name": "stderr",
          "text": [
            "\n"
          ]
        },
        {
          "output_type": "stream",
          "name": "stdout",
          "text": [
            "\n",
            "      Epoch    GPU_mem   box_loss   cls_loss   dfl_loss  Instances       Size\n"
          ]
        },
        {
          "output_type": "stream",
          "name": "stderr",
          "text": [
            "    178/300      13.9G     0.9637     0.5579     0.9993         11        640: 100%|██████████| 17/17 [00:20<00:00,  1.21s/it]\n",
            "                 Class     Images  Instances      Box(P          R      mAP50  mAP50-95): 100%|██████████| 3/3 [00:02<00:00,  1.11it/s]"
          ]
        },
        {
          "output_type": "stream",
          "name": "stdout",
          "text": [
            "                   all         75         75          1      0.784      0.898      0.448\n"
          ]
        },
        {
          "output_type": "stream",
          "name": "stderr",
          "text": [
            "\n"
          ]
        },
        {
          "output_type": "stream",
          "name": "stdout",
          "text": [
            "\n",
            "      Epoch    GPU_mem   box_loss   cls_loss   dfl_loss  Instances       Size\n"
          ]
        },
        {
          "output_type": "stream",
          "name": "stderr",
          "text": [
            "    179/300        14G     0.9215     0.5035     0.9994          7        640: 100%|██████████| 17/17 [00:20<00:00,  1.20s/it]\n",
            "                 Class     Images  Instances      Box(P          R      mAP50  mAP50-95): 100%|██████████| 3/3 [00:02<00:00,  1.15it/s]"
          ]
        },
        {
          "output_type": "stream",
          "name": "stdout",
          "text": [
            "                   all         75         75      0.967      0.773       0.88      0.423\n"
          ]
        },
        {
          "output_type": "stream",
          "name": "stderr",
          "text": [
            "\n"
          ]
        },
        {
          "output_type": "stream",
          "name": "stdout",
          "text": [
            "\n",
            "      Epoch    GPU_mem   box_loss   cls_loss   dfl_loss  Instances       Size\n"
          ]
        },
        {
          "output_type": "stream",
          "name": "stderr",
          "text": [
            "    180/300        14G     0.9748     0.5144      1.013         10        640: 100%|██████████| 17/17 [00:20<00:00,  1.20s/it]\n",
            "                 Class     Images  Instances      Box(P          R      mAP50  mAP50-95): 100%|██████████| 3/3 [00:02<00:00,  1.10it/s]"
          ]
        },
        {
          "output_type": "stream",
          "name": "stdout",
          "text": [
            "                   all         75         75      0.921      0.827      0.897      0.457\n"
          ]
        },
        {
          "output_type": "stream",
          "name": "stderr",
          "text": [
            "\n"
          ]
        },
        {
          "output_type": "stream",
          "name": "stdout",
          "text": [
            "\n",
            "      Epoch    GPU_mem   box_loss   cls_loss   dfl_loss  Instances       Size\n"
          ]
        },
        {
          "output_type": "stream",
          "name": "stderr",
          "text": [
            "    181/300      13.9G     0.9417     0.5132     0.9819          8        640: 100%|██████████| 17/17 [00:20<00:00,  1.22s/it]\n",
            "                 Class     Images  Instances      Box(P          R      mAP50  mAP50-95): 100%|██████████| 3/3 [00:02<00:00,  1.03it/s]"
          ]
        },
        {
          "output_type": "stream",
          "name": "stdout",
          "text": [
            "                   all         75         75      0.939       0.84      0.912      0.451\n"
          ]
        },
        {
          "output_type": "stream",
          "name": "stderr",
          "text": [
            "\n"
          ]
        },
        {
          "output_type": "stream",
          "name": "stdout",
          "text": [
            "\n",
            "      Epoch    GPU_mem   box_loss   cls_loss   dfl_loss  Instances       Size\n"
          ]
        },
        {
          "output_type": "stream",
          "name": "stderr",
          "text": [
            "    182/300      13.9G     0.9321     0.5093     0.9686         11        640: 100%|██████████| 17/17 [00:20<00:00,  1.19s/it]\n",
            "                 Class     Images  Instances      Box(P          R      mAP50  mAP50-95): 100%|██████████| 3/3 [00:02<00:00,  1.16it/s]"
          ]
        },
        {
          "output_type": "stream",
          "name": "stdout",
          "text": [
            "                   all         75         75      0.924      0.853      0.894      0.444\n"
          ]
        },
        {
          "output_type": "stream",
          "name": "stderr",
          "text": [
            "\n"
          ]
        },
        {
          "output_type": "stream",
          "name": "stdout",
          "text": [
            "\n",
            "      Epoch    GPU_mem   box_loss   cls_loss   dfl_loss  Instances       Size\n"
          ]
        },
        {
          "output_type": "stream",
          "name": "stderr",
          "text": [
            "    183/300        14G     0.9962     0.5159     0.9998          6        640: 100%|██████████| 17/17 [00:20<00:00,  1.20s/it]\n",
            "                 Class     Images  Instances      Box(P          R      mAP50  mAP50-95): 100%|██████████| 3/3 [00:02<00:00,  1.06it/s]"
          ]
        },
        {
          "output_type": "stream",
          "name": "stdout",
          "text": [
            "                   all         75         75      0.867      0.813      0.863      0.413\n"
          ]
        },
        {
          "output_type": "stream",
          "name": "stderr",
          "text": [
            "\n"
          ]
        },
        {
          "output_type": "stream",
          "name": "stdout",
          "text": [
            "\n",
            "      Epoch    GPU_mem   box_loss   cls_loss   dfl_loss  Instances       Size\n"
          ]
        },
        {
          "output_type": "stream",
          "name": "stderr",
          "text": [
            "    184/300      14.1G      1.017      0.538     0.9663          8        640: 100%|██████████| 17/17 [00:20<00:00,  1.21s/it]\n",
            "                 Class     Images  Instances      Box(P          R      mAP50  mAP50-95): 100%|██████████| 3/3 [00:02<00:00,  1.13it/s]"
          ]
        },
        {
          "output_type": "stream",
          "name": "stdout",
          "text": [
            "                   all         75         75      0.951      0.783      0.858      0.428\n"
          ]
        },
        {
          "output_type": "stream",
          "name": "stderr",
          "text": [
            "\n"
          ]
        },
        {
          "output_type": "stream",
          "name": "stdout",
          "text": [
            "\n",
            "      Epoch    GPU_mem   box_loss   cls_loss   dfl_loss  Instances       Size\n"
          ]
        },
        {
          "output_type": "stream",
          "name": "stderr",
          "text": [
            "    185/300      13.9G     0.9987     0.5194     0.9641         10        640: 100%|██████████| 17/17 [00:20<00:00,  1.19s/it]\n",
            "                 Class     Images  Instances      Box(P          R      mAP50  mAP50-95): 100%|██████████| 3/3 [00:02<00:00,  1.11it/s]"
          ]
        },
        {
          "output_type": "stream",
          "name": "stdout",
          "text": [
            "                   all         75         75      0.952      0.827      0.893      0.456\n"
          ]
        },
        {
          "output_type": "stream",
          "name": "stderr",
          "text": [
            "\n"
          ]
        },
        {
          "output_type": "stream",
          "name": "stdout",
          "text": [
            "\n",
            "      Epoch    GPU_mem   box_loss   cls_loss   dfl_loss  Instances       Size\n"
          ]
        },
        {
          "output_type": "stream",
          "name": "stderr",
          "text": [
            "    186/300      13.9G     0.9927     0.5495     0.9938          7        640: 100%|██████████| 17/17 [00:20<00:00,  1.21s/it]\n",
            "                 Class     Images  Instances      Box(P          R      mAP50  mAP50-95): 100%|██████████| 3/3 [00:02<00:00,  1.11it/s]"
          ]
        },
        {
          "output_type": "stream",
          "name": "stdout",
          "text": [
            "                   all         75         75      0.939      0.827      0.873      0.426\n"
          ]
        },
        {
          "output_type": "stream",
          "name": "stderr",
          "text": [
            "\n"
          ]
        },
        {
          "output_type": "stream",
          "name": "stdout",
          "text": [
            "\n",
            "      Epoch    GPU_mem   box_loss   cls_loss   dfl_loss  Instances       Size\n"
          ]
        },
        {
          "output_type": "stream",
          "name": "stderr",
          "text": [
            "    187/300        14G     0.9159     0.5073     0.9898          7        640: 100%|██████████| 17/17 [00:20<00:00,  1.20s/it]\n",
            "                 Class     Images  Instances      Box(P          R      mAP50  mAP50-95): 100%|██████████| 3/3 [00:02<00:00,  1.11it/s]"
          ]
        },
        {
          "output_type": "stream",
          "name": "stdout",
          "text": [
            "                   all         75         75      0.922      0.786      0.851       0.43\n"
          ]
        },
        {
          "output_type": "stream",
          "name": "stderr",
          "text": [
            "\n"
          ]
        },
        {
          "output_type": "stream",
          "name": "stdout",
          "text": [
            "\n",
            "      Epoch    GPU_mem   box_loss   cls_loss   dfl_loss  Instances       Size\n"
          ]
        },
        {
          "output_type": "stream",
          "name": "stderr",
          "text": [
            "    188/300      14.1G     0.9794     0.5236     0.9902          7        640: 100%|██████████| 17/17 [00:20<00:00,  1.21s/it]\n",
            "                 Class     Images  Instances      Box(P          R      mAP50  mAP50-95): 100%|██████████| 3/3 [00:02<00:00,  1.02it/s]"
          ]
        },
        {
          "output_type": "stream",
          "name": "stdout",
          "text": [
            "                   all         75         75      0.969       0.76      0.892      0.423\n"
          ]
        },
        {
          "output_type": "stream",
          "name": "stderr",
          "text": [
            "\n"
          ]
        },
        {
          "output_type": "stream",
          "name": "stdout",
          "text": [
            "\n",
            "      Epoch    GPU_mem   box_loss   cls_loss   dfl_loss  Instances       Size\n"
          ]
        },
        {
          "output_type": "stream",
          "name": "stderr",
          "text": [
            "    189/300      13.9G     0.9156      0.527     0.9622         11        640: 100%|██████████| 17/17 [00:20<00:00,  1.19s/it]\n",
            "                 Class     Images  Instances      Box(P          R      mAP50  mAP50-95): 100%|██████████| 3/3 [00:02<00:00,  1.14it/s]"
          ]
        },
        {
          "output_type": "stream",
          "name": "stdout",
          "text": [
            "                   all         75         75        0.9      0.773      0.881      0.395\n"
          ]
        },
        {
          "output_type": "stream",
          "name": "stderr",
          "text": [
            "\n"
          ]
        },
        {
          "output_type": "stream",
          "name": "stdout",
          "text": [
            "\n",
            "      Epoch    GPU_mem   box_loss   cls_loss   dfl_loss  Instances       Size\n"
          ]
        },
        {
          "output_type": "stream",
          "name": "stderr",
          "text": [
            "    190/300      13.9G     0.9707     0.5432     0.9948         10        640: 100%|██████████| 17/17 [00:20<00:00,  1.20s/it]\n",
            "                 Class     Images  Instances      Box(P          R      mAP50  mAP50-95): 100%|██████████| 3/3 [00:02<00:00,  1.11it/s]"
          ]
        },
        {
          "output_type": "stream",
          "name": "stdout",
          "text": [
            "                   all         75         75      0.838      0.829       0.88      0.417\n"
          ]
        },
        {
          "output_type": "stream",
          "name": "stderr",
          "text": [
            "\n"
          ]
        },
        {
          "output_type": "stream",
          "name": "stdout",
          "text": [
            "\n",
            "      Epoch    GPU_mem   box_loss   cls_loss   dfl_loss  Instances       Size\n"
          ]
        },
        {
          "output_type": "stream",
          "name": "stderr",
          "text": [
            "    191/300        14G     0.9687      0.505          1          4        640: 100%|██████████| 17/17 [00:20<00:00,  1.21s/it]\n",
            "                 Class     Images  Instances      Box(P          R      mAP50  mAP50-95): 100%|██████████| 3/3 [00:02<00:00,  1.05it/s]"
          ]
        },
        {
          "output_type": "stream",
          "name": "stdout",
          "text": [
            "                   all         75         75      0.891      0.787      0.859      0.402\n"
          ]
        },
        {
          "output_type": "stream",
          "name": "stderr",
          "text": [
            "\n"
          ]
        },
        {
          "output_type": "stream",
          "name": "stdout",
          "text": [
            "\n",
            "      Epoch    GPU_mem   box_loss   cls_loss   dfl_loss  Instances       Size\n"
          ]
        },
        {
          "output_type": "stream",
          "name": "stderr",
          "text": [
            "    192/300      14.1G     0.9244      0.499     0.9808          7        640: 100%|██████████| 17/17 [00:20<00:00,  1.20s/it]\n",
            "                 Class     Images  Instances      Box(P          R      mAP50  mAP50-95): 100%|██████████| 3/3 [00:02<00:00,  1.08it/s]"
          ]
        },
        {
          "output_type": "stream",
          "name": "stdout",
          "text": [
            "                   all         75         75      0.949      0.745      0.884      0.423\n"
          ]
        },
        {
          "output_type": "stream",
          "name": "stderr",
          "text": [
            "\n"
          ]
        },
        {
          "output_type": "stream",
          "name": "stdout",
          "text": [
            "\n",
            "      Epoch    GPU_mem   box_loss   cls_loss   dfl_loss  Instances       Size\n"
          ]
        },
        {
          "output_type": "stream",
          "name": "stderr",
          "text": [
            "    193/300      13.9G     0.8364      0.462      0.949         11        640: 100%|██████████| 17/17 [00:20<00:00,  1.20s/it]\n",
            "                 Class     Images  Instances      Box(P          R      mAP50  mAP50-95): 100%|██████████| 3/3 [00:02<00:00,  1.03it/s]"
          ]
        },
        {
          "output_type": "stream",
          "name": "stdout",
          "text": [
            "                   all         75         75      0.898      0.823      0.885      0.447\n"
          ]
        },
        {
          "output_type": "stream",
          "name": "stderr",
          "text": [
            "\n"
          ]
        },
        {
          "output_type": "stream",
          "name": "stdout",
          "text": [
            "\n",
            "      Epoch    GPU_mem   box_loss   cls_loss   dfl_loss  Instances       Size\n"
          ]
        },
        {
          "output_type": "stream",
          "name": "stderr",
          "text": [
            "    194/300      13.9G     0.9166     0.4776     0.9775          5        640: 100%|██████████| 17/17 [00:20<00:00,  1.21s/it]\n",
            "                 Class     Images  Instances      Box(P          R      mAP50  mAP50-95): 100%|██████████| 3/3 [00:02<00:00,  1.12it/s]"
          ]
        },
        {
          "output_type": "stream",
          "name": "stdout",
          "text": [
            "                   all         75         75      0.935       0.84      0.901      0.462\n"
          ]
        },
        {
          "output_type": "stream",
          "name": "stderr",
          "text": [
            "\n"
          ]
        },
        {
          "output_type": "stream",
          "name": "stdout",
          "text": [
            "\n",
            "      Epoch    GPU_mem   box_loss   cls_loss   dfl_loss  Instances       Size\n"
          ]
        },
        {
          "output_type": "stream",
          "name": "stderr",
          "text": [
            "    195/300        14G     0.8618     0.4759     0.9523          5        640: 100%|██████████| 17/17 [00:20<00:00,  1.20s/it]\n",
            "                 Class     Images  Instances      Box(P          R      mAP50  mAP50-95): 100%|██████████| 3/3 [00:02<00:00,  1.08it/s]"
          ]
        },
        {
          "output_type": "stream",
          "name": "stdout",
          "text": [
            "                   all         75         75       0.99      0.787      0.913      0.462\n"
          ]
        },
        {
          "output_type": "stream",
          "name": "stderr",
          "text": [
            "\n"
          ]
        },
        {
          "output_type": "stream",
          "name": "stdout",
          "text": [
            "\n",
            "      Epoch    GPU_mem   box_loss   cls_loss   dfl_loss  Instances       Size\n"
          ]
        },
        {
          "output_type": "stream",
          "name": "stderr",
          "text": [
            "    196/300        14G     0.8816     0.4797     0.9595          8        640: 100%|██████████| 17/17 [00:20<00:00,  1.21s/it]\n",
            "                 Class     Images  Instances      Box(P          R      mAP50  mAP50-95): 100%|██████████| 3/3 [00:02<00:00,  1.05it/s]"
          ]
        },
        {
          "output_type": "stream",
          "name": "stdout",
          "text": [
            "                   all         75         75      0.819      0.853      0.895      0.448\n"
          ]
        },
        {
          "output_type": "stream",
          "name": "stderr",
          "text": [
            "\n"
          ]
        },
        {
          "output_type": "stream",
          "name": "stdout",
          "text": [
            "\n",
            "      Epoch    GPU_mem   box_loss   cls_loss   dfl_loss  Instances       Size\n"
          ]
        },
        {
          "output_type": "stream",
          "name": "stderr",
          "text": [
            "    197/300      13.9G     0.8534     0.4939     0.9359          7        640: 100%|██████████| 17/17 [00:20<00:00,  1.20s/it]\n",
            "                 Class     Images  Instances      Box(P          R      mAP50  mAP50-95): 100%|██████████| 3/3 [00:02<00:00,  1.13it/s]"
          ]
        },
        {
          "output_type": "stream",
          "name": "stdout",
          "text": [
            "                   all         75         75      0.929        0.8      0.874       0.41\n",
            "Stopping training early as no improvement observed in last 50 epochs. Best results observed at epoch 147, best model saved as best.pt.\n",
            "To update EarlyStopping(patience=50) pass a new patience value, i.e. `patience=300` or use `patience=0` to disable EarlyStopping.\n"
          ]
        },
        {
          "output_type": "stream",
          "name": "stderr",
          "text": [
            "\n"
          ]
        },
        {
          "output_type": "stream",
          "name": "stdout",
          "text": [
            "\n",
            "197 epochs completed in 1.577 hours.\n",
            "Optimizer stripped from runs/detect/train/weights/last.pt, 136.8MB\n",
            "Optimizer stripped from runs/detect/train/weights/best.pt, 136.7MB\n",
            "\n",
            "Validating runs/detect/train/weights/best.pt...\n",
            "Ultralytics YOLOv8.0.225 🚀 Python-3.10.12 torch-2.1.0+cu118 CUDA:0 (Tesla T4, 15102MiB)\n",
            "Model summary (fused): 268 layers, 68124531 parameters, 0 gradients, 257.4 GFLOPs\n"
          ]
        },
        {
          "output_type": "stream",
          "name": "stderr",
          "text": [
            "                 Class     Images  Instances      Box(P          R      mAP50  mAP50-95): 100%|██████████| 3/3 [00:03<00:00,  1.18s/it]\n"
          ]
        },
        {
          "output_type": "stream",
          "name": "stdout",
          "text": [
            "                   all         75         75      0.921       0.84      0.918      0.466\n",
            "Speed: 0.2ms preprocess, 29.3ms inference, 0.0ms loss, 4.1ms postprocess per image\n",
            "Results saved to \u001b[1mruns/detect/train\u001b[0m\n"
          ]
        },
        {
          "output_type": "execute_result",
          "data": {
            "text/plain": [
              "ultralytics.utils.metrics.DetMetrics object with attributes:\n",
              "\n",
              "ap_class_index: array([0])\n",
              "box: ultralytics.utils.metrics.Metric object\n",
              "confusion_matrix: <ultralytics.utils.metrics.ConfusionMatrix object at 0x7e51e2359090>\n",
              "curves: ['Precision-Recall(B)', 'F1-Confidence(B)', 'Precision-Confidence(B)', 'Recall-Confidence(B)']\n",
              "curves_results: [[array([          0,    0.001001,    0.002002,    0.003003,    0.004004,    0.005005,    0.006006,    0.007007,    0.008008,    0.009009,     0.01001,    0.011011,    0.012012,    0.013013,    0.014014,    0.015015,    0.016016,    0.017017,    0.018018,    0.019019,     0.02002,    0.021021,    0.022022,    0.023023,\n",
              "          0.024024,    0.025025,    0.026026,    0.027027,    0.028028,    0.029029,     0.03003,    0.031031,    0.032032,    0.033033,    0.034034,    0.035035,    0.036036,    0.037037,    0.038038,    0.039039,     0.04004,    0.041041,    0.042042,    0.043043,    0.044044,    0.045045,    0.046046,    0.047047,\n",
              "          0.048048,    0.049049,     0.05005,    0.051051,    0.052052,    0.053053,    0.054054,    0.055055,    0.056056,    0.057057,    0.058058,    0.059059,     0.06006,    0.061061,    0.062062,    0.063063,    0.064064,    0.065065,    0.066066,    0.067067,    0.068068,    0.069069,     0.07007,    0.071071,\n",
              "          0.072072,    0.073073,    0.074074,    0.075075,    0.076076,    0.077077,    0.078078,    0.079079,     0.08008,    0.081081,    0.082082,    0.083083,    0.084084,    0.085085,    0.086086,    0.087087,    0.088088,    0.089089,     0.09009,    0.091091,    0.092092,    0.093093,    0.094094,    0.095095,\n",
              "          0.096096,    0.097097,    0.098098,    0.099099,      0.1001,      0.1011,      0.1021,      0.1031,      0.1041,     0.10511,     0.10611,     0.10711,     0.10811,     0.10911,     0.11011,     0.11111,     0.11211,     0.11311,     0.11411,     0.11512,     0.11612,     0.11712,     0.11812,     0.11912,\n",
              "           0.12012,     0.12112,     0.12212,     0.12312,     0.12412,     0.12513,     0.12613,     0.12713,     0.12813,     0.12913,     0.13013,     0.13113,     0.13213,     0.13313,     0.13413,     0.13514,     0.13614,     0.13714,     0.13814,     0.13914,     0.14014,     0.14114,     0.14214,     0.14314,\n",
              "           0.14414,     0.14515,     0.14615,     0.14715,     0.14815,     0.14915,     0.15015,     0.15115,     0.15215,     0.15315,     0.15415,     0.15516,     0.15616,     0.15716,     0.15816,     0.15916,     0.16016,     0.16116,     0.16216,     0.16316,     0.16416,     0.16517,     0.16617,     0.16717,\n",
              "           0.16817,     0.16917,     0.17017,     0.17117,     0.17217,     0.17317,     0.17417,     0.17518,     0.17618,     0.17718,     0.17818,     0.17918,     0.18018,     0.18118,     0.18218,     0.18318,     0.18418,     0.18519,     0.18619,     0.18719,     0.18819,     0.18919,     0.19019,     0.19119,\n",
              "           0.19219,     0.19319,     0.19419,      0.1952,      0.1962,      0.1972,      0.1982,      0.1992,      0.2002,      0.2012,      0.2022,      0.2032,      0.2042,     0.20521,     0.20621,     0.20721,     0.20821,     0.20921,     0.21021,     0.21121,     0.21221,     0.21321,     0.21421,     0.21522,\n",
              "           0.21622,     0.21722,     0.21822,     0.21922,     0.22022,     0.22122,     0.22222,     0.22322,     0.22422,     0.22523,     0.22623,     0.22723,     0.22823,     0.22923,     0.23023,     0.23123,     0.23223,     0.23323,     0.23423,     0.23524,     0.23624,     0.23724,     0.23824,     0.23924,\n",
              "           0.24024,     0.24124,     0.24224,     0.24324,     0.24424,     0.24525,     0.24625,     0.24725,     0.24825,     0.24925,     0.25025,     0.25125,     0.25225,     0.25325,     0.25425,     0.25526,     0.25626,     0.25726,     0.25826,     0.25926,     0.26026,     0.26126,     0.26226,     0.26326,\n",
              "           0.26426,     0.26527,     0.26627,     0.26727,     0.26827,     0.26927,     0.27027,     0.27127,     0.27227,     0.27327,     0.27427,     0.27528,     0.27628,     0.27728,     0.27828,     0.27928,     0.28028,     0.28128,     0.28228,     0.28328,     0.28428,     0.28529,     0.28629,     0.28729,\n",
              "           0.28829,     0.28929,     0.29029,     0.29129,     0.29229,     0.29329,     0.29429,      0.2953,      0.2963,      0.2973,      0.2983,      0.2993,      0.3003,      0.3013,      0.3023,      0.3033,      0.3043,     0.30531,     0.30631,     0.30731,     0.30831,     0.30931,     0.31031,     0.31131,\n",
              "           0.31231,     0.31331,     0.31431,     0.31532,     0.31632,     0.31732,     0.31832,     0.31932,     0.32032,     0.32132,     0.32232,     0.32332,     0.32432,     0.32533,     0.32633,     0.32733,     0.32833,     0.32933,     0.33033,     0.33133,     0.33233,     0.33333,     0.33433,     0.33534,\n",
              "           0.33634,     0.33734,     0.33834,     0.33934,     0.34034,     0.34134,     0.34234,     0.34334,     0.34434,     0.34535,     0.34635,     0.34735,     0.34835,     0.34935,     0.35035,     0.35135,     0.35235,     0.35335,     0.35435,     0.35536,     0.35636,     0.35736,     0.35836,     0.35936,\n",
              "           0.36036,     0.36136,     0.36236,     0.36336,     0.36436,     0.36537,     0.36637,     0.36737,     0.36837,     0.36937,     0.37037,     0.37137,     0.37237,     0.37337,     0.37437,     0.37538,     0.37638,     0.37738,     0.37838,     0.37938,     0.38038,     0.38138,     0.38238,     0.38338,\n",
              "           0.38438,     0.38539,     0.38639,     0.38739,     0.38839,     0.38939,     0.39039,     0.39139,     0.39239,     0.39339,     0.39439,      0.3954,      0.3964,      0.3974,      0.3984,      0.3994,      0.4004,      0.4014,      0.4024,      0.4034,      0.4044,     0.40541,     0.40641,     0.40741,\n",
              "           0.40841,     0.40941,     0.41041,     0.41141,     0.41241,     0.41341,     0.41441,     0.41542,     0.41642,     0.41742,     0.41842,     0.41942,     0.42042,     0.42142,     0.42242,     0.42342,     0.42442,     0.42543,     0.42643,     0.42743,     0.42843,     0.42943,     0.43043,     0.43143,\n",
              "           0.43243,     0.43343,     0.43443,     0.43544,     0.43644,     0.43744,     0.43844,     0.43944,     0.44044,     0.44144,     0.44244,     0.44344,     0.44444,     0.44545,     0.44645,     0.44745,     0.44845,     0.44945,     0.45045,     0.45145,     0.45245,     0.45345,     0.45445,     0.45546,\n",
              "           0.45646,     0.45746,     0.45846,     0.45946,     0.46046,     0.46146,     0.46246,     0.46346,     0.46446,     0.46547,     0.46647,     0.46747,     0.46847,     0.46947,     0.47047,     0.47147,     0.47247,     0.47347,     0.47447,     0.47548,     0.47648,     0.47748,     0.47848,     0.47948,\n",
              "           0.48048,     0.48148,     0.48248,     0.48348,     0.48448,     0.48549,     0.48649,     0.48749,     0.48849,     0.48949,     0.49049,     0.49149,     0.49249,     0.49349,     0.49449,      0.4955,      0.4965,      0.4975,      0.4985,      0.4995,      0.5005,      0.5015,      0.5025,      0.5035,\n",
              "            0.5045,     0.50551,     0.50651,     0.50751,     0.50851,     0.50951,     0.51051,     0.51151,     0.51251,     0.51351,     0.51451,     0.51552,     0.51652,     0.51752,     0.51852,     0.51952,     0.52052,     0.52152,     0.52252,     0.52352,     0.52452,     0.52553,     0.52653,     0.52753,\n",
              "           0.52853,     0.52953,     0.53053,     0.53153,     0.53253,     0.53353,     0.53453,     0.53554,     0.53654,     0.53754,     0.53854,     0.53954,     0.54054,     0.54154,     0.54254,     0.54354,     0.54454,     0.54555,     0.54655,     0.54755,     0.54855,     0.54955,     0.55055,     0.55155,\n",
              "           0.55255,     0.55355,     0.55455,     0.55556,     0.55656,     0.55756,     0.55856,     0.55956,     0.56056,     0.56156,     0.56256,     0.56356,     0.56456,     0.56557,     0.56657,     0.56757,     0.56857,     0.56957,     0.57057,     0.57157,     0.57257,     0.57357,     0.57457,     0.57558,\n",
              "           0.57658,     0.57758,     0.57858,     0.57958,     0.58058,     0.58158,     0.58258,     0.58358,     0.58458,     0.58559,     0.58659,     0.58759,     0.58859,     0.58959,     0.59059,     0.59159,     0.59259,     0.59359,     0.59459,      0.5956,      0.5966,      0.5976,      0.5986,      0.5996,\n",
              "            0.6006,      0.6016,      0.6026,      0.6036,      0.6046,     0.60561,     0.60661,     0.60761,     0.60861,     0.60961,     0.61061,     0.61161,     0.61261,     0.61361,     0.61461,     0.61562,     0.61662,     0.61762,     0.61862,     0.61962,     0.62062,     0.62162,     0.62262,     0.62362,\n",
              "           0.62462,     0.62563,     0.62663,     0.62763,     0.62863,     0.62963,     0.63063,     0.63163,     0.63263,     0.63363,     0.63463,     0.63564,     0.63664,     0.63764,     0.63864,     0.63964,     0.64064,     0.64164,     0.64264,     0.64364,     0.64464,     0.64565,     0.64665,     0.64765,\n",
              "           0.64865,     0.64965,     0.65065,     0.65165,     0.65265,     0.65365,     0.65465,     0.65566,     0.65666,     0.65766,     0.65866,     0.65966,     0.66066,     0.66166,     0.66266,     0.66366,     0.66466,     0.66567,     0.66667,     0.66767,     0.66867,     0.66967,     0.67067,     0.67167,\n",
              "           0.67267,     0.67367,     0.67467,     0.67568,     0.67668,     0.67768,     0.67868,     0.67968,     0.68068,     0.68168,     0.68268,     0.68368,     0.68468,     0.68569,     0.68669,     0.68769,     0.68869,     0.68969,     0.69069,     0.69169,     0.69269,     0.69369,     0.69469,      0.6957,\n",
              "            0.6967,      0.6977,      0.6987,      0.6997,      0.7007,      0.7017,      0.7027,      0.7037,      0.7047,     0.70571,     0.70671,     0.70771,     0.70871,     0.70971,     0.71071,     0.71171,     0.71271,     0.71371,     0.71471,     0.71572,     0.71672,     0.71772,     0.71872,     0.71972,\n",
              "           0.72072,     0.72172,     0.72272,     0.72372,     0.72472,     0.72573,     0.72673,     0.72773,     0.72873,     0.72973,     0.73073,     0.73173,     0.73273,     0.73373,     0.73473,     0.73574,     0.73674,     0.73774,     0.73874,     0.73974,     0.74074,     0.74174,     0.74274,     0.74374,\n",
              "           0.74474,     0.74575,     0.74675,     0.74775,     0.74875,     0.74975,     0.75075,     0.75175,     0.75275,     0.75375,     0.75475,     0.75576,     0.75676,     0.75776,     0.75876,     0.75976,     0.76076,     0.76176,     0.76276,     0.76376,     0.76476,     0.76577,     0.76677,     0.76777,\n",
              "           0.76877,     0.76977,     0.77077,     0.77177,     0.77277,     0.77377,     0.77477,     0.77578,     0.77678,     0.77778,     0.77878,     0.77978,     0.78078,     0.78178,     0.78278,     0.78378,     0.78478,     0.78579,     0.78679,     0.78779,     0.78879,     0.78979,     0.79079,     0.79179,\n",
              "           0.79279,     0.79379,     0.79479,      0.7958,      0.7968,      0.7978,      0.7988,      0.7998,      0.8008,      0.8018,      0.8028,      0.8038,      0.8048,     0.80581,     0.80681,     0.80781,     0.80881,     0.80981,     0.81081,     0.81181,     0.81281,     0.81381,     0.81481,     0.81582,\n",
              "           0.81682,     0.81782,     0.81882,     0.81982,     0.82082,     0.82182,     0.82282,     0.82382,     0.82482,     0.82583,     0.82683,     0.82783,     0.82883,     0.82983,     0.83083,     0.83183,     0.83283,     0.83383,     0.83483,     0.83584,     0.83684,     0.83784,     0.83884,     0.83984,\n",
              "           0.84084,     0.84184,     0.84284,     0.84384,     0.84484,     0.84585,     0.84685,     0.84785,     0.84885,     0.84985,     0.85085,     0.85185,     0.85285,     0.85385,     0.85485,     0.85586,     0.85686,     0.85786,     0.85886,     0.85986,     0.86086,     0.86186,     0.86286,     0.86386,\n",
              "           0.86486,     0.86587,     0.86687,     0.86787,     0.86887,     0.86987,     0.87087,     0.87187,     0.87287,     0.87387,     0.87487,     0.87588,     0.87688,     0.87788,     0.87888,     0.87988,     0.88088,     0.88188,     0.88288,     0.88388,     0.88488,     0.88589,     0.88689,     0.88789,\n",
              "           0.88889,     0.88989,     0.89089,     0.89189,     0.89289,     0.89389,     0.89489,      0.8959,      0.8969,      0.8979,      0.8989,      0.8999,      0.9009,      0.9019,      0.9029,      0.9039,      0.9049,     0.90591,     0.90691,     0.90791,     0.90891,     0.90991,     0.91091,     0.91191,\n",
              "           0.91291,     0.91391,     0.91491,     0.91592,     0.91692,     0.91792,     0.91892,     0.91992,     0.92092,     0.92192,     0.92292,     0.92392,     0.92492,     0.92593,     0.92693,     0.92793,     0.92893,     0.92993,     0.93093,     0.93193,     0.93293,     0.93393,     0.93493,     0.93594,\n",
              "           0.93694,     0.93794,     0.93894,     0.93994,     0.94094,     0.94194,     0.94294,     0.94394,     0.94494,     0.94595,     0.94695,     0.94795,     0.94895,     0.94995,     0.95095,     0.95195,     0.95295,     0.95395,     0.95495,     0.95596,     0.95696,     0.95796,     0.95896,     0.95996,\n",
              "           0.96096,     0.96196,     0.96296,     0.96396,     0.96496,     0.96597,     0.96697,     0.96797,     0.96897,     0.96997,     0.97097,     0.97197,     0.97297,     0.97397,     0.97497,     0.97598,     0.97698,     0.97798,     0.97898,     0.97998,     0.98098,     0.98198,     0.98298,     0.98398,\n",
              "           0.98498,     0.98599,     0.98699,     0.98799,     0.98899,     0.98999,     0.99099,     0.99199,     0.99299,     0.99399,     0.99499,       0.996,       0.997,       0.998,       0.999,           1]), array([[          1,           1,           1,           1,           1,           1,           1,           1,           1,           1,           1,           1,           1,           1,           1,           1,           1,           1,           1,           1,           1,           1,           1,\n",
              "                  1,           1,           1,           1,           1,           1,           1,           1,           1,           1,           1,           1,           1,           1,           1,           1,           1,           1,           1,           1,           1,           1,           1,\n",
              "                  1,           1,           1,           1,           1,           1,           1,           1,           1,           1,           1,           1,           1,           1,           1,           1,           1,           1,           1,           1,           1,           1,           1,\n",
              "                  1,           1,           1,           1,           1,           1,           1,           1,           1,           1,           1,           1,           1,           1,           1,           1,           1,           1,           1,           1,           1,           1,           1,\n",
              "                  1,           1,           1,           1,           1,           1,           1,           1,           1,           1,           1,           1,           1,           1,           1,           1,           1,           1,           1,           1,           1,           1,           1,\n",
              "                  1,           1,           1,           1,           1,           1,           1,           1,           1,           1,           1,           1,           1,           1,           1,           1,           1,           1,           1,           1,           1,           1,           1,\n",
              "                  1,           1,           1,           1,           1,           1,           1,           1,           1,           1,           1,           1,           1,           1,           1,           1,           1,           1,           1,           1,           1,           1,           1,\n",
              "                  1,           1,           1,           1,           1,           1,           1,           1,           1,           1,           1,           1,           1,           1,           1,           1,           1,           1,           1,           1,           1,           1,           1,\n",
              "                  1,           1,           1,           1,           1,           1,           1,           1,           1,           1,           1,           1,           1,           1,           1,           1,           1,           1,           1,           1,           1,           1,           1,\n",
              "                  1,           1,           1,           1,           1,           1,           1,           1,           1,           1,           1,           1,           1,           1,           1,           1,           1,           1,           1,           1,           1,           1,           1,\n",
              "                  1,           1,           1,           1,           1,           1,           1,           1,           1,           1,           1,           1,           1,           1,           1,           1,           1,           1,           1,           1,           1,           1,           1,\n",
              "                  1,           1,           1,           1,           1,           1,           1,           1,           1,           1,           1,           1,           1,           1,           1,           1,           1,           1,           1,           1,           1,           1,           1,\n",
              "                  1,           1,           1,           1,           1,           1,           1,           1,           1,           1,           1,           1,           1,           1,           1,           1,           1,           1,           1,           1,           1,           1,           1,\n",
              "                  1,           1,           1,           1,           1,           1,           1,           1,           1,           1,           1,           1,           1,           1,           1,           1,           1,           1,           1,           1,           1,           1,           1,\n",
              "                  1,           1,           1,           1,           1,           1,           1,           1,           1,           1,           1,           1,           1,           1,           1,           1,           1,           1,           1,           1,           1,           1,           1,\n",
              "                  1,           1,           1,           1,           1,           1,           1,           1,           1,           1,           1,           1,           1,           1,           1,           1,           1,           1,           1,           1,           1,           1,           1,\n",
              "                  1,           1,           1,           1,           1,           1,           1,           1,           1,           1,           1,           1,           1,           1,           1,           1,           1,           1,           1,           1,           1,           1,           1,\n",
              "                  1,           1,           1,           1,           1,           1,           1,           1,           1,           1,           1,           1,           1,           1,           1,           1,           1,           1,           1,           1,           1,           1,           1,\n",
              "                  1,           1,           1,           1,           1,           1,           1,           1,           1,           1,           1,           1,           1,           1,           1,           1,           1,           1,           1,           1,           1,           1,           1,\n",
              "                  1,           1,           1,           1,           1,           1,           1,           1,           1,           1,           1,           1,           1,           1,           1,           1,           1,           1,           1,           1,           1,           1,           1,\n",
              "                  1,           1,           1,           1,           1,           1,           1,           1,           1,           1,           1,           1,           1,           1,           1,           1,           1,           1,           1,           1,           1,           1,           1,\n",
              "                  1,           1,           1,           1,           1,           1,           1,           1,           1,           1,           1,           1,           1,           1,           1,           1,           1,           1,           1,           1,           1,           1,           1,\n",
              "                  1,           1,           1,           1,           1,           1,           1,           1,           1,           1,           1,           1,           1,           1,           1,           1,           1,           1,           1,           1,           1,           1,           1,\n",
              "                  1,           1,           1,           1,           1,           1,           1,           1,           1,           1,           1,           1,           1,           1,           1,           1,           1,           1,           1,           1,           1,           1,           1,\n",
              "                  1,           1,           1,           1,           1,           1,           1,           1,           1,           1,           1,           1,           1,           1,           1,           1,           1,           1,           1,           1,           1,           1,           1,\n",
              "                  1,           1,           1,           1,           1,           1,           1,           1,           1,           1,           1,           1,           1,           1,           1,           1,           1,           1,           1,           1,           1,           1,           1,\n",
              "                  1,           1,           1,           1,           1,           1,           1,           1,           1,           1,           1,           1,           1,           1,           1,           1,           1,           1,           1,           1,           1,           1,           1,\n",
              "                  1,           1,           1,           1,           1,           1,           1,           1,           1,           1,           1,           1,           1,           1,           1,           1,           1,           1,           1,           1,           1,           1,           1,\n",
              "                  1,           1,           1,           1,           1,           1,           1,           1,           1,           1,           1,           1,           1,           1,           1,           1,           1,           1,           1,           1,           1,           1,           1,\n",
              "                  1,           1,           1,           1,           1,           1,           1,           1,           1,           1,           1,           1,           1,           1,           1,           1,           1,           1,           1,           1,           1,           1,           1,\n",
              "                  1,           1,           1,           1,           1,           1,           1,           1,           1,           1,           1,           1,           1,           1,           1,           1,     0.96721,     0.96721,     0.96721,     0.96721,     0.96721,     0.96721,     0.96721,\n",
              "            0.96721,     0.96721,     0.96721,     0.96721,     0.96721,     0.96721,     0.96721,     0.96721,     0.96721,     0.96721,     0.96721,     0.96721,     0.96721,     0.96721,     0.96721,     0.96721,     0.96721,     0.96721,     0.96721,     0.96721,     0.96721,     0.96721,     0.96721,\n",
              "            0.96721,     0.96721,     0.96721,     0.96721,     0.96721,     0.96721,     0.96721,     0.96721,     0.96721,     0.96721,     0.96721,     0.96721,     0.96721,     0.96721,     0.96721,     0.96721,     0.96721,     0.96721,     0.96721,     0.96721,     0.96721,     0.96721,     0.96721,\n",
              "            0.96721,     0.96721,     0.96721,     0.96721,     0.96721,     0.96721,     0.96721,     0.96721,     0.96721,     0.96721,     0.96721,     0.96721,     0.96721,     0.96721,     0.96721,     0.96721,     0.96721,     0.96721,     0.96721,     0.96721,     0.96721,     0.96721,     0.96721,\n",
              "            0.96721,     0.96721,     0.96721,     0.96721,      0.9375,      0.9375,      0.9375,      0.9375,      0.9375,      0.9375,      0.9375,      0.9375,      0.9375,      0.9375,      0.9375,      0.9375,      0.9375,      0.9375,     0.92647,     0.92647,     0.92647,     0.92647,     0.92647,\n",
              "            0.92647,     0.92647,     0.92647,     0.92647,     0.92647,     0.92647,     0.92647,     0.92647,     0.92647,     0.92647,     0.92647,     0.92647,     0.92647,     0.92647,     0.92647,     0.92647,     0.92647,     0.92647,     0.92647,     0.92647,     0.92647,     0.92647,     0.92647,\n",
              "            0.92647,     0.92647,     0.92647,     0.92647,     0.92647,     0.92647,     0.92647,     0.92647,     0.92647,     0.92647,     0.92647,     0.92647,     0.90141,     0.90141,     0.90141,     0.90141,     0.90141,     0.90141,     0.90141,     0.90141,     0.90141,     0.90141,     0.90141,\n",
              "            0.90141,     0.90141,     0.82278,     0.82278,     0.82278,     0.82278,     0.82278,     0.82278,     0.82278,     0.82278,     0.82278,     0.82278,     0.82278,     0.82278,     0.82278,     0.73333,     0.73333,     0.73333,     0.73333,     0.73333,     0.73333,     0.73333,     0.73333,\n",
              "            0.73333,     0.73333,     0.73333,     0.73333,     0.73333,     0.73333,     0.63208,     0.63208,     0.63208,     0.63208,     0.63208,     0.63208,     0.63208,     0.63208,     0.63208,     0.63208,     0.63208,     0.63208,     0.63208,     0.60345,     0.60345,     0.60345,     0.60345,\n",
              "            0.60345,     0.60345,     0.60345,     0.60345,     0.60345,     0.60345,     0.60345,     0.60345,     0.60345,     0.60345,     0.60345,     0.60345,     0.60345,     0.60345,     0.60345,     0.60345,     0.60345,     0.60345,     0.60345,     0.60345,     0.60345,     0.60345,     0.60345,\n",
              "            0.60345,     0.60345,     0.60345,     0.60345,     0.60345,     0.60345,     0.60345,     0.60345,     0.60345,     0.60345,     0.60345,     0.60345,     0.60345,     0.55039,     0.55039,     0.55039,     0.55039,     0.55039,     0.55039,     0.55039,     0.55039,     0.55039,     0.55039,\n",
              "            0.55039,     0.55039,     0.55039,      0.4557,      0.4557,      0.4557,      0.4557,      0.4557,      0.4557,      0.4557,      0.4557,      0.4557,      0.4557,      0.4557,      0.4557,      0.4557,      0.4557,     0.34446,     0.33563,      0.3268,     0.31797,     0.30913,      0.3003,\n",
              "            0.29147,     0.28264,      0.2738,     0.26497,     0.25614,     0.24731,     0.23847,     0.22964,     0.22081,     0.21198,     0.20314,     0.19431,     0.18548,     0.17665,     0.16781,     0.15898,     0.15015,     0.14132,     0.13249,     0.12365,     0.11482,     0.10599,    0.097156,\n",
              "           0.088324,    0.079491,    0.070659,    0.061827,    0.052994,    0.044162,    0.035329,    0.026497,    0.017665,   0.0088324,           0]]), 'Recall', 'Precision'], [array([          0,    0.001001,    0.002002,    0.003003,    0.004004,    0.005005,    0.006006,    0.007007,    0.008008,    0.009009,     0.01001,    0.011011,    0.012012,    0.013013,    0.014014,    0.015015,    0.016016,    0.017017,    0.018018,    0.019019,     0.02002,    0.021021,    0.022022,    0.023023,\n",
              "          0.024024,    0.025025,    0.026026,    0.027027,    0.028028,    0.029029,     0.03003,    0.031031,    0.032032,    0.033033,    0.034034,    0.035035,    0.036036,    0.037037,    0.038038,    0.039039,     0.04004,    0.041041,    0.042042,    0.043043,    0.044044,    0.045045,    0.046046,    0.047047,\n",
              "          0.048048,    0.049049,     0.05005,    0.051051,    0.052052,    0.053053,    0.054054,    0.055055,    0.056056,    0.057057,    0.058058,    0.059059,     0.06006,    0.061061,    0.062062,    0.063063,    0.064064,    0.065065,    0.066066,    0.067067,    0.068068,    0.069069,     0.07007,    0.071071,\n",
              "          0.072072,    0.073073,    0.074074,    0.075075,    0.076076,    0.077077,    0.078078,    0.079079,     0.08008,    0.081081,    0.082082,    0.083083,    0.084084,    0.085085,    0.086086,    0.087087,    0.088088,    0.089089,     0.09009,    0.091091,    0.092092,    0.093093,    0.094094,    0.095095,\n",
              "          0.096096,    0.097097,    0.098098,    0.099099,      0.1001,      0.1011,      0.1021,      0.1031,      0.1041,     0.10511,     0.10611,     0.10711,     0.10811,     0.10911,     0.11011,     0.11111,     0.11211,     0.11311,     0.11411,     0.11512,     0.11612,     0.11712,     0.11812,     0.11912,\n",
              "           0.12012,     0.12112,     0.12212,     0.12312,     0.12412,     0.12513,     0.12613,     0.12713,     0.12813,     0.12913,     0.13013,     0.13113,     0.13213,     0.13313,     0.13413,     0.13514,     0.13614,     0.13714,     0.13814,     0.13914,     0.14014,     0.14114,     0.14214,     0.14314,\n",
              "           0.14414,     0.14515,     0.14615,     0.14715,     0.14815,     0.14915,     0.15015,     0.15115,     0.15215,     0.15315,     0.15415,     0.15516,     0.15616,     0.15716,     0.15816,     0.15916,     0.16016,     0.16116,     0.16216,     0.16316,     0.16416,     0.16517,     0.16617,     0.16717,\n",
              "           0.16817,     0.16917,     0.17017,     0.17117,     0.17217,     0.17317,     0.17417,     0.17518,     0.17618,     0.17718,     0.17818,     0.17918,     0.18018,     0.18118,     0.18218,     0.18318,     0.18418,     0.18519,     0.18619,     0.18719,     0.18819,     0.18919,     0.19019,     0.19119,\n",
              "           0.19219,     0.19319,     0.19419,      0.1952,      0.1962,      0.1972,      0.1982,      0.1992,      0.2002,      0.2012,      0.2022,      0.2032,      0.2042,     0.20521,     0.20621,     0.20721,     0.20821,     0.20921,     0.21021,     0.21121,     0.21221,     0.21321,     0.21421,     0.21522,\n",
              "           0.21622,     0.21722,     0.21822,     0.21922,     0.22022,     0.22122,     0.22222,     0.22322,     0.22422,     0.22523,     0.22623,     0.22723,     0.22823,     0.22923,     0.23023,     0.23123,     0.23223,     0.23323,     0.23423,     0.23524,     0.23624,     0.23724,     0.23824,     0.23924,\n",
              "           0.24024,     0.24124,     0.24224,     0.24324,     0.24424,     0.24525,     0.24625,     0.24725,     0.24825,     0.24925,     0.25025,     0.25125,     0.25225,     0.25325,     0.25425,     0.25526,     0.25626,     0.25726,     0.25826,     0.25926,     0.26026,     0.26126,     0.26226,     0.26326,\n",
              "           0.26426,     0.26527,     0.26627,     0.26727,     0.26827,     0.26927,     0.27027,     0.27127,     0.27227,     0.27327,     0.27427,     0.27528,     0.27628,     0.27728,     0.27828,     0.27928,     0.28028,     0.28128,     0.28228,     0.28328,     0.28428,     0.28529,     0.28629,     0.28729,\n",
              "           0.28829,     0.28929,     0.29029,     0.29129,     0.29229,     0.29329,     0.29429,      0.2953,      0.2963,      0.2973,      0.2983,      0.2993,      0.3003,      0.3013,      0.3023,      0.3033,      0.3043,     0.30531,     0.30631,     0.30731,     0.30831,     0.30931,     0.31031,     0.31131,\n",
              "           0.31231,     0.31331,     0.31431,     0.31532,     0.31632,     0.31732,     0.31832,     0.31932,     0.32032,     0.32132,     0.32232,     0.32332,     0.32432,     0.32533,     0.32633,     0.32733,     0.32833,     0.32933,     0.33033,     0.33133,     0.33233,     0.33333,     0.33433,     0.33534,\n",
              "           0.33634,     0.33734,     0.33834,     0.33934,     0.34034,     0.34134,     0.34234,     0.34334,     0.34434,     0.34535,     0.34635,     0.34735,     0.34835,     0.34935,     0.35035,     0.35135,     0.35235,     0.35335,     0.35435,     0.35536,     0.35636,     0.35736,     0.35836,     0.35936,\n",
              "           0.36036,     0.36136,     0.36236,     0.36336,     0.36436,     0.36537,     0.36637,     0.36737,     0.36837,     0.36937,     0.37037,     0.37137,     0.37237,     0.37337,     0.37437,     0.37538,     0.37638,     0.37738,     0.37838,     0.37938,     0.38038,     0.38138,     0.38238,     0.38338,\n",
              "           0.38438,     0.38539,     0.38639,     0.38739,     0.38839,     0.38939,     0.39039,     0.39139,     0.39239,     0.39339,     0.39439,      0.3954,      0.3964,      0.3974,      0.3984,      0.3994,      0.4004,      0.4014,      0.4024,      0.4034,      0.4044,     0.40541,     0.40641,     0.40741,\n",
              "           0.40841,     0.40941,     0.41041,     0.41141,     0.41241,     0.41341,     0.41441,     0.41542,     0.41642,     0.41742,     0.41842,     0.41942,     0.42042,     0.42142,     0.42242,     0.42342,     0.42442,     0.42543,     0.42643,     0.42743,     0.42843,     0.42943,     0.43043,     0.43143,\n",
              "           0.43243,     0.43343,     0.43443,     0.43544,     0.43644,     0.43744,     0.43844,     0.43944,     0.44044,     0.44144,     0.44244,     0.44344,     0.44444,     0.44545,     0.44645,     0.44745,     0.44845,     0.44945,     0.45045,     0.45145,     0.45245,     0.45345,     0.45445,     0.45546,\n",
              "           0.45646,     0.45746,     0.45846,     0.45946,     0.46046,     0.46146,     0.46246,     0.46346,     0.46446,     0.46547,     0.46647,     0.46747,     0.46847,     0.46947,     0.47047,     0.47147,     0.47247,     0.47347,     0.47447,     0.47548,     0.47648,     0.47748,     0.47848,     0.47948,\n",
              "           0.48048,     0.48148,     0.48248,     0.48348,     0.48448,     0.48549,     0.48649,     0.48749,     0.48849,     0.48949,     0.49049,     0.49149,     0.49249,     0.49349,     0.49449,      0.4955,      0.4965,      0.4975,      0.4985,      0.4995,      0.5005,      0.5015,      0.5025,      0.5035,\n",
              "            0.5045,     0.50551,     0.50651,     0.50751,     0.50851,     0.50951,     0.51051,     0.51151,     0.51251,     0.51351,     0.51451,     0.51552,     0.51652,     0.51752,     0.51852,     0.51952,     0.52052,     0.52152,     0.52252,     0.52352,     0.52452,     0.52553,     0.52653,     0.52753,\n",
              "           0.52853,     0.52953,     0.53053,     0.53153,     0.53253,     0.53353,     0.53453,     0.53554,     0.53654,     0.53754,     0.53854,     0.53954,     0.54054,     0.54154,     0.54254,     0.54354,     0.54454,     0.54555,     0.54655,     0.54755,     0.54855,     0.54955,     0.55055,     0.55155,\n",
              "           0.55255,     0.55355,     0.55455,     0.55556,     0.55656,     0.55756,     0.55856,     0.55956,     0.56056,     0.56156,     0.56256,     0.56356,     0.56456,     0.56557,     0.56657,     0.56757,     0.56857,     0.56957,     0.57057,     0.57157,     0.57257,     0.57357,     0.57457,     0.57558,\n",
              "           0.57658,     0.57758,     0.57858,     0.57958,     0.58058,     0.58158,     0.58258,     0.58358,     0.58458,     0.58559,     0.58659,     0.58759,     0.58859,     0.58959,     0.59059,     0.59159,     0.59259,     0.59359,     0.59459,      0.5956,      0.5966,      0.5976,      0.5986,      0.5996,\n",
              "            0.6006,      0.6016,      0.6026,      0.6036,      0.6046,     0.60561,     0.60661,     0.60761,     0.60861,     0.60961,     0.61061,     0.61161,     0.61261,     0.61361,     0.61461,     0.61562,     0.61662,     0.61762,     0.61862,     0.61962,     0.62062,     0.62162,     0.62262,     0.62362,\n",
              "           0.62462,     0.62563,     0.62663,     0.62763,     0.62863,     0.62963,     0.63063,     0.63163,     0.63263,     0.63363,     0.63463,     0.63564,     0.63664,     0.63764,     0.63864,     0.63964,     0.64064,     0.64164,     0.64264,     0.64364,     0.64464,     0.64565,     0.64665,     0.64765,\n",
              "           0.64865,     0.64965,     0.65065,     0.65165,     0.65265,     0.65365,     0.65465,     0.65566,     0.65666,     0.65766,     0.65866,     0.65966,     0.66066,     0.66166,     0.66266,     0.66366,     0.66466,     0.66567,     0.66667,     0.66767,     0.66867,     0.66967,     0.67067,     0.67167,\n",
              "           0.67267,     0.67367,     0.67467,     0.67568,     0.67668,     0.67768,     0.67868,     0.67968,     0.68068,     0.68168,     0.68268,     0.68368,     0.68468,     0.68569,     0.68669,     0.68769,     0.68869,     0.68969,     0.69069,     0.69169,     0.69269,     0.69369,     0.69469,      0.6957,\n",
              "            0.6967,      0.6977,      0.6987,      0.6997,      0.7007,      0.7017,      0.7027,      0.7037,      0.7047,     0.70571,     0.70671,     0.70771,     0.70871,     0.70971,     0.71071,     0.71171,     0.71271,     0.71371,     0.71471,     0.71572,     0.71672,     0.71772,     0.71872,     0.71972,\n",
              "           0.72072,     0.72172,     0.72272,     0.72372,     0.72472,     0.72573,     0.72673,     0.72773,     0.72873,     0.72973,     0.73073,     0.73173,     0.73273,     0.73373,     0.73473,     0.73574,     0.73674,     0.73774,     0.73874,     0.73974,     0.74074,     0.74174,     0.74274,     0.74374,\n",
              "           0.74474,     0.74575,     0.74675,     0.74775,     0.74875,     0.74975,     0.75075,     0.75175,     0.75275,     0.75375,     0.75475,     0.75576,     0.75676,     0.75776,     0.75876,     0.75976,     0.76076,     0.76176,     0.76276,     0.76376,     0.76476,     0.76577,     0.76677,     0.76777,\n",
              "           0.76877,     0.76977,     0.77077,     0.77177,     0.77277,     0.77377,     0.77477,     0.77578,     0.77678,     0.77778,     0.77878,     0.77978,     0.78078,     0.78178,     0.78278,     0.78378,     0.78478,     0.78579,     0.78679,     0.78779,     0.78879,     0.78979,     0.79079,     0.79179,\n",
              "           0.79279,     0.79379,     0.79479,      0.7958,      0.7968,      0.7978,      0.7988,      0.7998,      0.8008,      0.8018,      0.8028,      0.8038,      0.8048,     0.80581,     0.80681,     0.80781,     0.80881,     0.80981,     0.81081,     0.81181,     0.81281,     0.81381,     0.81481,     0.81582,\n",
              "           0.81682,     0.81782,     0.81882,     0.81982,     0.82082,     0.82182,     0.82282,     0.82382,     0.82482,     0.82583,     0.82683,     0.82783,     0.82883,     0.82983,     0.83083,     0.83183,     0.83283,     0.83383,     0.83483,     0.83584,     0.83684,     0.83784,     0.83884,     0.83984,\n",
              "           0.84084,     0.84184,     0.84284,     0.84384,     0.84484,     0.84585,     0.84685,     0.84785,     0.84885,     0.84985,     0.85085,     0.85185,     0.85285,     0.85385,     0.85485,     0.85586,     0.85686,     0.85786,     0.85886,     0.85986,     0.86086,     0.86186,     0.86286,     0.86386,\n",
              "           0.86486,     0.86587,     0.86687,     0.86787,     0.86887,     0.86987,     0.87087,     0.87187,     0.87287,     0.87387,     0.87487,     0.87588,     0.87688,     0.87788,     0.87888,     0.87988,     0.88088,     0.88188,     0.88288,     0.88388,     0.88488,     0.88589,     0.88689,     0.88789,\n",
              "           0.88889,     0.88989,     0.89089,     0.89189,     0.89289,     0.89389,     0.89489,      0.8959,      0.8969,      0.8979,      0.8989,      0.8999,      0.9009,      0.9019,      0.9029,      0.9039,      0.9049,     0.90591,     0.90691,     0.90791,     0.90891,     0.90991,     0.91091,     0.91191,\n",
              "           0.91291,     0.91391,     0.91491,     0.91592,     0.91692,     0.91792,     0.91892,     0.91992,     0.92092,     0.92192,     0.92292,     0.92392,     0.92492,     0.92593,     0.92693,     0.92793,     0.92893,     0.92993,     0.93093,     0.93193,     0.93293,     0.93393,     0.93493,     0.93594,\n",
              "           0.93694,     0.93794,     0.93894,     0.93994,     0.94094,     0.94194,     0.94294,     0.94394,     0.94494,     0.94595,     0.94695,     0.94795,     0.94895,     0.94995,     0.95095,     0.95195,     0.95295,     0.95395,     0.95495,     0.95596,     0.95696,     0.95796,     0.95896,     0.95996,\n",
              "           0.96096,     0.96196,     0.96296,     0.96396,     0.96496,     0.96597,     0.96697,     0.96797,     0.96897,     0.96997,     0.97097,     0.97197,     0.97297,     0.97397,     0.97497,     0.97598,     0.97698,     0.97798,     0.97898,     0.97998,     0.98098,     0.98198,     0.98298,     0.98398,\n",
              "           0.98498,     0.98599,     0.98699,     0.98799,     0.98899,     0.98999,     0.99099,     0.99199,     0.99299,     0.99399,     0.99499,       0.996,       0.997,       0.998,       0.999,           1]), array([[    0.51613,     0.51613,     0.61935,     0.66044,      0.6955,     0.70282,      0.7096,     0.73067,     0.72842,     0.73466,     0.73354,     0.73491,     0.73627,     0.74345,     0.75056,     0.75309,      0.7565,     0.76191,     0.76797,     0.76972,     0.77145,      0.7749,     0.77756,\n",
              "            0.77934,     0.78128,     0.78582,     0.78602,     0.78622,     0.78642,     0.78662,     0.78681,     0.78701,     0.78721,     0.78741,     0.78761,      0.7878,       0.788,      0.7882,      0.7884,     0.78859,     0.78879,     0.78899,     0.78919,     0.78938,     0.78958,     0.78978,\n",
              "            0.78997,     0.79017,     0.79037,     0.79867,     0.79509,     0.79294,     0.79371,     0.79448,     0.79524,     0.79601,     0.79677,     0.79754,      0.8004,     0.80287,     0.80428,     0.80569,      0.8071,     0.81071,     0.81766,     0.81814,     0.81862,      0.8191,     0.81958,\n",
              "            0.82006,     0.82054,     0.82102,      0.8215,     0.82198,     0.82245,     0.82426,     0.82829,     0.82956,     0.83082,     0.83208,     0.83334,     0.83602,     0.83868,     0.84035,     0.84201,     0.84366,     0.84373,     0.84312,     0.84251,      0.8419,     0.84128,     0.84067,\n",
              "            0.84006,     0.83944,     0.83883,     0.83821,      0.8376,     0.83698,     0.83668,      0.8369,     0.83712,     0.83734,     0.83756,     0.83778,       0.838,     0.83822,     0.83844,     0.83866,     0.83888,      0.8391,     0.83932,     0.83953,     0.83975,     0.83997,     0.84019,\n",
              "            0.84041,     0.84063,     0.84084,     0.84106,     0.84128,      0.8415,     0.84171,     0.84193,     0.84243,     0.84407,      0.8457,     0.84733,     0.85335,     0.85341,     0.85346,     0.85352,     0.85357,     0.85363,     0.85368,     0.85374,      0.8538,     0.85385,     0.85391,\n",
              "            0.85396,     0.85402,     0.85407,     0.85413,     0.85419,     0.85424,      0.8543,     0.85435,     0.85441,     0.85446,     0.85452,     0.85458,     0.85463,     0.85469,     0.85474,      0.8548,     0.85485,     0.85491,     0.85497,     0.85502,     0.85508,     0.85513,     0.85519,\n",
              "            0.85524,      0.8553,     0.85535,     0.85541,     0.85547,     0.85552,     0.85558,     0.85563,     0.85569,     0.85574,      0.8558,     0.85585,     0.85591,     0.85597,     0.85602,     0.85608,     0.85613,     0.85619,     0.85624,      0.8563,     0.85635,     0.85641,     0.85646,\n",
              "            0.85652,     0.85658,     0.85663,     0.85669,     0.85674,      0.8568,     0.85685,     0.85691,     0.85696,     0.85702,     0.85707,     0.85713,     0.85718,     0.85724,     0.85729,     0.85735,     0.85741,     0.85746,     0.85752,     0.85757,     0.85763,     0.85768,     0.85774,\n",
              "            0.85779,     0.85785,      0.8579,     0.85796,     0.85801,     0.85807,     0.85812,     0.85818,     0.85823,     0.85829,     0.85834,      0.8584,     0.85845,     0.85851,     0.85856,     0.85862,     0.85868,     0.85873,     0.85879,     0.85884,      0.8589,     0.85895,     0.85901,\n",
              "            0.85907,     0.86115,     0.86322,     0.86496,     0.86542,     0.86588,     0.86634,      0.8668,     0.86726,     0.86772,     0.86818,     0.86864,      0.8691,     0.86956,     0.87002,     0.87047,     0.87081,     0.87097,     0.87113,     0.87129,     0.87145,      0.8716,     0.87176,\n",
              "            0.87192,     0.87208,     0.87224,      0.8724,     0.87256,     0.87271,     0.87287,     0.87303,     0.87319,     0.87335,      0.8735,     0.87366,     0.87382,     0.87398,     0.87413,     0.87429,     0.87445,     0.87461,     0.87476,     0.87492,     0.87508,     0.87524,     0.87539,\n",
              "            0.87555,     0.87571,     0.87586,     0.87602,     0.87618,     0.87634,     0.87649,     0.87665,     0.87655,     0.87627,     0.87599,     0.87572,     0.87544,     0.87516,     0.87488,     0.87461,     0.87433,     0.87405,     0.87377,     0.87349,     0.87321,     0.87294,     0.87266,\n",
              "            0.87238,      0.8721,     0.87182,     0.87154,     0.87126,     0.87098,      0.8707,     0.87042,     0.87014,     0.86986,     0.86959,     0.86931,     0.86902,     0.86916,      0.8694,     0.86965,     0.86989,     0.87013,     0.87038,     0.87062,     0.87086,     0.87111,     0.87135,\n",
              "            0.87159,     0.87184,     0.87208,     0.87232,     0.87256,     0.87281,     0.87305,     0.87329,     0.87353,     0.87377,     0.87401,     0.87426,      0.8745,     0.87474,     0.87498,     0.87505,     0.87511,     0.87516,     0.87522,     0.87527,     0.87533,     0.87538,     0.87544,\n",
              "            0.87549,     0.87555,     0.87561,     0.87566,     0.87572,     0.87577,     0.87583,     0.87588,     0.87594,     0.87599,     0.87605,      0.8761,     0.87616,     0.87622,     0.87627,     0.87633,     0.87638,     0.87644,     0.87649,     0.87655,      0.8766,     0.87666,     0.87671,\n",
              "            0.87677,     0.87682,     0.87688,     0.87694,     0.87699,     0.87705,      0.8771,     0.87716,     0.87721,     0.87727,     0.87732,     0.87738,     0.87743,     0.87749,     0.87754,      0.8776,     0.87765,     0.87771,     0.87776,     0.87782,     0.87787,     0.87793,     0.87798,\n",
              "            0.87804,     0.87809,     0.87815,      0.8782,     0.87826,     0.87831,     0.87837,     0.87843,     0.87848,     0.87854,     0.87859,     0.87865,      0.8787,     0.87876,     0.87881,     0.87887,     0.87892,     0.87898,     0.87903,     0.87909,     0.87914,      0.8792,     0.87925,\n",
              "            0.87931,     0.87936,     0.87942,     0.87947,     0.87953,     0.87958,     0.87964,     0.87969,     0.87975,      0.8798,     0.87985,     0.87991,     0.87996,     0.88002,     0.88007,     0.88013,     0.88018,     0.88024,     0.88029,     0.88035,      0.8804,     0.88046,     0.88051,\n",
              "            0.88057,     0.88062,     0.88068,     0.88073,     0.88079,     0.88084,      0.8809,     0.88095,     0.88101,     0.88106,     0.88112,     0.87961,       0.878,     0.87638,     0.87477,     0.87321,     0.87272,     0.87224,     0.87175,     0.87126,     0.87078,     0.87029,      0.8698,\n",
              "            0.86931,     0.86882,     0.86833,     0.86784,     0.86735,     0.86686,     0.86637,     0.86588,     0.86539,     0.86507,     0.86483,     0.86459,     0.86434,      0.8641,     0.86386,     0.86361,     0.86337,     0.86313,     0.86288,     0.86264,      0.8624,     0.86215,     0.86191,\n",
              "            0.86166,     0.86142,     0.86118,     0.86093,     0.86069,     0.86044,      0.8602,     0.85995,     0.85971,     0.85946,     0.85922,     0.85897,     0.85873,     0.85848,     0.85824,     0.85799,     0.85775,      0.8575,     0.85725,     0.85764,     0.85855,     0.85946,     0.86036,\n",
              "            0.86126,     0.86216,     0.86306,     0.86314,     0.86291,     0.86268,     0.86244,     0.86221,     0.86198,     0.86174,     0.86151,     0.86127,     0.86104,     0.86081,     0.86057,     0.86034,      0.8601,     0.85987,     0.85964,      0.8594,     0.85917,     0.85893,      0.8587,\n",
              "            0.85846,     0.85823,     0.85799,     0.85776,     0.85752,     0.85729,     0.85705,     0.85682,     0.85658,     0.85635,     0.85611,     0.85587,     0.85564,      0.8554,     0.85517,     0.85517,     0.85533,     0.85549,     0.85565,     0.85581,     0.85597,     0.85614,      0.8563,\n",
              "            0.85646,     0.85662,     0.85678,     0.85694,      0.8571,     0.85726,     0.85742,     0.85758,     0.85774,      0.8579,     0.85806,     0.85822,     0.85838,     0.85854,      0.8587,     0.85886,     0.85902,     0.85918,     0.85934,      0.8595,     0.85966,     0.85982,     0.85998,\n",
              "            0.86013,     0.86029,     0.86045,     0.86061,     0.86077,     0.86093,     0.86109,     0.86125,     0.86257,     0.86474,     0.86689,     0.86753,     0.86735,     0.86717,     0.86699,     0.86681,     0.86663,     0.86645,     0.86627,     0.86609,     0.86591,     0.86573,     0.86555,\n",
              "            0.86537,     0.86519,     0.86501,     0.86483,     0.86465,     0.86447,     0.86429,      0.8641,     0.86392,     0.86374,     0.86356,     0.86338,      0.8632,     0.86302,     0.86284,     0.86266,     0.86248,     0.86229,     0.86211,     0.86193,     0.86175,     0.86157,     0.86139,\n",
              "             0.8612,     0.86102,     0.86084,     0.86066,     0.86048,      0.8603,     0.86011,     0.85993,     0.85975,     0.85957,     0.85939,     0.85792,     0.85357,     0.85064,     0.85033,     0.85003,     0.84973,     0.84942,     0.84912,     0.84882,     0.84851,     0.84821,      0.8479,\n",
              "             0.8476,     0.84729,     0.84699,     0.84668,     0.84638,     0.84607,     0.84577,     0.84546,     0.84515,     0.84485,     0.84454,     0.84423,     0.84393,     0.84362,     0.84331,     0.84301,      0.8427,     0.84239,     0.84191,     0.83893,     0.83593,     0.83298,     0.83038,\n",
              "            0.82777,     0.82515,     0.82309,     0.82125,     0.81939,     0.81754,     0.81567,     0.81814,     0.82137,     0.82197,     0.82227,     0.82256,     0.82285,     0.82315,     0.82344,     0.82374,     0.82403,     0.82432,     0.82462,     0.82491,      0.8252,     0.82549,     0.82579,\n",
              "            0.82608,     0.82637,     0.82666,     0.82695,     0.82724,     0.82753,     0.82782,     0.82811,     0.82517,     0.82201,     0.81888,     0.81776,     0.81663,      0.8155,     0.81438,     0.81324,     0.81211,     0.81098,     0.80984,     0.80844,     0.80695,     0.80545,     0.80395,\n",
              "            0.80244,     0.80093,     0.79953,      0.7983,     0.79706,     0.79582,     0.79458,     0.79334,      0.7921,     0.79085,     0.78867,      0.7858,     0.78291,     0.77993,     0.77653,     0.77311,     0.76995,     0.76764,     0.76533,     0.76302,     0.76069,     0.74819,     0.74604,\n",
              "            0.74389,     0.74173,     0.73956,     0.72164,     0.71605,     0.71229,      0.7085,     0.69115,     0.65977,     0.65153,     0.62103,     0.61669,     0.61232,     0.58325,     0.58096,     0.57866,     0.57636,     0.57405,     0.57173,     0.55604,     0.55414,     0.55223,     0.55032,\n",
              "             0.5484,     0.54648,     0.54455,     0.53831,     0.52907,     0.52537,     0.52164,      0.5179,      0.5139,     0.50885,     0.50377,      0.4973,     0.48694,     0.47982,     0.47347,     0.46746,     0.46209,     0.45669,     0.45183,     0.44773,      0.4436,     0.43945,     0.43157,\n",
              "            0.42059,     0.41374,     0.40683,      0.4006,     0.39475,     0.38886,     0.38397,      0.3795,       0.375,     0.37047,     0.36811,     0.36629,     0.36446,     0.36263,      0.3608,     0.35896,     0.35712,     0.35527,     0.35342,     0.35132,     0.34386,     0.33633,      0.3318,\n",
              "            0.32926,     0.32671,     0.32416,      0.3216,     0.31903,     0.31645,     0.31087,     0.29777,     0.29272,     0.28939,     0.28606,      0.2827,     0.27934,     0.27596,     0.25591,     0.25285,     0.24987,     0.24687,     0.24387,     0.24085,     0.23782,     0.19171,      0.1853,\n",
              "            0.17885,     0.17235,      0.1431,     0.13634,     0.12954,     0.12353,     0.11914,     0.11473,     0.11031,     0.10586,     0.10139,    0.099182,    0.097033,    0.094878,    0.092719,    0.090555,    0.088386,    0.086212,    0.084033,     0.08185,    0.079661,    0.077467,    0.067368,\n",
              "           0.054521,    0.051178,    0.050216,    0.049254,     0.04829,    0.047326,     0.04636,    0.045394,    0.044426,    0.043458,    0.042489,    0.041518,    0.040547,    0.039575,    0.038602,    0.037627,    0.036652,    0.035676,    0.034699,    0.033721,    0.032742,    0.031762,    0.030781,\n",
              "           0.029799,    0.028816,    0.027832,    0.026848,           0,           0,           0,           0,           0,           0,           0,           0,           0,           0,           0,           0,           0,           0,           0,           0,           0,           0,           0,\n",
              "                  0,           0,           0,           0,           0,           0,           0,           0,           0,           0,           0,           0,           0,           0,           0,           0,           0,           0,           0,           0,           0,           0,           0,\n",
              "                  0,           0,           0,           0,           0,           0,           0,           0,           0,           0,           0,           0,           0,           0,           0,           0,           0,           0,           0,           0,           0,           0,           0,\n",
              "                  0,           0,           0,           0,           0,           0,           0,           0,           0,           0,           0,           0,           0,           0,           0,           0,           0,           0,           0,           0,           0,           0,           0,\n",
              "                  0,           0,           0,           0,           0,           0,           0,           0,           0,           0,           0,           0,           0,           0,           0,           0,           0,           0,           0,           0,           0,           0,           0,\n",
              "                  0,           0,           0,           0,           0,           0,           0,           0,           0,           0,           0]]), 'Confidence', 'F1'], [array([          0,    0.001001,    0.002002,    0.003003,    0.004004,    0.005005,    0.006006,    0.007007,    0.008008,    0.009009,     0.01001,    0.011011,    0.012012,    0.013013,    0.014014,    0.015015,    0.016016,    0.017017,    0.018018,    0.019019,     0.02002,    0.021021,    0.022022,    0.023023,\n",
              "          0.024024,    0.025025,    0.026026,    0.027027,    0.028028,    0.029029,     0.03003,    0.031031,    0.032032,    0.033033,    0.034034,    0.035035,    0.036036,    0.037037,    0.038038,    0.039039,     0.04004,    0.041041,    0.042042,    0.043043,    0.044044,    0.045045,    0.046046,    0.047047,\n",
              "          0.048048,    0.049049,     0.05005,    0.051051,    0.052052,    0.053053,    0.054054,    0.055055,    0.056056,    0.057057,    0.058058,    0.059059,     0.06006,    0.061061,    0.062062,    0.063063,    0.064064,    0.065065,    0.066066,    0.067067,    0.068068,    0.069069,     0.07007,    0.071071,\n",
              "          0.072072,    0.073073,    0.074074,    0.075075,    0.076076,    0.077077,    0.078078,    0.079079,     0.08008,    0.081081,    0.082082,    0.083083,    0.084084,    0.085085,    0.086086,    0.087087,    0.088088,    0.089089,     0.09009,    0.091091,    0.092092,    0.093093,    0.094094,    0.095095,\n",
              "          0.096096,    0.097097,    0.098098,    0.099099,      0.1001,      0.1011,      0.1021,      0.1031,      0.1041,     0.10511,     0.10611,     0.10711,     0.10811,     0.10911,     0.11011,     0.11111,     0.11211,     0.11311,     0.11411,     0.11512,     0.11612,     0.11712,     0.11812,     0.11912,\n",
              "           0.12012,     0.12112,     0.12212,     0.12312,     0.12412,     0.12513,     0.12613,     0.12713,     0.12813,     0.12913,     0.13013,     0.13113,     0.13213,     0.13313,     0.13413,     0.13514,     0.13614,     0.13714,     0.13814,     0.13914,     0.14014,     0.14114,     0.14214,     0.14314,\n",
              "           0.14414,     0.14515,     0.14615,     0.14715,     0.14815,     0.14915,     0.15015,     0.15115,     0.15215,     0.15315,     0.15415,     0.15516,     0.15616,     0.15716,     0.15816,     0.15916,     0.16016,     0.16116,     0.16216,     0.16316,     0.16416,     0.16517,     0.16617,     0.16717,\n",
              "           0.16817,     0.16917,     0.17017,     0.17117,     0.17217,     0.17317,     0.17417,     0.17518,     0.17618,     0.17718,     0.17818,     0.17918,     0.18018,     0.18118,     0.18218,     0.18318,     0.18418,     0.18519,     0.18619,     0.18719,     0.18819,     0.18919,     0.19019,     0.19119,\n",
              "           0.19219,     0.19319,     0.19419,      0.1952,      0.1962,      0.1972,      0.1982,      0.1992,      0.2002,      0.2012,      0.2022,      0.2032,      0.2042,     0.20521,     0.20621,     0.20721,     0.20821,     0.20921,     0.21021,     0.21121,     0.21221,     0.21321,     0.21421,     0.21522,\n",
              "           0.21622,     0.21722,     0.21822,     0.21922,     0.22022,     0.22122,     0.22222,     0.22322,     0.22422,     0.22523,     0.22623,     0.22723,     0.22823,     0.22923,     0.23023,     0.23123,     0.23223,     0.23323,     0.23423,     0.23524,     0.23624,     0.23724,     0.23824,     0.23924,\n",
              "           0.24024,     0.24124,     0.24224,     0.24324,     0.24424,     0.24525,     0.24625,     0.24725,     0.24825,     0.24925,     0.25025,     0.25125,     0.25225,     0.25325,     0.25425,     0.25526,     0.25626,     0.25726,     0.25826,     0.25926,     0.26026,     0.26126,     0.26226,     0.26326,\n",
              "           0.26426,     0.26527,     0.26627,     0.26727,     0.26827,     0.26927,     0.27027,     0.27127,     0.27227,     0.27327,     0.27427,     0.27528,     0.27628,     0.27728,     0.27828,     0.27928,     0.28028,     0.28128,     0.28228,     0.28328,     0.28428,     0.28529,     0.28629,     0.28729,\n",
              "           0.28829,     0.28929,     0.29029,     0.29129,     0.29229,     0.29329,     0.29429,      0.2953,      0.2963,      0.2973,      0.2983,      0.2993,      0.3003,      0.3013,      0.3023,      0.3033,      0.3043,     0.30531,     0.30631,     0.30731,     0.30831,     0.30931,     0.31031,     0.31131,\n",
              "           0.31231,     0.31331,     0.31431,     0.31532,     0.31632,     0.31732,     0.31832,     0.31932,     0.32032,     0.32132,     0.32232,     0.32332,     0.32432,     0.32533,     0.32633,     0.32733,     0.32833,     0.32933,     0.33033,     0.33133,     0.33233,     0.33333,     0.33433,     0.33534,\n",
              "           0.33634,     0.33734,     0.33834,     0.33934,     0.34034,     0.34134,     0.34234,     0.34334,     0.34434,     0.34535,     0.34635,     0.34735,     0.34835,     0.34935,     0.35035,     0.35135,     0.35235,     0.35335,     0.35435,     0.35536,     0.35636,     0.35736,     0.35836,     0.35936,\n",
              "           0.36036,     0.36136,     0.36236,     0.36336,     0.36436,     0.36537,     0.36637,     0.36737,     0.36837,     0.36937,     0.37037,     0.37137,     0.37237,     0.37337,     0.37437,     0.37538,     0.37638,     0.37738,     0.37838,     0.37938,     0.38038,     0.38138,     0.38238,     0.38338,\n",
              "           0.38438,     0.38539,     0.38639,     0.38739,     0.38839,     0.38939,     0.39039,     0.39139,     0.39239,     0.39339,     0.39439,      0.3954,      0.3964,      0.3974,      0.3984,      0.3994,      0.4004,      0.4014,      0.4024,      0.4034,      0.4044,     0.40541,     0.40641,     0.40741,\n",
              "           0.40841,     0.40941,     0.41041,     0.41141,     0.41241,     0.41341,     0.41441,     0.41542,     0.41642,     0.41742,     0.41842,     0.41942,     0.42042,     0.42142,     0.42242,     0.42342,     0.42442,     0.42543,     0.42643,     0.42743,     0.42843,     0.42943,     0.43043,     0.43143,\n",
              "           0.43243,     0.43343,     0.43443,     0.43544,     0.43644,     0.43744,     0.43844,     0.43944,     0.44044,     0.44144,     0.44244,     0.44344,     0.44444,     0.44545,     0.44645,     0.44745,     0.44845,     0.44945,     0.45045,     0.45145,     0.45245,     0.45345,     0.45445,     0.45546,\n",
              "           0.45646,     0.45746,     0.45846,     0.45946,     0.46046,     0.46146,     0.46246,     0.46346,     0.46446,     0.46547,     0.46647,     0.46747,     0.46847,     0.46947,     0.47047,     0.47147,     0.47247,     0.47347,     0.47447,     0.47548,     0.47648,     0.47748,     0.47848,     0.47948,\n",
              "           0.48048,     0.48148,     0.48248,     0.48348,     0.48448,     0.48549,     0.48649,     0.48749,     0.48849,     0.48949,     0.49049,     0.49149,     0.49249,     0.49349,     0.49449,      0.4955,      0.4965,      0.4975,      0.4985,      0.4995,      0.5005,      0.5015,      0.5025,      0.5035,\n",
              "            0.5045,     0.50551,     0.50651,     0.50751,     0.50851,     0.50951,     0.51051,     0.51151,     0.51251,     0.51351,     0.51451,     0.51552,     0.51652,     0.51752,     0.51852,     0.51952,     0.52052,     0.52152,     0.52252,     0.52352,     0.52452,     0.52553,     0.52653,     0.52753,\n",
              "           0.52853,     0.52953,     0.53053,     0.53153,     0.53253,     0.53353,     0.53453,     0.53554,     0.53654,     0.53754,     0.53854,     0.53954,     0.54054,     0.54154,     0.54254,     0.54354,     0.54454,     0.54555,     0.54655,     0.54755,     0.54855,     0.54955,     0.55055,     0.55155,\n",
              "           0.55255,     0.55355,     0.55455,     0.55556,     0.55656,     0.55756,     0.55856,     0.55956,     0.56056,     0.56156,     0.56256,     0.56356,     0.56456,     0.56557,     0.56657,     0.56757,     0.56857,     0.56957,     0.57057,     0.57157,     0.57257,     0.57357,     0.57457,     0.57558,\n",
              "           0.57658,     0.57758,     0.57858,     0.57958,     0.58058,     0.58158,     0.58258,     0.58358,     0.58458,     0.58559,     0.58659,     0.58759,     0.58859,     0.58959,     0.59059,     0.59159,     0.59259,     0.59359,     0.59459,      0.5956,      0.5966,      0.5976,      0.5986,      0.5996,\n",
              "            0.6006,      0.6016,      0.6026,      0.6036,      0.6046,     0.60561,     0.60661,     0.60761,     0.60861,     0.60961,     0.61061,     0.61161,     0.61261,     0.61361,     0.61461,     0.61562,     0.61662,     0.61762,     0.61862,     0.61962,     0.62062,     0.62162,     0.62262,     0.62362,\n",
              "           0.62462,     0.62563,     0.62663,     0.62763,     0.62863,     0.62963,     0.63063,     0.63163,     0.63263,     0.63363,     0.63463,     0.63564,     0.63664,     0.63764,     0.63864,     0.63964,     0.64064,     0.64164,     0.64264,     0.64364,     0.64464,     0.64565,     0.64665,     0.64765,\n",
              "           0.64865,     0.64965,     0.65065,     0.65165,     0.65265,     0.65365,     0.65465,     0.65566,     0.65666,     0.65766,     0.65866,     0.65966,     0.66066,     0.66166,     0.66266,     0.66366,     0.66466,     0.66567,     0.66667,     0.66767,     0.66867,     0.66967,     0.67067,     0.67167,\n",
              "           0.67267,     0.67367,     0.67467,     0.67568,     0.67668,     0.67768,     0.67868,     0.67968,     0.68068,     0.68168,     0.68268,     0.68368,     0.68468,     0.68569,     0.68669,     0.68769,     0.68869,     0.68969,     0.69069,     0.69169,     0.69269,     0.69369,     0.69469,      0.6957,\n",
              "            0.6967,      0.6977,      0.6987,      0.6997,      0.7007,      0.7017,      0.7027,      0.7037,      0.7047,     0.70571,     0.70671,     0.70771,     0.70871,     0.70971,     0.71071,     0.71171,     0.71271,     0.71371,     0.71471,     0.71572,     0.71672,     0.71772,     0.71872,     0.71972,\n",
              "           0.72072,     0.72172,     0.72272,     0.72372,     0.72472,     0.72573,     0.72673,     0.72773,     0.72873,     0.72973,     0.73073,     0.73173,     0.73273,     0.73373,     0.73473,     0.73574,     0.73674,     0.73774,     0.73874,     0.73974,     0.74074,     0.74174,     0.74274,     0.74374,\n",
              "           0.74474,     0.74575,     0.74675,     0.74775,     0.74875,     0.74975,     0.75075,     0.75175,     0.75275,     0.75375,     0.75475,     0.75576,     0.75676,     0.75776,     0.75876,     0.75976,     0.76076,     0.76176,     0.76276,     0.76376,     0.76476,     0.76577,     0.76677,     0.76777,\n",
              "           0.76877,     0.76977,     0.77077,     0.77177,     0.77277,     0.77377,     0.77477,     0.77578,     0.77678,     0.77778,     0.77878,     0.77978,     0.78078,     0.78178,     0.78278,     0.78378,     0.78478,     0.78579,     0.78679,     0.78779,     0.78879,     0.78979,     0.79079,     0.79179,\n",
              "           0.79279,     0.79379,     0.79479,      0.7958,      0.7968,      0.7978,      0.7988,      0.7998,      0.8008,      0.8018,      0.8028,      0.8038,      0.8048,     0.80581,     0.80681,     0.80781,     0.80881,     0.80981,     0.81081,     0.81181,     0.81281,     0.81381,     0.81481,     0.81582,\n",
              "           0.81682,     0.81782,     0.81882,     0.81982,     0.82082,     0.82182,     0.82282,     0.82382,     0.82482,     0.82583,     0.82683,     0.82783,     0.82883,     0.82983,     0.83083,     0.83183,     0.83283,     0.83383,     0.83483,     0.83584,     0.83684,     0.83784,     0.83884,     0.83984,\n",
              "           0.84084,     0.84184,     0.84284,     0.84384,     0.84484,     0.84585,     0.84685,     0.84785,     0.84885,     0.84985,     0.85085,     0.85185,     0.85285,     0.85385,     0.85485,     0.85586,     0.85686,     0.85786,     0.85886,     0.85986,     0.86086,     0.86186,     0.86286,     0.86386,\n",
              "           0.86486,     0.86587,     0.86687,     0.86787,     0.86887,     0.86987,     0.87087,     0.87187,     0.87287,     0.87387,     0.87487,     0.87588,     0.87688,     0.87788,     0.87888,     0.87988,     0.88088,     0.88188,     0.88288,     0.88388,     0.88488,     0.88589,     0.88689,     0.88789,\n",
              "           0.88889,     0.88989,     0.89089,     0.89189,     0.89289,     0.89389,     0.89489,      0.8959,      0.8969,      0.8979,      0.8989,      0.8999,      0.9009,      0.9019,      0.9029,      0.9039,      0.9049,     0.90591,     0.90691,     0.90791,     0.90891,     0.90991,     0.91091,     0.91191,\n",
              "           0.91291,     0.91391,     0.91491,     0.91592,     0.91692,     0.91792,     0.91892,     0.91992,     0.92092,     0.92192,     0.92292,     0.92392,     0.92492,     0.92593,     0.92693,     0.92793,     0.92893,     0.92993,     0.93093,     0.93193,     0.93293,     0.93393,     0.93493,     0.93594,\n",
              "           0.93694,     0.93794,     0.93894,     0.93994,     0.94094,     0.94194,     0.94294,     0.94394,     0.94494,     0.94595,     0.94695,     0.94795,     0.94895,     0.94995,     0.95095,     0.95195,     0.95295,     0.95395,     0.95495,     0.95596,     0.95696,     0.95796,     0.95896,     0.95996,\n",
              "           0.96096,     0.96196,     0.96296,     0.96396,     0.96496,     0.96597,     0.96697,     0.96797,     0.96897,     0.96997,     0.97097,     0.97197,     0.97297,     0.97397,     0.97497,     0.97598,     0.97698,     0.97798,     0.97898,     0.97998,     0.98098,     0.98198,     0.98298,     0.98398,\n",
              "           0.98498,     0.98599,     0.98699,     0.98799,     0.98899,     0.98999,     0.99099,     0.99199,     0.99299,     0.99399,     0.99499,       0.996,       0.997,       0.998,       0.999,           1]), array([[    0.35294,     0.35294,     0.46023,     0.50712,     0.54967,     0.56362,     0.57239,     0.60225,      0.6149,     0.62385,     0.62888,     0.63089,     0.63289,     0.64359,     0.65431,     0.65818,     0.66339,     0.67177,     0.68124,       0.684,     0.68675,     0.69222,     0.69649,\n",
              "            0.69934,     0.70248,     0.70986,     0.71018,      0.7105,     0.71083,     0.71115,     0.71148,      0.7118,     0.71212,     0.71245,     0.71277,      0.7131,     0.71342,     0.71374,     0.71407,     0.71439,     0.71471,     0.71504,     0.71536,     0.71569,     0.71601,     0.71633,\n",
              "            0.71666,     0.71698,     0.71731,     0.73279,     0.73132,     0.73077,     0.73208,     0.73339,      0.7347,       0.736,     0.73731,     0.73862,     0.74356,     0.74782,     0.75028,     0.75273,     0.75519,     0.76154,      0.7739,     0.77476,     0.77562,     0.77649,     0.77735,\n",
              "            0.77821,     0.77908,     0.77994,     0.78081,     0.78167,     0.78253,      0.7858,     0.79317,      0.7955,     0.79782,     0.80015,     0.80248,     0.80746,     0.81245,     0.81559,     0.81872,     0.82184,     0.82266,     0.82247,     0.82229,      0.8221,     0.82192,     0.82173,\n",
              "            0.82155,     0.82136,     0.82118,       0.821,     0.82081,     0.82063,     0.82067,      0.8211,     0.82152,     0.82194,     0.82237,     0.82279,     0.82321,     0.82364,     0.82406,     0.82448,     0.82491,     0.82533,     0.82575,     0.82617,      0.8266,     0.82702,     0.82744,\n",
              "            0.82787,     0.82829,     0.82871,     0.82914,     0.82956,     0.82998,     0.83041,     0.83083,      0.8318,     0.83501,     0.83821,     0.84141,     0.85337,     0.85348,     0.85359,      0.8537,     0.85381,     0.85392,     0.85404,     0.85415,     0.85426,     0.85437,     0.85448,\n",
              "            0.85459,     0.85471,     0.85482,     0.85493,     0.85504,     0.85515,     0.85526,     0.85538,     0.85549,      0.8556,     0.85571,     0.85582,     0.85593,     0.85605,     0.85616,     0.85627,     0.85638,     0.85649,      0.8566,     0.85672,     0.85683,     0.85694,     0.85705,\n",
              "            0.85716,     0.85727,     0.85739,      0.8575,     0.85761,     0.85772,     0.85783,     0.85794,     0.85806,     0.85817,     0.85828,     0.85839,      0.8585,     0.85861,     0.85873,     0.85884,     0.85895,     0.85906,     0.85917,     0.85928,      0.8594,     0.85951,     0.85962,\n",
              "            0.85973,     0.85984,     0.85995,     0.86006,     0.86018,     0.86029,      0.8604,     0.86051,     0.86062,     0.86073,     0.86085,     0.86096,     0.86107,     0.86118,     0.86129,      0.8614,     0.86152,     0.86163,     0.86174,     0.86185,     0.86196,     0.86207,     0.86219,\n",
              "             0.8623,     0.86241,     0.86252,     0.86263,     0.86274,     0.86286,     0.86297,     0.86308,     0.86319,      0.8633,     0.86341,     0.86353,     0.86364,     0.86375,     0.86386,     0.86397,     0.86408,      0.8642,     0.86431,     0.86442,     0.86453,     0.86464,     0.86475,\n",
              "            0.86489,     0.86911,     0.87334,      0.8769,     0.87785,     0.87881,     0.87976,     0.88071,     0.88166,     0.88261,     0.88356,     0.88451,     0.88546,     0.88641,     0.88736,     0.88831,     0.88902,     0.88935,     0.88968,     0.89001,     0.89034,     0.89068,     0.89101,\n",
              "            0.89134,     0.89167,       0.892,     0.89233,     0.89266,     0.89299,     0.89333,     0.89366,     0.89399,     0.89432,     0.89465,     0.89498,     0.89531,     0.89564,     0.89597,     0.89631,     0.89664,     0.89697,      0.8973,     0.89763,     0.89796,     0.89829,     0.89862,\n",
              "            0.89896,     0.89929,     0.89962,     0.89995,     0.90028,     0.90061,     0.90094,     0.90127,     0.90138,     0.90133,     0.90128,     0.90123,     0.90118,     0.90113,     0.90107,     0.90102,     0.90097,     0.90092,     0.90087,     0.90082,     0.90077,     0.90072,     0.90067,\n",
              "            0.90062,     0.90057,     0.90052,     0.90047,     0.90042,     0.90037,     0.90031,     0.90026,     0.90021,     0.90016,     0.90011,     0.90006,     0.90001,     0.90041,     0.90094,     0.90146,     0.90199,     0.90251,     0.90303,     0.90356,     0.90408,     0.90461,     0.90513,\n",
              "            0.90566,     0.90618,      0.9067,     0.90723,     0.90775,     0.90828,      0.9088,     0.90933,     0.90985,     0.91038,      0.9109,     0.91142,     0.91195,     0.91247,       0.913,     0.91315,     0.91327,      0.9134,     0.91352,     0.91364,     0.91376,     0.91388,       0.914,\n",
              "            0.91412,     0.91424,     0.91436,     0.91448,     0.91461,     0.91473,     0.91485,     0.91497,     0.91509,     0.91521,     0.91533,     0.91545,     0.91557,     0.91569,     0.91582,     0.91594,     0.91606,     0.91618,      0.9163,     0.91642,     0.91654,     0.91666,     0.91678,\n",
              "             0.9169,     0.91703,     0.91715,     0.91727,     0.91739,     0.91751,     0.91763,     0.91775,     0.91787,     0.91799,     0.91811,     0.91824,     0.91836,     0.91848,      0.9186,     0.91872,     0.91884,     0.91896,     0.91908,      0.9192,     0.91932,     0.91945,     0.91957,\n",
              "            0.91969,     0.91981,     0.91993,     0.92005,     0.92017,     0.92029,     0.92041,     0.92053,     0.92066,     0.92078,      0.9209,     0.92102,     0.92114,     0.92126,     0.92138,      0.9215,     0.92162,     0.92174,     0.92187,     0.92199,     0.92211,     0.92223,     0.92235,\n",
              "            0.92247,     0.92259,     0.92271,     0.92283,     0.92295,     0.92308,      0.9232,     0.92332,     0.92344,     0.92356,     0.92368,      0.9238,     0.92392,     0.92404,     0.92416,     0.92429,     0.92441,     0.92453,     0.92465,     0.92477,     0.92489,     0.92501,     0.92513,\n",
              "            0.92525,     0.92537,      0.9255,     0.92562,     0.92574,     0.92586,     0.92598,      0.9261,     0.92622,     0.92634,     0.92646,     0.92626,     0.92603,     0.92581,     0.92558,     0.92537,      0.9253,     0.92523,     0.92516,     0.92509,     0.92502,     0.92495,     0.92488,\n",
              "            0.92482,     0.92475,     0.92468,     0.92461,     0.92454,     0.92447,      0.9244,     0.92433,     0.92426,     0.92422,     0.92418,     0.92415,     0.92411,     0.92408,     0.92404,     0.92401,     0.92397,     0.92394,      0.9239,     0.92387,     0.92383,      0.9238,     0.92376,\n",
              "            0.92373,     0.92369,     0.92365,     0.92362,     0.92358,     0.92355,     0.92351,     0.92348,     0.92344,     0.92341,     0.92337,     0.92334,      0.9233,     0.92327,     0.92323,      0.9232,     0.92316,     0.92313,     0.92309,     0.92424,     0.92635,     0.92846,     0.93057,\n",
              "            0.93268,      0.9348,     0.93691,     0.93748,     0.93745,     0.93742,     0.93739,     0.93737,     0.93734,     0.93731,     0.93728,     0.93725,     0.93723,      0.9372,     0.93717,     0.93714,     0.93711,     0.93708,     0.93706,     0.93703,       0.937,     0.93697,     0.93694,\n",
              "            0.93691,     0.93689,     0.93686,     0.93683,      0.9368,     0.93677,     0.93675,     0.93672,     0.93669,     0.93666,     0.93663,      0.9366,     0.93658,     0.93655,     0.93652,     0.93674,     0.93713,     0.93751,      0.9379,     0.93829,     0.93868,     0.93906,     0.93945,\n",
              "            0.93984,     0.94022,     0.94061,       0.941,     0.94138,     0.94177,     0.94216,     0.94255,     0.94293,     0.94332,     0.94371,     0.94409,     0.94448,     0.94487,     0.94526,     0.94564,     0.94603,     0.94642,      0.9468,     0.94719,     0.94758,     0.94796,     0.94835,\n",
              "            0.94874,     0.94913,     0.94951,      0.9499,     0.95029,     0.95067,     0.95106,     0.95145,     0.95468,     0.96001,     0.96534,     0.96721,     0.96719,     0.96718,     0.96717,     0.96716,     0.96715,     0.96713,     0.96712,     0.96711,      0.9671,     0.96709,     0.96708,\n",
              "            0.96706,     0.96705,     0.96704,     0.96703,     0.96702,     0.96701,     0.96699,     0.96698,     0.96697,     0.96696,     0.96695,     0.96693,     0.96692,     0.96691,      0.9669,     0.96689,     0.96688,     0.96686,     0.96685,     0.96684,     0.96683,     0.96682,      0.9668,\n",
              "            0.96679,     0.96678,     0.96677,     0.96676,     0.96675,     0.96673,     0.96672,     0.96671,      0.9667,     0.96669,     0.96667,     0.96658,     0.96629,     0.96609,     0.96607,     0.96605,     0.96603,     0.96601,     0.96599,     0.96597,     0.96595,     0.96593,     0.96591,\n",
              "            0.96589,     0.96587,     0.96585,     0.96583,     0.96581,     0.96578,     0.96576,     0.96574,     0.96572,      0.9657,     0.96568,     0.96566,     0.96564,     0.96562,      0.9656,     0.96558,     0.96556,     0.96554,      0.9655,      0.9653,     0.96509,     0.96489,      0.9647,\n",
              "            0.96452,     0.96434,     0.96419,     0.96406,     0.96392,     0.96379,     0.96366,     0.97137,     0.98052,     0.98224,     0.98308,     0.98392,     0.98477,     0.98561,     0.98645,      0.9873,     0.98814,     0.98899,     0.98983,     0.99067,     0.99152,     0.99236,      0.9932,\n",
              "            0.99405,     0.99489,     0.99573,     0.99658,     0.99742,     0.99827,     0.99911,     0.99995,           1,           1,           1,           1,           1,           1,           1,           1,           1,           1,           1,           1,           1,           1,           1,\n",
              "                  1,           1,           1,           1,           1,           1,           1,           1,           1,           1,           1,           1,           1,           1,           1,           1,           1,           1,           1,           1,           1,           1,           1,\n",
              "                  1,           1,           1,           1,           1,           1,           1,           1,           1,           1,           1,           1,           1,           1,           1,           1,           1,           1,           1,           1,           1,           1,           1,\n",
              "                  1,           1,           1,           1,           1,           1,           1,           1,           1,           1,           1,           1,           1,           1,           1,           1,           1,           1,           1,           1,           1,           1,           1,\n",
              "                  1,           1,           1,           1,           1,           1,           1,           1,           1,           1,           1,           1,           1,           1,           1,           1,           1,           1,           1,           1,           1,           1,           1,\n",
              "                  1,           1,           1,           1,           1,           1,           1,           1,           1,           1,           1,           1,           1,           1,           1,           1,           1,           1,           1,           1,           1,           1,           1,\n",
              "                  1,           1,           1,           1,           1,           1,           1,           1,           1,           1,           1,           1,           1,           1,           1,           1,           1,           1,           1,           1,           1,           1,           1,\n",
              "                  1,           1,           1,           1,           1,           1,           1,           1,           1,           1,           1,           1,           1,           1,           1,           1,           1,           1,           1,           1,           1,           1,           1,\n",
              "                  1,           1,           1,           1,           1,           1,           1,           1,           1,           1,           1,           1,           1,           1,           1,           1,           1,           1,           1,           1,           1,           1,           1,\n",
              "                  1,           1,           1,           1,           1,           1,           1,           1,           1,           1,           1,           1,           1,           1,           1,           1,           1,           1,           1,           1,           1,           1,           1,\n",
              "                  1,           1,           1,           1,           1,           1,           1,           1,           1,           1,           1,           1,           1,           1,           1,           1,           1,           1,           1,           1,           1,           1,           1,\n",
              "                  1,           1,           1,           1,           1,           1,           1,           1,           1,           1,           1,           1,           1,           1,           1,           1,           1,           1,           1,           1,           1,           1,           1,\n",
              "                  1,           1,           1,           1,           1,           1,           1,           1,           1,           1,           1,           1,           1,           1,           1,           1,           1,           1,           1,           1,           1,           1,           1,\n",
              "                  1,           1,           1,           1,           1,           1,           1,           1,           1,           1,           1]]), 'Confidence', 'Precision'], [array([          0,    0.001001,    0.002002,    0.003003,    0.004004,    0.005005,    0.006006,    0.007007,    0.008008,    0.009009,     0.01001,    0.011011,    0.012012,    0.013013,    0.014014,    0.015015,    0.016016,    0.017017,    0.018018,    0.019019,     0.02002,    0.021021,    0.022022,    0.023023,\n",
              "          0.024024,    0.025025,    0.026026,    0.027027,    0.028028,    0.029029,     0.03003,    0.031031,    0.032032,    0.033033,    0.034034,    0.035035,    0.036036,    0.037037,    0.038038,    0.039039,     0.04004,    0.041041,    0.042042,    0.043043,    0.044044,    0.045045,    0.046046,    0.047047,\n",
              "          0.048048,    0.049049,     0.05005,    0.051051,    0.052052,    0.053053,    0.054054,    0.055055,    0.056056,    0.057057,    0.058058,    0.059059,     0.06006,    0.061061,    0.062062,    0.063063,    0.064064,    0.065065,    0.066066,    0.067067,    0.068068,    0.069069,     0.07007,    0.071071,\n",
              "          0.072072,    0.073073,    0.074074,    0.075075,    0.076076,    0.077077,    0.078078,    0.079079,     0.08008,    0.081081,    0.082082,    0.083083,    0.084084,    0.085085,    0.086086,    0.087087,    0.088088,    0.089089,     0.09009,    0.091091,    0.092092,    0.093093,    0.094094,    0.095095,\n",
              "          0.096096,    0.097097,    0.098098,    0.099099,      0.1001,      0.1011,      0.1021,      0.1031,      0.1041,     0.10511,     0.10611,     0.10711,     0.10811,     0.10911,     0.11011,     0.11111,     0.11211,     0.11311,     0.11411,     0.11512,     0.11612,     0.11712,     0.11812,     0.11912,\n",
              "           0.12012,     0.12112,     0.12212,     0.12312,     0.12412,     0.12513,     0.12613,     0.12713,     0.12813,     0.12913,     0.13013,     0.13113,     0.13213,     0.13313,     0.13413,     0.13514,     0.13614,     0.13714,     0.13814,     0.13914,     0.14014,     0.14114,     0.14214,     0.14314,\n",
              "           0.14414,     0.14515,     0.14615,     0.14715,     0.14815,     0.14915,     0.15015,     0.15115,     0.15215,     0.15315,     0.15415,     0.15516,     0.15616,     0.15716,     0.15816,     0.15916,     0.16016,     0.16116,     0.16216,     0.16316,     0.16416,     0.16517,     0.16617,     0.16717,\n",
              "           0.16817,     0.16917,     0.17017,     0.17117,     0.17217,     0.17317,     0.17417,     0.17518,     0.17618,     0.17718,     0.17818,     0.17918,     0.18018,     0.18118,     0.18218,     0.18318,     0.18418,     0.18519,     0.18619,     0.18719,     0.18819,     0.18919,     0.19019,     0.19119,\n",
              "           0.19219,     0.19319,     0.19419,      0.1952,      0.1962,      0.1972,      0.1982,      0.1992,      0.2002,      0.2012,      0.2022,      0.2032,      0.2042,     0.20521,     0.20621,     0.20721,     0.20821,     0.20921,     0.21021,     0.21121,     0.21221,     0.21321,     0.21421,     0.21522,\n",
              "           0.21622,     0.21722,     0.21822,     0.21922,     0.22022,     0.22122,     0.22222,     0.22322,     0.22422,     0.22523,     0.22623,     0.22723,     0.22823,     0.22923,     0.23023,     0.23123,     0.23223,     0.23323,     0.23423,     0.23524,     0.23624,     0.23724,     0.23824,     0.23924,\n",
              "           0.24024,     0.24124,     0.24224,     0.24324,     0.24424,     0.24525,     0.24625,     0.24725,     0.24825,     0.24925,     0.25025,     0.25125,     0.25225,     0.25325,     0.25425,     0.25526,     0.25626,     0.25726,     0.25826,     0.25926,     0.26026,     0.26126,     0.26226,     0.26326,\n",
              "           0.26426,     0.26527,     0.26627,     0.26727,     0.26827,     0.26927,     0.27027,     0.27127,     0.27227,     0.27327,     0.27427,     0.27528,     0.27628,     0.27728,     0.27828,     0.27928,     0.28028,     0.28128,     0.28228,     0.28328,     0.28428,     0.28529,     0.28629,     0.28729,\n",
              "           0.28829,     0.28929,     0.29029,     0.29129,     0.29229,     0.29329,     0.29429,      0.2953,      0.2963,      0.2973,      0.2983,      0.2993,      0.3003,      0.3013,      0.3023,      0.3033,      0.3043,     0.30531,     0.30631,     0.30731,     0.30831,     0.30931,     0.31031,     0.31131,\n",
              "           0.31231,     0.31331,     0.31431,     0.31532,     0.31632,     0.31732,     0.31832,     0.31932,     0.32032,     0.32132,     0.32232,     0.32332,     0.32432,     0.32533,     0.32633,     0.32733,     0.32833,     0.32933,     0.33033,     0.33133,     0.33233,     0.33333,     0.33433,     0.33534,\n",
              "           0.33634,     0.33734,     0.33834,     0.33934,     0.34034,     0.34134,     0.34234,     0.34334,     0.34434,     0.34535,     0.34635,     0.34735,     0.34835,     0.34935,     0.35035,     0.35135,     0.35235,     0.35335,     0.35435,     0.35536,     0.35636,     0.35736,     0.35836,     0.35936,\n",
              "           0.36036,     0.36136,     0.36236,     0.36336,     0.36436,     0.36537,     0.36637,     0.36737,     0.36837,     0.36937,     0.37037,     0.37137,     0.37237,     0.37337,     0.37437,     0.37538,     0.37638,     0.37738,     0.37838,     0.37938,     0.38038,     0.38138,     0.38238,     0.38338,\n",
              "           0.38438,     0.38539,     0.38639,     0.38739,     0.38839,     0.38939,     0.39039,     0.39139,     0.39239,     0.39339,     0.39439,      0.3954,      0.3964,      0.3974,      0.3984,      0.3994,      0.4004,      0.4014,      0.4024,      0.4034,      0.4044,     0.40541,     0.40641,     0.40741,\n",
              "           0.40841,     0.40941,     0.41041,     0.41141,     0.41241,     0.41341,     0.41441,     0.41542,     0.41642,     0.41742,     0.41842,     0.41942,     0.42042,     0.42142,     0.42242,     0.42342,     0.42442,     0.42543,     0.42643,     0.42743,     0.42843,     0.42943,     0.43043,     0.43143,\n",
              "           0.43243,     0.43343,     0.43443,     0.43544,     0.43644,     0.43744,     0.43844,     0.43944,     0.44044,     0.44144,     0.44244,     0.44344,     0.44444,     0.44545,     0.44645,     0.44745,     0.44845,     0.44945,     0.45045,     0.45145,     0.45245,     0.45345,     0.45445,     0.45546,\n",
              "           0.45646,     0.45746,     0.45846,     0.45946,     0.46046,     0.46146,     0.46246,     0.46346,     0.46446,     0.46547,     0.46647,     0.46747,     0.46847,     0.46947,     0.47047,     0.47147,     0.47247,     0.47347,     0.47447,     0.47548,     0.47648,     0.47748,     0.47848,     0.47948,\n",
              "           0.48048,     0.48148,     0.48248,     0.48348,     0.48448,     0.48549,     0.48649,     0.48749,     0.48849,     0.48949,     0.49049,     0.49149,     0.49249,     0.49349,     0.49449,      0.4955,      0.4965,      0.4975,      0.4985,      0.4995,      0.5005,      0.5015,      0.5025,      0.5035,\n",
              "            0.5045,     0.50551,     0.50651,     0.50751,     0.50851,     0.50951,     0.51051,     0.51151,     0.51251,     0.51351,     0.51451,     0.51552,     0.51652,     0.51752,     0.51852,     0.51952,     0.52052,     0.52152,     0.52252,     0.52352,     0.52452,     0.52553,     0.52653,     0.52753,\n",
              "           0.52853,     0.52953,     0.53053,     0.53153,     0.53253,     0.53353,     0.53453,     0.53554,     0.53654,     0.53754,     0.53854,     0.53954,     0.54054,     0.54154,     0.54254,     0.54354,     0.54454,     0.54555,     0.54655,     0.54755,     0.54855,     0.54955,     0.55055,     0.55155,\n",
              "           0.55255,     0.55355,     0.55455,     0.55556,     0.55656,     0.55756,     0.55856,     0.55956,     0.56056,     0.56156,     0.56256,     0.56356,     0.56456,     0.56557,     0.56657,     0.56757,     0.56857,     0.56957,     0.57057,     0.57157,     0.57257,     0.57357,     0.57457,     0.57558,\n",
              "           0.57658,     0.57758,     0.57858,     0.57958,     0.58058,     0.58158,     0.58258,     0.58358,     0.58458,     0.58559,     0.58659,     0.58759,     0.58859,     0.58959,     0.59059,     0.59159,     0.59259,     0.59359,     0.59459,      0.5956,      0.5966,      0.5976,      0.5986,      0.5996,\n",
              "            0.6006,      0.6016,      0.6026,      0.6036,      0.6046,     0.60561,     0.60661,     0.60761,     0.60861,     0.60961,     0.61061,     0.61161,     0.61261,     0.61361,     0.61461,     0.61562,     0.61662,     0.61762,     0.61862,     0.61962,     0.62062,     0.62162,     0.62262,     0.62362,\n",
              "           0.62462,     0.62563,     0.62663,     0.62763,     0.62863,     0.62963,     0.63063,     0.63163,     0.63263,     0.63363,     0.63463,     0.63564,     0.63664,     0.63764,     0.63864,     0.63964,     0.64064,     0.64164,     0.64264,     0.64364,     0.64464,     0.64565,     0.64665,     0.64765,\n",
              "           0.64865,     0.64965,     0.65065,     0.65165,     0.65265,     0.65365,     0.65465,     0.65566,     0.65666,     0.65766,     0.65866,     0.65966,     0.66066,     0.66166,     0.66266,     0.66366,     0.66466,     0.66567,     0.66667,     0.66767,     0.66867,     0.66967,     0.67067,     0.67167,\n",
              "           0.67267,     0.67367,     0.67467,     0.67568,     0.67668,     0.67768,     0.67868,     0.67968,     0.68068,     0.68168,     0.68268,     0.68368,     0.68468,     0.68569,     0.68669,     0.68769,     0.68869,     0.68969,     0.69069,     0.69169,     0.69269,     0.69369,     0.69469,      0.6957,\n",
              "            0.6967,      0.6977,      0.6987,      0.6997,      0.7007,      0.7017,      0.7027,      0.7037,      0.7047,     0.70571,     0.70671,     0.70771,     0.70871,     0.70971,     0.71071,     0.71171,     0.71271,     0.71371,     0.71471,     0.71572,     0.71672,     0.71772,     0.71872,     0.71972,\n",
              "           0.72072,     0.72172,     0.72272,     0.72372,     0.72472,     0.72573,     0.72673,     0.72773,     0.72873,     0.72973,     0.73073,     0.73173,     0.73273,     0.73373,     0.73473,     0.73574,     0.73674,     0.73774,     0.73874,     0.73974,     0.74074,     0.74174,     0.74274,     0.74374,\n",
              "           0.74474,     0.74575,     0.74675,     0.74775,     0.74875,     0.74975,     0.75075,     0.75175,     0.75275,     0.75375,     0.75475,     0.75576,     0.75676,     0.75776,     0.75876,     0.75976,     0.76076,     0.76176,     0.76276,     0.76376,     0.76476,     0.76577,     0.76677,     0.76777,\n",
              "           0.76877,     0.76977,     0.77077,     0.77177,     0.77277,     0.77377,     0.77477,     0.77578,     0.77678,     0.77778,     0.77878,     0.77978,     0.78078,     0.78178,     0.78278,     0.78378,     0.78478,     0.78579,     0.78679,     0.78779,     0.78879,     0.78979,     0.79079,     0.79179,\n",
              "           0.79279,     0.79379,     0.79479,      0.7958,      0.7968,      0.7978,      0.7988,      0.7998,      0.8008,      0.8018,      0.8028,      0.8038,      0.8048,     0.80581,     0.80681,     0.80781,     0.80881,     0.80981,     0.81081,     0.81181,     0.81281,     0.81381,     0.81481,     0.81582,\n",
              "           0.81682,     0.81782,     0.81882,     0.81982,     0.82082,     0.82182,     0.82282,     0.82382,     0.82482,     0.82583,     0.82683,     0.82783,     0.82883,     0.82983,     0.83083,     0.83183,     0.83283,     0.83383,     0.83483,     0.83584,     0.83684,     0.83784,     0.83884,     0.83984,\n",
              "           0.84084,     0.84184,     0.84284,     0.84384,     0.84484,     0.84585,     0.84685,     0.84785,     0.84885,     0.84985,     0.85085,     0.85185,     0.85285,     0.85385,     0.85485,     0.85586,     0.85686,     0.85786,     0.85886,     0.85986,     0.86086,     0.86186,     0.86286,     0.86386,\n",
              "           0.86486,     0.86587,     0.86687,     0.86787,     0.86887,     0.86987,     0.87087,     0.87187,     0.87287,     0.87387,     0.87487,     0.87588,     0.87688,     0.87788,     0.87888,     0.87988,     0.88088,     0.88188,     0.88288,     0.88388,     0.88488,     0.88589,     0.88689,     0.88789,\n",
              "           0.88889,     0.88989,     0.89089,     0.89189,     0.89289,     0.89389,     0.89489,      0.8959,      0.8969,      0.8979,      0.8989,      0.8999,      0.9009,      0.9019,      0.9029,      0.9039,      0.9049,     0.90591,     0.90691,     0.90791,     0.90891,     0.90991,     0.91091,     0.91191,\n",
              "           0.91291,     0.91391,     0.91491,     0.91592,     0.91692,     0.91792,     0.91892,     0.91992,     0.92092,     0.92192,     0.92292,     0.92392,     0.92492,     0.92593,     0.92693,     0.92793,     0.92893,     0.92993,     0.93093,     0.93193,     0.93293,     0.93393,     0.93493,     0.93594,\n",
              "           0.93694,     0.93794,     0.93894,     0.93994,     0.94094,     0.94194,     0.94294,     0.94394,     0.94494,     0.94595,     0.94695,     0.94795,     0.94895,     0.94995,     0.95095,     0.95195,     0.95295,     0.95395,     0.95495,     0.95596,     0.95696,     0.95796,     0.95896,     0.95996,\n",
              "           0.96096,     0.96196,     0.96296,     0.96396,     0.96496,     0.96597,     0.96697,     0.96797,     0.96897,     0.96997,     0.97097,     0.97197,     0.97297,     0.97397,     0.97497,     0.97598,     0.97698,     0.97798,     0.97898,     0.97998,     0.98098,     0.98198,     0.98298,     0.98398,\n",
              "           0.98498,     0.98599,     0.98699,     0.98799,     0.98899,     0.98999,     0.99099,     0.99199,     0.99299,     0.99399,     0.99499,       0.996,       0.997,       0.998,       0.999,           1]), array([[       0.96,        0.96,     0.94667,     0.94667,     0.94667,     0.93333,     0.93333,     0.92869,     0.89333,     0.89333,        0.88,        0.88,        0.88,        0.88,        0.88,        0.88,        0.88,        0.88,        0.88,        0.88,        0.88,        0.88,        0.88,\n",
              "               0.88,        0.88,        0.88,        0.88,        0.88,        0.88,        0.88,        0.88,        0.88,        0.88,        0.88,        0.88,        0.88,        0.88,        0.88,        0.88,        0.88,        0.88,        0.88,        0.88,        0.88,        0.88,        0.88,\n",
              "               0.88,        0.88,        0.88,     0.87756,     0.87104,     0.86667,     0.86667,     0.86667,     0.86667,     0.86667,     0.86667,     0.86667,     0.86667,     0.86667,     0.86667,     0.86667,     0.86667,     0.86667,     0.86667,     0.86667,     0.86667,     0.86667,     0.86667,\n",
              "            0.86667,     0.86667,     0.86667,     0.86667,     0.86667,     0.86667,     0.86667,     0.86667,     0.86667,     0.86667,     0.86667,     0.86667,     0.86667,     0.86667,     0.86667,     0.86667,     0.86667,     0.86591,     0.86483,     0.86375,     0.86266,     0.86158,      0.8605,\n",
              "            0.85942,     0.85833,     0.85725,     0.85617,     0.85509,       0.854,     0.85333,     0.85333,     0.85333,     0.85333,     0.85333,     0.85333,     0.85333,     0.85333,     0.85333,     0.85333,     0.85333,     0.85333,     0.85333,     0.85333,     0.85333,     0.85333,     0.85333,\n",
              "            0.85333,     0.85333,     0.85333,     0.85333,     0.85333,     0.85333,     0.85333,     0.85333,     0.85333,     0.85333,     0.85333,     0.85333,     0.85333,     0.85333,     0.85333,     0.85333,     0.85333,     0.85333,     0.85333,     0.85333,     0.85333,     0.85333,     0.85333,\n",
              "            0.85333,     0.85333,     0.85333,     0.85333,     0.85333,     0.85333,     0.85333,     0.85333,     0.85333,     0.85333,     0.85333,     0.85333,     0.85333,     0.85333,     0.85333,     0.85333,     0.85333,     0.85333,     0.85333,     0.85333,     0.85333,     0.85333,     0.85333,\n",
              "            0.85333,     0.85333,     0.85333,     0.85333,     0.85333,     0.85333,     0.85333,     0.85333,     0.85333,     0.85333,     0.85333,     0.85333,     0.85333,     0.85333,     0.85333,     0.85333,     0.85333,     0.85333,     0.85333,     0.85333,     0.85333,     0.85333,     0.85333,\n",
              "            0.85333,     0.85333,     0.85333,     0.85333,     0.85333,     0.85333,     0.85333,     0.85333,     0.85333,     0.85333,     0.85333,     0.85333,     0.85333,     0.85333,     0.85333,     0.85333,     0.85333,     0.85333,     0.85333,     0.85333,     0.85333,     0.85333,     0.85333,\n",
              "            0.85333,     0.85333,     0.85333,     0.85333,     0.85333,     0.85333,     0.85333,     0.85333,     0.85333,     0.85333,     0.85333,     0.85333,     0.85333,     0.85333,     0.85333,     0.85333,     0.85333,     0.85333,     0.85333,     0.85333,     0.85333,     0.85333,     0.85333,\n",
              "            0.85333,     0.85333,     0.85333,     0.85333,     0.85333,     0.85333,     0.85333,     0.85333,     0.85333,     0.85333,     0.85333,     0.85333,     0.85333,     0.85333,     0.85333,     0.85333,     0.85333,     0.85333,     0.85333,     0.85333,     0.85333,     0.85333,     0.85333,\n",
              "            0.85333,     0.85333,     0.85333,     0.85333,     0.85333,     0.85333,     0.85333,     0.85333,     0.85333,     0.85333,     0.85333,     0.85333,     0.85333,     0.85333,     0.85333,     0.85333,     0.85333,     0.85333,     0.85333,     0.85333,     0.85333,     0.85333,     0.85333,\n",
              "            0.85333,     0.85333,     0.85333,     0.85333,     0.85333,     0.85333,     0.85333,     0.85333,     0.85305,     0.85257,     0.85209,     0.85161,     0.85113,     0.85065,     0.85017,     0.84969,     0.84921,     0.84873,     0.84825,     0.84777,     0.84729,     0.84682,     0.84634,\n",
              "            0.84586,     0.84538,      0.8449,     0.84442,     0.84394,     0.84346,     0.84298,      0.8425,     0.84202,     0.84154,     0.84106,     0.84058,      0.8401,        0.84,        0.84,        0.84,        0.84,        0.84,        0.84,        0.84,        0.84,        0.84,        0.84,\n",
              "               0.84,        0.84,        0.84,        0.84,        0.84,        0.84,        0.84,        0.84,        0.84,        0.84,        0.84,        0.84,        0.84,        0.84,        0.84,        0.84,        0.84,        0.84,        0.84,        0.84,        0.84,        0.84,        0.84,\n",
              "               0.84,        0.84,        0.84,        0.84,        0.84,        0.84,        0.84,        0.84,        0.84,        0.84,        0.84,        0.84,        0.84,        0.84,        0.84,        0.84,        0.84,        0.84,        0.84,        0.84,        0.84,        0.84,        0.84,\n",
              "               0.84,        0.84,        0.84,        0.84,        0.84,        0.84,        0.84,        0.84,        0.84,        0.84,        0.84,        0.84,        0.84,        0.84,        0.84,        0.84,        0.84,        0.84,        0.84,        0.84,        0.84,        0.84,        0.84,\n",
              "               0.84,        0.84,        0.84,        0.84,        0.84,        0.84,        0.84,        0.84,        0.84,        0.84,        0.84,        0.84,        0.84,        0.84,        0.84,        0.84,        0.84,        0.84,        0.84,        0.84,        0.84,        0.84,        0.84,\n",
              "               0.84,        0.84,        0.84,        0.84,        0.84,        0.84,        0.84,        0.84,        0.84,        0.84,        0.84,        0.84,        0.84,        0.84,        0.84,        0.84,        0.84,        0.84,        0.84,        0.84,        0.84,        0.84,        0.84,\n",
              "               0.84,        0.84,        0.84,        0.84,        0.84,        0.84,        0.84,        0.84,        0.84,        0.84,        0.84,     0.83744,      0.8347,     0.83197,     0.82924,     0.82662,      0.8258,     0.82499,     0.82417,     0.82335,     0.82254,     0.82172,     0.82091,\n",
              "            0.82009,     0.81927,     0.81846,     0.81764,     0.81683,     0.81601,     0.81519,     0.81438,     0.81356,     0.81304,     0.81264,     0.81224,     0.81184,     0.81144,     0.81103,     0.81063,     0.81023,     0.80983,     0.80943,     0.80902,     0.80862,     0.80822,     0.80782,\n",
              "            0.80742,     0.80701,     0.80661,     0.80621,     0.80581,     0.80541,     0.80501,      0.8046,      0.8042,      0.8038,      0.8034,       0.803,     0.80259,     0.80219,     0.80179,     0.80139,     0.80099,     0.80058,     0.80018,         0.8,         0.8,         0.8,         0.8,\n",
              "                0.8,         0.8,         0.8,     0.79973,     0.79935,     0.79897,     0.79859,     0.79821,     0.79783,     0.79745,     0.79707,     0.79669,     0.79631,     0.79593,     0.79555,     0.79517,     0.79479,     0.79441,     0.79403,     0.79365,     0.79327,     0.79289,     0.79251,\n",
              "            0.79213,     0.79175,     0.79137,       0.791,     0.79062,     0.79024,     0.78986,     0.78948,      0.7891,     0.78872,     0.78834,     0.78796,     0.78758,      0.7872,     0.78682,     0.78667,     0.78667,     0.78667,     0.78667,     0.78667,     0.78667,     0.78667,     0.78667,\n",
              "            0.78667,     0.78667,     0.78667,     0.78667,     0.78667,     0.78667,     0.78667,     0.78667,     0.78667,     0.78667,     0.78667,     0.78667,     0.78667,     0.78667,     0.78667,     0.78667,     0.78667,     0.78667,     0.78667,     0.78667,     0.78667,     0.78667,     0.78667,\n",
              "            0.78667,     0.78667,     0.78667,     0.78667,     0.78667,     0.78667,     0.78667,     0.78667,     0.78667,     0.78667,     0.78667,     0.78648,     0.78619,      0.7859,     0.78562,     0.78533,     0.78504,     0.78475,     0.78447,     0.78418,     0.78389,      0.7836,     0.78332,\n",
              "            0.78303,     0.78274,     0.78245,     0.78216,     0.78188,     0.78159,      0.7813,     0.78101,     0.78073,     0.78044,     0.78015,     0.77986,     0.77957,     0.77929,       0.779,     0.77871,     0.77842,     0.77814,     0.77785,     0.77756,     0.77727,     0.77699,      0.7767,\n",
              "            0.77641,     0.77612,     0.77583,     0.77555,     0.77526,     0.77497,     0.77468,      0.7744,     0.77411,     0.77382,     0.77353,     0.77123,     0.76439,     0.75983,     0.75936,     0.75889,     0.75842,     0.75795,     0.75748,       0.757,     0.75653,     0.75606,     0.75559,\n",
              "            0.75512,     0.75465,     0.75418,     0.75371,     0.75323,     0.75276,     0.75229,     0.75182,     0.75135,     0.75088,     0.75041,     0.74993,     0.74946,     0.74899,     0.74852,     0.74805,     0.74758,     0.74711,     0.74637,     0.74182,     0.73726,     0.73279,     0.72889,\n",
              "            0.72498,     0.72108,     0.71802,     0.71529,     0.71256,     0.70982,     0.70709,     0.70667,     0.70667,     0.70667,     0.70667,     0.70667,     0.70667,     0.70667,     0.70667,     0.70667,     0.70667,     0.70667,     0.70667,     0.70667,     0.70667,     0.70667,     0.70667,\n",
              "            0.70667,     0.70667,     0.70667,     0.70667,     0.70667,     0.70667,     0.70667,     0.70667,     0.70237,     0.69781,     0.69331,      0.6917,     0.69009,     0.68848,     0.68687,     0.68527,     0.68366,     0.68205,     0.68044,     0.67848,     0.67637,     0.67427,     0.67217,\n",
              "            0.67007,     0.66796,     0.66601,      0.6643,      0.6626,     0.66089,     0.65918,     0.65747,     0.65576,     0.65405,     0.65107,     0.64717,     0.64326,     0.63925,      0.6347,     0.63014,     0.62595,     0.62291,     0.61987,     0.61683,      0.6138,     0.59768,     0.59495,\n",
              "            0.59222,     0.58948,     0.58675,      0.5645,      0.5577,     0.55314,     0.54858,     0.52806,     0.49228,     0.48317,     0.45036,     0.44581,     0.44125,     0.41168,      0.4094,     0.40712,     0.40485,     0.40257,     0.40029,     0.38508,     0.38326,     0.38143,     0.37961,\n",
              "            0.37779,     0.37597,     0.37414,     0.36827,     0.35969,     0.35627,     0.35285,     0.34944,      0.3458,     0.34125,     0.33669,     0.33094,     0.32183,     0.31563,     0.31016,     0.30503,     0.30047,     0.29591,     0.29185,     0.28844,     0.28502,      0.2816,     0.27516,\n",
              "             0.2663,     0.26083,     0.25536,     0.25047,     0.24591,     0.24136,      0.2376,     0.23418,     0.23077,     0.22735,     0.22557,     0.22421,     0.22284,     0.22147,     0.22011,     0.21874,     0.21737,     0.21601,     0.21464,     0.21309,     0.20763,     0.20216,      0.1989,\n",
              "            0.19708,     0.19525,     0.19343,     0.19161,     0.18979,     0.18796,     0.18404,     0.17493,     0.17145,     0.16918,      0.1669,     0.16462,     0.16234,     0.16007,     0.14673,     0.14472,     0.14277,     0.14082,     0.13887,     0.13691,     0.13496,     0.10602,     0.10211,\n",
              "           0.098207,    0.094302,    0.077064,    0.073159,    0.069254,    0.065828,    0.063343,    0.060858,    0.058374,    0.055889,    0.053404,    0.052179,     0.05099,    0.049802,    0.048613,    0.047425,    0.046236,    0.045048,     0.04386,    0.042671,    0.041483,    0.040294,    0.034858,\n",
              "           0.028025,    0.026261,    0.025755,    0.025249,    0.024743,    0.024236,     0.02373,    0.023224,    0.022718,    0.022212,    0.021705,    0.021199,    0.020693,    0.020187,    0.019681,    0.019174,    0.018668,    0.018162,    0.017656,     0.01715,    0.016644,    0.016137,    0.015631,\n",
              "           0.015125,    0.014619,    0.014113,    0.013606,           0,           0,           0,           0,           0,           0,           0,           0,           0,           0,           0,           0,           0,           0,           0,           0,           0,           0,           0,\n",
              "                  0,           0,           0,           0,           0,           0,           0,           0,           0,           0,           0,           0,           0,           0,           0,           0,           0,           0,           0,           0,           0,           0,           0,\n",
              "                  0,           0,           0,           0,           0,           0,           0,           0,           0,           0,           0,           0,           0,           0,           0,           0,           0,           0,           0,           0,           0,           0,           0,\n",
              "                  0,           0,           0,           0,           0,           0,           0,           0,           0,           0,           0,           0,           0,           0,           0,           0,           0,           0,           0,           0,           0,           0,           0,\n",
              "                  0,           0,           0,           0,           0,           0,           0,           0,           0,           0,           0,           0,           0,           0,           0,           0,           0,           0,           0,           0,           0,           0,           0,\n",
              "                  0,           0,           0,           0,           0,           0,           0,           0,           0,           0,           0]]), 'Confidence', 'Recall']]\n",
              "fitness: 0.511390962708218\n",
              "keys: ['metrics/precision(B)', 'metrics/recall(B)', 'metrics/mAP50(B)', 'metrics/mAP50-95(B)']\n",
              "maps: array([    0.46621])\n",
              "names: {0: 'football'}\n",
              "plot: True\n",
              "results_dict: {'metrics/precision(B)': 0.9207763143824524, 'metrics/recall(B)': 0.84, 'metrics/mAP50(B)': 0.9180640310329418, 'metrics/mAP50-95(B)': 0.4662050662276931, 'fitness': 0.511390962708218}\n",
              "save_dir: PosixPath('runs/detect/train')\n",
              "speed: {'preprocess': 0.20866711934407553, 'inference': 29.27735646565755, 'loss': 0.0008424123128255208, 'postprocess': 4.145924250284831}\n",
              "task: 'detect'"
            ]
          },
          "metadata": {},
          "execution_count": 6
        }
      ]
    },
    {
      "cell_type": "code",
      "source": [],
      "metadata": {
        "id": "FYLtA0Lald_H"
      },
      "execution_count": null,
      "outputs": []
    },
    {
      "cell_type": "code",
      "source": [],
      "metadata": {
        "id": "r8h4phP5leCO"
      },
      "execution_count": null,
      "outputs": []
    },
    {
      "cell_type": "markdown",
      "source": [
        "# Video to Frame"
      ],
      "metadata": {
        "id": "KJn_mGLGtCVt"
      }
    },
    {
      "cell_type": "code",
      "source": [
        "model =YOLO('/content/runs/detect/train/weights/best.pt')\n",
        "# model =YOLO('https://github.com/ultralytics/assets/releases/download/v0.0.0/yolov8x.pt')\n",
        "def extract_bbox(image):\n",
        "  results=model.predict(image,save=False, conf=0.50)\n",
        "  # Extract bounding boxes, classes, names, and confidences\n",
        "  boxes = results[0].boxes.xyxy.tolist()\n",
        "  return boxes"
      ],
      "metadata": {
        "id": "48e9Iurmujsn"
      },
      "execution_count": null,
      "outputs": []
    },
    {
      "cell_type": "code",
      "source": [
        "def calculate_center(x1, y1, x2, y2):\n",
        "    center_x = (x1 + x2) / 2\n",
        "    center_y = (y1 + y2) / 2\n",
        "    return (int(center_x), int(center_y))"
      ],
      "metadata": {
        "id": "2cbwLkRLMrEL"
      },
      "execution_count": null,
      "outputs": []
    },
    {
      "cell_type": "code",
      "source": [
        "df = pd.DataFrame(columns=['bbox', 'bbox_center', 'class_name'])\n",
        "video_path = \"/Pandas/MyDrive/football_position_detection/5_minutes.mp4\"\n",
        "cap = cv2.VideoCapture(video_path)\n",
        "total_frames = (cap.get(cv2.CAP_PROP_FRAME_COUNT))\n",
        "print(\"total_frames : \",total_frames)\n",
        "success,image = cap.read()\n",
        "\n",
        "c=0\n",
        "b_name=\"Frame\"\n",
        "while(True):\n",
        "  c=c+1\n",
        "  success,image_ = cap.read()\n",
        "  # cv2_imshow(image_)\n",
        "  if success == False:\n",
        "    break\n",
        "  indx=\"Frame_\"+str(c)\n",
        "  a=extract_bbox(image_)\n",
        "  # print(len(a))\n",
        "  if(len(a)==0):\n",
        "    df.loc[indx]=[None,None,None]\n",
        "  else:\n",
        "    print(\"$$$$$$$$$$$$$$$$$$$ \",a)\n",
        "    x1,y1,x2,y2=a[0]\n",
        "    # print(x1,y1,x2,y2)\n",
        "    bbox_c=calculate_center(x1,y1,x2,y2)\n",
        "    df.loc[indx]=[(int(x1), int(y1), int(x2), int(y2)),bbox_c,'football']\n",
        "\n"
      ],
      "metadata": {
        "id": "DoKWVZRTtBQl",
        "colab": {
          "base_uri": "https://localhost:8080/"
        },
        "outputId": "1abcc32f-e309-4119-8e26-70843c722268"
      },
      "execution_count": null,
      "outputs": [
        {
          "output_type": "stream",
          "name": "stdout",
          "text": [
            "\u001b[1;30;43mStreaming output truncated to the last 5000 lines.\u001b[0m\n",
            "\n",
            "0: 384x640 (no detections), 31.3ms\n",
            "Speed: 1.9ms preprocess, 31.3ms inference, 1.6ms postprocess per image at shape (1, 3, 384, 640)\n",
            "\n",
            "0: 384x640 (no detections), 34.5ms\n",
            "Speed: 2.3ms preprocess, 34.5ms inference, 1.7ms postprocess per image at shape (1, 3, 384, 640)\n",
            "\n",
            "0: 384x640 (no detections), 34.9ms\n",
            "Speed: 2.3ms preprocess, 34.9ms inference, 1.6ms postprocess per image at shape (1, 3, 384, 640)\n",
            "\n",
            "0: 384x640 (no detections), 38.4ms\n",
            "Speed: 1.9ms preprocess, 38.4ms inference, 2.0ms postprocess per image at shape (1, 3, 384, 640)\n",
            "\n",
            "0: 384x640 (no detections), 32.4ms\n",
            "Speed: 2.1ms preprocess, 32.4ms inference, 1.8ms postprocess per image at shape (1, 3, 384, 640)\n",
            "\n",
            "0: 384x640 1 football, 36.2ms\n",
            "Speed: 2.1ms preprocess, 36.2ms inference, 2.6ms postprocess per image at shape (1, 3, 384, 640)\n",
            "$$$$$$$$$$$$$$$$$$$  [[397.5006103515625, 63.83946228027344, 456.953369140625, 142.42514038085938]]\n",
            "\n",
            "0: 384x640 (no detections), 32.0ms\n",
            "Speed: 2.0ms preprocess, 32.0ms inference, 1.6ms postprocess per image at shape (1, 3, 384, 640)\n",
            "\n",
            "0: 384x640 (no detections), 40.1ms\n",
            "Speed: 2.0ms preprocess, 40.1ms inference, 1.7ms postprocess per image at shape (1, 3, 384, 640)\n",
            "\n",
            "0: 384x640 (no detections), 32.0ms\n",
            "Speed: 2.0ms preprocess, 32.0ms inference, 1.7ms postprocess per image at shape (1, 3, 384, 640)\n",
            "\n",
            "0: 384x640 (no detections), 34.3ms\n",
            "Speed: 2.7ms preprocess, 34.3ms inference, 1.7ms postprocess per image at shape (1, 3, 384, 640)\n",
            "\n",
            "0: 384x640 (no detections), 36.2ms\n",
            "Speed: 3.9ms preprocess, 36.2ms inference, 5.0ms postprocess per image at shape (1, 3, 384, 640)\n",
            "\n",
            "0: 384x640 (no detections), 33.0ms\n",
            "Speed: 2.9ms preprocess, 33.0ms inference, 3.2ms postprocess per image at shape (1, 3, 384, 640)\n",
            "\n",
            "0: 384x640 (no detections), 33.7ms\n",
            "Speed: 2.4ms preprocess, 33.7ms inference, 3.9ms postprocess per image at shape (1, 3, 384, 640)\n",
            "\n",
            "0: 384x640 (no detections), 33.3ms\n",
            "Speed: 2.1ms preprocess, 33.3ms inference, 1.7ms postprocess per image at shape (1, 3, 384, 640)\n",
            "\n",
            "0: 384x640 (no detections), 36.0ms\n",
            "Speed: 2.4ms preprocess, 36.0ms inference, 1.9ms postprocess per image at shape (1, 3, 384, 640)\n",
            "\n",
            "0: 384x640 (no detections), 33.6ms\n",
            "Speed: 2.4ms preprocess, 33.6ms inference, 1.8ms postprocess per image at shape (1, 3, 384, 640)\n",
            "\n",
            "0: 384x640 (no detections), 34.5ms\n",
            "Speed: 2.4ms preprocess, 34.5ms inference, 1.7ms postprocess per image at shape (1, 3, 384, 640)\n",
            "\n",
            "0: 384x640 (no detections), 36.5ms\n",
            "Speed: 2.1ms preprocess, 36.5ms inference, 1.6ms postprocess per image at shape (1, 3, 384, 640)\n",
            "\n",
            "0: 384x640 (no detections), 33.0ms\n",
            "Speed: 2.4ms preprocess, 33.0ms inference, 1.9ms postprocess per image at shape (1, 3, 384, 640)\n",
            "\n",
            "0: 384x640 (no detections), 39.0ms\n",
            "Speed: 2.2ms preprocess, 39.0ms inference, 1.7ms postprocess per image at shape (1, 3, 384, 640)\n",
            "\n",
            "0: 384x640 (no detections), 35.1ms\n",
            "Speed: 2.4ms preprocess, 35.1ms inference, 1.9ms postprocess per image at shape (1, 3, 384, 640)\n",
            "\n",
            "0: 384x640 (no detections), 33.6ms\n",
            "Speed: 2.4ms preprocess, 33.6ms inference, 1.9ms postprocess per image at shape (1, 3, 384, 640)\n",
            "\n",
            "0: 384x640 (no detections), 34.2ms\n",
            "Speed: 2.2ms preprocess, 34.2ms inference, 3.2ms postprocess per image at shape (1, 3, 384, 640)\n",
            "\n",
            "0: 384x640 (no detections), 37.1ms\n",
            "Speed: 1.9ms preprocess, 37.1ms inference, 1.9ms postprocess per image at shape (1, 3, 384, 640)\n",
            "\n",
            "0: 384x640 (no detections), 32.8ms\n",
            "Speed: 2.1ms preprocess, 32.8ms inference, 4.0ms postprocess per image at shape (1, 3, 384, 640)\n",
            "\n",
            "0: 384x640 (no detections), 34.1ms\n",
            "Speed: 2.1ms preprocess, 34.1ms inference, 1.6ms postprocess per image at shape (1, 3, 384, 640)\n",
            "\n",
            "0: 384x640 (no detections), 32.7ms\n",
            "Speed: 2.1ms preprocess, 32.7ms inference, 1.6ms postprocess per image at shape (1, 3, 384, 640)\n",
            "\n",
            "0: 384x640 (no detections), 33.1ms\n",
            "Speed: 2.0ms preprocess, 33.1ms inference, 1.9ms postprocess per image at shape (1, 3, 384, 640)\n",
            "\n",
            "0: 384x640 (no detections), 35.3ms\n",
            "Speed: 3.2ms preprocess, 35.3ms inference, 1.6ms postprocess per image at shape (1, 3, 384, 640)\n",
            "\n",
            "0: 384x640 (no detections), 34.0ms\n",
            "Speed: 4.8ms preprocess, 34.0ms inference, 2.0ms postprocess per image at shape (1, 3, 384, 640)\n",
            "\n",
            "0: 384x640 (no detections), 33.2ms\n",
            "Speed: 2.1ms preprocess, 33.2ms inference, 1.9ms postprocess per image at shape (1, 3, 384, 640)\n",
            "\n",
            "0: 384x640 (no detections), 34.0ms\n",
            "Speed: 2.3ms preprocess, 34.0ms inference, 2.0ms postprocess per image at shape (1, 3, 384, 640)\n",
            "\n",
            "0: 384x640 (no detections), 33.6ms\n",
            "Speed: 2.2ms preprocess, 33.6ms inference, 3.1ms postprocess per image at shape (1, 3, 384, 640)\n",
            "\n",
            "0: 384x640 (no detections), 31.4ms\n",
            "Speed: 3.9ms preprocess, 31.4ms inference, 1.8ms postprocess per image at shape (1, 3, 384, 640)\n",
            "\n",
            "0: 384x640 (no detections), 32.9ms\n",
            "Speed: 2.2ms preprocess, 32.9ms inference, 2.4ms postprocess per image at shape (1, 3, 384, 640)\n",
            "\n",
            "0: 384x640 (no detections), 31.9ms\n",
            "Speed: 2.1ms preprocess, 31.9ms inference, 1.8ms postprocess per image at shape (1, 3, 384, 640)\n",
            "\n",
            "0: 384x640 (no detections), 32.4ms\n",
            "Speed: 2.1ms preprocess, 32.4ms inference, 2.1ms postprocess per image at shape (1, 3, 384, 640)\n",
            "\n",
            "0: 384x640 (no detections), 31.4ms\n",
            "Speed: 4.1ms preprocess, 31.4ms inference, 2.2ms postprocess per image at shape (1, 3, 384, 640)\n",
            "\n",
            "0: 384x640 (no detections), 32.1ms\n",
            "Speed: 2.3ms preprocess, 32.1ms inference, 2.1ms postprocess per image at shape (1, 3, 384, 640)\n",
            "\n",
            "0: 384x640 (no detections), 34.9ms\n",
            "Speed: 2.2ms preprocess, 34.9ms inference, 3.7ms postprocess per image at shape (1, 3, 384, 640)\n",
            "\n",
            "0: 384x640 (no detections), 34.2ms\n",
            "Speed: 2.4ms preprocess, 34.2ms inference, 2.4ms postprocess per image at shape (1, 3, 384, 640)\n",
            "\n",
            "0: 384x640 (no detections), 36.0ms\n",
            "Speed: 2.1ms preprocess, 36.0ms inference, 1.8ms postprocess per image at shape (1, 3, 384, 640)\n",
            "\n",
            "0: 384x640 (no detections), 34.3ms\n",
            "Speed: 2.2ms preprocess, 34.3ms inference, 1.8ms postprocess per image at shape (1, 3, 384, 640)\n",
            "\n",
            "0: 384x640 (no detections), 35.0ms\n",
            "Speed: 2.1ms preprocess, 35.0ms inference, 1.7ms postprocess per image at shape (1, 3, 384, 640)\n",
            "\n",
            "0: 384x640 1 football, 36.3ms\n",
            "Speed: 2.1ms preprocess, 36.3ms inference, 2.8ms postprocess per image at shape (1, 3, 384, 640)\n",
            "$$$$$$$$$$$$$$$$$$$  [[26.37213134765625, 99.28225708007812, 147.46246337890625, 317.4790954589844]]\n",
            "\n",
            "0: 384x640 (no detections), 34.4ms\n",
            "Speed: 2.1ms preprocess, 34.4ms inference, 1.8ms postprocess per image at shape (1, 3, 384, 640)\n",
            "\n",
            "0: 384x640 (no detections), 33.3ms\n",
            "Speed: 2.3ms preprocess, 33.3ms inference, 2.1ms postprocess per image at shape (1, 3, 384, 640)\n",
            "\n",
            "0: 384x640 (no detections), 34.6ms\n",
            "Speed: 2.0ms preprocess, 34.6ms inference, 2.3ms postprocess per image at shape (1, 3, 384, 640)\n",
            "\n",
            "0: 384x640 (no detections), 32.8ms\n",
            "Speed: 2.5ms preprocess, 32.8ms inference, 1.8ms postprocess per image at shape (1, 3, 384, 640)\n",
            "\n",
            "0: 384x640 (no detections), 34.2ms\n",
            "Speed: 2.0ms preprocess, 34.2ms inference, 1.8ms postprocess per image at shape (1, 3, 384, 640)\n",
            "\n",
            "0: 384x640 (no detections), 35.0ms\n",
            "Speed: 2.2ms preprocess, 35.0ms inference, 1.7ms postprocess per image at shape (1, 3, 384, 640)\n",
            "\n",
            "0: 384x640 (no detections), 33.6ms\n",
            "Speed: 2.3ms preprocess, 33.6ms inference, 1.7ms postprocess per image at shape (1, 3, 384, 640)\n",
            "\n",
            "0: 384x640 (no detections), 34.5ms\n",
            "Speed: 2.2ms preprocess, 34.5ms inference, 1.9ms postprocess per image at shape (1, 3, 384, 640)\n",
            "\n",
            "0: 384x640 (no detections), 33.8ms\n",
            "Speed: 2.1ms preprocess, 33.8ms inference, 2.3ms postprocess per image at shape (1, 3, 384, 640)\n",
            "\n",
            "0: 384x640 (no detections), 34.7ms\n",
            "Speed: 2.1ms preprocess, 34.7ms inference, 2.1ms postprocess per image at shape (1, 3, 384, 640)\n",
            "\n",
            "0: 384x640 (no detections), 33.0ms\n",
            "Speed: 2.2ms preprocess, 33.0ms inference, 1.7ms postprocess per image at shape (1, 3, 384, 640)\n",
            "\n",
            "0: 384x640 (no detections), 34.0ms\n",
            "Speed: 2.2ms preprocess, 34.0ms inference, 2.0ms postprocess per image at shape (1, 3, 384, 640)\n",
            "\n",
            "0: 384x640 (no detections), 32.8ms\n",
            "Speed: 2.2ms preprocess, 32.8ms inference, 2.2ms postprocess per image at shape (1, 3, 384, 640)\n",
            "\n",
            "0: 384x640 (no detections), 39.5ms\n",
            "Speed: 2.0ms preprocess, 39.5ms inference, 2.1ms postprocess per image at shape (1, 3, 384, 640)\n",
            "\n",
            "0: 384x640 (no detections), 33.1ms\n",
            "Speed: 2.8ms preprocess, 33.1ms inference, 1.9ms postprocess per image at shape (1, 3, 384, 640)\n",
            "\n",
            "0: 384x640 1 football, 35.8ms\n",
            "Speed: 2.0ms preprocess, 35.8ms inference, 2.8ms postprocess per image at shape (1, 3, 384, 640)\n",
            "$$$$$$$$$$$$$$$$$$$  [[308.01556396484375, 300.49822998046875, 330.95233154296875, 346.16851806640625]]\n",
            "\n",
            "0: 384x640 1 football, 32.4ms\n",
            "Speed: 2.0ms preprocess, 32.4ms inference, 2.2ms postprocess per image at shape (1, 3, 384, 640)\n",
            "$$$$$$$$$$$$$$$$$$$  [[309.218994140625, 288.66650390625, 329.923095703125, 333.6201171875]]\n",
            "\n",
            "0: 384x640 (no detections), 35.0ms\n",
            "Speed: 2.3ms preprocess, 35.0ms inference, 2.1ms postprocess per image at shape (1, 3, 384, 640)\n",
            "\n",
            "0: 384x640 (no detections), 34.6ms\n",
            "Speed: 2.2ms preprocess, 34.6ms inference, 1.6ms postprocess per image at shape (1, 3, 384, 640)\n",
            "\n",
            "0: 384x640 (no detections), 33.1ms\n",
            "Speed: 2.1ms preprocess, 33.1ms inference, 1.7ms postprocess per image at shape (1, 3, 384, 640)\n",
            "\n",
            "0: 384x640 (no detections), 35.4ms\n",
            "Speed: 2.2ms preprocess, 35.4ms inference, 1.3ms postprocess per image at shape (1, 3, 384, 640)\n",
            "\n",
            "0: 384x640 1 football, 34.8ms\n",
            "Speed: 2.4ms preprocess, 34.8ms inference, 2.1ms postprocess per image at shape (1, 3, 384, 640)\n",
            "$$$$$$$$$$$$$$$$$$$  [[834.3177490234375, 217.135986328125, 887.4163818359375, 298.26031494140625]]\n",
            "\n",
            "0: 384x640 (no detections), 33.3ms\n",
            "Speed: 2.1ms preprocess, 33.3ms inference, 1.3ms postprocess per image at shape (1, 3, 384, 640)\n",
            "\n",
            "0: 384x640 (no detections), 35.1ms\n",
            "Speed: 2.1ms preprocess, 35.1ms inference, 1.5ms postprocess per image at shape (1, 3, 384, 640)\n",
            "\n",
            "0: 384x640 (no detections), 34.7ms\n",
            "Speed: 3.5ms preprocess, 34.7ms inference, 1.3ms postprocess per image at shape (1, 3, 384, 640)\n",
            "\n",
            "0: 384x640 (no detections), 32.7ms\n",
            "Speed: 2.4ms preprocess, 32.7ms inference, 1.3ms postprocess per image at shape (1, 3, 384, 640)\n",
            "\n",
            "0: 384x640 (no detections), 34.4ms\n",
            "Speed: 2.0ms preprocess, 34.4ms inference, 1.4ms postprocess per image at shape (1, 3, 384, 640)\n",
            "\n",
            "0: 384x640 (no detections), 33.5ms\n",
            "Speed: 2.0ms preprocess, 33.5ms inference, 3.3ms postprocess per image at shape (1, 3, 384, 640)\n",
            "\n",
            "0: 384x640 (no detections), 31.9ms\n",
            "Speed: 2.3ms preprocess, 31.9ms inference, 1.5ms postprocess per image at shape (1, 3, 384, 640)\n",
            "\n",
            "0: 384x640 (no detections), 35.0ms\n",
            "Speed: 2.7ms preprocess, 35.0ms inference, 1.4ms postprocess per image at shape (1, 3, 384, 640)\n",
            "\n",
            "0: 384x640 (no detections), 33.8ms\n",
            "Speed: 2.0ms preprocess, 33.8ms inference, 1.4ms postprocess per image at shape (1, 3, 384, 640)\n",
            "\n",
            "0: 384x640 (no detections), 32.9ms\n",
            "Speed: 2.3ms preprocess, 32.9ms inference, 1.9ms postprocess per image at shape (1, 3, 384, 640)\n",
            "\n",
            "0: 384x640 (no detections), 32.2ms\n",
            "Speed: 2.0ms preprocess, 32.2ms inference, 1.3ms postprocess per image at shape (1, 3, 384, 640)\n",
            "\n",
            "0: 384x640 (no detections), 32.3ms\n",
            "Speed: 2.1ms preprocess, 32.3ms inference, 1.3ms postprocess per image at shape (1, 3, 384, 640)\n",
            "\n",
            "0: 384x640 (no detections), 33.4ms\n",
            "Speed: 1.8ms preprocess, 33.4ms inference, 1.4ms postprocess per image at shape (1, 3, 384, 640)\n",
            "\n",
            "0: 384x640 (no detections), 35.2ms\n",
            "Speed: 3.1ms preprocess, 35.2ms inference, 2.3ms postprocess per image at shape (1, 3, 384, 640)\n",
            "\n",
            "0: 384x640 1 football, 33.3ms\n",
            "Speed: 2.4ms preprocess, 33.3ms inference, 2.1ms postprocess per image at shape (1, 3, 384, 640)\n",
            "$$$$$$$$$$$$$$$$$$$  [[1104.9468994140625, 88.70252227783203, 1164.2034912109375, 195.28125]]\n",
            "\n",
            "0: 384x640 (no detections), 33.7ms\n",
            "Speed: 2.2ms preprocess, 33.7ms inference, 1.3ms postprocess per image at shape (1, 3, 384, 640)\n",
            "\n",
            "0: 384x640 1 football, 34.1ms\n",
            "Speed: 2.3ms preprocess, 34.1ms inference, 2.1ms postprocess per image at shape (1, 3, 384, 640)\n",
            "$$$$$$$$$$$$$$$$$$$  [[1140.035400390625, 144.43490600585938, 1176.871826171875, 218.37551879882812]]\n",
            "\n",
            "0: 384x640 1 football, 33.1ms\n",
            "Speed: 1.9ms preprocess, 33.1ms inference, 2.1ms postprocess per image at shape (1, 3, 384, 640)\n",
            "$$$$$$$$$$$$$$$$$$$  [[1148.6717529296875, 174.33477783203125, 1181.9539794921875, 257.964111328125]]\n",
            "\n",
            "0: 384x640 (no detections), 32.1ms\n",
            "Speed: 2.3ms preprocess, 32.1ms inference, 1.3ms postprocess per image at shape (1, 3, 384, 640)\n",
            "\n",
            "0: 384x640 1 football, 33.8ms\n",
            "Speed: 2.1ms preprocess, 33.8ms inference, 2.4ms postprocess per image at shape (1, 3, 384, 640)\n",
            "$$$$$$$$$$$$$$$$$$$  [[672.2130737304688, 147.01712036132812, 747.8003540039062, 259.9661865234375]]\n",
            "\n",
            "0: 384x640 (no detections), 31.5ms\n",
            "Speed: 2.3ms preprocess, 31.5ms inference, 1.4ms postprocess per image at shape (1, 3, 384, 640)\n",
            "\n",
            "0: 384x640 1 football, 33.8ms\n",
            "Speed: 2.4ms preprocess, 33.8ms inference, 2.2ms postprocess per image at shape (1, 3, 384, 640)\n",
            "$$$$$$$$$$$$$$$$$$$  [[638.9356689453125, 342.802490234375, 675.7542724609375, 412.1580810546875]]\n",
            "\n",
            "0: 384x640 (no detections), 32.1ms\n",
            "Speed: 2.1ms preprocess, 32.1ms inference, 1.2ms postprocess per image at shape (1, 3, 384, 640)\n",
            "\n",
            "0: 384x640 (no detections), 33.6ms\n",
            "Speed: 2.4ms preprocess, 33.6ms inference, 1.3ms postprocess per image at shape (1, 3, 384, 640)\n",
            "\n",
            "0: 384x640 (no detections), 35.3ms\n",
            "Speed: 2.0ms preprocess, 35.3ms inference, 1.5ms postprocess per image at shape (1, 3, 384, 640)\n",
            "\n",
            "0: 384x640 (no detections), 35.2ms\n",
            "Speed: 2.1ms preprocess, 35.2ms inference, 2.1ms postprocess per image at shape (1, 3, 384, 640)\n",
            "\n",
            "0: 384x640 1 football, 34.2ms\n",
            "Speed: 2.2ms preprocess, 34.2ms inference, 4.3ms postprocess per image at shape (1, 3, 384, 640)\n",
            "$$$$$$$$$$$$$$$$$$$  [[669.5484619140625, 395.7275390625, 706.6436767578125, 461.9766845703125]]\n",
            "\n",
            "0: 384x640 1 football, 33.9ms\n",
            "Speed: 1.9ms preprocess, 33.9ms inference, 2.0ms postprocess per image at shape (1, 3, 384, 640)\n",
            "$$$$$$$$$$$$$$$$$$$  [[686.313720703125, 367.2572937011719, 720.33154296875, 440.9216003417969]]\n",
            "\n",
            "0: 384x640 (no detections), 32.8ms\n",
            "Speed: 2.3ms preprocess, 32.8ms inference, 1.3ms postprocess per image at shape (1, 3, 384, 640)\n",
            "\n",
            "0: 384x640 (no detections), 34.1ms\n",
            "Speed: 2.3ms preprocess, 34.1ms inference, 1.3ms postprocess per image at shape (1, 3, 384, 640)\n",
            "\n",
            "0: 384x640 (no detections), 33.0ms\n",
            "Speed: 2.2ms preprocess, 33.0ms inference, 2.5ms postprocess per image at shape (1, 3, 384, 640)\n",
            "\n",
            "0: 384x640 (no detections), 34.5ms\n",
            "Speed: 2.5ms preprocess, 34.5ms inference, 1.3ms postprocess per image at shape (1, 3, 384, 640)\n",
            "\n",
            "0: 384x640 (no detections), 33.6ms\n",
            "Speed: 2.3ms preprocess, 33.6ms inference, 1.4ms postprocess per image at shape (1, 3, 384, 640)\n",
            "\n",
            "0: 384x640 (no detections), 33.8ms\n",
            "Speed: 2.6ms preprocess, 33.8ms inference, 1.3ms postprocess per image at shape (1, 3, 384, 640)\n",
            "\n",
            "0: 384x640 (no detections), 33.1ms\n",
            "Speed: 2.3ms preprocess, 33.1ms inference, 1.4ms postprocess per image at shape (1, 3, 384, 640)\n",
            "\n",
            "0: 384x640 (no detections), 32.8ms\n",
            "Speed: 2.3ms preprocess, 32.8ms inference, 1.3ms postprocess per image at shape (1, 3, 384, 640)\n",
            "\n",
            "0: 384x640 (no detections), 32.9ms\n",
            "Speed: 2.3ms preprocess, 32.9ms inference, 1.4ms postprocess per image at shape (1, 3, 384, 640)\n",
            "\n",
            "0: 384x640 (no detections), 32.2ms\n",
            "Speed: 2.2ms preprocess, 32.2ms inference, 1.4ms postprocess per image at shape (1, 3, 384, 640)\n",
            "\n",
            "0: 384x640 (no detections), 32.3ms\n",
            "Speed: 9.3ms preprocess, 32.3ms inference, 1.4ms postprocess per image at shape (1, 3, 384, 640)\n",
            "\n",
            "0: 384x640 1 football, 34.1ms\n",
            "Speed: 2.1ms preprocess, 34.1ms inference, 2.4ms postprocess per image at shape (1, 3, 384, 640)\n",
            "$$$$$$$$$$$$$$$$$$$  [[278.36773681640625, 281.8050537109375, 338.68731689453125, 379.191162109375]]\n",
            "\n",
            "0: 384x640 (no detections), 32.8ms\n",
            "Speed: 2.2ms preprocess, 32.8ms inference, 1.6ms postprocess per image at shape (1, 3, 384, 640)\n",
            "\n",
            "0: 384x640 (no detections), 34.5ms\n",
            "Speed: 2.0ms preprocess, 34.5ms inference, 1.6ms postprocess per image at shape (1, 3, 384, 640)\n",
            "\n",
            "0: 384x640 (no detections), 33.3ms\n",
            "Speed: 2.3ms preprocess, 33.3ms inference, 2.1ms postprocess per image at shape (1, 3, 384, 640)\n",
            "\n",
            "0: 384x640 (no detections), 33.0ms\n",
            "Speed: 3.6ms preprocess, 33.0ms inference, 1.3ms postprocess per image at shape (1, 3, 384, 640)\n",
            "\n",
            "0: 384x640 (no detections), 32.6ms\n",
            "Speed: 2.0ms preprocess, 32.6ms inference, 1.4ms postprocess per image at shape (1, 3, 384, 640)\n",
            "\n",
            "0: 384x640 (no detections), 33.8ms\n",
            "Speed: 2.0ms preprocess, 33.8ms inference, 1.4ms postprocess per image at shape (1, 3, 384, 640)\n",
            "\n",
            "0: 384x640 1 football, 32.7ms\n",
            "Speed: 4.3ms preprocess, 32.7ms inference, 2.3ms postprocess per image at shape (1, 3, 384, 640)\n",
            "$$$$$$$$$$$$$$$$$$$  [[615.2874755859375, 271.8458557128906, 689.1763916015625, 369.4298400878906]]\n",
            "\n",
            "0: 384x640 1 football, 34.3ms\n",
            "Speed: 4.5ms preprocess, 34.3ms inference, 3.1ms postprocess per image at shape (1, 3, 384, 640)\n",
            "$$$$$$$$$$$$$$$$$$$  [[641.365234375, 298.27069091796875, 714.822265625, 401.93475341796875]]\n",
            "\n",
            "0: 384x640 (no detections), 34.2ms\n",
            "Speed: 1.9ms preprocess, 34.2ms inference, 1.6ms postprocess per image at shape (1, 3, 384, 640)\n",
            "\n",
            "0: 384x640 (no detections), 33.0ms\n",
            "Speed: 4.9ms preprocess, 33.0ms inference, 1.4ms postprocess per image at shape (1, 3, 384, 640)\n",
            "\n",
            "0: 384x640 (no detections), 32.1ms\n",
            "Speed: 1.8ms preprocess, 32.1ms inference, 1.5ms postprocess per image at shape (1, 3, 384, 640)\n",
            "\n",
            "0: 384x640 (no detections), 33.4ms\n",
            "Speed: 2.2ms preprocess, 33.4ms inference, 1.6ms postprocess per image at shape (1, 3, 384, 640)\n",
            "\n",
            "0: 384x640 (no detections), 34.2ms\n",
            "Speed: 6.9ms preprocess, 34.2ms inference, 1.4ms postprocess per image at shape (1, 3, 384, 640)\n",
            "\n",
            "0: 384x640 (no detections), 33.7ms\n",
            "Speed: 2.2ms preprocess, 33.7ms inference, 1.4ms postprocess per image at shape (1, 3, 384, 640)\n",
            "\n",
            "0: 384x640 (no detections), 34.5ms\n",
            "Speed: 2.2ms preprocess, 34.5ms inference, 1.4ms postprocess per image at shape (1, 3, 384, 640)\n",
            "\n",
            "0: 384x640 (no detections), 34.1ms\n",
            "Speed: 2.1ms preprocess, 34.1ms inference, 1.5ms postprocess per image at shape (1, 3, 384, 640)\n",
            "\n",
            "0: 384x640 (no detections), 33.4ms\n",
            "Speed: 2.0ms preprocess, 33.4ms inference, 1.3ms postprocess per image at shape (1, 3, 384, 640)\n",
            "\n",
            "0: 384x640 (no detections), 33.9ms\n",
            "Speed: 2.0ms preprocess, 33.9ms inference, 3.3ms postprocess per image at shape (1, 3, 384, 640)\n",
            "\n",
            "0: 384x640 (no detections), 33.2ms\n",
            "Speed: 2.5ms preprocess, 33.2ms inference, 1.3ms postprocess per image at shape (1, 3, 384, 640)\n",
            "\n",
            "0: 384x640 (no detections), 35.0ms\n",
            "Speed: 2.5ms preprocess, 35.0ms inference, 1.6ms postprocess per image at shape (1, 3, 384, 640)\n",
            "\n",
            "0: 384x640 (no detections), 33.2ms\n",
            "Speed: 2.2ms preprocess, 33.2ms inference, 1.3ms postprocess per image at shape (1, 3, 384, 640)\n",
            "\n",
            "0: 384x640 (no detections), 33.0ms\n",
            "Speed: 2.1ms preprocess, 33.0ms inference, 1.3ms postprocess per image at shape (1, 3, 384, 640)\n",
            "\n",
            "0: 384x640 (no detections), 34.0ms\n",
            "Speed: 2.2ms preprocess, 34.0ms inference, 1.5ms postprocess per image at shape (1, 3, 384, 640)\n",
            "\n",
            "0: 384x640 (no detections), 34.3ms\n",
            "Speed: 2.0ms preprocess, 34.3ms inference, 1.6ms postprocess per image at shape (1, 3, 384, 640)\n",
            "\n",
            "0: 384x640 (no detections), 35.0ms\n",
            "Speed: 2.3ms preprocess, 35.0ms inference, 1.4ms postprocess per image at shape (1, 3, 384, 640)\n",
            "\n",
            "0: 384x640 (no detections), 33.3ms\n",
            "Speed: 2.1ms preprocess, 33.3ms inference, 1.7ms postprocess per image at shape (1, 3, 384, 640)\n",
            "\n",
            "0: 384x640 (no detections), 32.8ms\n",
            "Speed: 2.3ms preprocess, 32.8ms inference, 1.4ms postprocess per image at shape (1, 3, 384, 640)\n",
            "\n",
            "0: 384x640 (no detections), 33.9ms\n",
            "Speed: 2.2ms preprocess, 33.9ms inference, 1.3ms postprocess per image at shape (1, 3, 384, 640)\n",
            "\n",
            "0: 384x640 1 football, 34.3ms\n",
            "Speed: 2.1ms preprocess, 34.3ms inference, 2.1ms postprocess per image at shape (1, 3, 384, 640)\n",
            "$$$$$$$$$$$$$$$$$$$  [[823.9244384765625, 504.705078125, 854.2545166015625, 558.470947265625]]\n",
            "\n",
            "0: 384x640 (no detections), 34.4ms\n",
            "Speed: 1.9ms preprocess, 34.4ms inference, 1.3ms postprocess per image at shape (1, 3, 384, 640)\n",
            "\n",
            "0: 384x640 (no detections), 34.6ms\n",
            "Speed: 3.3ms preprocess, 34.6ms inference, 1.4ms postprocess per image at shape (1, 3, 384, 640)\n",
            "\n",
            "0: 384x640 1 football, 32.5ms\n",
            "Speed: 3.0ms preprocess, 32.5ms inference, 2.1ms postprocess per image at shape (1, 3, 384, 640)\n",
            "$$$$$$$$$$$$$$$$$$$  [[444.43798828125, 538.8097534179688, 470.9027099609375, 597.8009643554688]]\n",
            "\n",
            "0: 384x640 (no detections), 32.5ms\n",
            "Speed: 1.9ms preprocess, 32.5ms inference, 1.3ms postprocess per image at shape (1, 3, 384, 640)\n",
            "\n",
            "0: 384x640 (no detections), 32.3ms\n",
            "Speed: 5.8ms preprocess, 32.3ms inference, 1.4ms postprocess per image at shape (1, 3, 384, 640)\n",
            "\n",
            "0: 384x640 (no detections), 36.0ms\n",
            "Speed: 2.1ms preprocess, 36.0ms inference, 1.4ms postprocess per image at shape (1, 3, 384, 640)\n",
            "\n",
            "0: 384x640 (no detections), 35.2ms\n",
            "Speed: 2.1ms preprocess, 35.2ms inference, 1.3ms postprocess per image at shape (1, 3, 384, 640)\n",
            "\n",
            "0: 384x640 1 football, 32.9ms\n",
            "Speed: 2.2ms preprocess, 32.9ms inference, 2.2ms postprocess per image at shape (1, 3, 384, 640)\n",
            "$$$$$$$$$$$$$$$$$$$  [[705.3007202148438, 23.132003784179688, 798.8932495117188, 145.17947387695312]]\n",
            "\n",
            "0: 384x640 (no detections), 32.4ms\n",
            "Speed: 2.2ms preprocess, 32.4ms inference, 1.5ms postprocess per image at shape (1, 3, 384, 640)\n",
            "\n",
            "0: 384x640 (no detections), 32.2ms\n",
            "Speed: 2.2ms preprocess, 32.2ms inference, 2.5ms postprocess per image at shape (1, 3, 384, 640)\n",
            "\n",
            "0: 384x640 (no detections), 32.0ms\n",
            "Speed: 2.8ms preprocess, 32.0ms inference, 1.3ms postprocess per image at shape (1, 3, 384, 640)\n",
            "\n",
            "0: 384x640 (no detections), 33.0ms\n",
            "Speed: 3.9ms preprocess, 33.0ms inference, 1.4ms postprocess per image at shape (1, 3, 384, 640)\n",
            "\n",
            "0: 384x640 (no detections), 36.7ms\n",
            "Speed: 2.7ms preprocess, 36.7ms inference, 1.4ms postprocess per image at shape (1, 3, 384, 640)\n",
            "\n",
            "0: 384x640 (no detections), 34.1ms\n",
            "Speed: 2.1ms preprocess, 34.1ms inference, 1.8ms postprocess per image at shape (1, 3, 384, 640)\n",
            "\n",
            "0: 384x640 (no detections), 36.3ms\n",
            "Speed: 2.0ms preprocess, 36.3ms inference, 1.4ms postprocess per image at shape (1, 3, 384, 640)\n",
            "\n",
            "0: 384x640 (no detections), 33.4ms\n",
            "Speed: 2.1ms preprocess, 33.4ms inference, 1.3ms postprocess per image at shape (1, 3, 384, 640)\n",
            "\n",
            "0: 384x640 (no detections), 34.0ms\n",
            "Speed: 2.1ms preprocess, 34.0ms inference, 1.4ms postprocess per image at shape (1, 3, 384, 640)\n",
            "\n",
            "0: 384x640 (no detections), 34.1ms\n",
            "Speed: 2.4ms preprocess, 34.1ms inference, 1.3ms postprocess per image at shape (1, 3, 384, 640)\n",
            "\n",
            "0: 384x640 (no detections), 32.8ms\n",
            "Speed: 1.9ms preprocess, 32.8ms inference, 1.4ms postprocess per image at shape (1, 3, 384, 640)\n",
            "\n",
            "0: 384x640 (no detections), 33.1ms\n",
            "Speed: 2.1ms preprocess, 33.1ms inference, 1.4ms postprocess per image at shape (1, 3, 384, 640)\n",
            "\n",
            "0: 384x640 (no detections), 33.8ms\n",
            "Speed: 2.1ms preprocess, 33.8ms inference, 1.3ms postprocess per image at shape (1, 3, 384, 640)\n",
            "\n",
            "0: 384x640 (no detections), 34.7ms\n",
            "Speed: 2.2ms preprocess, 34.7ms inference, 1.3ms postprocess per image at shape (1, 3, 384, 640)\n",
            "\n",
            "0: 384x640 (no detections), 34.7ms\n",
            "Speed: 2.0ms preprocess, 34.7ms inference, 1.7ms postprocess per image at shape (1, 3, 384, 640)\n",
            "\n",
            "0: 384x640 (no detections), 34.6ms\n",
            "Speed: 2.0ms preprocess, 34.6ms inference, 1.4ms postprocess per image at shape (1, 3, 384, 640)\n",
            "\n",
            "0: 384x640 (no detections), 33.9ms\n",
            "Speed: 7.7ms preprocess, 33.9ms inference, 1.4ms postprocess per image at shape (1, 3, 384, 640)\n",
            "\n",
            "0: 384x640 (no detections), 33.1ms\n",
            "Speed: 2.7ms preprocess, 33.1ms inference, 1.4ms postprocess per image at shape (1, 3, 384, 640)\n",
            "\n",
            "0: 384x640 (no detections), 33.5ms\n",
            "Speed: 2.1ms preprocess, 33.5ms inference, 1.4ms postprocess per image at shape (1, 3, 384, 640)\n",
            "\n",
            "0: 384x640 (no detections), 34.1ms\n",
            "Speed: 2.3ms preprocess, 34.1ms inference, 1.5ms postprocess per image at shape (1, 3, 384, 640)\n",
            "\n",
            "0: 384x640 (no detections), 35.2ms\n",
            "Speed: 2.6ms preprocess, 35.2ms inference, 1.5ms postprocess per image at shape (1, 3, 384, 640)\n",
            "\n",
            "0: 384x640 (no detections), 33.9ms\n",
            "Speed: 2.1ms preprocess, 33.9ms inference, 1.5ms postprocess per image at shape (1, 3, 384, 640)\n",
            "\n",
            "0: 384x640 (no detections), 34.3ms\n",
            "Speed: 2.1ms preprocess, 34.3ms inference, 1.4ms postprocess per image at shape (1, 3, 384, 640)\n",
            "\n",
            "0: 384x640 (no detections), 33.8ms\n",
            "Speed: 2.1ms preprocess, 33.8ms inference, 1.4ms postprocess per image at shape (1, 3, 384, 640)\n",
            "\n",
            "0: 384x640 (no detections), 32.6ms\n",
            "Speed: 2.1ms preprocess, 32.6ms inference, 1.3ms postprocess per image at shape (1, 3, 384, 640)\n",
            "\n",
            "0: 384x640 (no detections), 33.4ms\n",
            "Speed: 2.4ms preprocess, 33.4ms inference, 1.6ms postprocess per image at shape (1, 3, 384, 640)\n",
            "\n",
            "0: 384x640 (no detections), 35.0ms\n",
            "Speed: 2.5ms preprocess, 35.0ms inference, 1.4ms postprocess per image at shape (1, 3, 384, 640)\n",
            "\n",
            "0: 384x640 (no detections), 34.6ms\n",
            "Speed: 2.1ms preprocess, 34.6ms inference, 1.4ms postprocess per image at shape (1, 3, 384, 640)\n",
            "\n",
            "0: 384x640 (no detections), 33.5ms\n",
            "Speed: 5.6ms preprocess, 33.5ms inference, 1.4ms postprocess per image at shape (1, 3, 384, 640)\n",
            "\n",
            "0: 384x640 1 football, 36.3ms\n",
            "Speed: 2.3ms preprocess, 36.3ms inference, 3.2ms postprocess per image at shape (1, 3, 384, 640)\n",
            "$$$$$$$$$$$$$$$$$$$  [[570.2293701171875, 0.0, 679.4351806640625, 80.00151062011719]]\n",
            "\n",
            "0: 384x640 2 footballs, 34.2ms\n",
            "Speed: 2.2ms preprocess, 34.2ms inference, 3.0ms postprocess per image at shape (1, 3, 384, 640)\n",
            "$$$$$$$$$$$$$$$$$$$  [[578.5584716796875, 0.0, 678.0245361328125, 86.02267456054688], [579.1546630859375, 0.0, 638.3358154296875, 77.52330017089844]]\n",
            "\n",
            "0: 384x640 1 football, 33.2ms\n",
            "Speed: 2.3ms preprocess, 33.2ms inference, 2.1ms postprocess per image at shape (1, 3, 384, 640)\n",
            "$$$$$$$$$$$$$$$$$$$  [[576.7940063476562, 0.0, 679.3499145507812, 101.06182098388672]]\n",
            "\n",
            "0: 384x640 2 footballs, 34.8ms\n",
            "Speed: 2.0ms preprocess, 34.8ms inference, 2.0ms postprocess per image at shape (1, 3, 384, 640)\n",
            "$$$$$$$$$$$$$$$$$$$  [[577.6505126953125, 0.0, 676.8819580078125, 117.46630859375], [579.2513427734375, 0.0, 650.359375, 107.57533264160156]]\n",
            "\n",
            "0: 384x640 1 football, 32.8ms\n",
            "Speed: 2.2ms preprocess, 32.8ms inference, 2.1ms postprocess per image at shape (1, 3, 384, 640)\n",
            "$$$$$$$$$$$$$$$$$$$  [[582.2342529296875, 9.3388671875, 627.2869873046875, 106.2403564453125]]\n",
            "\n",
            "0: 384x640 2 footballs, 34.4ms\n",
            "Speed: 2.1ms preprocess, 34.4ms inference, 2.2ms postprocess per image at shape (1, 3, 384, 640)\n",
            "$$$$$$$$$$$$$$$$$$$  [[578.8641967773438, 15.645675659179688, 672.7396850585938, 130.24508666992188], [223.73568725585938, 673.44140625, 244.34884643554688, 720.0]]\n",
            "\n",
            "0: 384x640 1 football, 34.2ms\n",
            "Speed: 1.9ms preprocess, 34.2ms inference, 2.1ms postprocess per image at shape (1, 3, 384, 640)\n",
            "$$$$$$$$$$$$$$$$$$$  [[580.6979370117188, 19.006916046142578, 669.4518432617188, 136.92481994628906]]\n",
            "\n",
            "0: 384x640 1 football, 34.2ms\n",
            "Speed: 2.0ms preprocess, 34.2ms inference, 2.1ms postprocess per image at shape (1, 3, 384, 640)\n",
            "$$$$$$$$$$$$$$$$$$$  [[573.83984375, 31.946781158447266, 671.22412109375, 152.93936157226562]]\n",
            "\n",
            "0: 384x640 1 football, 35.9ms\n",
            "Speed: 1.9ms preprocess, 35.9ms inference, 2.3ms postprocess per image at shape (1, 3, 384, 640)\n",
            "$$$$$$$$$$$$$$$$$$$  [[570.9698486328125, 38.455074310302734, 669.4454345703125, 160.3564453125]]\n",
            "\n",
            "0: 384x640 (no detections), 33.1ms\n",
            "Speed: 2.1ms preprocess, 33.1ms inference, 2.9ms postprocess per image at shape (1, 3, 384, 640)\n",
            "\n",
            "0: 384x640 1 football, 33.7ms\n",
            "Speed: 2.2ms preprocess, 33.7ms inference, 2.4ms postprocess per image at shape (1, 3, 384, 640)\n",
            "$$$$$$$$$$$$$$$$$$$  [[567.0716552734375, 61.8819580078125, 667.5145263671875, 183.70193481445312]]\n",
            "\n",
            "0: 384x640 (no detections), 33.2ms\n",
            "Speed: 1.7ms preprocess, 33.2ms inference, 2.7ms postprocess per image at shape (1, 3, 384, 640)\n",
            "\n",
            "0: 384x640 1 football, 33.1ms\n",
            "Speed: 2.1ms preprocess, 33.1ms inference, 2.1ms postprocess per image at shape (1, 3, 384, 640)\n",
            "$$$$$$$$$$$$$$$$$$$  [[568.74267578125, 86.0756607055664, 665.02490234375, 206.75466918945312]]\n",
            "\n",
            "0: 384x640 1 football, 34.1ms\n",
            "Speed: 2.1ms preprocess, 34.1ms inference, 2.4ms postprocess per image at shape (1, 3, 384, 640)\n",
            "$$$$$$$$$$$$$$$$$$$  [[567.423828125, 97.29610443115234, 664.863037109375, 220.56173706054688]]\n",
            "\n",
            "0: 384x640 1 football, 33.5ms\n",
            "Speed: 2.7ms preprocess, 33.5ms inference, 2.3ms postprocess per image at shape (1, 3, 384, 640)\n",
            "$$$$$$$$$$$$$$$$$$$  [[567.5299072265625, 110.8380126953125, 663.1351318359375, 225.5631103515625]]\n",
            "\n",
            "0: 384x640 1 football, 31.6ms\n",
            "Speed: 2.3ms preprocess, 31.6ms inference, 2.0ms postprocess per image at shape (1, 3, 384, 640)\n",
            "$$$$$$$$$$$$$$$$$$$  [[570.0184326171875, 127.5220947265625, 663.256591796875, 254.962646484375]]\n",
            "\n",
            "0: 384x640 1 football, 34.8ms\n",
            "Speed: 2.3ms preprocess, 34.8ms inference, 2.1ms postprocess per image at shape (1, 3, 384, 640)\n",
            "$$$$$$$$$$$$$$$$$$$  [[568.5264892578125, 131.64645385742188, 665.5345458984375, 269.1382141113281]]\n",
            "\n",
            "0: 384x640 1 football, 33.8ms\n",
            "Speed: 2.1ms preprocess, 33.8ms inference, 2.2ms postprocess per image at shape (1, 3, 384, 640)\n",
            "$$$$$$$$$$$$$$$$$$$  [[568.018798828125, 155.13311767578125, 668.021484375, 286.2937316894531]]\n",
            "\n",
            "0: 384x640 1 football, 33.6ms\n",
            "Speed: 2.9ms preprocess, 33.6ms inference, 2.2ms postprocess per image at shape (1, 3, 384, 640)\n",
            "$$$$$$$$$$$$$$$$$$$  [[563.4969482421875, 163.308837890625, 668.7352294921875, 312.2716064453125]]\n",
            "\n",
            "0: 384x640 1 football, 33.5ms\n",
            "Speed: 2.3ms preprocess, 33.5ms inference, 2.1ms postprocess per image at shape (1, 3, 384, 640)\n",
            "$$$$$$$$$$$$$$$$$$$  [[572.69384765625, 185.95578002929688, 670.733642578125, 304.3379211425781]]\n",
            "\n",
            "0: 384x640 1 football, 34.7ms\n",
            "Speed: 2.5ms preprocess, 34.7ms inference, 2.1ms postprocess per image at shape (1, 3, 384, 640)\n",
            "$$$$$$$$$$$$$$$$$$$  [[571.8597412109375, 192.342041015625, 674.0054931640625, 313.30035400390625]]\n",
            "\n",
            "0: 384x640 1 football, 32.7ms\n",
            "Speed: 2.0ms preprocess, 32.7ms inference, 2.1ms postprocess per image at shape (1, 3, 384, 640)\n",
            "$$$$$$$$$$$$$$$$$$$  [[578.368408203125, 209.71688842773438, 668.492919921875, 330.5439758300781]]\n",
            "\n",
            "0: 384x640 1 football, 34.7ms\n",
            "Speed: 2.6ms preprocess, 34.7ms inference, 2.3ms postprocess per image at shape (1, 3, 384, 640)\n",
            "$$$$$$$$$$$$$$$$$$$  [[575.7589111328125, 216.5300750732422, 671.5313720703125, 342.84271240234375]]\n",
            "\n",
            "0: 384x640 1 football, 33.9ms\n",
            "Speed: 2.0ms preprocess, 33.9ms inference, 2.2ms postprocess per image at shape (1, 3, 384, 640)\n",
            "$$$$$$$$$$$$$$$$$$$  [[576.1986083984375, 230.39601135253906, 676.9625244140625, 362.6220703125]]\n",
            "\n",
            "0: 384x640 1 football, 33.6ms\n",
            "Speed: 2.3ms preprocess, 33.6ms inference, 2.6ms postprocess per image at shape (1, 3, 384, 640)\n",
            "$$$$$$$$$$$$$$$$$$$  [[577.0179443359375, 241.19140625, 679.22607421875, 371.4500732421875]]\n",
            "\n",
            "0: 384x640 1 football, 34.2ms\n",
            "Speed: 2.4ms preprocess, 34.2ms inference, 2.3ms postprocess per image at shape (1, 3, 384, 640)\n",
            "$$$$$$$$$$$$$$$$$$$  [[584.645751953125, 257.80126953125, 690.72216796875, 395.4459228515625]]\n",
            "\n",
            "0: 384x640 1 football, 33.5ms\n",
            "Speed: 3.5ms preprocess, 33.5ms inference, 2.1ms postprocess per image at shape (1, 3, 384, 640)\n",
            "$$$$$$$$$$$$$$$$$$$  [[585.3798217773438, 271.85882568359375, 696.4265747070312, 411.74383544921875]]\n",
            "\n",
            "0: 384x640 1 football, 32.5ms\n",
            "Speed: 1.9ms preprocess, 32.5ms inference, 2.8ms postprocess per image at shape (1, 3, 384, 640)\n",
            "$$$$$$$$$$$$$$$$$$$  [[604.9239501953125, 288.56414794921875, 702.591552734375, 411.515380859375]]\n",
            "\n",
            "0: 384x640 1 football, 33.4ms\n",
            "Speed: 2.1ms preprocess, 33.4ms inference, 2.9ms postprocess per image at shape (1, 3, 384, 640)\n",
            "$$$$$$$$$$$$$$$$$$$  [[603.6029052734375, 292.049560546875, 710.8790283203125, 425.0169677734375]]\n",
            "\n",
            "0: 384x640 1 football, 32.9ms\n",
            "Speed: 2.1ms preprocess, 32.9ms inference, 2.3ms postprocess per image at shape (1, 3, 384, 640)\n",
            "$$$$$$$$$$$$$$$$$$$  [[618.2886352539062, 303.75396728515625, 728.1950073242188, 438.44403076171875]]\n",
            "\n",
            "0: 384x640 1 football, 33.6ms\n",
            "Speed: 2.6ms preprocess, 33.6ms inference, 2.1ms postprocess per image at shape (1, 3, 384, 640)\n",
            "$$$$$$$$$$$$$$$$$$$  [[624.7054443359375, 313.21966552734375, 733.9361572265625, 446.97564697265625]]\n",
            "\n",
            "0: 384x640 1 football, 34.3ms\n",
            "Speed: 3.5ms preprocess, 34.3ms inference, 2.2ms postprocess per image at shape (1, 3, 384, 640)\n",
            "$$$$$$$$$$$$$$$$$$$  [[636.2734375, 323.434326171875, 753.673095703125, 467.82470703125]]\n",
            "\n",
            "0: 384x640 1 football, 33.5ms\n",
            "Speed: 2.8ms preprocess, 33.5ms inference, 2.1ms postprocess per image at shape (1, 3, 384, 640)\n",
            "$$$$$$$$$$$$$$$$$$$  [[647.486083984375, 333.8951110839844, 761.923828125, 481.3370056152344]]\n",
            "\n",
            "0: 384x640 1 football, 33.7ms\n",
            "Speed: 2.3ms preprocess, 33.7ms inference, 2.1ms postprocess per image at shape (1, 3, 384, 640)\n",
            "$$$$$$$$$$$$$$$$$$$  [[665.1453857421875, 346.89031982421875, 782.8165283203125, 492.91180419921875]]\n",
            "\n",
            "0: 384x640 2 footballs, 33.7ms\n",
            "Speed: 2.0ms preprocess, 33.7ms inference, 2.3ms postprocess per image at shape (1, 3, 384, 640)\n",
            "$$$$$$$$$$$$$$$$$$$  [[680.90673828125, 357.173583984375, 793.304443359375, 495.7933349609375], [678.1885986328125, 361.71282958984375, 745.7103271484375, 472.78277587890625]]\n",
            "\n",
            "0: 384x640 1 football, 33.4ms\n",
            "Speed: 2.2ms preprocess, 33.4ms inference, 3.3ms postprocess per image at shape (1, 3, 384, 640)\n",
            "$$$$$$$$$$$$$$$$$$$  [[698.64111328125, 357.44036865234375, 811.475341796875, 495.5648193359375]]\n",
            "\n",
            "0: 384x640 1 football, 33.6ms\n",
            "Speed: 2.1ms preprocess, 33.6ms inference, 2.0ms postprocess per image at shape (1, 3, 384, 640)\n",
            "$$$$$$$$$$$$$$$$$$$  [[710.18408203125, 364.5762939453125, 816.223876953125, 499.0703125]]\n",
            "\n",
            "0: 384x640 1 football, 33.9ms\n",
            "Speed: 2.6ms preprocess, 33.9ms inference, 3.0ms postprocess per image at shape (1, 3, 384, 640)\n",
            "$$$$$$$$$$$$$$$$$$$  [[720.8973388671875, 369.0904541015625, 842.9693603515625, 517.78369140625]]\n",
            "\n",
            "0: 384x640 1 football, 34.2ms\n",
            "Speed: 2.1ms preprocess, 34.2ms inference, 2.7ms postprocess per image at shape (1, 3, 384, 640)\n",
            "$$$$$$$$$$$$$$$$$$$  [[730.7268676757812, 375.1102294921875, 852.1918334960938, 522.169677734375]]\n",
            "\n",
            "0: 384x640 1 football, 32.4ms\n",
            "Speed: 2.1ms preprocess, 32.4ms inference, 2.9ms postprocess per image at shape (1, 3, 384, 640)\n",
            "$$$$$$$$$$$$$$$$$$$  [[746.853515625, 379.12158203125, 876.0791015625, 533.9153442382812]]\n",
            "\n",
            "0: 384x640 1 football, 34.4ms\n",
            "Speed: 2.0ms preprocess, 34.4ms inference, 3.1ms postprocess per image at shape (1, 3, 384, 640)\n",
            "$$$$$$$$$$$$$$$$$$$  [[755.923583984375, 387.34130859375, 888.9622802734375, 541.7554931640625]]\n",
            "\n",
            "0: 384x640 (no detections), 34.1ms\n",
            "Speed: 2.2ms preprocess, 34.1ms inference, 1.9ms postprocess per image at shape (1, 3, 384, 640)\n",
            "\n",
            "0: 384x640 (no detections), 34.7ms\n",
            "Speed: 1.9ms preprocess, 34.7ms inference, 1.7ms postprocess per image at shape (1, 3, 384, 640)\n",
            "\n",
            "0: 384x640 1 football, 34.8ms\n",
            "Speed: 2.0ms preprocess, 34.8ms inference, 2.9ms postprocess per image at shape (1, 3, 384, 640)\n",
            "$$$$$$$$$$$$$$$$$$$  [[815.4033813476562, 407.0773620605469, 952.6445922851562, 582.77392578125]]\n",
            "\n",
            "0: 384x640 (no detections), 33.9ms\n",
            "Speed: 2.2ms preprocess, 33.9ms inference, 2.0ms postprocess per image at shape (1, 3, 384, 640)\n",
            "\n",
            "0: 384x640 1 football, 32.6ms\n",
            "Speed: 5.1ms preprocess, 32.6ms inference, 2.6ms postprocess per image at shape (1, 3, 384, 640)\n",
            "$$$$$$$$$$$$$$$$$$$  [[856.5169677734375, 422.8932800292969, 995.3116455078125, 586.96630859375]]\n",
            "\n",
            "0: 384x640 1 football, 37.6ms\n",
            "Speed: 2.2ms preprocess, 37.6ms inference, 3.1ms postprocess per image at shape (1, 3, 384, 640)\n",
            "$$$$$$$$$$$$$$$$$$$  [[880.8944702148438, 427.9512023925781, 977.9749145507812, 588.491455078125]]\n",
            "\n",
            "0: 384x640 (no detections), 32.5ms\n",
            "Speed: 2.0ms preprocess, 32.5ms inference, 1.6ms postprocess per image at shape (1, 3, 384, 640)\n",
            "\n",
            "0: 384x640 (no detections), 33.6ms\n",
            "Speed: 2.0ms preprocess, 33.6ms inference, 1.7ms postprocess per image at shape (1, 3, 384, 640)\n",
            "\n",
            "0: 384x640 (no detections), 33.8ms\n",
            "Speed: 1.9ms preprocess, 33.8ms inference, 5.8ms postprocess per image at shape (1, 3, 384, 640)\n",
            "\n",
            "0: 384x640 (no detections), 31.8ms\n",
            "Speed: 2.4ms preprocess, 31.8ms inference, 5.7ms postprocess per image at shape (1, 3, 384, 640)\n",
            "\n",
            "0: 384x640 (no detections), 31.2ms\n",
            "Speed: 2.0ms preprocess, 31.2ms inference, 1.6ms postprocess per image at shape (1, 3, 384, 640)\n",
            "\n",
            "0: 384x640 (no detections), 33.8ms\n",
            "Speed: 2.0ms preprocess, 33.8ms inference, 1.7ms postprocess per image at shape (1, 3, 384, 640)\n",
            "\n",
            "0: 384x640 (no detections), 33.8ms\n",
            "Speed: 2.2ms preprocess, 33.8ms inference, 2.1ms postprocess per image at shape (1, 3, 384, 640)\n",
            "\n",
            "0: 384x640 1 football, 34.5ms\n",
            "Speed: 2.1ms preprocess, 34.5ms inference, 2.8ms postprocess per image at shape (1, 3, 384, 640)\n",
            "$$$$$$$$$$$$$$$$$$$  [[1126.47998046875, 537.8935546875, 1274.44775390625, 707.472412109375]]\n",
            "\n",
            "0: 384x640 (no detections), 34.0ms\n",
            "Speed: 2.1ms preprocess, 34.0ms inference, 1.7ms postprocess per image at shape (1, 3, 384, 640)\n",
            "\n",
            "0: 384x640 (no detections), 34.0ms\n",
            "Speed: 2.1ms preprocess, 34.0ms inference, 1.9ms postprocess per image at shape (1, 3, 384, 640)\n",
            "\n",
            "0: 384x640 (no detections), 33.5ms\n",
            "Speed: 2.4ms preprocess, 33.5ms inference, 1.7ms postprocess per image at shape (1, 3, 384, 640)\n",
            "\n",
            "0: 384x640 (no detections), 32.1ms\n",
            "Speed: 2.1ms preprocess, 32.1ms inference, 1.8ms postprocess per image at shape (1, 3, 384, 640)\n",
            "\n",
            "0: 384x640 (no detections), 33.4ms\n",
            "Speed: 2.0ms preprocess, 33.4ms inference, 1.7ms postprocess per image at shape (1, 3, 384, 640)\n",
            "\n",
            "0: 384x640 (no detections), 33.7ms\n",
            "Speed: 2.1ms preprocess, 33.7ms inference, 5.3ms postprocess per image at shape (1, 3, 384, 640)\n",
            "\n",
            "0: 384x640 (no detections), 33.2ms\n",
            "Speed: 2.0ms preprocess, 33.2ms inference, 2.4ms postprocess per image at shape (1, 3, 384, 640)\n",
            "\n",
            "0: 384x640 (no detections), 35.8ms\n",
            "Speed: 2.0ms preprocess, 35.8ms inference, 1.8ms postprocess per image at shape (1, 3, 384, 640)\n",
            "\n",
            "0: 384x640 (no detections), 34.2ms\n",
            "Speed: 2.2ms preprocess, 34.2ms inference, 1.9ms postprocess per image at shape (1, 3, 384, 640)\n",
            "\n",
            "0: 384x640 (no detections), 33.2ms\n",
            "Speed: 2.1ms preprocess, 33.2ms inference, 1.9ms postprocess per image at shape (1, 3, 384, 640)\n",
            "\n",
            "0: 384x640 (no detections), 34.0ms\n",
            "Speed: 2.3ms preprocess, 34.0ms inference, 1.7ms postprocess per image at shape (1, 3, 384, 640)\n",
            "\n",
            "0: 384x640 (no detections), 32.9ms\n",
            "Speed: 2.0ms preprocess, 32.9ms inference, 1.7ms postprocess per image at shape (1, 3, 384, 640)\n",
            "\n",
            "0: 384x640 (no detections), 34.1ms\n",
            "Speed: 2.3ms preprocess, 34.1ms inference, 1.9ms postprocess per image at shape (1, 3, 384, 640)\n",
            "\n",
            "0: 384x640 (no detections), 33.4ms\n",
            "Speed: 4.1ms preprocess, 33.4ms inference, 1.8ms postprocess per image at shape (1, 3, 384, 640)\n",
            "\n",
            "0: 384x640 (no detections), 37.8ms\n",
            "Speed: 1.9ms preprocess, 37.8ms inference, 1.7ms postprocess per image at shape (1, 3, 384, 640)\n",
            "\n",
            "0: 384x640 (no detections), 34.8ms\n",
            "Speed: 3.3ms preprocess, 34.8ms inference, 1.7ms postprocess per image at shape (1, 3, 384, 640)\n",
            "\n",
            "0: 384x640 2 footballs, 34.6ms\n",
            "Speed: 2.3ms preprocess, 34.6ms inference, 4.6ms postprocess per image at shape (1, 3, 384, 640)\n",
            "$$$$$$$$$$$$$$$$$$$  [[984.7042236328125, 690.865966796875, 1008.4388427734375, 720.0], [545.4161987304688, 685.4368896484375, 567.7793579101562, 720.0]]\n",
            "\n",
            "0: 384x640 2 footballs, 32.2ms\n",
            "Speed: 2.0ms preprocess, 32.2ms inference, 4.1ms postprocess per image at shape (1, 3, 384, 640)\n",
            "$$$$$$$$$$$$$$$$$$$  [[1231.953125, 689.0184326171875, 1265.623046875, 720.0], [979.176025390625, 686.01025390625, 1008.1796875, 720.0]]\n",
            "\n",
            "0: 384x640 (no detections), 31.4ms\n",
            "Speed: 2.8ms preprocess, 31.4ms inference, 1.7ms postprocess per image at shape (1, 3, 384, 640)\n",
            "\n",
            "0: 384x640 (no detections), 33.3ms\n",
            "Speed: 2.8ms preprocess, 33.3ms inference, 6.8ms postprocess per image at shape (1, 3, 384, 640)\n",
            "\n",
            "0: 384x640 (no detections), 36.6ms\n",
            "Speed: 2.7ms preprocess, 36.6ms inference, 1.7ms postprocess per image at shape (1, 3, 384, 640)\n",
            "\n",
            "0: 384x640 (no detections), 33.5ms\n",
            "Speed: 2.4ms preprocess, 33.5ms inference, 1.6ms postprocess per image at shape (1, 3, 384, 640)\n",
            "\n",
            "0: 384x640 (no detections), 33.3ms\n",
            "Speed: 2.0ms preprocess, 33.3ms inference, 1.9ms postprocess per image at shape (1, 3, 384, 640)\n",
            "\n",
            "0: 384x640 (no detections), 35.5ms\n",
            "Speed: 2.0ms preprocess, 35.5ms inference, 1.7ms postprocess per image at shape (1, 3, 384, 640)\n",
            "\n",
            "0: 384x640 (no detections), 34.5ms\n",
            "Speed: 2.0ms preprocess, 34.5ms inference, 1.9ms postprocess per image at shape (1, 3, 384, 640)\n",
            "\n",
            "0: 384x640 (no detections), 34.7ms\n",
            "Speed: 2.0ms preprocess, 34.7ms inference, 2.0ms postprocess per image at shape (1, 3, 384, 640)\n",
            "\n",
            "0: 384x640 (no detections), 34.4ms\n",
            "Speed: 2.1ms preprocess, 34.4ms inference, 1.8ms postprocess per image at shape (1, 3, 384, 640)\n",
            "\n",
            "0: 384x640 (no detections), 34.0ms\n",
            "Speed: 2.2ms preprocess, 34.0ms inference, 2.0ms postprocess per image at shape (1, 3, 384, 640)\n",
            "\n",
            "0: 384x640 (no detections), 34.2ms\n",
            "Speed: 2.1ms preprocess, 34.2ms inference, 1.7ms postprocess per image at shape (1, 3, 384, 640)\n",
            "\n",
            "0: 384x640 (no detections), 35.4ms\n",
            "Speed: 2.3ms preprocess, 35.4ms inference, 2.0ms postprocess per image at shape (1, 3, 384, 640)\n",
            "\n",
            "0: 384x640 (no detections), 35.5ms\n",
            "Speed: 2.1ms preprocess, 35.5ms inference, 1.9ms postprocess per image at shape (1, 3, 384, 640)\n",
            "\n",
            "0: 384x640 (no detections), 34.9ms\n",
            "Speed: 2.0ms preprocess, 34.9ms inference, 1.9ms postprocess per image at shape (1, 3, 384, 640)\n",
            "\n",
            "0: 384x640 (no detections), 35.6ms\n",
            "Speed: 2.1ms preprocess, 35.6ms inference, 1.8ms postprocess per image at shape (1, 3, 384, 640)\n",
            "\n",
            "0: 384x640 (no detections), 36.0ms\n",
            "Speed: 2.2ms preprocess, 36.0ms inference, 1.8ms postprocess per image at shape (1, 3, 384, 640)\n",
            "\n",
            "0: 384x640 (no detections), 34.6ms\n",
            "Speed: 2.7ms preprocess, 34.6ms inference, 5.7ms postprocess per image at shape (1, 3, 384, 640)\n",
            "\n",
            "0: 384x640 (no detections), 33.8ms\n",
            "Speed: 2.4ms preprocess, 33.8ms inference, 1.6ms postprocess per image at shape (1, 3, 384, 640)\n",
            "\n",
            "0: 384x640 (no detections), 36.2ms\n",
            "Speed: 3.4ms preprocess, 36.2ms inference, 1.8ms postprocess per image at shape (1, 3, 384, 640)\n",
            "\n",
            "0: 384x640 (no detections), 34.7ms\n",
            "Speed: 2.1ms preprocess, 34.7ms inference, 2.5ms postprocess per image at shape (1, 3, 384, 640)\n",
            "\n",
            "0: 384x640 (no detections), 35.2ms\n",
            "Speed: 2.1ms preprocess, 35.2ms inference, 1.8ms postprocess per image at shape (1, 3, 384, 640)\n",
            "\n",
            "0: 384x640 (no detections), 34.2ms\n",
            "Speed: 2.2ms preprocess, 34.2ms inference, 4.7ms postprocess per image at shape (1, 3, 384, 640)\n",
            "\n",
            "0: 384x640 (no detections), 33.1ms\n",
            "Speed: 2.0ms preprocess, 33.1ms inference, 1.7ms postprocess per image at shape (1, 3, 384, 640)\n",
            "\n",
            "0: 384x640 (no detections), 33.7ms\n",
            "Speed: 2.1ms preprocess, 33.7ms inference, 2.0ms postprocess per image at shape (1, 3, 384, 640)\n",
            "\n",
            "0: 384x640 (no detections), 34.3ms\n",
            "Speed: 3.9ms preprocess, 34.3ms inference, 1.7ms postprocess per image at shape (1, 3, 384, 640)\n",
            "\n",
            "0: 384x640 (no detections), 35.4ms\n",
            "Speed: 2.0ms preprocess, 35.4ms inference, 2.3ms postprocess per image at shape (1, 3, 384, 640)\n",
            "\n",
            "0: 384x640 (no detections), 34.8ms\n",
            "Speed: 2.0ms preprocess, 34.8ms inference, 1.6ms postprocess per image at shape (1, 3, 384, 640)\n",
            "\n",
            "0: 384x640 (no detections), 34.2ms\n",
            "Speed: 1.9ms preprocess, 34.2ms inference, 1.9ms postprocess per image at shape (1, 3, 384, 640)\n",
            "\n",
            "0: 384x640 (no detections), 34.3ms\n",
            "Speed: 2.0ms preprocess, 34.3ms inference, 1.8ms postprocess per image at shape (1, 3, 384, 640)\n",
            "\n",
            "0: 384x640 (no detections), 35.9ms\n",
            "Speed: 2.1ms preprocess, 35.9ms inference, 2.1ms postprocess per image at shape (1, 3, 384, 640)\n",
            "\n",
            "0: 384x640 (no detections), 34.2ms\n",
            "Speed: 1.9ms preprocess, 34.2ms inference, 2.0ms postprocess per image at shape (1, 3, 384, 640)\n",
            "\n",
            "0: 384x640 (no detections), 37.5ms\n",
            "Speed: 2.1ms preprocess, 37.5ms inference, 1.8ms postprocess per image at shape (1, 3, 384, 640)\n",
            "\n",
            "0: 384x640 (no detections), 33.9ms\n",
            "Speed: 2.0ms preprocess, 33.9ms inference, 1.9ms postprocess per image at shape (1, 3, 384, 640)\n",
            "\n",
            "0: 384x640 (no detections), 35.5ms\n",
            "Speed: 2.1ms preprocess, 35.5ms inference, 1.9ms postprocess per image at shape (1, 3, 384, 640)\n",
            "\n",
            "0: 384x640 (no detections), 34.7ms\n",
            "Speed: 1.9ms preprocess, 34.7ms inference, 2.2ms postprocess per image at shape (1, 3, 384, 640)\n",
            "\n",
            "0: 384x640 (no detections), 34.1ms\n",
            "Speed: 2.3ms preprocess, 34.1ms inference, 1.6ms postprocess per image at shape (1, 3, 384, 640)\n",
            "\n",
            "0: 384x640 (no detections), 34.4ms\n",
            "Speed: 2.1ms preprocess, 34.4ms inference, 2.2ms postprocess per image at shape (1, 3, 384, 640)\n",
            "\n",
            "0: 384x640 (no detections), 33.2ms\n",
            "Speed: 2.1ms preprocess, 33.2ms inference, 1.8ms postprocess per image at shape (1, 3, 384, 640)\n",
            "\n",
            "0: 384x640 (no detections), 33.4ms\n",
            "Speed: 1.9ms preprocess, 33.4ms inference, 1.9ms postprocess per image at shape (1, 3, 384, 640)\n",
            "\n",
            "0: 384x640 (no detections), 32.8ms\n",
            "Speed: 1.9ms preprocess, 32.8ms inference, 1.6ms postprocess per image at shape (1, 3, 384, 640)\n",
            "\n",
            "0: 384x640 (no detections), 34.0ms\n",
            "Speed: 2.0ms preprocess, 34.0ms inference, 2.1ms postprocess per image at shape (1, 3, 384, 640)\n",
            "\n",
            "0: 384x640 (no detections), 32.6ms\n",
            "Speed: 2.0ms preprocess, 32.6ms inference, 1.7ms postprocess per image at shape (1, 3, 384, 640)\n",
            "\n",
            "0: 384x640 (no detections), 34.7ms\n",
            "Speed: 2.3ms preprocess, 34.7ms inference, 2.5ms postprocess per image at shape (1, 3, 384, 640)\n",
            "\n",
            "0: 384x640 (no detections), 31.9ms\n",
            "Speed: 2.2ms preprocess, 31.9ms inference, 1.9ms postprocess per image at shape (1, 3, 384, 640)\n",
            "\n",
            "0: 384x640 (no detections), 34.9ms\n",
            "Speed: 2.1ms preprocess, 34.9ms inference, 1.8ms postprocess per image at shape (1, 3, 384, 640)\n",
            "\n",
            "0: 384x640 (no detections), 33.2ms\n",
            "Speed: 1.9ms preprocess, 33.2ms inference, 1.6ms postprocess per image at shape (1, 3, 384, 640)\n",
            "\n",
            "0: 384x640 (no detections), 34.4ms\n",
            "Speed: 2.0ms preprocess, 34.4ms inference, 2.0ms postprocess per image at shape (1, 3, 384, 640)\n",
            "\n",
            "0: 384x640 (no detections), 34.3ms\n",
            "Speed: 1.9ms preprocess, 34.3ms inference, 1.6ms postprocess per image at shape (1, 3, 384, 640)\n",
            "\n",
            "0: 384x640 (no detections), 36.3ms\n",
            "Speed: 2.1ms preprocess, 36.3ms inference, 3.8ms postprocess per image at shape (1, 3, 384, 640)\n",
            "\n",
            "0: 384x640 (no detections), 32.2ms\n",
            "Speed: 2.4ms preprocess, 32.2ms inference, 1.8ms postprocess per image at shape (1, 3, 384, 640)\n",
            "\n",
            "0: 384x640 (no detections), 33.6ms\n",
            "Speed: 7.3ms preprocess, 33.6ms inference, 6.1ms postprocess per image at shape (1, 3, 384, 640)\n",
            "\n",
            "0: 384x640 (no detections), 33.3ms\n",
            "Speed: 2.1ms preprocess, 33.3ms inference, 1.8ms postprocess per image at shape (1, 3, 384, 640)\n",
            "\n",
            "0: 384x640 (no detections), 34.7ms\n",
            "Speed: 2.3ms preprocess, 34.7ms inference, 1.6ms postprocess per image at shape (1, 3, 384, 640)\n",
            "\n",
            "0: 384x640 (no detections), 31.6ms\n",
            "Speed: 2.4ms preprocess, 31.6ms inference, 1.6ms postprocess per image at shape (1, 3, 384, 640)\n",
            "\n",
            "0: 384x640 (no detections), 34.2ms\n",
            "Speed: 2.3ms preprocess, 34.2ms inference, 1.8ms postprocess per image at shape (1, 3, 384, 640)\n",
            "\n",
            "0: 384x640 (no detections), 32.5ms\n",
            "Speed: 2.1ms preprocess, 32.5ms inference, 2.2ms postprocess per image at shape (1, 3, 384, 640)\n",
            "\n",
            "0: 384x640 (no detections), 34.5ms\n",
            "Speed: 2.1ms preprocess, 34.5ms inference, 1.9ms postprocess per image at shape (1, 3, 384, 640)\n",
            "\n",
            "0: 384x640 (no detections), 34.1ms\n",
            "Speed: 2.4ms preprocess, 34.1ms inference, 1.9ms postprocess per image at shape (1, 3, 384, 640)\n",
            "\n",
            "0: 384x640 (no detections), 35.1ms\n",
            "Speed: 2.0ms preprocess, 35.1ms inference, 1.8ms postprocess per image at shape (1, 3, 384, 640)\n",
            "\n",
            "0: 384x640 (no detections), 32.7ms\n",
            "Speed: 1.9ms preprocess, 32.7ms inference, 1.6ms postprocess per image at shape (1, 3, 384, 640)\n",
            "\n",
            "0: 384x640 (no detections), 33.6ms\n",
            "Speed: 2.1ms preprocess, 33.6ms inference, 1.8ms postprocess per image at shape (1, 3, 384, 640)\n",
            "\n",
            "0: 384x640 (no detections), 35.9ms\n",
            "Speed: 2.1ms preprocess, 35.9ms inference, 2.0ms postprocess per image at shape (1, 3, 384, 640)\n",
            "\n",
            "0: 384x640 (no detections), 33.5ms\n",
            "Speed: 2.0ms preprocess, 33.5ms inference, 1.8ms postprocess per image at shape (1, 3, 384, 640)\n",
            "\n",
            "0: 384x640 (no detections), 34.6ms\n",
            "Speed: 2.0ms preprocess, 34.6ms inference, 1.7ms postprocess per image at shape (1, 3, 384, 640)\n",
            "\n",
            "0: 384x640 (no detections), 34.4ms\n",
            "Speed: 1.9ms preprocess, 34.4ms inference, 1.9ms postprocess per image at shape (1, 3, 384, 640)\n",
            "\n",
            "0: 384x640 (no detections), 34.3ms\n",
            "Speed: 1.9ms preprocess, 34.3ms inference, 1.8ms postprocess per image at shape (1, 3, 384, 640)\n",
            "\n",
            "0: 384x640 (no detections), 35.4ms\n",
            "Speed: 2.0ms preprocess, 35.4ms inference, 1.7ms postprocess per image at shape (1, 3, 384, 640)\n",
            "\n",
            "0: 384x640 (no detections), 34.6ms\n",
            "Speed: 5.0ms preprocess, 34.6ms inference, 2.1ms postprocess per image at shape (1, 3, 384, 640)\n",
            "\n",
            "0: 384x640 (no detections), 34.4ms\n",
            "Speed: 1.9ms preprocess, 34.4ms inference, 2.0ms postprocess per image at shape (1, 3, 384, 640)\n",
            "\n",
            "0: 384x640 (no detections), 34.8ms\n",
            "Speed: 2.2ms preprocess, 34.8ms inference, 1.7ms postprocess per image at shape (1, 3, 384, 640)\n",
            "\n",
            "0: 384x640 (no detections), 34.5ms\n",
            "Speed: 2.1ms preprocess, 34.5ms inference, 3.4ms postprocess per image at shape (1, 3, 384, 640)\n",
            "\n",
            "0: 384x640 (no detections), 33.6ms\n",
            "Speed: 2.2ms preprocess, 33.6ms inference, 2.0ms postprocess per image at shape (1, 3, 384, 640)\n",
            "\n",
            "0: 384x640 (no detections), 34.5ms\n",
            "Speed: 2.2ms preprocess, 34.5ms inference, 1.8ms postprocess per image at shape (1, 3, 384, 640)\n",
            "\n",
            "0: 384x640 (no detections), 34.3ms\n",
            "Speed: 2.1ms preprocess, 34.3ms inference, 1.6ms postprocess per image at shape (1, 3, 384, 640)\n",
            "\n",
            "0: 384x640 (no detections), 32.6ms\n",
            "Speed: 2.2ms preprocess, 32.6ms inference, 1.8ms postprocess per image at shape (1, 3, 384, 640)\n",
            "\n",
            "0: 384x640 (no detections), 32.9ms\n",
            "Speed: 2.0ms preprocess, 32.9ms inference, 1.9ms postprocess per image at shape (1, 3, 384, 640)\n",
            "\n",
            "0: 384x640 (no detections), 32.8ms\n",
            "Speed: 2.1ms preprocess, 32.8ms inference, 1.8ms postprocess per image at shape (1, 3, 384, 640)\n",
            "\n",
            "0: 384x640 (no detections), 33.3ms\n",
            "Speed: 1.9ms preprocess, 33.3ms inference, 1.5ms postprocess per image at shape (1, 3, 384, 640)\n",
            "\n",
            "0: 384x640 (no detections), 34.1ms\n",
            "Speed: 2.0ms preprocess, 34.1ms inference, 2.0ms postprocess per image at shape (1, 3, 384, 640)\n",
            "\n",
            "0: 384x640 (no detections), 33.7ms\n",
            "Speed: 2.4ms preprocess, 33.7ms inference, 1.7ms postprocess per image at shape (1, 3, 384, 640)\n",
            "\n",
            "0: 384x640 (no detections), 35.1ms\n",
            "Speed: 2.0ms preprocess, 35.1ms inference, 1.8ms postprocess per image at shape (1, 3, 384, 640)\n",
            "\n",
            "0: 384x640 (no detections), 33.9ms\n",
            "Speed: 2.3ms preprocess, 33.9ms inference, 1.8ms postprocess per image at shape (1, 3, 384, 640)\n",
            "\n",
            "0: 384x640 (no detections), 33.6ms\n",
            "Speed: 2.3ms preprocess, 33.6ms inference, 2.3ms postprocess per image at shape (1, 3, 384, 640)\n",
            "\n",
            "0: 384x640 (no detections), 32.7ms\n",
            "Speed: 2.1ms preprocess, 32.7ms inference, 1.8ms postprocess per image at shape (1, 3, 384, 640)\n",
            "\n",
            "0: 384x640 (no detections), 32.8ms\n",
            "Speed: 2.0ms preprocess, 32.8ms inference, 1.6ms postprocess per image at shape (1, 3, 384, 640)\n",
            "\n",
            "0: 384x640 (no detections), 35.1ms\n",
            "Speed: 2.2ms preprocess, 35.1ms inference, 1.9ms postprocess per image at shape (1, 3, 384, 640)\n",
            "\n",
            "0: 384x640 (no detections), 34.4ms\n",
            "Speed: 1.9ms preprocess, 34.4ms inference, 2.0ms postprocess per image at shape (1, 3, 384, 640)\n",
            "\n",
            "0: 384x640 (no detections), 36.9ms\n",
            "Speed: 2.1ms preprocess, 36.9ms inference, 1.8ms postprocess per image at shape (1, 3, 384, 640)\n",
            "\n",
            "0: 384x640 (no detections), 31.5ms\n",
            "Speed: 2.2ms preprocess, 31.5ms inference, 1.6ms postprocess per image at shape (1, 3, 384, 640)\n",
            "\n",
            "0: 384x640 (no detections), 31.2ms\n",
            "Speed: 2.2ms preprocess, 31.2ms inference, 1.7ms postprocess per image at shape (1, 3, 384, 640)\n",
            "\n",
            "0: 384x640 (no detections), 34.0ms\n",
            "Speed: 2.4ms preprocess, 34.0ms inference, 1.6ms postprocess per image at shape (1, 3, 384, 640)\n",
            "\n",
            "0: 384x640 (no detections), 32.8ms\n",
            "Speed: 3.7ms preprocess, 32.8ms inference, 1.6ms postprocess per image at shape (1, 3, 384, 640)\n",
            "\n",
            "0: 384x640 (no detections), 34.5ms\n",
            "Speed: 1.9ms preprocess, 34.5ms inference, 1.6ms postprocess per image at shape (1, 3, 384, 640)\n",
            "\n",
            "0: 384x640 (no detections), 35.8ms\n",
            "Speed: 2.2ms preprocess, 35.8ms inference, 1.6ms postprocess per image at shape (1, 3, 384, 640)\n",
            "\n",
            "0: 384x640 (no detections), 34.4ms\n",
            "Speed: 2.0ms preprocess, 34.4ms inference, 2.0ms postprocess per image at shape (1, 3, 384, 640)\n",
            "\n",
            "0: 384x640 (no detections), 34.7ms\n",
            "Speed: 2.2ms preprocess, 34.7ms inference, 1.8ms postprocess per image at shape (1, 3, 384, 640)\n",
            "\n",
            "0: 384x640 (no detections), 34.9ms\n",
            "Speed: 2.2ms preprocess, 34.9ms inference, 1.8ms postprocess per image at shape (1, 3, 384, 640)\n",
            "\n",
            "0: 384x640 (no detections), 37.3ms\n",
            "Speed: 2.0ms preprocess, 37.3ms inference, 2.0ms postprocess per image at shape (1, 3, 384, 640)\n",
            "\n",
            "0: 384x640 (no detections), 34.2ms\n",
            "Speed: 2.1ms preprocess, 34.2ms inference, 1.8ms postprocess per image at shape (1, 3, 384, 640)\n",
            "\n",
            "0: 384x640 (no detections), 32.8ms\n",
            "Speed: 1.9ms preprocess, 32.8ms inference, 1.7ms postprocess per image at shape (1, 3, 384, 640)\n",
            "\n",
            "0: 384x640 (no detections), 32.1ms\n",
            "Speed: 2.1ms preprocess, 32.1ms inference, 1.7ms postprocess per image at shape (1, 3, 384, 640)\n",
            "\n",
            "0: 384x640 (no detections), 36.1ms\n",
            "Speed: 3.1ms preprocess, 36.1ms inference, 1.9ms postprocess per image at shape (1, 3, 384, 640)\n",
            "\n",
            "0: 384x640 (no detections), 32.1ms\n",
            "Speed: 2.0ms preprocess, 32.1ms inference, 1.8ms postprocess per image at shape (1, 3, 384, 640)\n",
            "\n",
            "0: 384x640 (no detections), 32.2ms\n",
            "Speed: 2.0ms preprocess, 32.2ms inference, 1.8ms postprocess per image at shape (1, 3, 384, 640)\n",
            "\n",
            "0: 384x640 (no detections), 31.2ms\n",
            "Speed: 2.1ms preprocess, 31.2ms inference, 2.1ms postprocess per image at shape (1, 3, 384, 640)\n",
            "\n",
            "0: 384x640 (no detections), 31.6ms\n",
            "Speed: 2.2ms preprocess, 31.6ms inference, 1.7ms postprocess per image at shape (1, 3, 384, 640)\n",
            "\n",
            "0: 384x640 (no detections), 31.7ms\n",
            "Speed: 2.2ms preprocess, 31.7ms inference, 1.7ms postprocess per image at shape (1, 3, 384, 640)\n",
            "\n",
            "0: 384x640 (no detections), 34.0ms\n",
            "Speed: 4.9ms preprocess, 34.0ms inference, 1.7ms postprocess per image at shape (1, 3, 384, 640)\n",
            "\n",
            "0: 384x640 (no detections), 33.8ms\n",
            "Speed: 2.3ms preprocess, 33.8ms inference, 1.6ms postprocess per image at shape (1, 3, 384, 640)\n",
            "\n",
            "0: 384x640 (no detections), 35.7ms\n",
            "Speed: 1.9ms preprocess, 35.7ms inference, 1.6ms postprocess per image at shape (1, 3, 384, 640)\n",
            "\n",
            "0: 384x640 (no detections), 35.1ms\n",
            "Speed: 2.0ms preprocess, 35.1ms inference, 1.7ms postprocess per image at shape (1, 3, 384, 640)\n",
            "\n",
            "0: 384x640 (no detections), 35.6ms\n",
            "Speed: 2.1ms preprocess, 35.6ms inference, 1.8ms postprocess per image at shape (1, 3, 384, 640)\n",
            "\n",
            "0: 384x640 (no detections), 36.6ms\n",
            "Speed: 2.0ms preprocess, 36.6ms inference, 2.2ms postprocess per image at shape (1, 3, 384, 640)\n",
            "\n",
            "0: 384x640 (no detections), 33.1ms\n",
            "Speed: 2.1ms preprocess, 33.1ms inference, 1.9ms postprocess per image at shape (1, 3, 384, 640)\n",
            "\n",
            "0: 384x640 (no detections), 35.3ms\n",
            "Speed: 2.0ms preprocess, 35.3ms inference, 1.8ms postprocess per image at shape (1, 3, 384, 640)\n",
            "\n",
            "0: 384x640 (no detections), 35.2ms\n",
            "Speed: 2.2ms preprocess, 35.2ms inference, 1.9ms postprocess per image at shape (1, 3, 384, 640)\n",
            "\n",
            "0: 384x640 (no detections), 35.2ms\n",
            "Speed: 2.1ms preprocess, 35.2ms inference, 1.8ms postprocess per image at shape (1, 3, 384, 640)\n",
            "\n",
            "0: 384x640 (no detections), 35.3ms\n",
            "Speed: 2.0ms preprocess, 35.3ms inference, 1.8ms postprocess per image at shape (1, 3, 384, 640)\n",
            "\n",
            "0: 384x640 (no detections), 34.7ms\n",
            "Speed: 2.3ms preprocess, 34.7ms inference, 1.7ms postprocess per image at shape (1, 3, 384, 640)\n",
            "\n",
            "0: 384x640 (no detections), 35.1ms\n",
            "Speed: 2.1ms preprocess, 35.1ms inference, 1.8ms postprocess per image at shape (1, 3, 384, 640)\n",
            "\n",
            "0: 384x640 (no detections), 34.9ms\n",
            "Speed: 2.0ms preprocess, 34.9ms inference, 2.0ms postprocess per image at shape (1, 3, 384, 640)\n",
            "\n",
            "0: 384x640 (no detections), 34.9ms\n",
            "Speed: 1.9ms preprocess, 34.9ms inference, 1.9ms postprocess per image at shape (1, 3, 384, 640)\n",
            "\n",
            "0: 384x640 (no detections), 34.4ms\n",
            "Speed: 3.3ms preprocess, 34.4ms inference, 2.2ms postprocess per image at shape (1, 3, 384, 640)\n",
            "\n",
            "0: 384x640 (no detections), 32.8ms\n",
            "Speed: 2.1ms preprocess, 32.8ms inference, 1.9ms postprocess per image at shape (1, 3, 384, 640)\n",
            "\n",
            "0: 384x640 (no detections), 34.9ms\n",
            "Speed: 2.2ms preprocess, 34.9ms inference, 4.6ms postprocess per image at shape (1, 3, 384, 640)\n",
            "\n",
            "0: 384x640 (no detections), 33.7ms\n",
            "Speed: 2.0ms preprocess, 33.7ms inference, 4.6ms postprocess per image at shape (1, 3, 384, 640)\n",
            "\n",
            "0: 384x640 (no detections), 36.8ms\n",
            "Speed: 2.0ms preprocess, 36.8ms inference, 1.6ms postprocess per image at shape (1, 3, 384, 640)\n",
            "\n",
            "0: 384x640 (no detections), 33.4ms\n",
            "Speed: 2.0ms preprocess, 33.4ms inference, 1.6ms postprocess per image at shape (1, 3, 384, 640)\n",
            "\n",
            "0: 384x640 (no detections), 35.1ms\n",
            "Speed: 2.0ms preprocess, 35.1ms inference, 1.8ms postprocess per image at shape (1, 3, 384, 640)\n",
            "\n",
            "0: 384x640 (no detections), 34.4ms\n",
            "Speed: 2.0ms preprocess, 34.4ms inference, 1.7ms postprocess per image at shape (1, 3, 384, 640)\n",
            "\n",
            "0: 384x640 (no detections), 34.5ms\n",
            "Speed: 2.1ms preprocess, 34.5ms inference, 1.8ms postprocess per image at shape (1, 3, 384, 640)\n",
            "\n",
            "0: 384x640 (no detections), 34.7ms\n",
            "Speed: 2.2ms preprocess, 34.7ms inference, 1.9ms postprocess per image at shape (1, 3, 384, 640)\n",
            "\n",
            "0: 384x640 (no detections), 35.0ms\n",
            "Speed: 2.0ms preprocess, 35.0ms inference, 1.8ms postprocess per image at shape (1, 3, 384, 640)\n",
            "\n",
            "0: 384x640 (no detections), 39.3ms\n",
            "Speed: 1.8ms preprocess, 39.3ms inference, 1.8ms postprocess per image at shape (1, 3, 384, 640)\n",
            "\n",
            "0: 384x640 (no detections), 32.5ms\n",
            "Speed: 3.2ms preprocess, 32.5ms inference, 1.9ms postprocess per image at shape (1, 3, 384, 640)\n",
            "\n",
            "0: 384x640 (no detections), 35.5ms\n",
            "Speed: 2.0ms preprocess, 35.5ms inference, 2.1ms postprocess per image at shape (1, 3, 384, 640)\n",
            "\n",
            "0: 384x640 (no detections), 35.5ms\n",
            "Speed: 2.1ms preprocess, 35.5ms inference, 1.9ms postprocess per image at shape (1, 3, 384, 640)\n",
            "\n",
            "0: 384x640 (no detections), 35.4ms\n",
            "Speed: 2.0ms preprocess, 35.4ms inference, 1.6ms postprocess per image at shape (1, 3, 384, 640)\n",
            "\n",
            "0: 384x640 (no detections), 35.3ms\n",
            "Speed: 2.0ms preprocess, 35.3ms inference, 1.8ms postprocess per image at shape (1, 3, 384, 640)\n",
            "\n",
            "0: 384x640 (no detections), 34.9ms\n",
            "Speed: 2.2ms preprocess, 34.9ms inference, 2.3ms postprocess per image at shape (1, 3, 384, 640)\n",
            "\n",
            "0: 384x640 (no detections), 34.7ms\n",
            "Speed: 2.1ms preprocess, 34.7ms inference, 1.8ms postprocess per image at shape (1, 3, 384, 640)\n",
            "\n",
            "0: 384x640 (no detections), 33.4ms\n",
            "Speed: 2.0ms preprocess, 33.4ms inference, 1.9ms postprocess per image at shape (1, 3, 384, 640)\n",
            "\n",
            "0: 384x640 (no detections), 37.9ms\n",
            "Speed: 2.1ms preprocess, 37.9ms inference, 1.9ms postprocess per image at shape (1, 3, 384, 640)\n",
            "\n",
            "0: 384x640 (no detections), 33.3ms\n",
            "Speed: 4.5ms preprocess, 33.3ms inference, 5.5ms postprocess per image at shape (1, 3, 384, 640)\n",
            "\n",
            "0: 384x640 (no detections), 37.8ms\n",
            "Speed: 2.0ms preprocess, 37.8ms inference, 1.8ms postprocess per image at shape (1, 3, 384, 640)\n",
            "\n",
            "0: 384x640 (no detections), 38.5ms\n",
            "Speed: 2.0ms preprocess, 38.5ms inference, 1.6ms postprocess per image at shape (1, 3, 384, 640)\n",
            "\n",
            "0: 384x640 (no detections), 37.0ms\n",
            "Speed: 2.0ms preprocess, 37.0ms inference, 1.9ms postprocess per image at shape (1, 3, 384, 640)\n",
            "\n",
            "0: 384x640 (no detections), 33.9ms\n",
            "Speed: 2.1ms preprocess, 33.9ms inference, 1.7ms postprocess per image at shape (1, 3, 384, 640)\n",
            "\n",
            "0: 384x640 (no detections), 35.1ms\n",
            "Speed: 2.1ms preprocess, 35.1ms inference, 3.4ms postprocess per image at shape (1, 3, 384, 640)\n",
            "\n",
            "0: 384x640 (no detections), 36.3ms\n",
            "Speed: 2.3ms preprocess, 36.3ms inference, 1.8ms postprocess per image at shape (1, 3, 384, 640)\n",
            "\n",
            "0: 384x640 (no detections), 33.0ms\n",
            "Speed: 2.5ms preprocess, 33.0ms inference, 3.8ms postprocess per image at shape (1, 3, 384, 640)\n",
            "\n",
            "0: 384x640 (no detections), 35.1ms\n",
            "Speed: 1.9ms preprocess, 35.1ms inference, 1.8ms postprocess per image at shape (1, 3, 384, 640)\n",
            "\n",
            "0: 384x640 (no detections), 33.8ms\n",
            "Speed: 1.9ms preprocess, 33.8ms inference, 5.8ms postprocess per image at shape (1, 3, 384, 640)\n",
            "\n",
            "0: 384x640 (no detections), 31.2ms\n",
            "Speed: 4.0ms preprocess, 31.2ms inference, 1.9ms postprocess per image at shape (1, 3, 384, 640)\n",
            "\n",
            "0: 384x640 (no detections), 31.5ms\n",
            "Speed: 3.9ms preprocess, 31.5ms inference, 1.9ms postprocess per image at shape (1, 3, 384, 640)\n",
            "\n",
            "0: 384x640 (no detections), 33.0ms\n",
            "Speed: 2.0ms preprocess, 33.0ms inference, 2.3ms postprocess per image at shape (1, 3, 384, 640)\n",
            "\n",
            "0: 384x640 (no detections), 33.8ms\n",
            "Speed: 2.5ms preprocess, 33.8ms inference, 1.9ms postprocess per image at shape (1, 3, 384, 640)\n",
            "\n",
            "0: 384x640 (no detections), 35.4ms\n",
            "Speed: 2.4ms preprocess, 35.4ms inference, 2.0ms postprocess per image at shape (1, 3, 384, 640)\n",
            "\n",
            "0: 384x640 (no detections), 31.3ms\n",
            "Speed: 2.0ms preprocess, 31.3ms inference, 1.7ms postprocess per image at shape (1, 3, 384, 640)\n",
            "\n",
            "0: 384x640 (no detections), 32.8ms\n",
            "Speed: 2.2ms preprocess, 32.8ms inference, 1.9ms postprocess per image at shape (1, 3, 384, 640)\n",
            "\n",
            "0: 384x640 (no detections), 32.6ms\n",
            "Speed: 2.1ms preprocess, 32.6ms inference, 2.0ms postprocess per image at shape (1, 3, 384, 640)\n",
            "\n",
            "0: 384x640 (no detections), 32.5ms\n",
            "Speed: 2.1ms preprocess, 32.5ms inference, 1.9ms postprocess per image at shape (1, 3, 384, 640)\n",
            "\n",
            "0: 384x640 (no detections), 33.0ms\n",
            "Speed: 2.1ms preprocess, 33.0ms inference, 1.6ms postprocess per image at shape (1, 3, 384, 640)\n",
            "\n",
            "0: 384x640 (no detections), 31.8ms\n",
            "Speed: 2.1ms preprocess, 31.8ms inference, 1.6ms postprocess per image at shape (1, 3, 384, 640)\n",
            "\n",
            "0: 384x640 (no detections), 34.1ms\n",
            "Speed: 2.1ms preprocess, 34.1ms inference, 1.6ms postprocess per image at shape (1, 3, 384, 640)\n",
            "\n",
            "0: 384x640 (no detections), 34.4ms\n",
            "Speed: 2.1ms preprocess, 34.4ms inference, 1.7ms postprocess per image at shape (1, 3, 384, 640)\n",
            "\n",
            "0: 384x640 (no detections), 33.4ms\n",
            "Speed: 2.2ms preprocess, 33.4ms inference, 1.8ms postprocess per image at shape (1, 3, 384, 640)\n",
            "\n",
            "0: 384x640 (no detections), 34.1ms\n",
            "Speed: 2.0ms preprocess, 34.1ms inference, 2.3ms postprocess per image at shape (1, 3, 384, 640)\n",
            "\n",
            "0: 384x640 (no detections), 35.9ms\n",
            "Speed: 2.0ms preprocess, 35.9ms inference, 1.7ms postprocess per image at shape (1, 3, 384, 640)\n",
            "\n",
            "0: 384x640 (no detections), 34.4ms\n",
            "Speed: 3.7ms preprocess, 34.4ms inference, 2.0ms postprocess per image at shape (1, 3, 384, 640)\n",
            "\n",
            "0: 384x640 (no detections), 35.0ms\n",
            "Speed: 1.8ms preprocess, 35.0ms inference, 2.1ms postprocess per image at shape (1, 3, 384, 640)\n",
            "\n",
            "0: 384x640 (no detections), 33.8ms\n",
            "Speed: 2.1ms preprocess, 33.8ms inference, 2.0ms postprocess per image at shape (1, 3, 384, 640)\n",
            "\n",
            "0: 384x640 (no detections), 34.6ms\n",
            "Speed: 1.9ms preprocess, 34.6ms inference, 2.1ms postprocess per image at shape (1, 3, 384, 640)\n",
            "\n",
            "0: 384x640 (no detections), 34.4ms\n",
            "Speed: 3.7ms preprocess, 34.4ms inference, 1.8ms postprocess per image at shape (1, 3, 384, 640)\n",
            "\n",
            "0: 384x640 (no detections), 32.9ms\n",
            "Speed: 1.9ms preprocess, 32.9ms inference, 2.5ms postprocess per image at shape (1, 3, 384, 640)\n",
            "\n",
            "0: 384x640 (no detections), 33.5ms\n",
            "Speed: 2.2ms preprocess, 33.5ms inference, 2.0ms postprocess per image at shape (1, 3, 384, 640)\n",
            "\n",
            "0: 384x640 (no detections), 34.4ms\n",
            "Speed: 2.1ms preprocess, 34.4ms inference, 1.7ms postprocess per image at shape (1, 3, 384, 640)\n",
            "\n",
            "0: 384x640 (no detections), 35.0ms\n",
            "Speed: 1.8ms preprocess, 35.0ms inference, 2.0ms postprocess per image at shape (1, 3, 384, 640)\n",
            "\n",
            "0: 384x640 (no detections), 33.4ms\n",
            "Speed: 2.4ms preprocess, 33.4ms inference, 1.7ms postprocess per image at shape (1, 3, 384, 640)\n",
            "\n",
            "0: 384x640 (no detections), 34.0ms\n",
            "Speed: 2.0ms preprocess, 34.0ms inference, 1.9ms postprocess per image at shape (1, 3, 384, 640)\n",
            "\n",
            "0: 384x640 (no detections), 34.3ms\n",
            "Speed: 2.1ms preprocess, 34.3ms inference, 1.6ms postprocess per image at shape (1, 3, 384, 640)\n",
            "\n",
            "0: 384x640 (no detections), 33.7ms\n",
            "Speed: 4.0ms preprocess, 33.7ms inference, 2.1ms postprocess per image at shape (1, 3, 384, 640)\n",
            "\n",
            "0: 384x640 (no detections), 35.8ms\n",
            "Speed: 2.0ms preprocess, 35.8ms inference, 2.2ms postprocess per image at shape (1, 3, 384, 640)\n",
            "\n",
            "0: 384x640 (no detections), 32.6ms\n",
            "Speed: 3.9ms preprocess, 32.6ms inference, 1.6ms postprocess per image at shape (1, 3, 384, 640)\n",
            "\n",
            "0: 384x640 (no detections), 35.1ms\n",
            "Speed: 1.9ms preprocess, 35.1ms inference, 1.6ms postprocess per image at shape (1, 3, 384, 640)\n",
            "\n",
            "0: 384x640 (no detections), 35.5ms\n",
            "Speed: 2.2ms preprocess, 35.5ms inference, 1.5ms postprocess per image at shape (1, 3, 384, 640)\n",
            "\n",
            "0: 384x640 (no detections), 33.7ms\n",
            "Speed: 1.8ms preprocess, 33.7ms inference, 1.6ms postprocess per image at shape (1, 3, 384, 640)\n",
            "\n",
            "0: 384x640 (no detections), 34.5ms\n",
            "Speed: 1.9ms preprocess, 34.5ms inference, 1.7ms postprocess per image at shape (1, 3, 384, 640)\n",
            "\n",
            "0: 384x640 (no detections), 36.7ms\n",
            "Speed: 2.1ms preprocess, 36.7ms inference, 2.1ms postprocess per image at shape (1, 3, 384, 640)\n",
            "\n",
            "0: 384x640 (no detections), 34.0ms\n",
            "Speed: 1.9ms preprocess, 34.0ms inference, 2.0ms postprocess per image at shape (1, 3, 384, 640)\n",
            "\n",
            "0: 384x640 (no detections), 34.7ms\n",
            "Speed: 2.0ms preprocess, 34.7ms inference, 1.5ms postprocess per image at shape (1, 3, 384, 640)\n",
            "\n",
            "0: 384x640 (no detections), 32.9ms\n",
            "Speed: 5.2ms preprocess, 32.9ms inference, 1.9ms postprocess per image at shape (1, 3, 384, 640)\n",
            "\n",
            "0: 384x640 (no detections), 33.8ms\n",
            "Speed: 2.0ms preprocess, 33.8ms inference, 2.1ms postprocess per image at shape (1, 3, 384, 640)\n",
            "\n",
            "0: 384x640 (no detections), 35.6ms\n",
            "Speed: 2.2ms preprocess, 35.6ms inference, 1.7ms postprocess per image at shape (1, 3, 384, 640)\n",
            "\n",
            "0: 384x640 (no detections), 34.1ms\n",
            "Speed: 3.6ms preprocess, 34.1ms inference, 1.6ms postprocess per image at shape (1, 3, 384, 640)\n",
            "\n",
            "0: 384x640 (no detections), 33.8ms\n",
            "Speed: 2.1ms preprocess, 33.8ms inference, 2.1ms postprocess per image at shape (1, 3, 384, 640)\n",
            "\n",
            "0: 384x640 (no detections), 38.1ms\n",
            "Speed: 2.2ms preprocess, 38.1ms inference, 1.6ms postprocess per image at shape (1, 3, 384, 640)\n",
            "\n",
            "0: 384x640 (no detections), 33.3ms\n",
            "Speed: 2.0ms preprocess, 33.3ms inference, 2.3ms postprocess per image at shape (1, 3, 384, 640)\n",
            "\n",
            "0: 384x640 1 football, 32.3ms\n",
            "Speed: 2.1ms preprocess, 32.3ms inference, 2.8ms postprocess per image at shape (1, 3, 384, 640)\n",
            "$$$$$$$$$$$$$$$$$$$  [[548.682861328125, 452.390869140625, 619.2237548828125, 567.652587890625]]\n",
            "\n",
            "0: 384x640 1 football, 34.1ms\n",
            "Speed: 3.7ms preprocess, 34.1ms inference, 2.7ms postprocess per image at shape (1, 3, 384, 640)\n",
            "$$$$$$$$$$$$$$$$$$$  [[565.5555419921875, 456.5107727050781, 637.3819580078125, 565.89501953125]]\n",
            "\n",
            "0: 384x640 2 footballs, 32.3ms\n",
            "Speed: 4.2ms preprocess, 32.3ms inference, 2.7ms postprocess per image at shape (1, 3, 384, 640)\n",
            "$$$$$$$$$$$$$$$$$$$  [[573.6575927734375, 454.62738037109375, 653.0174560546875, 567.6682739257812], [895.2697143554688, 498.3594970703125, 933.4419555664062, 569.7427978515625]]\n",
            "\n",
            "0: 384x640 1 football, 35.0ms\n",
            "Speed: 2.1ms preprocess, 35.0ms inference, 2.1ms postprocess per image at shape (1, 3, 384, 640)\n",
            "$$$$$$$$$$$$$$$$$$$  [[588.40625, 455.0590515136719, 659.124755859375, 545.37744140625]]\n",
            "\n",
            "0: 384x640 1 football, 34.3ms\n",
            "Speed: 2.1ms preprocess, 34.3ms inference, 2.3ms postprocess per image at shape (1, 3, 384, 640)\n",
            "$$$$$$$$$$$$$$$$$$$  [[589.6209106445312, 453.24578857421875, 659.9288940429688, 555.6228637695312]]\n",
            "\n",
            "0: 384x640 1 football, 32.6ms\n",
            "Speed: 2.0ms preprocess, 32.6ms inference, 2.0ms postprocess per image at shape (1, 3, 384, 640)\n",
            "$$$$$$$$$$$$$$$$$$$  [[588.3140869140625, 453.9214782714844, 654.4715576171875, 554.5037841796875]]\n",
            "\n",
            "0: 384x640 (no detections), 34.6ms\n",
            "Speed: 2.3ms preprocess, 34.6ms inference, 1.4ms postprocess per image at shape (1, 3, 384, 640)\n",
            "\n",
            "0: 384x640 (no detections), 34.2ms\n",
            "Speed: 2.4ms preprocess, 34.2ms inference, 1.4ms postprocess per image at shape (1, 3, 384, 640)\n",
            "\n",
            "0: 384x640 (no detections), 33.9ms\n",
            "Speed: 2.2ms preprocess, 33.9ms inference, 1.4ms postprocess per image at shape (1, 3, 384, 640)\n",
            "\n",
            "0: 384x640 (no detections), 32.7ms\n",
            "Speed: 5.4ms preprocess, 32.7ms inference, 1.3ms postprocess per image at shape (1, 3, 384, 640)\n",
            "\n",
            "0: 384x640 (no detections), 34.0ms\n",
            "Speed: 2.1ms preprocess, 34.0ms inference, 1.3ms postprocess per image at shape (1, 3, 384, 640)\n",
            "\n",
            "0: 384x640 (no detections), 33.8ms\n",
            "Speed: 3.0ms preprocess, 33.8ms inference, 1.4ms postprocess per image at shape (1, 3, 384, 640)\n",
            "\n",
            "0: 384x640 (no detections), 34.2ms\n",
            "Speed: 4.0ms preprocess, 34.2ms inference, 1.4ms postprocess per image at shape (1, 3, 384, 640)\n",
            "\n",
            "0: 384x640 1 football, 33.9ms\n",
            "Speed: 4.1ms preprocess, 33.9ms inference, 2.2ms postprocess per image at shape (1, 3, 384, 640)\n",
            "$$$$$$$$$$$$$$$$$$$  [[559.367919921875, 475.03802490234375, 613.6854248046875, 570.4263305664062]]\n",
            "\n",
            "0: 384x640 1 football, 33.3ms\n",
            "Speed: 4.2ms preprocess, 33.3ms inference, 2.6ms postprocess per image at shape (1, 3, 384, 640)\n",
            "$$$$$$$$$$$$$$$$$$$  [[558.3597412109375, 478.8511962890625, 616.4327392578125, 572.6700439453125]]\n",
            "\n",
            "0: 384x640 (no detections), 34.3ms\n",
            "Speed: 2.0ms preprocess, 34.3ms inference, 1.5ms postprocess per image at shape (1, 3, 384, 640)\n",
            "\n",
            "0: 384x640 1 football, 33.3ms\n",
            "Speed: 2.1ms preprocess, 33.3ms inference, 2.3ms postprocess per image at shape (1, 3, 384, 640)\n",
            "$$$$$$$$$$$$$$$$$$$  [[565.0975341796875, 471.6458740234375, 620.0677490234375, 565.60400390625]]\n",
            "\n",
            "0: 384x640 1 football, 34.0ms\n",
            "Speed: 2.2ms preprocess, 34.0ms inference, 2.3ms postprocess per image at shape (1, 3, 384, 640)\n",
            "$$$$$$$$$$$$$$$$$$$  [[572.6799926757812, 467.08099365234375, 623.5211791992188, 562.3146362304688]]\n",
            "\n",
            "0: 384x640 1 football, 31.5ms\n",
            "Speed: 2.2ms preprocess, 31.5ms inference, 2.4ms postprocess per image at shape (1, 3, 384, 640)\n",
            "$$$$$$$$$$$$$$$$$$$  [[572.9631958007812, 467.9149475097656, 617.9723510742188, 553.3914794921875]]\n",
            "\n",
            "0: 384x640 (no detections), 33.6ms\n",
            "Speed: 2.1ms preprocess, 33.6ms inference, 2.8ms postprocess per image at shape (1, 3, 384, 640)\n",
            "\n",
            "0: 384x640 (no detections), 33.6ms\n",
            "Speed: 2.6ms preprocess, 33.6ms inference, 1.4ms postprocess per image at shape (1, 3, 384, 640)\n",
            "\n",
            "0: 384x640 (no detections), 34.5ms\n",
            "Speed: 2.4ms preprocess, 34.5ms inference, 1.3ms postprocess per image at shape (1, 3, 384, 640)\n",
            "\n",
            "0: 384x640 1 football, 34.4ms\n",
            "Speed: 2.1ms preprocess, 34.4ms inference, 2.0ms postprocess per image at shape (1, 3, 384, 640)\n",
            "$$$$$$$$$$$$$$$$$$$  [[492.9970703125, 468.336181640625, 565.9522705078125, 558.40283203125]]\n",
            "\n",
            "0: 384x640 1 football, 33.3ms\n",
            "Speed: 2.0ms preprocess, 33.3ms inference, 2.1ms postprocess per image at shape (1, 3, 384, 640)\n",
            "$$$$$$$$$$$$$$$$$$$  [[463.95794677734375, 459.7634582519531, 539.8990478515625, 560.02392578125]]\n",
            "\n",
            "0: 384x640 1 football, 33.2ms\n",
            "Speed: 1.9ms preprocess, 33.2ms inference, 2.1ms postprocess per image at shape (1, 3, 384, 640)\n",
            "$$$$$$$$$$$$$$$$$$$  [[441.4649658203125, 459.94732666015625, 515.2666015625, 558.3452758789062]]\n",
            "\n",
            "0: 384x640 (no detections), 32.3ms\n",
            "Speed: 2.5ms preprocess, 32.3ms inference, 1.3ms postprocess per image at shape (1, 3, 384, 640)\n",
            "\n",
            "0: 384x640 (no detections), 35.1ms\n",
            "Speed: 2.4ms preprocess, 35.1ms inference, 1.4ms postprocess per image at shape (1, 3, 384, 640)\n",
            "\n",
            "0: 384x640 1 football, 33.8ms\n",
            "Speed: 2.8ms preprocess, 33.8ms inference, 2.2ms postprocess per image at shape (1, 3, 384, 640)\n",
            "$$$$$$$$$$$$$$$$$$$  [[433.7904052734375, 471.80316162109375, 477.7933349609375, 569.3829956054688]]\n",
            "\n",
            "0: 384x640 1 football, 33.9ms\n",
            "Speed: 2.0ms preprocess, 33.9ms inference, 2.2ms postprocess per image at shape (1, 3, 384, 640)\n",
            "$$$$$$$$$$$$$$$$$$$  [[392.674560546875, 473.01611328125, 440.716796875, 562.9322509765625]]\n",
            "\n",
            "0: 384x640 1 football, 34.6ms\n",
            "Speed: 2.1ms preprocess, 34.6ms inference, 3.9ms postprocess per image at shape (1, 3, 384, 640)\n",
            "$$$$$$$$$$$$$$$$$$$  [[388.99554443359375, 474.4845886230469, 468.48406982421875, 574.301513671875]]\n",
            "\n",
            "0: 384x640 1 football, 32.2ms\n",
            "Speed: 2.7ms preprocess, 32.2ms inference, 2.1ms postprocess per image at shape (1, 3, 384, 640)\n",
            "$$$$$$$$$$$$$$$$$$$  [[387.27679443359375, 472.6715087890625, 469.684814453125, 576.0609130859375]]\n",
            "\n",
            "0: 384x640 2 footballs, 32.7ms\n",
            "Speed: 1.9ms preprocess, 32.7ms inference, 2.2ms postprocess per image at shape (1, 3, 384, 640)\n",
            "$$$$$$$$$$$$$$$$$$$  [[390.10711669921875, 466.7585754394531, 469.91925048828125, 574.4169921875], [801.156005859375, 531.7779541015625, 855.281494140625, 645.0836181640625]]\n",
            "\n",
            "0: 384x640 2 footballs, 34.4ms\n",
            "Speed: 2.0ms preprocess, 34.4ms inference, 2.2ms postprocess per image at shape (1, 3, 384, 640)\n",
            "$$$$$$$$$$$$$$$$$$$  [[385.06732177734375, 475.07501220703125, 464.58502197265625, 576.8456420898438], [819.0586547851562, 537.1171264648438, 875.6945190429688, 658.1370239257812]]\n",
            "\n",
            "0: 384x640 (no detections), 32.8ms\n",
            "Speed: 2.3ms preprocess, 32.8ms inference, 1.4ms postprocess per image at shape (1, 3, 384, 640)\n",
            "\n",
            "0: 384x640 1 football, 34.9ms\n",
            "Speed: 2.1ms preprocess, 34.9ms inference, 2.2ms postprocess per image at shape (1, 3, 384, 640)\n",
            "$$$$$$$$$$$$$$$$$$$  [[360.6556091308594, 499.653076171875, 400.8146667480469, 579.0888671875]]\n",
            "\n",
            "0: 384x640 1 football, 34.2ms\n",
            "Speed: 2.1ms preprocess, 34.2ms inference, 2.2ms postprocess per image at shape (1, 3, 384, 640)\n",
            "$$$$$$$$$$$$$$$$$$$  [[329.7332763671875, 498.7470703125, 402.066650390625, 594.256591796875]]\n",
            "\n",
            "0: 384x640 1 football, 35.7ms\n",
            "Speed: 2.0ms preprocess, 35.7ms inference, 2.9ms postprocess per image at shape (1, 3, 384, 640)\n",
            "$$$$$$$$$$$$$$$$$$$  [[302.52325439453125, 496.904296875, 386.19708251953125, 608.61083984375]]\n",
            "\n",
            "0: 384x640 1 football, 35.2ms\n",
            "Speed: 2.1ms preprocess, 35.2ms inference, 2.3ms postprocess per image at shape (1, 3, 384, 640)\n",
            "$$$$$$$$$$$$$$$$$$$  [[290.67364501953125, 505.1239013671875, 373.40594482421875, 618.0267333984375]]\n",
            "\n",
            "0: 384x640 1 football, 34.0ms\n",
            "Speed: 2.2ms preprocess, 34.0ms inference, 2.5ms postprocess per image at shape (1, 3, 384, 640)\n",
            "$$$$$$$$$$$$$$$$$$$  [[280.372802734375, 512.22900390625, 367.640869140625, 626.31494140625]]\n",
            "\n",
            "0: 384x640 2 footballs, 33.0ms\n",
            "Speed: 2.0ms preprocess, 33.0ms inference, 2.2ms postprocess per image at shape (1, 3, 384, 640)\n",
            "$$$$$$$$$$$$$$$$$$$  [[277.79071044921875, 514.714111328125, 360.70208740234375, 623.740478515625], [900.2939453125, 526.6765747070312, 955.30810546875, 624.9032592773438]]\n",
            "\n",
            "0: 384x640 1 football, 34.9ms\n",
            "Speed: 2.1ms preprocess, 34.9ms inference, 2.2ms postprocess per image at shape (1, 3, 384, 640)\n",
            "$$$$$$$$$$$$$$$$$$$  [[279.014892578125, 512.2811279296875, 362.7581787109375, 625.7008056640625]]\n",
            "\n",
            "0: 384x640 1 football, 35.2ms\n",
            "Speed: 2.6ms preprocess, 35.2ms inference, 2.2ms postprocess per image at shape (1, 3, 384, 640)\n",
            "$$$$$$$$$$$$$$$$$$$  [[288.7723693847656, 511.43365478515625, 365.3820495605469, 621.4423217773438]]\n",
            "\n",
            "0: 384x640 1 football, 32.5ms\n",
            "Speed: 2.0ms preprocess, 32.5ms inference, 2.2ms postprocess per image at shape (1, 3, 384, 640)\n",
            "$$$$$$$$$$$$$$$$$$$  [[308.4134826660156, 513.2513427734375, 395.0824890136719, 621.033935546875]]\n",
            "\n",
            "0: 384x640 2 footballs, 33.6ms\n",
            "Speed: 2.3ms preprocess, 33.6ms inference, 2.4ms postprocess per image at shape (1, 3, 384, 640)\n",
            "$$$$$$$$$$$$$$$$$$$  [[338.30621337890625, 514.3772583007812, 421.3575439453125, 616.7504272460938], [339.80499267578125, 516.7916870117188, 401.82904052734375, 611.5921020507812]]\n",
            "\n",
            "0: 384x640 1 football, 34.5ms\n",
            "Speed: 2.1ms preprocess, 34.5ms inference, 2.4ms postprocess per image at shape (1, 3, 384, 640)\n",
            "$$$$$$$$$$$$$$$$$$$  [[364.52239990234375, 500.0611572265625, 452.23699951171875, 609.9691162109375]]\n",
            "\n",
            "0: 384x640 1 football, 36.0ms\n",
            "Speed: 2.2ms preprocess, 36.0ms inference, 2.2ms postprocess per image at shape (1, 3, 384, 640)\n",
            "$$$$$$$$$$$$$$$$$$$  [[400.33929443359375, 500.07611083984375, 483.01190185546875, 609.7050170898438]]\n",
            "\n",
            "0: 384x640 1 football, 33.0ms\n",
            "Speed: 3.9ms preprocess, 33.0ms inference, 2.2ms postprocess per image at shape (1, 3, 384, 640)\n",
            "$$$$$$$$$$$$$$$$$$$  [[420.13739013671875, 496.9698486328125, 503.54498291015625, 601.6534423828125]]\n",
            "\n",
            "0: 384x640 1 football, 33.1ms\n",
            "Speed: 2.2ms preprocess, 33.1ms inference, 2.1ms postprocess per image at shape (1, 3, 384, 640)\n",
            "$$$$$$$$$$$$$$$$$$$  [[443.88665771484375, 490.110595703125, 520.5744018554688, 592.043212890625]]\n",
            "\n",
            "0: 384x640 1 football, 36.6ms\n",
            "Speed: 2.1ms preprocess, 36.6ms inference, 2.3ms postprocess per image at shape (1, 3, 384, 640)\n",
            "$$$$$$$$$$$$$$$$$$$  [[449.996337890625, 484.82208251953125, 531.5845947265625, 591.1272583007812]]\n",
            "\n",
            "0: 384x640 1 football, 32.4ms\n",
            "Speed: 2.1ms preprocess, 32.4ms inference, 2.0ms postprocess per image at shape (1, 3, 384, 640)\n",
            "$$$$$$$$$$$$$$$$$$$  [[455.38922119140625, 484.7694091796875, 534.2240600585938, 593.3837890625]]\n",
            "\n",
            "0: 384x640 1 football, 32.7ms\n",
            "Speed: 2.0ms preprocess, 32.7ms inference, 2.0ms postprocess per image at shape (1, 3, 384, 640)\n",
            "$$$$$$$$$$$$$$$$$$$  [[452.04620361328125, 497.2073974609375, 536.0846557617188, 596.4866943359375]]\n",
            "\n",
            "0: 384x640 2 footballs, 32.2ms\n",
            "Speed: 2.0ms preprocess, 32.2ms inference, 2.2ms postprocess per image at shape (1, 3, 384, 640)\n",
            "$$$$$$$$$$$$$$$$$$$  [[450.46905517578125, 495.88232421875, 531.3309326171875, 598.0009765625], [1215.636962890625, 432.749267578125, 1252.90966796875, 507.48333740234375]]\n",
            "\n",
            "0: 384x640 1 football, 33.5ms\n",
            "Speed: 2.1ms preprocess, 33.5ms inference, 2.3ms postprocess per image at shape (1, 3, 384, 640)\n",
            "$$$$$$$$$$$$$$$$$$$  [[446.13006591796875, 487.66436767578125, 527.3518676757812, 600.3898315429688]]\n",
            "\n",
            "0: 384x640 1 football, 34.4ms\n",
            "Speed: 2.0ms preprocess, 34.4ms inference, 3.4ms postprocess per image at shape (1, 3, 384, 640)\n",
            "$$$$$$$$$$$$$$$$$$$  [[438.87554931640625, 491.4327392578125, 520.4762573242188, 595.1710205078125]]\n",
            "\n",
            "0: 384x640 1 football, 35.6ms\n",
            "Speed: 2.2ms preprocess, 35.6ms inference, 2.3ms postprocess per image at shape (1, 3, 384, 640)\n",
            "$$$$$$$$$$$$$$$$$$$  [[437.61871337890625, 491.9521484375, 518.2177124023438, 591.39111328125]]\n",
            "\n",
            "0: 384x640 1 football, 34.1ms\n",
            "Speed: 2.4ms preprocess, 34.1ms inference, 2.3ms postprocess per image at shape (1, 3, 384, 640)\n",
            "$$$$$$$$$$$$$$$$$$$  [[439.8575439453125, 485.678466796875, 519.8268432617188, 589.1339111328125]]\n",
            "\n",
            "0: 384x640 1 football, 33.9ms\n",
            "Speed: 2.2ms preprocess, 33.9ms inference, 2.2ms postprocess per image at shape (1, 3, 384, 640)\n",
            "$$$$$$$$$$$$$$$$$$$  [[440.142333984375, 484.5250244140625, 520.562255859375, 588.8792724609375]]\n",
            "\n",
            "0: 384x640 1 football, 34.0ms\n",
            "Speed: 5.2ms preprocess, 34.0ms inference, 2.3ms postprocess per image at shape (1, 3, 384, 640)\n",
            "$$$$$$$$$$$$$$$$$$$  [[447.8587646484375, 485.83233642578125, 524.603759765625, 592.7523803710938]]\n",
            "\n",
            "0: 384x640 1 football, 33.6ms\n",
            "Speed: 2.5ms preprocess, 33.6ms inference, 3.2ms postprocess per image at shape (1, 3, 384, 640)\n",
            "$$$$$$$$$$$$$$$$$$$  [[454.22393798828125, 488.97479248046875, 534.8640747070312, 591.7153930664062]]\n",
            "\n",
            "0: 384x640 1 football, 32.4ms\n",
            "Speed: 2.1ms preprocess, 32.4ms inference, 2.3ms postprocess per image at shape (1, 3, 384, 640)\n",
            "$$$$$$$$$$$$$$$$$$$  [[458.9945068359375, 485.92242431640625, 538.6005249023438, 592.9352416992188]]\n",
            "\n",
            "0: 384x640 1 football, 33.6ms\n",
            "Speed: 2.0ms preprocess, 33.6ms inference, 2.1ms postprocess per image at shape (1, 3, 384, 640)\n",
            "$$$$$$$$$$$$$$$$$$$  [[467.3446044921875, 490.682373046875, 546.4716186523438, 588.5474853515625]]\n",
            "\n",
            "0: 384x640 1 football, 34.4ms\n",
            "Speed: 2.3ms preprocess, 34.4ms inference, 2.2ms postprocess per image at shape (1, 3, 384, 640)\n",
            "$$$$$$$$$$$$$$$$$$$  [[470.29412841796875, 484.4791564941406, 548.7103881835938, 582.1795654296875]]\n",
            "\n",
            "0: 384x640 1 football, 32.8ms\n",
            "Speed: 2.1ms preprocess, 32.8ms inference, 2.1ms postprocess per image at shape (1, 3, 384, 640)\n",
            "$$$$$$$$$$$$$$$$$$$  [[469.885009765625, 481.2110595703125, 550.5654296875, 582.834716796875]]\n",
            "\n",
            "0: 384x640 1 football, 34.5ms\n",
            "Speed: 2.2ms preprocess, 34.5ms inference, 2.2ms postprocess per image at shape (1, 3, 384, 640)\n",
            "$$$$$$$$$$$$$$$$$$$  [[472.9420166015625, 480.5529479980469, 547.625732421875, 575.976806640625]]\n",
            "\n",
            "0: 384x640 1 football, 33.8ms\n",
            "Speed: 2.2ms preprocess, 33.8ms inference, 3.4ms postprocess per image at shape (1, 3, 384, 640)\n",
            "$$$$$$$$$$$$$$$$$$$  [[464.52642822265625, 473.4329528808594, 542.9888305664062, 577.5594482421875]]\n",
            "\n",
            "0: 384x640 1 football, 33.1ms\n",
            "Speed: 2.5ms preprocess, 33.1ms inference, 2.9ms postprocess per image at shape (1, 3, 384, 640)\n",
            "$$$$$$$$$$$$$$$$$$$  [[457.23260498046875, 472.74267578125, 534.6182250976562, 573.8843994140625]]\n",
            "\n",
            "0: 384x640 1 football, 33.6ms\n",
            "Speed: 2.1ms preprocess, 33.6ms inference, 2.6ms postprocess per image at shape (1, 3, 384, 640)\n",
            "$$$$$$$$$$$$$$$$$$$  [[451.38116455078125, 471.2542724609375, 525.1482543945312, 575.4556884765625]]\n",
            "\n",
            "0: 384x640 1 football, 32.1ms\n",
            "Speed: 2.2ms preprocess, 32.1ms inference, 2.2ms postprocess per image at shape (1, 3, 384, 640)\n",
            "$$$$$$$$$$$$$$$$$$$  [[444.3663330078125, 471.38671875, 523.6651000976562, 577.4566650390625]]\n",
            "\n",
            "0: 384x640 1 football, 34.9ms\n",
            "Speed: 2.0ms preprocess, 34.9ms inference, 2.0ms postprocess per image at shape (1, 3, 384, 640)\n",
            "$$$$$$$$$$$$$$$$$$$  [[439.22003173828125, 471.62701416015625, 517.8768920898438, 575.6184692382812]]\n",
            "\n",
            "0: 384x640 1 football, 34.6ms\n",
            "Speed: 1.9ms preprocess, 34.6ms inference, 3.4ms postprocess per image at shape (1, 3, 384, 640)\n",
            "$$$$$$$$$$$$$$$$$$$  [[433.73907470703125, 473.8365478515625, 508.46197509765625, 577.705322265625]]\n",
            "\n",
            "0: 384x640 1 football, 32.8ms\n",
            "Speed: 2.0ms preprocess, 32.8ms inference, 2.0ms postprocess per image at shape (1, 3, 384, 640)\n",
            "$$$$$$$$$$$$$$$$$$$  [[428.50640869140625, 473.8992919921875, 502.75604248046875, 576.54150390625]]\n",
            "\n",
            "0: 384x640 1 football, 34.5ms\n",
            "Speed: 2.0ms preprocess, 34.5ms inference, 3.4ms postprocess per image at shape (1, 3, 384, 640)\n",
            "$$$$$$$$$$$$$$$$$$$  [[422.186767578125, 475.40118408203125, 494.8984375, 577.4061889648438]]\n",
            "\n",
            "0: 384x640 1 football, 34.7ms\n",
            "Speed: 2.0ms preprocess, 34.7ms inference, 2.8ms postprocess per image at shape (1, 3, 384, 640)\n",
            "$$$$$$$$$$$$$$$$$$$  [[423.98126220703125, 481.18341064453125, 504.26751708984375, 588.7395629882812]]\n",
            "\n",
            "0: 384x640 1 football, 33.0ms\n",
            "Speed: 2.0ms preprocess, 33.0ms inference, 2.1ms postprocess per image at shape (1, 3, 384, 640)\n",
            "$$$$$$$$$$$$$$$$$$$  [[432.31396484375, 491.28057861328125, 510.755126953125, 599.0671997070312]]\n",
            "\n",
            "0: 384x640 1 football, 32.5ms\n",
            "Speed: 4.2ms preprocess, 32.5ms inference, 2.5ms postprocess per image at shape (1, 3, 384, 640)\n",
            "$$$$$$$$$$$$$$$$$$$  [[447.77020263671875, 512.66162109375, 527.8971557617188, 615.12158203125]]\n",
            "\n",
            "0: 384x640 1 football, 33.0ms\n",
            "Speed: 2.1ms preprocess, 33.0ms inference, 2.1ms postprocess per image at shape (1, 3, 384, 640)\n",
            "$$$$$$$$$$$$$$$$$$$  [[460.682861328125, 519.827880859375, 538.50927734375, 621.8812255859375]]\n",
            "\n",
            "0: 384x640 1 football, 34.5ms\n",
            "Speed: 2.0ms preprocess, 34.5ms inference, 2.0ms postprocess per image at shape (1, 3, 384, 640)\n",
            "$$$$$$$$$$$$$$$$$$$  [[469.3964538574219, 528.7591552734375, 554.80224609375, 628.2694091796875]]\n",
            "\n",
            "0: 384x640 1 football, 33.4ms\n",
            "Speed: 2.8ms preprocess, 33.4ms inference, 2.1ms postprocess per image at shape (1, 3, 384, 640)\n",
            "$$$$$$$$$$$$$$$$$$$  [[486.52099609375, 532.2049560546875, 566.9681396484375, 645.0225830078125]]\n",
            "\n",
            "0: 384x640 1 football, 33.2ms\n",
            "Speed: 2.0ms preprocess, 33.2ms inference, 2.1ms postprocess per image at shape (1, 3, 384, 640)\n",
            "$$$$$$$$$$$$$$$$$$$  [[506.7106018066406, 544.0157470703125, 586.0435791015625, 649.02197265625]]\n",
            "\n",
            "0: 384x640 1 football, 32.9ms\n",
            "Speed: 2.2ms preprocess, 32.9ms inference, 2.1ms postprocess per image at shape (1, 3, 384, 640)\n",
            "$$$$$$$$$$$$$$$$$$$  [[518.9844970703125, 543.6766357421875, 600.9766845703125, 649.7745361328125]]\n",
            "\n",
            "0: 384x640 1 football, 34.3ms\n",
            "Speed: 1.9ms preprocess, 34.3ms inference, 2.3ms postprocess per image at shape (1, 3, 384, 640)\n",
            "$$$$$$$$$$$$$$$$$$$  [[531.9647216796875, 541.58349609375, 614.8822021484375, 652.540771484375]]\n",
            "\n",
            "0: 384x640 1 football, 34.6ms\n",
            "Speed: 1.9ms preprocess, 34.6ms inference, 2.2ms postprocess per image at shape (1, 3, 384, 640)\n",
            "$$$$$$$$$$$$$$$$$$$  [[540.6997680664062, 545.3760986328125, 626.7977905273438, 654.7003173828125]]\n",
            "\n",
            "0: 384x640 1 football, 33.3ms\n",
            "Speed: 3.3ms preprocess, 33.3ms inference, 2.1ms postprocess per image at shape (1, 3, 384, 640)\n",
            "$$$$$$$$$$$$$$$$$$$  [[540.8551025390625, 531.04443359375, 623.7227783203125, 644.979248046875]]\n",
            "\n",
            "0: 384x640 1 football, 33.4ms\n",
            "Speed: 2.0ms preprocess, 33.4ms inference, 2.3ms postprocess per image at shape (1, 3, 384, 640)\n",
            "$$$$$$$$$$$$$$$$$$$  [[547.29541015625, 531.9957275390625, 628.221435546875, 639.0958251953125]]\n",
            "\n",
            "0: 384x640 1 football, 34.6ms\n",
            "Speed: 2.0ms preprocess, 34.6ms inference, 2.1ms postprocess per image at shape (1, 3, 384, 640)\n",
            "$$$$$$$$$$$$$$$$$$$  [[545.278076171875, 528.5438842773438, 629.231201171875, 634.6339721679688]]\n",
            "\n",
            "0: 384x640 1 football, 32.9ms\n",
            "Speed: 2.0ms preprocess, 32.9ms inference, 2.5ms postprocess per image at shape (1, 3, 384, 640)\n",
            "$$$$$$$$$$$$$$$$$$$  [[551.849365234375, 524.7957153320312, 629.7750244140625, 628.7714233398438]]\n",
            "\n",
            "0: 384x640 1 football, 34.3ms\n",
            "Speed: 3.6ms preprocess, 34.3ms inference, 2.0ms postprocess per image at shape (1, 3, 384, 640)\n",
            "$$$$$$$$$$$$$$$$$$$  [[545.7229614257812, 514.93798828125, 624.4308471679688, 623.45166015625]]\n",
            "\n",
            "0: 384x640 1 football, 34.4ms\n",
            "Speed: 2.0ms preprocess, 34.4ms inference, 2.3ms postprocess per image at shape (1, 3, 384, 640)\n",
            "$$$$$$$$$$$$$$$$$$$  [[546.0122680664062, 514.5454711914062, 623.4037475585938, 615.4776000976562]]\n",
            "\n",
            "0: 384x640 1 football, 34.5ms\n",
            "Speed: 2.0ms preprocess, 34.5ms inference, 2.0ms postprocess per image at shape (1, 3, 384, 640)\n",
            "$$$$$$$$$$$$$$$$$$$  [[541.2866821289062, 507.3846435546875, 616.4360961914062, 610.6566162109375]]\n",
            "\n",
            "0: 384x640 1 football, 33.0ms\n",
            "Speed: 1.9ms preprocess, 33.0ms inference, 3.1ms postprocess per image at shape (1, 3, 384, 640)\n",
            "$$$$$$$$$$$$$$$$$$$  [[525.8782958984375, 498.3250732421875, 608.2750244140625, 608.122802734375]]\n",
            "\n",
            "0: 384x640 1 football, 32.4ms\n",
            "Speed: 2.0ms preprocess, 32.4ms inference, 2.1ms postprocess per image at shape (1, 3, 384, 640)\n",
            "$$$$$$$$$$$$$$$$$$$  [[517.5465698242188, 497.753173828125, 593.9574584960938, 600.31591796875]]\n",
            "\n",
            "0: 384x640 1 football, 32.3ms\n",
            "Speed: 1.9ms preprocess, 32.3ms inference, 1.9ms postprocess per image at shape (1, 3, 384, 640)\n",
            "$$$$$$$$$$$$$$$$$$$  [[499.2501525878906, 487.7119140625, 576.5015869140625, 593.6728515625]]\n",
            "\n",
            "0: 384x640 1 football, 33.6ms\n",
            "Speed: 2.2ms preprocess, 33.6ms inference, 2.3ms postprocess per image at shape (1, 3, 384, 640)\n",
            "$$$$$$$$$$$$$$$$$$$  [[482.397705078125, 480.8157958984375, 559.0216064453125, 585.1053466796875]]\n",
            "\n",
            "0: 384x640 1 football, 33.2ms\n",
            "Speed: 2.0ms preprocess, 33.2ms inference, 2.2ms postprocess per image at shape (1, 3, 384, 640)\n",
            "$$$$$$$$$$$$$$$$$$$  [[471.95306396484375, 472.8619384765625, 536.2903442382812, 574.2784423828125]]\n",
            "\n",
            "0: 384x640 1 football, 32.7ms\n",
            "Speed: 2.1ms preprocess, 32.7ms inference, 2.0ms postprocess per image at shape (1, 3, 384, 640)\n",
            "$$$$$$$$$$$$$$$$$$$  [[454.046875, 467.5294189453125, 529.6627197265625, 565.885498046875]]\n",
            "\n",
            "0: 384x640 1 football, 34.6ms\n",
            "Speed: 2.0ms preprocess, 34.6ms inference, 2.0ms postprocess per image at shape (1, 3, 384, 640)\n",
            "$$$$$$$$$$$$$$$$$$$  [[446.21942138671875, 463.31573486328125, 517.3280029296875, 559.9453735351562]]\n",
            "\n",
            "0: 384x640 1 football, 34.4ms\n",
            "Speed: 2.3ms preprocess, 34.4ms inference, 2.1ms postprocess per image at shape (1, 3, 384, 640)\n",
            "$$$$$$$$$$$$$$$$$$$  [[436.0685729980469, 450.82183837890625, 498.3068542480469, 554.0219116210938]]\n",
            "\n",
            "0: 384x640 1 football, 34.1ms\n",
            "Speed: 1.9ms preprocess, 34.1ms inference, 2.2ms postprocess per image at shape (1, 3, 384, 640)\n",
            "$$$$$$$$$$$$$$$$$$$  [[430.4495849609375, 432.85150146484375, 497.3292236328125, 533.4193725585938]]\n",
            "\n",
            "0: 384x640 1 football, 33.9ms\n",
            "Speed: 3.1ms preprocess, 33.9ms inference, 2.1ms postprocess per image at shape (1, 3, 384, 640)\n",
            "$$$$$$$$$$$$$$$$$$$  [[425.24029541015625, 418.12506103515625, 495.88421630859375, 528.5800170898438]]\n",
            "\n",
            "0: 384x640 1 football, 34.4ms\n",
            "Speed: 2.0ms preprocess, 34.4ms inference, 2.1ms postprocess per image at shape (1, 3, 384, 640)\n",
            "$$$$$$$$$$$$$$$$$$$  [[421.3215637207031, 408.49761962890625, 494.9292297363281, 512.0086669921875]]\n",
            "\n",
            "0: 384x640 1 football, 32.1ms\n",
            "Speed: 2.2ms preprocess, 32.1ms inference, 2.1ms postprocess per image at shape (1, 3, 384, 640)\n",
            "$$$$$$$$$$$$$$$$$$$  [[419.24749755859375, 410.61273193359375, 489.1773681640625, 500.17926025390625]]\n",
            "\n",
            "0: 384x640 1 football, 32.4ms\n",
            "Speed: 2.0ms preprocess, 32.4ms inference, 2.1ms postprocess per image at shape (1, 3, 384, 640)\n",
            "$$$$$$$$$$$$$$$$$$$  [[415.5367431640625, 412.97998046875, 490.5654296875, 512.2705688476562]]\n",
            "\n",
            "0: 384x640 1 football, 33.5ms\n",
            "Speed: 1.9ms preprocess, 33.5ms inference, 2.3ms postprocess per image at shape (1, 3, 384, 640)\n",
            "$$$$$$$$$$$$$$$$$$$  [[429.27239990234375, 424.0562744140625, 480.91351318359375, 516.8903198242188]]\n",
            "\n",
            "0: 384x640 1 football, 34.0ms\n",
            "Speed: 2.0ms preprocess, 34.0ms inference, 3.2ms postprocess per image at shape (1, 3, 384, 640)\n",
            "$$$$$$$$$$$$$$$$$$$  [[458.8536376953125, 421.75347900390625, 517.1593017578125, 514.1337280273438]]\n",
            "\n",
            "0: 384x640 (no detections), 34.4ms\n",
            "Speed: 2.3ms preprocess, 34.4ms inference, 1.8ms postprocess per image at shape (1, 3, 384, 640)\n",
            "\n",
            "0: 384x640 (no detections), 36.2ms\n",
            "Speed: 2.2ms preprocess, 36.2ms inference, 2.0ms postprocess per image at shape (1, 3, 384, 640)\n",
            "\n",
            "0: 384x640 (no detections), 34.6ms\n",
            "Speed: 3.4ms preprocess, 34.6ms inference, 1.3ms postprocess per image at shape (1, 3, 384, 640)\n",
            "\n",
            "0: 384x640 (no detections), 34.6ms\n",
            "Speed: 2.1ms preprocess, 34.6ms inference, 1.5ms postprocess per image at shape (1, 3, 384, 640)\n",
            "\n",
            "0: 384x640 (no detections), 33.8ms\n",
            "Speed: 1.9ms preprocess, 33.8ms inference, 1.3ms postprocess per image at shape (1, 3, 384, 640)\n",
            "\n",
            "0: 384x640 (no detections), 34.9ms\n",
            "Speed: 2.3ms preprocess, 34.9ms inference, 1.6ms postprocess per image at shape (1, 3, 384, 640)\n",
            "\n",
            "0: 384x640 1 football, 32.6ms\n",
            "Speed: 4.2ms preprocess, 32.6ms inference, 2.0ms postprocess per image at shape (1, 3, 384, 640)\n",
            "$$$$$$$$$$$$$$$$$$$  [[694.0243530273438, 392.252197265625, 736.1156616210938, 464.886474609375]]\n",
            "\n",
            "0: 384x640 (no detections), 32.3ms\n",
            "Speed: 2.2ms preprocess, 32.3ms inference, 1.3ms postprocess per image at shape (1, 3, 384, 640)\n",
            "\n",
            "0: 384x640 (no detections), 32.0ms\n",
            "Speed: 6.5ms preprocess, 32.0ms inference, 1.3ms postprocess per image at shape (1, 3, 384, 640)\n",
            "\n",
            "0: 384x640 (no detections), 35.8ms\n",
            "Speed: 2.2ms preprocess, 35.8ms inference, 1.4ms postprocess per image at shape (1, 3, 384, 640)\n",
            "\n",
            "0: 384x640 (no detections), 33.0ms\n",
            "Speed: 3.8ms preprocess, 33.0ms inference, 1.4ms postprocess per image at shape (1, 3, 384, 640)\n",
            "\n",
            "0: 384x640 (no detections), 34.7ms\n",
            "Speed: 1.8ms preprocess, 34.7ms inference, 1.4ms postprocess per image at shape (1, 3, 384, 640)\n",
            "\n",
            "0: 384x640 (no detections), 32.6ms\n",
            "Speed: 2.8ms preprocess, 32.6ms inference, 1.4ms postprocess per image at shape (1, 3, 384, 640)\n",
            "\n",
            "0: 384x640 (no detections), 32.2ms\n",
            "Speed: 2.1ms preprocess, 32.2ms inference, 1.4ms postprocess per image at shape (1, 3, 384, 640)\n",
            "\n",
            "0: 384x640 (no detections), 32.3ms\n",
            "Speed: 2.2ms preprocess, 32.3ms inference, 1.5ms postprocess per image at shape (1, 3, 384, 640)\n",
            "\n",
            "0: 384x640 (no detections), 34.0ms\n",
            "Speed: 2.4ms preprocess, 34.0ms inference, 1.4ms postprocess per image at shape (1, 3, 384, 640)\n",
            "\n",
            "0: 384x640 (no detections), 32.3ms\n",
            "Speed: 3.2ms preprocess, 32.3ms inference, 1.5ms postprocess per image at shape (1, 3, 384, 640)\n",
            "\n",
            "0: 384x640 (no detections), 33.1ms\n",
            "Speed: 2.3ms preprocess, 33.1ms inference, 1.3ms postprocess per image at shape (1, 3, 384, 640)\n",
            "\n",
            "0: 384x640 (no detections), 34.3ms\n",
            "Speed: 3.5ms preprocess, 34.3ms inference, 1.3ms postprocess per image at shape (1, 3, 384, 640)\n",
            "\n",
            "0: 384x640 (no detections), 33.8ms\n",
            "Speed: 2.2ms preprocess, 33.8ms inference, 1.3ms postprocess per image at shape (1, 3, 384, 640)\n",
            "\n",
            "0: 384x640 (no detections), 34.0ms\n",
            "Speed: 2.2ms preprocess, 34.0ms inference, 1.3ms postprocess per image at shape (1, 3, 384, 640)\n",
            "\n",
            "0: 384x640 1 football, 35.0ms\n",
            "Speed: 2.2ms preprocess, 35.0ms inference, 3.1ms postprocess per image at shape (1, 3, 384, 640)\n",
            "$$$$$$$$$$$$$$$$$$$  [[693.489013671875, 254.81793212890625, 707.7318115234375, 287.79254150390625]]\n",
            "\n",
            "0: 384x640 1 football, 33.9ms\n",
            "Speed: 2.0ms preprocess, 33.9ms inference, 2.0ms postprocess per image at shape (1, 3, 384, 640)\n",
            "$$$$$$$$$$$$$$$$$$$  [[699.3370971679688, 255.546630859375, 714.1964721679688, 288.7474365234375]]\n",
            "\n",
            "0: 384x640 1 football, 34.0ms\n",
            "Speed: 3.9ms preprocess, 34.0ms inference, 1.9ms postprocess per image at shape (1, 3, 384, 640)\n",
            "$$$$$$$$$$$$$$$$$$$  [[704.089599609375, 257.35791015625, 720.6572265625, 294.779541015625]]\n",
            "\n",
            "0: 384x640 1 football, 34.0ms\n",
            "Speed: 2.1ms preprocess, 34.0ms inference, 2.8ms postprocess per image at shape (1, 3, 384, 640)\n",
            "$$$$$$$$$$$$$$$$$$$  [[709.9888916015625, 258.806640625, 726.6478271484375, 295.06732177734375]]\n",
            "\n",
            "0: 384x640 1 football, 34.4ms\n",
            "Speed: 2.0ms preprocess, 34.4ms inference, 2.1ms postprocess per image at shape (1, 3, 384, 640)\n",
            "$$$$$$$$$$$$$$$$$$$  [[717.1754150390625, 256.81243896484375, 732.3448486328125, 292.63006591796875]]\n",
            "\n",
            "0: 384x640 1 football, 32.7ms\n",
            "Speed: 4.0ms preprocess, 32.7ms inference, 2.1ms postprocess per image at shape (1, 3, 384, 640)\n",
            "$$$$$$$$$$$$$$$$$$$  [[724.3055419921875, 255.887451171875, 738.5084228515625, 289.9539794921875]]\n",
            "\n",
            "0: 384x640 1 football, 32.3ms\n",
            "Speed: 2.7ms preprocess, 32.3ms inference, 2.0ms postprocess per image at shape (1, 3, 384, 640)\n",
            "$$$$$$$$$$$$$$$$$$$  [[726.5604858398438, 255.9796142578125, 743.2969360351562, 290.39056396484375]]\n",
            "\n",
            "0: 384x640 1 football, 32.1ms\n",
            "Speed: 2.1ms preprocess, 32.1ms inference, 2.1ms postprocess per image at shape (1, 3, 384, 640)\n",
            "$$$$$$$$$$$$$$$$$$$  [[733.9835205078125, 256.91094970703125, 748.7022705078125, 291.47998046875]]\n",
            "\n",
            "0: 384x640 1 football, 33.5ms\n",
            "Speed: 4.4ms preprocess, 33.5ms inference, 2.2ms postprocess per image at shape (1, 3, 384, 640)\n",
            "$$$$$$$$$$$$$$$$$$$  [[739.2083740234375, 256.4747009277344, 753.8511962890625, 291.4132995605469]]\n",
            "\n",
            "0: 384x640 1 football, 33.6ms\n",
            "Speed: 2.0ms preprocess, 33.6ms inference, 4.0ms postprocess per image at shape (1, 3, 384, 640)\n",
            "$$$$$$$$$$$$$$$$$$$  [[742.126953125, 257.1036376953125, 757.427978515625, 291.87060546875]]\n",
            "\n",
            "0: 384x640 1 football, 33.0ms\n",
            "Speed: 2.4ms preprocess, 33.0ms inference, 2.1ms postprocess per image at shape (1, 3, 384, 640)\n",
            "$$$$$$$$$$$$$$$$$$$  [[746.752685546875, 258.8022155761719, 761.9866943359375, 292.3176574707031]]\n",
            "\n",
            "0: 384x640 1 football, 35.1ms\n",
            "Speed: 1.9ms preprocess, 35.1ms inference, 2.1ms postprocess per image at shape (1, 3, 384, 640)\n",
            "$$$$$$$$$$$$$$$$$$$  [[751.4131469726562, 256.9494323730469, 767.0415649414062, 293.2575378417969]]\n",
            "\n",
            "0: 384x640 1 football, 33.5ms\n",
            "Speed: 1.9ms preprocess, 33.5ms inference, 2.2ms postprocess per image at shape (1, 3, 384, 640)\n",
            "$$$$$$$$$$$$$$$$$$$  [[756.8433227539062, 256.1272277832031, 770.4175415039062, 289.8843078613281]]\n",
            "\n",
            "0: 384x640 1 football, 34.5ms\n",
            "Speed: 2.0ms preprocess, 34.5ms inference, 2.1ms postprocess per image at shape (1, 3, 384, 640)\n",
            "$$$$$$$$$$$$$$$$$$$  [[758.7972412109375, 256.7530517578125, 775.1136474609375, 289.79638671875]]\n",
            "\n",
            "0: 384x640 1 football, 33.7ms\n",
            "Speed: 2.1ms preprocess, 33.7ms inference, 2.9ms postprocess per image at shape (1, 3, 384, 640)\n",
            "$$$$$$$$$$$$$$$$$$$  [[764.9526977539062, 258.43780517578125, 779.1151733398438, 290.80487060546875]]\n",
            "\n",
            "0: 384x640 1 football, 33.9ms\n",
            "Speed: 2.0ms preprocess, 33.9ms inference, 3.0ms postprocess per image at shape (1, 3, 384, 640)\n",
            "$$$$$$$$$$$$$$$$$$$  [[767.7994384765625, 257.547119140625, 783.1417236328125, 292.76953125]]\n",
            "\n",
            "0: 384x640 1 football, 31.4ms\n",
            "Speed: 2.4ms preprocess, 31.4ms inference, 3.1ms postprocess per image at shape (1, 3, 384, 640)\n",
            "$$$$$$$$$$$$$$$$$$$  [[773.1406860351562, 257.12872314453125, 786.7901000976562, 289.50518798828125]]\n",
            "\n",
            "0: 384x640 1 football, 32.7ms\n",
            "Speed: 2.2ms preprocess, 32.7ms inference, 5.0ms postprocess per image at shape (1, 3, 384, 640)\n",
            "$$$$$$$$$$$$$$$$$$$  [[774.3138427734375, 257.95806884765625, 789.524169921875, 289.54022216796875]]\n",
            "\n",
            "0: 384x640 (no detections), 32.0ms\n",
            "Speed: 4.0ms preprocess, 32.0ms inference, 2.0ms postprocess per image at shape (1, 3, 384, 640)\n",
            "\n",
            "0: 384x640 (no detections), 34.9ms\n",
            "Speed: 1.9ms preprocess, 34.9ms inference, 3.7ms postprocess per image at shape (1, 3, 384, 640)\n",
            "\n",
            "0: 384x640 (no detections), 34.7ms\n",
            "Speed: 1.9ms preprocess, 34.7ms inference, 1.6ms postprocess per image at shape (1, 3, 384, 640)\n",
            "\n",
            "0: 384x640 1 football, 34.8ms\n",
            "Speed: 3.8ms preprocess, 34.8ms inference, 2.9ms postprocess per image at shape (1, 3, 384, 640)\n",
            "$$$$$$$$$$$$$$$$$$$  [[787.8466796875, 256.6949768066406, 799.7060546875, 288.6614074707031]]\n",
            "\n",
            "0: 384x640 (no detections), 32.0ms\n",
            "Speed: 2.2ms preprocess, 32.0ms inference, 1.8ms postprocess per image at shape (1, 3, 384, 640)\n",
            "\n",
            "0: 384x640 (no detections), 34.9ms\n",
            "Speed: 2.1ms preprocess, 34.9ms inference, 1.5ms postprocess per image at shape (1, 3, 384, 640)\n",
            "\n",
            "0: 384x640 (no detections), 33.2ms\n",
            "Speed: 2.0ms preprocess, 33.2ms inference, 2.6ms postprocess per image at shape (1, 3, 384, 640)\n",
            "\n",
            "0: 384x640 (no detections), 32.9ms\n",
            "Speed: 2.1ms preprocess, 32.9ms inference, 1.8ms postprocess per image at shape (1, 3, 384, 640)\n",
            "\n",
            "0: 384x640 1 football, 33.3ms\n",
            "Speed: 2.1ms preprocess, 33.3ms inference, 3.0ms postprocess per image at shape (1, 3, 384, 640)\n",
            "$$$$$$$$$$$$$$$$$$$  [[798.657958984375, 259.7529296875, 813.5938720703125, 293.4173583984375]]\n",
            "\n",
            "0: 384x640 1 football, 35.0ms\n",
            "Speed: 2.1ms preprocess, 35.0ms inference, 2.8ms postprocess per image at shape (1, 3, 384, 640)\n",
            "$$$$$$$$$$$$$$$$$$$  [[799.8670654296875, 260.018310546875, 813.9617919921875, 291.771484375]]\n",
            "\n",
            "0: 384x640 1 football, 33.6ms\n",
            "Speed: 2.0ms preprocess, 33.6ms inference, 2.6ms postprocess per image at shape (1, 3, 384, 640)\n",
            "$$$$$$$$$$$$$$$$$$$  [[802.3837890625, 259.484375, 815.794677734375, 290.9296875]]\n",
            "\n",
            "0: 384x640 (no detections), 34.2ms\n",
            "Speed: 1.9ms preprocess, 34.2ms inference, 2.0ms postprocess per image at shape (1, 3, 384, 640)\n",
            "\n",
            "0: 384x640 1 football, 34.2ms\n",
            "Speed: 2.0ms preprocess, 34.2ms inference, 2.8ms postprocess per image at shape (1, 3, 384, 640)\n",
            "$$$$$$$$$$$$$$$$$$$  [[804.1693115234375, 258.6851806640625, 818.3328857421875, 291.5869140625]]\n",
            "\n",
            "0: 384x640 1 football, 34.7ms\n",
            "Speed: 2.0ms preprocess, 34.7ms inference, 2.8ms postprocess per image at shape (1, 3, 384, 640)\n",
            "$$$$$$$$$$$$$$$$$$$  [[804.5943603515625, 259.0504150390625, 820.0040283203125, 293.695556640625]]\n",
            "\n",
            "0: 384x640 1 football, 32.7ms\n",
            "Speed: 2.0ms preprocess, 32.7ms inference, 2.7ms postprocess per image at shape (1, 3, 384, 640)\n",
            "$$$$$$$$$$$$$$$$$$$  [[805.0149536132812, 258.50689697265625, 819.2523803710938, 291.00091552734375]]\n",
            "\n",
            "0: 384x640 1 football, 35.5ms\n",
            "Speed: 2.0ms preprocess, 35.5ms inference, 3.0ms postprocess per image at shape (1, 3, 384, 640)\n",
            "$$$$$$$$$$$$$$$$$$$  [[805.26611328125, 258.52569580078125, 820.3056640625, 292.18707275390625]]\n",
            "\n",
            "0: 384x640 1 football, 32.4ms\n",
            "Speed: 2.2ms preprocess, 32.4ms inference, 2.8ms postprocess per image at shape (1, 3, 384, 640)\n",
            "$$$$$$$$$$$$$$$$$$$  [[804.954345703125, 259.44561767578125, 820.5198974609375, 294.46649169921875]]\n",
            "\n",
            "0: 384x640 1 football, 34.6ms\n",
            "Speed: 2.1ms preprocess, 34.6ms inference, 2.6ms postprocess per image at shape (1, 3, 384, 640)\n",
            "$$$$$$$$$$$$$$$$$$$  [[805.4453125, 259.3014221191406, 821.31103515625, 294.0319519042969]]\n",
            "\n",
            "0: 384x640 1 football, 32.7ms\n",
            "Speed: 1.9ms preprocess, 32.7ms inference, 2.6ms postprocess per image at shape (1, 3, 384, 640)\n",
            "$$$$$$$$$$$$$$$$$$$  [[805.759033203125, 257.92822265625, 823.701904296875, 295.056884765625]]\n",
            "\n",
            "0: 384x640 1 football, 35.4ms\n",
            "Speed: 1.9ms preprocess, 35.4ms inference, 2.6ms postprocess per image at shape (1, 3, 384, 640)\n",
            "$$$$$$$$$$$$$$$$$$$  [[806.3675537109375, 259.69439697265625, 825.4700927734375, 295.88232421875]]\n",
            "\n",
            "0: 384x640 1 football, 34.1ms\n",
            "Speed: 2.2ms preprocess, 34.1ms inference, 2.8ms postprocess per image at shape (1, 3, 384, 640)\n",
            "$$$$$$$$$$$$$$$$$$$  [[807.2880249023438, 260.3836669921875, 825.6560668945312, 297.0308837890625]]\n",
            "\n",
            "0: 384x640 1 football, 34.3ms\n",
            "Speed: 2.0ms preprocess, 34.3ms inference, 2.6ms postprocess per image at shape (1, 3, 384, 640)\n",
            "$$$$$$$$$$$$$$$$$$$  [[808.66162109375, 259.45257568359375, 827.506103515625, 295.77764892578125]]\n",
            "\n",
            "0: 384x640 1 football, 32.7ms\n",
            "Speed: 2.0ms preprocess, 32.7ms inference, 2.6ms postprocess per image at shape (1, 3, 384, 640)\n",
            "$$$$$$$$$$$$$$$$$$$  [[809.9278564453125, 261.17840576171875, 826.8206787109375, 294.78228759765625]]\n",
            "\n",
            "0: 384x640 1 football, 33.8ms\n",
            "Speed: 2.0ms preprocess, 33.8ms inference, 2.7ms postprocess per image at shape (1, 3, 384, 640)\n",
            "$$$$$$$$$$$$$$$$$$$  [[811.51806640625, 260.66162109375, 827.6689453125, 295.05841064453125]]\n",
            "\n",
            "0: 384x640 1 football, 32.4ms\n",
            "Speed: 2.0ms preprocess, 32.4ms inference, 2.7ms postprocess per image at shape (1, 3, 384, 640)\n",
            "$$$$$$$$$$$$$$$$$$$  [[811.5233154296875, 262.04840087890625, 827.7376708984375, 295.51898193359375]]\n",
            "\n",
            "0: 384x640 1 football, 34.2ms\n",
            "Speed: 2.1ms preprocess, 34.2ms inference, 2.9ms postprocess per image at shape (1, 3, 384, 640)\n",
            "$$$$$$$$$$$$$$$$$$$  [[813.6099853515625, 260.697021484375, 829.6273193359375, 294.9996337890625]]\n",
            "\n",
            "0: 384x640 1 football, 33.3ms\n",
            "Speed: 2.2ms preprocess, 33.3ms inference, 2.8ms postprocess per image at shape (1, 3, 384, 640)\n",
            "$$$$$$$$$$$$$$$$$$$  [[814.832763671875, 261.17578125, 831.603271484375, 295.777587890625]]\n",
            "\n",
            "0: 384x640 1 football, 34.4ms\n",
            "Speed: 2.0ms preprocess, 34.4ms inference, 2.7ms postprocess per image at shape (1, 3, 384, 640)\n",
            "$$$$$$$$$$$$$$$$$$$  [[817.4075927734375, 261.03985595703125, 833.6668701171875, 295.14703369140625]]\n",
            "\n",
            "0: 384x640 1 football, 32.6ms\n",
            "Speed: 1.9ms preprocess, 32.6ms inference, 4.7ms postprocess per image at shape (1, 3, 384, 640)\n",
            "$$$$$$$$$$$$$$$$$$$  [[819.610595703125, 264.2779541015625, 834.36669921875, 295.1715087890625]]\n",
            "\n",
            "0: 384x640 1 football, 31.9ms\n",
            "Speed: 2.2ms preprocess, 31.9ms inference, 2.7ms postprocess per image at shape (1, 3, 384, 640)\n",
            "$$$$$$$$$$$$$$$$$$$  [[820.9974365234375, 263.82293701171875, 836.8397216796875, 295.84197998046875]]\n",
            "\n",
            "0: 384x640 (no detections), 34.0ms\n",
            "Speed: 2.0ms preprocess, 34.0ms inference, 2.1ms postprocess per image at shape (1, 3, 384, 640)\n",
            "\n",
            "0: 384x640 (no detections), 34.7ms\n",
            "Speed: 2.0ms preprocess, 34.7ms inference, 1.7ms postprocess per image at shape (1, 3, 384, 640)\n",
            "\n",
            "0: 384x640 (no detections), 33.3ms\n",
            "Speed: 2.0ms preprocess, 33.3ms inference, 1.6ms postprocess per image at shape (1, 3, 384, 640)\n",
            "\n",
            "0: 384x640 (no detections), 34.3ms\n",
            "Speed: 2.1ms preprocess, 34.3ms inference, 1.9ms postprocess per image at shape (1, 3, 384, 640)\n",
            "\n",
            "0: 384x640 (no detections), 32.5ms\n",
            "Speed: 2.0ms preprocess, 32.5ms inference, 1.7ms postprocess per image at shape (1, 3, 384, 640)\n",
            "\n",
            "0: 384x640 (no detections), 35.2ms\n",
            "Speed: 2.1ms preprocess, 35.2ms inference, 1.6ms postprocess per image at shape (1, 3, 384, 640)\n",
            "\n",
            "0: 384x640 (no detections), 34.6ms\n",
            "Speed: 1.8ms preprocess, 34.6ms inference, 1.6ms postprocess per image at shape (1, 3, 384, 640)\n",
            "\n",
            "0: 384x640 (no detections), 34.9ms\n",
            "Speed: 1.9ms preprocess, 34.9ms inference, 2.0ms postprocess per image at shape (1, 3, 384, 640)\n",
            "\n",
            "0: 384x640 1 football, 34.9ms\n",
            "Speed: 2.0ms preprocess, 34.9ms inference, 2.7ms postprocess per image at shape (1, 3, 384, 640)\n",
            "$$$$$$$$$$$$$$$$$$$  [[747.503173828125, 288.1197204589844, 770.2252197265625, 329.2326354980469]]\n",
            "\n",
            "0: 384x640 (no detections), 34.9ms\n",
            "Speed: 2.0ms preprocess, 34.9ms inference, 1.6ms postprocess per image at shape (1, 3, 384, 640)\n",
            "\n",
            "0: 384x640 1 football, 32.9ms\n",
            "Speed: 1.8ms preprocess, 32.9ms inference, 2.5ms postprocess per image at shape (1, 3, 384, 640)\n",
            "$$$$$$$$$$$$$$$$$$$  [[724.8018188476562, 304.26483154296875, 740.1549682617188, 337.82025146484375]]\n",
            "\n",
            "0: 384x640 (no detections), 34.6ms\n",
            "Speed: 2.0ms preprocess, 34.6ms inference, 1.7ms postprocess per image at shape (1, 3, 384, 640)\n",
            "\n",
            "0: 384x640 1 football, 33.3ms\n",
            "Speed: 2.2ms preprocess, 33.3ms inference, 5.0ms postprocess per image at shape (1, 3, 384, 640)\n",
            "$$$$$$$$$$$$$$$$$$$  [[699.716064453125, 311.87542724609375, 718.184814453125, 348.077392578125]]\n",
            "\n",
            "0: 384x640 (no detections), 32.5ms\n",
            "Speed: 3.9ms preprocess, 32.5ms inference, 1.9ms postprocess per image at shape (1, 3, 384, 640)\n",
            "\n",
            "0: 384x640 1 football, 33.6ms\n",
            "Speed: 2.1ms preprocess, 33.6ms inference, 4.8ms postprocess per image at shape (1, 3, 384, 640)\n",
            "$$$$$$$$$$$$$$$$$$$  [[676.9514770507812, 319.0948791503906, 695.7910766601562, 355.3075256347656]]\n",
            "\n",
            "0: 384x640 1 football, 35.2ms\n",
            "Speed: 2.0ms preprocess, 35.2ms inference, 6.0ms postprocess per image at shape (1, 3, 384, 640)\n",
            "$$$$$$$$$$$$$$$$$$$  [[664.2306518554688, 322.25762939453125, 687.1603393554688, 363.34161376953125]]\n",
            "\n",
            "0: 384x640 1 football, 31.4ms\n",
            "Speed: 2.1ms preprocess, 31.4ms inference, 2.8ms postprocess per image at shape (1, 3, 384, 640)\n",
            "$$$$$$$$$$$$$$$$$$$  [[653.77978515625, 328.22454833984375, 675.066162109375, 365.83978271484375]]\n",
            "\n",
            "0: 384x640 (no detections), 34.6ms\n",
            "Speed: 2.4ms preprocess, 34.6ms inference, 1.8ms postprocess per image at shape (1, 3, 384, 640)\n",
            "\n",
            "0: 384x640 1 football, 34.9ms\n",
            "Speed: 2.0ms preprocess, 34.9ms inference, 2.7ms postprocess per image at shape (1, 3, 384, 640)\n",
            "$$$$$$$$$$$$$$$$$$$  [[632.0814819335938, 335.63848876953125, 655.6008911132812, 378.39825439453125]]\n",
            "\n",
            "0: 384x640 1 football, 34.9ms\n",
            "Speed: 3.1ms preprocess, 34.9ms inference, 2.9ms postprocess per image at shape (1, 3, 384, 640)\n",
            "$$$$$$$$$$$$$$$$$$$  [[625.427490234375, 343.6479797363281, 644.780029296875, 381.9110412597656]]\n",
            "\n",
            "0: 384x640 1 football, 34.1ms\n",
            "Speed: 2.0ms preprocess, 34.1ms inference, 2.8ms postprocess per image at shape (1, 3, 384, 640)\n",
            "$$$$$$$$$$$$$$$$$$$  [[617.883544921875, 352.39007568359375, 635.97119140625, 386.48638916015625]]\n",
            "\n",
            "0: 384x640 1 football, 34.8ms\n",
            "Speed: 2.0ms preprocess, 34.8ms inference, 2.9ms postprocess per image at shape (1, 3, 384, 640)\n",
            "$$$$$$$$$$$$$$$$$$$  [[612.572998046875, 359.9383544921875, 628.65234375, 394.9093017578125]]\n",
            "\n",
            "0: 384x640 1 football, 31.8ms\n",
            "Speed: 2.1ms preprocess, 31.8ms inference, 2.7ms postprocess per image at shape (1, 3, 384, 640)\n",
            "$$$$$$$$$$$$$$$$$$$  [[606.310302734375, 362.8168640136719, 622.6123046875, 398.3612365722656]]\n",
            "\n",
            "0: 384x640 1 football, 35.3ms\n",
            "Speed: 1.9ms preprocess, 35.3ms inference, 2.9ms postprocess per image at shape (1, 3, 384, 640)\n",
            "$$$$$$$$$$$$$$$$$$$  [[598.3662109375, 365.4554138183594, 616.18408203125, 400.8330383300781]]\n",
            "\n",
            "0: 384x640 1 football, 31.8ms\n",
            "Speed: 2.3ms preprocess, 31.8ms inference, 2.8ms postprocess per image at shape (1, 3, 384, 640)\n",
            "$$$$$$$$$$$$$$$$$$$  [[594.9886474609375, 367.88336181640625, 612.6732177734375, 405.34228515625]]\n",
            "\n",
            "0: 384x640 (no detections), 32.3ms\n",
            "Speed: 2.4ms preprocess, 32.3ms inference, 1.7ms postprocess per image at shape (1, 3, 384, 640)\n",
            "\n",
            "0: 384x640 (no detections), 33.2ms\n",
            "Speed: 2.1ms preprocess, 33.2ms inference, 1.7ms postprocess per image at shape (1, 3, 384, 640)\n",
            "\n",
            "0: 384x640 (no detections), 32.5ms\n",
            "Speed: 2.1ms preprocess, 32.5ms inference, 1.8ms postprocess per image at shape (1, 3, 384, 640)\n",
            "\n",
            "0: 384x640 (no detections), 34.4ms\n",
            "Speed: 2.1ms preprocess, 34.4ms inference, 1.9ms postprocess per image at shape (1, 3, 384, 640)\n",
            "\n",
            "0: 384x640 (no detections), 32.0ms\n",
            "Speed: 2.3ms preprocess, 32.0ms inference, 1.7ms postprocess per image at shape (1, 3, 384, 640)\n",
            "\n",
            "0: 384x640 (no detections), 35.4ms\n",
            "Speed: 2.1ms preprocess, 35.4ms inference, 2.2ms postprocess per image at shape (1, 3, 384, 640)\n",
            "\n",
            "0: 384x640 (no detections), 32.3ms\n",
            "Speed: 2.0ms preprocess, 32.3ms inference, 2.2ms postprocess per image at shape (1, 3, 384, 640)\n",
            "\n",
            "0: 384x640 (no detections), 34.6ms\n",
            "Speed: 2.2ms preprocess, 34.6ms inference, 1.9ms postprocess per image at shape (1, 3, 384, 640)\n",
            "\n",
            "0: 384x640 (no detections), 32.9ms\n",
            "Speed: 2.1ms preprocess, 32.9ms inference, 1.7ms postprocess per image at shape (1, 3, 384, 640)\n",
            "\n",
            "0: 384x640 (no detections), 34.5ms\n",
            "Speed: 2.1ms preprocess, 34.5ms inference, 1.7ms postprocess per image at shape (1, 3, 384, 640)\n",
            "\n",
            "0: 384x640 (no detections), 34.4ms\n",
            "Speed: 1.9ms preprocess, 34.4ms inference, 1.7ms postprocess per image at shape (1, 3, 384, 640)\n",
            "\n",
            "0: 384x640 (no detections), 38.5ms\n",
            "Speed: 2.2ms preprocess, 38.5ms inference, 1.7ms postprocess per image at shape (1, 3, 384, 640)\n",
            "\n",
            "0: 384x640 (no detections), 34.6ms\n",
            "Speed: 2.2ms preprocess, 34.6ms inference, 1.6ms postprocess per image at shape (1, 3, 384, 640)\n",
            "\n",
            "0: 384x640 (no detections), 33.4ms\n",
            "Speed: 2.0ms preprocess, 33.4ms inference, 1.8ms postprocess per image at shape (1, 3, 384, 640)\n",
            "\n",
            "0: 384x640 (no detections), 33.7ms\n",
            "Speed: 2.0ms preprocess, 33.7ms inference, 1.8ms postprocess per image at shape (1, 3, 384, 640)\n",
            "\n",
            "0: 384x640 (no detections), 32.3ms\n",
            "Speed: 2.1ms preprocess, 32.3ms inference, 2.1ms postprocess per image at shape (1, 3, 384, 640)\n",
            "\n",
            "0: 384x640 (no detections), 33.7ms\n",
            "Speed: 2.2ms preprocess, 33.7ms inference, 2.3ms postprocess per image at shape (1, 3, 384, 640)\n",
            "\n",
            "0: 384x640 (no detections), 34.7ms\n",
            "Speed: 2.3ms preprocess, 34.7ms inference, 2.1ms postprocess per image at shape (1, 3, 384, 640)\n",
            "\n",
            "0: 384x640 (no detections), 34.5ms\n",
            "Speed: 2.1ms preprocess, 34.5ms inference, 1.7ms postprocess per image at shape (1, 3, 384, 640)\n",
            "\n",
            "0: 384x640 (no detections), 32.1ms\n",
            "Speed: 4.4ms preprocess, 32.1ms inference, 2.1ms postprocess per image at shape (1, 3, 384, 640)\n",
            "\n",
            "0: 384x640 (no detections), 33.7ms\n",
            "Speed: 1.9ms preprocess, 33.7ms inference, 4.0ms postprocess per image at shape (1, 3, 384, 640)\n",
            "\n",
            "0: 384x640 (no detections), 34.8ms\n",
            "Speed: 2.7ms preprocess, 34.8ms inference, 2.0ms postprocess per image at shape (1, 3, 384, 640)\n",
            "\n",
            "0: 384x640 (no detections), 37.2ms\n",
            "Speed: 2.1ms preprocess, 37.2ms inference, 1.8ms postprocess per image at shape (1, 3, 384, 640)\n",
            "\n",
            "0: 384x640 (no detections), 32.5ms\n",
            "Speed: 2.3ms preprocess, 32.5ms inference, 1.7ms postprocess per image at shape (1, 3, 384, 640)\n",
            "\n",
            "0: 384x640 (no detections), 34.8ms\n",
            "Speed: 1.9ms preprocess, 34.8ms inference, 1.9ms postprocess per image at shape (1, 3, 384, 640)\n",
            "\n",
            "0: 384x640 1 football, 37.5ms\n",
            "Speed: 2.0ms preprocess, 37.5ms inference, 2.7ms postprocess per image at shape (1, 3, 384, 640)\n",
            "$$$$$$$$$$$$$$$$$$$  [[181.69110107421875, 337.94122314453125, 206.03152465820312, 387.98858642578125]]\n",
            "\n",
            "0: 384x640 (no detections), 30.8ms\n",
            "Speed: 4.4ms preprocess, 30.8ms inference, 3.7ms postprocess per image at shape (1, 3, 384, 640)\n",
            "\n",
            "0: 384x640 (no detections), 31.4ms\n",
            "Speed: 2.3ms preprocess, 31.4ms inference, 2.0ms postprocess per image at shape (1, 3, 384, 640)\n",
            "\n",
            "0: 384x640 (no detections), 31.9ms\n",
            "Speed: 2.1ms preprocess, 31.9ms inference, 1.6ms postprocess per image at shape (1, 3, 384, 640)\n",
            "\n",
            "0: 384x640 (no detections), 34.0ms\n",
            "Speed: 1.8ms preprocess, 34.0ms inference, 1.6ms postprocess per image at shape (1, 3, 384, 640)\n",
            "\n",
            "0: 384x640 1 football, 31.8ms\n",
            "Speed: 2.0ms preprocess, 31.8ms inference, 2.7ms postprocess per image at shape (1, 3, 384, 640)\n",
            "$$$$$$$$$$$$$$$$$$$  [[275.70050048828125, 352.32073974609375, 300.00909423828125, 402.45758056640625]]\n",
            "\n",
            "0: 384x640 1 football, 32.9ms\n",
            "Speed: 1.9ms preprocess, 32.9ms inference, 3.1ms postprocess per image at shape (1, 3, 384, 640)\n",
            "$$$$$$$$$$$$$$$$$$$  [[283.7921142578125, 354.1376037597656, 303.8345947265625, 396.3741760253906]]\n",
            "\n",
            "0: 384x640 1 football, 35.4ms\n",
            "Speed: 2.0ms preprocess, 35.4ms inference, 2.4ms postprocess per image at shape (1, 3, 384, 640)\n",
            "$$$$$$$$$$$$$$$$$$$  [[289.8421936035156, 354.25201416015625, 312.4254455566406, 397.60760498046875]]\n",
            "\n",
            "0: 384x640 1 football, 31.7ms\n",
            "Speed: 4.0ms preprocess, 31.7ms inference, 3.1ms postprocess per image at shape (1, 3, 384, 640)\n",
            "$$$$$$$$$$$$$$$$$$$  [[295.247802734375, 353.552490234375, 320.0802001953125, 396.08203125]]\n",
            "\n",
            "0: 384x640 1 football, 32.3ms\n",
            "Speed: 1.9ms preprocess, 32.3ms inference, 2.6ms postprocess per image at shape (1, 3, 384, 640)\n",
            "$$$$$$$$$$$$$$$$$$$  [[304.2608642578125, 350.69482421875, 328.14862060546875, 394.7930908203125]]\n",
            "\n",
            "0: 384x640 1 football, 33.6ms\n",
            "Speed: 1.9ms preprocess, 33.6ms inference, 2.5ms postprocess per image at shape (1, 3, 384, 640)\n",
            "$$$$$$$$$$$$$$$$$$$  [[313.19622802734375, 356.7132263183594, 331.51336669921875, 389.7472839355469]]\n",
            "\n",
            "0: 384x640 1 football, 34.0ms\n",
            "Speed: 1.9ms preprocess, 34.0ms inference, 2.6ms postprocess per image at shape (1, 3, 384, 640)\n",
            "$$$$$$$$$$$$$$$$$$$  [[318.4503173828125, 355.82342529296875, 335.24359130859375, 389.54876708984375]]\n",
            "\n",
            "0: 384x640 1 football, 33.9ms\n",
            "Speed: 2.2ms preprocess, 33.9ms inference, 2.8ms postprocess per image at shape (1, 3, 384, 640)\n",
            "$$$$$$$$$$$$$$$$$$$  [[324.106201171875, 356.232666015625, 344.28399658203125, 394.1923828125]]\n",
            "\n",
            "0: 384x640 1 football, 33.7ms\n",
            "Speed: 1.9ms preprocess, 33.7ms inference, 2.7ms postprocess per image at shape (1, 3, 384, 640)\n",
            "$$$$$$$$$$$$$$$$$$$  [[329.0283203125, 359.4551086425781, 346.02777099609375, 392.3379211425781]]\n",
            "\n",
            "0: 384x640 1 football, 33.7ms\n",
            "Speed: 2.0ms preprocess, 33.7ms inference, 4.1ms postprocess per image at shape (1, 3, 384, 640)\n",
            "$$$$$$$$$$$$$$$$$$$  [[329.22283935546875, 358.53253173828125, 350.449951171875, 396.95758056640625]]\n",
            "\n",
            "0: 384x640 1 football, 33.1ms\n",
            "Speed: 2.2ms preprocess, 33.1ms inference, 3.1ms postprocess per image at shape (1, 3, 384, 640)\n",
            "$$$$$$$$$$$$$$$$$$$  [[339.73291015625, 366.8067932128906, 356.0125732421875, 401.5385437011719]]\n",
            "\n",
            "0: 384x640 1 football, 31.6ms\n",
            "Speed: 2.1ms preprocess, 31.6ms inference, 2.9ms postprocess per image at shape (1, 3, 384, 640)\n",
            "$$$$$$$$$$$$$$$$$$$  [[340.70465087890625, 370.8385009765625, 357.21600341796875, 406.8909912109375]]\n",
            "\n",
            "0: 384x640 1 football, 33.4ms\n",
            "Speed: 1.9ms preprocess, 33.4ms inference, 2.9ms postprocess per image at shape (1, 3, 384, 640)\n",
            "$$$$$$$$$$$$$$$$$$$  [[342.09521484375, 374.72308349609375, 362.11944580078125, 413.6280517578125]]\n",
            "\n",
            "0: 384x640 1 football, 33.8ms\n",
            "Speed: 2.1ms preprocess, 33.8ms inference, 2.9ms postprocess per image at shape (1, 3, 384, 640)\n",
            "$$$$$$$$$$$$$$$$$$$  [[346.2171630859375, 373.5123291015625, 365.72412109375, 413.82672119140625]]\n",
            "\n",
            "0: 384x640 1 football, 34.2ms\n",
            "Speed: 2.0ms preprocess, 34.2ms inference, 2.8ms postprocess per image at shape (1, 3, 384, 640)\n",
            "$$$$$$$$$$$$$$$$$$$  [[348.8359375, 370.4639892578125, 367.308837890625, 411.4107666015625]]\n",
            "\n",
            "0: 384x640 1 football, 34.4ms\n",
            "Speed: 2.0ms preprocess, 34.4ms inference, 2.6ms postprocess per image at shape (1, 3, 384, 640)\n",
            "$$$$$$$$$$$$$$$$$$$  [[349.972900390625, 369.7192077636719, 368.709228515625, 410.8669738769531]]\n",
            "\n",
            "0: 384x640 1 football, 32.9ms\n",
            "Speed: 2.1ms preprocess, 32.9ms inference, 3.0ms postprocess per image at shape (1, 3, 384, 640)\n",
            "$$$$$$$$$$$$$$$$$$$  [[352.77703857421875, 370.947998046875, 368.93792724609375, 408.4100341796875]]\n",
            "\n",
            "0: 384x640 1 football, 33.5ms\n",
            "Speed: 2.1ms preprocess, 33.5ms inference, 3.0ms postprocess per image at shape (1, 3, 384, 640)\n",
            "$$$$$$$$$$$$$$$$$$$  [[353.5078125, 368.32464599609375, 371.9287109375, 408.98394775390625]]\n",
            "\n",
            "0: 384x640 1 football, 32.7ms\n",
            "Speed: 2.1ms preprocess, 32.7ms inference, 2.6ms postprocess per image at shape (1, 3, 384, 640)\n",
            "$$$$$$$$$$$$$$$$$$$  [[353.0687255859375, 367.6702575683594, 372.208984375, 410.4386901855469]]\n",
            "\n",
            "0: 384x640 1 football, 33.5ms\n",
            "Speed: 1.9ms preprocess, 33.5ms inference, 3.0ms postprocess per image at shape (1, 3, 384, 640)\n",
            "$$$$$$$$$$$$$$$$$$$  [[354.77374267578125, 374.8798828125, 371.53167724609375, 410.4957275390625]]\n",
            "\n",
            "0: 384x640 1 football, 32.6ms\n",
            "Speed: 1.9ms preprocess, 32.6ms inference, 2.9ms postprocess per image at shape (1, 3, 384, 640)\n",
            "$$$$$$$$$$$$$$$$$$$  [[355.83074951171875, 372.9544677734375, 372.91461181640625, 414.764404296875]]\n",
            "\n",
            "0: 384x640 1 football, 33.3ms\n",
            "Speed: 1.9ms preprocess, 33.3ms inference, 2.9ms postprocess per image at shape (1, 3, 384, 640)\n",
            "$$$$$$$$$$$$$$$$$$$  [[352.28546142578125, 369.741943359375, 375.07196044921875, 423.007080078125]]\n",
            "\n",
            "0: 384x640 1 football, 36.2ms\n",
            "Speed: 4.0ms preprocess, 36.2ms inference, 3.0ms postprocess per image at shape (1, 3, 384, 640)\n",
            "$$$$$$$$$$$$$$$$$$$  [[735.537353515625, 400.8663024902344, 771.928955078125, 461.0722351074219]]\n",
            "\n",
            "0: 384x640 1 football, 31.0ms\n",
            "Speed: 2.1ms preprocess, 31.0ms inference, 6.8ms postprocess per image at shape (1, 3, 384, 640)\n",
            "$$$$$$$$$$$$$$$$$$$  [[730.503662109375, 399.307373046875, 769.55517578125, 457.40155029296875]]\n",
            "\n",
            "0: 384x640 1 football, 32.1ms\n",
            "Speed: 1.9ms preprocess, 32.1ms inference, 2.8ms postprocess per image at shape (1, 3, 384, 640)\n",
            "$$$$$$$$$$$$$$$$$$$  [[725.4346313476562, 397.151123046875, 763.5007934570312, 456.60113525390625]]\n",
            "\n",
            "0: 384x640 1 football, 32.2ms\n",
            "Speed: 1.9ms preprocess, 32.2ms inference, 3.0ms postprocess per image at shape (1, 3, 384, 640)\n",
            "$$$$$$$$$$$$$$$$$$$  [[723.13330078125, 394.72747802734375, 757.113525390625, 453.89532470703125]]\n",
            "\n",
            "0: 384x640 1 football, 32.9ms\n",
            "Speed: 2.1ms preprocess, 32.9ms inference, 2.8ms postprocess per image at shape (1, 3, 384, 640)\n",
            "$$$$$$$$$$$$$$$$$$$  [[722.9453735351562, 397.21575927734375, 741.9607543945312, 445.27960205078125]]\n",
            "\n",
            "0: 384x640 (no detections), 34.2ms\n",
            "Speed: 1.8ms preprocess, 34.2ms inference, 2.0ms postprocess per image at shape (1, 3, 384, 640)\n",
            "\n",
            "0: 384x640 (no detections), 33.9ms\n",
            "Speed: 1.8ms preprocess, 33.9ms inference, 1.8ms postprocess per image at shape (1, 3, 384, 640)\n",
            "\n",
            "0: 384x640 (no detections), 34.4ms\n",
            "Speed: 2.1ms preprocess, 34.4ms inference, 1.9ms postprocess per image at shape (1, 3, 384, 640)\n",
            "\n",
            "0: 384x640 1 football, 32.3ms\n",
            "Speed: 2.2ms preprocess, 32.3ms inference, 2.8ms postprocess per image at shape (1, 3, 384, 640)\n",
            "$$$$$$$$$$$$$$$$$$$  [[739.2666015625, 403.47589111328125, 760.447021484375, 445.22625732421875]]\n",
            "\n",
            "0: 384x640 (no detections), 33.5ms\n",
            "Speed: 4.2ms preprocess, 33.5ms inference, 2.0ms postprocess per image at shape (1, 3, 384, 640)\n",
            "\n",
            "0: 384x640 (no detections), 32.3ms\n",
            "Speed: 2.5ms preprocess, 32.3ms inference, 2.0ms postprocess per image at shape (1, 3, 384, 640)\n",
            "\n",
            "0: 384x640 (no detections), 33.1ms\n",
            "Speed: 2.3ms preprocess, 33.1ms inference, 1.8ms postprocess per image at shape (1, 3, 384, 640)\n",
            "\n",
            "0: 384x640 (no detections), 33.9ms\n",
            "Speed: 1.8ms preprocess, 33.9ms inference, 1.7ms postprocess per image at shape (1, 3, 384, 640)\n",
            "\n",
            "0: 384x640 (no detections), 33.9ms\n",
            "Speed: 2.1ms preprocess, 33.9ms inference, 1.8ms postprocess per image at shape (1, 3, 384, 640)\n",
            "\n",
            "0: 384x640 1 football, 33.2ms\n",
            "Speed: 2.1ms preprocess, 33.2ms inference, 3.8ms postprocess per image at shape (1, 3, 384, 640)\n",
            "$$$$$$$$$$$$$$$$$$$  [[156.39080810546875, 385.2698974609375, 228.28765869140625, 464.6119384765625]]\n",
            "\n",
            "0: 384x640 1 football, 31.2ms\n",
            "Speed: 2.0ms preprocess, 31.2ms inference, 3.2ms postprocess per image at shape (1, 3, 384, 640)\n",
            "$$$$$$$$$$$$$$$$$$$  [[83.82829284667969, 391.2256164550781, 144.6289825439453, 462.9960632324219]]\n",
            "\n",
            "0: 384x640 (no detections), 32.9ms\n",
            "Speed: 2.1ms preprocess, 32.9ms inference, 1.7ms postprocess per image at shape (1, 3, 384, 640)\n",
            "\n",
            "0: 384x640 (no detections), 34.7ms\n",
            "Speed: 1.8ms preprocess, 34.7ms inference, 1.6ms postprocess per image at shape (1, 3, 384, 640)\n",
            "\n",
            "0: 384x640 (no detections), 35.7ms\n",
            "Speed: 2.2ms preprocess, 35.7ms inference, 2.0ms postprocess per image at shape (1, 3, 384, 640)\n",
            "\n",
            "0: 384x640 (no detections), 33.1ms\n",
            "Speed: 2.1ms preprocess, 33.1ms inference, 1.8ms postprocess per image at shape (1, 3, 384, 640)\n",
            "\n",
            "0: 384x640 (no detections), 34.7ms\n",
            "Speed: 2.0ms preprocess, 34.7ms inference, 1.7ms postprocess per image at shape (1, 3, 384, 640)\n",
            "\n",
            "0: 384x640 (no detections), 31.9ms\n",
            "Speed: 2.1ms preprocess, 31.9ms inference, 3.6ms postprocess per image at shape (1, 3, 384, 640)\n",
            "\n",
            "0: 384x640 (no detections), 32.0ms\n",
            "Speed: 2.2ms preprocess, 32.0ms inference, 1.6ms postprocess per image at shape (1, 3, 384, 640)\n",
            "\n",
            "0: 384x640 1 football, 33.7ms\n",
            "Speed: 2.0ms preprocess, 33.7ms inference, 2.9ms postprocess per image at shape (1, 3, 384, 640)\n",
            "$$$$$$$$$$$$$$$$$$$  [[48.18793869018555, 267.42901611328125, 100.69279479980469, 343.1937255859375]]\n",
            "\n",
            "0: 384x640 1 football, 33.1ms\n",
            "Speed: 2.1ms preprocess, 33.1ms inference, 3.7ms postprocess per image at shape (1, 3, 384, 640)\n",
            "$$$$$$$$$$$$$$$$$$$  [[94.67373657226562, 255.96194458007812, 142.50991821289062, 330.0729675292969]]\n",
            "\n",
            "0: 384x640 1 football, 33.1ms\n",
            "Speed: 2.3ms preprocess, 33.1ms inference, 3.5ms postprocess per image at shape (1, 3, 384, 640)\n",
            "$$$$$$$$$$$$$$$$$$$  [[137.28399658203125, 248.34625244140625, 188.36257934570312, 321.10894775390625]]\n",
            "\n",
            "0: 384x640 1 football, 34.8ms\n",
            "Speed: 2.0ms preprocess, 34.8ms inference, 2.5ms postprocess per image at shape (1, 3, 384, 640)\n",
            "$$$$$$$$$$$$$$$$$$$  [[177.57455444335938, 245.818115234375, 230.65087890625, 314.9029541015625]]\n",
            "\n",
            "0: 384x640 1 football, 34.6ms\n",
            "Speed: 3.7ms preprocess, 34.6ms inference, 2.8ms postprocess per image at shape (1, 3, 384, 640)\n",
            "$$$$$$$$$$$$$$$$$$$  [[220.34613037109375, 246.078369140625, 268.6446838378906, 310.84063720703125]]\n",
            "\n",
            "0: 384x640 1 football, 34.0ms\n",
            "Speed: 2.2ms preprocess, 34.0ms inference, 2.8ms postprocess per image at shape (1, 3, 384, 640)\n",
            "$$$$$$$$$$$$$$$$$$$  [[257.5196533203125, 250.28955078125, 307.5302734375, 316.5482177734375]]\n",
            "\n",
            "0: 384x640 1 football, 34.7ms\n",
            "Speed: 2.1ms preprocess, 34.7ms inference, 2.8ms postprocess per image at shape (1, 3, 384, 640)\n",
            "$$$$$$$$$$$$$$$$$$$  [[299.8957214355469, 251.0203857421875, 344.3236389160156, 318.77886962890625]]\n",
            "\n",
            "0: 384x640 (no detections), 37.7ms\n",
            "Speed: 2.0ms preprocess, 37.7ms inference, 1.8ms postprocess per image at shape (1, 3, 384, 640)\n",
            "\n",
            "0: 384x640 1 football, 32.2ms\n",
            "Speed: 2.4ms preprocess, 32.2ms inference, 3.1ms postprocess per image at shape (1, 3, 384, 640)\n",
            "$$$$$$$$$$$$$$$$$$$  [[340.10504150390625, 268.01104736328125, 388.55950927734375, 330.33917236328125]]\n",
            "\n",
            "0: 384x640 1 football, 32.9ms\n",
            "Speed: 2.1ms preprocess, 32.9ms inference, 2.7ms postprocess per image at shape (1, 3, 384, 640)\n",
            "$$$$$$$$$$$$$$$$$$$  [[347.86932373046875, 281.57305908203125, 392.97711181640625, 350.33282470703125]]\n",
            "\n",
            "0: 384x640 1 football, 33.7ms\n",
            "Speed: 2.2ms preprocess, 33.7ms inference, 2.9ms postprocess per image at shape (1, 3, 384, 640)\n",
            "$$$$$$$$$$$$$$$$$$$  [[340.6485595703125, 293.88104248046875, 388.361328125, 361.81634521484375]]\n",
            "\n",
            "0: 384x640 1 football, 34.9ms\n",
            "Speed: 2.0ms preprocess, 34.9ms inference, 2.6ms postprocess per image at shape (1, 3, 384, 640)\n",
            "$$$$$$$$$$$$$$$$$$$  [[331.980224609375, 301.51275634765625, 375.29345703125, 368.83941650390625]]\n",
            "\n",
            "0: 384x640 1 football, 33.8ms\n",
            "Speed: 2.1ms preprocess, 33.8ms inference, 2.8ms postprocess per image at shape (1, 3, 384, 640)\n",
            "$$$$$$$$$$$$$$$$$$$  [[307.0772705078125, 301.63165283203125, 354.9156494140625, 374.58197021484375]]\n",
            "\n",
            "0: 384x640 1 football, 34.6ms\n",
            "Speed: 2.1ms preprocess, 34.6ms inference, 2.8ms postprocess per image at shape (1, 3, 384, 640)\n",
            "$$$$$$$$$$$$$$$$$$$  [[285.66339111328125, 308.0476989746094, 329.60052490234375, 373.7486877441406]]\n",
            "\n",
            "0: 384x640 1 football, 32.4ms\n",
            "Speed: 2.0ms preprocess, 32.4ms inference, 3.5ms postprocess per image at shape (1, 3, 384, 640)\n",
            "$$$$$$$$$$$$$$$$$$$  [[265.73126220703125, 311.60028076171875, 309.06243896484375, 378.27764892578125]]\n",
            "\n",
            "0: 384x640 1 football, 32.5ms\n",
            "Speed: 3.9ms preprocess, 32.5ms inference, 2.8ms postprocess per image at shape (1, 3, 384, 640)\n",
            "$$$$$$$$$$$$$$$$$$$  [[258.02398681640625, 314.65203857421875, 295.72161865234375, 381.74395751953125]]\n",
            "\n",
            "0: 384x640 (no detections), 33.9ms\n",
            "Speed: 2.1ms preprocess, 33.9ms inference, 5.1ms postprocess per image at shape (1, 3, 384, 640)\n",
            "\n",
            "0: 384x640 (no detections), 35.2ms\n",
            "Speed: 2.2ms preprocess, 35.2ms inference, 2.1ms postprocess per image at shape (1, 3, 384, 640)\n",
            "\n",
            "0: 384x640 (no detections), 32.3ms\n",
            "Speed: 2.0ms preprocess, 32.3ms inference, 2.0ms postprocess per image at shape (1, 3, 384, 640)\n",
            "\n",
            "0: 384x640 (no detections), 34.3ms\n",
            "Speed: 2.1ms preprocess, 34.3ms inference, 2.2ms postprocess per image at shape (1, 3, 384, 640)\n",
            "\n",
            "0: 384x640 1 football, 33.6ms\n",
            "Speed: 2.3ms preprocess, 33.6ms inference, 2.8ms postprocess per image at shape (1, 3, 384, 640)\n",
            "$$$$$$$$$$$$$$$$$$$  [[808.1861572265625, 119.00527954101562, 890.7376708984375, 218.37796020507812]]\n",
            "\n",
            "0: 384x640 (no detections), 33.2ms\n",
            "Speed: 2.3ms preprocess, 33.2ms inference, 1.7ms postprocess per image at shape (1, 3, 384, 640)\n",
            "\n",
            "0: 384x640 1 football, 34.8ms\n",
            "Speed: 1.9ms preprocess, 34.8ms inference, 2.7ms postprocess per image at shape (1, 3, 384, 640)\n",
            "$$$$$$$$$$$$$$$$$$$  [[978.44287109375, 90.2351303100586, 1022.942138671875, 151.56619262695312]]\n",
            "\n",
            "0: 384x640 1 football, 33.4ms\n",
            "Speed: 2.2ms preprocess, 33.4ms inference, 2.9ms postprocess per image at shape (1, 3, 384, 640)\n",
            "$$$$$$$$$$$$$$$$$$$  [[1002.27880859375, 87.04249572753906, 1045.14697265625, 151.09547424316406]]\n",
            "\n",
            "0: 384x640 1 football, 37.5ms\n",
            "Speed: 1.9ms preprocess, 37.5ms inference, 2.5ms postprocess per image at shape (1, 3, 384, 640)\n",
            "$$$$$$$$$$$$$$$$$$$  [[1001.8584594726562, 100.03878021240234, 1047.97412109375, 176.04141235351562]]\n",
            "\n",
            "0: 384x640 (no detections), 32.3ms\n",
            "Speed: 2.2ms preprocess, 32.3ms inference, 1.7ms postprocess per image at shape (1, 3, 384, 640)\n",
            "\n",
            "0: 384x640 1 football, 34.5ms\n",
            "Speed: 2.1ms preprocess, 34.5ms inference, 3.1ms postprocess per image at shape (1, 3, 384, 640)\n",
            "$$$$$$$$$$$$$$$$$$$  [[962.621826171875, 180.71600341796875, 1013.873779296875, 271.92767333984375]]\n",
            "\n",
            "0: 384x640 1 football, 33.1ms\n",
            "Speed: 1.9ms preprocess, 33.1ms inference, 3.0ms postprocess per image at shape (1, 3, 384, 640)\n",
            "$$$$$$$$$$$$$$$$$$$  [[948.83544921875, 235.90469360351562, 991.5953369140625, 307.8125305175781]]\n",
            "\n",
            "0: 384x640 1 football, 34.0ms\n",
            "Speed: 2.3ms preprocess, 34.0ms inference, 2.6ms postprocess per image at shape (1, 3, 384, 640)\n",
            "$$$$$$$$$$$$$$$$$$$  [[942.3555908203125, 257.8892822265625, 982.9200439453125, 327.22998046875]]\n",
            "\n",
            "0: 384x640 1 football, 33.3ms\n",
            "Speed: 2.2ms preprocess, 33.3ms inference, 2.9ms postprocess per image at shape (1, 3, 384, 640)\n",
            "$$$$$$$$$$$$$$$$$$$  [[929.2344970703125, 297.3418884277344, 962.4539794921875, 351.0334167480469]]\n",
            "\n",
            "0: 384x640 (no detections), 31.4ms\n",
            "Speed: 5.2ms preprocess, 31.4ms inference, 1.7ms postprocess per image at shape (1, 3, 384, 640)\n",
            "\n",
            "0: 384x640 (no detections), 34.3ms\n",
            "Speed: 2.1ms preprocess, 34.3ms inference, 1.9ms postprocess per image at shape (1, 3, 384, 640)\n",
            "\n",
            "0: 384x640 1 football, 33.6ms\n",
            "Speed: 2.4ms preprocess, 33.6ms inference, 2.6ms postprocess per image at shape (1, 3, 384, 640)\n",
            "$$$$$$$$$$$$$$$$$$$  [[879.8330078125, 315.1025085449219, 920.981689453125, 377.2145080566406]]\n",
            "\n",
            "0: 384x640 1 football, 32.8ms\n",
            "Speed: 2.1ms preprocess, 32.8ms inference, 3.3ms postprocess per image at shape (1, 3, 384, 640)\n",
            "$$$$$$$$$$$$$$$$$$$  [[869.3184204101562, 316.19818115234375, 913.7680053710938, 376.66754150390625]]\n",
            "\n",
            "0: 384x640 (no detections), 31.7ms\n",
            "Speed: 2.4ms preprocess, 31.7ms inference, 5.1ms postprocess per image at shape (1, 3, 384, 640)\n",
            "\n",
            "0: 384x640 1 football, 34.1ms\n",
            "Speed: 2.8ms preprocess, 34.1ms inference, 3.0ms postprocess per image at shape (1, 3, 384, 640)\n",
            "$$$$$$$$$$$$$$$$$$$  [[855.2764282226562, 328.73016357421875, 896.4181518554688, 385.82257080078125]]\n",
            "\n",
            "0: 384x640 1 football, 31.8ms\n",
            "Speed: 3.4ms preprocess, 31.8ms inference, 3.0ms postprocess per image at shape (1, 3, 384, 640)\n",
            "$$$$$$$$$$$$$$$$$$$  [[852.3203735351562, 330.1202697753906, 891.7046508789062, 391.7784118652344]]\n",
            "\n",
            "0: 384x640 1 football, 32.9ms\n",
            "Speed: 3.8ms preprocess, 32.9ms inference, 2.7ms postprocess per image at shape (1, 3, 384, 640)\n",
            "$$$$$$$$$$$$$$$$$$$  [[846.3208618164062, 346.4988708496094, 886.7337036132812, 406.2366638183594]]\n",
            "\n",
            "0: 384x640 1 football, 32.1ms\n",
            "Speed: 2.0ms preprocess, 32.1ms inference, 2.7ms postprocess per image at shape (1, 3, 384, 640)\n",
            "$$$$$$$$$$$$$$$$$$$  [[839.54931640625, 360.761474609375, 876.20068359375, 417.64990234375]]\n",
            "\n",
            "0: 384x640 1 football, 33.0ms\n",
            "Speed: 2.2ms preprocess, 33.0ms inference, 2.4ms postprocess per image at shape (1, 3, 384, 640)\n",
            "$$$$$$$$$$$$$$$$$$$  [[836.2379760742188, 356.7828063964844, 870.3604125976562, 413.9432678222656]]\n",
            "\n",
            "0: 384x640 1 football, 31.4ms\n",
            "Speed: 2.1ms preprocess, 31.4ms inference, 5.5ms postprocess per image at shape (1, 3, 384, 640)\n",
            "$$$$$$$$$$$$$$$$$$$  [[831.34033203125, 342.03045654296875, 867.517333984375, 403.51861572265625]]\n",
            "\n",
            "0: 384x640 1 football, 32.4ms\n",
            "Speed: 2.0ms preprocess, 32.4ms inference, 3.4ms postprocess per image at shape (1, 3, 384, 640)\n",
            "$$$$$$$$$$$$$$$$$$$  [[829.4298706054688, 339.0141296386719, 865.5973510742188, 398.8664855957031]]\n",
            "\n",
            "0: 384x640 (no detections), 32.4ms\n",
            "Speed: 4.0ms preprocess, 32.4ms inference, 1.7ms postprocess per image at shape (1, 3, 384, 640)\n",
            "\n",
            "0: 384x640 (no detections), 32.6ms\n",
            "Speed: 2.6ms preprocess, 32.6ms inference, 2.0ms postprocess per image at shape (1, 3, 384, 640)\n",
            "\n",
            "0: 384x640 1 football, 34.8ms\n",
            "Speed: 2.0ms preprocess, 34.8ms inference, 4.5ms postprocess per image at shape (1, 3, 384, 640)\n",
            "$$$$$$$$$$$$$$$$$$$  [[822.1405029296875, 317.6541748046875, 856.2386474609375, 375.074951171875]]\n",
            "\n",
            "0: 384x640 1 football, 33.6ms\n",
            "Speed: 2.2ms preprocess, 33.6ms inference, 3.3ms postprocess per image at shape (1, 3, 384, 640)\n",
            "$$$$$$$$$$$$$$$$$$$  [[819.02734375, 313.17919921875, 854.4107666015625, 370.01513671875]]\n",
            "\n",
            "0: 384x640 1 football, 34.8ms\n",
            "Speed: 2.0ms preprocess, 34.8ms inference, 2.7ms postprocess per image at shape (1, 3, 384, 640)\n",
            "$$$$$$$$$$$$$$$$$$$  [[821.6762084960938, 312.4685363769531, 853.1808471679688, 366.3649597167969]]\n",
            "\n",
            "0: 384x640 1 football, 32.7ms\n",
            "Speed: 2.3ms preprocess, 32.7ms inference, 2.8ms postprocess per image at shape (1, 3, 384, 640)\n",
            "$$$$$$$$$$$$$$$$$$$  [[830.6109619140625, 313.8420715332031, 855.8724365234375, 365.9043884277344]]\n",
            "\n",
            "0: 384x640 (no detections), 33.9ms\n",
            "Speed: 2.0ms preprocess, 33.9ms inference, 1.8ms postprocess per image at shape (1, 3, 384, 640)\n",
            "\n",
            "0: 384x640 (no detections), 32.1ms\n",
            "Speed: 1.9ms preprocess, 32.1ms inference, 6.9ms postprocess per image at shape (1, 3, 384, 640)\n",
            "\n",
            "0: 384x640 2 footballs, 31.7ms\n",
            "Speed: 2.1ms preprocess, 31.7ms inference, 2.8ms postprocess per image at shape (1, 3, 384, 640)\n",
            "$$$$$$$$$$$$$$$$$$$  [[832.25537109375, 301.98956298828125, 871.1788330078125, 365.18768310546875], [291.4808349609375, 641.4740600585938, 308.99884033203125, 681.4524536132812]]\n",
            "\n",
            "0: 384x640 (no detections), 34.4ms\n",
            "Speed: 4.8ms preprocess, 34.4ms inference, 2.2ms postprocess per image at shape (1, 3, 384, 640)\n",
            "\n",
            "0: 384x640 (no detections), 32.2ms\n",
            "Speed: 2.1ms preprocess, 32.2ms inference, 2.7ms postprocess per image at shape (1, 3, 384, 640)\n",
            "\n",
            "0: 384x640 (no detections), 34.9ms\n",
            "Speed: 1.8ms preprocess, 34.9ms inference, 1.8ms postprocess per image at shape (1, 3, 384, 640)\n",
            "\n",
            "0: 384x640 (no detections), 35.1ms\n",
            "Speed: 2.1ms preprocess, 35.1ms inference, 1.7ms postprocess per image at shape (1, 3, 384, 640)\n",
            "\n",
            "0: 384x640 (no detections), 34.3ms\n",
            "Speed: 2.1ms preprocess, 34.3ms inference, 1.8ms postprocess per image at shape (1, 3, 384, 640)\n",
            "\n",
            "0: 384x640 (no detections), 33.2ms\n",
            "Speed: 2.4ms preprocess, 33.2ms inference, 1.5ms postprocess per image at shape (1, 3, 384, 640)\n",
            "\n",
            "0: 384x640 1 football, 35.1ms\n",
            "Speed: 2.0ms preprocess, 35.1ms inference, 2.5ms postprocess per image at shape (1, 3, 384, 640)\n",
            "$$$$$$$$$$$$$$$$$$$  [[467.13140869140625, 535.666259765625, 546.56884765625, 674.455322265625]]\n",
            "\n",
            "0: 384x640 (no detections), 32.6ms\n",
            "Speed: 2.0ms preprocess, 32.6ms inference, 2.0ms postprocess per image at shape (1, 3, 384, 640)\n",
            "\n",
            "0: 384x640 (no detections), 32.1ms\n",
            "Speed: 5.0ms preprocess, 32.1ms inference, 2.1ms postprocess per image at shape (1, 3, 384, 640)\n",
            "\n",
            "0: 384x640 (no detections), 34.5ms\n",
            "Speed: 2.1ms preprocess, 34.5ms inference, 1.8ms postprocess per image at shape (1, 3, 384, 640)\n",
            "\n",
            "0: 384x640 (no detections), 33.4ms\n",
            "Speed: 2.6ms preprocess, 33.4ms inference, 2.2ms postprocess per image at shape (1, 3, 384, 640)\n",
            "\n",
            "0: 384x640 (no detections), 34.6ms\n",
            "Speed: 2.0ms preprocess, 34.6ms inference, 1.9ms postprocess per image at shape (1, 3, 384, 640)\n",
            "\n",
            "0: 384x640 (no detections), 34.2ms\n",
            "Speed: 2.6ms preprocess, 34.2ms inference, 2.0ms postprocess per image at shape (1, 3, 384, 640)\n",
            "\n",
            "0: 384x640 (no detections), 33.0ms\n",
            "Speed: 2.2ms preprocess, 33.0ms inference, 2.2ms postprocess per image at shape (1, 3, 384, 640)\n",
            "\n",
            "0: 384x640 (no detections), 33.0ms\n",
            "Speed: 2.2ms preprocess, 33.0ms inference, 1.8ms postprocess per image at shape (1, 3, 384, 640)\n",
            "\n",
            "0: 384x640 (no detections), 35.1ms\n",
            "Speed: 2.4ms preprocess, 35.1ms inference, 1.7ms postprocess per image at shape (1, 3, 384, 640)\n",
            "\n",
            "0: 384x640 (no detections), 34.4ms\n",
            "Speed: 4.3ms preprocess, 34.4ms inference, 2.1ms postprocess per image at shape (1, 3, 384, 640)\n",
            "\n",
            "0: 384x640 (no detections), 34.0ms\n",
            "Speed: 2.1ms preprocess, 34.0ms inference, 1.9ms postprocess per image at shape (1, 3, 384, 640)\n",
            "\n",
            "0: 384x640 (no detections), 32.6ms\n",
            "Speed: 2.1ms preprocess, 32.6ms inference, 1.7ms postprocess per image at shape (1, 3, 384, 640)\n",
            "\n",
            "0: 384x640 (no detections), 35.5ms\n",
            "Speed: 2.1ms preprocess, 35.5ms inference, 1.7ms postprocess per image at shape (1, 3, 384, 640)\n",
            "\n",
            "0: 384x640 (no detections), 34.1ms\n",
            "Speed: 2.2ms preprocess, 34.1ms inference, 3.9ms postprocess per image at shape (1, 3, 384, 640)\n",
            "\n",
            "0: 384x640 (no detections), 34.5ms\n",
            "Speed: 2.3ms preprocess, 34.5ms inference, 1.8ms postprocess per image at shape (1, 3, 384, 640)\n",
            "\n",
            "0: 384x640 (no detections), 34.1ms\n",
            "Speed: 2.1ms preprocess, 34.1ms inference, 1.7ms postprocess per image at shape (1, 3, 384, 640)\n",
            "\n",
            "0: 384x640 (no detections), 35.3ms\n",
            "Speed: 2.1ms preprocess, 35.3ms inference, 1.8ms postprocess per image at shape (1, 3, 384, 640)\n",
            "\n",
            "0: 384x640 (no detections), 32.3ms\n",
            "Speed: 2.3ms preprocess, 32.3ms inference, 1.9ms postprocess per image at shape (1, 3, 384, 640)\n",
            "\n",
            "0: 384x640 (no detections), 35.4ms\n",
            "Speed: 2.4ms preprocess, 35.4ms inference, 2.2ms postprocess per image at shape (1, 3, 384, 640)\n",
            "\n",
            "0: 384x640 (no detections), 35.3ms\n",
            "Speed: 2.2ms preprocess, 35.3ms inference, 1.7ms postprocess per image at shape (1, 3, 384, 640)\n",
            "\n",
            "0: 384x640 (no detections), 35.2ms\n",
            "Speed: 2.0ms preprocess, 35.2ms inference, 1.7ms postprocess per image at shape (1, 3, 384, 640)\n",
            "\n",
            "0: 384x640 (no detections), 33.2ms\n",
            "Speed: 2.3ms preprocess, 33.2ms inference, 1.9ms postprocess per image at shape (1, 3, 384, 640)\n",
            "\n",
            "0: 384x640 (no detections), 32.7ms\n",
            "Speed: 2.2ms preprocess, 32.7ms inference, 1.6ms postprocess per image at shape (1, 3, 384, 640)\n",
            "\n",
            "0: 384x640 (no detections), 34.0ms\n",
            "Speed: 2.2ms preprocess, 34.0ms inference, 1.6ms postprocess per image at shape (1, 3, 384, 640)\n",
            "\n",
            "0: 384x640 (no detections), 34.4ms\n",
            "Speed: 2.1ms preprocess, 34.4ms inference, 1.8ms postprocess per image at shape (1, 3, 384, 640)\n",
            "\n",
            "0: 384x640 (no detections), 34.2ms\n",
            "Speed: 2.1ms preprocess, 34.2ms inference, 3.5ms postprocess per image at shape (1, 3, 384, 640)\n",
            "\n",
            "0: 384x640 (no detections), 33.8ms\n",
            "Speed: 2.2ms preprocess, 33.8ms inference, 1.8ms postprocess per image at shape (1, 3, 384, 640)\n",
            "\n",
            "0: 384x640 (no detections), 33.9ms\n",
            "Speed: 2.3ms preprocess, 33.9ms inference, 1.9ms postprocess per image at shape (1, 3, 384, 640)\n",
            "\n",
            "0: 384x640 (no detections), 32.7ms\n",
            "Speed: 2.1ms preprocess, 32.7ms inference, 1.7ms postprocess per image at shape (1, 3, 384, 640)\n",
            "\n",
            "0: 384x640 (no detections), 33.9ms\n",
            "Speed: 2.0ms preprocess, 33.9ms inference, 2.1ms postprocess per image at shape (1, 3, 384, 640)\n",
            "\n",
            "0: 384x640 (no detections), 34.5ms\n",
            "Speed: 2.1ms preprocess, 34.5ms inference, 2.1ms postprocess per image at shape (1, 3, 384, 640)\n",
            "\n",
            "0: 384x640 (no detections), 33.9ms\n",
            "Speed: 2.0ms preprocess, 33.9ms inference, 1.7ms postprocess per image at shape (1, 3, 384, 640)\n",
            "\n",
            "0: 384x640 (no detections), 34.4ms\n",
            "Speed: 2.1ms preprocess, 34.4ms inference, 1.9ms postprocess per image at shape (1, 3, 384, 640)\n",
            "\n",
            "0: 384x640 (no detections), 33.8ms\n",
            "Speed: 2.2ms preprocess, 33.8ms inference, 1.8ms postprocess per image at shape (1, 3, 384, 640)\n",
            "\n",
            "0: 384x640 (no detections), 32.5ms\n",
            "Speed: 2.1ms preprocess, 32.5ms inference, 1.6ms postprocess per image at shape (1, 3, 384, 640)\n",
            "\n",
            "0: 384x640 (no detections), 33.9ms\n",
            "Speed: 1.9ms preprocess, 33.9ms inference, 1.8ms postprocess per image at shape (1, 3, 384, 640)\n",
            "\n",
            "0: 384x640 (no detections), 34.6ms\n",
            "Speed: 2.2ms preprocess, 34.6ms inference, 1.8ms postprocess per image at shape (1, 3, 384, 640)\n",
            "\n",
            "0: 384x640 (no detections), 34.8ms\n",
            "Speed: 2.1ms preprocess, 34.8ms inference, 1.8ms postprocess per image at shape (1, 3, 384, 640)\n",
            "\n",
            "0: 384x640 (no detections), 32.9ms\n",
            "Speed: 1.9ms preprocess, 32.9ms inference, 1.9ms postprocess per image at shape (1, 3, 384, 640)\n",
            "\n",
            "0: 384x640 (no detections), 34.0ms\n",
            "Speed: 2.0ms preprocess, 34.0ms inference, 1.8ms postprocess per image at shape (1, 3, 384, 640)\n",
            "\n",
            "0: 384x640 (no detections), 34.8ms\n",
            "Speed: 2.0ms preprocess, 34.8ms inference, 1.7ms postprocess per image at shape (1, 3, 384, 640)\n",
            "\n",
            "0: 384x640 (no detections), 34.3ms\n",
            "Speed: 2.3ms preprocess, 34.3ms inference, 1.6ms postprocess per image at shape (1, 3, 384, 640)\n",
            "\n",
            "0: 384x640 (no detections), 33.8ms\n",
            "Speed: 2.0ms preprocess, 33.8ms inference, 1.8ms postprocess per image at shape (1, 3, 384, 640)\n",
            "\n",
            "0: 384x640 (no detections), 33.1ms\n",
            "Speed: 2.0ms preprocess, 33.1ms inference, 1.7ms postprocess per image at shape (1, 3, 384, 640)\n",
            "\n",
            "0: 384x640 (no detections), 33.9ms\n",
            "Speed: 2.1ms preprocess, 33.9ms inference, 1.9ms postprocess per image at shape (1, 3, 384, 640)\n",
            "\n",
            "0: 384x640 (no detections), 34.5ms\n",
            "Speed: 2.0ms preprocess, 34.5ms inference, 1.9ms postprocess per image at shape (1, 3, 384, 640)\n",
            "\n",
            "0: 384x640 (no detections), 34.6ms\n",
            "Speed: 2.0ms preprocess, 34.6ms inference, 1.7ms postprocess per image at shape (1, 3, 384, 640)\n",
            "\n",
            "0: 384x640 (no detections), 32.6ms\n",
            "Speed: 2.1ms preprocess, 32.6ms inference, 2.1ms postprocess per image at shape (1, 3, 384, 640)\n",
            "\n",
            "0: 384x640 (no detections), 34.6ms\n",
            "Speed: 2.1ms preprocess, 34.6ms inference, 1.7ms postprocess per image at shape (1, 3, 384, 640)\n",
            "\n",
            "0: 384x640 (no detections), 33.2ms\n",
            "Speed: 2.0ms preprocess, 33.2ms inference, 1.8ms postprocess per image at shape (1, 3, 384, 640)\n",
            "\n",
            "0: 384x640 (no detections), 34.3ms\n",
            "Speed: 2.1ms preprocess, 34.3ms inference, 1.9ms postprocess per image at shape (1, 3, 384, 640)\n",
            "\n",
            "0: 384x640 (no detections), 33.7ms\n",
            "Speed: 2.0ms preprocess, 33.7ms inference, 1.5ms postprocess per image at shape (1, 3, 384, 640)\n",
            "\n",
            "0: 384x640 (no detections), 35.2ms\n",
            "Speed: 2.1ms preprocess, 35.2ms inference, 1.4ms postprocess per image at shape (1, 3, 384, 640)\n",
            "\n",
            "0: 384x640 (no detections), 32.3ms\n",
            "Speed: 2.0ms preprocess, 32.3ms inference, 1.3ms postprocess per image at shape (1, 3, 384, 640)\n",
            "\n",
            "0: 384x640 (no detections), 32.7ms\n",
            "Speed: 2.3ms preprocess, 32.7ms inference, 1.3ms postprocess per image at shape (1, 3, 384, 640)\n",
            "\n",
            "0: 384x640 (no detections), 34.5ms\n",
            "Speed: 2.3ms preprocess, 34.5ms inference, 1.4ms postprocess per image at shape (1, 3, 384, 640)\n",
            "\n",
            "0: 384x640 (no detections), 33.9ms\n",
            "Speed: 2.2ms preprocess, 33.9ms inference, 1.5ms postprocess per image at shape (1, 3, 384, 640)\n",
            "\n",
            "0: 384x640 (no detections), 34.2ms\n",
            "Speed: 2.3ms preprocess, 34.2ms inference, 1.4ms postprocess per image at shape (1, 3, 384, 640)\n",
            "\n",
            "0: 384x640 (no detections), 33.9ms\n",
            "Speed: 2.4ms preprocess, 33.9ms inference, 1.4ms postprocess per image at shape (1, 3, 384, 640)\n",
            "\n",
            "0: 384x640 (no detections), 32.3ms\n",
            "Speed: 2.1ms preprocess, 32.3ms inference, 1.5ms postprocess per image at shape (1, 3, 384, 640)\n",
            "\n",
            "0: 384x640 (no detections), 32.2ms\n",
            "Speed: 2.1ms preprocess, 32.2ms inference, 1.4ms postprocess per image at shape (1, 3, 384, 640)\n",
            "\n",
            "0: 384x640 (no detections), 34.5ms\n",
            "Speed: 2.2ms preprocess, 34.5ms inference, 1.5ms postprocess per image at shape (1, 3, 384, 640)\n",
            "\n",
            "0: 384x640 (no detections), 34.4ms\n",
            "Speed: 2.2ms preprocess, 34.4ms inference, 3.3ms postprocess per image at shape (1, 3, 384, 640)\n",
            "\n",
            "0: 384x640 (no detections), 32.6ms\n",
            "Speed: 3.0ms preprocess, 32.6ms inference, 1.4ms postprocess per image at shape (1, 3, 384, 640)\n",
            "\n",
            "0: 384x640 (no detections), 34.5ms\n",
            "Speed: 2.0ms preprocess, 34.5ms inference, 2.1ms postprocess per image at shape (1, 3, 384, 640)\n",
            "\n",
            "0: 384x640 (no detections), 34.7ms\n",
            "Speed: 2.0ms preprocess, 34.7ms inference, 1.4ms postprocess per image at shape (1, 3, 384, 640)\n",
            "\n",
            "0: 384x640 (no detections), 34.4ms\n",
            "Speed: 2.0ms preprocess, 34.4ms inference, 2.2ms postprocess per image at shape (1, 3, 384, 640)\n",
            "\n",
            "0: 384x640 1 football, 33.0ms\n",
            "Speed: 2.3ms preprocess, 33.0ms inference, 2.1ms postprocess per image at shape (1, 3, 384, 640)\n",
            "$$$$$$$$$$$$$$$$$$$  [[519.7904663085938, 545.9932861328125, 540.9674682617188, 586.251953125]]\n",
            "\n",
            "0: 384x640 1 football, 33.4ms\n",
            "Speed: 2.0ms preprocess, 33.4ms inference, 2.2ms postprocess per image at shape (1, 3, 384, 640)\n",
            "$$$$$$$$$$$$$$$$$$$  [[519.8054809570312, 546.0283203125, 540.9391479492188, 586.224853515625]]\n",
            "\n",
            "0: 384x640 1 football, 31.8ms\n",
            "Speed: 2.2ms preprocess, 31.8ms inference, 2.0ms postprocess per image at shape (1, 3, 384, 640)\n",
            "$$$$$$$$$$$$$$$$$$$  [[519.7203369140625, 546.7066650390625, 540.7366943359375, 586.7471923828125]]\n",
            "\n",
            "0: 384x640 1 football, 34.7ms\n",
            "Speed: 2.0ms preprocess, 34.7ms inference, 2.0ms postprocess per image at shape (1, 3, 384, 640)\n",
            "$$$$$$$$$$$$$$$$$$$  [[519.7072143554688, 546.7557983398438, 540.6535034179688, 586.9685668945312]]\n",
            "\n",
            "0: 384x640 1 football, 35.1ms\n",
            "Speed: 2.2ms preprocess, 35.1ms inference, 2.0ms postprocess per image at shape (1, 3, 384, 640)\n",
            "$$$$$$$$$$$$$$$$$$$  [[519.650146484375, 546.2230224609375, 540.90869140625, 586.6976318359375]]\n",
            "\n",
            "0: 384x640 1 football, 33.1ms\n",
            "Speed: 1.7ms preprocess, 33.1ms inference, 2.1ms postprocess per image at shape (1, 3, 384, 640)\n",
            "$$$$$$$$$$$$$$$$$$$  [[519.6932373046875, 545.83935546875, 541.2054443359375, 586.1373291015625]]\n",
            "\n",
            "0: 384x640 1 football, 32.8ms\n",
            "Speed: 1.9ms preprocess, 32.8ms inference, 2.4ms postprocess per image at shape (1, 3, 384, 640)\n",
            "$$$$$$$$$$$$$$$$$$$  [[519.7247924804688, 545.9263305664062, 541.2151489257812, 586.3611450195312]]\n",
            "\n",
            "0: 384x640 1 football, 34.7ms\n",
            "Speed: 2.0ms preprocess, 34.7ms inference, 2.3ms postprocess per image at shape (1, 3, 384, 640)\n",
            "$$$$$$$$$$$$$$$$$$$  [[519.7333984375, 546.5479736328125, 540.724609375, 586.6536865234375]]\n",
            "\n",
            "0: 384x640 1 football, 33.7ms\n",
            "Speed: 2.0ms preprocess, 33.7ms inference, 2.3ms postprocess per image at shape (1, 3, 384, 640)\n",
            "$$$$$$$$$$$$$$$$$$$  [[519.661865234375, 546.33056640625, 540.918701171875, 586.794189453125]]\n",
            "\n",
            "0: 384x640 1 football, 34.0ms\n",
            "Speed: 2.0ms preprocess, 34.0ms inference, 2.2ms postprocess per image at shape (1, 3, 384, 640)\n",
            "$$$$$$$$$$$$$$$$$$$  [[519.6604614257812, 545.7978515625, 541.2453002929688, 586.5184326171875]]\n",
            "\n",
            "0: 384x640 1 football, 36.0ms\n",
            "Speed: 1.8ms preprocess, 36.0ms inference, 3.0ms postprocess per image at shape (1, 3, 384, 640)\n",
            "$$$$$$$$$$$$$$$$$$$  [[519.7734375, 545.929443359375, 541.227783203125, 586.41650390625]]\n",
            "\n",
            "0: 384x640 1 football, 34.2ms\n",
            "Speed: 2.1ms preprocess, 34.2ms inference, 4.9ms postprocess per image at shape (1, 3, 384, 640)\n",
            "$$$$$$$$$$$$$$$$$$$  [[519.4759521484375, 546.02294921875, 541.2425537109375, 587.04638671875]]\n",
            "\n",
            "0: 384x640 1 football, 35.1ms\n",
            "Speed: 2.1ms preprocess, 35.1ms inference, 2.2ms postprocess per image at shape (1, 3, 384, 640)\n",
            "$$$$$$$$$$$$$$$$$$$  [[519.5638427734375, 546.33935546875, 541.0731201171875, 587.02392578125]]\n",
            "\n",
            "0: 384x640 1 football, 34.8ms\n",
            "Speed: 2.2ms preprocess, 34.8ms inference, 2.2ms postprocess per image at shape (1, 3, 384, 640)\n",
            "$$$$$$$$$$$$$$$$$$$  [[519.6468505859375, 545.8614501953125, 541.2781982421875, 586.578369140625]]\n",
            "\n",
            "0: 384x640 1 football, 32.3ms\n",
            "Speed: 2.0ms preprocess, 32.3ms inference, 2.0ms postprocess per image at shape (1, 3, 384, 640)\n",
            "$$$$$$$$$$$$$$$$$$$  [[519.64208984375, 545.78271484375, 541.560546875, 586.632080078125]]\n",
            "\n",
            "0: 384x640 1 football, 33.2ms\n",
            "Speed: 2.3ms preprocess, 33.2ms inference, 2.4ms postprocess per image at shape (1, 3, 384, 640)\n",
            "$$$$$$$$$$$$$$$$$$$  [[519.5423583984375, 545.9407958984375, 541.4757080078125, 587.0533447265625]]\n",
            "\n",
            "0: 384x640 1 football, 32.7ms\n",
            "Speed: 2.1ms preprocess, 32.7ms inference, 2.0ms postprocess per image at shape (1, 3, 384, 640)\n",
            "$$$$$$$$$$$$$$$$$$$  [[519.5978393554688, 546.3665771484375, 541.0891723632812, 587.10986328125]]\n",
            "\n",
            "0: 384x640 1 football, 34.2ms\n",
            "Speed: 2.4ms preprocess, 34.2ms inference, 2.1ms postprocess per image at shape (1, 3, 384, 640)\n",
            "$$$$$$$$$$$$$$$$$$$  [[519.8623046875, 546.1553955078125, 541.177490234375, 586.4180908203125]]\n",
            "\n",
            "0: 384x640 1 football, 34.7ms\n",
            "Speed: 2.4ms preprocess, 34.7ms inference, 2.1ms postprocess per image at shape (1, 3, 384, 640)\n",
            "$$$$$$$$$$$$$$$$$$$  [[519.9249267578125, 545.8309326171875, 541.5721435546875, 586.2923583984375]]\n",
            "\n",
            "0: 384x640 1 football, 33.8ms\n",
            "Speed: 2.0ms preprocess, 33.8ms inference, 2.1ms postprocess per image at shape (1, 3, 384, 640)\n",
            "$$$$$$$$$$$$$$$$$$$  [[520.0150146484375, 546.0994873046875, 541.650146484375, 586.5152587890625]]\n",
            "\n",
            "0: 384x640 1 football, 33.8ms\n",
            "Speed: 2.2ms preprocess, 33.8ms inference, 2.1ms postprocess per image at shape (1, 3, 384, 640)\n",
            "$$$$$$$$$$$$$$$$$$$  [[520.0081787109375, 546.7435302734375, 540.875244140625, 586.5301513671875]]\n",
            "\n",
            "0: 384x640 1 football, 34.3ms\n",
            "Speed: 2.0ms preprocess, 34.3ms inference, 2.1ms postprocess per image at shape (1, 3, 384, 640)\n",
            "$$$$$$$$$$$$$$$$$$$  [[520.0042114257812, 546.4031982421875, 541.2106323242188, 586.5943603515625]]\n",
            "\n",
            "0: 384x640 1 football, 34.2ms\n",
            "Speed: 2.7ms preprocess, 34.2ms inference, 2.2ms postprocess per image at shape (1, 3, 384, 640)\n",
            "$$$$$$$$$$$$$$$$$$$  [[519.927490234375, 545.8515625, 541.636474609375, 586.330078125]]\n",
            "\n",
            "0: 384x640 1 football, 32.9ms\n",
            "Speed: 2.1ms preprocess, 32.9ms inference, 2.3ms postprocess per image at shape (1, 3, 384, 640)\n",
            "$$$$$$$$$$$$$$$$$$$  [[520.43896484375, 546.085693359375, 541.046630859375, 585.13671875]]\n",
            "\n",
            "0: 384x640 1 football, 33.5ms\n",
            "Speed: 2.1ms preprocess, 33.5ms inference, 2.4ms postprocess per image at shape (1, 3, 384, 640)\n",
            "$$$$$$$$$$$$$$$$$$$  [[520.31689453125, 546.1715087890625, 541.492431640625, 586.2034912109375]]\n",
            "\n",
            "0: 384x640 1 football, 33.2ms\n",
            "Speed: 2.2ms preprocess, 33.2ms inference, 2.0ms postprocess per image at shape (1, 3, 384, 640)\n",
            "$$$$$$$$$$$$$$$$$$$  [[520.2100219726562, 546.5086669921875, 541.2413940429688, 586.4395751953125]]\n",
            "\n",
            "0: 384x640 1 football, 33.8ms\n",
            "Speed: 2.1ms preprocess, 33.8ms inference, 2.2ms postprocess per image at shape (1, 3, 384, 640)\n",
            "$$$$$$$$$$$$$$$$$$$  [[520.4197387695312, 546.2242431640625, 541.6535034179688, 586.1622314453125]]\n",
            "\n",
            "0: 384x640 1 football, 34.4ms\n",
            "Speed: 2.0ms preprocess, 34.4ms inference, 2.1ms postprocess per image at shape (1, 3, 384, 640)\n",
            "$$$$$$$$$$$$$$$$$$$  [[521.0188598632812, 546.4833984375, 540.7787475585938, 584.123779296875]]\n",
            "\n",
            "0: 384x640 1 football, 32.8ms\n",
            "Speed: 4.5ms preprocess, 32.8ms inference, 2.0ms postprocess per image at shape (1, 3, 384, 640)\n",
            "$$$$$$$$$$$$$$$$$$$  [[520.8965454101562, 546.390625, 541.1349487304688, 584.862548828125]]\n",
            "\n",
            "0: 384x640 1 football, 33.6ms\n",
            "Speed: 3.1ms preprocess, 33.6ms inference, 2.1ms postprocess per image at shape (1, 3, 384, 640)\n",
            "$$$$$$$$$$$$$$$$$$$  [[520.3270263671875, 546.2693481445312, 541.7974853515625, 586.3898315429688]]\n",
            "\n",
            "0: 384x640 1 football, 34.1ms\n",
            "Speed: 2.0ms preprocess, 34.1ms inference, 2.2ms postprocess per image at shape (1, 3, 384, 640)\n",
            "$$$$$$$$$$$$$$$$$$$  [[520.380859375, 546.239501953125, 541.760986328125, 586.366943359375]]\n",
            "\n",
            "0: 384x640 1 football, 34.6ms\n",
            "Speed: 2.3ms preprocess, 34.6ms inference, 2.1ms postprocess per image at shape (1, 3, 384, 640)\n",
            "$$$$$$$$$$$$$$$$$$$  [[520.6074829101562, 545.9334106445312, 541.7566528320312, 585.4595336914062]]\n",
            "\n",
            "0: 384x640 1 football, 32.2ms\n",
            "Speed: 2.4ms preprocess, 32.2ms inference, 2.2ms postprocess per image at shape (1, 3, 384, 640)\n",
            "$$$$$$$$$$$$$$$$$$$  [[521.39306640625, 546.29931640625, 540.617919921875, 583.1029052734375]]\n",
            "\n",
            "0: 384x640 1 football, 33.6ms\n",
            "Speed: 2.2ms preprocess, 33.6ms inference, 2.2ms postprocess per image at shape (1, 3, 384, 640)\n",
            "$$$$$$$$$$$$$$$$$$$  [[520.728271484375, 545.998046875, 541.79345703125, 585.3916015625]]\n",
            "\n",
            "0: 384x640 1 football, 34.7ms\n",
            "Speed: 2.1ms preprocess, 34.7ms inference, 2.9ms postprocess per image at shape (1, 3, 384, 640)\n",
            "$$$$$$$$$$$$$$$$$$$  [[520.837158203125, 546.502197265625, 542.1181640625, 586.238037109375]]\n",
            "\n",
            "0: 384x640 1 football, 35.0ms\n",
            "Speed: 2.1ms preprocess, 35.0ms inference, 2.2ms postprocess per image at shape (1, 3, 384, 640)\n",
            "$$$$$$$$$$$$$$$$$$$  [[520.795654296875, 546.2593994140625, 542.126953125, 585.9620361328125]]\n",
            "\n",
            "0: 384x640 1 football, 35.0ms\n",
            "Speed: 2.0ms preprocess, 35.0ms inference, 2.2ms postprocess per image at shape (1, 3, 384, 640)\n",
            "$$$$$$$$$$$$$$$$$$$  [[522.0430297851562, 546.416015625, 540.9132690429688, 583.006103515625]]\n",
            "\n",
            "0: 384x640 1 football, 34.4ms\n",
            "Speed: 2.0ms preprocess, 34.4ms inference, 2.3ms postprocess per image at shape (1, 3, 384, 640)\n",
            "$$$$$$$$$$$$$$$$$$$  [[522.0739135742188, 546.1385498046875, 541.3803100585938, 583.3804931640625]]\n",
            "\n",
            "0: 384x640 1 football, 34.0ms\n",
            "Speed: 2.0ms preprocess, 34.0ms inference, 3.6ms postprocess per image at shape (1, 3, 384, 640)\n",
            "$$$$$$$$$$$$$$$$$$$  [[520.889892578125, 546.2322998046875, 542.2802734375, 585.6129150390625]]\n",
            "\n",
            "0: 384x640 1 football, 32.0ms\n",
            "Speed: 1.9ms preprocess, 32.0ms inference, 2.1ms postprocess per image at shape (1, 3, 384, 640)\n",
            "$$$$$$$$$$$$$$$$$$$  [[521.202392578125, 546.34423828125, 542.251220703125, 585.6531982421875]]\n",
            "\n",
            "0: 384x640 1 football, 33.9ms\n",
            "Speed: 2.1ms preprocess, 33.9ms inference, 2.3ms postprocess per image at shape (1, 3, 384, 640)\n",
            "$$$$$$$$$$$$$$$$$$$  [[521.3870849609375, 546.3817138671875, 541.6251220703125, 584.3140869140625]]\n",
            "\n",
            "0: 384x640 1 football, 31.8ms\n",
            "Speed: 2.1ms preprocess, 31.8ms inference, 2.4ms postprocess per image at shape (1, 3, 384, 640)\n",
            "$$$$$$$$$$$$$$$$$$$  [[521.5880126953125, 545.6282958984375, 542.0806884765625, 583.986083984375]]\n",
            "\n",
            "0: 384x640 1 football, 34.7ms\n",
            "Speed: 5.0ms preprocess, 34.7ms inference, 2.3ms postprocess per image at shape (1, 3, 384, 640)\n",
            "$$$$$$$$$$$$$$$$$$$  [[521.745849609375, 546.3404541015625, 541.487060546875, 583.94677734375]]\n",
            "\n",
            "0: 384x640 1 football, 34.7ms\n",
            "Speed: 2.2ms preprocess, 34.7ms inference, 2.2ms postprocess per image at shape (1, 3, 384, 640)\n",
            "$$$$$$$$$$$$$$$$$$$  [[520.8890380859375, 546.0927734375, 542.3763427734375, 585.93701171875]]\n",
            "\n",
            "0: 384x640 1 football, 33.9ms\n",
            "Speed: 4.1ms preprocess, 33.9ms inference, 2.1ms postprocess per image at shape (1, 3, 384, 640)\n",
            "$$$$$$$$$$$$$$$$$$$  [[520.8728637695312, 546.161376953125, 542.3252563476562, 585.790283203125]]\n",
            "\n",
            "0: 384x640 1 football, 33.1ms\n",
            "Speed: 4.0ms preprocess, 33.1ms inference, 3.1ms postprocess per image at shape (1, 3, 384, 640)\n",
            "$$$$$$$$$$$$$$$$$$$  [[521.7344970703125, 546.0242919921875, 541.7891845703125, 583.7117919921875]]\n",
            "\n",
            "0: 384x640 1 football, 34.6ms\n",
            "Speed: 2.0ms preprocess, 34.6ms inference, 2.5ms postprocess per image at shape (1, 3, 384, 640)\n",
            "$$$$$$$$$$$$$$$$$$$  [[521.67578125, 546.0233154296875, 541.830810546875, 583.7501220703125]]\n",
            "\n",
            "0: 384x640 1 football, 32.4ms\n",
            "Speed: 2.1ms preprocess, 32.4ms inference, 2.1ms postprocess per image at shape (1, 3, 384, 640)\n",
            "$$$$$$$$$$$$$$$$$$$  [[520.73828125, 545.90625, 542.558349609375, 585.74267578125]]\n",
            "\n",
            "0: 384x640 1 football, 33.9ms\n",
            "Speed: 2.2ms preprocess, 33.9ms inference, 2.6ms postprocess per image at shape (1, 3, 384, 640)\n",
            "$$$$$$$$$$$$$$$$$$$  [[520.57861328125, 546.260986328125, 542.6884765625, 586.506591796875]]\n",
            "\n",
            "0: 384x640 1 football, 34.1ms\n",
            "Speed: 2.1ms preprocess, 34.1ms inference, 2.3ms postprocess per image at shape (1, 3, 384, 640)\n",
            "$$$$$$$$$$$$$$$$$$$  [[520.591796875, 545.8408203125, 542.67919921875, 585.90087890625]]\n",
            "\n",
            "0: 384x640 1 football, 32.6ms\n",
            "Speed: 2.0ms preprocess, 32.6ms inference, 2.0ms postprocess per image at shape (1, 3, 384, 640)\n",
            "$$$$$$$$$$$$$$$$$$$  [[520.9515380859375, 545.7935791015625, 542.4910888671875, 585.4813232421875]]\n",
            "\n",
            "0: 384x640 1 football, 35.0ms\n",
            "Speed: 2.1ms preprocess, 35.0ms inference, 2.1ms postprocess per image at shape (1, 3, 384, 640)\n",
            "$$$$$$$$$$$$$$$$$$$  [[520.6898193359375, 545.7362060546875, 542.6104736328125, 586.0135498046875]]\n",
            "\n",
            "0: 384x640 1 football, 33.1ms\n",
            "Speed: 2.3ms preprocess, 33.1ms inference, 2.1ms postprocess per image at shape (1, 3, 384, 640)\n",
            "$$$$$$$$$$$$$$$$$$$  [[520.6968994140625, 545.6944580078125, 542.6788330078125, 586.0343017578125]]\n",
            "\n",
            "0: 384x640 1 football, 33.6ms\n",
            "Speed: 2.1ms preprocess, 33.6ms inference, 2.2ms postprocess per image at shape (1, 3, 384, 640)\n",
            "$$$$$$$$$$$$$$$$$$$  [[520.7413330078125, 545.798095703125, 542.6517333984375, 585.9752197265625]]\n",
            "\n",
            "0: 384x640 1 football, 33.7ms\n",
            "Speed: 2.0ms preprocess, 33.7ms inference, 2.0ms postprocess per image at shape (1, 3, 384, 640)\n",
            "$$$$$$$$$$$$$$$$$$$  [[520.7069091796875, 545.7354736328125, 542.6514892578125, 586.0360107421875]]\n",
            "\n",
            "0: 384x640 1 football, 32.6ms\n",
            "Speed: 2.3ms preprocess, 32.6ms inference, 2.1ms postprocess per image at shape (1, 3, 384, 640)\n",
            "$$$$$$$$$$$$$$$$$$$  [[520.822265625, 545.8157958984375, 542.688720703125, 586.18408203125]]\n",
            "\n",
            "0: 384x640 1 football, 33.2ms\n",
            "Speed: 6.4ms preprocess, 33.2ms inference, 2.2ms postprocess per image at shape (1, 3, 384, 640)\n",
            "$$$$$$$$$$$$$$$$$$$  [[520.968505859375, 545.79052734375, 542.765380859375, 586.289794921875]]\n",
            "\n",
            "0: 384x640 1 football, 32.5ms\n",
            "Speed: 2.2ms preprocess, 32.5ms inference, 2.3ms postprocess per image at shape (1, 3, 384, 640)\n",
            "$$$$$$$$$$$$$$$$$$$  [[520.9622802734375, 545.8172607421875, 542.601318359375, 586.4857177734375]]\n",
            "\n",
            "0: 384x640 1 football, 34.7ms\n",
            "Speed: 2.1ms preprocess, 34.7ms inference, 2.5ms postprocess per image at shape (1, 3, 384, 640)\n",
            "$$$$$$$$$$$$$$$$$$$  [[520.943603515625, 545.8985595703125, 542.063720703125, 586.0980224609375]]\n",
            "\n",
            "0: 384x640 1 football, 33.8ms\n",
            "Speed: 2.4ms preprocess, 33.8ms inference, 2.6ms postprocess per image at shape (1, 3, 384, 640)\n",
            "$$$$$$$$$$$$$$$$$$$  [[520.946533203125, 545.64453125, 542.118896484375, 586.3505859375]]\n",
            "\n",
            "0: 384x640 1 football, 34.3ms\n",
            "Speed: 1.9ms preprocess, 34.3ms inference, 2.4ms postprocess per image at shape (1, 3, 384, 640)\n",
            "$$$$$$$$$$$$$$$$$$$  [[520.9324340820312, 545.695068359375, 542.1222534179688, 586.23388671875]]\n",
            "\n",
            "0: 384x640 1 football, 33.0ms\n",
            "Speed: 2.3ms preprocess, 33.0ms inference, 2.5ms postprocess per image at shape (1, 3, 384, 640)\n",
            "$$$$$$$$$$$$$$$$$$$  [[520.8807373046875, 545.474853515625, 542.5723876953125, 586.46875]]\n",
            "\n",
            "0: 384x640 1 football, 34.2ms\n",
            "Speed: 2.4ms preprocess, 34.2ms inference, 2.2ms postprocess per image at shape (1, 3, 384, 640)\n",
            "$$$$$$$$$$$$$$$$$$$  [[520.6820068359375, 545.176025390625, 543.2584228515625, 586.6888427734375]]\n",
            "\n",
            "0: 384x640 1 football, 34.9ms\n",
            "Speed: 2.1ms preprocess, 34.9ms inference, 2.1ms postprocess per image at shape (1, 3, 384, 640)\n",
            "$$$$$$$$$$$$$$$$$$$  [[520.97265625, 546.064453125, 542.128173828125, 586.1591796875]]\n",
            "\n",
            "0: 384x640 1 football, 34.3ms\n",
            "Speed: 2.4ms preprocess, 34.3ms inference, 2.1ms postprocess per image at shape (1, 3, 384, 640)\n",
            "$$$$$$$$$$$$$$$$$$$  [[520.8839111328125, 546.7130737304688, 542.6522216796875, 585.6514282226562]]\n",
            "\n",
            "0: 384x640 1 football, 32.6ms\n",
            "Speed: 2.1ms preprocess, 32.6ms inference, 2.2ms postprocess per image at shape (1, 3, 384, 640)\n",
            "$$$$$$$$$$$$$$$$$$$  [[521.6658935546875, 547.0538940429688, 542.5428466796875, 585.2814331054688]]\n",
            "\n",
            "0: 384x640 1 football, 33.7ms\n",
            "Speed: 2.2ms preprocess, 33.7ms inference, 2.1ms postprocess per image at shape (1, 3, 384, 640)\n",
            "$$$$$$$$$$$$$$$$$$$  [[521.2431030273438, 546.8952026367188, 540.4562377929688, 584.5021362304688]]\n",
            "\n",
            "0: 384x640 1 football, 32.4ms\n",
            "Speed: 2.2ms preprocess, 32.4ms inference, 2.3ms postprocess per image at shape (1, 3, 384, 640)\n",
            "$$$$$$$$$$$$$$$$$$$  [[520.182373046875, 547.0897216796875, 538.749267578125, 585.3326416015625]]\n",
            "\n",
            "0: 384x640 (no detections), 32.9ms\n",
            "Speed: 2.1ms preprocess, 32.9ms inference, 1.5ms postprocess per image at shape (1, 3, 384, 640)\n",
            "\n",
            "0: 384x640 (no detections), 34.3ms\n",
            "Speed: 2.1ms preprocess, 34.3ms inference, 2.1ms postprocess per image at shape (1, 3, 384, 640)\n",
            "\n",
            "0: 384x640 (no detections), 34.1ms\n",
            "Speed: 1.9ms preprocess, 34.1ms inference, 1.5ms postprocess per image at shape (1, 3, 384, 640)\n",
            "\n",
            "0: 384x640 1 football, 34.6ms\n",
            "Speed: 2.2ms preprocess, 34.6ms inference, 2.1ms postprocess per image at shape (1, 3, 384, 640)\n",
            "$$$$$$$$$$$$$$$$$$$  [[564.5556640625, 440.5806884765625, 592.422607421875, 488.0506591796875]]\n",
            "\n",
            "0: 384x640 (no detections), 32.9ms\n",
            "Speed: 2.1ms preprocess, 32.9ms inference, 1.4ms postprocess per image at shape (1, 3, 384, 640)\n",
            "\n",
            "0: 384x640 (no detections), 33.5ms\n",
            "Speed: 2.1ms preprocess, 33.5ms inference, 1.3ms postprocess per image at shape (1, 3, 384, 640)\n",
            "\n",
            "0: 384x640 1 football, 34.0ms\n",
            "Speed: 2.1ms preprocess, 34.0ms inference, 3.3ms postprocess per image at shape (1, 3, 384, 640)\n",
            "$$$$$$$$$$$$$$$$$$$  [[608.267578125, 382.3701477050781, 629.87158203125, 424.6106872558594]]\n",
            "\n",
            "0: 384x640 (no detections), 33.0ms\n",
            "Speed: 2.3ms preprocess, 33.0ms inference, 1.4ms postprocess per image at shape (1, 3, 384, 640)\n",
            "\n",
            "0: 384x640 (no detections), 34.2ms\n",
            "Speed: 4.1ms preprocess, 34.2ms inference, 1.4ms postprocess per image at shape (1, 3, 384, 640)\n",
            "\n",
            "0: 384x640 (no detections), 35.0ms\n",
            "Speed: 2.2ms preprocess, 35.0ms inference, 1.5ms postprocess per image at shape (1, 3, 384, 640)\n",
            "\n",
            "0: 384x640 (no detections), 32.9ms\n",
            "Speed: 2.1ms preprocess, 32.9ms inference, 1.5ms postprocess per image at shape (1, 3, 384, 640)\n",
            "\n",
            "0: 384x640 (no detections), 33.9ms\n",
            "Speed: 2.0ms preprocess, 33.9ms inference, 1.4ms postprocess per image at shape (1, 3, 384, 640)\n",
            "\n",
            "0: 384x640 (no detections), 35.3ms\n",
            "Speed: 2.0ms preprocess, 35.3ms inference, 2.0ms postprocess per image at shape (1, 3, 384, 640)\n",
            "\n",
            "0: 384x640 (no detections), 33.2ms\n",
            "Speed: 4.1ms preprocess, 33.2ms inference, 1.4ms postprocess per image at shape (1, 3, 384, 640)\n",
            "\n",
            "0: 384x640 1 football, 34.2ms\n",
            "Speed: 2.7ms preprocess, 34.2ms inference, 2.2ms postprocess per image at shape (1, 3, 384, 640)\n",
            "$$$$$$$$$$$$$$$$$$$  [[669.78369140625, 259.33154296875, 688.978271484375, 295.43939208984375]]\n",
            "\n",
            "0: 384x640 1 football, 34.0ms\n",
            "Speed: 2.2ms preprocess, 34.0ms inference, 2.2ms postprocess per image at shape (1, 3, 384, 640)\n",
            "$$$$$$$$$$$$$$$$$$$  [[676.364501953125, 251.175048828125, 696.756591796875, 290.0748291015625]]\n",
            "\n",
            "0: 384x640 1 football, 33.2ms\n",
            "Speed: 2.2ms preprocess, 33.2ms inference, 2.5ms postprocess per image at shape (1, 3, 384, 640)\n",
            "$$$$$$$$$$$$$$$$$$$  [[683.9108276367188, 244.73822021484375, 704.2704467773438, 284.2816162109375]]\n",
            "\n",
            "0: 384x640 1 football, 33.2ms\n",
            "Speed: 2.2ms preprocess, 33.2ms inference, 2.5ms postprocess per image at shape (1, 3, 384, 640)\n",
            "$$$$$$$$$$$$$$$$$$$  [[691.9432373046875, 238.98828125, 711.3739013671875, 279.18402099609375]]\n",
            "\n",
            "0: 384x640 1 football, 32.9ms\n",
            "Speed: 2.5ms preprocess, 32.9ms inference, 2.2ms postprocess per image at shape (1, 3, 384, 640)\n",
            "$$$$$$$$$$$$$$$$$$$  [[700.5911865234375, 239.788330078125, 717.9493408203125, 273.47265625]]\n",
            "\n",
            "0: 384x640 1 football, 32.8ms\n",
            "Speed: 2.7ms preprocess, 32.8ms inference, 2.4ms postprocess per image at shape (1, 3, 384, 640)\n",
            "$$$$$$$$$$$$$$$$$$$  [[709.3660888671875, 239.132080078125, 724.3045654296875, 271.53631591796875]]\n",
            "\n",
            "0: 384x640 1 football, 32.8ms\n",
            "Speed: 2.4ms preprocess, 32.8ms inference, 2.3ms postprocess per image at shape (1, 3, 384, 640)\n",
            "$$$$$$$$$$$$$$$$$$$  [[716.1173095703125, 237.83444213867188, 733.6492919921875, 271.3773498535156]]\n",
            "\n",
            "0: 384x640 1 football, 34.2ms\n",
            "Speed: 2.1ms preprocess, 34.2ms inference, 2.1ms postprocess per image at shape (1, 3, 384, 640)\n",
            "$$$$$$$$$$$$$$$$$$$  [[725.158935546875, 239.11563110351562, 740.647705078125, 271.0838317871094]]\n",
            "\n",
            "0: 384x640 1 football, 34.1ms\n",
            "Speed: 2.5ms preprocess, 34.1ms inference, 2.2ms postprocess per image at shape (1, 3, 384, 640)\n",
            "$$$$$$$$$$$$$$$$$$$  [[732.7532958984375, 240.6766357421875, 750.6490478515625, 273.1705322265625]]\n",
            "\n",
            "0: 384x640 2 footballs, 33.7ms\n",
            "Speed: 2.1ms preprocess, 33.7ms inference, 2.9ms postprocess per image at shape (1, 3, 384, 640)\n",
            "$$$$$$$$$$$$$$$$$$$  [[888.5969848632812, 297.04296875, 906.4697875976562, 334.0791015625], [741.41943359375, 243.6473388671875, 760.3310546875, 276.6561279296875]]\n",
            "\n",
            "0: 384x640 2 footballs, 32.2ms\n",
            "Speed: 2.1ms preprocess, 32.2ms inference, 2.3ms postprocess per image at shape (1, 3, 384, 640)\n",
            "$$$$$$$$$$$$$$$$$$$  [[753.192138671875, 248.1544189453125, 769.615234375, 280.14453125], [885.588134765625, 300.1126708984375, 902.581787109375, 336.43212890625]]\n",
            "\n",
            "0: 384x640 1 football, 31.8ms\n",
            "Speed: 2.1ms preprocess, 31.8ms inference, 2.1ms postprocess per image at shape (1, 3, 384, 640)\n",
            "$$$$$$$$$$$$$$$$$$$  [[884.7534790039062, 300.80291748046875, 897.8433227539062, 333.55743408203125]]\n",
            "\n",
            "0: 384x640 (no detections), 34.9ms\n",
            "Speed: 2.3ms preprocess, 34.9ms inference, 1.3ms postprocess per image at shape (1, 3, 384, 640)\n",
            "\n",
            "0: 384x640 1 football, 35.2ms\n",
            "Speed: 2.3ms preprocess, 35.2ms inference, 2.0ms postprocess per image at shape (1, 3, 384, 640)\n",
            "$$$$$$$$$$$$$$$$$$$  [[781.9407958984375, 266.23065185546875, 796.8980712890625, 295.9874267578125]]\n",
            "\n",
            "0: 384x640 (no detections), 37.4ms\n",
            "Speed: 2.1ms preprocess, 37.4ms inference, 1.4ms postprocess per image at shape (1, 3, 384, 640)\n",
            "\n",
            "0: 384x640 1 football, 32.4ms\n",
            "Speed: 2.9ms preprocess, 32.4ms inference, 2.1ms postprocess per image at shape (1, 3, 384, 640)\n",
            "$$$$$$$$$$$$$$$$$$$  [[827.87646484375, 238.63037109375, 846.989013671875, 280.8447265625]]\n",
            "\n",
            "0: 384x640 (no detections), 33.6ms\n",
            "Speed: 1.9ms preprocess, 33.6ms inference, 1.3ms postprocess per image at shape (1, 3, 384, 640)\n",
            "\n",
            "0: 384x640 (no detections), 34.7ms\n",
            "Speed: 2.2ms preprocess, 34.7ms inference, 1.4ms postprocess per image at shape (1, 3, 384, 640)\n",
            "\n",
            "0: 384x640 1 football, 34.2ms\n",
            "Speed: 2.2ms preprocess, 34.2ms inference, 2.3ms postprocess per image at shape (1, 3, 384, 640)\n",
            "$$$$$$$$$$$$$$$$$$$  [[826.3261108398438, 247.67910766601562, 843.7927856445312, 285.1987609863281]]\n",
            "\n",
            "0: 384x640 1 football, 34.3ms\n",
            "Speed: 4.0ms preprocess, 34.3ms inference, 2.2ms postprocess per image at shape (1, 3, 384, 640)\n",
            "$$$$$$$$$$$$$$$$$$$  [[835.272216796875, 237.94052124023438, 854.196533203125, 276.2105407714844]]\n",
            "\n",
            "0: 384x640 1 football, 34.1ms\n",
            "Speed: 2.2ms preprocess, 34.1ms inference, 2.1ms postprocess per image at shape (1, 3, 384, 640)\n",
            "$$$$$$$$$$$$$$$$$$$  [[847.8948974609375, 232.80609130859375, 867.6109619140625, 268.448974609375]]\n",
            "\n",
            "0: 384x640 (no detections), 35.3ms\n",
            "Speed: 2.1ms preprocess, 35.3ms inference, 1.6ms postprocess per image at shape (1, 3, 384, 640)\n",
            "\n",
            "0: 384x640 (no detections), 33.9ms\n",
            "Speed: 3.3ms preprocess, 33.9ms inference, 1.3ms postprocess per image at shape (1, 3, 384, 640)\n",
            "\n",
            "0: 384x640 (no detections), 34.1ms\n",
            "Speed: 2.1ms preprocess, 34.1ms inference, 1.4ms postprocess per image at shape (1, 3, 384, 640)\n",
            "\n",
            "0: 384x640 (no detections), 34.2ms\n",
            "Speed: 4.5ms preprocess, 34.2ms inference, 1.4ms postprocess per image at shape (1, 3, 384, 640)\n",
            "\n",
            "0: 384x640 (no detections), 33.5ms\n",
            "Speed: 2.2ms preprocess, 33.5ms inference, 1.4ms postprocess per image at shape (1, 3, 384, 640)\n",
            "\n",
            "0: 384x640 (no detections), 34.3ms\n",
            "Speed: 2.8ms preprocess, 34.3ms inference, 1.4ms postprocess per image at shape (1, 3, 384, 640)\n",
            "\n",
            "0: 384x640 (no detections), 32.5ms\n",
            "Speed: 2.4ms preprocess, 32.5ms inference, 1.4ms postprocess per image at shape (1, 3, 384, 640)\n",
            "\n",
            "0: 384x640 (no detections), 33.9ms\n",
            "Speed: 4.7ms preprocess, 33.9ms inference, 2.3ms postprocess per image at shape (1, 3, 384, 640)\n",
            "\n",
            "0: 384x640 (no detections), 33.0ms\n",
            "Speed: 2.2ms preprocess, 33.0ms inference, 1.9ms postprocess per image at shape (1, 3, 384, 640)\n",
            "\n",
            "0: 384x640 (no detections), 33.2ms\n",
            "Speed: 2.2ms preprocess, 33.2ms inference, 1.7ms postprocess per image at shape (1, 3, 384, 640)\n",
            "\n",
            "0: 384x640 (no detections), 33.1ms\n",
            "Speed: 2.3ms preprocess, 33.1ms inference, 2.0ms postprocess per image at shape (1, 3, 384, 640)\n",
            "\n",
            "0: 384x640 (no detections), 39.2ms\n",
            "Speed: 2.4ms preprocess, 39.2ms inference, 2.0ms postprocess per image at shape (1, 3, 384, 640)\n",
            "\n",
            "0: 384x640 (no detections), 33.0ms\n",
            "Speed: 2.2ms preprocess, 33.0ms inference, 7.6ms postprocess per image at shape (1, 3, 384, 640)\n",
            "\n",
            "0: 384x640 (no detections), 44.0ms\n",
            "Speed: 2.3ms preprocess, 44.0ms inference, 4.5ms postprocess per image at shape (1, 3, 384, 640)\n",
            "\n",
            "0: 384x640 (no detections), 40.9ms\n",
            "Speed: 5.0ms preprocess, 40.9ms inference, 2.8ms postprocess per image at shape (1, 3, 384, 640)\n",
            "\n",
            "0: 384x640 (no detections), 33.3ms\n",
            "Speed: 1.9ms preprocess, 33.3ms inference, 2.0ms postprocess per image at shape (1, 3, 384, 640)\n",
            "\n",
            "0: 384x640 1 football, 33.4ms\n",
            "Speed: 2.0ms preprocess, 33.4ms inference, 2.8ms postprocess per image at shape (1, 3, 384, 640)\n",
            "$$$$$$$$$$$$$$$$$$$  [[985.2215576171875, 225.63461303710938, 1005.2095947265625, 262.0939025878906]]\n",
            "\n",
            "0: 384x640 1 football, 32.8ms\n",
            "Speed: 2.3ms preprocess, 32.8ms inference, 2.8ms postprocess per image at shape (1, 3, 384, 640)\n",
            "$$$$$$$$$$$$$$$$$$$  [[989.2149658203125, 234.61480712890625, 1006.2386474609375, 265.99359130859375]]\n",
            "\n",
            "0: 384x640 1 football, 34.3ms\n",
            "Speed: 2.1ms preprocess, 34.3ms inference, 5.2ms postprocess per image at shape (1, 3, 384, 640)\n",
            "$$$$$$$$$$$$$$$$$$$  [[991.4581298828125, 241.26947021484375, 1007.5096435546875, 274.22564697265625]]\n",
            "\n",
            "0: 384x640 (no detections), 31.0ms\n",
            "Speed: 2.0ms preprocess, 31.0ms inference, 1.7ms postprocess per image at shape (1, 3, 384, 640)\n",
            "\n",
            "0: 384x640 (no detections), 34.2ms\n",
            "Speed: 3.3ms preprocess, 34.2ms inference, 1.9ms postprocess per image at shape (1, 3, 384, 640)\n",
            "\n",
            "0: 384x640 (no detections), 32.3ms\n",
            "Speed: 2.3ms preprocess, 32.3ms inference, 2.0ms postprocess per image at shape (1, 3, 384, 640)\n",
            "\n",
            "0: 384x640 (no detections), 34.2ms\n",
            "Speed: 2.1ms preprocess, 34.2ms inference, 2.2ms postprocess per image at shape (1, 3, 384, 640)\n",
            "\n",
            "0: 384x640 (no detections), 34.1ms\n",
            "Speed: 2.5ms preprocess, 34.1ms inference, 1.9ms postprocess per image at shape (1, 3, 384, 640)\n",
            "\n",
            "0: 384x640 (no detections), 32.5ms\n",
            "Speed: 2.5ms preprocess, 32.5ms inference, 1.6ms postprocess per image at shape (1, 3, 384, 640)\n",
            "\n",
            "0: 384x640 (no detections), 32.5ms\n",
            "Speed: 2.1ms preprocess, 32.5ms inference, 1.8ms postprocess per image at shape (1, 3, 384, 640)\n",
            "\n",
            "0: 384x640 (no detections), 35.3ms\n",
            "Speed: 2.2ms preprocess, 35.3ms inference, 1.8ms postprocess per image at shape (1, 3, 384, 640)\n",
            "\n",
            "0: 384x640 (no detections), 34.1ms\n",
            "Speed: 2.1ms preprocess, 34.1ms inference, 1.8ms postprocess per image at shape (1, 3, 384, 640)\n",
            "\n",
            "0: 384x640 (no detections), 34.7ms\n",
            "Speed: 2.0ms preprocess, 34.7ms inference, 2.1ms postprocess per image at shape (1, 3, 384, 640)\n",
            "\n",
            "0: 384x640 (no detections), 32.8ms\n",
            "Speed: 1.9ms preprocess, 32.8ms inference, 1.7ms postprocess per image at shape (1, 3, 384, 640)\n",
            "\n",
            "0: 384x640 (no detections), 35.0ms\n",
            "Speed: 2.2ms preprocess, 35.0ms inference, 1.7ms postprocess per image at shape (1, 3, 384, 640)\n",
            "\n",
            "0: 384x640 (no detections), 33.9ms\n",
            "Speed: 2.0ms preprocess, 33.9ms inference, 1.6ms postprocess per image at shape (1, 3, 384, 640)\n",
            "\n",
            "0: 384x640 (no detections), 34.5ms\n",
            "Speed: 1.9ms preprocess, 34.5ms inference, 1.8ms postprocess per image at shape (1, 3, 384, 640)\n",
            "\n",
            "0: 384x640 (no detections), 33.7ms\n",
            "Speed: 2.0ms preprocess, 33.7ms inference, 1.7ms postprocess per image at shape (1, 3, 384, 640)\n",
            "\n",
            "0: 384x640 (no detections), 37.3ms\n",
            "Speed: 2.0ms preprocess, 37.3ms inference, 1.7ms postprocess per image at shape (1, 3, 384, 640)\n",
            "\n",
            "0: 384x640 (no detections), 31.9ms\n",
            "Speed: 2.1ms preprocess, 31.9ms inference, 2.0ms postprocess per image at shape (1, 3, 384, 640)\n",
            "\n",
            "0: 384x640 (no detections), 34.7ms\n",
            "Speed: 2.0ms preprocess, 34.7ms inference, 2.1ms postprocess per image at shape (1, 3, 384, 640)\n",
            "\n",
            "0: 384x640 (no detections), 34.5ms\n",
            "Speed: 2.3ms preprocess, 34.5ms inference, 1.7ms postprocess per image at shape (1, 3, 384, 640)\n",
            "\n",
            "0: 384x640 (no detections), 34.8ms\n",
            "Speed: 1.8ms preprocess, 34.8ms inference, 1.9ms postprocess per image at shape (1, 3, 384, 640)\n",
            "\n",
            "0: 384x640 (no detections), 34.2ms\n",
            "Speed: 2.7ms preprocess, 34.2ms inference, 1.6ms postprocess per image at shape (1, 3, 384, 640)\n",
            "\n",
            "0: 384x640 (no detections), 33.0ms\n",
            "Speed: 2.3ms preprocess, 33.0ms inference, 1.7ms postprocess per image at shape (1, 3, 384, 640)\n",
            "\n",
            "0: 384x640 (no detections), 32.2ms\n",
            "Speed: 2.0ms preprocess, 32.2ms inference, 1.8ms postprocess per image at shape (1, 3, 384, 640)\n",
            "\n",
            "0: 384x640 (no detections), 33.9ms\n",
            "Speed: 2.0ms preprocess, 33.9ms inference, 1.7ms postprocess per image at shape (1, 3, 384, 640)\n",
            "\n",
            "0: 384x640 (no detections), 31.4ms\n",
            "Speed: 2.1ms preprocess, 31.4ms inference, 1.7ms postprocess per image at shape (1, 3, 384, 640)\n",
            "\n",
            "0: 384x640 (no detections), 32.8ms\n",
            "Speed: 1.9ms preprocess, 32.8ms inference, 2.3ms postprocess per image at shape (1, 3, 384, 640)\n",
            "\n",
            "0: 384x640 (no detections), 33.8ms\n",
            "Speed: 2.0ms preprocess, 33.8ms inference, 1.9ms postprocess per image at shape (1, 3, 384, 640)\n",
            "\n",
            "0: 384x640 (no detections), 34.5ms\n",
            "Speed: 2.1ms preprocess, 34.5ms inference, 1.6ms postprocess per image at shape (1, 3, 384, 640)\n",
            "\n",
            "0: 384x640 (no detections), 34.5ms\n",
            "Speed: 2.0ms preprocess, 34.5ms inference, 1.8ms postprocess per image at shape (1, 3, 384, 640)\n",
            "\n",
            "0: 384x640 (no detections), 33.4ms\n",
            "Speed: 3.7ms preprocess, 33.4ms inference, 1.6ms postprocess per image at shape (1, 3, 384, 640)\n",
            "\n",
            "0: 384x640 (no detections), 32.9ms\n",
            "Speed: 2.2ms preprocess, 32.9ms inference, 1.8ms postprocess per image at shape (1, 3, 384, 640)\n",
            "\n",
            "0: 384x640 (no detections), 33.3ms\n",
            "Speed: 1.9ms preprocess, 33.3ms inference, 2.2ms postprocess per image at shape (1, 3, 384, 640)\n",
            "\n",
            "0: 384x640 (no detections), 33.6ms\n",
            "Speed: 2.0ms preprocess, 33.6ms inference, 1.6ms postprocess per image at shape (1, 3, 384, 640)\n",
            "\n",
            "0: 384x640 (no detections), 33.8ms\n",
            "Speed: 2.0ms preprocess, 33.8ms inference, 1.6ms postprocess per image at shape (1, 3, 384, 640)\n",
            "\n",
            "0: 384x640 (no detections), 34.5ms\n",
            "Speed: 2.1ms preprocess, 34.5ms inference, 1.9ms postprocess per image at shape (1, 3, 384, 640)\n",
            "\n",
            "0: 384x640 (no detections), 33.0ms\n",
            "Speed: 2.1ms preprocess, 33.0ms inference, 2.4ms postprocess per image at shape (1, 3, 384, 640)\n",
            "\n",
            "0: 384x640 (no detections), 32.6ms\n",
            "Speed: 2.0ms preprocess, 32.6ms inference, 3.8ms postprocess per image at shape (1, 3, 384, 640)\n",
            "\n",
            "0: 384x640 (no detections), 32.2ms\n",
            "Speed: 2.6ms preprocess, 32.2ms inference, 1.6ms postprocess per image at shape (1, 3, 384, 640)\n",
            "\n",
            "0: 384x640 (no detections), 36.3ms\n",
            "Speed: 2.5ms preprocess, 36.3ms inference, 2.0ms postprocess per image at shape (1, 3, 384, 640)\n",
            "\n",
            "0: 384x640 (no detections), 33.8ms\n",
            "Speed: 2.2ms preprocess, 33.8ms inference, 1.6ms postprocess per image at shape (1, 3, 384, 640)\n",
            "\n",
            "0: 384x640 (no detections), 34.1ms\n",
            "Speed: 1.9ms preprocess, 34.1ms inference, 1.6ms postprocess per image at shape (1, 3, 384, 640)\n",
            "\n",
            "0: 384x640 (no detections), 33.7ms\n",
            "Speed: 2.3ms preprocess, 33.7ms inference, 1.8ms postprocess per image at shape (1, 3, 384, 640)\n",
            "\n",
            "0: 384x640 (no detections), 32.8ms\n",
            "Speed: 2.0ms preprocess, 32.8ms inference, 1.9ms postprocess per image at shape (1, 3, 384, 640)\n",
            "\n",
            "0: 384x640 (no detections), 32.1ms\n",
            "Speed: 2.3ms preprocess, 32.1ms inference, 1.7ms postprocess per image at shape (1, 3, 384, 640)\n",
            "\n",
            "0: 384x640 (no detections), 33.9ms\n",
            "Speed: 1.9ms preprocess, 33.9ms inference, 1.8ms postprocess per image at shape (1, 3, 384, 640)\n",
            "\n",
            "0: 384x640 (no detections), 32.9ms\n",
            "Speed: 2.3ms preprocess, 32.9ms inference, 1.7ms postprocess per image at shape (1, 3, 384, 640)\n",
            "\n",
            "0: 384x640 (no detections), 32.8ms\n",
            "Speed: 3.5ms preprocess, 32.8ms inference, 1.6ms postprocess per image at shape (1, 3, 384, 640)\n",
            "\n",
            "0: 384x640 (no detections), 33.0ms\n",
            "Speed: 2.3ms preprocess, 33.0ms inference, 2.0ms postprocess per image at shape (1, 3, 384, 640)\n",
            "\n",
            "0: 384x640 (no detections), 33.0ms\n",
            "Speed: 1.9ms preprocess, 33.0ms inference, 1.8ms postprocess per image at shape (1, 3, 384, 640)\n",
            "\n",
            "0: 384x640 (no detections), 34.9ms\n",
            "Speed: 1.9ms preprocess, 34.9ms inference, 1.9ms postprocess per image at shape (1, 3, 384, 640)\n",
            "\n",
            "0: 384x640 (no detections), 32.8ms\n",
            "Speed: 2.0ms preprocess, 32.8ms inference, 2.0ms postprocess per image at shape (1, 3, 384, 640)\n",
            "\n",
            "0: 384x640 1 football, 34.4ms\n",
            "Speed: 2.1ms preprocess, 34.4ms inference, 2.7ms postprocess per image at shape (1, 3, 384, 640)\n",
            "$$$$$$$$$$$$$$$$$$$  [[677.934326171875, 73.54454040527344, 732.569580078125, 138.4326934814453]]\n",
            "\n",
            "0: 384x640 1 football, 32.5ms\n",
            "Speed: 2.0ms preprocess, 32.5ms inference, 2.8ms postprocess per image at shape (1, 3, 384, 640)\n",
            "$$$$$$$$$$$$$$$$$$$  [[691.640625, 73.2369384765625, 741.435546875, 136.65066528320312]]\n",
            "\n",
            "0: 384x640 1 football, 33.3ms\n",
            "Speed: 2.1ms preprocess, 33.3ms inference, 2.6ms postprocess per image at shape (1, 3, 384, 640)\n",
            "$$$$$$$$$$$$$$$$$$$  [[700.8397216796875, 72.77101135253906, 747.5738525390625, 131.54307556152344]]\n",
            "\n",
            "0: 384x640 1 football, 35.2ms\n",
            "Speed: 2.2ms preprocess, 35.2ms inference, 2.9ms postprocess per image at shape (1, 3, 384, 640)\n",
            "$$$$$$$$$$$$$$$$$$$  [[718.35205078125, 65.60762023925781, 771.2080078125, 133.04896545410156]]\n",
            "\n",
            "0: 384x640 (no detections), 35.8ms\n",
            "Speed: 3.9ms preprocess, 35.8ms inference, 2.2ms postprocess per image at shape (1, 3, 384, 640)\n",
            "\n",
            "0: 384x640 1 football, 32.0ms\n",
            "Speed: 2.0ms preprocess, 32.0ms inference, 2.8ms postprocess per image at shape (1, 3, 384, 640)\n",
            "$$$$$$$$$$$$$$$$$$$  [[730.24169921875, 65.05741882324219, 791.154296875, 135.6016082763672]]\n",
            "\n",
            "0: 384x640 1 football, 33.6ms\n",
            "Speed: 2.3ms preprocess, 33.6ms inference, 3.7ms postprocess per image at shape (1, 3, 384, 640)\n",
            "$$$$$$$$$$$$$$$$$$$  [[763.1946411132812, 73.13909912109375, 808.5785522460938, 133.64385986328125]]\n",
            "\n",
            "0: 384x640 1 football, 32.5ms\n",
            "Speed: 2.0ms preprocess, 32.5ms inference, 2.7ms postprocess per image at shape (1, 3, 384, 640)\n",
            "$$$$$$$$$$$$$$$$$$$  [[767.4835815429688, 72.04283142089844, 826.5270385742188, 136.9317169189453]]\n",
            "\n",
            "0: 384x640 (no detections), 31.5ms\n",
            "Speed: 2.1ms preprocess, 31.5ms inference, 5.8ms postprocess per image at shape (1, 3, 384, 640)\n",
            "\n",
            "0: 384x640 1 football, 33.5ms\n",
            "Speed: 2.2ms preprocess, 33.5ms inference, 4.0ms postprocess per image at shape (1, 3, 384, 640)\n",
            "$$$$$$$$$$$$$$$$$$$  [[793.9253540039062, 89.59669494628906, 857.6224975585938, 155.40052795410156]]\n",
            "\n",
            "0: 384x640 1 football, 31.7ms\n",
            "Speed: 2.2ms preprocess, 31.7ms inference, 2.6ms postprocess per image at shape (1, 3, 384, 640)\n",
            "$$$$$$$$$$$$$$$$$$$  [[820.5601806640625, 97.86970520019531, 875.103515625, 167.83802795410156]]\n",
            "\n",
            "0: 384x640 1 football, 33.3ms\n",
            "Speed: 1.8ms preprocess, 33.3ms inference, 2.6ms postprocess per image at shape (1, 3, 384, 640)\n",
            "$$$$$$$$$$$$$$$$$$$  [[833.19970703125, 110.59561157226562, 898.949462890625, 184.22158813476562]]\n",
            "\n",
            "0: 384x640 1 football, 33.0ms\n",
            "Speed: 2.1ms preprocess, 33.0ms inference, 3.5ms postprocess per image at shape (1, 3, 384, 640)\n",
            "$$$$$$$$$$$$$$$$$$$  [[847.5203857421875, 122.69158935546875, 907.6380615234375, 193.639892578125]]\n",
            "\n",
            "0: 384x640 (no detections), 34.5ms\n",
            "Speed: 1.9ms preprocess, 34.5ms inference, 1.7ms postprocess per image at shape (1, 3, 384, 640)\n",
            "\n",
            "0: 384x640 1 football, 39.8ms\n",
            "Speed: 2.2ms preprocess, 39.8ms inference, 2.9ms postprocess per image at shape (1, 3, 384, 640)\n",
            "$$$$$$$$$$$$$$$$$$$  [[894.892822265625, 169.47305297851562, 942.2557373046875, 246.53128051757812]]\n",
            "\n",
            "0: 384x640 (no detections), 40.5ms\n",
            "Speed: 2.1ms preprocess, 40.5ms inference, 1.9ms postprocess per image at shape (1, 3, 384, 640)\n",
            "\n",
            "0: 384x640 (no detections), 31.3ms\n",
            "Speed: 4.2ms preprocess, 31.3ms inference, 2.4ms postprocess per image at shape (1, 3, 384, 640)\n",
            "\n",
            "0: 384x640 (no detections), 33.4ms\n",
            "Speed: 4.1ms preprocess, 33.4ms inference, 9.4ms postprocess per image at shape (1, 3, 384, 640)\n",
            "\n",
            "0: 384x640 (no detections), 31.9ms\n",
            "Speed: 2.0ms preprocess, 31.9ms inference, 1.8ms postprocess per image at shape (1, 3, 384, 640)\n",
            "\n",
            "0: 384x640 (no detections), 34.1ms\n",
            "Speed: 2.1ms preprocess, 34.1ms inference, 1.6ms postprocess per image at shape (1, 3, 384, 640)\n",
            "\n",
            "0: 384x640 (no detections), 32.4ms\n",
            "Speed: 2.2ms preprocess, 32.4ms inference, 1.9ms postprocess per image at shape (1, 3, 384, 640)\n",
            "\n",
            "0: 384x640 1 football, 36.3ms\n",
            "Speed: 2.1ms preprocess, 36.3ms inference, 2.6ms postprocess per image at shape (1, 3, 384, 640)\n",
            "$$$$$$$$$$$$$$$$$$$  [[1075.855712890625, 485.44012451171875, 1161.533447265625, 615.6735229492188]]\n",
            "\n",
            "0: 384x640 (no detections), 33.9ms\n",
            "Speed: 2.0ms preprocess, 33.9ms inference, 1.6ms postprocess per image at shape (1, 3, 384, 640)\n",
            "\n",
            "0: 384x640 (no detections), 33.9ms\n",
            "Speed: 2.0ms preprocess, 33.9ms inference, 1.9ms postprocess per image at shape (1, 3, 384, 640)\n",
            "\n",
            "0: 384x640 (no detections), 38.0ms\n",
            "Speed: 1.8ms preprocess, 38.0ms inference, 1.7ms postprocess per image at shape (1, 3, 384, 640)\n",
            "\n",
            "0: 384x640 (no detections), 34.2ms\n",
            "Speed: 2.0ms preprocess, 34.2ms inference, 3.2ms postprocess per image at shape (1, 3, 384, 640)\n",
            "\n",
            "0: 384x640 (no detections), 32.9ms\n",
            "Speed: 1.9ms preprocess, 32.9ms inference, 1.8ms postprocess per image at shape (1, 3, 384, 640)\n",
            "\n",
            "0: 384x640 1 football, 33.8ms\n",
            "Speed: 2.2ms preprocess, 33.8ms inference, 3.0ms postprocess per image at shape (1, 3, 384, 640)\n",
            "$$$$$$$$$$$$$$$$$$$  [[1233.340087890625, 556.7891845703125, 1280.0, 663.336669921875]]\n",
            "\n",
            "0: 384x640 1 football, 33.4ms\n",
            "Speed: 1.9ms preprocess, 33.4ms inference, 2.4ms postprocess per image at shape (1, 3, 384, 640)\n",
            "$$$$$$$$$$$$$$$$$$$  [[1205.430419921875, 517.40185546875, 1280.0, 667.188720703125]]\n",
            "\n",
            "0: 384x640 2 footballs, 35.4ms\n",
            "Speed: 1.9ms preprocess, 35.4ms inference, 7.8ms postprocess per image at shape (1, 3, 384, 640)\n",
            "$$$$$$$$$$$$$$$$$$$  [[1135.11181640625, 479.5191650390625, 1272.51123046875, 652.6712646484375], [1167.884765625, 494.8306884765625, 1277.171875, 660.9122314453125]]\n",
            "\n",
            "0: 384x640 (no detections), 32.6ms\n",
            "Speed: 2.0ms preprocess, 32.6ms inference, 1.5ms postprocess per image at shape (1, 3, 384, 640)\n",
            "\n",
            "0: 384x640 1 football, 31.8ms\n",
            "Speed: 2.3ms preprocess, 31.8ms inference, 2.5ms postprocess per image at shape (1, 3, 384, 640)\n",
            "$$$$$$$$$$$$$$$$$$$  [[1015.04541015625, 399.89190673828125, 1130.71484375, 522.9498901367188]]\n",
            "\n",
            "0: 384x640 (no detections), 33.4ms\n",
            "Speed: 2.1ms preprocess, 33.4ms inference, 1.9ms postprocess per image at shape (1, 3, 384, 640)\n",
            "\n",
            "0: 384x640 (no detections), 34.9ms\n",
            "Speed: 4.4ms preprocess, 34.9ms inference, 1.8ms postprocess per image at shape (1, 3, 384, 640)\n",
            "\n",
            "0: 384x640 (no detections), 31.4ms\n",
            "Speed: 1.9ms preprocess, 31.4ms inference, 3.0ms postprocess per image at shape (1, 3, 384, 640)\n",
            "\n",
            "0: 384x640 (no detections), 34.9ms\n",
            "Speed: 2.0ms preprocess, 34.9ms inference, 4.7ms postprocess per image at shape (1, 3, 384, 640)\n",
            "\n",
            "0: 384x640 1 football, 32.8ms\n",
            "Speed: 2.0ms preprocess, 32.8ms inference, 2.7ms postprocess per image at shape (1, 3, 384, 640)\n",
            "$$$$$$$$$$$$$$$$$$$  [[728.1708984375, 208.02391052246094, 859.029541015625, 356.373779296875]]\n",
            "\n",
            "0: 384x640 (no detections), 35.1ms\n",
            "Speed: 2.1ms preprocess, 35.1ms inference, 1.7ms postprocess per image at shape (1, 3, 384, 640)\n",
            "\n",
            "0: 384x640 (no detections), 34.1ms\n",
            "Speed: 1.9ms preprocess, 34.1ms inference, 1.9ms postprocess per image at shape (1, 3, 384, 640)\n",
            "\n",
            "0: 384x640 (no detections), 35.7ms\n",
            "Speed: 2.0ms preprocess, 35.7ms inference, 1.7ms postprocess per image at shape (1, 3, 384, 640)\n",
            "\n",
            "0: 384x640 (no detections), 31.8ms\n",
            "Speed: 5.0ms preprocess, 31.8ms inference, 1.6ms postprocess per image at shape (1, 3, 384, 640)\n",
            "\n",
            "0: 384x640 (no detections), 37.2ms\n",
            "Speed: 2.2ms preprocess, 37.2ms inference, 1.7ms postprocess per image at shape (1, 3, 384, 640)\n",
            "\n",
            "0: 384x640 (no detections), 32.0ms\n",
            "Speed: 2.1ms preprocess, 32.0ms inference, 1.9ms postprocess per image at shape (1, 3, 384, 640)\n",
            "\n",
            "0: 384x640 (no detections), 35.0ms\n",
            "Speed: 2.1ms preprocess, 35.0ms inference, 1.7ms postprocess per image at shape (1, 3, 384, 640)\n",
            "\n",
            "0: 384x640 (no detections), 34.4ms\n",
            "Speed: 2.2ms preprocess, 34.4ms inference, 5.8ms postprocess per image at shape (1, 3, 384, 640)\n",
            "\n",
            "0: 384x640 (no detections), 34.1ms\n",
            "Speed: 2.0ms preprocess, 34.1ms inference, 1.8ms postprocess per image at shape (1, 3, 384, 640)\n",
            "\n",
            "0: 384x640 (no detections), 31.5ms\n",
            "Speed: 2.1ms preprocess, 31.5ms inference, 1.7ms postprocess per image at shape (1, 3, 384, 640)\n",
            "\n",
            "0: 384x640 1 football, 35.0ms\n",
            "Speed: 2.0ms preprocess, 35.0ms inference, 2.6ms postprocess per image at shape (1, 3, 384, 640)\n",
            "$$$$$$$$$$$$$$$$$$$  [[78.92269897460938, 0.0, 228.57418823242188, 173.72604370117188]]\n",
            "\n",
            "0: 384x640 (no detections), 32.9ms\n",
            "Speed: 2.0ms preprocess, 32.9ms inference, 1.8ms postprocess per image at shape (1, 3, 384, 640)\n",
            "\n",
            "0: 384x640 (no detections), 35.0ms\n",
            "Speed: 2.1ms preprocess, 35.0ms inference, 1.9ms postprocess per image at shape (1, 3, 384, 640)\n",
            "\n",
            "0: 384x640 1 football, 34.0ms\n",
            "Speed: 2.0ms preprocess, 34.0ms inference, 2.6ms postprocess per image at shape (1, 3, 384, 640)\n",
            "$$$$$$$$$$$$$$$$$$$  [[0.35094451904296875, 0.0, 49.98506164550781, 142.9857940673828]]\n",
            "\n",
            "0: 384x640 1 football, 33.1ms\n",
            "Speed: 2.0ms preprocess, 33.1ms inference, 2.9ms postprocess per image at shape (1, 3, 384, 640)\n",
            "$$$$$$$$$$$$$$$$$$$  [[0.96533203125, 16.086746215820312, 35.403175354003906, 128.59228515625]]\n",
            "\n",
            "0: 384x640 (no detections), 32.3ms\n",
            "Speed: 2.0ms preprocess, 32.3ms inference, 1.9ms postprocess per image at shape (1, 3, 384, 640)\n",
            "\n",
            "0: 384x640 (no detections), 36.7ms\n",
            "Speed: 1.9ms preprocess, 36.7ms inference, 1.8ms postprocess per image at shape (1, 3, 384, 640)\n",
            "\n",
            "0: 384x640 (no detections), 35.3ms\n",
            "Speed: 2.2ms preprocess, 35.3ms inference, 1.6ms postprocess per image at shape (1, 3, 384, 640)\n",
            "\n",
            "0: 384x640 (no detections), 34.1ms\n",
            "Speed: 3.2ms preprocess, 34.1ms inference, 1.8ms postprocess per image at shape (1, 3, 384, 640)\n",
            "\n",
            "0: 384x640 (no detections), 35.0ms\n",
            "Speed: 2.1ms preprocess, 35.0ms inference, 1.5ms postprocess per image at shape (1, 3, 384, 640)\n",
            "\n",
            "0: 384x640 (no detections), 34.2ms\n",
            "Speed: 2.0ms preprocess, 34.2ms inference, 2.0ms postprocess per image at shape (1, 3, 384, 640)\n",
            "\n",
            "0: 384x640 (no detections), 32.9ms\n",
            "Speed: 2.2ms preprocess, 32.9ms inference, 1.7ms postprocess per image at shape (1, 3, 384, 640)\n",
            "\n",
            "0: 384x640 (no detections), 36.7ms\n",
            "Speed: 2.0ms preprocess, 36.7ms inference, 1.9ms postprocess per image at shape (1, 3, 384, 640)\n",
            "\n",
            "0: 384x640 (no detections), 33.8ms\n",
            "Speed: 2.2ms preprocess, 33.8ms inference, 2.9ms postprocess per image at shape (1, 3, 384, 640)\n",
            "\n",
            "0: 384x640 (no detections), 34.8ms\n",
            "Speed: 2.0ms preprocess, 34.8ms inference, 1.8ms postprocess per image at shape (1, 3, 384, 640)\n",
            "\n",
            "0: 384x640 (no detections), 33.4ms\n",
            "Speed: 2.0ms preprocess, 33.4ms inference, 1.8ms postprocess per image at shape (1, 3, 384, 640)\n",
            "\n",
            "0: 384x640 (no detections), 32.9ms\n",
            "Speed: 1.9ms preprocess, 32.9ms inference, 1.7ms postprocess per image at shape (1, 3, 384, 640)\n",
            "\n",
            "0: 384x640 (no detections), 32.7ms\n",
            "Speed: 1.8ms preprocess, 32.7ms inference, 1.7ms postprocess per image at shape (1, 3, 384, 640)\n",
            "\n",
            "0: 384x640 (no detections), 35.3ms\n",
            "Speed: 2.1ms preprocess, 35.3ms inference, 2.0ms postprocess per image at shape (1, 3, 384, 640)\n",
            "\n",
            "0: 384x640 (no detections), 34.2ms\n",
            "Speed: 1.9ms preprocess, 34.2ms inference, 1.7ms postprocess per image at shape (1, 3, 384, 640)\n",
            "\n",
            "0: 384x640 (no detections), 34.0ms\n",
            "Speed: 2.0ms preprocess, 34.0ms inference, 1.7ms postprocess per image at shape (1, 3, 384, 640)\n",
            "\n",
            "0: 384x640 (no detections), 33.1ms\n",
            "Speed: 2.0ms preprocess, 33.1ms inference, 1.5ms postprocess per image at shape (1, 3, 384, 640)\n",
            "\n",
            "0: 384x640 (no detections), 34.5ms\n",
            "Speed: 1.8ms preprocess, 34.5ms inference, 2.1ms postprocess per image at shape (1, 3, 384, 640)\n",
            "\n",
            "0: 384x640 (no detections), 34.5ms\n",
            "Speed: 2.1ms preprocess, 34.5ms inference, 1.7ms postprocess per image at shape (1, 3, 384, 640)\n",
            "\n",
            "0: 384x640 1 football, 34.5ms\n",
            "Speed: 2.0ms preprocess, 34.5ms inference, 2.7ms postprocess per image at shape (1, 3, 384, 640)\n",
            "$$$$$$$$$$$$$$$$$$$  [[781.107421875, 544.8658447265625, 794.617919921875, 578.4022216796875]]\n",
            "\n",
            "0: 384x640 (no detections), 33.6ms\n",
            "Speed: 2.0ms preprocess, 33.6ms inference, 1.6ms postprocess per image at shape (1, 3, 384, 640)\n",
            "\n",
            "0: 384x640 (no detections), 34.2ms\n",
            "Speed: 1.8ms preprocess, 34.2ms inference, 2.1ms postprocess per image at shape (1, 3, 384, 640)\n",
            "\n",
            "0: 384x640 (no detections), 32.2ms\n",
            "Speed: 2.0ms preprocess, 32.2ms inference, 1.7ms postprocess per image at shape (1, 3, 384, 640)\n",
            "\n",
            "0: 384x640 (no detections), 34.8ms\n",
            "Speed: 2.0ms preprocess, 34.8ms inference, 1.7ms postprocess per image at shape (1, 3, 384, 640)\n",
            "\n",
            "0: 384x640 (no detections), 33.1ms\n",
            "Speed: 2.1ms preprocess, 33.1ms inference, 1.7ms postprocess per image at shape (1, 3, 384, 640)\n",
            "\n",
            "0: 384x640 1 football, 34.9ms\n",
            "Speed: 1.9ms preprocess, 34.9ms inference, 2.8ms postprocess per image at shape (1, 3, 384, 640)\n",
            "$$$$$$$$$$$$$$$$$$$  [[69.68344116210938, 384.8580627441406, 95.49510192871094, 432.2481384277344]]\n",
            "\n",
            "0: 384x640 (no detections), 32.7ms\n",
            "Speed: 2.0ms preprocess, 32.7ms inference, 1.9ms postprocess per image at shape (1, 3, 384, 640)\n",
            "\n",
            "0: 384x640 (no detections), 35.3ms\n",
            "Speed: 1.7ms preprocess, 35.3ms inference, 2.3ms postprocess per image at shape (1, 3, 384, 640)\n",
            "\n",
            "0: 384x640 (no detections), 31.6ms\n",
            "Speed: 2.1ms preprocess, 31.6ms inference, 1.7ms postprocess per image at shape (1, 3, 384, 640)\n",
            "\n",
            "0: 384x640 (no detections), 32.5ms\n",
            "Speed: 2.1ms preprocess, 32.5ms inference, 1.8ms postprocess per image at shape (1, 3, 384, 640)\n",
            "\n",
            "0: 384x640 (no detections), 33.9ms\n",
            "Speed: 2.0ms preprocess, 33.9ms inference, 1.7ms postprocess per image at shape (1, 3, 384, 640)\n",
            "\n",
            "0: 384x640 (no detections), 32.2ms\n",
            "Speed: 2.3ms preprocess, 32.2ms inference, 6.9ms postprocess per image at shape (1, 3, 384, 640)\n",
            "\n",
            "0: 384x640 (no detections), 32.0ms\n",
            "Speed: 2.1ms preprocess, 32.0ms inference, 1.8ms postprocess per image at shape (1, 3, 384, 640)\n",
            "\n",
            "0: 384x640 (no detections), 34.9ms\n",
            "Speed: 2.6ms preprocess, 34.9ms inference, 1.9ms postprocess per image at shape (1, 3, 384, 640)\n",
            "\n",
            "0: 384x640 (no detections), 32.0ms\n",
            "Speed: 2.0ms preprocess, 32.0ms inference, 2.0ms postprocess per image at shape (1, 3, 384, 640)\n",
            "\n",
            "0: 384x640 (no detections), 34.7ms\n",
            "Speed: 2.0ms preprocess, 34.7ms inference, 1.7ms postprocess per image at shape (1, 3, 384, 640)\n",
            "\n",
            "0: 384x640 (no detections), 31.9ms\n",
            "Speed: 2.1ms preprocess, 31.9ms inference, 1.7ms postprocess per image at shape (1, 3, 384, 640)\n",
            "\n",
            "0: 384x640 (no detections), 37.1ms\n",
            "Speed: 4.5ms preprocess, 37.1ms inference, 1.6ms postprocess per image at shape (1, 3, 384, 640)\n",
            "\n",
            "0: 384x640 (no detections), 32.3ms\n",
            "Speed: 2.0ms preprocess, 32.3ms inference, 4.2ms postprocess per image at shape (1, 3, 384, 640)\n",
            "\n",
            "0: 384x640 (no detections), 35.8ms\n",
            "Speed: 2.9ms preprocess, 35.8ms inference, 1.8ms postprocess per image at shape (1, 3, 384, 640)\n",
            "\n",
            "0: 384x640 (no detections), 34.7ms\n",
            "Speed: 4.2ms preprocess, 34.7ms inference, 1.7ms postprocess per image at shape (1, 3, 384, 640)\n",
            "\n",
            "0: 384x640 (no detections), 32.1ms\n",
            "Speed: 2.0ms preprocess, 32.1ms inference, 1.7ms postprocess per image at shape (1, 3, 384, 640)\n",
            "\n",
            "0: 384x640 (no detections), 33.8ms\n",
            "Speed: 2.0ms preprocess, 33.8ms inference, 1.9ms postprocess per image at shape (1, 3, 384, 640)\n",
            "\n",
            "0: 384x640 (no detections), 39.6ms\n",
            "Speed: 2.1ms preprocess, 39.6ms inference, 1.6ms postprocess per image at shape (1, 3, 384, 640)\n",
            "\n",
            "0: 384x640 (no detections), 37.3ms\n",
            "Speed: 2.0ms preprocess, 37.3ms inference, 1.7ms postprocess per image at shape (1, 3, 384, 640)\n",
            "\n",
            "0: 384x640 (no detections), 31.0ms\n",
            "Speed: 2.2ms preprocess, 31.0ms inference, 1.6ms postprocess per image at shape (1, 3, 384, 640)\n",
            "\n",
            "0: 384x640 (no detections), 32.2ms\n",
            "Speed: 2.1ms preprocess, 32.2ms inference, 4.8ms postprocess per image at shape (1, 3, 384, 640)\n",
            "\n",
            "0: 384x640 (no detections), 33.0ms\n",
            "Speed: 2.8ms preprocess, 33.0ms inference, 1.8ms postprocess per image at shape (1, 3, 384, 640)\n",
            "\n",
            "0: 384x640 (no detections), 31.9ms\n",
            "Speed: 2.2ms preprocess, 31.9ms inference, 1.6ms postprocess per image at shape (1, 3, 384, 640)\n",
            "\n",
            "0: 384x640 (no detections), 33.4ms\n",
            "Speed: 2.5ms preprocess, 33.4ms inference, 1.6ms postprocess per image at shape (1, 3, 384, 640)\n",
            "\n",
            "0: 384x640 (no detections), 33.4ms\n",
            "Speed: 2.1ms preprocess, 33.4ms inference, 1.7ms postprocess per image at shape (1, 3, 384, 640)\n",
            "\n",
            "0: 384x640 1 football, 33.0ms\n",
            "Speed: 2.1ms preprocess, 33.0ms inference, 2.9ms postprocess per image at shape (1, 3, 384, 640)\n",
            "$$$$$$$$$$$$$$$$$$$  [[689.3064575195312, 200.14669799804688, 712.5599975585938, 244.11569213867188]]\n",
            "\n",
            "0: 384x640 1 football, 38.2ms\n",
            "Speed: 2.2ms preprocess, 38.2ms inference, 2.5ms postprocess per image at shape (1, 3, 384, 640)\n",
            "$$$$$$$$$$$$$$$$$$$  [[690.7894287109375, 200.73635864257812, 713.079345703125, 243.49832153320312]]\n",
            "\n",
            "0: 384x640 1 football, 31.3ms\n",
            "Speed: 2.1ms preprocess, 31.3ms inference, 2.7ms postprocess per image at shape (1, 3, 384, 640)\n",
            "$$$$$$$$$$$$$$$$$$$  [[688.6226196289062, 198.33566284179688, 714.1964721679688, 245.26358032226562]]\n",
            "\n",
            "0: 384x640 (no detections), 35.7ms\n",
            "Speed: 6.8ms preprocess, 35.7ms inference, 1.7ms postprocess per image at shape (1, 3, 384, 640)\n",
            "\n",
            "0: 384x640 (no detections), 32.3ms\n",
            "Speed: 1.9ms preprocess, 32.3ms inference, 1.9ms postprocess per image at shape (1, 3, 384, 640)\n",
            "\n",
            "0: 384x640 (no detections), 32.9ms\n",
            "Speed: 2.3ms preprocess, 32.9ms inference, 3.1ms postprocess per image at shape (1, 3, 384, 640)\n",
            "\n",
            "0: 384x640 (no detections), 32.5ms\n",
            "Speed: 2.7ms preprocess, 32.5ms inference, 1.8ms postprocess per image at shape (1, 3, 384, 640)\n",
            "\n",
            "0: 384x640 (no detections), 32.5ms\n",
            "Speed: 2.2ms preprocess, 32.5ms inference, 7.0ms postprocess per image at shape (1, 3, 384, 640)\n",
            "\n",
            "0: 384x640 (no detections), 35.0ms\n",
            "Speed: 2.1ms preprocess, 35.0ms inference, 2.1ms postprocess per image at shape (1, 3, 384, 640)\n",
            "\n",
            "0: 384x640 (no detections), 30.4ms\n",
            "Speed: 5.2ms preprocess, 30.4ms inference, 1.9ms postprocess per image at shape (1, 3, 384, 640)\n",
            "\n",
            "0: 384x640 (no detections), 34.8ms\n",
            "Speed: 1.9ms preprocess, 34.8ms inference, 1.7ms postprocess per image at shape (1, 3, 384, 640)\n",
            "\n",
            "0: 384x640 (no detections), 34.2ms\n",
            "Speed: 2.1ms preprocess, 34.2ms inference, 2.0ms postprocess per image at shape (1, 3, 384, 640)\n",
            "\n",
            "0: 384x640 (no detections), 32.6ms\n",
            "Speed: 3.0ms preprocess, 32.6ms inference, 2.2ms postprocess per image at shape (1, 3, 384, 640)\n",
            "\n",
            "0: 384x640 (no detections), 35.2ms\n",
            "Speed: 2.1ms preprocess, 35.2ms inference, 1.7ms postprocess per image at shape (1, 3, 384, 640)\n",
            "\n",
            "0: 384x640 (no detections), 33.7ms\n",
            "Speed: 1.8ms preprocess, 33.7ms inference, 1.9ms postprocess per image at shape (1, 3, 384, 640)\n",
            "\n",
            "0: 384x640 (no detections), 39.6ms\n",
            "Speed: 2.1ms preprocess, 39.6ms inference, 1.8ms postprocess per image at shape (1, 3, 384, 640)\n",
            "\n",
            "0: 384x640 (no detections), 37.0ms\n",
            "Speed: 2.3ms preprocess, 37.0ms inference, 1.8ms postprocess per image at shape (1, 3, 384, 640)\n",
            "\n",
            "0: 384x640 (no detections), 31.6ms\n",
            "Speed: 2.1ms preprocess, 31.6ms inference, 1.8ms postprocess per image at shape (1, 3, 384, 640)\n",
            "\n",
            "0: 384x640 (no detections), 33.5ms\n",
            "Speed: 2.2ms preprocess, 33.5ms inference, 1.7ms postprocess per image at shape (1, 3, 384, 640)\n",
            "\n",
            "0: 384x640 1 football, 35.2ms\n",
            "Speed: 2.1ms preprocess, 35.2ms inference, 2.7ms postprocess per image at shape (1, 3, 384, 640)\n",
            "$$$$$$$$$$$$$$$$$$$  [[502.3187255859375, 591.308349609375, 517.310791015625, 623.6915283203125]]\n",
            "\n",
            "0: 384x640 (no detections), 32.6ms\n",
            "Speed: 2.2ms preprocess, 32.6ms inference, 1.7ms postprocess per image at shape (1, 3, 384, 640)\n",
            "\n",
            "0: 384x640 (no detections), 38.5ms\n",
            "Speed: 2.1ms preprocess, 38.5ms inference, 1.8ms postprocess per image at shape (1, 3, 384, 640)\n",
            "\n",
            "0: 384x640 (no detections), 32.4ms\n",
            "Speed: 2.2ms preprocess, 32.4ms inference, 1.9ms postprocess per image at shape (1, 3, 384, 640)\n",
            "\n",
            "0: 384x640 (no detections), 31.8ms\n",
            "Speed: 2.1ms preprocess, 31.8ms inference, 1.9ms postprocess per image at shape (1, 3, 384, 640)\n",
            "\n",
            "0: 384x640 1 football, 35.5ms\n",
            "Speed: 1.9ms preprocess, 35.5ms inference, 3.5ms postprocess per image at shape (1, 3, 384, 640)\n",
            "$$$$$$$$$$$$$$$$$$$  [[501.2593994140625, 638.5311279296875, 516.327392578125, 672.6990966796875]]\n",
            "\n",
            "0: 384x640 1 football, 31.2ms\n",
            "Speed: 2.0ms preprocess, 31.2ms inference, 2.7ms postprocess per image at shape (1, 3, 384, 640)\n",
            "$$$$$$$$$$$$$$$$$$$  [[434.5134582519531, 591.1787109375, 452.8708190917969, 635.450439453125]]\n",
            "\n",
            "0: 384x640 (no detections), 33.8ms\n",
            "Speed: 2.1ms preprocess, 33.8ms inference, 2.0ms postprocess per image at shape (1, 3, 384, 640)\n",
            "\n",
            "0: 384x640 (no detections), 39.2ms\n",
            "Speed: 2.2ms preprocess, 39.2ms inference, 1.9ms postprocess per image at shape (1, 3, 384, 640)\n",
            "\n",
            "0: 384x640 (no detections), 32.3ms\n",
            "Speed: 2.5ms preprocess, 32.3ms inference, 1.8ms postprocess per image at shape (1, 3, 384, 640)\n",
            "\n",
            "0: 384x640 1 football, 33.0ms\n",
            "Speed: 2.1ms preprocess, 33.0ms inference, 2.8ms postprocess per image at shape (1, 3, 384, 640)\n",
            "$$$$$$$$$$$$$$$$$$$  [[1026.09326171875, 676.946533203125, 1043.74560546875, 720.0]]\n",
            "\n",
            "0: 384x640 (no detections), 33.1ms\n",
            "Speed: 2.3ms preprocess, 33.1ms inference, 1.8ms postprocess per image at shape (1, 3, 384, 640)\n",
            "\n",
            "0: 384x640 (no detections), 35.4ms\n",
            "Speed: 2.2ms preprocess, 35.4ms inference, 1.6ms postprocess per image at shape (1, 3, 384, 640)\n",
            "\n",
            "0: 384x640 1 football, 33.4ms\n",
            "Speed: 2.7ms preprocess, 33.4ms inference, 2.7ms postprocess per image at shape (1, 3, 384, 640)\n",
            "$$$$$$$$$$$$$$$$$$$  [[444.36004638671875, 648.8184814453125, 458.43450927734375, 679.7550048828125]]\n",
            "\n",
            "0: 384x640 (no detections), 34.6ms\n",
            "Speed: 2.1ms preprocess, 34.6ms inference, 1.7ms postprocess per image at shape (1, 3, 384, 640)\n",
            "\n",
            "0: 384x640 1 football, 32.9ms\n",
            "Speed: 2.2ms preprocess, 32.9ms inference, 3.2ms postprocess per image at shape (1, 3, 384, 640)\n",
            "$$$$$$$$$$$$$$$$$$$  [[373.6680908203125, 608.0863037109375, 388.0185546875, 640.6080322265625]]\n",
            "\n",
            "0: 384x640 (no detections), 33.6ms\n",
            "Speed: 2.2ms preprocess, 33.6ms inference, 2.4ms postprocess per image at shape (1, 3, 384, 640)\n",
            "\n",
            "0: 384x640 (no detections), 31.8ms\n",
            "Speed: 3.7ms preprocess, 31.8ms inference, 2.1ms postprocess per image at shape (1, 3, 384, 640)\n",
            "\n",
            "0: 384x640 (no detections), 33.7ms\n",
            "Speed: 3.9ms preprocess, 33.7ms inference, 2.3ms postprocess per image at shape (1, 3, 384, 640)\n",
            "\n",
            "0: 384x640 (no detections), 33.2ms\n",
            "Speed: 2.0ms preprocess, 33.2ms inference, 2.4ms postprocess per image at shape (1, 3, 384, 640)\n",
            "\n",
            "0: 384x640 (no detections), 33.7ms\n",
            "Speed: 3.7ms preprocess, 33.7ms inference, 1.7ms postprocess per image at shape (1, 3, 384, 640)\n",
            "\n",
            "0: 384x640 (no detections), 33.8ms\n",
            "Speed: 2.2ms preprocess, 33.8ms inference, 2.5ms postprocess per image at shape (1, 3, 384, 640)\n",
            "\n",
            "0: 384x640 (no detections), 33.3ms\n",
            "Speed: 2.2ms preprocess, 33.3ms inference, 1.7ms postprocess per image at shape (1, 3, 384, 640)\n",
            "\n",
            "0: 384x640 1 football, 31.3ms\n",
            "Speed: 2.5ms preprocess, 31.3ms inference, 3.4ms postprocess per image at shape (1, 3, 384, 640)\n",
            "$$$$$$$$$$$$$$$$$$$  [[340.5465087890625, 625.6591796875, 354.4390869140625, 658.9827880859375]]\n",
            "\n",
            "0: 384x640 (no detections), 32.6ms\n",
            "Speed: 2.1ms preprocess, 32.6ms inference, 1.4ms postprocess per image at shape (1, 3, 384, 640)\n",
            "\n",
            "0: 384x640 (no detections), 34.5ms\n",
            "Speed: 4.5ms preprocess, 34.5ms inference, 1.3ms postprocess per image at shape (1, 3, 384, 640)\n",
            "\n",
            "0: 384x640 (no detections), 32.5ms\n",
            "Speed: 1.9ms preprocess, 32.5ms inference, 1.7ms postprocess per image at shape (1, 3, 384, 640)\n",
            "\n",
            "0: 384x640 (no detections), 33.8ms\n",
            "Speed: 2.1ms preprocess, 33.8ms inference, 1.8ms postprocess per image at shape (1, 3, 384, 640)\n",
            "\n",
            "0: 384x640 (no detections), 34.0ms\n",
            "Speed: 2.6ms preprocess, 34.0ms inference, 1.4ms postprocess per image at shape (1, 3, 384, 640)\n",
            "\n",
            "0: 384x640 (no detections), 34.5ms\n",
            "Speed: 2.0ms preprocess, 34.5ms inference, 1.8ms postprocess per image at shape (1, 3, 384, 640)\n",
            "\n",
            "0: 384x640 (no detections), 34.2ms\n",
            "Speed: 2.0ms preprocess, 34.2ms inference, 1.9ms postprocess per image at shape (1, 3, 384, 640)\n",
            "\n",
            "0: 384x640 (no detections), 34.6ms\n",
            "Speed: 2.8ms preprocess, 34.6ms inference, 1.6ms postprocess per image at shape (1, 3, 384, 640)\n",
            "\n",
            "0: 384x640 (no detections), 35.0ms\n",
            "Speed: 2.2ms preprocess, 35.0ms inference, 1.4ms postprocess per image at shape (1, 3, 384, 640)\n",
            "\n",
            "0: 384x640 (no detections), 33.0ms\n",
            "Speed: 2.4ms preprocess, 33.0ms inference, 1.3ms postprocess per image at shape (1, 3, 384, 640)\n",
            "\n",
            "0: 384x640 (no detections), 32.6ms\n",
            "Speed: 2.2ms preprocess, 32.6ms inference, 1.4ms postprocess per image at shape (1, 3, 384, 640)\n",
            "\n",
            "0: 384x640 1 football, 32.2ms\n",
            "Speed: 2.2ms preprocess, 32.2ms inference, 2.0ms postprocess per image at shape (1, 3, 384, 640)\n",
            "$$$$$$$$$$$$$$$$$$$  [[691.7322998046875, 654.2353515625, 705.648681640625, 689.3966064453125]]\n",
            "\n",
            "0: 384x640 (no detections), 33.4ms\n",
            "Speed: 3.3ms preprocess, 33.4ms inference, 1.6ms postprocess per image at shape (1, 3, 384, 640)\n",
            "\n",
            "0: 384x640 (no detections), 34.8ms\n",
            "Speed: 2.0ms preprocess, 34.8ms inference, 1.9ms postprocess per image at shape (1, 3, 384, 640)\n",
            "\n",
            "0: 384x640 (no detections), 34.5ms\n",
            "Speed: 2.4ms preprocess, 34.5ms inference, 3.2ms postprocess per image at shape (1, 3, 384, 640)\n",
            "\n",
            "0: 384x640 (no detections), 33.7ms\n",
            "Speed: 2.0ms preprocess, 33.7ms inference, 1.4ms postprocess per image at shape (1, 3, 384, 640)\n",
            "\n",
            "0: 384x640 (no detections), 34.2ms\n",
            "Speed: 2.0ms preprocess, 34.2ms inference, 1.4ms postprocess per image at shape (1, 3, 384, 640)\n",
            "\n",
            "0: 384x640 (no detections), 33.9ms\n",
            "Speed: 2.2ms preprocess, 33.9ms inference, 1.3ms postprocess per image at shape (1, 3, 384, 640)\n",
            "\n",
            "0: 384x640 (no detections), 33.8ms\n",
            "Speed: 3.6ms preprocess, 33.8ms inference, 1.3ms postprocess per image at shape (1, 3, 384, 640)\n",
            "\n",
            "0: 384x640 (no detections), 32.7ms\n",
            "Speed: 2.3ms preprocess, 32.7ms inference, 1.6ms postprocess per image at shape (1, 3, 384, 640)\n",
            "\n",
            "0: 384x640 (no detections), 35.5ms\n",
            "Speed: 2.0ms preprocess, 35.5ms inference, 1.4ms postprocess per image at shape (1, 3, 384, 640)\n",
            "\n",
            "0: 384x640 (no detections), 33.4ms\n",
            "Speed: 2.2ms preprocess, 33.4ms inference, 1.5ms postprocess per image at shape (1, 3, 384, 640)\n",
            "\n",
            "0: 384x640 (no detections), 34.7ms\n",
            "Speed: 2.1ms preprocess, 34.7ms inference, 2.0ms postprocess per image at shape (1, 3, 384, 640)\n",
            "\n",
            "0: 384x640 (no detections), 33.5ms\n",
            "Speed: 2.5ms preprocess, 33.5ms inference, 1.4ms postprocess per image at shape (1, 3, 384, 640)\n",
            "\n",
            "0: 384x640 (no detections), 34.7ms\n",
            "Speed: 2.0ms preprocess, 34.7ms inference, 1.5ms postprocess per image at shape (1, 3, 384, 640)\n",
            "\n",
            "0: 384x640 (no detections), 33.0ms\n",
            "Speed: 2.2ms preprocess, 33.0ms inference, 1.4ms postprocess per image at shape (1, 3, 384, 640)\n",
            "\n",
            "0: 384x640 (no detections), 32.1ms\n",
            "Speed: 2.1ms preprocess, 32.1ms inference, 1.5ms postprocess per image at shape (1, 3, 384, 640)\n",
            "\n",
            "0: 384x640 (no detections), 35.5ms\n",
            "Speed: 2.3ms preprocess, 35.5ms inference, 1.5ms postprocess per image at shape (1, 3, 384, 640)\n",
            "\n",
            "0: 384x640 (no detections), 33.9ms\n",
            "Speed: 2.1ms preprocess, 33.9ms inference, 1.3ms postprocess per image at shape (1, 3, 384, 640)\n",
            "\n",
            "0: 384x640 (no detections), 33.9ms\n",
            "Speed: 2.6ms preprocess, 33.9ms inference, 1.4ms postprocess per image at shape (1, 3, 384, 640)\n",
            "\n",
            "0: 384x640 (no detections), 33.7ms\n",
            "Speed: 2.3ms preprocess, 33.7ms inference, 3.7ms postprocess per image at shape (1, 3, 384, 640)\n",
            "\n",
            "0: 384x640 (no detections), 33.6ms\n",
            "Speed: 2.1ms preprocess, 33.6ms inference, 1.4ms postprocess per image at shape (1, 3, 384, 640)\n",
            "\n",
            "0: 384x640 (no detections), 33.0ms\n",
            "Speed: 2.3ms preprocess, 33.0ms inference, 1.3ms postprocess per image at shape (1, 3, 384, 640)\n",
            "\n",
            "0: 384x640 (no detections), 33.0ms\n",
            "Speed: 2.0ms preprocess, 33.0ms inference, 1.4ms postprocess per image at shape (1, 3, 384, 640)\n",
            "\n",
            "0: 384x640 1 football, 33.7ms\n",
            "Speed: 2.2ms preprocess, 33.7ms inference, 2.2ms postprocess per image at shape (1, 3, 384, 640)\n",
            "$$$$$$$$$$$$$$$$$$$  [[1120.41455078125, 336.1053466796875, 1158.58203125, 390.86083984375]]\n",
            "\n",
            "0: 384x640 (no detections), 33.8ms\n",
            "Speed: 2.0ms preprocess, 33.8ms inference, 1.3ms postprocess per image at shape (1, 3, 384, 640)\n",
            "\n",
            "0: 384x640 1 football, 35.8ms\n",
            "Speed: 2.1ms preprocess, 35.8ms inference, 2.3ms postprocess per image at shape (1, 3, 384, 640)\n",
            "$$$$$$$$$$$$$$$$$$$  [[1099.5255126953125, 344.9398193359375, 1133.4781494140625, 399.1522216796875]]\n",
            "\n",
            "0: 384x640 (no detections), 33.9ms\n",
            "Speed: 2.3ms preprocess, 33.9ms inference, 1.4ms postprocess per image at shape (1, 3, 384, 640)\n",
            "\n",
            "0: 384x640 (no detections), 34.4ms\n",
            "Speed: 2.1ms preprocess, 34.4ms inference, 1.4ms postprocess per image at shape (1, 3, 384, 640)\n",
            "\n",
            "0: 384x640 (no detections), 32.8ms\n",
            "Speed: 2.0ms preprocess, 32.8ms inference, 1.3ms postprocess per image at shape (1, 3, 384, 640)\n",
            "\n",
            "0: 384x640 (no detections), 32.7ms\n",
            "Speed: 2.0ms preprocess, 32.7ms inference, 2.0ms postprocess per image at shape (1, 3, 384, 640)\n",
            "\n",
            "0: 384x640 (no detections), 35.4ms\n",
            "Speed: 2.1ms preprocess, 35.4ms inference, 1.3ms postprocess per image at shape (1, 3, 384, 640)\n",
            "\n",
            "0: 384x640 (no detections), 33.9ms\n",
            "Speed: 1.9ms preprocess, 33.9ms inference, 1.5ms postprocess per image at shape (1, 3, 384, 640)\n",
            "\n",
            "0: 384x640 (no detections), 34.4ms\n",
            "Speed: 6.2ms preprocess, 34.4ms inference, 1.3ms postprocess per image at shape (1, 3, 384, 640)\n",
            "\n",
            "0: 384x640 (no detections), 33.7ms\n",
            "Speed: 2.5ms preprocess, 33.7ms inference, 1.3ms postprocess per image at shape (1, 3, 384, 640)\n",
            "\n",
            "0: 384x640 (no detections), 32.5ms\n",
            "Speed: 4.1ms preprocess, 32.5ms inference, 1.3ms postprocess per image at shape (1, 3, 384, 640)\n",
            "\n",
            "0: 384x640 (no detections), 33.7ms\n",
            "Speed: 1.9ms preprocess, 33.7ms inference, 3.2ms postprocess per image at shape (1, 3, 384, 640)\n",
            "\n",
            "0: 384x640 (no detections), 32.3ms\n",
            "Speed: 3.2ms preprocess, 32.3ms inference, 1.5ms postprocess per image at shape (1, 3, 384, 640)\n",
            "\n",
            "0: 384x640 (no detections), 35.1ms\n",
            "Speed: 2.7ms preprocess, 35.1ms inference, 1.4ms postprocess per image at shape (1, 3, 384, 640)\n",
            "\n",
            "0: 384x640 (no detections), 34.1ms\n",
            "Speed: 2.2ms preprocess, 34.1ms inference, 1.3ms postprocess per image at shape (1, 3, 384, 640)\n",
            "\n",
            "0: 384x640 (no detections), 35.0ms\n",
            "Speed: 2.0ms preprocess, 35.0ms inference, 1.5ms postprocess per image at shape (1, 3, 384, 640)\n",
            "\n",
            "0: 384x640 (no detections), 32.6ms\n",
            "Speed: 2.8ms preprocess, 32.6ms inference, 1.4ms postprocess per image at shape (1, 3, 384, 640)\n",
            "\n",
            "0: 384x640 (no detections), 32.5ms\n",
            "Speed: 2.7ms preprocess, 32.5ms inference, 1.4ms postprocess per image at shape (1, 3, 384, 640)\n",
            "\n",
            "0: 384x640 (no detections), 31.9ms\n",
            "Speed: 3.1ms preprocess, 31.9ms inference, 1.4ms postprocess per image at shape (1, 3, 384, 640)\n",
            "\n",
            "0: 384x640 (no detections), 32.2ms\n",
            "Speed: 2.3ms preprocess, 32.2ms inference, 1.3ms postprocess per image at shape (1, 3, 384, 640)\n",
            "\n",
            "0: 384x640 (no detections), 33.7ms\n",
            "Speed: 3.2ms preprocess, 33.7ms inference, 1.5ms postprocess per image at shape (1, 3, 384, 640)\n",
            "\n",
            "0: 384x640 (no detections), 34.5ms\n",
            "Speed: 2.1ms preprocess, 34.5ms inference, 1.3ms postprocess per image at shape (1, 3, 384, 640)\n",
            "\n",
            "0: 384x640 (no detections), 34.3ms\n",
            "Speed: 1.9ms preprocess, 34.3ms inference, 2.1ms postprocess per image at shape (1, 3, 384, 640)\n",
            "\n",
            "0: 384x640 (no detections), 35.5ms\n",
            "Speed: 6.6ms preprocess, 35.5ms inference, 3.1ms postprocess per image at shape (1, 3, 384, 640)\n",
            "\n",
            "0: 384x640 (no detections), 32.6ms\n",
            "Speed: 2.0ms preprocess, 32.6ms inference, 1.3ms postprocess per image at shape (1, 3, 384, 640)\n",
            "\n",
            "0: 384x640 (no detections), 33.0ms\n",
            "Speed: 2.1ms preprocess, 33.0ms inference, 1.3ms postprocess per image at shape (1, 3, 384, 640)\n",
            "\n",
            "0: 384x640 (no detections), 33.8ms\n",
            "Speed: 2.9ms preprocess, 33.8ms inference, 1.4ms postprocess per image at shape (1, 3, 384, 640)\n",
            "\n",
            "0: 384x640 (no detections), 33.9ms\n",
            "Speed: 2.2ms preprocess, 33.9ms inference, 2.0ms postprocess per image at shape (1, 3, 384, 640)\n",
            "\n",
            "0: 384x640 (no detections), 32.8ms\n",
            "Speed: 3.4ms preprocess, 32.8ms inference, 1.4ms postprocess per image at shape (1, 3, 384, 640)\n",
            "\n",
            "0: 384x640 (no detections), 32.8ms\n",
            "Speed: 2.3ms preprocess, 32.8ms inference, 1.3ms postprocess per image at shape (1, 3, 384, 640)\n",
            "\n",
            "0: 384x640 (no detections), 34.6ms\n",
            "Speed: 2.2ms preprocess, 34.6ms inference, 1.5ms postprocess per image at shape (1, 3, 384, 640)\n",
            "\n",
            "0: 384x640 (no detections), 34.5ms\n",
            "Speed: 2.5ms preprocess, 34.5ms inference, 1.9ms postprocess per image at shape (1, 3, 384, 640)\n",
            "\n",
            "0: 384x640 (no detections), 35.4ms\n",
            "Speed: 2.1ms preprocess, 35.4ms inference, 1.6ms postprocess per image at shape (1, 3, 384, 640)\n",
            "\n",
            "0: 384x640 (no detections), 32.4ms\n",
            "Speed: 2.1ms preprocess, 32.4ms inference, 1.3ms postprocess per image at shape (1, 3, 384, 640)\n",
            "\n",
            "0: 384x640 (no detections), 33.8ms\n",
            "Speed: 2.1ms preprocess, 33.8ms inference, 1.4ms postprocess per image at shape (1, 3, 384, 640)\n",
            "\n",
            "0: 384x640 (no detections), 34.9ms\n",
            "Speed: 2.2ms preprocess, 34.9ms inference, 1.4ms postprocess per image at shape (1, 3, 384, 640)\n",
            "\n",
            "0: 384x640 (no detections), 34.8ms\n",
            "Speed: 2.0ms preprocess, 34.8ms inference, 1.4ms postprocess per image at shape (1, 3, 384, 640)\n",
            "\n",
            "0: 384x640 (no detections), 34.5ms\n",
            "Speed: 2.1ms preprocess, 34.5ms inference, 1.6ms postprocess per image at shape (1, 3, 384, 640)\n",
            "\n",
            "0: 384x640 (no detections), 33.5ms\n",
            "Speed: 2.0ms preprocess, 33.5ms inference, 1.8ms postprocess per image at shape (1, 3, 384, 640)\n",
            "\n",
            "0: 384x640 1 football, 34.5ms\n",
            "Speed: 2.0ms preprocess, 34.5ms inference, 2.2ms postprocess per image at shape (1, 3, 384, 640)\n",
            "$$$$$$$$$$$$$$$$$$$  [[540.3707275390625, 52.00384521484375, 558.4307861328125, 91.32406616210938]]\n",
            "\n",
            "0: 384x640 1 football, 34.7ms\n",
            "Speed: 2.2ms preprocess, 34.7ms inference, 2.1ms postprocess per image at shape (1, 3, 384, 640)\n",
            "$$$$$$$$$$$$$$$$$$$  [[537.1303100585938, 50.25853729248047, 557.4732055664062, 92.20308685302734]]\n",
            "\n",
            "0: 384x640 (no detections), 34.2ms\n",
            "Speed: 2.2ms preprocess, 34.2ms inference, 2.5ms postprocess per image at shape (1, 3, 384, 640)\n",
            "\n",
            "0: 384x640 (no detections), 33.4ms\n",
            "Speed: 4.0ms preprocess, 33.4ms inference, 1.3ms postprocess per image at shape (1, 3, 384, 640)\n",
            "\n",
            "0: 384x640 (no detections), 34.9ms\n",
            "Speed: 2.0ms preprocess, 34.9ms inference, 1.5ms postprocess per image at shape (1, 3, 384, 640)\n",
            "\n",
            "0: 384x640 (no detections), 34.6ms\n",
            "Speed: 2.1ms preprocess, 34.6ms inference, 1.7ms postprocess per image at shape (1, 3, 384, 640)\n",
            "\n",
            "0: 384x640 1 football, 34.2ms\n",
            "Speed: 2.8ms preprocess, 34.2ms inference, 2.3ms postprocess per image at shape (1, 3, 384, 640)\n",
            "$$$$$$$$$$$$$$$$$$$  [[532.8511962890625, 47.35870361328125, 550.2825927734375, 85.56573486328125]]\n",
            "\n",
            "0: 384x640 (no detections), 33.2ms\n",
            "Speed: 2.4ms preprocess, 33.2ms inference, 1.4ms postprocess per image at shape (1, 3, 384, 640)\n",
            "\n",
            "0: 384x640 1 football, 34.4ms\n",
            "Speed: 5.2ms preprocess, 34.4ms inference, 2.0ms postprocess per image at shape (1, 3, 384, 640)\n",
            "$$$$$$$$$$$$$$$$$$$  [[523.7984008789062, 44.951622009277344, 541.8082885742188, 81.3365249633789]]\n",
            "\n",
            "0: 384x640 (no detections), 33.5ms\n",
            "Speed: 2.1ms preprocess, 33.5ms inference, 1.3ms postprocess per image at shape (1, 3, 384, 640)\n",
            "\n",
            "0: 384x640 1 football, 33.3ms\n",
            "Speed: 2.2ms preprocess, 33.3ms inference, 2.4ms postprocess per image at shape (1, 3, 384, 640)\n",
            "$$$$$$$$$$$$$$$$$$$  [[514.3655395507812, 37.10321044921875, 532.3229370117188, 75.26701354980469]]\n",
            "\n",
            "0: 384x640 1 football, 34.2ms\n",
            "Speed: 2.8ms preprocess, 34.2ms inference, 2.2ms postprocess per image at shape (1, 3, 384, 640)\n",
            "$$$$$$$$$$$$$$$$$$$  [[506.7734375, 32.959800720214844, 527.346435546875, 73.53519439697266]]\n",
            "\n",
            "0: 384x640 1 football, 34.0ms\n",
            "Speed: 2.1ms preprocess, 34.0ms inference, 2.1ms postprocess per image at shape (1, 3, 384, 640)\n",
            "$$$$$$$$$$$$$$$$$$$  [[1075.770751953125, 483.14697265625, 1091.41796875, 520.0008544921875]]\n",
            "\n",
            "0: 384x640 1 football, 33.0ms\n",
            "Speed: 2.0ms preprocess, 33.0ms inference, 2.1ms postprocess per image at shape (1, 3, 384, 640)\n",
            "$$$$$$$$$$$$$$$$$$$  [[501.00811767578125, 30.918167114257812, 516.4655151367188, 65.33958435058594]]\n",
            "\n",
            "0: 384x640 1 football, 32.3ms\n",
            "Speed: 7.4ms preprocess, 32.3ms inference, 2.1ms postprocess per image at shape (1, 3, 384, 640)\n",
            "$$$$$$$$$$$$$$$$$$$  [[494.275146484375, 28.331268310546875, 514.084716796875, 67.17097473144531]]\n",
            "\n",
            "0: 384x640 1 football, 32.5ms\n",
            "Speed: 4.2ms preprocess, 32.5ms inference, 2.2ms postprocess per image at shape (1, 3, 384, 640)\n",
            "$$$$$$$$$$$$$$$$$$$  [[491.2168273925781, 26.716873168945312, 509.9438171386719, 64.55950927734375]]\n",
            "\n",
            "0: 384x640 (no detections), 32.8ms\n",
            "Speed: 5.2ms preprocess, 32.8ms inference, 1.4ms postprocess per image at shape (1, 3, 384, 640)\n",
            "\n",
            "0: 384x640 1 football, 35.1ms\n",
            "Speed: 2.2ms preprocess, 35.1ms inference, 2.3ms postprocess per image at shape (1, 3, 384, 640)\n",
            "$$$$$$$$$$$$$$$$$$$  [[485.201171875, 21.45063018798828, 504.7471923828125, 60.323463439941406]]\n",
            "\n",
            "0: 384x640 1 football, 32.8ms\n",
            "Speed: 2.2ms preprocess, 32.8ms inference, 2.1ms postprocess per image at shape (1, 3, 384, 640)\n",
            "$$$$$$$$$$$$$$$$$$$  [[483.6334228515625, 19.21112060546875, 501.969482421875, 58.89532470703125]]\n",
            "\n",
            "0: 384x640 1 football, 34.2ms\n",
            "Speed: 3.3ms preprocess, 34.2ms inference, 2.4ms postprocess per image at shape (1, 3, 384, 640)\n",
            "$$$$$$$$$$$$$$$$$$$  [[480.55804443359375, 19.076614379882812, 499.34954833984375, 59.647491455078125]]\n",
            "\n",
            "0: 384x640 1 football, 32.8ms\n",
            "Speed: 1.9ms preprocess, 32.8ms inference, 2.9ms postprocess per image at shape (1, 3, 384, 640)\n",
            "$$$$$$$$$$$$$$$$$$$  [[475.25091552734375, 17.892555236816406, 495.291015625, 58.80414581298828]]\n",
            "\n",
            "0: 384x640 (no detections), 32.5ms\n",
            "Speed: 2.3ms preprocess, 32.5ms inference, 1.3ms postprocess per image at shape (1, 3, 384, 640)\n",
            "\n",
            "0: 384x640 1 football, 32.8ms\n",
            "Speed: 2.1ms preprocess, 32.8ms inference, 2.4ms postprocess per image at shape (1, 3, 384, 640)\n",
            "$$$$$$$$$$$$$$$$$$$  [[468.8952331542969, 17.192298889160156, 488.1296081542969, 56.908424377441406]]\n",
            "\n",
            "0: 384x640 (no detections), 31.4ms\n",
            "Speed: 2.5ms preprocess, 31.4ms inference, 1.3ms postprocess per image at shape (1, 3, 384, 640)\n",
            "\n",
            "0: 384x640 (no detections), 32.4ms\n",
            "Speed: 2.5ms preprocess, 32.4ms inference, 1.5ms postprocess per image at shape (1, 3, 384, 640)\n",
            "\n",
            "0: 384x640 (no detections), 37.0ms\n",
            "Speed: 2.2ms preprocess, 37.0ms inference, 1.4ms postprocess per image at shape (1, 3, 384, 640)\n",
            "\n",
            "0: 384x640 (no detections), 36.8ms\n",
            "Speed: 2.1ms preprocess, 36.8ms inference, 1.4ms postprocess per image at shape (1, 3, 384, 640)\n",
            "\n",
            "0: 384x640 (no detections), 34.2ms\n",
            "Speed: 2.4ms preprocess, 34.2ms inference, 1.3ms postprocess per image at shape (1, 3, 384, 640)\n",
            "\n",
            "0: 384x640 (no detections), 34.5ms\n",
            "Speed: 2.0ms preprocess, 34.5ms inference, 1.5ms postprocess per image at shape (1, 3, 384, 640)\n",
            "\n",
            "0: 384x640 1 football, 32.6ms\n",
            "Speed: 2.8ms preprocess, 32.6ms inference, 3.2ms postprocess per image at shape (1, 3, 384, 640)\n",
            "$$$$$$$$$$$$$$$$$$$  [[435.65142822265625, 18.085296630859375, 455.64154052734375, 60.69807434082031]]\n",
            "\n",
            "0: 384x640 1 football, 33.3ms\n",
            "Speed: 5.0ms preprocess, 33.3ms inference, 2.1ms postprocess per image at shape (1, 3, 384, 640)\n",
            "$$$$$$$$$$$$$$$$$$$  [[429.2996520996094, 19.979904174804688, 448.5884704589844, 60.61247253417969]]\n",
            "\n",
            "0: 384x640 (no detections), 33.1ms\n",
            "Speed: 2.8ms preprocess, 33.1ms inference, 1.3ms postprocess per image at shape (1, 3, 384, 640)\n",
            "\n",
            "0: 384x640 (no detections), 34.3ms\n",
            "Speed: 2.6ms preprocess, 34.3ms inference, 1.6ms postprocess per image at shape (1, 3, 384, 640)\n",
            "\n",
            "0: 384x640 (no detections), 33.3ms\n",
            "Speed: 2.0ms preprocess, 33.3ms inference, 1.4ms postprocess per image at shape (1, 3, 384, 640)\n",
            "\n",
            "0: 384x640 1 football, 34.9ms\n",
            "Speed: 2.0ms preprocess, 34.9ms inference, 2.2ms postprocess per image at shape (1, 3, 384, 640)\n",
            "$$$$$$$$$$$$$$$$$$$  [[402.70562744140625, 28.860679626464844, 421.87969970703125, 68.03797149658203]]\n",
            "\n",
            "0: 384x640 (no detections), 33.3ms\n",
            "Speed: 2.6ms preprocess, 33.3ms inference, 1.3ms postprocess per image at shape (1, 3, 384, 640)\n",
            "\n",
            "0: 384x640 (no detections), 34.4ms\n",
            "Speed: 2.1ms preprocess, 34.4ms inference, 1.3ms postprocess per image at shape (1, 3, 384, 640)\n",
            "\n",
            "0: 384x640 2 footballs, 34.1ms\n",
            "Speed: 2.3ms preprocess, 34.1ms inference, 2.2ms postprocess per image at shape (1, 3, 384, 640)\n",
            "$$$$$$$$$$$$$$$$$$$  [[389.29937744140625, 39.03588104248047, 406.26251220703125, 75.47539520263672], [291.98175048828125, 109.68269348144531, 307.66571044921875, 145.74171447753906]]\n",
            "\n",
            "0: 384x640 1 football, 35.5ms\n",
            "Speed: 2.5ms preprocess, 35.5ms inference, 3.2ms postprocess per image at shape (1, 3, 384, 640)\n",
            "$$$$$$$$$$$$$$$$$$$  [[388.0110778808594, 40.69622802734375, 407.0459899902344, 81.31201171875]]\n",
            "\n",
            "0: 384x640 (no detections), 32.3ms\n",
            "Speed: 2.4ms preprocess, 32.3ms inference, 1.4ms postprocess per image at shape (1, 3, 384, 640)\n",
            "\n",
            "0: 384x640 1 football, 35.5ms\n",
            "Speed: 2.1ms preprocess, 35.5ms inference, 2.1ms postprocess per image at shape (1, 3, 384, 640)\n",
            "$$$$$$$$$$$$$$$$$$$  [[458.49822998046875, 132.27468872070312, 475.20953369140625, 167.84994506835938]]\n",
            "\n",
            "0: 384x640 (no detections), 32.3ms\n",
            "Speed: 2.2ms preprocess, 32.3ms inference, 1.4ms postprocess per image at shape (1, 3, 384, 640)\n",
            "\n",
            "0: 384x640 1 football, 32.3ms\n",
            "Speed: 2.2ms preprocess, 32.3ms inference, 2.3ms postprocess per image at shape (1, 3, 384, 640)\n",
            "$$$$$$$$$$$$$$$$$$$  [[956.0433349609375, 687.5828857421875, 971.8475341796875, 720.0]]\n",
            "\n",
            "0: 384x640 (no detections), 33.2ms\n",
            "Speed: 2.1ms preprocess, 33.2ms inference, 1.4ms postprocess per image at shape (1, 3, 384, 640)\n",
            "\n",
            "0: 384x640 (no detections), 33.8ms\n",
            "Speed: 2.2ms preprocess, 33.8ms inference, 1.3ms postprocess per image at shape (1, 3, 384, 640)\n",
            "\n",
            "0: 384x640 (no detections), 35.1ms\n",
            "Speed: 1.9ms preprocess, 35.1ms inference, 1.5ms postprocess per image at shape (1, 3, 384, 640)\n",
            "\n",
            "0: 384x640 (no detections), 32.0ms\n",
            "Speed: 2.2ms preprocess, 32.0ms inference, 1.5ms postprocess per image at shape (1, 3, 384, 640)\n",
            "\n",
            "0: 384x640 (no detections), 33.5ms\n",
            "Speed: 1.9ms preprocess, 33.5ms inference, 1.7ms postprocess per image at shape (1, 3, 384, 640)\n",
            "\n",
            "0: 384x640 1 football, 34.1ms\n",
            "Speed: 2.2ms preprocess, 34.1ms inference, 2.1ms postprocess per image at shape (1, 3, 384, 640)\n",
            "$$$$$$$$$$$$$$$$$$$  [[467.7385559082031, 77.69657897949219, 484.3961486816406, 114.91047668457031]]\n",
            "\n",
            "0: 384x640 1 football, 36.0ms\n",
            "Speed: 1.9ms preprocess, 36.0ms inference, 2.3ms postprocess per image at shape (1, 3, 384, 640)\n",
            "$$$$$$$$$$$$$$$$$$$  [[387.85308837890625, 145.8225555419922, 404.62432861328125, 186.6294708251953]]\n",
            "\n",
            "0: 384x640 1 football, 34.3ms\n",
            "Speed: 2.4ms preprocess, 34.3ms inference, 2.4ms postprocess per image at shape (1, 3, 384, 640)\n",
            "$$$$$$$$$$$$$$$$$$$  [[481.65142822265625, 62.83732604980469, 502.95733642578125, 111.38172912597656]]\n",
            "\n",
            "0: 384x640 (no detections), 34.4ms\n",
            "Speed: 2.1ms preprocess, 34.4ms inference, 1.3ms postprocess per image at shape (1, 3, 384, 640)\n",
            "\n",
            "0: 384x640 (no detections), 33.6ms\n",
            "Speed: 2.0ms preprocess, 33.6ms inference, 1.4ms postprocess per image at shape (1, 3, 384, 640)\n",
            "\n",
            "0: 384x640 (no detections), 34.6ms\n",
            "Speed: 4.8ms preprocess, 34.6ms inference, 1.4ms postprocess per image at shape (1, 3, 384, 640)\n",
            "\n",
            "0: 384x640 (no detections), 35.4ms\n",
            "Speed: 2.0ms preprocess, 35.4ms inference, 1.4ms postprocess per image at shape (1, 3, 384, 640)\n",
            "\n",
            "0: 384x640 (no detections), 34.2ms\n",
            "Speed: 2.1ms preprocess, 34.2ms inference, 1.4ms postprocess per image at shape (1, 3, 384, 640)\n",
            "\n",
            "0: 384x640 (no detections), 33.3ms\n",
            "Speed: 3.8ms preprocess, 33.3ms inference, 1.4ms postprocess per image at shape (1, 3, 384, 640)\n",
            "\n",
            "0: 384x640 1 football, 35.1ms\n",
            "Speed: 2.2ms preprocess, 35.1ms inference, 2.8ms postprocess per image at shape (1, 3, 384, 640)\n",
            "$$$$$$$$$$$$$$$$$$$  [[565.269775390625, 178.1868896484375, 591.9581298828125, 225.53872680664062]]\n",
            "\n",
            "0: 384x640 (no detections), 36.6ms\n",
            "Speed: 1.9ms preprocess, 36.6ms inference, 1.4ms postprocess per image at shape (1, 3, 384, 640)\n",
            "\n",
            "0: 384x640 (no detections), 34.9ms\n",
            "Speed: 2.1ms preprocess, 34.9ms inference, 1.4ms postprocess per image at shape (1, 3, 384, 640)\n",
            "\n",
            "0: 384x640 (no detections), 32.9ms\n",
            "Speed: 2.2ms preprocess, 32.9ms inference, 1.3ms postprocess per image at shape (1, 3, 384, 640)\n",
            "\n",
            "0: 384x640 (no detections), 32.7ms\n",
            "Speed: 4.1ms preprocess, 32.7ms inference, 1.3ms postprocess per image at shape (1, 3, 384, 640)\n",
            "\n",
            "0: 384x640 (no detections), 34.1ms\n",
            "Speed: 1.9ms preprocess, 34.1ms inference, 1.3ms postprocess per image at shape (1, 3, 384, 640)\n",
            "\n",
            "0: 384x640 (no detections), 34.7ms\n",
            "Speed: 2.4ms preprocess, 34.7ms inference, 1.6ms postprocess per image at shape (1, 3, 384, 640)\n",
            "\n",
            "0: 384x640 (no detections), 32.6ms\n",
            "Speed: 2.5ms preprocess, 32.6ms inference, 1.5ms postprocess per image at shape (1, 3, 384, 640)\n",
            "\n",
            "0: 384x640 (no detections), 32.3ms\n",
            "Speed: 3.0ms preprocess, 32.3ms inference, 1.7ms postprocess per image at shape (1, 3, 384, 640)\n",
            "\n",
            "0: 384x640 (no detections), 34.8ms\n",
            "Speed: 3.2ms preprocess, 34.8ms inference, 2.6ms postprocess per image at shape (1, 3, 384, 640)\n",
            "\n",
            "0: 384x640 (no detections), 32.7ms\n",
            "Speed: 2.0ms preprocess, 32.7ms inference, 1.6ms postprocess per image at shape (1, 3, 384, 640)\n",
            "\n",
            "0: 384x640 (no detections), 34.0ms\n",
            "Speed: 2.4ms preprocess, 34.0ms inference, 1.3ms postprocess per image at shape (1, 3, 384, 640)\n",
            "\n",
            "0: 384x640 (no detections), 34.9ms\n",
            "Speed: 2.6ms preprocess, 34.9ms inference, 1.4ms postprocess per image at shape (1, 3, 384, 640)\n",
            "\n",
            "0: 384x640 (no detections), 32.6ms\n",
            "Speed: 1.9ms preprocess, 32.6ms inference, 1.4ms postprocess per image at shape (1, 3, 384, 640)\n",
            "\n",
            "0: 384x640 (no detections), 33.7ms\n",
            "Speed: 2.1ms preprocess, 33.7ms inference, 1.5ms postprocess per image at shape (1, 3, 384, 640)\n",
            "\n",
            "0: 384x640 (no detections), 33.6ms\n",
            "Speed: 2.0ms preprocess, 33.6ms inference, 1.4ms postprocess per image at shape (1, 3, 384, 640)\n",
            "\n",
            "0: 384x640 (no detections), 36.0ms\n",
            "Speed: 2.1ms preprocess, 36.0ms inference, 1.4ms postprocess per image at shape (1, 3, 384, 640)\n",
            "\n",
            "0: 384x640 (no detections), 34.2ms\n",
            "Speed: 4.0ms preprocess, 34.2ms inference, 1.4ms postprocess per image at shape (1, 3, 384, 640)\n",
            "\n",
            "0: 384x640 (no detections), 33.5ms\n",
            "Speed: 3.7ms preprocess, 33.5ms inference, 1.3ms postprocess per image at shape (1, 3, 384, 640)\n",
            "\n",
            "0: 384x640 (no detections), 33.5ms\n",
            "Speed: 1.9ms preprocess, 33.5ms inference, 1.6ms postprocess per image at shape (1, 3, 384, 640)\n",
            "\n",
            "0: 384x640 (no detections), 35.5ms\n",
            "Speed: 2.2ms preprocess, 35.5ms inference, 1.5ms postprocess per image at shape (1, 3, 384, 640)\n",
            "\n",
            "0: 384x640 (no detections), 33.9ms\n",
            "Speed: 2.8ms preprocess, 33.9ms inference, 1.6ms postprocess per image at shape (1, 3, 384, 640)\n",
            "\n",
            "0: 384x640 (no detections), 35.2ms\n",
            "Speed: 2.0ms preprocess, 35.2ms inference, 1.3ms postprocess per image at shape (1, 3, 384, 640)\n",
            "\n",
            "0: 384x640 (no detections), 34.5ms\n",
            "Speed: 2.1ms preprocess, 34.5ms inference, 1.3ms postprocess per image at shape (1, 3, 384, 640)\n",
            "\n",
            "0: 384x640 (no detections), 34.2ms\n",
            "Speed: 2.2ms preprocess, 34.2ms inference, 1.4ms postprocess per image at shape (1, 3, 384, 640)\n",
            "\n",
            "0: 384x640 (no detections), 34.2ms\n",
            "Speed: 2.0ms preprocess, 34.2ms inference, 1.5ms postprocess per image at shape (1, 3, 384, 640)\n",
            "\n",
            "0: 384x640 (no detections), 33.6ms\n",
            "Speed: 2.2ms preprocess, 33.6ms inference, 1.5ms postprocess per image at shape (1, 3, 384, 640)\n",
            "\n",
            "0: 384x640 (no detections), 34.3ms\n",
            "Speed: 2.2ms preprocess, 34.3ms inference, 1.4ms postprocess per image at shape (1, 3, 384, 640)\n",
            "\n",
            "0: 384x640 (no detections), 34.8ms\n",
            "Speed: 2.1ms preprocess, 34.8ms inference, 2.5ms postprocess per image at shape (1, 3, 384, 640)\n",
            "\n",
            "0: 384x640 (no detections), 34.6ms\n",
            "Speed: 2.1ms preprocess, 34.6ms inference, 2.0ms postprocess per image at shape (1, 3, 384, 640)\n",
            "\n",
            "0: 384x640 (no detections), 33.1ms\n",
            "Speed: 2.1ms preprocess, 33.1ms inference, 1.5ms postprocess per image at shape (1, 3, 384, 640)\n",
            "\n",
            "0: 384x640 (no detections), 34.2ms\n",
            "Speed: 2.1ms preprocess, 34.2ms inference, 2.0ms postprocess per image at shape (1, 3, 384, 640)\n",
            "\n",
            "0: 384x640 (no detections), 34.7ms\n",
            "Speed: 2.1ms preprocess, 34.7ms inference, 1.9ms postprocess per image at shape (1, 3, 384, 640)\n",
            "\n",
            "0: 384x640 (no detections), 33.4ms\n",
            "Speed: 2.1ms preprocess, 33.4ms inference, 1.9ms postprocess per image at shape (1, 3, 384, 640)\n",
            "\n",
            "0: 384x640 (no detections), 33.2ms\n",
            "Speed: 2.1ms preprocess, 33.2ms inference, 2.1ms postprocess per image at shape (1, 3, 384, 640)\n",
            "\n",
            "0: 384x640 (no detections), 35.2ms\n",
            "Speed: 2.0ms preprocess, 35.2ms inference, 2.0ms postprocess per image at shape (1, 3, 384, 640)\n",
            "\n",
            "0: 384x640 (no detections), 34.1ms\n",
            "Speed: 2.0ms preprocess, 34.1ms inference, 1.9ms postprocess per image at shape (1, 3, 384, 640)\n",
            "\n",
            "0: 384x640 (no detections), 33.8ms\n",
            "Speed: 2.1ms preprocess, 33.8ms inference, 5.3ms postprocess per image at shape (1, 3, 384, 640)\n",
            "\n",
            "0: 384x640 (no detections), 33.2ms\n",
            "Speed: 2.1ms preprocess, 33.2ms inference, 2.0ms postprocess per image at shape (1, 3, 384, 640)\n",
            "\n",
            "0: 384x640 (no detections), 33.9ms\n",
            "Speed: 2.2ms preprocess, 33.9ms inference, 1.9ms postprocess per image at shape (1, 3, 384, 640)\n",
            "\n",
            "0: 384x640 (no detections), 33.8ms\n",
            "Speed: 2.1ms preprocess, 33.8ms inference, 1.6ms postprocess per image at shape (1, 3, 384, 640)\n",
            "\n",
            "0: 384x640 (no detections), 34.8ms\n",
            "Speed: 2.0ms preprocess, 34.8ms inference, 1.9ms postprocess per image at shape (1, 3, 384, 640)\n",
            "\n",
            "0: 384x640 (no detections), 34.0ms\n",
            "Speed: 2.2ms preprocess, 34.0ms inference, 1.7ms postprocess per image at shape (1, 3, 384, 640)\n",
            "\n",
            "0: 384x640 (no detections), 35.1ms\n",
            "Speed: 2.0ms preprocess, 35.1ms inference, 2.0ms postprocess per image at shape (1, 3, 384, 640)\n",
            "\n",
            "0: 384x640 (no detections), 33.8ms\n",
            "Speed: 2.1ms preprocess, 33.8ms inference, 1.5ms postprocess per image at shape (1, 3, 384, 640)\n",
            "\n",
            "0: 384x640 (no detections), 34.2ms\n",
            "Speed: 2.1ms preprocess, 34.2ms inference, 1.6ms postprocess per image at shape (1, 3, 384, 640)\n",
            "\n",
            "0: 384x640 (no detections), 33.0ms\n",
            "Speed: 3.2ms preprocess, 33.0ms inference, 1.9ms postprocess per image at shape (1, 3, 384, 640)\n",
            "\n",
            "0: 384x640 (no detections), 32.3ms\n",
            "Speed: 2.3ms preprocess, 32.3ms inference, 1.7ms postprocess per image at shape (1, 3, 384, 640)\n",
            "\n",
            "0: 384x640 (no detections), 33.4ms\n",
            "Speed: 2.2ms preprocess, 33.4ms inference, 2.1ms postprocess per image at shape (1, 3, 384, 640)\n",
            "\n",
            "0: 384x640 (no detections), 33.5ms\n",
            "Speed: 2.4ms preprocess, 33.5ms inference, 2.2ms postprocess per image at shape (1, 3, 384, 640)\n",
            "\n",
            "0: 384x640 (no detections), 33.9ms\n",
            "Speed: 2.6ms preprocess, 33.9ms inference, 1.7ms postprocess per image at shape (1, 3, 384, 640)\n",
            "\n",
            "0: 384x640 (no detections), 33.8ms\n",
            "Speed: 2.1ms preprocess, 33.8ms inference, 1.7ms postprocess per image at shape (1, 3, 384, 640)\n",
            "\n",
            "0: 384x640 (no detections), 32.6ms\n",
            "Speed: 2.4ms preprocess, 32.6ms inference, 1.9ms postprocess per image at shape (1, 3, 384, 640)\n",
            "\n",
            "0: 384x640 (no detections), 34.2ms\n",
            "Speed: 2.0ms preprocess, 34.2ms inference, 1.8ms postprocess per image at shape (1, 3, 384, 640)\n",
            "\n",
            "0: 384x640 (no detections), 34.6ms\n",
            "Speed: 2.1ms preprocess, 34.6ms inference, 1.7ms postprocess per image at shape (1, 3, 384, 640)\n",
            "\n",
            "0: 384x640 (no detections), 34.9ms\n",
            "Speed: 2.1ms preprocess, 34.9ms inference, 1.8ms postprocess per image at shape (1, 3, 384, 640)\n",
            "\n",
            "0: 384x640 (no detections), 32.0ms\n",
            "Speed: 2.0ms preprocess, 32.0ms inference, 1.7ms postprocess per image at shape (1, 3, 384, 640)\n",
            "\n",
            "0: 384x640 (no detections), 32.3ms\n",
            "Speed: 2.0ms preprocess, 32.3ms inference, 2.3ms postprocess per image at shape (1, 3, 384, 640)\n",
            "\n",
            "0: 384x640 (no detections), 31.8ms\n",
            "Speed: 3.1ms preprocess, 31.8ms inference, 1.8ms postprocess per image at shape (1, 3, 384, 640)\n",
            "\n",
            "0: 384x640 (no detections), 34.6ms\n",
            "Speed: 2.4ms preprocess, 34.6ms inference, 1.8ms postprocess per image at shape (1, 3, 384, 640)\n",
            "\n",
            "0: 384x640 (no detections), 34.1ms\n",
            "Speed: 2.1ms preprocess, 34.1ms inference, 1.7ms postprocess per image at shape (1, 3, 384, 640)\n",
            "\n",
            "0: 384x640 (no detections), 33.5ms\n",
            "Speed: 1.9ms preprocess, 33.5ms inference, 2.0ms postprocess per image at shape (1, 3, 384, 640)\n",
            "\n",
            "0: 384x640 (no detections), 33.5ms\n",
            "Speed: 2.0ms preprocess, 33.5ms inference, 2.6ms postprocess per image at shape (1, 3, 384, 640)\n",
            "\n",
            "0: 384x640 (no detections), 35.4ms\n",
            "Speed: 2.0ms preprocess, 35.4ms inference, 1.8ms postprocess per image at shape (1, 3, 384, 640)\n",
            "\n",
            "0: 384x640 (no detections), 33.7ms\n",
            "Speed: 2.0ms preprocess, 33.7ms inference, 1.8ms postprocess per image at shape (1, 3, 384, 640)\n",
            "\n",
            "0: 384x640 (no detections), 32.3ms\n",
            "Speed: 2.3ms preprocess, 32.3ms inference, 2.1ms postprocess per image at shape (1, 3, 384, 640)\n",
            "\n",
            "0: 384x640 (no detections), 33.9ms\n",
            "Speed: 2.0ms preprocess, 33.9ms inference, 1.7ms postprocess per image at shape (1, 3, 384, 640)\n",
            "\n",
            "0: 384x640 (no detections), 34.9ms\n",
            "Speed: 1.8ms preprocess, 34.9ms inference, 1.6ms postprocess per image at shape (1, 3, 384, 640)\n",
            "\n",
            "0: 384x640 (no detections), 34.0ms\n",
            "Speed: 1.7ms preprocess, 34.0ms inference, 1.7ms postprocess per image at shape (1, 3, 384, 640)\n",
            "\n",
            "0: 384x640 (no detections), 34.4ms\n",
            "Speed: 2.0ms preprocess, 34.4ms inference, 1.7ms postprocess per image at shape (1, 3, 384, 640)\n",
            "\n",
            "0: 384x640 (no detections), 33.8ms\n",
            "Speed: 2.0ms preprocess, 33.8ms inference, 1.8ms postprocess per image at shape (1, 3, 384, 640)\n",
            "\n",
            "0: 384x640 (no detections), 33.9ms\n",
            "Speed: 2.0ms preprocess, 33.9ms inference, 1.7ms postprocess per image at shape (1, 3, 384, 640)\n",
            "\n",
            "0: 384x640 (no detections), 34.4ms\n",
            "Speed: 1.9ms preprocess, 34.4ms inference, 2.1ms postprocess per image at shape (1, 3, 384, 640)\n",
            "\n",
            "0: 384x640 (no detections), 32.3ms\n",
            "Speed: 2.0ms preprocess, 32.3ms inference, 2.0ms postprocess per image at shape (1, 3, 384, 640)\n",
            "\n",
            "0: 384x640 (no detections), 34.2ms\n",
            "Speed: 2.0ms preprocess, 34.2ms inference, 1.9ms postprocess per image at shape (1, 3, 384, 640)\n",
            "\n",
            "0: 384x640 (no detections), 34.1ms\n",
            "Speed: 2.1ms preprocess, 34.1ms inference, 1.8ms postprocess per image at shape (1, 3, 384, 640)\n",
            "\n",
            "0: 384x640 (no detections), 32.7ms\n",
            "Speed: 2.0ms preprocess, 32.7ms inference, 4.3ms postprocess per image at shape (1, 3, 384, 640)\n",
            "\n",
            "0: 384x640 (no detections), 32.0ms\n",
            "Speed: 2.2ms preprocess, 32.0ms inference, 3.2ms postprocess per image at shape (1, 3, 384, 640)\n",
            "\n",
            "0: 384x640 (no detections), 33.9ms\n",
            "Speed: 2.2ms preprocess, 33.9ms inference, 1.8ms postprocess per image at shape (1, 3, 384, 640)\n",
            "\n",
            "0: 384x640 (no detections), 34.6ms\n",
            "Speed: 2.2ms preprocess, 34.6ms inference, 1.7ms postprocess per image at shape (1, 3, 384, 640)\n",
            "\n",
            "0: 384x640 (no detections), 34.4ms\n",
            "Speed: 2.2ms preprocess, 34.4ms inference, 1.9ms postprocess per image at shape (1, 3, 384, 640)\n",
            "\n",
            "0: 384x640 (no detections), 34.0ms\n",
            "Speed: 2.1ms preprocess, 34.0ms inference, 1.9ms postprocess per image at shape (1, 3, 384, 640)\n",
            "\n",
            "0: 384x640 (no detections), 33.8ms\n",
            "Speed: 2.1ms preprocess, 33.8ms inference, 2.0ms postprocess per image at shape (1, 3, 384, 640)\n",
            "\n",
            "0: 384x640 (no detections), 34.3ms\n",
            "Speed: 2.0ms preprocess, 34.3ms inference, 1.7ms postprocess per image at shape (1, 3, 384, 640)\n",
            "\n",
            "0: 384x640 (no detections), 34.1ms\n",
            "Speed: 2.0ms preprocess, 34.1ms inference, 2.1ms postprocess per image at shape (1, 3, 384, 640)\n",
            "\n",
            "0: 384x640 (no detections), 34.2ms\n",
            "Speed: 1.8ms preprocess, 34.2ms inference, 1.6ms postprocess per image at shape (1, 3, 384, 640)\n",
            "\n",
            "0: 384x640 (no detections), 34.0ms\n",
            "Speed: 1.9ms preprocess, 34.0ms inference, 1.8ms postprocess per image at shape (1, 3, 384, 640)\n",
            "\n",
            "0: 384x640 (no detections), 34.2ms\n",
            "Speed: 2.0ms preprocess, 34.2ms inference, 1.9ms postprocess per image at shape (1, 3, 384, 640)\n",
            "\n",
            "0: 384x640 (no detections), 34.1ms\n",
            "Speed: 2.0ms preprocess, 34.1ms inference, 1.7ms postprocess per image at shape (1, 3, 384, 640)\n",
            "\n",
            "0: 384x640 (no detections), 34.0ms\n",
            "Speed: 1.9ms preprocess, 34.0ms inference, 1.7ms postprocess per image at shape (1, 3, 384, 640)\n",
            "\n",
            "0: 384x640 (no detections), 33.7ms\n",
            "Speed: 2.3ms preprocess, 33.7ms inference, 2.0ms postprocess per image at shape (1, 3, 384, 640)\n",
            "\n",
            "0: 384x640 (no detections), 33.5ms\n",
            "Speed: 2.1ms preprocess, 33.5ms inference, 1.6ms postprocess per image at shape (1, 3, 384, 640)\n",
            "\n",
            "0: 384x640 (no detections), 34.5ms\n",
            "Speed: 2.1ms preprocess, 34.5ms inference, 1.9ms postprocess per image at shape (1, 3, 384, 640)\n",
            "\n",
            "0: 384x640 (no detections), 33.7ms\n",
            "Speed: 1.9ms preprocess, 33.7ms inference, 1.9ms postprocess per image at shape (1, 3, 384, 640)\n",
            "\n",
            "0: 384x640 (no detections), 33.6ms\n",
            "Speed: 2.0ms preprocess, 33.6ms inference, 1.9ms postprocess per image at shape (1, 3, 384, 640)\n",
            "\n",
            "0: 384x640 (no detections), 34.3ms\n",
            "Speed: 2.1ms preprocess, 34.3ms inference, 2.0ms postprocess per image at shape (1, 3, 384, 640)\n",
            "\n",
            "0: 384x640 (no detections), 34.2ms\n",
            "Speed: 2.0ms preprocess, 34.2ms inference, 1.8ms postprocess per image at shape (1, 3, 384, 640)\n",
            "\n",
            "0: 384x640 (no detections), 31.8ms\n",
            "Speed: 2.1ms preprocess, 31.8ms inference, 5.3ms postprocess per image at shape (1, 3, 384, 640)\n",
            "\n",
            "0: 384x640 (no detections), 32.7ms\n",
            "Speed: 2.1ms preprocess, 32.7ms inference, 2.0ms postprocess per image at shape (1, 3, 384, 640)\n",
            "\n",
            "0: 384x640 (no detections), 34.2ms\n",
            "Speed: 1.9ms preprocess, 34.2ms inference, 2.1ms postprocess per image at shape (1, 3, 384, 640)\n",
            "\n",
            "0: 384x640 (no detections), 33.7ms\n",
            "Speed: 2.0ms preprocess, 33.7ms inference, 1.7ms postprocess per image at shape (1, 3, 384, 640)\n",
            "\n",
            "0: 384x640 (no detections), 32.9ms\n",
            "Speed: 2.0ms preprocess, 32.9ms inference, 1.9ms postprocess per image at shape (1, 3, 384, 640)\n",
            "\n",
            "0: 384x640 (no detections), 33.5ms\n",
            "Speed: 1.9ms preprocess, 33.5ms inference, 1.7ms postprocess per image at shape (1, 3, 384, 640)\n",
            "\n",
            "0: 384x640 (no detections), 34.5ms\n",
            "Speed: 1.9ms preprocess, 34.5ms inference, 1.9ms postprocess per image at shape (1, 3, 384, 640)\n",
            "\n",
            "0: 384x640 (no detections), 34.5ms\n",
            "Speed: 1.9ms preprocess, 34.5ms inference, 1.6ms postprocess per image at shape (1, 3, 384, 640)\n",
            "\n",
            "0: 384x640 (no detections), 34.1ms\n",
            "Speed: 1.8ms preprocess, 34.1ms inference, 1.6ms postprocess per image at shape (1, 3, 384, 640)\n",
            "\n",
            "0: 384x640 (no detections), 34.3ms\n",
            "Speed: 2.0ms preprocess, 34.3ms inference, 1.6ms postprocess per image at shape (1, 3, 384, 640)\n",
            "\n",
            "0: 384x640 (no detections), 34.4ms\n",
            "Speed: 2.0ms preprocess, 34.4ms inference, 1.7ms postprocess per image at shape (1, 3, 384, 640)\n",
            "\n",
            "0: 384x640 (no detections), 34.3ms\n",
            "Speed: 1.8ms preprocess, 34.3ms inference, 1.9ms postprocess per image at shape (1, 3, 384, 640)\n",
            "\n",
            "0: 384x640 (no detections), 34.8ms\n",
            "Speed: 1.9ms preprocess, 34.8ms inference, 1.7ms postprocess per image at shape (1, 3, 384, 640)\n",
            "\n",
            "0: 384x640 (no detections), 34.4ms\n",
            "Speed: 1.8ms preprocess, 34.4ms inference, 1.7ms postprocess per image at shape (1, 3, 384, 640)\n",
            "\n",
            "0: 384x640 (no detections), 34.1ms\n",
            "Speed: 1.9ms preprocess, 34.1ms inference, 1.6ms postprocess per image at shape (1, 3, 384, 640)\n",
            "\n",
            "0: 384x640 (no detections), 34.0ms\n",
            "Speed: 2.0ms preprocess, 34.0ms inference, 1.7ms postprocess per image at shape (1, 3, 384, 640)\n",
            "\n",
            "0: 384x640 (no detections), 34.5ms\n",
            "Speed: 1.9ms preprocess, 34.5ms inference, 1.9ms postprocess per image at shape (1, 3, 384, 640)\n",
            "\n",
            "0: 384x640 (no detections), 36.4ms\n",
            "Speed: 2.0ms preprocess, 36.4ms inference, 2.0ms postprocess per image at shape (1, 3, 384, 640)\n",
            "\n",
            "0: 384x640 (no detections), 33.0ms\n",
            "Speed: 1.9ms preprocess, 33.0ms inference, 1.8ms postprocess per image at shape (1, 3, 384, 640)\n",
            "\n",
            "0: 384x640 (no detections), 36.7ms\n",
            "Speed: 2.1ms preprocess, 36.7ms inference, 1.8ms postprocess per image at shape (1, 3, 384, 640)\n",
            "\n",
            "0: 384x640 (no detections), 33.3ms\n",
            "Speed: 2.0ms preprocess, 33.3ms inference, 2.0ms postprocess per image at shape (1, 3, 384, 640)\n",
            "\n",
            "0: 384x640 (no detections), 38.0ms\n",
            "Speed: 1.9ms preprocess, 38.0ms inference, 2.5ms postprocess per image at shape (1, 3, 384, 640)\n",
            "\n",
            "0: 384x640 (no detections), 35.1ms\n",
            "Speed: 2.0ms preprocess, 35.1ms inference, 1.7ms postprocess per image at shape (1, 3, 384, 640)\n",
            "\n",
            "0: 384x640 (no detections), 34.5ms\n",
            "Speed: 2.0ms preprocess, 34.5ms inference, 4.4ms postprocess per image at shape (1, 3, 384, 640)\n",
            "\n",
            "0: 384x640 (no detections), 33.6ms\n",
            "Speed: 3.1ms preprocess, 33.6ms inference, 1.7ms postprocess per image at shape (1, 3, 384, 640)\n",
            "\n",
            "0: 384x640 (no detections), 37.7ms\n",
            "Speed: 3.2ms preprocess, 37.7ms inference, 1.7ms postprocess per image at shape (1, 3, 384, 640)\n",
            "\n",
            "0: 384x640 (no detections), 32.5ms\n",
            "Speed: 1.7ms preprocess, 32.5ms inference, 1.6ms postprocess per image at shape (1, 3, 384, 640)\n",
            "\n",
            "0: 384x640 (no detections), 35.0ms\n",
            "Speed: 2.0ms preprocess, 35.0ms inference, 4.8ms postprocess per image at shape (1, 3, 384, 640)\n",
            "\n",
            "0: 384x640 (no detections), 33.7ms\n",
            "Speed: 2.1ms preprocess, 33.7ms inference, 1.7ms postprocess per image at shape (1, 3, 384, 640)\n",
            "\n",
            "0: 384x640 (no detections), 32.8ms\n",
            "Speed: 1.9ms preprocess, 32.8ms inference, 2.1ms postprocess per image at shape (1, 3, 384, 640)\n",
            "\n",
            "0: 384x640 (no detections), 33.4ms\n",
            "Speed: 2.3ms preprocess, 33.4ms inference, 2.1ms postprocess per image at shape (1, 3, 384, 640)\n",
            "\n",
            "0: 384x640 (no detections), 34.6ms\n",
            "Speed: 1.9ms preprocess, 34.6ms inference, 2.4ms postprocess per image at shape (1, 3, 384, 640)\n",
            "\n",
            "0: 384x640 (no detections), 34.5ms\n",
            "Speed: 1.8ms preprocess, 34.5ms inference, 2.2ms postprocess per image at shape (1, 3, 384, 640)\n",
            "\n",
            "0: 384x640 (no detections), 35.8ms\n",
            "Speed: 2.1ms preprocess, 35.8ms inference, 1.7ms postprocess per image at shape (1, 3, 384, 640)\n",
            "\n",
            "0: 384x640 (no detections), 37.9ms\n",
            "Speed: 2.0ms preprocess, 37.9ms inference, 1.6ms postprocess per image at shape (1, 3, 384, 640)\n",
            "\n",
            "0: 384x640 (no detections), 39.2ms\n",
            "Speed: 2.1ms preprocess, 39.2ms inference, 1.9ms postprocess per image at shape (1, 3, 384, 640)\n",
            "\n",
            "0: 384x640 (no detections), 31.5ms\n",
            "Speed: 6.0ms preprocess, 31.5ms inference, 1.6ms postprocess per image at shape (1, 3, 384, 640)\n",
            "\n",
            "0: 384x640 (no detections), 34.0ms\n",
            "Speed: 1.9ms preprocess, 34.0ms inference, 1.7ms postprocess per image at shape (1, 3, 384, 640)\n",
            "\n",
            "0: 384x640 (no detections), 34.4ms\n",
            "Speed: 1.9ms preprocess, 34.4ms inference, 2.0ms postprocess per image at shape (1, 3, 384, 640)\n",
            "\n",
            "0: 384x640 (no detections), 35.5ms\n",
            "Speed: 2.0ms preprocess, 35.5ms inference, 4.1ms postprocess per image at shape (1, 3, 384, 640)\n",
            "\n",
            "0: 384x640 (no detections), 32.8ms\n",
            "Speed: 1.9ms preprocess, 32.8ms inference, 2.0ms postprocess per image at shape (1, 3, 384, 640)\n",
            "\n",
            "0: 384x640 (no detections), 33.1ms\n",
            "Speed: 2.1ms preprocess, 33.1ms inference, 2.2ms postprocess per image at shape (1, 3, 384, 640)\n",
            "\n",
            "0: 384x640 (no detections), 32.8ms\n",
            "Speed: 3.4ms preprocess, 32.8ms inference, 1.9ms postprocess per image at shape (1, 3, 384, 640)\n",
            "\n",
            "0: 384x640 (no detections), 33.7ms\n",
            "Speed: 1.9ms preprocess, 33.7ms inference, 1.7ms postprocess per image at shape (1, 3, 384, 640)\n",
            "\n",
            "0: 384x640 (no detections), 33.8ms\n",
            "Speed: 4.3ms preprocess, 33.8ms inference, 1.8ms postprocess per image at shape (1, 3, 384, 640)\n",
            "\n",
            "0: 384x640 (no detections), 33.2ms\n",
            "Speed: 2.1ms preprocess, 33.2ms inference, 2.0ms postprocess per image at shape (1, 3, 384, 640)\n",
            "\n",
            "0: 384x640 (no detections), 34.1ms\n",
            "Speed: 2.1ms preprocess, 34.1ms inference, 1.8ms postprocess per image at shape (1, 3, 384, 640)\n",
            "\n",
            "0: 384x640 (no detections), 34.8ms\n",
            "Speed: 2.0ms preprocess, 34.8ms inference, 1.9ms postprocess per image at shape (1, 3, 384, 640)\n",
            "\n",
            "0: 384x640 (no detections), 34.4ms\n",
            "Speed: 2.0ms preprocess, 34.4ms inference, 1.6ms postprocess per image at shape (1, 3, 384, 640)\n",
            "\n",
            "0: 384x640 (no detections), 34.1ms\n",
            "Speed: 2.1ms preprocess, 34.1ms inference, 1.7ms postprocess per image at shape (1, 3, 384, 640)\n",
            "\n",
            "0: 384x640 (no detections), 34.7ms\n",
            "Speed: 1.9ms preprocess, 34.7ms inference, 2.1ms postprocess per image at shape (1, 3, 384, 640)\n",
            "\n",
            "0: 384x640 (no detections), 32.5ms\n",
            "Speed: 2.0ms preprocess, 32.5ms inference, 1.8ms postprocess per image at shape (1, 3, 384, 640)\n",
            "\n",
            "0: 384x640 (no detections), 37.8ms\n",
            "Speed: 2.0ms preprocess, 37.8ms inference, 1.6ms postprocess per image at shape (1, 3, 384, 640)\n",
            "\n",
            "0: 384x640 (no detections), 33.1ms\n",
            "Speed: 2.1ms preprocess, 33.1ms inference, 4.6ms postprocess per image at shape (1, 3, 384, 640)\n",
            "\n",
            "0: 384x640 (no detections), 35.3ms\n",
            "Speed: 2.0ms preprocess, 35.3ms inference, 1.9ms postprocess per image at shape (1, 3, 384, 640)\n",
            "\n",
            "0: 384x640 (no detections), 35.7ms\n",
            "Speed: 1.9ms preprocess, 35.7ms inference, 1.9ms postprocess per image at shape (1, 3, 384, 640)\n",
            "\n",
            "0: 384x640 (no detections), 33.3ms\n",
            "Speed: 1.9ms preprocess, 33.3ms inference, 1.9ms postprocess per image at shape (1, 3, 384, 640)\n",
            "\n",
            "0: 384x640 (no detections), 34.2ms\n",
            "Speed: 1.7ms preprocess, 34.2ms inference, 1.7ms postprocess per image at shape (1, 3, 384, 640)\n",
            "\n",
            "0: 384x640 (no detections), 34.5ms\n",
            "Speed: 2.1ms preprocess, 34.5ms inference, 2.0ms postprocess per image at shape (1, 3, 384, 640)\n",
            "\n",
            "0: 384x640 (no detections), 33.9ms\n",
            "Speed: 3.1ms preprocess, 33.9ms inference, 3.1ms postprocess per image at shape (1, 3, 384, 640)\n",
            "\n",
            "0: 384x640 (no detections), 34.1ms\n",
            "Speed: 2.1ms preprocess, 34.1ms inference, 1.8ms postprocess per image at shape (1, 3, 384, 640)\n",
            "\n",
            "0: 384x640 (no detections), 35.9ms\n",
            "Speed: 1.8ms preprocess, 35.9ms inference, 1.6ms postprocess per image at shape (1, 3, 384, 640)\n",
            "\n",
            "0: 384x640 (no detections), 33.0ms\n",
            "Speed: 2.9ms preprocess, 33.0ms inference, 1.8ms postprocess per image at shape (1, 3, 384, 640)\n",
            "\n",
            "0: 384x640 (no detections), 33.3ms\n",
            "Speed: 2.2ms preprocess, 33.3ms inference, 1.8ms postprocess per image at shape (1, 3, 384, 640)\n",
            "\n",
            "0: 384x640 (no detections), 34.8ms\n",
            "Speed: 2.8ms preprocess, 34.8ms inference, 1.9ms postprocess per image at shape (1, 3, 384, 640)\n",
            "\n",
            "0: 384x640 (no detections), 35.5ms\n",
            "Speed: 2.5ms preprocess, 35.5ms inference, 1.6ms postprocess per image at shape (1, 3, 384, 640)\n",
            "\n",
            "0: 384x640 (no detections), 34.6ms\n",
            "Speed: 2.1ms preprocess, 34.6ms inference, 1.8ms postprocess per image at shape (1, 3, 384, 640)\n",
            "\n",
            "0: 384x640 (no detections), 34.4ms\n",
            "Speed: 2.1ms preprocess, 34.4ms inference, 1.6ms postprocess per image at shape (1, 3, 384, 640)\n",
            "\n",
            "0: 384x640 (no detections), 36.7ms\n",
            "Speed: 2.4ms preprocess, 36.7ms inference, 2.4ms postprocess per image at shape (1, 3, 384, 640)\n",
            "\n",
            "0: 384x640 (no detections), 34.4ms\n",
            "Speed: 2.0ms preprocess, 34.4ms inference, 1.8ms postprocess per image at shape (1, 3, 384, 640)\n",
            "\n",
            "0: 384x640 (no detections), 33.8ms\n",
            "Speed: 1.9ms preprocess, 33.8ms inference, 2.1ms postprocess per image at shape (1, 3, 384, 640)\n",
            "\n",
            "0: 384x640 (no detections), 33.5ms\n",
            "Speed: 2.2ms preprocess, 33.5ms inference, 6.3ms postprocess per image at shape (1, 3, 384, 640)\n",
            "\n",
            "0: 384x640 (no detections), 32.7ms\n",
            "Speed: 2.1ms preprocess, 32.7ms inference, 1.7ms postprocess per image at shape (1, 3, 384, 640)\n",
            "\n",
            "0: 384x640 (no detections), 31.8ms\n",
            "Speed: 1.9ms preprocess, 31.8ms inference, 1.6ms postprocess per image at shape (1, 3, 384, 640)\n",
            "\n",
            "0: 384x640 (no detections), 33.7ms\n",
            "Speed: 2.1ms preprocess, 33.7ms inference, 1.7ms postprocess per image at shape (1, 3, 384, 640)\n",
            "\n",
            "0: 384x640 (no detections), 34.1ms\n",
            "Speed: 2.1ms preprocess, 34.1ms inference, 1.9ms postprocess per image at shape (1, 3, 384, 640)\n",
            "\n",
            "0: 384x640 (no detections), 34.1ms\n",
            "Speed: 2.1ms preprocess, 34.1ms inference, 1.9ms postprocess per image at shape (1, 3, 384, 640)\n",
            "\n",
            "0: 384x640 (no detections), 34.6ms\n",
            "Speed: 1.9ms preprocess, 34.6ms inference, 1.7ms postprocess per image at shape (1, 3, 384, 640)\n",
            "\n",
            "0: 384x640 (no detections), 33.7ms\n",
            "Speed: 1.9ms preprocess, 33.7ms inference, 1.7ms postprocess per image at shape (1, 3, 384, 640)\n",
            "\n",
            "0: 384x640 (no detections), 34.6ms\n",
            "Speed: 2.0ms preprocess, 34.6ms inference, 1.8ms postprocess per image at shape (1, 3, 384, 640)\n",
            "\n",
            "0: 384x640 (no detections), 35.0ms\n",
            "Speed: 1.9ms preprocess, 35.0ms inference, 2.2ms postprocess per image at shape (1, 3, 384, 640)\n",
            "\n",
            "0: 384x640 (no detections), 34.4ms\n",
            "Speed: 2.0ms preprocess, 34.4ms inference, 1.9ms postprocess per image at shape (1, 3, 384, 640)\n",
            "\n",
            "0: 384x640 (no detections), 35.0ms\n",
            "Speed: 1.9ms preprocess, 35.0ms inference, 1.7ms postprocess per image at shape (1, 3, 384, 640)\n",
            "\n",
            "0: 384x640 (no detections), 34.5ms\n",
            "Speed: 2.0ms preprocess, 34.5ms inference, 1.6ms postprocess per image at shape (1, 3, 384, 640)\n",
            "\n",
            "0: 384x640 (no detections), 35.4ms\n",
            "Speed: 1.9ms preprocess, 35.4ms inference, 1.6ms postprocess per image at shape (1, 3, 384, 640)\n",
            "\n",
            "0: 384x640 (no detections), 35.2ms\n",
            "Speed: 2.0ms preprocess, 35.2ms inference, 2.1ms postprocess per image at shape (1, 3, 384, 640)\n",
            "\n",
            "0: 384x640 (no detections), 34.9ms\n",
            "Speed: 2.1ms preprocess, 34.9ms inference, 1.9ms postprocess per image at shape (1, 3, 384, 640)\n",
            "\n",
            "0: 384x640 (no detections), 34.2ms\n",
            "Speed: 2.1ms preprocess, 34.2ms inference, 1.8ms postprocess per image at shape (1, 3, 384, 640)\n",
            "\n",
            "0: 384x640 (no detections), 35.1ms\n",
            "Speed: 2.1ms preprocess, 35.1ms inference, 3.1ms postprocess per image at shape (1, 3, 384, 640)\n",
            "\n",
            "0: 384x640 (no detections), 34.0ms\n",
            "Speed: 1.9ms preprocess, 34.0ms inference, 1.7ms postprocess per image at shape (1, 3, 384, 640)\n",
            "\n",
            "0: 384x640 (no detections), 34.6ms\n",
            "Speed: 1.9ms preprocess, 34.6ms inference, 1.6ms postprocess per image at shape (1, 3, 384, 640)\n",
            "\n",
            "0: 384x640 (no detections), 35.3ms\n",
            "Speed: 1.9ms preprocess, 35.3ms inference, 1.9ms postprocess per image at shape (1, 3, 384, 640)\n",
            "\n",
            "0: 384x640 (no detections), 33.7ms\n",
            "Speed: 3.4ms preprocess, 33.7ms inference, 1.8ms postprocess per image at shape (1, 3, 384, 640)\n",
            "\n",
            "0: 384x640 (no detections), 35.0ms\n",
            "Speed: 2.0ms preprocess, 35.0ms inference, 1.7ms postprocess per image at shape (1, 3, 384, 640)\n",
            "\n",
            "0: 384x640 (no detections), 34.4ms\n",
            "Speed: 1.9ms preprocess, 34.4ms inference, 2.2ms postprocess per image at shape (1, 3, 384, 640)\n",
            "\n",
            "0: 384x640 (no detections), 35.0ms\n",
            "Speed: 2.0ms preprocess, 35.0ms inference, 1.9ms postprocess per image at shape (1, 3, 384, 640)\n",
            "\n",
            "0: 384x640 (no detections), 33.5ms\n",
            "Speed: 1.9ms preprocess, 33.5ms inference, 1.8ms postprocess per image at shape (1, 3, 384, 640)\n",
            "\n",
            "0: 384x640 (no detections), 34.3ms\n",
            "Speed: 1.8ms preprocess, 34.3ms inference, 2.0ms postprocess per image at shape (1, 3, 384, 640)\n",
            "\n",
            "0: 384x640 (no detections), 35.0ms\n",
            "Speed: 2.0ms preprocess, 35.0ms inference, 2.0ms postprocess per image at shape (1, 3, 384, 640)\n",
            "\n",
            "0: 384x640 (no detections), 33.3ms\n",
            "Speed: 2.1ms preprocess, 33.3ms inference, 2.1ms postprocess per image at shape (1, 3, 384, 640)\n",
            "\n",
            "0: 384x640 (no detections), 34.9ms\n",
            "Speed: 1.9ms preprocess, 34.9ms inference, 1.6ms postprocess per image at shape (1, 3, 384, 640)\n",
            "\n",
            "0: 384x640 (no detections), 35.0ms\n",
            "Speed: 1.9ms preprocess, 35.0ms inference, 1.9ms postprocess per image at shape (1, 3, 384, 640)\n",
            "\n",
            "0: 384x640 (no detections), 34.3ms\n",
            "Speed: 1.9ms preprocess, 34.3ms inference, 1.7ms postprocess per image at shape (1, 3, 384, 640)\n",
            "\n",
            "0: 384x640 (no detections), 35.7ms\n",
            "Speed: 1.9ms preprocess, 35.7ms inference, 1.6ms postprocess per image at shape (1, 3, 384, 640)\n",
            "\n",
            "0: 384x640 (no detections), 33.9ms\n",
            "Speed: 2.0ms preprocess, 33.9ms inference, 2.3ms postprocess per image at shape (1, 3, 384, 640)\n",
            "\n",
            "0: 384x640 (no detections), 34.2ms\n",
            "Speed: 2.1ms preprocess, 34.2ms inference, 2.0ms postprocess per image at shape (1, 3, 384, 640)\n",
            "\n",
            "0: 384x640 (no detections), 34.1ms\n",
            "Speed: 1.9ms preprocess, 34.1ms inference, 1.9ms postprocess per image at shape (1, 3, 384, 640)\n",
            "\n",
            "0: 384x640 (no detections), 35.1ms\n",
            "Speed: 2.1ms preprocess, 35.1ms inference, 1.7ms postprocess per image at shape (1, 3, 384, 640)\n",
            "\n",
            "0: 384x640 (no detections), 32.6ms\n",
            "Speed: 4.0ms preprocess, 32.6ms inference, 1.6ms postprocess per image at shape (1, 3, 384, 640)\n",
            "\n",
            "0: 384x640 (no detections), 34.5ms\n",
            "Speed: 2.2ms preprocess, 34.5ms inference, 1.7ms postprocess per image at shape (1, 3, 384, 640)\n",
            "\n",
            "0: 384x640 (no detections), 34.4ms\n",
            "Speed: 1.8ms preprocess, 34.4ms inference, 1.7ms postprocess per image at shape (1, 3, 384, 640)\n",
            "\n",
            "0: 384x640 (no detections), 35.3ms\n",
            "Speed: 1.8ms preprocess, 35.3ms inference, 1.6ms postprocess per image at shape (1, 3, 384, 640)\n",
            "\n",
            "0: 384x640 (no detections), 34.7ms\n",
            "Speed: 1.8ms preprocess, 34.7ms inference, 1.9ms postprocess per image at shape (1, 3, 384, 640)\n",
            "\n",
            "0: 384x640 (no detections), 34.7ms\n",
            "Speed: 2.0ms preprocess, 34.7ms inference, 1.6ms postprocess per image at shape (1, 3, 384, 640)\n",
            "\n",
            "0: 384x640 (no detections), 34.6ms\n",
            "Speed: 1.8ms preprocess, 34.6ms inference, 2.3ms postprocess per image at shape (1, 3, 384, 640)\n",
            "\n",
            "0: 384x640 (no detections), 34.7ms\n",
            "Speed: 1.9ms preprocess, 34.7ms inference, 2.0ms postprocess per image at shape (1, 3, 384, 640)\n",
            "\n",
            "0: 384x640 (no detections), 34.5ms\n",
            "Speed: 1.9ms preprocess, 34.5ms inference, 2.0ms postprocess per image at shape (1, 3, 384, 640)\n",
            "\n",
            "0: 384x640 (no detections), 35.0ms\n",
            "Speed: 2.0ms preprocess, 35.0ms inference, 2.1ms postprocess per image at shape (1, 3, 384, 640)\n",
            "\n",
            "0: 384x640 (no detections), 34.3ms\n",
            "Speed: 2.2ms preprocess, 34.3ms inference, 2.3ms postprocess per image at shape (1, 3, 384, 640)\n",
            "\n",
            "0: 384x640 (no detections), 34.3ms\n",
            "Speed: 2.0ms preprocess, 34.3ms inference, 5.8ms postprocess per image at shape (1, 3, 384, 640)\n",
            "\n",
            "0: 384x640 (no detections), 32.8ms\n",
            "Speed: 2.1ms preprocess, 32.8ms inference, 5.7ms postprocess per image at shape (1, 3, 384, 640)\n",
            "\n",
            "0: 384x640 (no detections), 31.9ms\n",
            "Speed: 2.0ms preprocess, 31.9ms inference, 1.6ms postprocess per image at shape (1, 3, 384, 640)\n",
            "\n",
            "0: 384x640 (no detections), 35.6ms\n",
            "Speed: 2.0ms preprocess, 35.6ms inference, 1.7ms postprocess per image at shape (1, 3, 384, 640)\n",
            "\n",
            "0: 384x640 (no detections), 34.5ms\n",
            "Speed: 1.9ms preprocess, 34.5ms inference, 1.8ms postprocess per image at shape (1, 3, 384, 640)\n",
            "\n",
            "0: 384x640 (no detections), 35.1ms\n",
            "Speed: 2.0ms preprocess, 35.1ms inference, 1.9ms postprocess per image at shape (1, 3, 384, 640)\n",
            "\n",
            "0: 384x640 (no detections), 33.8ms\n",
            "Speed: 2.1ms preprocess, 33.8ms inference, 1.7ms postprocess per image at shape (1, 3, 384, 640)\n",
            "\n",
            "0: 384x640 (no detections), 34.9ms\n",
            "Speed: 1.9ms preprocess, 34.9ms inference, 1.7ms postprocess per image at shape (1, 3, 384, 640)\n",
            "\n",
            "0: 384x640 (no detections), 34.4ms\n",
            "Speed: 2.0ms preprocess, 34.4ms inference, 1.8ms postprocess per image at shape (1, 3, 384, 640)\n",
            "\n",
            "0: 384x640 (no detections), 34.0ms\n",
            "Speed: 3.3ms preprocess, 34.0ms inference, 1.9ms postprocess per image at shape (1, 3, 384, 640)\n",
            "\n",
            "0: 384x640 (no detections), 38.3ms\n",
            "Speed: 2.3ms preprocess, 38.3ms inference, 2.1ms postprocess per image at shape (1, 3, 384, 640)\n",
            "\n",
            "0: 384x640 (no detections), 32.7ms\n",
            "Speed: 1.9ms preprocess, 32.7ms inference, 1.8ms postprocess per image at shape (1, 3, 384, 640)\n",
            "\n",
            "0: 384x640 (no detections), 34.4ms\n",
            "Speed: 2.0ms preprocess, 34.4ms inference, 2.9ms postprocess per image at shape (1, 3, 384, 640)\n",
            "\n",
            "0: 384x640 (no detections), 34.7ms\n",
            "Speed: 2.0ms preprocess, 34.7ms inference, 2.0ms postprocess per image at shape (1, 3, 384, 640)\n",
            "\n",
            "0: 384x640 (no detections), 33.8ms\n",
            "Speed: 2.0ms preprocess, 33.8ms inference, 2.3ms postprocess per image at shape (1, 3, 384, 640)\n",
            "\n",
            "0: 384x640 (no detections), 33.5ms\n",
            "Speed: 2.0ms preprocess, 33.5ms inference, 2.3ms postprocess per image at shape (1, 3, 384, 640)\n"
          ]
        }
      ]
    },
    {
      "cell_type": "code",
      "source": [
        "df"
      ],
      "metadata": {
        "colab": {
          "base_uri": "https://localhost:8080/",
          "height": 423
        },
        "id": "ApEQToZVtBTn",
        "outputId": "9b0beba5-6216-4008-d305-002987b3a519"
      },
      "execution_count": null,
      "outputs": [
        {
          "output_type": "execute_result",
          "data": {
            "text/plain": [
              "                            bbox bbox_center class_name\n",
              "Frame_1     (638, 482, 710, 578)  (674, 530)   football\n",
              "Frame_2     (624, 483, 699, 580)  (662, 531)   football\n",
              "Frame_3     (621, 480, 688, 576)  (655, 528)   football\n",
              "Frame_4     (609, 469, 682, 570)  (645, 520)   football\n",
              "Frame_5     (598, 467, 677, 565)  (637, 516)   football\n",
              "...                          ...         ...        ...\n",
              "Frame_7512                  None        None       None\n",
              "Frame_7513                  None        None       None\n",
              "Frame_7514                  None        None       None\n",
              "Frame_7515                  None        None       None\n",
              "Frame_7516                  None        None       None\n",
              "\n",
              "[7516 rows x 3 columns]"
            ],
            "text/html": [
              "\n",
              "  <div id=\"df-4ccbc2c7-9a48-44c4-96d2-313a460c0334\" class=\"colab-df-container\">\n",
              "    <div>\n",
              "<style scoped>\n",
              "    .dataframe tbody tr th:only-of-type {\n",
              "        vertical-align: middle;\n",
              "    }\n",
              "\n",
              "    .dataframe tbody tr th {\n",
              "        vertical-align: top;\n",
              "    }\n",
              "\n",
              "    .dataframe thead th {\n",
              "        text-align: right;\n",
              "    }\n",
              "</style>\n",
              "<table border=\"1\" class=\"dataframe\">\n",
              "  <thead>\n",
              "    <tr style=\"text-align: right;\">\n",
              "      <th></th>\n",
              "      <th>bbox</th>\n",
              "      <th>bbox_center</th>\n",
              "      <th>class_name</th>\n",
              "    </tr>\n",
              "  </thead>\n",
              "  <tbody>\n",
              "    <tr>\n",
              "      <th>Frame_1</th>\n",
              "      <td>(638, 482, 710, 578)</td>\n",
              "      <td>(674, 530)</td>\n",
              "      <td>football</td>\n",
              "    </tr>\n",
              "    <tr>\n",
              "      <th>Frame_2</th>\n",
              "      <td>(624, 483, 699, 580)</td>\n",
              "      <td>(662, 531)</td>\n",
              "      <td>football</td>\n",
              "    </tr>\n",
              "    <tr>\n",
              "      <th>Frame_3</th>\n",
              "      <td>(621, 480, 688, 576)</td>\n",
              "      <td>(655, 528)</td>\n",
              "      <td>football</td>\n",
              "    </tr>\n",
              "    <tr>\n",
              "      <th>Frame_4</th>\n",
              "      <td>(609, 469, 682, 570)</td>\n",
              "      <td>(645, 520)</td>\n",
              "      <td>football</td>\n",
              "    </tr>\n",
              "    <tr>\n",
              "      <th>Frame_5</th>\n",
              "      <td>(598, 467, 677, 565)</td>\n",
              "      <td>(637, 516)</td>\n",
              "      <td>football</td>\n",
              "    </tr>\n",
              "    <tr>\n",
              "      <th>...</th>\n",
              "      <td>...</td>\n",
              "      <td>...</td>\n",
              "      <td>...</td>\n",
              "    </tr>\n",
              "    <tr>\n",
              "      <th>Frame_7512</th>\n",
              "      <td>None</td>\n",
              "      <td>None</td>\n",
              "      <td>None</td>\n",
              "    </tr>\n",
              "    <tr>\n",
              "      <th>Frame_7513</th>\n",
              "      <td>None</td>\n",
              "      <td>None</td>\n",
              "      <td>None</td>\n",
              "    </tr>\n",
              "    <tr>\n",
              "      <th>Frame_7514</th>\n",
              "      <td>None</td>\n",
              "      <td>None</td>\n",
              "      <td>None</td>\n",
              "    </tr>\n",
              "    <tr>\n",
              "      <th>Frame_7515</th>\n",
              "      <td>None</td>\n",
              "      <td>None</td>\n",
              "      <td>None</td>\n",
              "    </tr>\n",
              "    <tr>\n",
              "      <th>Frame_7516</th>\n",
              "      <td>None</td>\n",
              "      <td>None</td>\n",
              "      <td>None</td>\n",
              "    </tr>\n",
              "  </tbody>\n",
              "</table>\n",
              "<p>7516 rows × 3 columns</p>\n",
              "</div>\n",
              "    <div class=\"colab-df-buttons\">\n",
              "\n",
              "  <div class=\"colab-df-container\">\n",
              "    <button class=\"colab-df-convert\" onclick=\"convertToInteractive('df-4ccbc2c7-9a48-44c4-96d2-313a460c0334')\"\n",
              "            title=\"Convert this dataframe to an interactive table.\"\n",
              "            style=\"display:none;\">\n",
              "\n",
              "  <svg xmlns=\"http://www.w3.org/2000/svg\" height=\"24px\" viewBox=\"0 -960 960 960\">\n",
              "    <path d=\"M120-120v-720h720v720H120Zm60-500h600v-160H180v160Zm220 220h160v-160H400v160Zm0 220h160v-160H400v160ZM180-400h160v-160H180v160Zm440 0h160v-160H620v160ZM180-180h160v-160H180v160Zm440 0h160v-160H620v160Z\"/>\n",
              "  </svg>\n",
              "    </button>\n",
              "\n",
              "  <style>\n",
              "    .colab-df-container {\n",
              "      display:flex;\n",
              "      gap: 12px;\n",
              "    }\n",
              "\n",
              "    .colab-df-convert {\n",
              "      background-color: #E8F0FE;\n",
              "      border: none;\n",
              "      border-radius: 50%;\n",
              "      cursor: pointer;\n",
              "      display: none;\n",
              "      fill: #1967D2;\n",
              "      height: 32px;\n",
              "      padding: 0 0 0 0;\n",
              "      width: 32px;\n",
              "    }\n",
              "\n",
              "    .colab-df-convert:hover {\n",
              "      background-color: #E2EBFA;\n",
              "      box-shadow: 0px 1px 2px rgba(60, 64, 67, 0.3), 0px 1px 3px 1px rgba(60, 64, 67, 0.15);\n",
              "      fill: #174EA6;\n",
              "    }\n",
              "\n",
              "    .colab-df-buttons div {\n",
              "      margin-bottom: 4px;\n",
              "    }\n",
              "\n",
              "    [theme=dark] .colab-df-convert {\n",
              "      background-color: #3B4455;\n",
              "      fill: #D2E3FC;\n",
              "    }\n",
              "\n",
              "    [theme=dark] .colab-df-convert:hover {\n",
              "      background-color: #434B5C;\n",
              "      box-shadow: 0px 1px 3px 1px rgba(0, 0, 0, 0.15);\n",
              "      filter: drop-shadow(0px 1px 2px rgba(0, 0, 0, 0.3));\n",
              "      fill: #FFFFFF;\n",
              "    }\n",
              "  </style>\n",
              "\n",
              "    <script>\n",
              "      const buttonEl =\n",
              "        document.querySelector('#df-4ccbc2c7-9a48-44c4-96d2-313a460c0334 button.colab-df-convert');\n",
              "      buttonEl.style.display =\n",
              "        google.colab.kernel.accessAllowed ? 'block' : 'none';\n",
              "\n",
              "      async function convertToInteractive(key) {\n",
              "        const element = document.querySelector('#df-4ccbc2c7-9a48-44c4-96d2-313a460c0334');\n",
              "        const dataTable =\n",
              "          await google.colab.kernel.invokeFunction('convertToInteractive',\n",
              "                                                    [key], {});\n",
              "        if (!dataTable) return;\n",
              "\n",
              "        const docLinkHtml = 'Like what you see? Visit the ' +\n",
              "          '<a target=\"_blank\" href=https://colab.research.google.com/notebooks/data_table.ipynb>data table notebook</a>'\n",
              "          + ' to learn more about interactive tables.';\n",
              "        element.innerHTML = '';\n",
              "        dataTable['output_type'] = 'display_data';\n",
              "        await google.colab.output.renderOutput(dataTable, element);\n",
              "        const docLink = document.createElement('div');\n",
              "        docLink.innerHTML = docLinkHtml;\n",
              "        element.appendChild(docLink);\n",
              "      }\n",
              "    </script>\n",
              "  </div>\n",
              "\n",
              "\n",
              "<div id=\"df-afaf9d2f-e614-4f2b-84a9-1c69d960b23c\">\n",
              "  <button class=\"colab-df-quickchart\" onclick=\"quickchart('df-afaf9d2f-e614-4f2b-84a9-1c69d960b23c')\"\n",
              "            title=\"Suggest charts\"\n",
              "            style=\"display:none;\">\n",
              "\n",
              "<svg xmlns=\"http://www.w3.org/2000/svg\" height=\"24px\"viewBox=\"0 0 24 24\"\n",
              "     width=\"24px\">\n",
              "    <g>\n",
              "        <path d=\"M19 3H5c-1.1 0-2 .9-2 2v14c0 1.1.9 2 2 2h14c1.1 0 2-.9 2-2V5c0-1.1-.9-2-2-2zM9 17H7v-7h2v7zm4 0h-2V7h2v10zm4 0h-2v-4h2v4z\"/>\n",
              "    </g>\n",
              "</svg>\n",
              "  </button>\n",
              "\n",
              "<style>\n",
              "  .colab-df-quickchart {\n",
              "      --bg-color: #E8F0FE;\n",
              "      --fill-color: #1967D2;\n",
              "      --hover-bg-color: #E2EBFA;\n",
              "      --hover-fill-color: #174EA6;\n",
              "      --disabled-fill-color: #AAA;\n",
              "      --disabled-bg-color: #DDD;\n",
              "  }\n",
              "\n",
              "  [theme=dark] .colab-df-quickchart {\n",
              "      --bg-color: #3B4455;\n",
              "      --fill-color: #D2E3FC;\n",
              "      --hover-bg-color: #434B5C;\n",
              "      --hover-fill-color: #FFFFFF;\n",
              "      --disabled-bg-color: #3B4455;\n",
              "      --disabled-fill-color: #666;\n",
              "  }\n",
              "\n",
              "  .colab-df-quickchart {\n",
              "    background-color: var(--bg-color);\n",
              "    border: none;\n",
              "    border-radius: 50%;\n",
              "    cursor: pointer;\n",
              "    display: none;\n",
              "    fill: var(--fill-color);\n",
              "    height: 32px;\n",
              "    padding: 0;\n",
              "    width: 32px;\n",
              "  }\n",
              "\n",
              "  .colab-df-quickchart:hover {\n",
              "    background-color: var(--hover-bg-color);\n",
              "    box-shadow: 0 1px 2px rgba(60, 64, 67, 0.3), 0 1px 3px 1px rgba(60, 64, 67, 0.15);\n",
              "    fill: var(--button-hover-fill-color);\n",
              "  }\n",
              "\n",
              "  .colab-df-quickchart-complete:disabled,\n",
              "  .colab-df-quickchart-complete:disabled:hover {\n",
              "    background-color: var(--disabled-bg-color);\n",
              "    fill: var(--disabled-fill-color);\n",
              "    box-shadow: none;\n",
              "  }\n",
              "\n",
              "  .colab-df-spinner {\n",
              "    border: 2px solid var(--fill-color);\n",
              "    border-color: transparent;\n",
              "    border-bottom-color: var(--fill-color);\n",
              "    animation:\n",
              "      spin 1s steps(1) infinite;\n",
              "  }\n",
              "\n",
              "  @keyframes spin {\n",
              "    0% {\n",
              "      border-color: transparent;\n",
              "      border-bottom-color: var(--fill-color);\n",
              "      border-left-color: var(--fill-color);\n",
              "    }\n",
              "    20% {\n",
              "      border-color: transparent;\n",
              "      border-left-color: var(--fill-color);\n",
              "      border-top-color: var(--fill-color);\n",
              "    }\n",
              "    30% {\n",
              "      border-color: transparent;\n",
              "      border-left-color: var(--fill-color);\n",
              "      border-top-color: var(--fill-color);\n",
              "      border-right-color: var(--fill-color);\n",
              "    }\n",
              "    40% {\n",
              "      border-color: transparent;\n",
              "      border-right-color: var(--fill-color);\n",
              "      border-top-color: var(--fill-color);\n",
              "    }\n",
              "    60% {\n",
              "      border-color: transparent;\n",
              "      border-right-color: var(--fill-color);\n",
              "    }\n",
              "    80% {\n",
              "      border-color: transparent;\n",
              "      border-right-color: var(--fill-color);\n",
              "      border-bottom-color: var(--fill-color);\n",
              "    }\n",
              "    90% {\n",
              "      border-color: transparent;\n",
              "      border-bottom-color: var(--fill-color);\n",
              "    }\n",
              "  }\n",
              "</style>\n",
              "\n",
              "  <script>\n",
              "    async function quickchart(key) {\n",
              "      const quickchartButtonEl =\n",
              "        document.querySelector('#' + key + ' button');\n",
              "      quickchartButtonEl.disabled = true;  // To prevent multiple clicks.\n",
              "      quickchartButtonEl.classList.add('colab-df-spinner');\n",
              "      try {\n",
              "        const charts = await google.colab.kernel.invokeFunction(\n",
              "            'suggestCharts', [key], {});\n",
              "      } catch (error) {\n",
              "        console.error('Error during call to suggestCharts:', error);\n",
              "      }\n",
              "      quickchartButtonEl.classList.remove('colab-df-spinner');\n",
              "      quickchartButtonEl.classList.add('colab-df-quickchart-complete');\n",
              "    }\n",
              "    (() => {\n",
              "      let quickchartButtonEl =\n",
              "        document.querySelector('#df-afaf9d2f-e614-4f2b-84a9-1c69d960b23c button');\n",
              "      quickchartButtonEl.style.display =\n",
              "        google.colab.kernel.accessAllowed ? 'block' : 'none';\n",
              "    })();\n",
              "  </script>\n",
              "</div>\n",
              "    </div>\n",
              "  </div>\n"
            ]
          },
          "metadata": {},
          "execution_count": 11
        }
      ]
    },
    {
      "cell_type": "code",
      "source": [
        "\n",
        "df.to_csv('Footbal_bbox.csv', encoding='utf-8')\n"
      ],
      "metadata": {
        "id": "OJKL2V2ktBW6"
      },
      "execution_count": null,
      "outputs": []
    },
    {
      "cell_type": "code",
      "source": [
        "df1=df"
      ],
      "metadata": {
        "id": "YWdmmsm6tBZm"
      },
      "execution_count": null,
      "outputs": []
    },
    {
      "cell_type": "code",
      "source": [
        "df1=df1.dropna()\n",
        "df1"
      ],
      "metadata": {
        "id": "nOBwlklutBen",
        "colab": {
          "base_uri": "https://localhost:8080/",
          "height": 423
        },
        "outputId": "b2152bab-d089-4959-9479-c1956f269e43"
      },
      "execution_count": null,
      "outputs": [
        {
          "output_type": "execute_result",
          "data": {
            "text/plain": [
              "                            bbox bbox_center class_name\n",
              "Frame_1     (638, 482, 710, 578)  (674, 530)   football\n",
              "Frame_2     (624, 483, 699, 580)  (662, 531)   football\n",
              "Frame_3     (621, 480, 688, 576)  (655, 528)   football\n",
              "Frame_4     (609, 469, 682, 570)  (645, 520)   football\n",
              "Frame_5     (598, 467, 677, 565)  (637, 516)   football\n",
              "...                          ...         ...        ...\n",
              "Frame_7270  (956, 687, 971, 720)  (963, 703)   football\n",
              "Frame_7276   (467, 77, 484, 114)   (476, 96)   football\n",
              "Frame_7277  (387, 145, 404, 186)  (396, 166)   football\n",
              "Frame_7278   (481, 62, 502, 111)   (492, 87)   football\n",
              "Frame_7285  (565, 178, 591, 225)  (578, 201)   football\n",
              "\n",
              "[2594 rows x 3 columns]"
            ],
            "text/html": [
              "\n",
              "  <div id=\"df-17ee2789-c6cc-4c3b-8c09-89904585289a\" class=\"colab-df-container\">\n",
              "    <div>\n",
              "<style scoped>\n",
              "    .dataframe tbody tr th:only-of-type {\n",
              "        vertical-align: middle;\n",
              "    }\n",
              "\n",
              "    .dataframe tbody tr th {\n",
              "        vertical-align: top;\n",
              "    }\n",
              "\n",
              "    .dataframe thead th {\n",
              "        text-align: right;\n",
              "    }\n",
              "</style>\n",
              "<table border=\"1\" class=\"dataframe\">\n",
              "  <thead>\n",
              "    <tr style=\"text-align: right;\">\n",
              "      <th></th>\n",
              "      <th>bbox</th>\n",
              "      <th>bbox_center</th>\n",
              "      <th>class_name</th>\n",
              "    </tr>\n",
              "  </thead>\n",
              "  <tbody>\n",
              "    <tr>\n",
              "      <th>Frame_1</th>\n",
              "      <td>(638, 482, 710, 578)</td>\n",
              "      <td>(674, 530)</td>\n",
              "      <td>football</td>\n",
              "    </tr>\n",
              "    <tr>\n",
              "      <th>Frame_2</th>\n",
              "      <td>(624, 483, 699, 580)</td>\n",
              "      <td>(662, 531)</td>\n",
              "      <td>football</td>\n",
              "    </tr>\n",
              "    <tr>\n",
              "      <th>Frame_3</th>\n",
              "      <td>(621, 480, 688, 576)</td>\n",
              "      <td>(655, 528)</td>\n",
              "      <td>football</td>\n",
              "    </tr>\n",
              "    <tr>\n",
              "      <th>Frame_4</th>\n",
              "      <td>(609, 469, 682, 570)</td>\n",
              "      <td>(645, 520)</td>\n",
              "      <td>football</td>\n",
              "    </tr>\n",
              "    <tr>\n",
              "      <th>Frame_5</th>\n",
              "      <td>(598, 467, 677, 565)</td>\n",
              "      <td>(637, 516)</td>\n",
              "      <td>football</td>\n",
              "    </tr>\n",
              "    <tr>\n",
              "      <th>...</th>\n",
              "      <td>...</td>\n",
              "      <td>...</td>\n",
              "      <td>...</td>\n",
              "    </tr>\n",
              "    <tr>\n",
              "      <th>Frame_7270</th>\n",
              "      <td>(956, 687, 971, 720)</td>\n",
              "      <td>(963, 703)</td>\n",
              "      <td>football</td>\n",
              "    </tr>\n",
              "    <tr>\n",
              "      <th>Frame_7276</th>\n",
              "      <td>(467, 77, 484, 114)</td>\n",
              "      <td>(476, 96)</td>\n",
              "      <td>football</td>\n",
              "    </tr>\n",
              "    <tr>\n",
              "      <th>Frame_7277</th>\n",
              "      <td>(387, 145, 404, 186)</td>\n",
              "      <td>(396, 166)</td>\n",
              "      <td>football</td>\n",
              "    </tr>\n",
              "    <tr>\n",
              "      <th>Frame_7278</th>\n",
              "      <td>(481, 62, 502, 111)</td>\n",
              "      <td>(492, 87)</td>\n",
              "      <td>football</td>\n",
              "    </tr>\n",
              "    <tr>\n",
              "      <th>Frame_7285</th>\n",
              "      <td>(565, 178, 591, 225)</td>\n",
              "      <td>(578, 201)</td>\n",
              "      <td>football</td>\n",
              "    </tr>\n",
              "  </tbody>\n",
              "</table>\n",
              "<p>2594 rows × 3 columns</p>\n",
              "</div>\n",
              "    <div class=\"colab-df-buttons\">\n",
              "\n",
              "  <div class=\"colab-df-container\">\n",
              "    <button class=\"colab-df-convert\" onclick=\"convertToInteractive('df-17ee2789-c6cc-4c3b-8c09-89904585289a')\"\n",
              "            title=\"Convert this dataframe to an interactive table.\"\n",
              "            style=\"display:none;\">\n",
              "\n",
              "  <svg xmlns=\"http://www.w3.org/2000/svg\" height=\"24px\" viewBox=\"0 -960 960 960\">\n",
              "    <path d=\"M120-120v-720h720v720H120Zm60-500h600v-160H180v160Zm220 220h160v-160H400v160Zm0 220h160v-160H400v160ZM180-400h160v-160H180v160Zm440 0h160v-160H620v160ZM180-180h160v-160H180v160Zm440 0h160v-160H620v160Z\"/>\n",
              "  </svg>\n",
              "    </button>\n",
              "\n",
              "  <style>\n",
              "    .colab-df-container {\n",
              "      display:flex;\n",
              "      gap: 12px;\n",
              "    }\n",
              "\n",
              "    .colab-df-convert {\n",
              "      background-color: #E8F0FE;\n",
              "      border: none;\n",
              "      border-radius: 50%;\n",
              "      cursor: pointer;\n",
              "      display: none;\n",
              "      fill: #1967D2;\n",
              "      height: 32px;\n",
              "      padding: 0 0 0 0;\n",
              "      width: 32px;\n",
              "    }\n",
              "\n",
              "    .colab-df-convert:hover {\n",
              "      background-color: #E2EBFA;\n",
              "      box-shadow: 0px 1px 2px rgba(60, 64, 67, 0.3), 0px 1px 3px 1px rgba(60, 64, 67, 0.15);\n",
              "      fill: #174EA6;\n",
              "    }\n",
              "\n",
              "    .colab-df-buttons div {\n",
              "      margin-bottom: 4px;\n",
              "    }\n",
              "\n",
              "    [theme=dark] .colab-df-convert {\n",
              "      background-color: #3B4455;\n",
              "      fill: #D2E3FC;\n",
              "    }\n",
              "\n",
              "    [theme=dark] .colab-df-convert:hover {\n",
              "      background-color: #434B5C;\n",
              "      box-shadow: 0px 1px 3px 1px rgba(0, 0, 0, 0.15);\n",
              "      filter: drop-shadow(0px 1px 2px rgba(0, 0, 0, 0.3));\n",
              "      fill: #FFFFFF;\n",
              "    }\n",
              "  </style>\n",
              "\n",
              "    <script>\n",
              "      const buttonEl =\n",
              "        document.querySelector('#df-17ee2789-c6cc-4c3b-8c09-89904585289a button.colab-df-convert');\n",
              "      buttonEl.style.display =\n",
              "        google.colab.kernel.accessAllowed ? 'block' : 'none';\n",
              "\n",
              "      async function convertToInteractive(key) {\n",
              "        const element = document.querySelector('#df-17ee2789-c6cc-4c3b-8c09-89904585289a');\n",
              "        const dataTable =\n",
              "          await google.colab.kernel.invokeFunction('convertToInteractive',\n",
              "                                                    [key], {});\n",
              "        if (!dataTable) return;\n",
              "\n",
              "        const docLinkHtml = 'Like what you see? Visit the ' +\n",
              "          '<a target=\"_blank\" href=https://colab.research.google.com/notebooks/data_table.ipynb>data table notebook</a>'\n",
              "          + ' to learn more about interactive tables.';\n",
              "        element.innerHTML = '';\n",
              "        dataTable['output_type'] = 'display_data';\n",
              "        await google.colab.output.renderOutput(dataTable, element);\n",
              "        const docLink = document.createElement('div');\n",
              "        docLink.innerHTML = docLinkHtml;\n",
              "        element.appendChild(docLink);\n",
              "      }\n",
              "    </script>\n",
              "  </div>\n",
              "\n",
              "\n",
              "<div id=\"df-07f913b2-c41b-42b3-a4bc-ffba25e52b75\">\n",
              "  <button class=\"colab-df-quickchart\" onclick=\"quickchart('df-07f913b2-c41b-42b3-a4bc-ffba25e52b75')\"\n",
              "            title=\"Suggest charts\"\n",
              "            style=\"display:none;\">\n",
              "\n",
              "<svg xmlns=\"http://www.w3.org/2000/svg\" height=\"24px\"viewBox=\"0 0 24 24\"\n",
              "     width=\"24px\">\n",
              "    <g>\n",
              "        <path d=\"M19 3H5c-1.1 0-2 .9-2 2v14c0 1.1.9 2 2 2h14c1.1 0 2-.9 2-2V5c0-1.1-.9-2-2-2zM9 17H7v-7h2v7zm4 0h-2V7h2v10zm4 0h-2v-4h2v4z\"/>\n",
              "    </g>\n",
              "</svg>\n",
              "  </button>\n",
              "\n",
              "<style>\n",
              "  .colab-df-quickchart {\n",
              "      --bg-color: #E8F0FE;\n",
              "      --fill-color: #1967D2;\n",
              "      --hover-bg-color: #E2EBFA;\n",
              "      --hover-fill-color: #174EA6;\n",
              "      --disabled-fill-color: #AAA;\n",
              "      --disabled-bg-color: #DDD;\n",
              "  }\n",
              "\n",
              "  [theme=dark] .colab-df-quickchart {\n",
              "      --bg-color: #3B4455;\n",
              "      --fill-color: #D2E3FC;\n",
              "      --hover-bg-color: #434B5C;\n",
              "      --hover-fill-color: #FFFFFF;\n",
              "      --disabled-bg-color: #3B4455;\n",
              "      --disabled-fill-color: #666;\n",
              "  }\n",
              "\n",
              "  .colab-df-quickchart {\n",
              "    background-color: var(--bg-color);\n",
              "    border: none;\n",
              "    border-radius: 50%;\n",
              "    cursor: pointer;\n",
              "    display: none;\n",
              "    fill: var(--fill-color);\n",
              "    height: 32px;\n",
              "    padding: 0;\n",
              "    width: 32px;\n",
              "  }\n",
              "\n",
              "  .colab-df-quickchart:hover {\n",
              "    background-color: var(--hover-bg-color);\n",
              "    box-shadow: 0 1px 2px rgba(60, 64, 67, 0.3), 0 1px 3px 1px rgba(60, 64, 67, 0.15);\n",
              "    fill: var(--button-hover-fill-color);\n",
              "  }\n",
              "\n",
              "  .colab-df-quickchart-complete:disabled,\n",
              "  .colab-df-quickchart-complete:disabled:hover {\n",
              "    background-color: var(--disabled-bg-color);\n",
              "    fill: var(--disabled-fill-color);\n",
              "    box-shadow: none;\n",
              "  }\n",
              "\n",
              "  .colab-df-spinner {\n",
              "    border: 2px solid var(--fill-color);\n",
              "    border-color: transparent;\n",
              "    border-bottom-color: var(--fill-color);\n",
              "    animation:\n",
              "      spin 1s steps(1) infinite;\n",
              "  }\n",
              "\n",
              "  @keyframes spin {\n",
              "    0% {\n",
              "      border-color: transparent;\n",
              "      border-bottom-color: var(--fill-color);\n",
              "      border-left-color: var(--fill-color);\n",
              "    }\n",
              "    20% {\n",
              "      border-color: transparent;\n",
              "      border-left-color: var(--fill-color);\n",
              "      border-top-color: var(--fill-color);\n",
              "    }\n",
              "    30% {\n",
              "      border-color: transparent;\n",
              "      border-left-color: var(--fill-color);\n",
              "      border-top-color: var(--fill-color);\n",
              "      border-right-color: var(--fill-color);\n",
              "    }\n",
              "    40% {\n",
              "      border-color: transparent;\n",
              "      border-right-color: var(--fill-color);\n",
              "      border-top-color: var(--fill-color);\n",
              "    }\n",
              "    60% {\n",
              "      border-color: transparent;\n",
              "      border-right-color: var(--fill-color);\n",
              "    }\n",
              "    80% {\n",
              "      border-color: transparent;\n",
              "      border-right-color: var(--fill-color);\n",
              "      border-bottom-color: var(--fill-color);\n",
              "    }\n",
              "    90% {\n",
              "      border-color: transparent;\n",
              "      border-bottom-color: var(--fill-color);\n",
              "    }\n",
              "  }\n",
              "</style>\n",
              "\n",
              "  <script>\n",
              "    async function quickchart(key) {\n",
              "      const quickchartButtonEl =\n",
              "        document.querySelector('#' + key + ' button');\n",
              "      quickchartButtonEl.disabled = true;  // To prevent multiple clicks.\n",
              "      quickchartButtonEl.classList.add('colab-df-spinner');\n",
              "      try {\n",
              "        const charts = await google.colab.kernel.invokeFunction(\n",
              "            'suggestCharts', [key], {});\n",
              "      } catch (error) {\n",
              "        console.error('Error during call to suggestCharts:', error);\n",
              "      }\n",
              "      quickchartButtonEl.classList.remove('colab-df-spinner');\n",
              "      quickchartButtonEl.classList.add('colab-df-quickchart-complete');\n",
              "    }\n",
              "    (() => {\n",
              "      let quickchartButtonEl =\n",
              "        document.querySelector('#df-07f913b2-c41b-42b3-a4bc-ffba25e52b75 button');\n",
              "      quickchartButtonEl.style.display =\n",
              "        google.colab.kernel.accessAllowed ? 'block' : 'none';\n",
              "    })();\n",
              "  </script>\n",
              "</div>\n",
              "    </div>\n",
              "  </div>\n"
            ]
          },
          "metadata": {},
          "execution_count": 14
        }
      ]
    },
    {
      "cell_type": "code",
      "source": [],
      "metadata": {
        "id": "tz_GcULSPUFc"
      },
      "execution_count": null,
      "outputs": []
    },
    {
      "cell_type": "code",
      "source": [
        "!yolo detect predict model=https://github.com/ultralytics/assets/releases/download/v0.0.0/yolov8x.pt classes=32.0 conf=.5 source=/Pandas/MyDrive/football_detection/ball.mp4"
      ],
      "metadata": {
        "colab": {
          "base_uri": "https://localhost:8080/"
        },
        "id": "zVzkEKNJPUMM",
        "outputId": "d610eee7-49e3-4fc8-936a-85b3d72f4fdc"
      },
      "execution_count": null,
      "outputs": [
        {
          "output_type": "stream",
          "name": "stdout",
          "text": [
            "Found https://github.com/ultralytics/assets/releases/download/v0.0.0/yolov8x.pt locally at yolov8x.pt\n",
            "Ultralytics YOLOv8.0.221 🚀 Python-3.10.12 torch-2.1.0+cu118 CUDA:0 (Tesla T4, 15102MiB)\n",
            "YOLOv8x summary (fused): 268 layers, 68200608 parameters, 0 gradients, 257.8 GFLOPs\n",
            "\n",
            "video 1/1 (1/848) /Pandas/MyDrive/football_detection/ball.mp4: 384x640 (no detections), 144.1ms\n",
            "video 1/1 (2/848) /Pandas/MyDrive/football_detection/ball.mp4: 384x640 (no detections), 48.2ms\n",
            "video 1/1 (3/848) /Pandas/MyDrive/football_detection/ball.mp4: 384x640 (no detections), 48.1ms\n",
            "video 1/1 (4/848) /Pandas/MyDrive/football_detection/ball.mp4: 384x640 (no detections), 48.1ms\n",
            "video 1/1 (5/848) /Pandas/MyDrive/football_detection/ball.mp4: 384x640 (no detections), 43.1ms\n",
            "video 1/1 (6/848) /Pandas/MyDrive/football_detection/ball.mp4: 384x640 (no detections), 37.4ms\n",
            "video 1/1 (7/848) /Pandas/MyDrive/football_detection/ball.mp4: 384x640 (no detections), 36.4ms\n",
            "video 1/1 (8/848) /Pandas/MyDrive/football_detection/ball.mp4: 384x640 (no detections), 33.7ms\n",
            "video 1/1 (9/848) /Pandas/MyDrive/football_detection/ball.mp4: 384x640 (no detections), 32.9ms\n",
            "video 1/1 (10/848) /Pandas/MyDrive/football_detection/ball.mp4: 384x640 (no detections), 32.7ms\n",
            "video 1/1 (11/848) /Pandas/MyDrive/football_detection/ball.mp4: 384x640 (no detections), 33.7ms\n",
            "video 1/1 (12/848) /Pandas/MyDrive/football_detection/ball.mp4: 384x640 (no detections), 32.9ms\n",
            "video 1/1 (13/848) /Pandas/MyDrive/football_detection/ball.mp4: 384x640 (no detections), 33.7ms\n",
            "video 1/1 (14/848) /Pandas/MyDrive/football_detection/ball.mp4: 384x640 (no detections), 32.9ms\n",
            "video 1/1 (15/848) /Pandas/MyDrive/football_detection/ball.mp4: 384x640 (no detections), 32.3ms\n",
            "video 1/1 (16/848) /Pandas/MyDrive/football_detection/ball.mp4: 384x640 (no detections), 32.3ms\n",
            "video 1/1 (17/848) /Pandas/MyDrive/football_detection/ball.mp4: 384x640 (no detections), 32.4ms\n",
            "video 1/1 (18/848) /Pandas/MyDrive/football_detection/ball.mp4: 384x640 (no detections), 32.0ms\n",
            "video 1/1 (19/848) /Pandas/MyDrive/football_detection/ball.mp4: 384x640 (no detections), 32.3ms\n",
            "video 1/1 (20/848) /Pandas/MyDrive/football_detection/ball.mp4: 384x640 (no detections), 31.8ms\n",
            "video 1/1 (21/848) /Pandas/MyDrive/football_detection/ball.mp4: 384x640 (no detections), 31.9ms\n",
            "video 1/1 (22/848) /Pandas/MyDrive/football_detection/ball.mp4: 384x640 (no detections), 32.9ms\n",
            "video 1/1 (23/848) /Pandas/MyDrive/football_detection/ball.mp4: 384x640 (no detections), 32.3ms\n",
            "video 1/1 (24/848) /Pandas/MyDrive/football_detection/ball.mp4: 384x640 (no detections), 31.8ms\n",
            "video 1/1 (25/848) /Pandas/MyDrive/football_detection/ball.mp4: 384x640 (no detections), 31.9ms\n",
            "video 1/1 (26/848) /Pandas/MyDrive/football_detection/ball.mp4: 384x640 (no detections), 32.3ms\n",
            "video 1/1 (27/848) /Pandas/MyDrive/football_detection/ball.mp4: 384x640 (no detections), 32.3ms\n",
            "video 1/1 (28/848) /Pandas/MyDrive/football_detection/ball.mp4: 384x640 (no detections), 32.3ms\n",
            "video 1/1 (29/848) /Pandas/MyDrive/football_detection/ball.mp4: 384x640 (no detections), 33.6ms\n",
            "video 1/1 (30/848) /Pandas/MyDrive/football_detection/ball.mp4: 384x640 (no detections), 32.3ms\n",
            "video 1/1 (31/848) /Pandas/MyDrive/football_detection/ball.mp4: 384x640 (no detections), 32.3ms\n",
            "video 1/1 (32/848) /Pandas/MyDrive/football_detection/ball.mp4: 384x640 (no detections), 32.4ms\n",
            "video 1/1 (33/848) /Pandas/MyDrive/football_detection/ball.mp4: 384x640 (no detections), 32.4ms\n",
            "video 1/1 (34/848) /Pandas/MyDrive/football_detection/ball.mp4: 384x640 (no detections), 34.3ms\n",
            "video 1/1 (35/848) /Pandas/MyDrive/football_detection/ball.mp4: 384x640 (no detections), 33.9ms\n",
            "video 1/1 (36/848) /Pandas/MyDrive/football_detection/ball.mp4: 384x640 (no detections), 35.0ms\n",
            "video 1/1 (37/848) /Pandas/MyDrive/football_detection/ball.mp4: 384x640 (no detections), 34.2ms\n",
            "video 1/1 (38/848) /Pandas/MyDrive/football_detection/ball.mp4: 384x640 (no detections), 35.3ms\n",
            "video 1/1 (39/848) /Pandas/MyDrive/football_detection/ball.mp4: 384x640 (no detections), 34.9ms\n",
            "video 1/1 (40/848) /Pandas/MyDrive/football_detection/ball.mp4: 384x640 (no detections), 35.8ms\n",
            "video 1/1 (41/848) /Pandas/MyDrive/football_detection/ball.mp4: 384x640 (no detections), 35.3ms\n",
            "video 1/1 (42/848) /Pandas/MyDrive/football_detection/ball.mp4: 384x640 (no detections), 35.9ms\n",
            "video 1/1 (43/848) /Pandas/MyDrive/football_detection/ball.mp4: 384x640 (no detections), 36.3ms\n",
            "video 1/1 (44/848) /Pandas/MyDrive/football_detection/ball.mp4: 384x640 (no detections), 36.4ms\n",
            "video 1/1 (45/848) /Pandas/MyDrive/football_detection/ball.mp4: 384x640 (no detections), 37.1ms\n",
            "video 1/1 (46/848) /Pandas/MyDrive/football_detection/ball.mp4: 384x640 (no detections), 36.8ms\n",
            "video 1/1 (47/848) /Pandas/MyDrive/football_detection/ball.mp4: 384x640 (no detections), 37.5ms\n",
            "video 1/1 (48/848) /Pandas/MyDrive/football_detection/ball.mp4: 384x640 (no detections), 37.1ms\n",
            "video 1/1 (49/848) /Pandas/MyDrive/football_detection/ball.mp4: 384x640 (no detections), 38.1ms\n",
            "video 1/1 (50/848) /Pandas/MyDrive/football_detection/ball.mp4: 384x640 (no detections), 37.4ms\n",
            "video 1/1 (51/848) /Pandas/MyDrive/football_detection/ball.mp4: 384x640 (no detections), 37.4ms\n",
            "video 1/1 (52/848) /Pandas/MyDrive/football_detection/ball.mp4: 384x640 (no detections), 37.3ms\n",
            "video 1/1 (53/848) /Pandas/MyDrive/football_detection/ball.mp4: 384x640 (no detections), 40.9ms\n",
            "video 1/1 (54/848) /Pandas/MyDrive/football_detection/ball.mp4: 384x640 (no detections), 38.1ms\n",
            "video 1/1 (55/848) /Pandas/MyDrive/football_detection/ball.mp4: 384x640 (no detections), 37.7ms\n",
            "video 1/1 (56/848) /Pandas/MyDrive/football_detection/ball.mp4: 384x640 (no detections), 37.7ms\n",
            "video 1/1 (57/848) /Pandas/MyDrive/football_detection/ball.mp4: 384x640 (no detections), 37.7ms\n",
            "video 1/1 (58/848) /Pandas/MyDrive/football_detection/ball.mp4: 384x640 (no detections), 37.7ms\n",
            "video 1/1 (59/848) /Pandas/MyDrive/football_detection/ball.mp4: 384x640 (no detections), 39.0ms\n",
            "video 1/1 (60/848) /Pandas/MyDrive/football_detection/ball.mp4: 384x640 (no detections), 38.6ms\n",
            "video 1/1 (61/848) /Pandas/MyDrive/football_detection/ball.mp4: 384x640 (no detections), 38.2ms\n",
            "video 1/1 (62/848) /Pandas/MyDrive/football_detection/ball.mp4: 384x640 (no detections), 38.0ms\n",
            "video 1/1 (63/848) /Pandas/MyDrive/football_detection/ball.mp4: 384x640 (no detections), 38.7ms\n",
            "video 1/1 (64/848) /Pandas/MyDrive/football_detection/ball.mp4: 384x640 (no detections), 39.2ms\n",
            "video 1/1 (65/848) /Pandas/MyDrive/football_detection/ball.mp4: 384x640 (no detections), 39.0ms\n",
            "video 1/1 (66/848) /Pandas/MyDrive/football_detection/ball.mp4: 384x640 (no detections), 40.1ms\n",
            "video 1/1 (67/848) /Pandas/MyDrive/football_detection/ball.mp4: 384x640 (no detections), 38.2ms\n",
            "video 1/1 (68/848) /Pandas/MyDrive/football_detection/ball.mp4: 384x640 (no detections), 38.1ms\n",
            "video 1/1 (69/848) /Pandas/MyDrive/football_detection/ball.mp4: 384x640 (no detections), 38.1ms\n",
            "video 1/1 (70/848) /Pandas/MyDrive/football_detection/ball.mp4: 384x640 (no detections), 38.1ms\n",
            "video 1/1 (71/848) /Pandas/MyDrive/football_detection/ball.mp4: 384x640 (no detections), 38.1ms\n",
            "video 1/1 (72/848) /Pandas/MyDrive/football_detection/ball.mp4: 384x640 (no detections), 38.1ms\n",
            "video 1/1 (73/848) /Pandas/MyDrive/football_detection/ball.mp4: 384x640 (no detections), 38.0ms\n",
            "video 1/1 (74/848) /Pandas/MyDrive/football_detection/ball.mp4: 384x640 (no detections), 38.0ms\n",
            "video 1/1 (75/848) /Pandas/MyDrive/football_detection/ball.mp4: 384x640 (no detections), 37.4ms\n",
            "video 1/1 (76/848) /Pandas/MyDrive/football_detection/ball.mp4: 384x640 (no detections), 31.0ms\n",
            "video 1/1 (77/848) /Pandas/MyDrive/football_detection/ball.mp4: 384x640 (no detections), 30.8ms\n",
            "video 1/1 (78/848) /Pandas/MyDrive/football_detection/ball.mp4: 384x640 (no detections), 30.7ms\n",
            "video 1/1 (79/848) /Pandas/MyDrive/football_detection/ball.mp4: 384x640 (no detections), 30.8ms\n",
            "video 1/1 (80/848) /Pandas/MyDrive/football_detection/ball.mp4: 384x640 (no detections), 31.2ms\n",
            "video 1/1 (81/848) /Pandas/MyDrive/football_detection/ball.mp4: 384x640 (no detections), 30.8ms\n",
            "video 1/1 (82/848) /Pandas/MyDrive/football_detection/ball.mp4: 384x640 (no detections), 30.4ms\n",
            "video 1/1 (83/848) /Pandas/MyDrive/football_detection/ball.mp4: 384x640 (no detections), 29.8ms\n",
            "video 1/1 (84/848) /Pandas/MyDrive/football_detection/ball.mp4: 384x640 (no detections), 30.2ms\n",
            "video 1/1 (85/848) /Pandas/MyDrive/football_detection/ball.mp4: 384x640 (no detections), 29.8ms\n",
            "video 1/1 (86/848) /Pandas/MyDrive/football_detection/ball.mp4: 384x640 (no detections), 30.3ms\n",
            "video 1/1 (87/848) /Pandas/MyDrive/football_detection/ball.mp4: 384x640 (no detections), 30.2ms\n",
            "video 1/1 (88/848) /Pandas/MyDrive/football_detection/ball.mp4: 384x640 (no detections), 30.6ms\n",
            "video 1/1 (89/848) /Pandas/MyDrive/football_detection/ball.mp4: 384x640 (no detections), 30.1ms\n",
            "video 1/1 (90/848) /Pandas/MyDrive/football_detection/ball.mp4: 384x640 (no detections), 30.4ms\n",
            "video 1/1 (91/848) /Pandas/MyDrive/football_detection/ball.mp4: 384x640 (no detections), 29.7ms\n",
            "video 1/1 (92/848) /Pandas/MyDrive/football_detection/ball.mp4: 384x640 (no detections), 30.4ms\n",
            "video 1/1 (93/848) /Pandas/MyDrive/football_detection/ball.mp4: 384x640 (no detections), 29.7ms\n",
            "video 1/1 (94/848) /Pandas/MyDrive/football_detection/ball.mp4: 384x640 (no detections), 30.1ms\n",
            "video 1/1 (95/848) /Pandas/MyDrive/football_detection/ball.mp4: 384x640 (no detections), 30.4ms\n",
            "video 1/1 (96/848) /Pandas/MyDrive/football_detection/ball.mp4: 384x640 (no detections), 29.7ms\n",
            "video 1/1 (97/848) /Pandas/MyDrive/football_detection/ball.mp4: 384x640 (no detections), 30.1ms\n",
            "video 1/1 (98/848) /Pandas/MyDrive/football_detection/ball.mp4: 384x640 (no detections), 29.6ms\n",
            "video 1/1 (99/848) /Pandas/MyDrive/football_detection/ball.mp4: 384x640 (no detections), 30.1ms\n",
            "video 1/1 (100/848) /Pandas/MyDrive/football_detection/ball.mp4: 384x640 (no detections), 30.1ms\n",
            "video 1/1 (101/848) /Pandas/MyDrive/football_detection/ball.mp4: 384x640 (no detections), 29.6ms\n",
            "video 1/1 (102/848) /Pandas/MyDrive/football_detection/ball.mp4: 384x640 (no detections), 30.2ms\n",
            "video 1/1 (103/848) /Pandas/MyDrive/football_detection/ball.mp4: 384x640 (no detections), 30.2ms\n",
            "video 1/1 (104/848) /Pandas/MyDrive/football_detection/ball.mp4: 384x640 (no detections), 29.8ms\n",
            "video 1/1 (105/848) /Pandas/MyDrive/football_detection/ball.mp4: 384x640 (no detections), 29.7ms\n",
            "video 1/1 (106/848) /Pandas/MyDrive/football_detection/ball.mp4: 384x640 (no detections), 30.4ms\n",
            "video 1/1 (107/848) /Pandas/MyDrive/football_detection/ball.mp4: 384x640 (no detections), 29.7ms\n",
            "video 1/1 (108/848) /Pandas/MyDrive/football_detection/ball.mp4: 384x640 (no detections), 30.3ms\n",
            "video 1/1 (109/848) /Pandas/MyDrive/football_detection/ball.mp4: 384x640 (no detections), 30.4ms\n",
            "video 1/1 (110/848) /Pandas/MyDrive/football_detection/ball.mp4: 384x640 (no detections), 30.2ms\n",
            "video 1/1 (111/848) /Pandas/MyDrive/football_detection/ball.mp4: 384x640 (no detections), 30.8ms\n",
            "video 1/1 (112/848) /Pandas/MyDrive/football_detection/ball.mp4: 384x640 (no detections), 30.6ms\n",
            "video 1/1 (113/848) /Pandas/MyDrive/football_detection/ball.mp4: 384x640 (no detections), 31.4ms\n",
            "video 1/1 (114/848) /Pandas/MyDrive/football_detection/ball.mp4: 384x640 (no detections), 31.3ms\n",
            "video 1/1 (115/848) /Pandas/MyDrive/football_detection/ball.mp4: 384x640 (no detections), 31.5ms\n",
            "video 1/1 (116/848) /Pandas/MyDrive/football_detection/ball.mp4: 384x640 (no detections), 29.9ms\n",
            "video 1/1 (117/848) /Pandas/MyDrive/football_detection/ball.mp4: 384x640 (no detections), 30.4ms\n",
            "video 1/1 (118/848) /Pandas/MyDrive/football_detection/ball.mp4: 384x640 (no detections), 29.8ms\n",
            "video 1/1 (119/848) /Pandas/MyDrive/football_detection/ball.mp4: 384x640 (no detections), 30.3ms\n",
            "video 1/1 (120/848) /Pandas/MyDrive/football_detection/ball.mp4: 384x640 (no detections), 29.4ms\n",
            "video 1/1 (121/848) /Pandas/MyDrive/football_detection/ball.mp4: 384x640 (no detections), 30.4ms\n",
            "video 1/1 (122/848) /Pandas/MyDrive/football_detection/ball.mp4: 384x640 (no detections), 29.4ms\n",
            "video 1/1 (123/848) /Pandas/MyDrive/football_detection/ball.mp4: 384x640 (no detections), 30.2ms\n",
            "video 1/1 (124/848) /Pandas/MyDrive/football_detection/ball.mp4: 384x640 (no detections), 29.6ms\n",
            "video 1/1 (125/848) /Pandas/MyDrive/football_detection/ball.mp4: 384x640 (no detections), 30.3ms\n",
            "video 1/1 (126/848) /Pandas/MyDrive/football_detection/ball.mp4: 384x640 (no detections), 30.1ms\n",
            "video 1/1 (127/848) /Pandas/MyDrive/football_detection/ball.mp4: 384x640 (no detections), 29.5ms\n",
            "video 1/1 (128/848) /Pandas/MyDrive/football_detection/ball.mp4: 384x640 (no detections), 30.2ms\n",
            "video 1/1 (129/848) /Pandas/MyDrive/football_detection/ball.mp4: 384x640 (no detections), 30.0ms\n",
            "video 1/1 (130/848) /Pandas/MyDrive/football_detection/ball.mp4: 384x640 (no detections), 30.2ms\n",
            "video 1/1 (131/848) /Pandas/MyDrive/football_detection/ball.mp4: 384x640 (no detections), 30.6ms\n",
            "video 1/1 (132/848) /Pandas/MyDrive/football_detection/ball.mp4: 384x640 (no detections), 31.0ms\n",
            "video 1/1 (133/848) /Pandas/MyDrive/football_detection/ball.mp4: 384x640 (no detections), 30.5ms\n",
            "video 1/1 (134/848) /Pandas/MyDrive/football_detection/ball.mp4: 384x640 (no detections), 30.8ms\n",
            "video 1/1 (135/848) /Pandas/MyDrive/football_detection/ball.mp4: 384x640 (no detections), 30.4ms\n",
            "video 1/1 (136/848) /Pandas/MyDrive/football_detection/ball.mp4: 384x640 (no detections), 31.3ms\n",
            "video 1/1 (137/848) /Pandas/MyDrive/football_detection/ball.mp4: 384x640 (no detections), 31.5ms\n",
            "video 1/1 (138/848) /Pandas/MyDrive/football_detection/ball.mp4: 384x640 (no detections), 31.7ms\n",
            "video 1/1 (139/848) /Pandas/MyDrive/football_detection/ball.mp4: 384x640 (no detections), 30.5ms\n",
            "video 1/1 (140/848) /Pandas/MyDrive/football_detection/ball.mp4: 384x640 (no detections), 31.0ms\n",
            "video 1/1 (141/848) /Pandas/MyDrive/football_detection/ball.mp4: 384x640 (no detections), 30.6ms\n",
            "video 1/1 (142/848) /Pandas/MyDrive/football_detection/ball.mp4: 384x640 (no detections), 30.8ms\n",
            "video 1/1 (143/848) /Pandas/MyDrive/football_detection/ball.mp4: 384x640 (no detections), 30.3ms\n",
            "video 1/1 (144/848) /Pandas/MyDrive/football_detection/ball.mp4: 384x640 (no detections), 29.8ms\n",
            "video 1/1 (145/848) /Pandas/MyDrive/football_detection/ball.mp4: 384x640 (no detections), 30.5ms\n",
            "video 1/1 (146/848) /Pandas/MyDrive/football_detection/ball.mp4: 384x640 (no detections), 29.3ms\n",
            "video 1/1 (147/848) /Pandas/MyDrive/football_detection/ball.mp4: 384x640 (no detections), 30.4ms\n",
            "video 1/1 (148/848) /Pandas/MyDrive/football_detection/ball.mp4: 384x640 (no detections), 29.7ms\n",
            "video 1/1 (149/848) /Pandas/MyDrive/football_detection/ball.mp4: 384x640 (no detections), 30.0ms\n",
            "video 1/1 (150/848) /Pandas/MyDrive/football_detection/ball.mp4: 384x640 (no detections), 29.8ms\n",
            "video 1/1 (151/848) /Pandas/MyDrive/football_detection/ball.mp4: 384x640 (no detections), 30.4ms\n",
            "video 1/1 (152/848) /Pandas/MyDrive/football_detection/ball.mp4: 384x640 (no detections), 29.4ms\n",
            "video 1/1 (153/848) /Pandas/MyDrive/football_detection/ball.mp4: 384x640 (no detections), 30.1ms\n",
            "video 1/1 (154/848) /Pandas/MyDrive/football_detection/ball.mp4: 384x640 (no detections), 30.6ms\n",
            "video 1/1 (155/848) /Pandas/MyDrive/football_detection/ball.mp4: 384x640 (no detections), 31.0ms\n",
            "video 1/1 (156/848) /Pandas/MyDrive/football_detection/ball.mp4: 384x640 (no detections), 30.7ms\n",
            "video 1/1 (157/848) /Pandas/MyDrive/football_detection/ball.mp4: 384x640 (no detections), 31.7ms\n",
            "video 1/1 (158/848) /Pandas/MyDrive/football_detection/ball.mp4: 384x640 (no detections), 31.4ms\n",
            "video 1/1 (159/848) /Pandas/MyDrive/football_detection/ball.mp4: 384x640 (no detections), 31.3ms\n",
            "video 1/1 (160/848) /Pandas/MyDrive/football_detection/ball.mp4: 384x640 (no detections), 31.3ms\n",
            "video 1/1 (161/848) /Pandas/MyDrive/football_detection/ball.mp4: 384x640 (no detections), 31.5ms\n",
            "video 1/1 (162/848) /Pandas/MyDrive/football_detection/ball.mp4: 384x640 (no detections), 30.7ms\n",
            "video 1/1 (163/848) /Pandas/MyDrive/football_detection/ball.mp4: 384x640 (no detections), 30.8ms\n",
            "video 1/1 (164/848) /Pandas/MyDrive/football_detection/ball.mp4: 384x640 (no detections), 30.9ms\n",
            "video 1/1 (165/848) /Pandas/MyDrive/football_detection/ball.mp4: 384x640 (no detections), 30.5ms\n",
            "video 1/1 (166/848) /Pandas/MyDrive/football_detection/ball.mp4: 384x640 (no detections), 29.7ms\n",
            "video 1/1 (167/848) /Pandas/MyDrive/football_detection/ball.mp4: 384x640 (no detections), 30.4ms\n",
            "video 1/1 (168/848) /Pandas/MyDrive/football_detection/ball.mp4: 384x640 (no detections), 30.0ms\n",
            "video 1/1 (169/848) /Pandas/MyDrive/football_detection/ball.mp4: 384x640 (no detections), 30.2ms\n",
            "video 1/1 (170/848) /Pandas/MyDrive/football_detection/ball.mp4: 384x640 (no detections), 30.3ms\n",
            "video 1/1 (171/848) /Pandas/MyDrive/football_detection/ball.mp4: 384x640 (no detections), 30.1ms\n",
            "video 1/1 (172/848) /Pandas/MyDrive/football_detection/ball.mp4: 384x640 (no detections), 30.3ms\n",
            "video 1/1 (173/848) /Pandas/MyDrive/football_detection/ball.mp4: 384x640 (no detections), 29.7ms\n",
            "video 1/1 (174/848) /Pandas/MyDrive/football_detection/ball.mp4: 384x640 (no detections), 30.1ms\n",
            "video 1/1 (175/848) /Pandas/MyDrive/football_detection/ball.mp4: 384x640 (no detections), 29.5ms\n",
            "video 1/1 (176/848) /Pandas/MyDrive/football_detection/ball.mp4: 384x640 (no detections), 29.9ms\n",
            "video 1/1 (177/848) /Pandas/MyDrive/football_detection/ball.mp4: 384x640 (no detections), 30.7ms\n",
            "video 1/1 (178/848) /Pandas/MyDrive/football_detection/ball.mp4: 384x640 (no detections), 30.3ms\n",
            "video 1/1 (179/848) /Pandas/MyDrive/football_detection/ball.mp4: 384x640 (no detections), 30.4ms\n",
            "video 1/1 (180/848) /Pandas/MyDrive/football_detection/ball.mp4: 384x640 (no detections), 30.3ms\n",
            "video 1/1 (181/848) /Pandas/MyDrive/football_detection/ball.mp4: 384x640 (no detections), 30.1ms\n",
            "video 1/1 (182/848) /Pandas/MyDrive/football_detection/ball.mp4: 384x640 (no detections), 30.4ms\n",
            "video 1/1 (183/848) /Pandas/MyDrive/football_detection/ball.mp4: 384x640 (no detections), 30.3ms\n",
            "video 1/1 (184/848) /Pandas/MyDrive/football_detection/ball.mp4: 384x640 (no detections), 29.7ms\n",
            "video 1/1 (185/848) /Pandas/MyDrive/football_detection/ball.mp4: 384x640 (no detections), 30.2ms\n",
            "video 1/1 (186/848) /Pandas/MyDrive/football_detection/ball.mp4: 384x640 (no detections), 29.9ms\n",
            "video 1/1 (187/848) /Pandas/MyDrive/football_detection/ball.mp4: 384x640 (no detections), 30.7ms\n",
            "video 1/1 (188/848) /Pandas/MyDrive/football_detection/ball.mp4: 384x640 (no detections), 30.2ms\n",
            "video 1/1 (189/848) /Pandas/MyDrive/football_detection/ball.mp4: 384x640 (no detections), 30.9ms\n",
            "video 1/1 (190/848) /Pandas/MyDrive/football_detection/ball.mp4: 384x640 (no detections), 31.1ms\n",
            "video 1/1 (191/848) /Pandas/MyDrive/football_detection/ball.mp4: 384x640 (no detections), 31.0ms\n",
            "video 1/1 (192/848) /Pandas/MyDrive/football_detection/ball.mp4: 384x640 (no detections), 31.4ms\n",
            "video 1/1 (193/848) /Pandas/MyDrive/football_detection/ball.mp4: 384x640 (no detections), 31.2ms\n",
            "video 1/1 (194/848) /Pandas/MyDrive/football_detection/ball.mp4: 384x640 (no detections), 31.3ms\n",
            "video 1/1 (195/848) /Pandas/MyDrive/football_detection/ball.mp4: 384x640 (no detections), 30.9ms\n",
            "video 1/1 (196/848) /Pandas/MyDrive/football_detection/ball.mp4: 384x640 (no detections), 31.3ms\n",
            "video 1/1 (197/848) /Pandas/MyDrive/football_detection/ball.mp4: 384x640 (no detections), 30.2ms\n",
            "video 1/1 (198/848) /Pandas/MyDrive/football_detection/ball.mp4: 384x640 (no detections), 30.4ms\n",
            "video 1/1 (199/848) /Pandas/MyDrive/football_detection/ball.mp4: 384x640 (no detections), 30.4ms\n",
            "video 1/1 (200/848) /Pandas/MyDrive/football_detection/ball.mp4: 384x640 (no detections), 30.1ms\n",
            "video 1/1 (201/848) /Pandas/MyDrive/football_detection/ball.mp4: 384x640 (no detections), 30.3ms\n",
            "video 1/1 (202/848) /Pandas/MyDrive/football_detection/ball.mp4: 384x640 (no detections), 30.3ms\n",
            "video 1/1 (203/848) /Pandas/MyDrive/football_detection/ball.mp4: 384x640 (no detections), 29.9ms\n",
            "video 1/1 (204/848) /Pandas/MyDrive/football_detection/ball.mp4: 384x640 (no detections), 30.2ms\n",
            "video 1/1 (205/848) /Pandas/MyDrive/football_detection/ball.mp4: 384x640 1 sports ball, 29.7ms\n",
            "video 1/1 (206/848) /Pandas/MyDrive/football_detection/ball.mp4: 384x640 1 sports ball, 29.5ms\n",
            "video 1/1 (207/848) /Pandas/MyDrive/football_detection/ball.mp4: 384x640 (no detections), 30.4ms\n",
            "video 1/1 (208/848) /Pandas/MyDrive/football_detection/ball.mp4: 384x640 (no detections), 30.3ms\n",
            "video 1/1 (209/848) /Pandas/MyDrive/football_detection/ball.mp4: 384x640 (no detections), 29.7ms\n",
            "video 1/1 (210/848) /Pandas/MyDrive/football_detection/ball.mp4: 384x640 (no detections), 30.3ms\n",
            "video 1/1 (211/848) /Pandas/MyDrive/football_detection/ball.mp4: 384x640 (no detections), 30.4ms\n",
            "video 1/1 (212/848) /Pandas/MyDrive/football_detection/ball.mp4: 384x640 (no detections), 29.6ms\n",
            "video 1/1 (213/848) /Pandas/MyDrive/football_detection/ball.mp4: 384x640 (no detections), 30.3ms\n",
            "video 1/1 (214/848) /Pandas/MyDrive/football_detection/ball.mp4: 384x640 (no detections), 30.8ms\n",
            "video 1/1 (215/848) /Pandas/MyDrive/football_detection/ball.mp4: 384x640 1 sports ball, 30.2ms\n",
            "video 1/1 (216/848) /Pandas/MyDrive/football_detection/ball.mp4: 384x640 1 sports ball, 29.8ms\n",
            "video 1/1 (217/848) /Pandas/MyDrive/football_detection/ball.mp4: 384x640 (no detections), 29.9ms\n",
            "video 1/1 (218/848) /Pandas/MyDrive/football_detection/ball.mp4: 384x640 (no detections), 29.7ms\n",
            "video 1/1 (219/848) /Pandas/MyDrive/football_detection/ball.mp4: 384x640 (no detections), 29.6ms\n",
            "video 1/1 (220/848) /Pandas/MyDrive/football_detection/ball.mp4: 384x640 (no detections), 29.4ms\n",
            "video 1/1 (221/848) /Pandas/MyDrive/football_detection/ball.mp4: 384x640 1 sports ball, 29.9ms\n",
            "video 1/1 (222/848) /Pandas/MyDrive/football_detection/ball.mp4: 384x640 1 sports ball, 29.8ms\n",
            "video 1/1 (223/848) /Pandas/MyDrive/football_detection/ball.mp4: 384x640 1 sports ball, 29.4ms\n",
            "video 1/1 (224/848) /Pandas/MyDrive/football_detection/ball.mp4: 384x640 1 sports ball, 29.9ms\n",
            "video 1/1 (225/848) /Pandas/MyDrive/football_detection/ball.mp4: 384x640 1 sports ball, 29.8ms\n",
            "video 1/1 (226/848) /Pandas/MyDrive/football_detection/ball.mp4: 384x640 1 sports ball, 29.9ms\n",
            "video 1/1 (227/848) /Pandas/MyDrive/football_detection/ball.mp4: 384x640 1 sports ball, 29.9ms\n",
            "video 1/1 (228/848) /Pandas/MyDrive/football_detection/ball.mp4: 384x640 1 sports ball, 29.2ms\n",
            "video 1/1 (229/848) /Pandas/MyDrive/football_detection/ball.mp4: 384x640 1 sports ball, 29.3ms\n",
            "video 1/1 (230/848) /Pandas/MyDrive/football_detection/ball.mp4: 384x640 1 sports ball, 30.8ms\n",
            "video 1/1 (231/848) /Pandas/MyDrive/football_detection/ball.mp4: 384x640 1 sports ball, 31.0ms\n",
            "video 1/1 (232/848) /Pandas/MyDrive/football_detection/ball.mp4: 384x640 1 sports ball, 30.3ms\n",
            "video 1/1 (233/848) /Pandas/MyDrive/football_detection/ball.mp4: 384x640 1 sports ball, 30.6ms\n",
            "video 1/1 (234/848) /Pandas/MyDrive/football_detection/ball.mp4: 384x640 1 sports ball, 32.7ms\n",
            "video 1/1 (235/848) /Pandas/MyDrive/football_detection/ball.mp4: 384x640 1 sports ball, 30.2ms\n",
            "video 1/1 (236/848) /Pandas/MyDrive/football_detection/ball.mp4: 384x640 1 sports ball, 30.8ms\n",
            "video 1/1 (237/848) /Pandas/MyDrive/football_detection/ball.mp4: 384x640 1 sports ball, 30.2ms\n",
            "video 1/1 (238/848) /Pandas/MyDrive/football_detection/ball.mp4: 384x640 1 sports ball, 30.7ms\n",
            "video 1/1 (239/848) /Pandas/MyDrive/football_detection/ball.mp4: 384x640 1 sports ball, 30.4ms\n",
            "video 1/1 (240/848) /Pandas/MyDrive/football_detection/ball.mp4: 384x640 (no detections), 30.7ms\n",
            "video 1/1 (241/848) /Pandas/MyDrive/football_detection/ball.mp4: 384x640 (no detections), 30.7ms\n",
            "video 1/1 (242/848) /Pandas/MyDrive/football_detection/ball.mp4: 384x640 (no detections), 34.1ms\n",
            "video 1/1 (243/848) /Pandas/MyDrive/football_detection/ball.mp4: 384x640 (no detections), 30.8ms\n",
            "video 1/1 (244/848) /Pandas/MyDrive/football_detection/ball.mp4: 384x640 (no detections), 30.8ms\n",
            "video 1/1 (245/848) /Pandas/MyDrive/football_detection/ball.mp4: 384x640 (no detections), 30.8ms\n",
            "video 1/1 (246/848) /Pandas/MyDrive/football_detection/ball.mp4: 384x640 (no detections), 30.7ms\n",
            "video 1/1 (247/848) /Pandas/MyDrive/football_detection/ball.mp4: 384x640 1 sports ball, 30.3ms\n",
            "video 1/1 (248/848) /Pandas/MyDrive/football_detection/ball.mp4: 384x640 (no detections), 30.7ms\n",
            "video 1/1 (249/848) /Pandas/MyDrive/football_detection/ball.mp4: 384x640 (no detections), 32.4ms\n",
            "video 1/1 (250/848) /Pandas/MyDrive/football_detection/ball.mp4: 384x640 1 sports ball, 33.2ms\n",
            "video 1/1 (251/848) /Pandas/MyDrive/football_detection/ball.mp4: 384x640 1 sports ball, 33.3ms\n",
            "video 1/1 (252/848) /Pandas/MyDrive/football_detection/ball.mp4: 384x640 1 sports ball, 33.6ms\n",
            "video 1/1 (253/848) /Pandas/MyDrive/football_detection/ball.mp4: 384x640 (no detections), 33.0ms\n",
            "video 1/1 (254/848) /Pandas/MyDrive/football_detection/ball.mp4: 384x640 (no detections), 33.6ms\n",
            "video 1/1 (255/848) /Pandas/MyDrive/football_detection/ball.mp4: 384x640 (no detections), 34.0ms\n",
            "video 1/1 (256/848) /Pandas/MyDrive/football_detection/ball.mp4: 384x640 (no detections), 34.2ms\n",
            "video 1/1 (257/848) /Pandas/MyDrive/football_detection/ball.mp4: 384x640 (no detections), 34.3ms\n",
            "video 1/1 (258/848) /Pandas/MyDrive/football_detection/ball.mp4: 384x640 (no detections), 34.4ms\n",
            "video 1/1 (259/848) /Pandas/MyDrive/football_detection/ball.mp4: 384x640 (no detections), 34.0ms\n",
            "video 1/1 (260/848) /Pandas/MyDrive/football_detection/ball.mp4: 384x640 (no detections), 35.4ms\n",
            "video 1/1 (261/848) /Pandas/MyDrive/football_detection/ball.mp4: 384x640 (no detections), 34.1ms\n",
            "video 1/1 (262/848) /Pandas/MyDrive/football_detection/ball.mp4: 384x640 (no detections), 35.3ms\n",
            "video 1/1 (263/848) /Pandas/MyDrive/football_detection/ball.mp4: 384x640 (no detections), 34.4ms\n",
            "video 1/1 (264/848) /Pandas/MyDrive/football_detection/ball.mp4: 384x640 (no detections), 35.4ms\n",
            "video 1/1 (265/848) /Pandas/MyDrive/football_detection/ball.mp4: 384x640 (no detections), 34.8ms\n",
            "video 1/1 (266/848) /Pandas/MyDrive/football_detection/ball.mp4: 384x640 (no detections), 36.0ms\n",
            "video 1/1 (267/848) /Pandas/MyDrive/football_detection/ball.mp4: 384x640 (no detections), 35.9ms\n",
            "video 1/1 (268/848) /Pandas/MyDrive/football_detection/ball.mp4: 384x640 (no detections), 36.1ms\n",
            "video 1/1 (269/848) /Pandas/MyDrive/football_detection/ball.mp4: 384x640 (no detections), 36.9ms\n",
            "video 1/1 (270/848) /Pandas/MyDrive/football_detection/ball.mp4: 384x640 (no detections), 36.8ms\n",
            "video 1/1 (271/848) /Pandas/MyDrive/football_detection/ball.mp4: 384x640 (no detections), 35.8ms\n",
            "video 1/1 (272/848) /Pandas/MyDrive/football_detection/ball.mp4: 384x640 (no detections), 36.8ms\n",
            "video 1/1 (273/848) /Pandas/MyDrive/football_detection/ball.mp4: 384x640 (no detections), 36.1ms\n",
            "video 1/1 (274/848) /Pandas/MyDrive/football_detection/ball.mp4: 384x640 (no detections), 36.1ms\n",
            "video 1/1 (275/848) /Pandas/MyDrive/football_detection/ball.mp4: 384x640 (no detections), 36.1ms\n",
            "video 1/1 (276/848) /Pandas/MyDrive/football_detection/ball.mp4: 384x640 (no detections), 37.5ms\n",
            "video 1/1 (277/848) /Pandas/MyDrive/football_detection/ball.mp4: 384x640 (no detections), 36.7ms\n",
            "video 1/1 (278/848) /Pandas/MyDrive/football_detection/ball.mp4: 384x640 (no detections), 36.5ms\n",
            "video 1/1 (279/848) /Pandas/MyDrive/football_detection/ball.mp4: 384x640 (no detections), 36.4ms\n",
            "video 1/1 (280/848) /Pandas/MyDrive/football_detection/ball.mp4: 384x640 (no detections), 36.7ms\n",
            "video 1/1 (281/848) /Pandas/MyDrive/football_detection/ball.mp4: 384x640 (no detections), 36.6ms\n",
            "video 1/1 (282/848) /Pandas/MyDrive/football_detection/ball.mp4: 384x640 (no detections), 38.4ms\n",
            "video 1/1 (283/848) /Pandas/MyDrive/football_detection/ball.mp4: 384x640 (no detections), 37.0ms\n",
            "video 1/1 (284/848) /Pandas/MyDrive/football_detection/ball.mp4: 384x640 (no detections), 37.0ms\n",
            "video 1/1 (285/848) /Pandas/MyDrive/football_detection/ball.mp4: 384x640 (no detections), 37.2ms\n",
            "video 1/1 (286/848) /Pandas/MyDrive/football_detection/ball.mp4: 384x640 (no detections), 37.7ms\n",
            "video 1/1 (287/848) /Pandas/MyDrive/football_detection/ball.mp4: 384x640 (no detections), 37.7ms\n",
            "video 1/1 (288/848) /Pandas/MyDrive/football_detection/ball.mp4: 384x640 (no detections), 36.3ms\n",
            "video 1/1 (289/848) /Pandas/MyDrive/football_detection/ball.mp4: 384x640 (no detections), 34.2ms\n",
            "video 1/1 (290/848) /Pandas/MyDrive/football_detection/ball.mp4: 384x640 (no detections), 34.1ms\n",
            "video 1/1 (291/848) /Pandas/MyDrive/football_detection/ball.mp4: 384x640 (no detections), 33.7ms\n",
            "video 1/1 (292/848) /Pandas/MyDrive/football_detection/ball.mp4: 384x640 1 sports ball, 33.7ms\n",
            "video 1/1 (293/848) /Pandas/MyDrive/football_detection/ball.mp4: 384x640 (no detections), 33.7ms\n",
            "video 1/1 (294/848) /Pandas/MyDrive/football_detection/ball.mp4: 384x640 (no detections), 30.4ms\n",
            "video 1/1 (295/848) /Pandas/MyDrive/football_detection/ball.mp4: 384x640 (no detections), 30.1ms\n",
            "video 1/1 (296/848) /Pandas/MyDrive/football_detection/ball.mp4: 384x640 (no detections), 30.4ms\n",
            "video 1/1 (297/848) /Pandas/MyDrive/football_detection/ball.mp4: 384x640 (no detections), 30.5ms\n",
            "video 1/1 (298/848) /Pandas/MyDrive/football_detection/ball.mp4: 384x640 (no detections), 30.8ms\n",
            "video 1/1 (299/848) /Pandas/MyDrive/football_detection/ball.mp4: 384x640 (no detections), 30.1ms\n",
            "video 1/1 (300/848) /Pandas/MyDrive/football_detection/ball.mp4: 384x640 (no detections), 30.1ms\n",
            "video 1/1 (301/848) /Pandas/MyDrive/football_detection/ball.mp4: 384x640 (no detections), 30.4ms\n",
            "video 1/1 (302/848) /Pandas/MyDrive/football_detection/ball.mp4: 384x640 (no detections), 30.6ms\n",
            "video 1/1 (303/848) /Pandas/MyDrive/football_detection/ball.mp4: 384x640 (no detections), 30.2ms\n",
            "video 1/1 (304/848) /Pandas/MyDrive/football_detection/ball.mp4: 384x640 (no detections), 30.3ms\n",
            "video 1/1 (305/848) /Pandas/MyDrive/football_detection/ball.mp4: 384x640 (no detections), 30.5ms\n",
            "video 1/1 (306/848) /Pandas/MyDrive/football_detection/ball.mp4: 384x640 (no detections), 30.5ms\n",
            "video 1/1 (307/848) /Pandas/MyDrive/football_detection/ball.mp4: 384x640 (no detections), 30.6ms\n",
            "video 1/1 (308/848) /Pandas/MyDrive/football_detection/ball.mp4: 384x640 (no detections), 30.6ms\n",
            "video 1/1 (309/848) /Pandas/MyDrive/football_detection/ball.mp4: 384x640 (no detections), 30.0ms\n",
            "video 1/1 (310/848) /Pandas/MyDrive/football_detection/ball.mp4: 384x640 (no detections), 30.0ms\n",
            "video 1/1 (311/848) /Pandas/MyDrive/football_detection/ball.mp4: 384x640 (no detections), 30.8ms\n",
            "video 1/1 (312/848) /Pandas/MyDrive/football_detection/ball.mp4: 384x640 (no detections), 30.4ms\n",
            "video 1/1 (313/848) /Pandas/MyDrive/football_detection/ball.mp4: 384x640 (no detections), 30.2ms\n",
            "video 1/1 (314/848) /Pandas/MyDrive/football_detection/ball.mp4: 384x640 (no detections), 30.8ms\n",
            "video 1/1 (315/848) /Pandas/MyDrive/football_detection/ball.mp4: 384x640 (no detections), 30.0ms\n",
            "video 1/1 (316/848) /Pandas/MyDrive/football_detection/ball.mp4: 384x640 (no detections), 30.6ms\n",
            "video 1/1 (317/848) /Pandas/MyDrive/football_detection/ball.mp4: 384x640 (no detections), 30.6ms\n",
            "video 1/1 (318/848) /Pandas/MyDrive/football_detection/ball.mp4: 384x640 1 sports ball, 30.4ms\n",
            "video 1/1 (319/848) /Pandas/MyDrive/football_detection/ball.mp4: 384x640 (no detections), 30.5ms\n",
            "video 1/1 (320/848) /Pandas/MyDrive/football_detection/ball.mp4: 384x640 (no detections), 30.6ms\n",
            "video 1/1 (321/848) /Pandas/MyDrive/football_detection/ball.mp4: 384x640 (no detections), 30.7ms\n",
            "video 1/1 (322/848) /Pandas/MyDrive/football_detection/ball.mp4: 384x640 (no detections), 30.6ms\n",
            "video 1/1 (323/848) /Pandas/MyDrive/football_detection/ball.mp4: 384x640 (no detections), 30.5ms\n",
            "video 1/1 (324/848) /Pandas/MyDrive/football_detection/ball.mp4: 384x640 (no detections), 30.5ms\n",
            "video 1/1 (325/848) /Pandas/MyDrive/football_detection/ball.mp4: 384x640 (no detections), 30.5ms\n",
            "video 1/1 (326/848) /Pandas/MyDrive/football_detection/ball.mp4: 384x640 (no detections), 30.5ms\n",
            "video 1/1 (327/848) /Pandas/MyDrive/football_detection/ball.mp4: 384x640 (no detections), 30.7ms\n",
            "video 1/1 (328/848) /Pandas/MyDrive/football_detection/ball.mp4: 384x640 (no detections), 30.7ms\n",
            "video 1/1 (329/848) /Pandas/MyDrive/football_detection/ball.mp4: 384x640 (no detections), 30.3ms\n",
            "video 1/1 (330/848) /Pandas/MyDrive/football_detection/ball.mp4: 384x640 (no detections), 30.2ms\n",
            "video 1/1 (331/848) /Pandas/MyDrive/football_detection/ball.mp4: 384x640 (no detections), 30.5ms\n",
            "video 1/1 (332/848) /Pandas/MyDrive/football_detection/ball.mp4: 384x640 (no detections), 30.0ms\n",
            "video 1/1 (333/848) /Pandas/MyDrive/football_detection/ball.mp4: 384x640 (no detections), 30.5ms\n",
            "video 1/1 (334/848) /Pandas/MyDrive/football_detection/ball.mp4: 384x640 (no detections), 30.5ms\n",
            "video 1/1 (335/848) /Pandas/MyDrive/football_detection/ball.mp4: 384x640 (no detections), 30.7ms\n",
            "video 1/1 (336/848) /Pandas/MyDrive/football_detection/ball.mp4: 384x640 (no detections), 30.0ms\n",
            "video 1/1 (337/848) /Pandas/MyDrive/football_detection/ball.mp4: 384x640 (no detections), 30.5ms\n",
            "video 1/1 (338/848) /Pandas/MyDrive/football_detection/ball.mp4: 384x640 (no detections), 30.7ms\n",
            "video 1/1 (339/848) /Pandas/MyDrive/football_detection/ball.mp4: 384x640 (no detections), 30.2ms\n",
            "video 1/1 (340/848) /Pandas/MyDrive/football_detection/ball.mp4: 384x640 (no detections), 30.4ms\n",
            "video 1/1 (341/848) /Pandas/MyDrive/football_detection/ball.mp4: 384x640 (no detections), 30.5ms\n",
            "video 1/1 (342/848) /Pandas/MyDrive/football_detection/ball.mp4: 384x640 (no detections), 30.8ms\n",
            "video 1/1 (343/848) /Pandas/MyDrive/football_detection/ball.mp4: 384x640 (no detections), 30.6ms\n",
            "video 1/1 (344/848) /Pandas/MyDrive/football_detection/ball.mp4: 384x640 (no detections), 30.3ms\n",
            "video 1/1 (345/848) /Pandas/MyDrive/football_detection/ball.mp4: 384x640 (no detections), 30.5ms\n",
            "video 1/1 (346/848) /Pandas/MyDrive/football_detection/ball.mp4: 384x640 (no detections), 30.7ms\n",
            "video 1/1 (347/848) /Pandas/MyDrive/football_detection/ball.mp4: 384x640 (no detections), 30.0ms\n",
            "video 1/1 (348/848) /Pandas/MyDrive/football_detection/ball.mp4: 384x640 (no detections), 30.7ms\n",
            "video 1/1 (349/848) /Pandas/MyDrive/football_detection/ball.mp4: 384x640 (no detections), 30.7ms\n",
            "video 1/1 (350/848) /Pandas/MyDrive/football_detection/ball.mp4: 384x640 1 sports ball, 29.9ms\n",
            "video 1/1 (351/848) /Pandas/MyDrive/football_detection/ball.mp4: 384x640 (no detections), 30.3ms\n",
            "video 1/1 (352/848) /Pandas/MyDrive/football_detection/ball.mp4: 384x640 (no detections), 30.7ms\n",
            "video 1/1 (353/848) /Pandas/MyDrive/football_detection/ball.mp4: 384x640 (no detections), 30.7ms\n",
            "video 1/1 (354/848) /Pandas/MyDrive/football_detection/ball.mp4: 384x640 (no detections), 30.7ms\n",
            "video 1/1 (355/848) /Pandas/MyDrive/football_detection/ball.mp4: 384x640 (no detections), 30.9ms\n",
            "video 1/1 (356/848) /Pandas/MyDrive/football_detection/ball.mp4: 384x640 (no detections), 30.8ms\n",
            "video 1/1 (357/848) /Pandas/MyDrive/football_detection/ball.mp4: 384x640 (no detections), 30.9ms\n",
            "video 1/1 (358/848) /Pandas/MyDrive/football_detection/ball.mp4: 384x640 (no detections), 31.0ms\n",
            "video 1/1 (359/848) /Pandas/MyDrive/football_detection/ball.mp4: 384x640 (no detections), 30.8ms\n",
            "video 1/1 (360/848) /Pandas/MyDrive/football_detection/ball.mp4: 384x640 (no detections), 30.9ms\n",
            "video 1/1 (361/848) /Pandas/MyDrive/football_detection/ball.mp4: 384x640 (no detections), 30.9ms\n",
            "video 1/1 (362/848) /Pandas/MyDrive/football_detection/ball.mp4: 384x640 (no detections), 31.6ms\n",
            "video 1/1 (363/848) /Pandas/MyDrive/football_detection/ball.mp4: 384x640 (no detections), 30.8ms\n",
            "video 1/1 (364/848) /Pandas/MyDrive/football_detection/ball.mp4: 384x640 (no detections), 30.1ms\n",
            "video 1/1 (365/848) /Pandas/MyDrive/football_detection/ball.mp4: 384x640 (no detections), 30.1ms\n",
            "video 1/1 (366/848) /Pandas/MyDrive/football_detection/ball.mp4: 384x640 (no detections), 30.3ms\n",
            "video 1/1 (367/848) /Pandas/MyDrive/football_detection/ball.mp4: 384x640 (no detections), 30.2ms\n",
            "video 1/1 (368/848) /Pandas/MyDrive/football_detection/ball.mp4: 384x640 (no detections), 30.3ms\n",
            "video 1/1 (369/848) /Pandas/MyDrive/football_detection/ball.mp4: 384x640 (no detections), 30.7ms\n",
            "video 1/1 (370/848) /Pandas/MyDrive/football_detection/ball.mp4: 384x640 (no detections), 30.8ms\n",
            "video 1/1 (371/848) /Pandas/MyDrive/football_detection/ball.mp4: 384x640 (no detections), 30.8ms\n",
            "video 1/1 (372/848) /Pandas/MyDrive/football_detection/ball.mp4: 384x640 (no detections), 30.8ms\n",
            "video 1/1 (373/848) /Pandas/MyDrive/football_detection/ball.mp4: 384x640 (no detections), 30.9ms\n",
            "video 1/1 (374/848) /Pandas/MyDrive/football_detection/ball.mp4: 384x640 (no detections), 30.8ms\n",
            "video 1/1 (375/848) /Pandas/MyDrive/football_detection/ball.mp4: 384x640 (no detections), 30.8ms\n",
            "video 1/1 (376/848) /Pandas/MyDrive/football_detection/ball.mp4: 384x640 (no detections), 30.8ms\n",
            "video 1/1 (377/848) /Pandas/MyDrive/football_detection/ball.mp4: 384x640 1 sports ball, 30.6ms\n",
            "video 1/1 (378/848) /Pandas/MyDrive/football_detection/ball.mp4: 384x640 1 sports ball, 30.6ms\n",
            "video 1/1 (379/848) /Pandas/MyDrive/football_detection/ball.mp4: 384x640 2 sports balls, 29.9ms\n",
            "video 1/1 (380/848) /Pandas/MyDrive/football_detection/ball.mp4: 384x640 3 sports balls, 30.3ms\n",
            "video 1/1 (381/848) /Pandas/MyDrive/football_detection/ball.mp4: 384x640 2 sports balls, 30.5ms\n",
            "video 1/1 (382/848) /Pandas/MyDrive/football_detection/ball.mp4: 384x640 2 sports balls, 30.2ms\n",
            "video 1/1 (383/848) /Pandas/MyDrive/football_detection/ball.mp4: 384x640 2 sports balls, 29.8ms\n",
            "video 1/1 (384/848) /Pandas/MyDrive/football_detection/ball.mp4: 384x640 1 sports ball, 29.8ms\n",
            "video 1/1 (385/848) /Pandas/MyDrive/football_detection/ball.mp4: 384x640 1 sports ball, 30.4ms\n",
            "video 1/1 (386/848) /Pandas/MyDrive/football_detection/ball.mp4: 384x640 1 sports ball, 30.4ms\n",
            "video 1/1 (387/848) /Pandas/MyDrive/football_detection/ball.mp4: 384x640 1 sports ball, 29.8ms\n",
            "video 1/1 (388/848) /Pandas/MyDrive/football_detection/ball.mp4: 384x640 1 sports ball, 29.3ms\n",
            "video 1/1 (389/848) /Pandas/MyDrive/football_detection/ball.mp4: 384x640 1 sports ball, 30.2ms\n",
            "video 1/1 (390/848) /Pandas/MyDrive/football_detection/ball.mp4: 384x640 1 sports ball, 30.7ms\n",
            "video 1/1 (391/848) /Pandas/MyDrive/football_detection/ball.mp4: 384x640 2 sports balls, 29.9ms\n",
            "video 1/1 (392/848) /Pandas/MyDrive/football_detection/ball.mp4: 384x640 2 sports balls, 29.8ms\n",
            "video 1/1 (393/848) /Pandas/MyDrive/football_detection/ball.mp4: 384x640 2 sports balls, 29.6ms\n",
            "video 1/1 (394/848) /Pandas/MyDrive/football_detection/ball.mp4: 384x640 2 sports balls, 30.5ms\n",
            "video 1/1 (395/848) /Pandas/MyDrive/football_detection/ball.mp4: 384x640 2 sports balls, 29.9ms\n",
            "video 1/1 (396/848) /Pandas/MyDrive/football_detection/ball.mp4: 384x640 2 sports balls, 29.5ms\n",
            "video 1/1 (397/848) /Pandas/MyDrive/football_detection/ball.mp4: 384x640 2 sports balls, 30.6ms\n",
            "video 1/1 (398/848) /Pandas/MyDrive/football_detection/ball.mp4: 384x640 2 sports balls, 30.1ms\n",
            "video 1/1 (399/848) /Pandas/MyDrive/football_detection/ball.mp4: 384x640 1 sports ball, 29.7ms\n",
            "video 1/1 (400/848) /Pandas/MyDrive/football_detection/ball.mp4: 384x640 1 sports ball, 30.4ms\n",
            "video 1/1 (401/848) /Pandas/MyDrive/football_detection/ball.mp4: 384x640 1 sports ball, 30.3ms\n",
            "video 1/1 (402/848) /Pandas/MyDrive/football_detection/ball.mp4: 384x640 1 sports ball, 29.9ms\n",
            "video 1/1 (403/848) /Pandas/MyDrive/football_detection/ball.mp4: 384x640 1 sports ball, 31.3ms\n",
            "video 1/1 (404/848) /Pandas/MyDrive/football_detection/ball.mp4: 384x640 1 sports ball, 31.4ms\n",
            "video 1/1 (405/848) /Pandas/MyDrive/football_detection/ball.mp4: 384x640 1 sports ball, 31.1ms\n",
            "video 1/1 (406/848) /Pandas/MyDrive/football_detection/ball.mp4: 384x640 1 sports ball, 30.9ms\n",
            "video 1/1 (407/848) /Pandas/MyDrive/football_detection/ball.mp4: 384x640 (no detections), 31.0ms\n",
            "video 1/1 (408/848) /Pandas/MyDrive/football_detection/ball.mp4: 384x640 1 sports ball, 30.7ms\n",
            "video 1/1 (409/848) /Pandas/MyDrive/football_detection/ball.mp4: 384x640 1 sports ball, 30.0ms\n",
            "video 1/1 (410/848) /Pandas/MyDrive/football_detection/ball.mp4: 384x640 1 sports ball, 30.4ms\n",
            "video 1/1 (411/848) /Pandas/MyDrive/football_detection/ball.mp4: 384x640 1 sports ball, 30.3ms\n",
            "video 1/1 (412/848) /Pandas/MyDrive/football_detection/ball.mp4: 384x640 1 sports ball, 30.3ms\n",
            "video 1/1 (413/848) /Pandas/MyDrive/football_detection/ball.mp4: 384x640 1 sports ball, 30.8ms\n",
            "video 1/1 (414/848) /Pandas/MyDrive/football_detection/ball.mp4: 384x640 (no detections), 29.9ms\n",
            "video 1/1 (415/848) /Pandas/MyDrive/football_detection/ball.mp4: 384x640 1 sports ball, 30.8ms\n",
            "video 1/1 (416/848) /Pandas/MyDrive/football_detection/ball.mp4: 384x640 (no detections), 30.0ms\n",
            "video 1/1 (417/848) /Pandas/MyDrive/football_detection/ball.mp4: 384x640 1 sports ball, 30.5ms\n",
            "video 1/1 (418/848) /Pandas/MyDrive/football_detection/ball.mp4: 384x640 (no detections), 30.1ms\n",
            "video 1/1 (419/848) /Pandas/MyDrive/football_detection/ball.mp4: 384x640 (no detections), 30.7ms\n",
            "video 1/1 (420/848) /Pandas/MyDrive/football_detection/ball.mp4: 384x640 (no detections), 30.5ms\n",
            "video 1/1 (421/848) /Pandas/MyDrive/football_detection/ball.mp4: 384x640 (no detections), 30.6ms\n",
            "video 1/1 (422/848) /Pandas/MyDrive/football_detection/ball.mp4: 384x640 (no detections), 30.4ms\n",
            "video 1/1 (423/848) /Pandas/MyDrive/football_detection/ball.mp4: 384x640 (no detections), 30.6ms\n",
            "video 1/1 (424/848) /Pandas/MyDrive/football_detection/ball.mp4: 384x640 1 sports ball, 30.1ms\n",
            "video 1/1 (425/848) /Pandas/MyDrive/football_detection/ball.mp4: 384x640 1 sports ball, 30.4ms\n",
            "video 1/1 (426/848) /Pandas/MyDrive/football_detection/ball.mp4: 384x640 1 sports ball, 29.7ms\n",
            "video 1/1 (427/848) /Pandas/MyDrive/football_detection/ball.mp4: 384x640 1 sports ball, 30.7ms\n",
            "video 1/1 (428/848) /Pandas/MyDrive/football_detection/ball.mp4: 384x640 (no detections), 29.7ms\n",
            "video 1/1 (429/848) /Pandas/MyDrive/football_detection/ball.mp4: 384x640 1 sports ball, 30.6ms\n",
            "video 1/1 (430/848) /Pandas/MyDrive/football_detection/ball.mp4: 384x640 (no detections), 29.6ms\n",
            "video 1/1 (431/848) /Pandas/MyDrive/football_detection/ball.mp4: 384x640 (no detections), 30.4ms\n",
            "video 1/1 (432/848) /Pandas/MyDrive/football_detection/ball.mp4: 384x640 (no detections), 29.9ms\n",
            "video 1/1 (433/848) /Pandas/MyDrive/football_detection/ball.mp4: 384x640 1 sports ball, 30.6ms\n",
            "video 1/1 (434/848) /Pandas/MyDrive/football_detection/ball.mp4: 384x640 (no detections), 30.3ms\n",
            "video 1/1 (435/848) /Pandas/MyDrive/football_detection/ball.mp4: 384x640 2 sports balls, 93.2ms\n",
            "video 1/1 (436/848) /Pandas/MyDrive/football_detection/ball.mp4: 384x640 1 sports ball, 61.8ms\n",
            "video 1/1 (437/848) /Pandas/MyDrive/football_detection/ball.mp4: 384x640 2 sports balls, 29.8ms\n",
            "video 1/1 (438/848) /Pandas/MyDrive/football_detection/ball.mp4: 384x640 1 sports ball, 29.9ms\n",
            "video 1/1 (439/848) /Pandas/MyDrive/football_detection/ball.mp4: 384x640 1 sports ball, 29.9ms\n",
            "video 1/1 (440/848) /Pandas/MyDrive/football_detection/ball.mp4: 384x640 1 sports ball, 29.9ms\n",
            "video 1/1 (441/848) /Pandas/MyDrive/football_detection/ball.mp4: 384x640 2 sports balls, 84.1ms\n",
            "video 1/1 (442/848) /Pandas/MyDrive/football_detection/ball.mp4: 384x640 2 sports balls, 84.5ms\n",
            "video 1/1 (443/848) /Pandas/MyDrive/football_detection/ball.mp4: 384x640 2 sports balls, 43.0ms\n",
            "video 1/1 (444/848) /Pandas/MyDrive/football_detection/ball.mp4: 384x640 2 sports balls, 43.0ms\n",
            "video 1/1 (445/848) /Pandas/MyDrive/football_detection/ball.mp4: 384x640 1 sports ball, 40.4ms\n",
            "video 1/1 (446/848) /Pandas/MyDrive/football_detection/ball.mp4: 384x640 2 sports balls, 40.3ms\n",
            "video 1/1 (447/848) /Pandas/MyDrive/football_detection/ball.mp4: 384x640 2 sports balls, 40.5ms\n",
            "video 1/1 (448/848) /Pandas/MyDrive/football_detection/ball.mp4: 384x640 2 sports balls, 40.4ms\n",
            "video 1/1 (449/848) /Pandas/MyDrive/football_detection/ball.mp4: 384x640 1 sports ball, 40.5ms\n",
            "video 1/1 (450/848) /Pandas/MyDrive/football_detection/ball.mp4: 384x640 1 sports ball, 40.4ms\n",
            "video 1/1 (451/848) /Pandas/MyDrive/football_detection/ball.mp4: 384x640 1 sports ball, 40.4ms\n",
            "video 1/1 (452/848) /Pandas/MyDrive/football_detection/ball.mp4: 384x640 2 sports balls, 40.4ms\n",
            "video 1/1 (453/848) /Pandas/MyDrive/football_detection/ball.mp4: 384x640 2 sports balls, 40.4ms\n",
            "video 1/1 (454/848) /Pandas/MyDrive/football_detection/ball.mp4: 384x640 2 sports balls, 40.4ms\n",
            "video 1/1 (455/848) /Pandas/MyDrive/football_detection/ball.mp4: 384x640 2 sports balls, 40.4ms\n",
            "video 1/1 (456/848) /Pandas/MyDrive/football_detection/ball.mp4: 384x640 1 sports ball, 40.3ms\n",
            "video 1/1 (457/848) /Pandas/MyDrive/football_detection/ball.mp4: 384x640 1 sports ball, 38.1ms\n",
            "video 1/1 (458/848) /Pandas/MyDrive/football_detection/ball.mp4: 384x640 (no detections), 37.3ms\n",
            "video 1/1 (459/848) /Pandas/MyDrive/football_detection/ball.mp4: 384x640 1 sports ball, 37.3ms\n",
            "video 1/1 (460/848) /Pandas/MyDrive/football_detection/ball.mp4: 384x640 1 sports ball, 37.3ms\n",
            "video 1/1 (461/848) /Pandas/MyDrive/football_detection/ball.mp4: 384x640 1 sports ball, 37.4ms\n",
            "video 1/1 (462/848) /Pandas/MyDrive/football_detection/ball.mp4: 384x640 1 sports ball, 37.3ms\n",
            "video 1/1 (463/848) /Pandas/MyDrive/football_detection/ball.mp4: 384x640 1 sports ball, 37.4ms\n",
            "video 1/1 (464/848) /Pandas/MyDrive/football_detection/ball.mp4: 384x640 1 sports ball, 37.3ms\n",
            "video 1/1 (465/848) /Pandas/MyDrive/football_detection/ball.mp4: 384x640 1 sports ball, 37.3ms\n",
            "video 1/1 (466/848) /Pandas/MyDrive/football_detection/ball.mp4: 384x640 1 sports ball, 37.3ms\n",
            "video 1/1 (467/848) /Pandas/MyDrive/football_detection/ball.mp4: 384x640 1 sports ball, 38.0ms\n",
            "video 1/1 (468/848) /Pandas/MyDrive/football_detection/ball.mp4: 384x640 1 sports ball, 37.4ms\n",
            "video 1/1 (469/848) /Pandas/MyDrive/football_detection/ball.mp4: 384x640 1 sports ball, 37.3ms\n",
            "video 1/1 (470/848) /Pandas/MyDrive/football_detection/ball.mp4: 384x640 1 sports ball, 37.3ms\n",
            "video 1/1 (471/848) /Pandas/MyDrive/football_detection/ball.mp4: 384x640 1 sports ball, 37.3ms\n",
            "video 1/1 (472/848) /Pandas/MyDrive/football_detection/ball.mp4: 384x640 1 sports ball, 37.8ms\n",
            "video 1/1 (473/848) /Pandas/MyDrive/football_detection/ball.mp4: 384x640 1 sports ball, 37.3ms\n",
            "video 1/1 (474/848) /Pandas/MyDrive/football_detection/ball.mp4: 384x640 1 sports ball, 37.4ms\n",
            "video 1/1 (475/848) /Pandas/MyDrive/football_detection/ball.mp4: 384x640 (no detections), 39.6ms\n",
            "video 1/1 (476/848) /Pandas/MyDrive/football_detection/ball.mp4: 384x640 (no detections), 38.9ms\n",
            "video 1/1 (477/848) /Pandas/MyDrive/football_detection/ball.mp4: 384x640 (no detections), 38.7ms\n",
            "video 1/1 (478/848) /Pandas/MyDrive/football_detection/ball.mp4: 384x640 (no detections), 38.6ms\n",
            "video 1/1 (479/848) /Pandas/MyDrive/football_detection/ball.mp4: 384x640 (no detections), 39.9ms\n",
            "video 1/1 (480/848) /Pandas/MyDrive/football_detection/ball.mp4: 384x640 (no detections), 39.4ms\n",
            "video 1/1 (481/848) /Pandas/MyDrive/football_detection/ball.mp4: 384x640 (no detections), 39.0ms\n",
            "video 1/1 (482/848) /Pandas/MyDrive/football_detection/ball.mp4: 384x640 (no detections), 39.0ms\n",
            "video 1/1 (483/848) /Pandas/MyDrive/football_detection/ball.mp4: 384x640 (no detections), 39.0ms\n",
            "video 1/1 (484/848) /Pandas/MyDrive/football_detection/ball.mp4: 384x640 (no detections), 38.9ms\n",
            "video 1/1 (485/848) /Pandas/MyDrive/football_detection/ball.mp4: 384x640 (no detections), 39.0ms\n",
            "video 1/1 (486/848) /Pandas/MyDrive/football_detection/ball.mp4: 384x640 (no detections), 39.0ms\n",
            "video 1/1 (487/848) /Pandas/MyDrive/football_detection/ball.mp4: 384x640 (no detections), 39.0ms\n",
            "video 1/1 (488/848) /Pandas/MyDrive/football_detection/ball.mp4: 384x640 (no detections), 38.9ms\n",
            "video 1/1 (489/848) /Pandas/MyDrive/football_detection/ball.mp4: 384x640 (no detections), 39.0ms\n",
            "video 1/1 (490/848) /Pandas/MyDrive/football_detection/ball.mp4: 384x640 (no detections), 38.3ms\n",
            "video 1/1 (491/848) /Pandas/MyDrive/football_detection/ball.mp4: 384x640 (no detections), 38.1ms\n",
            "video 1/1 (492/848) /Pandas/MyDrive/football_detection/ball.mp4: 384x640 (no detections), 38.1ms\n",
            "video 1/1 (493/848) /Pandas/MyDrive/football_detection/ball.mp4: 384x640 (no detections), 37.3ms\n",
            "video 1/1 (494/848) /Pandas/MyDrive/football_detection/ball.mp4: 384x640 (no detections), 36.5ms\n",
            "video 1/1 (495/848) /Pandas/MyDrive/football_detection/ball.mp4: 384x640 (no detections), 35.9ms\n",
            "video 1/1 (496/848) /Pandas/MyDrive/football_detection/ball.mp4: 384x640 (no detections), 35.3ms\n",
            "video 1/1 (497/848) /Pandas/MyDrive/football_detection/ball.mp4: 384x640 (no detections), 34.4ms\n",
            "video 1/1 (498/848) /Pandas/MyDrive/football_detection/ball.mp4: 384x640 (no detections), 35.2ms\n",
            "video 1/1 (499/848) /Pandas/MyDrive/football_detection/ball.mp4: 384x640 (no detections), 34.8ms\n",
            "video 1/1 (500/848) /Pandas/MyDrive/football_detection/ball.mp4: 384x640 (no detections), 34.9ms\n",
            "video 1/1 (501/848) /Pandas/MyDrive/football_detection/ball.mp4: 384x640 (no detections), 30.9ms\n",
            "video 1/1 (502/848) /Pandas/MyDrive/football_detection/ball.mp4: 384x640 (no detections), 30.9ms\n",
            "video 1/1 (503/848) /Pandas/MyDrive/football_detection/ball.mp4: 384x640 (no detections), 31.6ms\n",
            "video 1/1 (504/848) /Pandas/MyDrive/football_detection/ball.mp4: 384x640 (no detections), 31.8ms\n",
            "video 1/1 (505/848) /Pandas/MyDrive/football_detection/ball.mp4: 384x640 (no detections), 31.7ms\n",
            "video 1/1 (506/848) /Pandas/MyDrive/football_detection/ball.mp4: 384x640 (no detections), 31.2ms\n",
            "video 1/1 (507/848) /Pandas/MyDrive/football_detection/ball.mp4: 384x640 (no detections), 30.6ms\n",
            "video 1/1 (508/848) /Pandas/MyDrive/football_detection/ball.mp4: 384x640 (no detections), 30.6ms\n",
            "video 1/1 (509/848) /Pandas/MyDrive/football_detection/ball.mp4: 384x640 (no detections), 30.4ms\n",
            "video 1/1 (510/848) /Pandas/MyDrive/football_detection/ball.mp4: 384x640 (no detections), 31.0ms\n",
            "video 1/1 (511/848) /Pandas/MyDrive/football_detection/ball.mp4: 384x640 (no detections), 30.4ms\n",
            "video 1/1 (512/848) /Pandas/MyDrive/football_detection/ball.mp4: 384x640 (no detections), 30.5ms\n",
            "video 1/1 (513/848) /Pandas/MyDrive/football_detection/ball.mp4: 384x640 (no detections), 29.9ms\n",
            "video 1/1 (514/848) /Pandas/MyDrive/football_detection/ball.mp4: 384x640 (no detections), 30.4ms\n",
            "video 1/1 (515/848) /Pandas/MyDrive/football_detection/ball.mp4: 384x640 (no detections), 31.2ms\n",
            "video 1/1 (516/848) /Pandas/MyDrive/football_detection/ball.mp4: 384x640 (no detections), 31.4ms\n",
            "video 1/1 (517/848) /Pandas/MyDrive/football_detection/ball.mp4: 384x640 (no detections), 31.5ms\n",
            "video 1/1 (518/848) /Pandas/MyDrive/football_detection/ball.mp4: 384x640 (no detections), 31.3ms\n",
            "video 1/1 (519/848) /Pandas/MyDrive/football_detection/ball.mp4: 384x640 (no detections), 31.2ms\n",
            "video 1/1 (520/848) /Pandas/MyDrive/football_detection/ball.mp4: 384x640 (no detections), 31.7ms\n",
            "video 1/1 (521/848) /Pandas/MyDrive/football_detection/ball.mp4: 384x640 (no detections), 30.9ms\n",
            "video 1/1 (522/848) /Pandas/MyDrive/football_detection/ball.mp4: 384x640 (no detections), 30.2ms\n",
            "video 1/1 (523/848) /Pandas/MyDrive/football_detection/ball.mp4: 384x640 (no detections), 30.9ms\n",
            "video 1/1 (524/848) /Pandas/MyDrive/football_detection/ball.mp4: 384x640 (no detections), 30.1ms\n",
            "video 1/1 (525/848) /Pandas/MyDrive/football_detection/ball.mp4: 384x640 (no detections), 30.5ms\n",
            "video 1/1 (526/848) /Pandas/MyDrive/football_detection/ball.mp4: 384x640 (no detections), 30.7ms\n",
            "video 1/1 (527/848) /Pandas/MyDrive/football_detection/ball.mp4: 384x640 (no detections), 30.7ms\n",
            "video 1/1 (528/848) /Pandas/MyDrive/football_detection/ball.mp4: 384x640 (no detections), 29.9ms\n",
            "video 1/1 (529/848) /Pandas/MyDrive/football_detection/ball.mp4: 384x640 (no detections), 30.6ms\n",
            "video 1/1 (530/848) /Pandas/MyDrive/football_detection/ball.mp4: 384x640 (no detections), 30.9ms\n",
            "video 1/1 (531/848) /Pandas/MyDrive/football_detection/ball.mp4: 384x640 (no detections), 29.9ms\n",
            "video 1/1 (532/848) /Pandas/MyDrive/football_detection/ball.mp4: 384x640 1 sports ball, 30.8ms\n",
            "video 1/1 (533/848) /Pandas/MyDrive/football_detection/ball.mp4: 384x640 (no detections), 30.6ms\n",
            "video 1/1 (534/848) /Pandas/MyDrive/football_detection/ball.mp4: 384x640 (no detections), 30.9ms\n",
            "video 1/1 (535/848) /Pandas/MyDrive/football_detection/ball.mp4: 384x640 (no detections), 30.2ms\n",
            "video 1/1 (536/848) /Pandas/MyDrive/football_detection/ball.mp4: 384x640 (no detections), 30.7ms\n",
            "video 1/1 (537/848) /Pandas/MyDrive/football_detection/ball.mp4: 384x640 (no detections), 30.8ms\n",
            "video 1/1 (538/848) /Pandas/MyDrive/football_detection/ball.mp4: 384x640 (no detections), 30.6ms\n",
            "video 1/1 (539/848) /Pandas/MyDrive/football_detection/ball.mp4: 384x640 (no detections), 30.4ms\n",
            "video 1/1 (540/848) /Pandas/MyDrive/football_detection/ball.mp4: 384x640 (no detections), 30.7ms\n",
            "video 1/1 (541/848) /Pandas/MyDrive/football_detection/ball.mp4: 384x640 (no detections), 30.8ms\n",
            "video 1/1 (542/848) /Pandas/MyDrive/football_detection/ball.mp4: 384x640 (no detections), 29.9ms\n",
            "video 1/1 (543/848) /Pandas/MyDrive/football_detection/ball.mp4: 384x640 (no detections), 30.6ms\n",
            "video 1/1 (544/848) /Pandas/MyDrive/football_detection/ball.mp4: 384x640 (no detections), 30.8ms\n",
            "video 1/1 (545/848) /Pandas/MyDrive/football_detection/ball.mp4: 384x640 (no detections), 33.7ms\n",
            "video 1/1 (546/848) /Pandas/MyDrive/football_detection/ball.mp4: 384x640 (no detections), 35.6ms\n",
            "video 1/1 (547/848) /Pandas/MyDrive/football_detection/ball.mp4: 384x640 (no detections), 50.6ms\n",
            "video 1/1 (548/848) /Pandas/MyDrive/football_detection/ball.mp4: 384x640 (no detections), 30.1ms\n",
            "video 1/1 (549/848) /Pandas/MyDrive/football_detection/ball.mp4: 384x640 (no detections), 30.5ms\n",
            "video 1/1 (550/848) /Pandas/MyDrive/football_detection/ball.mp4: 384x640 (no detections), 30.6ms\n",
            "video 1/1 (551/848) /Pandas/MyDrive/football_detection/ball.mp4: 384x640 1 sports ball, 30.8ms\n",
            "video 1/1 (552/848) /Pandas/MyDrive/football_detection/ball.mp4: 384x640 (no detections), 30.1ms\n",
            "video 1/1 (553/848) /Pandas/MyDrive/football_detection/ball.mp4: 384x640 (no detections), 30.4ms\n",
            "video 1/1 (554/848) /Pandas/MyDrive/football_detection/ball.mp4: 384x640 (no detections), 31.0ms\n",
            "video 1/1 (555/848) /Pandas/MyDrive/football_detection/ball.mp4: 384x640 (no detections), 30.2ms\n",
            "video 1/1 (556/848) /Pandas/MyDrive/football_detection/ball.mp4: 384x640 (no detections), 30.5ms\n",
            "video 1/1 (557/848) /Pandas/MyDrive/football_detection/ball.mp4: 384x640 (no detections), 30.8ms\n",
            "video 1/1 (558/848) /Pandas/MyDrive/football_detection/ball.mp4: 384x640 1 sports ball, 31.1ms\n",
            "video 1/1 (559/848) /Pandas/MyDrive/football_detection/ball.mp4: 384x640 (no detections), 29.7ms\n",
            "video 1/1 (560/848) /Pandas/MyDrive/football_detection/ball.mp4: 384x640 (no detections), 30.9ms\n",
            "video 1/1 (561/848) /Pandas/MyDrive/football_detection/ball.mp4: 384x640 (no detections), 30.0ms\n",
            "video 1/1 (562/848) /Pandas/MyDrive/football_detection/ball.mp4: 384x640 (no detections), 30.1ms\n",
            "video 1/1 (563/848) /Pandas/MyDrive/football_detection/ball.mp4: 384x640 (no detections), 30.7ms\n",
            "video 1/1 (564/848) /Pandas/MyDrive/football_detection/ball.mp4: 384x640 (no detections), 31.0ms\n",
            "video 1/1 (565/848) /Pandas/MyDrive/football_detection/ball.mp4: 384x640 (no detections), 30.8ms\n",
            "video 1/1 (566/848) /Pandas/MyDrive/football_detection/ball.mp4: 384x640 (no detections), 31.4ms\n",
            "video 1/1 (567/848) /Pandas/MyDrive/football_detection/ball.mp4: 384x640 1 sports ball, 30.5ms\n",
            "video 1/1 (568/848) /Pandas/MyDrive/football_detection/ball.mp4: 384x640 (no detections), 31.0ms\n",
            "video 1/1 (569/848) /Pandas/MyDrive/football_detection/ball.mp4: 384x640 1 sports ball, 30.9ms\n",
            "video 1/1 (570/848) /Pandas/MyDrive/football_detection/ball.mp4: 384x640 (no detections), 30.6ms\n",
            "video 1/1 (571/848) /Pandas/MyDrive/football_detection/ball.mp4: 384x640 (no detections), 31.0ms\n",
            "video 1/1 (572/848) /Pandas/MyDrive/football_detection/ball.mp4: 384x640 1 sports ball, 31.0ms\n",
            "video 1/1 (573/848) /Pandas/MyDrive/football_detection/ball.mp4: 384x640 (no detections), 30.6ms\n",
            "video 1/1 (574/848) /Pandas/MyDrive/football_detection/ball.mp4: 384x640 (no detections), 30.5ms\n",
            "video 1/1 (575/848) /Pandas/MyDrive/football_detection/ball.mp4: 384x640 1 sports ball, 30.6ms\n",
            "video 1/1 (576/848) /Pandas/MyDrive/football_detection/ball.mp4: 384x640 1 sports ball, 30.3ms\n",
            "video 1/1 (577/848) /Pandas/MyDrive/football_detection/ball.mp4: 384x640 2 sports balls, 30.7ms\n",
            "video 1/1 (578/848) /Pandas/MyDrive/football_detection/ball.mp4: 384x640 1 sports ball, 31.0ms\n",
            "video 1/1 (579/848) /Pandas/MyDrive/football_detection/ball.mp4: 384x640 (no detections), 30.0ms\n",
            "video 1/1 (580/848) /Pandas/MyDrive/football_detection/ball.mp4: 384x640 (no detections), 30.5ms\n",
            "video 1/1 (581/848) /Pandas/MyDrive/football_detection/ball.mp4: 384x640 1 sports ball, 30.9ms\n",
            "video 1/1 (582/848) /Pandas/MyDrive/football_detection/ball.mp4: 384x640 (no detections), 30.3ms\n",
            "video 1/1 (583/848) /Pandas/MyDrive/football_detection/ball.mp4: 384x640 1 sports ball, 29.5ms\n",
            "video 1/1 (584/848) /Pandas/MyDrive/football_detection/ball.mp4: 384x640 1 sports ball, 30.7ms\n",
            "video 1/1 (585/848) /Pandas/MyDrive/football_detection/ball.mp4: 384x640 (no detections), 31.1ms\n",
            "video 1/1 (586/848) /Pandas/MyDrive/football_detection/ball.mp4: 384x640 (no detections), 31.2ms\n",
            "video 1/1 (587/848) /Pandas/MyDrive/football_detection/ball.mp4: 384x640 1 sports ball, 31.1ms\n",
            "video 1/1 (588/848) /Pandas/MyDrive/football_detection/ball.mp4: 384x640 (no detections), 30.9ms\n",
            "video 1/1 (589/848) /Pandas/MyDrive/football_detection/ball.mp4: 384x640 (no detections), 30.6ms\n",
            "video 1/1 (590/848) /Pandas/MyDrive/football_detection/ball.mp4: 384x640 1 sports ball, 30.0ms\n",
            "video 1/1 (591/848) /Pandas/MyDrive/football_detection/ball.mp4: 384x640 1 sports ball, 30.8ms\n",
            "video 1/1 (592/848) /Pandas/MyDrive/football_detection/ball.mp4: 384x640 1 sports ball, 30.9ms\n",
            "video 1/1 (593/848) /Pandas/MyDrive/football_detection/ball.mp4: 384x640 1 sports ball, 30.4ms\n",
            "video 1/1 (594/848) /Pandas/MyDrive/football_detection/ball.mp4: 384x640 1 sports ball, 30.1ms\n",
            "video 1/1 (595/848) /Pandas/MyDrive/football_detection/ball.mp4: 384x640 1 sports ball, 31.0ms\n",
            "video 1/1 (596/848) /Pandas/MyDrive/football_detection/ball.mp4: 384x640 1 sports ball, 31.0ms\n",
            "video 1/1 (597/848) /Pandas/MyDrive/football_detection/ball.mp4: 384x640 1 sports ball, 31.0ms\n",
            "video 1/1 (598/848) /Pandas/MyDrive/football_detection/ball.mp4: 384x640 1 sports ball, 31.0ms\n",
            "video 1/1 (599/848) /Pandas/MyDrive/football_detection/ball.mp4: 384x640 1 sports ball, 30.8ms\n",
            "video 1/1 (600/848) /Pandas/MyDrive/football_detection/ball.mp4: 384x640 1 sports ball, 30.4ms\n",
            "video 1/1 (601/848) /Pandas/MyDrive/football_detection/ball.mp4: 384x640 1 sports ball, 31.1ms\n",
            "video 1/1 (602/848) /Pandas/MyDrive/football_detection/ball.mp4: 384x640 1 sports ball, 30.8ms\n",
            "video 1/1 (603/848) /Pandas/MyDrive/football_detection/ball.mp4: 384x640 1 sports ball, 31.1ms\n",
            "video 1/1 (604/848) /Pandas/MyDrive/football_detection/ball.mp4: 384x640 1 sports ball, 30.5ms\n",
            "video 1/1 (605/848) /Pandas/MyDrive/football_detection/ball.mp4: 384x640 1 sports ball, 30.7ms\n",
            "video 1/1 (606/848) /Pandas/MyDrive/football_detection/ball.mp4: 384x640 1 sports ball, 31.0ms\n",
            "video 1/1 (607/848) /Pandas/MyDrive/football_detection/ball.mp4: 384x640 1 sports ball, 30.6ms\n",
            "video 1/1 (608/848) /Pandas/MyDrive/football_detection/ball.mp4: 384x640 1 sports ball, 30.5ms\n",
            "video 1/1 (609/848) /Pandas/MyDrive/football_detection/ball.mp4: 384x640 1 sports ball, 31.2ms\n",
            "video 1/1 (610/848) /Pandas/MyDrive/football_detection/ball.mp4: 384x640 1 sports ball, 30.7ms\n",
            "video 1/1 (611/848) /Pandas/MyDrive/football_detection/ball.mp4: 384x640 1 sports ball, 30.4ms\n",
            "video 1/1 (612/848) /Pandas/MyDrive/football_detection/ball.mp4: 384x640 1 sports ball, 30.7ms\n",
            "video 1/1 (613/848) /Pandas/MyDrive/football_detection/ball.mp4: 384x640 1 sports ball, 30.9ms\n",
            "video 1/1 (614/848) /Pandas/MyDrive/football_detection/ball.mp4: 384x640 1 sports ball, 30.7ms\n",
            "video 1/1 (615/848) /Pandas/MyDrive/football_detection/ball.mp4: 384x640 1 sports ball, 30.5ms\n",
            "video 1/1 (616/848) /Pandas/MyDrive/football_detection/ball.mp4: 384x640 1 sports ball, 30.9ms\n",
            "video 1/1 (617/848) /Pandas/MyDrive/football_detection/ball.mp4: 384x640 1 sports ball, 31.0ms\n",
            "video 1/1 (618/848) /Pandas/MyDrive/football_detection/ball.mp4: 384x640 1 sports ball, 30.6ms\n",
            "video 1/1 (619/848) /Pandas/MyDrive/football_detection/ball.mp4: 384x640 1 sports ball, 30.7ms\n",
            "video 1/1 (620/848) /Pandas/MyDrive/football_detection/ball.mp4: 384x640 1 sports ball, 30.4ms\n",
            "video 1/1 (621/848) /Pandas/MyDrive/football_detection/ball.mp4: 384x640 1 sports ball, 30.4ms\n",
            "video 1/1 (622/848) /Pandas/MyDrive/football_detection/ball.mp4: 384x640 (no detections), 31.0ms\n",
            "video 1/1 (623/848) /Pandas/MyDrive/football_detection/ball.mp4: 384x640 (no detections), 30.8ms\n",
            "video 1/1 (624/848) /Pandas/MyDrive/football_detection/ball.mp4: 384x640 (no detections), 30.5ms\n",
            "video 1/1 (625/848) /Pandas/MyDrive/football_detection/ball.mp4: 384x640 (no detections), 30.8ms\n",
            "video 1/1 (626/848) /Pandas/MyDrive/football_detection/ball.mp4: 384x640 (no detections), 30.6ms\n",
            "video 1/1 (627/848) /Pandas/MyDrive/football_detection/ball.mp4: 384x640 (no detections), 31.0ms\n",
            "video 1/1 (628/848) /Pandas/MyDrive/football_detection/ball.mp4: 384x640 (no detections), 30.5ms\n",
            "video 1/1 (629/848) /Pandas/MyDrive/football_detection/ball.mp4: 384x640 (no detections), 31.0ms\n",
            "video 1/1 (630/848) /Pandas/MyDrive/football_detection/ball.mp4: 384x640 (no detections), 31.3ms\n",
            "video 1/1 (631/848) /Pandas/MyDrive/football_detection/ball.mp4: 384x640 (no detections), 31.6ms\n",
            "video 1/1 (632/848) /Pandas/MyDrive/football_detection/ball.mp4: 384x640 (no detections), 31.3ms\n",
            "video 1/1 (633/848) /Pandas/MyDrive/football_detection/ball.mp4: 384x640 (no detections), 30.9ms\n",
            "video 1/1 (634/848) /Pandas/MyDrive/football_detection/ball.mp4: 384x640 (no detections), 30.9ms\n",
            "video 1/1 (635/848) /Pandas/MyDrive/football_detection/ball.mp4: 384x640 (no detections), 30.6ms\n",
            "video 1/1 (636/848) /Pandas/MyDrive/football_detection/ball.mp4: 384x640 (no detections), 30.4ms\n",
            "video 1/1 (637/848) /Pandas/MyDrive/football_detection/ball.mp4: 384x640 (no detections), 30.2ms\n",
            "video 1/1 (638/848) /Pandas/MyDrive/football_detection/ball.mp4: 384x640 (no detections), 30.6ms\n",
            "video 1/1 (639/848) /Pandas/MyDrive/football_detection/ball.mp4: 384x640 (no detections), 30.0ms\n",
            "video 1/1 (640/848) /Pandas/MyDrive/football_detection/ball.mp4: 384x640 1 sports ball, 31.0ms\n",
            "video 1/1 (641/848) /Pandas/MyDrive/football_detection/ball.mp4: 384x640 1 sports ball, 30.3ms\n",
            "video 1/1 (642/848) /Pandas/MyDrive/football_detection/ball.mp4: 384x640 (no detections), 30.7ms\n",
            "video 1/1 (643/848) /Pandas/MyDrive/football_detection/ball.mp4: 384x640 (no detections), 30.3ms\n",
            "video 1/1 (644/848) /Pandas/MyDrive/football_detection/ball.mp4: 384x640 (no detections), 29.4ms\n",
            "video 1/1 (645/848) /Pandas/MyDrive/football_detection/ball.mp4: 384x640 (no detections), 30.3ms\n",
            "video 1/1 (646/848) /Pandas/MyDrive/football_detection/ball.mp4: 384x640 (no detections), 30.4ms\n",
            "video 1/1 (647/848) /Pandas/MyDrive/football_detection/ball.mp4: 384x640 1 sports ball, 29.6ms\n",
            "video 1/1 (648/848) /Pandas/MyDrive/football_detection/ball.mp4: 384x640 (no detections), 29.3ms\n",
            "video 1/1 (649/848) /Pandas/MyDrive/football_detection/ball.mp4: 384x640 1 sports ball, 30.3ms\n",
            "video 1/1 (650/848) /Pandas/MyDrive/football_detection/ball.mp4: 384x640 1 sports ball, 30.3ms\n",
            "video 1/1 (651/848) /Pandas/MyDrive/football_detection/ball.mp4: 384x640 (no detections), 31.5ms\n",
            "video 1/1 (652/848) /Pandas/MyDrive/football_detection/ball.mp4: 384x640 1 sports ball, 29.4ms\n",
            "video 1/1 (653/848) /Pandas/MyDrive/football_detection/ball.mp4: 384x640 1 sports ball, 30.3ms\n",
            "video 1/1 (654/848) /Pandas/MyDrive/football_detection/ball.mp4: 384x640 1 sports ball, 29.3ms\n",
            "video 1/1 (655/848) /Pandas/MyDrive/football_detection/ball.mp4: 384x640 1 sports ball, 29.4ms\n",
            "video 1/1 (656/848) /Pandas/MyDrive/football_detection/ball.mp4: 384x640 1 sports ball, 29.4ms\n",
            "video 1/1 (657/848) /Pandas/MyDrive/football_detection/ball.mp4: 384x640 (no detections), 29.4ms\n",
            "video 1/1 (658/848) /Pandas/MyDrive/football_detection/ball.mp4: 384x640 (no detections), 30.1ms\n",
            "video 1/1 (659/848) /Pandas/MyDrive/football_detection/ball.mp4: 384x640 (no detections), 34.9ms\n",
            "video 1/1 (660/848) /Pandas/MyDrive/football_detection/ball.mp4: 384x640 (no detections), 34.8ms\n",
            "video 1/1 (661/848) /Pandas/MyDrive/football_detection/ball.mp4: 384x640 (no detections), 35.4ms\n",
            "video 1/1 (662/848) /Pandas/MyDrive/football_detection/ball.mp4: 384x640 1 sports ball, 35.4ms\n",
            "video 1/1 (663/848) /Pandas/MyDrive/football_detection/ball.mp4: 384x640 1 sports ball, 36.0ms\n",
            "video 1/1 (664/848) /Pandas/MyDrive/football_detection/ball.mp4: 384x640 1 sports ball, 35.9ms\n",
            "video 1/1 (665/848) /Pandas/MyDrive/football_detection/ball.mp4: 384x640 (no detections), 36.1ms\n",
            "video 1/1 (666/848) /Pandas/MyDrive/football_detection/ball.mp4: 384x640 (no detections), 35.4ms\n",
            "video 1/1 (667/848) /Pandas/MyDrive/football_detection/ball.mp4: 384x640 (no detections), 36.7ms\n",
            "video 1/1 (668/848) /Pandas/MyDrive/football_detection/ball.mp4: 384x640 (no detections), 35.8ms\n",
            "video 1/1 (669/848) /Pandas/MyDrive/football_detection/ball.mp4: 384x640 (no detections), 36.8ms\n",
            "video 1/1 (670/848) /Pandas/MyDrive/football_detection/ball.mp4: 384x640 (no detections), 36.1ms\n",
            "video 1/1 (671/848) /Pandas/MyDrive/football_detection/ball.mp4: 384x640 (no detections), 36.1ms\n",
            "video 1/1 (672/848) /Pandas/MyDrive/football_detection/ball.mp4: 384x640 (no detections), 36.2ms\n",
            "video 1/1 (673/848) /Pandas/MyDrive/football_detection/ball.mp4: 384x640 (no detections), 36.2ms\n",
            "video 1/1 (674/848) /Pandas/MyDrive/football_detection/ball.mp4: 384x640 (no detections), 38.1ms\n",
            "video 1/1 (675/848) /Pandas/MyDrive/football_detection/ball.mp4: 384x640 (no detections), 36.1ms\n",
            "video 1/1 (676/848) /Pandas/MyDrive/football_detection/ball.mp4: 384x640 (no detections), 34.3ms\n",
            "video 1/1 (677/848) /Pandas/MyDrive/football_detection/ball.mp4: 384x640 (no detections), 34.2ms\n",
            "video 1/1 (678/848) /Pandas/MyDrive/football_detection/ball.mp4: 384x640 (no detections), 33.7ms\n",
            "video 1/1 (679/848) /Pandas/MyDrive/football_detection/ball.mp4: 384x640 (no detections), 34.2ms\n",
            "video 1/1 (680/848) /Pandas/MyDrive/football_detection/ball.mp4: 384x640 (no detections), 33.6ms\n",
            "video 1/1 (681/848) /Pandas/MyDrive/football_detection/ball.mp4: 384x640 (no detections), 34.3ms\n",
            "video 1/1 (682/848) /Pandas/MyDrive/football_detection/ball.mp4: 384x640 (no detections), 34.2ms\n",
            "video 1/1 (683/848) /Pandas/MyDrive/football_detection/ball.mp4: 384x640 (no detections), 33.8ms\n",
            "video 1/1 (684/848) /Pandas/MyDrive/football_detection/ball.mp4: 384x640 (no detections), 34.0ms\n",
            "video 1/1 (685/848) /Pandas/MyDrive/football_detection/ball.mp4: 384x640 (no detections), 33.8ms\n",
            "video 1/1 (686/848) /Pandas/MyDrive/football_detection/ball.mp4: 384x640 (no detections), 33.2ms\n",
            "video 1/1 (687/848) /Pandas/MyDrive/football_detection/ball.mp4: 384x640 (no detections), 33.7ms\n",
            "video 1/1 (688/848) /Pandas/MyDrive/football_detection/ball.mp4: 384x640 (no detections), 33.7ms\n",
            "video 1/1 (689/848) /Pandas/MyDrive/football_detection/ball.mp4: 384x640 (no detections), 33.6ms\n",
            "video 1/1 (690/848) /Pandas/MyDrive/football_detection/ball.mp4: 384x640 (no detections), 33.8ms\n",
            "video 1/1 (691/848) /Pandas/MyDrive/football_detection/ball.mp4: 384x640 (no detections), 34.0ms\n",
            "video 1/1 (692/848) /Pandas/MyDrive/football_detection/ball.mp4: 384x640 (no detections), 33.7ms\n",
            "video 1/1 (693/848) /Pandas/MyDrive/football_detection/ball.mp4: 384x640 (no detections), 33.7ms\n",
            "video 1/1 (694/848) /Pandas/MyDrive/football_detection/ball.mp4: 384x640 (no detections), 32.9ms\n",
            "video 1/1 (695/848) /Pandas/MyDrive/football_detection/ball.mp4: 384x640 (no detections), 33.9ms\n",
            "video 1/1 (696/848) /Pandas/MyDrive/football_detection/ball.mp4: 384x640 (no detections), 33.7ms\n",
            "video 1/1 (697/848) /Pandas/MyDrive/football_detection/ball.mp4: 384x640 (no detections), 33.2ms\n",
            "video 1/1 (698/848) /Pandas/MyDrive/football_detection/ball.mp4: 384x640 (no detections), 33.7ms\n",
            "video 1/1 (699/848) /Pandas/MyDrive/football_detection/ball.mp4: 384x640 (no detections), 33.8ms\n",
            "video 1/1 (700/848) /Pandas/MyDrive/football_detection/ball.mp4: 384x640 (no detections), 33.7ms\n",
            "video 1/1 (701/848) /Pandas/MyDrive/football_detection/ball.mp4: 384x640 (no detections), 33.9ms\n",
            "video 1/1 (702/848) /Pandas/MyDrive/football_detection/ball.mp4: 384x640 1 sports ball, 33.6ms\n",
            "video 1/1 (703/848) /Pandas/MyDrive/football_detection/ball.mp4: 384x640 1 sports ball, 33.8ms\n",
            "video 1/1 (704/848) /Pandas/MyDrive/football_detection/ball.mp4: 384x640 (no detections), 33.7ms\n",
            "video 1/1 (705/848) /Pandas/MyDrive/football_detection/ball.mp4: 384x640 1 sports ball, 35.8ms\n",
            "video 1/1 (706/848) /Pandas/MyDrive/football_detection/ball.mp4: 384x640 1 sports ball, 33.7ms\n",
            "video 1/1 (707/848) /Pandas/MyDrive/football_detection/ball.mp4: 384x640 1 sports ball, 32.9ms\n",
            "video 1/1 (708/848) /Pandas/MyDrive/football_detection/ball.mp4: 384x640 1 sports ball, 34.0ms\n",
            "video 1/1 (709/848) /Pandas/MyDrive/football_detection/ball.mp4: 384x640 (no detections), 31.3ms\n",
            "video 1/1 (710/848) /Pandas/MyDrive/football_detection/ball.mp4: 384x640 1 sports ball, 31.2ms\n",
            "video 1/1 (711/848) /Pandas/MyDrive/football_detection/ball.mp4: 384x640 1 sports ball, 31.5ms\n",
            "video 1/1 (712/848) /Pandas/MyDrive/football_detection/ball.mp4: 384x640 1 sports ball, 31.4ms\n",
            "video 1/1 (713/848) /Pandas/MyDrive/football_detection/ball.mp4: 384x640 (no detections), 31.6ms\n",
            "video 1/1 (714/848) /Pandas/MyDrive/football_detection/ball.mp4: 384x640 (no detections), 34.7ms\n",
            "video 1/1 (715/848) /Pandas/MyDrive/football_detection/ball.mp4: 384x640 (no detections), 31.0ms\n",
            "video 1/1 (716/848) /Pandas/MyDrive/football_detection/ball.mp4: 384x640 1 sports ball, 31.4ms\n",
            "video 1/1 (717/848) /Pandas/MyDrive/football_detection/ball.mp4: 384x640 1 sports ball, 31.6ms\n",
            "video 1/1 (718/848) /Pandas/MyDrive/football_detection/ball.mp4: 384x640 1 sports ball, 31.3ms\n",
            "video 1/1 (719/848) /Pandas/MyDrive/football_detection/ball.mp4: 384x640 1 sports ball, 31.4ms\n",
            "video 1/1 (720/848) /Pandas/MyDrive/football_detection/ball.mp4: 384x640 1 sports ball, 31.3ms\n",
            "video 1/1 (721/848) /Pandas/MyDrive/football_detection/ball.mp4: 384x640 1 sports ball, 31.1ms\n",
            "video 1/1 (722/848) /Pandas/MyDrive/football_detection/ball.mp4: 384x640 (no detections), 31.6ms\n",
            "video 1/1 (723/848) /Pandas/MyDrive/football_detection/ball.mp4: 384x640 1 sports ball, 30.5ms\n",
            "video 1/1 (724/848) /Pandas/MyDrive/football_detection/ball.mp4: 384x640 1 sports ball, 30.6ms\n",
            "video 1/1 (725/848) /Pandas/MyDrive/football_detection/ball.mp4: 384x640 1 sports ball, 31.1ms\n",
            "video 1/1 (726/848) /Pandas/MyDrive/football_detection/ball.mp4: 384x640 1 sports ball, 30.5ms\n",
            "video 1/1 (727/848) /Pandas/MyDrive/football_detection/ball.mp4: 384x640 1 sports ball, 31.1ms\n",
            "video 1/1 (728/848) /Pandas/MyDrive/football_detection/ball.mp4: 384x640 1 sports ball, 30.1ms\n",
            "video 1/1 (729/848) /Pandas/MyDrive/football_detection/ball.mp4: 384x640 (no detections), 30.8ms\n",
            "video 1/1 (730/848) /Pandas/MyDrive/football_detection/ball.mp4: 384x640 1 sports ball, 31.0ms\n",
            "video 1/1 (731/848) /Pandas/MyDrive/football_detection/ball.mp4: 384x640 1 sports ball, 30.4ms\n",
            "video 1/1 (732/848) /Pandas/MyDrive/football_detection/ball.mp4: 384x640 (no detections), 30.0ms\n",
            "video 1/1 (733/848) /Pandas/MyDrive/football_detection/ball.mp4: 384x640 (no detections), 30.7ms\n",
            "video 1/1 (734/848) /Pandas/MyDrive/football_detection/ball.mp4: 384x640 1 sports ball, 31.1ms\n",
            "video 1/1 (735/848) /Pandas/MyDrive/football_detection/ball.mp4: 384x640 1 sports ball, 31.0ms\n",
            "video 1/1 (736/848) /Pandas/MyDrive/football_detection/ball.mp4: 384x640 (no detections), 30.9ms\n",
            "video 1/1 (737/848) /Pandas/MyDrive/football_detection/ball.mp4: 384x640 (no detections), 31.1ms\n",
            "video 1/1 (738/848) /Pandas/MyDrive/football_detection/ball.mp4: 384x640 1 sports ball, 30.6ms\n",
            "video 1/1 (739/848) /Pandas/MyDrive/football_detection/ball.mp4: 384x640 1 sports ball, 30.4ms\n",
            "video 1/1 (740/848) /Pandas/MyDrive/football_detection/ball.mp4: 384x640 1 sports ball, 31.5ms\n",
            "video 1/1 (741/848) /Pandas/MyDrive/football_detection/ball.mp4: 384x640 1 sports ball, 30.5ms\n",
            "video 1/1 (742/848) /Pandas/MyDrive/football_detection/ball.mp4: 384x640 1 sports ball, 30.5ms\n",
            "video 1/1 (743/848) /Pandas/MyDrive/football_detection/ball.mp4: 384x640 1 sports ball, 30.3ms\n",
            "video 1/1 (744/848) /Pandas/MyDrive/football_detection/ball.mp4: 384x640 1 sports ball, 31.4ms\n",
            "video 1/1 (745/848) /Pandas/MyDrive/football_detection/ball.mp4: 384x640 2 sports balls, 31.5ms\n",
            "video 1/1 (746/848) /Pandas/MyDrive/football_detection/ball.mp4: 384x640 2 sports balls, 31.0ms\n",
            "video 1/1 (747/848) /Pandas/MyDrive/football_detection/ball.mp4: 384x640 2 sports balls, 31.7ms\n",
            "video 1/1 (748/848) /Pandas/MyDrive/football_detection/ball.mp4: 384x640 2 sports balls, 31.2ms\n",
            "video 1/1 (749/848) /Pandas/MyDrive/football_detection/ball.mp4: 384x640 2 sports balls, 31.7ms\n",
            "video 1/1 (750/848) /Pandas/MyDrive/football_detection/ball.mp4: 384x640 1 sports ball, 31.2ms\n",
            "video 1/1 (751/848) /Pandas/MyDrive/football_detection/ball.mp4: 384x640 2 sports balls, 31.8ms\n",
            "video 1/1 (752/848) /Pandas/MyDrive/football_detection/ball.mp4: 384x640 2 sports balls, 30.2ms\n",
            "video 1/1 (753/848) /Pandas/MyDrive/football_detection/ball.mp4: 384x640 2 sports balls, 30.8ms\n",
            "video 1/1 (754/848) /Pandas/MyDrive/football_detection/ball.mp4: 384x640 2 sports balls, 31.0ms\n",
            "video 1/1 (755/848) /Pandas/MyDrive/football_detection/ball.mp4: 384x640 3 sports balls, 30.5ms\n",
            "video 1/1 (756/848) /Pandas/MyDrive/football_detection/ball.mp4: 384x640 2 sports balls, 31.1ms\n",
            "video 1/1 (757/848) /Pandas/MyDrive/football_detection/ball.mp4: 384x640 2 sports balls, 30.4ms\n",
            "video 1/1 (758/848) /Pandas/MyDrive/football_detection/ball.mp4: 384x640 2 sports balls, 30.8ms\n",
            "video 1/1 (759/848) /Pandas/MyDrive/football_detection/ball.mp4: 384x640 2 sports balls, 30.3ms\n",
            "video 1/1 (760/848) /Pandas/MyDrive/football_detection/ball.mp4: 384x640 2 sports balls, 31.2ms\n",
            "video 1/1 (761/848) /Pandas/MyDrive/football_detection/ball.mp4: 384x640 2 sports balls, 30.6ms\n",
            "video 1/1 (762/848) /Pandas/MyDrive/football_detection/ball.mp4: 384x640 2 sports balls, 30.3ms\n",
            "video 1/1 (763/848) /Pandas/MyDrive/football_detection/ball.mp4: 384x640 1 sports ball, 31.2ms\n",
            "video 1/1 (764/848) /Pandas/MyDrive/football_detection/ball.mp4: 384x640 2 sports balls, 29.9ms\n",
            "video 1/1 (765/848) /Pandas/MyDrive/football_detection/ball.mp4: 384x640 2 sports balls, 30.6ms\n",
            "video 1/1 (766/848) /Pandas/MyDrive/football_detection/ball.mp4: 384x640 2 sports balls, 31.1ms\n",
            "video 1/1 (767/848) /Pandas/MyDrive/football_detection/ball.mp4: 384x640 2 sports balls, 30.6ms\n",
            "video 1/1 (768/848) /Pandas/MyDrive/football_detection/ball.mp4: 384x640 2 sports balls, 31.2ms\n",
            "video 1/1 (769/848) /Pandas/MyDrive/football_detection/ball.mp4: 384x640 1 sports ball, 29.9ms\n",
            "video 1/1 (770/848) /Pandas/MyDrive/football_detection/ball.mp4: 384x640 2 sports balls, 31.3ms\n",
            "video 1/1 (771/848) /Pandas/MyDrive/football_detection/ball.mp4: 384x640 1 sports ball, 30.5ms\n",
            "video 1/1 (772/848) /Pandas/MyDrive/football_detection/ball.mp4: 384x640 2 sports balls, 30.5ms\n",
            "video 1/1 (773/848) /Pandas/MyDrive/football_detection/ball.mp4: 384x640 (no detections), 32.3ms\n",
            "video 1/1 (774/848) /Pandas/MyDrive/football_detection/ball.mp4: 384x640 1 sports ball, 31.5ms\n",
            "video 1/1 (775/848) /Pandas/MyDrive/football_detection/ball.mp4: 384x640 (no detections), 31.9ms\n",
            "video 1/1 (776/848) /Pandas/MyDrive/football_detection/ball.mp4: 384x640 (no detections), 32.8ms\n",
            "video 1/1 (777/848) /Pandas/MyDrive/football_detection/ball.mp4: 384x640 (no detections), 32.3ms\n",
            "video 1/1 (778/848) /Pandas/MyDrive/football_detection/ball.mp4: 384x640 (no detections), 32.1ms\n",
            "video 1/1 (779/848) /Pandas/MyDrive/football_detection/ball.mp4: 384x640 (no detections), 31.8ms\n",
            "video 1/1 (780/848) /Pandas/MyDrive/football_detection/ball.mp4: 384x640 (no detections), 32.2ms\n",
            "video 1/1 (781/848) /Pandas/MyDrive/football_detection/ball.mp4: 384x640 (no detections), 30.5ms\n",
            "video 1/1 (782/848) /Pandas/MyDrive/football_detection/ball.mp4: 384x640 (no detections), 29.5ms\n",
            "video 1/1 (783/848) /Pandas/MyDrive/football_detection/ball.mp4: 384x640 (no detections), 31.1ms\n",
            "video 1/1 (784/848) /Pandas/MyDrive/football_detection/ball.mp4: 384x640 (no detections), 30.1ms\n",
            "video 1/1 (785/848) /Pandas/MyDrive/football_detection/ball.mp4: 384x640 (no detections), 30.5ms\n",
            "video 1/1 (786/848) /Pandas/MyDrive/football_detection/ball.mp4: 384x640 (no detections), 31.3ms\n",
            "video 1/1 (787/848) /Pandas/MyDrive/football_detection/ball.mp4: 384x640 1 sports ball, 30.7ms\n",
            "video 1/1 (788/848) /Pandas/MyDrive/football_detection/ball.mp4: 384x640 1 sports ball, 30.6ms\n",
            "video 1/1 (789/848) /Pandas/MyDrive/football_detection/ball.mp4: 384x640 (no detections), 30.3ms\n",
            "video 1/1 (790/848) /Pandas/MyDrive/football_detection/ball.mp4: 384x640 (no detections), 30.9ms\n",
            "video 1/1 (791/848) /Pandas/MyDrive/football_detection/ball.mp4: 384x640 (no detections), 30.2ms\n",
            "video 1/1 (792/848) /Pandas/MyDrive/football_detection/ball.mp4: 384x640 (no detections), 30.9ms\n",
            "video 1/1 (793/848) /Pandas/MyDrive/football_detection/ball.mp4: 384x640 (no detections), 30.4ms\n",
            "video 1/1 (794/848) /Pandas/MyDrive/football_detection/ball.mp4: 384x640 (no detections), 30.9ms\n",
            "video 1/1 (795/848) /Pandas/MyDrive/football_detection/ball.mp4: 384x640 (no detections), 30.6ms\n",
            "video 1/1 (796/848) /Pandas/MyDrive/football_detection/ball.mp4: 384x640 (no detections), 31.5ms\n",
            "video 1/1 (797/848) /Pandas/MyDrive/football_detection/ball.mp4: 384x640 (no detections), 30.7ms\n",
            "video 1/1 (798/848) /Pandas/MyDrive/football_detection/ball.mp4: 384x640 (no detections), 31.9ms\n",
            "video 1/1 (799/848) /Pandas/MyDrive/football_detection/ball.mp4: 384x640 (no detections), 31.5ms\n",
            "video 1/1 (800/848) /Pandas/MyDrive/football_detection/ball.mp4: 384x640 (no detections), 31.9ms\n",
            "video 1/1 (801/848) /Pandas/MyDrive/football_detection/ball.mp4: 384x640 (no detections), 30.8ms\n",
            "video 1/1 (802/848) /Pandas/MyDrive/football_detection/ball.mp4: 384x640 (no detections), 30.8ms\n",
            "video 1/1 (803/848) /Pandas/MyDrive/football_detection/ball.mp4: 384x640 (no detections), 30.8ms\n",
            "video 1/1 (804/848) /Pandas/MyDrive/football_detection/ball.mp4: 384x640 (no detections), 30.7ms\n",
            "video 1/1 (805/848) /Pandas/MyDrive/football_detection/ball.mp4: 384x640 (no detections), 30.9ms\n",
            "video 1/1 (806/848) /Pandas/MyDrive/football_detection/ball.mp4: 384x640 (no detections), 30.7ms\n",
            "video 1/1 (807/848) /Pandas/MyDrive/football_detection/ball.mp4: 384x640 (no detections), 30.9ms\n",
            "video 1/1 (808/848) /Pandas/MyDrive/football_detection/ball.mp4: 384x640 (no detections), 30.8ms\n",
            "video 1/1 (809/848) /Pandas/MyDrive/football_detection/ball.mp4: 384x640 (no detections), 31.0ms\n",
            "video 1/1 (810/848) /Pandas/MyDrive/football_detection/ball.mp4: 384x640 (no detections), 31.0ms\n",
            "video 1/1 (811/848) /Pandas/MyDrive/football_detection/ball.mp4: 384x640 (no detections), 31.4ms\n",
            "video 1/1 (812/848) /Pandas/MyDrive/football_detection/ball.mp4: 384x640 (no detections), 31.3ms\n",
            "video 1/1 (813/848) /Pandas/MyDrive/football_detection/ball.mp4: 384x640 (no detections), 32.1ms\n",
            "video 1/1 (814/848) /Pandas/MyDrive/football_detection/ball.mp4: 384x640 (no detections), 31.6ms\n",
            "video 1/1 (815/848) /Pandas/MyDrive/football_detection/ball.mp4: 384x640 (no detections), 31.6ms\n",
            "video 1/1 (816/848) /Pandas/MyDrive/football_detection/ball.mp4: 384x640 (no detections), 31.7ms\n",
            "video 1/1 (817/848) /Pandas/MyDrive/football_detection/ball.mp4: 384x640 (no detections), 32.0ms\n",
            "video 1/1 (818/848) /Pandas/MyDrive/football_detection/ball.mp4: 384x640 (no detections), 32.0ms\n",
            "video 1/1 (819/848) /Pandas/MyDrive/football_detection/ball.mp4: 384x640 (no detections), 31.7ms\n",
            "video 1/1 (820/848) /Pandas/MyDrive/football_detection/ball.mp4: 384x640 (no detections), 31.9ms\n",
            "video 1/1 (821/848) /Pandas/MyDrive/football_detection/ball.mp4: 384x640 (no detections), 31.3ms\n",
            "video 1/1 (822/848) /Pandas/MyDrive/football_detection/ball.mp4: 384x640 (no detections), 31.3ms\n",
            "video 1/1 (823/848) /Pandas/MyDrive/football_detection/ball.mp4: 384x640 (no detections), 31.3ms\n",
            "video 1/1 (824/848) /Pandas/MyDrive/football_detection/ball.mp4: 384x640 (no detections), 30.7ms\n",
            "video 1/1 (825/848) /Pandas/MyDrive/football_detection/ball.mp4: 384x640 (no detections), 31.0ms\n",
            "video 1/1 (826/848) /Pandas/MyDrive/football_detection/ball.mp4: 384x640 (no detections), 30.9ms\n",
            "video 1/1 (827/848) /Pandas/MyDrive/football_detection/ball.mp4: 384x640 (no detections), 31.0ms\n",
            "video 1/1 (828/848) /Pandas/MyDrive/football_detection/ball.mp4: 384x640 (no detections), 31.1ms\n",
            "video 1/1 (829/848) /Pandas/MyDrive/football_detection/ball.mp4: 384x640 (no detections), 30.7ms\n",
            "video 1/1 (830/848) /Pandas/MyDrive/football_detection/ball.mp4: 384x640 (no detections), 30.3ms\n",
            "video 1/1 (831/848) /Pandas/MyDrive/football_detection/ball.mp4: 384x640 (no detections), 31.4ms\n",
            "video 1/1 (832/848) /Pandas/MyDrive/football_detection/ball.mp4: 384x640 (no detections), 31.1ms\n",
            "video 1/1 (833/848) /Pandas/MyDrive/football_detection/ball.mp4: 384x640 (no detections), 32.0ms\n",
            "video 1/1 (834/848) /Pandas/MyDrive/football_detection/ball.mp4: 384x640 (no detections), 31.5ms\n",
            "video 1/1 (835/848) /Pandas/MyDrive/football_detection/ball.mp4: 384x640 (no detections), 31.7ms\n",
            "video 1/1 (836/848) /Pandas/MyDrive/football_detection/ball.mp4: 384x640 (no detections), 31.7ms\n",
            "video 1/1 (837/848) /Pandas/MyDrive/football_detection/ball.mp4: 384x640 (no detections), 31.9ms\n",
            "video 1/1 (838/848) /Pandas/MyDrive/football_detection/ball.mp4: 384x640 (no detections), 32.0ms\n",
            "video 1/1 (839/848) /Pandas/MyDrive/football_detection/ball.mp4: 384x640 (no detections), 31.0ms\n",
            "video 1/1 (840/848) /Pandas/MyDrive/football_detection/ball.mp4: 384x640 (no detections), 31.5ms\n",
            "video 1/1 (841/848) /Pandas/MyDrive/football_detection/ball.mp4: 384x640 (no detections), 30.7ms\n",
            "video 1/1 (842/848) /Pandas/MyDrive/football_detection/ball.mp4: 384x640 (no detections), 31.0ms\n",
            "video 1/1 (843/848) /Pandas/MyDrive/football_detection/ball.mp4: 384x640 (no detections), 31.5ms\n",
            "video 1/1 (844/848) /Pandas/MyDrive/football_detection/ball.mp4: 384x640 (no detections), 31.6ms\n",
            "video 1/1 (845/848) /Pandas/MyDrive/football_detection/ball.mp4: 384x640 (no detections), 31.6ms\n",
            "video 1/1 (846/848) /Pandas/MyDrive/football_detection/ball.mp4: 384x640 (no detections), 31.5ms\n",
            "video 1/1 (847/848) /Pandas/MyDrive/football_detection/ball.mp4: 384x640 (no detections), 31.3ms\n",
            "video 1/1 (848/848) /Pandas/MyDrive/football_detection/ball.mp4: 384x640 (no detections), 31.0ms\n",
            "Speed: 2.2ms preprocess, 32.5ms inference, 1.8ms postprocess per image at shape (1, 3, 384, 640)\n",
            "Results saved to \u001b[1mruns/detect/predict\u001b[0m\n",
            "💡 Learn more at https://docs.ultralytics.com/modes/predict\n"
          ]
        }
      ]
    },
    {
      "cell_type": "code",
      "source": [],
      "metadata": {
        "id": "4l2bjiYQT83l"
      },
      "execution_count": null,
      "outputs": []
    },
    {
      "cell_type": "code",
      "source": [],
      "metadata": {
        "id": "IugE3B5eT88k"
      },
      "execution_count": null,
      "outputs": []
    },
    {
      "cell_type": "code",
      "source": [],
      "metadata": {
        "id": "twoAXRthT9Bz"
      },
      "execution_count": null,
      "outputs": []
    },
    {
      "cell_type": "code",
      "source": [],
      "metadata": {
        "id": "u5TYW2-eT9FU"
      },
      "execution_count": null,
      "outputs": []
    },
    {
      "cell_type": "code",
      "source": [],
      "metadata": {
        "id": "DnbOSYYO5Ube"
      },
      "execution_count": null,
      "outputs": []
    },
    {
      "cell_type": "code",
      "source": [],
      "metadata": {
        "id": "Byt7WXEs5Ues"
      },
      "execution_count": null,
      "outputs": []
    },
    {
      "cell_type": "code",
      "source": [],
      "metadata": {
        "id": "-TqLgV195Uh9"
      },
      "execution_count": null,
      "outputs": []
    },
    {
      "cell_type": "code",
      "source": [],
      "metadata": {
        "id": "wSu5IVPV4yCc"
      },
      "execution_count": null,
      "outputs": []
    }
  ]
}